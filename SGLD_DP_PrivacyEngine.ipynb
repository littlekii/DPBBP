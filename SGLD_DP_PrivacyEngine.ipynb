{
  "nbformat": 4,
  "nbformat_minor": 0,
  "metadata": {
    "accelerator": "GPU",
    "colab": {
      "name": "SGLD_DP_PrivacyEngine.ipynb",
      "provenance": [],
      "collapsed_sections": [],
      "toc_visible": true,
      "include_colab_link": true
    },
    "kernelspec": {
      "display_name": "Python 3",
      "name": "python3"
    }
  },
  "cells": [
    {
      "cell_type": "markdown",
      "metadata": {
        "id": "view-in-github",
        "colab_type": "text"
      },
      "source": [
        "<a href=\"https://colab.research.google.com/github/littlekii/DPBBP/blob/main/SGLD_DP_PrivacyEngine.ipynb\" target=\"_parent\"><img src=\"https://colab.research.google.com/assets/colab-badge.svg\" alt=\"Open In Colab\"/></a>"
      ]
    },
    {
      "cell_type": "code",
      "metadata": {
        "colab": {
          "base_uri": "https://localhost:8080/"
        },
        "id": "MYz1GdMWxUOA",
        "outputId": "7f5c06c5-447f-407e-cf3b-850bfa0fd721"
      },
      "source": [
        "!git clone https://github.com/JavierAntoran/Bayesian-Neural-Networks.git\n",
        "!git clone https://github.com/knamdar/data.git"
      ],
      "execution_count": null,
      "outputs": [
        {
          "output_type": "stream",
          "text": [
            "Cloning into 'Bayesian-Neural-Networks'...\n",
            "remote: Enumerating objects: 369, done.\u001b[K\n",
            "remote: Total 369 (delta 0), reused 0 (delta 0), pack-reused 369\u001b[K\n",
            "Receiving objects: 100% (369/369), 15.98 MiB | 5.03 MiB/s, done.\n",
            "Resolving deltas: 100% (191/191), done.\n",
            "Cloning into 'data'...\n",
            "remote: Enumerating objects: 16, done.\u001b[K\n",
            "remote: Counting objects: 100% (16/16), done.\u001b[K\n",
            "remote: Compressing objects: 100% (14/14), done.\u001b[K\n",
            "remote: Total 16 (delta 2), reused 16 (delta 2), pack-reused 0\u001b[K\n",
            "Unpacking objects: 100% (16/16), done.\n"
          ],
          "name": "stdout"
        }
      ]
    },
    {
      "cell_type": "code",
      "metadata": {
        "id": "VvU02KZBy0eg",
        "colab": {
          "base_uri": "https://localhost:8080/"
        },
        "outputId": "9e5e9ee5-8830-4813-8aff-dc8b4ecf52da"
      },
      "source": [
        "!pip install opacus==0.13"
      ],
      "execution_count": null,
      "outputs": [
        {
          "output_type": "stream",
          "text": [
            "Collecting opacus==0.13\n",
            "\u001b[?25l  Downloading https://files.pythonhosted.org/packages/68/c4/36f07b54413e607f07858d5b668379991948f0de9979185a895fee9c2208/opacus-0.13.0-py3-none-any.whl (102kB)\n",
            "\u001b[K     |████████████████████████████████| 102kB 4.3MB/s \n",
            "\u001b[?25hCollecting requests>=2.25.1\n",
            "\u001b[?25l  Downloading https://files.pythonhosted.org/packages/29/c1/24814557f1d22c56d50280771a17307e6bf87b70727d975fd6b2ce6b014a/requests-2.25.1-py2.py3-none-any.whl (61kB)\n",
            "\u001b[K     |████████████████████████████████| 61kB 9.5MB/s \n",
            "\u001b[?25hRequirement already satisfied: tqdm>=4.40 in /usr/local/lib/python3.7/dist-packages (from opacus==0.13) (4.41.1)\n",
            "Requirement already satisfied: torch>=1.3 in /usr/local/lib/python3.7/dist-packages (from opacus==0.13) (1.9.0+cu102)\n",
            "Requirement already satisfied: torchvision>=0.9 in /usr/local/lib/python3.7/dist-packages (from opacus==0.13) (0.10.0+cu102)\n",
            "Requirement already satisfied: numpy>=1.15 in /usr/local/lib/python3.7/dist-packages (from opacus==0.13) (1.19.5)\n",
            "Requirement already satisfied: scipy>=1.2 in /usr/local/lib/python3.7/dist-packages (from opacus==0.13) (1.4.1)\n",
            "Requirement already satisfied: idna<3,>=2.5 in /usr/local/lib/python3.7/dist-packages (from requests>=2.25.1->opacus==0.13) (2.10)\n",
            "Requirement already satisfied: certifi>=2017.4.17 in /usr/local/lib/python3.7/dist-packages (from requests>=2.25.1->opacus==0.13) (2021.5.30)\n",
            "Requirement already satisfied: chardet<5,>=3.0.2 in /usr/local/lib/python3.7/dist-packages (from requests>=2.25.1->opacus==0.13) (3.0.4)\n",
            "Requirement already satisfied: urllib3<1.27,>=1.21.1 in /usr/local/lib/python3.7/dist-packages (from requests>=2.25.1->opacus==0.13) (1.24.3)\n",
            "Requirement already satisfied: typing-extensions in /usr/local/lib/python3.7/dist-packages (from torch>=1.3->opacus==0.13) (3.7.4.3)\n",
            "Requirement already satisfied: pillow>=5.3.0 in /usr/local/lib/python3.7/dist-packages (from torchvision>=0.9->opacus==0.13) (7.1.2)\n",
            "\u001b[31mERROR: google-colab 1.0.0 has requirement requests~=2.23.0, but you'll have requests 2.25.1 which is incompatible.\u001b[0m\n",
            "\u001b[31mERROR: datascience 0.10.6 has requirement folium==0.2.1, but you'll have folium 0.8.3 which is incompatible.\u001b[0m\n",
            "Installing collected packages: requests, opacus\n",
            "  Found existing installation: requests 2.23.0\n",
            "    Uninstalling requests-2.23.0:\n",
            "      Successfully uninstalled requests-2.23.0\n",
            "Successfully installed opacus-0.13.0 requests-2.25.1\n"
          ],
          "name": "stdout"
        }
      ]
    },
    {
      "cell_type": "markdown",
      "metadata": {
        "id": "lWemUlvRxSxU"
      },
      "source": [
        "#### Base imports"
      ]
    },
    {
      "cell_type": "code",
      "metadata": {
        "id": "W5xiHDAMxSxb"
      },
      "source": [
        "%matplotlib inline\n",
        "from __future__ import print_function, division\n",
        "import numpy as np\n",
        "import copy\n",
        "import matplotlib.pyplot as plt\n",
        "import seaborn as sns\n",
        "sns.set()\n",
        "\n",
        "import torch\n",
        "from torch import nn, optim\n",
        "from torch.autograd import Variable\n",
        "import torch.utils.data as data\n",
        "from torch.optim import Optimizer\n",
        "from opacus import PrivacyEngine\n",
        "\n",
        "device = torch.device(\"cuda\" if torch.cuda.is_available() else \"cpu\")\n",
        "\n",
        "import collections\n",
        "import h5py, sys\n",
        "import gzip\n",
        "import os\n",
        "import math\n",
        "import pickle"
      ],
      "execution_count": null,
      "outputs": []
    },
    {
      "cell_type": "markdown",
      "metadata": {
        "id": "Y99_HtZKxSxd"
      },
      "source": [
        "## Some utility functions"
      ]
    },
    {
      "cell_type": "code",
      "metadata": {
        "id": "lSCd9YcexSxd"
      },
      "source": [
        "def mkdir(paths):\n",
        "    if not isinstance(paths, (list, tuple)):\n",
        "        paths = [paths]\n",
        "    for path in paths:\n",
        "        if not os.path.isdir(path):\n",
        "            os.makedirs(path)\n",
        "\n",
        "\n",
        "suffixes = ['B', 'KB', 'MB', 'GB', 'TB', 'PB']\n",
        "def humansize(nbytes):\n",
        "    i = 0\n",
        "    while nbytes >= 1024 and i < len(suffixes)-1:\n",
        "        nbytes /= 1024.\n",
        "        i += 1\n",
        "    f = ('%.2f' % nbytes)\n",
        "    return '%s%s' % (f, suffixes[i])\n",
        "\n",
        "def to_variable(var=(), cuda=True, volatile=False):\n",
        "    out = []\n",
        "    for v in var:\n",
        "        if isinstance(v, np.ndarray):\n",
        "            v = torch.from_numpy(v).type(torch.FloatTensor)\n",
        "\n",
        "        if not v.is_cuda and cuda:\n",
        "            v = v.cuda()\n",
        "\n",
        "        if not isinstance(v, Variable):\n",
        "            v = Variable(v, volatile=volatile)\n",
        "\n",
        "        out.append(v)\n",
        "    return out\n",
        "  \n",
        "def cprint(color, text, **kwargs):\n",
        "    if color[0] == '*':\n",
        "        pre_code = '1;'\n",
        "        color = color[1:]\n",
        "    else:\n",
        "        pre_code = ''\n",
        "    code = {\n",
        "        'a': '30',\n",
        "        'r': '31',\n",
        "        'g': '32',\n",
        "        'y': '33',\n",
        "        'b': '34',\n",
        "        'p': '35',\n",
        "        'c': '36',\n",
        "        'w': '37'\n",
        "    }\n",
        "    print(\"\\x1b[%s%sm%s\\x1b[0m\" % (pre_code, code[color], text), **kwargs)\n",
        "    sys.stdout.flush()\n",
        "\n"
      ],
      "execution_count": null,
      "outputs": []
    },
    {
      "cell_type": "markdown",
      "metadata": {
        "id": "JVX03SMqxSxh"
      },
      "source": [
        "## Base network wrapper"
      ]
    },
    {
      "cell_type": "code",
      "metadata": {
        "id": "lfam0Wp8xSxi"
      },
      "source": [
        "import torch.nn.functional as F\n",
        "class BaseNet(object):\n",
        "    def __init__(self):\n",
        "        cprint('c', '\\nNet:')\n",
        "\n",
        "    def get_nb_parameters(self):\n",
        "        return np.sum(p.numel() for p in self.model.parameters())\n",
        "\n",
        "    def set_mode_train(self, train=True):\n",
        "        if train:\n",
        "            self.model.train()\n",
        "        else:\n",
        "            self.model.eval()\n",
        "\n",
        "    def update_lr(self, epoch, gamma=0.99):\n",
        "        self.epoch += 1\n",
        "        if self.schedule is not None:\n",
        "            if len(self.schedule) == 0 or epoch in self.schedule:\n",
        "                self.lr *= gamma\n",
        "                print('learning rate: %f  (%d)\\n' % self.lr, epoch)\n",
        "                for param_group in self.optimizer.param_groups:\n",
        "                    param_group['lr'] = self.lr\n",
        "\n",
        "    def save(self, filename):\n",
        "        cprint('c', 'Writting %s\\n' % filename)\n",
        "        torch.save({\n",
        "            'epoch': self.epoch,\n",
        "            'lr': self.lr,\n",
        "            'model': self.model,\n",
        "            'optimizer': self.optimizer}, filename)\n",
        "\n",
        "    def load(self, filename):\n",
        "        cprint('c', 'Reading %s\\n' % filename)\n",
        "        state_dict = torch.load(filename)\n",
        "        self.epoch = state_dict['epoch']\n",
        "        self.lr = state_dict['lr']\n",
        "        self.model = state_dict['model']\n",
        "        self.optimizer = state_dict['optimizer']\n",
        "        print('  restoring epoch: %d, lr: %f' % (self.epoch, self.lr))\n",
        "        return self.epoch"
      ],
      "execution_count": null,
      "outputs": []
    },
    {
      "cell_type": "markdown",
      "metadata": {
        "id": "aFdrPqN-xSxj"
      },
      "source": [
        "## Bayesian Linear 2 Layers MNIST"
      ]
    },
    {
      "cell_type": "code",
      "metadata": {
        "id": "3yJOpqL0xSxj"
      },
      "source": [
        "class Linear_2L(nn.Module):\n",
        "    def __init__(self, input_dim, output_dim):\n",
        "        super(Linear_2L, self).__init__()\n",
        "        \n",
        "        n_hid = 1200\n",
        "        \n",
        "        self.input_dim = input_dim\n",
        "        self.output_dim = output_dim\n",
        "        \n",
        "        self.fc1 = nn.Linear(input_dim, n_hid)\n",
        "        self.fc2 = nn.Linear(n_hid, n_hid)\n",
        "        self.fc3 = nn.Linear(n_hid, output_dim)\n",
        "        \n",
        "        # choose your non linearity\n",
        "        #self.act = nn.Tanh()\n",
        "        #self.act = nn.Sigmoid()\n",
        "        self.act = nn.ReLU(inplace=True)\n",
        "        #self.act = nn.ELU(inplace=True)\n",
        "        #self.act = nn.SELU(inplace=True)\n",
        "\n",
        "    def forward(self, x):\n",
        "\n",
        "        x = x.view(-1, self.input_dim) # view(batch_size, input_dim)\n",
        "        # -----------------\n",
        "        x = self.fc1(x)\n",
        "        # -----------------\n",
        "        x = self.act(x)\n",
        "        # -----------------\n",
        "        x = self.fc2(x)\n",
        "        # -----------------\n",
        "        x = self.act(x)\n",
        "        # -----------------\n",
        "        y = self.fc3(x)\n",
        "\n",
        "        return y\n",
        "    \n",
        "    \n",
        "        "
      ],
      "execution_count": null,
      "outputs": []
    },
    {
      "cell_type": "markdown",
      "metadata": {
        "id": "swRDeyBmcu08"
      },
      "source": [
        "## CNN model for DP DNN MNIST (state of art) "
      ]
    },
    {
      "cell_type": "code",
      "metadata": {
        "id": "YZF9m1YCxSxk"
      },
      "source": [
        "class SampleConvNet_MNIST(nn.Module):\n",
        "    def __init__(self):\n",
        "        super().__init__()\n",
        "        self.conv1 = nn.Conv2d(1, 16, 8, 2, padding=3)\n",
        "        self.conv2 = nn.Conv2d(16, 32, 4, 2)\n",
        "        self.fc1 = nn.Linear(32 * 4 * 4, 32)\n",
        "        self.fc2 = nn.Linear(32, 10)\n",
        "\n",
        "    def forward(self, x):\n",
        "        # x of shape [B, 1, 28, 28]\n",
        "        x = F.relu(self.conv1(x))  # -> [B, 16, 14, 14]\n",
        "        x = F.max_pool2d(x, 2, 1)  # -> [B, 16, 13, 13]\n",
        "        x = F.relu(self.conv2(x))  # -> [B, 32, 5, 5]\n",
        "        x = F.max_pool2d(x, 2, 1)  # -> [B, 32, 4, 4]\n",
        "        x = x.view(-1, 32 * 4 * 4)  # -> [B, 512]\n",
        "        x = F.relu(self.fc1(x))  # -> [B, 32]\n",
        "        x = self.fc2(x)  # -> [B, 10]\n",
        "        return x\n",
        "\n",
        "    def name(self):\n",
        "        return \"SampleConvNet\""
      ],
      "execution_count": null,
      "outputs": []
    },
    {
      "cell_type": "markdown",
      "metadata": {
        "id": "KfsNtEaUxSxl"
      },
      "source": [
        "# Custom SGLD optimiser"
      ]
    },
    {
      "cell_type": "code",
      "metadata": {
        "id": "zdZWRc54xSxl"
      },
      "source": [
        "from torch.optim.optimizer import Optimizer, required\n",
        "class SGLD(Optimizer):\n",
        "    \"\"\"\n",
        "    SGLD optimiser based on pytorch's SGD. \n",
        "    Note that the weight decay is specified in terms of the gaussian prior sigma\n",
        "    \"\"\"\n",
        "\n",
        "    def __init__(self, params, lr=required, norm_sigma=0,laplace_b=0, addnoise=True):\n",
        "        \n",
        "        if lr is not required and lr < 0.0:\n",
        "            raise ValueError(\"Invalid learning rate: {}\".format(lr))\n",
        "        \n",
        "        defaults = dict(lr=lr, norm_sigma=norm_sigma, laplace_b=laplace_b,addnoise=addnoise)\n",
        "        \n",
        "        super(SGLD, self).__init__(params, defaults)\n",
        "\n",
        "    def step(self,closure=0):\n",
        "        \"\"\"\n",
        "        Performs a single optimization step.\n",
        "        \"\"\"\n",
        "        loss = None\n",
        "        \n",
        "        for group in self.param_groups:\n",
        "\n",
        "            norm_sigma = group['norm_sigma']\n",
        "            laplace_b=group['laplace_b']\n",
        "\n",
        "            for p in group['params']:\n",
        "                if p.grad is None:\n",
        "                    continue\n",
        "                d_p = p.grad.data\n",
        "                if norm_sigma != 0:\n",
        "                    p.data.add_(-group['lr']/norm_sigma**2, p.data)\n",
        "                if laplace_b != 0:\n",
        "                    p.data.add_(-group['lr']/laplace_b,torch.sign(p.data))\n",
        "\n",
        "                if group['addnoise']:  \n",
        "                    langevin_noise = p.data.new(p.data.size()).normal_(mean=0, std=1)/np.sqrt(group['lr'])\n",
        "                    p.data.add_(-group['lr'], d_p  + langevin_noise)\n",
        "                else:\n",
        "                    p.data.add_(-group['lr'], d_p )\n",
        "\n",
        "        return loss"
      ],
      "execution_count": null,
      "outputs": []
    },
    {
      "cell_type": "markdown",
      "metadata": {
        "id": "P9EWoFTaxSxm"
      },
      "source": [
        "# pSGLD optimiser\n"
      ]
    },
    {
      "cell_type": "code",
      "metadata": {
        "id": "VHtuVlUWxSxm"
      },
      "source": [
        "class pSGLD(Optimizer):\n",
        "    \"\"\"\n",
        "    RMSprop preconditioned SGLD using pytorch rmsprop implementation.\n",
        "    \"\"\"\n",
        "\n",
        "    def __init__(self, params, lr=required, norm_sigma=0,laplace_b=0, alpha=0.99, eps=1e-8, centered=False, addnoise=True):\n",
        "        \n",
        "        if lr is not required and lr < 0.0:\n",
        "            raise ValueError(\"Invalid learning rate: {}\".format(lr))\n",
        "        defaults = dict(lr=lr, norm_sigma=norm_sigma,laplace_b=laplace_b, alpha=alpha, eps=eps, centered=centered, addnoise=addnoise)\n",
        "        super(pSGLD, self).__init__(params, defaults)\n",
        "        \n",
        "    def __setstate__(self, state):\n",
        "        super(pSGLD, self).__setstate__(state)\n",
        "        for group in self.param_groups:\n",
        "            group.setdefault('centered', False)\n",
        "\n",
        "    def step(self,closure=0):\n",
        "        \"\"\"\n",
        "        Performs a single optimization step.\n",
        "        \"\"\"\n",
        "        loss = None\n",
        "\n",
        "        for group in self.param_groups:\n",
        "            norm_sigma = group['norm_sigma']\n",
        "            laplace_b=group['laplace_b']\n",
        "\n",
        "            for p in group['params']:\n",
        "                if p.grad is None:\n",
        "                    continue\n",
        "                d_p = p.grad.data\n",
        "\n",
        "\n",
        "\n",
        "                state = self.state[p]\n",
        "                \n",
        "                if len(state) == 0:\n",
        "                    state['step'] = 0\n",
        "                    state['square_avg'] = torch.zeros_like(p.data)\n",
        "                    if group['centered']:\n",
        "                        state['grad_avg'] = torch.zeros_like(p.data)\n",
        "                        \n",
        "                square_avg = state['square_avg']\n",
        "                alpha = group['alpha']\n",
        "                state['step'] += 1\n",
        "                \n",
        "                if norm_sigma != 0:\n",
        "                    p.data.add_(-group['lr']/norm_sigma**2, p.data)\n",
        "                if laplace_b != 0:\n",
        "                    p.data.add_(-group['lr']/laplace_b,torch.sign(p.data))\n",
        "\n",
        "                # sqavg x alpha + (1-alph) sqavg *(elemwise) sqavg\n",
        "                square_avg.mul_(alpha).addcmul_(1-alpha, d_p, d_p)\n",
        "                \n",
        "                if group['centered']:\n",
        "                    grad_avg = state['grad_avg']\n",
        "                    grad_avg.mul_(alpha).add_(1-alpha, d_p)\n",
        "                    avg = square_avg.cmul(-1, grad_avg, grad_avg).sqrt().add_(group['eps'])\n",
        "                else:\n",
        "                    avg = square_avg.sqrt().add_(group['eps'])\n",
        "                    \n",
        "#                 print(avg.shape)\n",
        "                if group['addnoise']:\n",
        "                    langevin_noise = p.data.new(p.data.size()).normal_(mean=0, std=1)/np.sqrt(group['lr'])\n",
        "                    p.data.add_(-group['lr'],\n",
        "                                0.5*d_p.div_(avg) + langevin_noise/torch.sqrt(avg))\n",
        "                    \n",
        "                else:\n",
        "                    p.data.addcdiv_(-group['lr'], 0.5*d_p, avg)\n",
        "\n",
        "\n",
        "        return loss"
      ],
      "execution_count": null,
      "outputs": []
    },
    {
      "cell_type": "markdown",
      "metadata": {
        "id": "Kp-ulJ9CxSxn"
      },
      "source": [
        "# Network wrapper "
      ]
    },
    {
      "cell_type": "code",
      "metadata": {
        "id": "H8b4qXzNxSxn"
      },
      "source": [
        "class Net_langevin(BaseNet):\n",
        "    eps = 1e-6\n",
        "\n",
        "    def __init__(self, lr=1e-3, cuda=True, classes=10, N_train=60000, norm_sigma=0,laplace_b=0,DP_or_Not=True,which_net=None,pSGLD_or_Not=False):\n",
        "        super(Net_langevin, self).__init__()\n",
        "        cprint('y', ' Creating Net!! ')\n",
        "        self.lr = lr\n",
        "        self.schedule = None  # [] #[50,200,400,600]\n",
        "        self.cuda = cuda\n",
        "        self.norm_sigma = norm_sigma\n",
        "        self.laplace_b=laplace_b\n",
        "        self.classes = classes\n",
        "        self.N_train = N_train\n",
        "\n",
        "        self.which_net=which_net\n",
        "        self.create_net()\n",
        "        self.pSGLD_or_Not=pSGLD_or_Not\n",
        "        self.create_opt()\n",
        "        self.epoch = 0\n",
        "        self.weight_set_samples = []\n",
        "\n",
        "        self.test=False\n",
        "        self.DP_or_Not=DP_or_Not\n",
        "\n",
        "    def create_net(self):\n",
        "        torch.manual_seed(42)\n",
        "        if self.cuda:\n",
        "            torch.cuda.manual_seed(42)\n",
        "\n",
        "        self.model = self.which_net\n",
        "        if self.cuda:\n",
        "            self.model.cuda()\n",
        "        print('    Total params: %.2fM' % (self.get_nb_parameters() / 1000000.0))\n",
        "    \n",
        "    def create_opt(self):\n",
        "        if self.pSGLD_or_Not:\n",
        "            self.optimizer = pSGLD(params=self.model.parameters(), lr=self.lr, norm_sigma=self.norm_sigma,laplace_b=self.laplace_b, addnoise=1-DP_or_Not)\n",
        "        else:\n",
        "            self.optimizer = SGLD(params=self.model.parameters(), lr=self.lr, norm_sigma=self.norm_sigma,laplace_b=self.laplace_b, addnoise=1-DP_or_Not)\n",
        "        if DP_or_Not:\n",
        "            privacy_engine = PrivacyEngine(\n",
        "                    self.model,\n",
        "                    sample_rate=batch_size/self.N_train,\n",
        "                    alphas=[1 + x / 10.0 for x in range(1, 100)] + list(range(12, 64)),\n",
        "                    noise_multiplier=batch_size/np.sqrt(self.lr)/self.N_train/clipping_norm,\n",
        "                    max_grad_norm=clipping_norm * 60000)\n",
        "            privacy_engine.attach(self.optimizer)\n",
        "\n",
        "    def fit(self, x, y):\n",
        "        x, y = x.to(device), y.long().to(device)\n",
        "\n",
        "        self.optimizer.zero_grad()\n",
        "\n",
        "        out = self.model(x)\n",
        "        loss = F.cross_entropy(out, y, reduction='mean') # We use mean because we treat as an estimation of whole dataset\n",
        "        loss = loss * self.N_train \n",
        "            \n",
        "        loss.backward()\n",
        "        self.optimizer.step()\n",
        "\n",
        "        # out: (batch_size, out_channels, out_caps_dims)\n",
        "        pred = out.data.max(dim=1, keepdim=False)[1]  # get the index of the max log-probability\n",
        "        err = pred.ne(y.data).sum()\n",
        "\n",
        "        return loss.data*x.shape[0]/self.N_train, err\n",
        "\n",
        "\n",
        "    def eval(self, x, y, train=False):\n",
        "        x, y = to_variable(var=(x, y.long()), cuda=self.cuda)\n",
        "\n",
        "        out = self.model(x)\n",
        "\n",
        "        loss = F.cross_entropy(out, y, reduction='sum')\n",
        "\n",
        "        probs = F.softmax(out, dim=1).data.cpu()\n",
        "\n",
        "        pred = out.data.max(dim=1, keepdim=False)[1]  # get the index of the max log-probability\n",
        "        err = pred.ne(y.data).sum()\n",
        "\n",
        "        return loss.data, err, probs\n",
        "    \n",
        "    def save_sampled_net(self, max_samples):\n",
        "        \n",
        "        if len(self.weight_set_samples) >= max_samples:\n",
        "            self.weight_set_samples.pop(0)\n",
        "            \n",
        "        self.weight_set_samples.append(copy.deepcopy(self.model.state_dict()))\n",
        "        \n",
        "        cprint('c', ' saving weight samples %d/%d' % (len(self.weight_set_samples), max_samples) )\n",
        "        \n",
        "        return None\n",
        "        \n",
        "    def sample_eval(self, x, y, Nsamples=0, logits=True, train=False):\n",
        "        if Nsamples == 0:\n",
        "            Nsamples = len(self.weight_set_samples)\n",
        "            \n",
        "        x, y = to_variable(var=(x, y.long()), cuda=self.cuda)\n",
        "        \n",
        "        out = x.data.new(Nsamples, x.shape[0], self.classes)\n",
        "        \n",
        "        # iterate over all saved weight configuration samples\n",
        "        for idx, weight_dict in enumerate(self.weight_set_samples):\n",
        "            if idx == Nsamples:\n",
        "                break\n",
        "            self.model.load_state_dict(weight_dict)\n",
        "            out[idx] = self.model(x)\n",
        "        \n",
        "        \n",
        "        if logits:\n",
        "            mean_out = out.mean(dim=0, keepdim=False)\n",
        "            loss = F.cross_entropy(mean_out, y, reduction='sum')\n",
        "            probs = F.softmax(mean_out, dim=1).data.cpu()\n",
        "            \n",
        "        else:\n",
        "            mean_out =  F.softmax(out, dim=2).mean(dim=0, keepdim=False)\n",
        "            probs = mean_out.data.cpu()\n",
        "            \n",
        "            log_mean_probs_out = torch.log(mean_out)\n",
        "            loss = F.nll_loss(log_mean_probs_out, y, reduction='sum')\n",
        "\n",
        "        pred = mean_out.data.max(dim=1, keepdim=False)[1]  # get the index of the max log-probability\n",
        "        err = pred.ne(y.data).sum()\n",
        "\n",
        "        return loss.data, err, probs\n",
        "    \n",
        "    def all_sample_eval(self, x, y, Nsamples):\n",
        "        if Nsamples == 0:\n",
        "            Nsamples = len(self.weight_set_samples)\n",
        "            \n",
        "        x, y = to_variable(var=(x, y.long()), cuda=self.cuda)\n",
        "        \n",
        "        out = x.data.new(Nsamples, x.shape[0], self.classes)\n",
        "        \n",
        "        # iterate over all saved weight configuration samples\n",
        "        for idx, weight_dict in enumerate(self.weight_set_samples):\n",
        "            if idx == Nsamples:\n",
        "                break\n",
        "            self.model.load_state_dict(weight_dict)\n",
        "            out[idx] = self.model(x)\n",
        "        \n",
        "        prob_out =  F.softmax(out, dim=2)\n",
        "        prob_out = prob_out.data\n",
        "\n",
        "        return prob_out\n",
        "    \n",
        "    def get_weight_samples(self, Nsamples=0):\n",
        "        weight_vec = []\n",
        "        \n",
        "        if Nsamples == 0 or Nsamples > len(self.weight_set_samples):\n",
        "            Nsamples = len(self.weight_set_samples)\n",
        "            \n",
        "        for idx, state_dict in enumerate(self.weight_set_samples):\n",
        "            if idx == Nsamples:\n",
        "                break\n",
        "                \n",
        "            for key in state_dict.keys():\n",
        "                if 'weight' in key:\n",
        "                    weight_mtx = state_dict[key].cpu().data\n",
        "                    for weight in weight_mtx.view(-1):\n",
        "                        weight_vec.append(weight)\n",
        "            \n",
        "        return np.array(weight_vec)"
      ],
      "execution_count": null,
      "outputs": []
    },
    {
      "cell_type": "code",
      "metadata": {
        "id": "n9n4W83rmZf_"
      },
      "source": [
        "import time\n",
        "import torch.utils.data\n",
        "from torchvision import transforms, datasets\n",
        "import matplotlib"
      ],
      "execution_count": null,
      "outputs": []
    },
    {
      "cell_type": "markdown",
      "metadata": {
        "id": "AQti1THk9yfb"
      },
      "source": [
        "# Training Bayesian Linear 2 Layers MNIST (Laplacian prior) DP"
      ]
    },
    {
      "cell_type": "code",
      "metadata": {
        "colab": {
          "base_uri": "https://localhost:8080/"
        },
        "id": "qgFVPHZp9w4e",
        "outputId": "d5dff4ea-1665-417a-ad68-4f0c57e10dd5"
      },
      "source": [
        "models_dir = 'models_SGLD_MNIST_laplacian'\n",
        "results_dir = 'results_SGLD_MNIST_laplacian'\n",
        "\n",
        "mkdir(models_dir)\n",
        "mkdir(results_dir)\n",
        "\n",
        "save_dicts = []\n",
        "\n",
        "# ------------------------------------------------------------------------------------------------------\n",
        "# train config\n",
        "NTrainPointsMNIST = 60000\n",
        "batch_size = 256\n",
        "nb_epochs = 15 # We can do less iterations as this method has faster convergence\n",
        "log_interval = 1\n",
        "\n",
        "lr = 1e-5\n",
        "norm_sigma = 0\n",
        "laplace_b=0.1\n",
        "\n",
        "noise_multiplier = 1.3\n",
        "clipping_norm=1.5\n",
        "DP_or_Not=True\n",
        "\n",
        "# ------------------------------------------------------------------------------------------------------\n",
        "# dataset\n",
        "cprint('c', '\\nData:')\n",
        " \n",
        "\n",
        "# load data\n",
        "transform_train = transforms.Compose([\n",
        "    transforms.ToTensor(),\n",
        "    transforms.Normalize(mean=(0.1307,), std=(0.3081,))\n",
        "])\n",
        "\n",
        "transform_test = transforms.Compose([\n",
        "    transforms.ToTensor(),\n",
        "    transforms.Normalize(mean=(0.1307,), std=(0.3081,))\n",
        "])\n",
        "\n",
        "use_cuda = torch.cuda.is_available()\n",
        "\n",
        "trainset = datasets.MNIST(root='/content/data', train=True, download=True, transform=transform_train)\n",
        "valset = datasets.MNIST(root='/content/data', train=False, download=True, transform=transform_test)\n",
        "\n",
        "if use_cuda:\n",
        "    trainloader = torch.utils.data.DataLoader(trainset, batch_size=batch_size, shuffle=True, pin_memory=True, num_workers=3)\n",
        "    valloader = torch.utils.data.DataLoader(valset, batch_size=batch_size, shuffle=False, pin_memory=True, num_workers=3)\n",
        "\n",
        "else:\n",
        "    trainloader = torch.utils.data.DataLoader(trainset, batch_size=batch_size, shuffle=True, pin_memory=False,\n",
        "                                              num_workers=3)\n",
        "    valloader = torch.utils.data.DataLoader(valset, batch_size=batch_size, shuffle=False, pin_memory=False,\n",
        "                                            num_workers=3)\n",
        "\n",
        "\n",
        "## ---------------------------------------------------------------------------------------------------------------------\n",
        "# net dims\n",
        "cprint('c', '\\nNetwork:')\n",
        "\n",
        "\n",
        "\n",
        "\n",
        " "
      ],
      "execution_count": null,
      "outputs": [
        {
          "output_type": "stream",
          "text": [
            "\u001b[36m\n",
            "Data:\u001b[0m\n",
            "\u001b[36m\n",
            "Network:\u001b[0m\n"
          ],
          "name": "stdout"
        },
        {
          "output_type": "stream",
          "text": [
            "/usr/local/lib/python3.7/dist-packages/torch/utils/data/dataloader.py:481: UserWarning: This DataLoader will create 3 worker processes in total. Our suggested max number of worker in current system is 2, which is smaller than what this DataLoader is going to create. Please be aware that excessive worker creation might get DataLoader running slow or even freeze, lower the worker number to avoid potential slowness/freeze if necessary.\n",
            "  cpuset_checked))\n"
          ],
          "name": "stderr"
        }
      ]
    },
    {
      "cell_type": "code",
      "metadata": {
        "id": "bWNqilpuZnrh"
      },
      "source": [
        "########################################################################################\n",
        "net = Net_langevin(lr=lr, cuda=use_cuda, classes=10, N_train=NTrainPointsMNIST, norm_sigma=norm_sigma,laplace_b=laplace_b,which_net=Linear_2L(28*28,10))\n",
        "\n",
        "\n",
        "## weight saving parameters #######\n",
        "start_save = 15\n",
        "save_every = 2 # We want less correlated samples -> despite having per minibatch noise we see correlations\n",
        "N_saves = 90\n",
        "###################################\n",
        "\n",
        "\n",
        "## ---------------------------------------------------------------------------------------------------------------------\n",
        "# train\n",
        "cprint('c', '\\nTrain:')\n",
        "\n",
        "print('  init cost variables:')\n",
        "pred_cost_train = np.zeros(nb_epochs)\n",
        "err_train = np.zeros(nb_epochs)\n",
        "\n",
        "cost_dev = np.zeros(nb_epochs)\n",
        "err_dev = np.zeros(nb_epochs)\n",
        "# best_cost = np.inf\n",
        "best_err = np.inf\n",
        "\n",
        "\n",
        "nb_its_dev = 1\n",
        "\n",
        "tic0 = time.time()\n",
        "from tqdm import tqdm\n",
        "\n",
        "for i in range(nb_epochs):\n",
        "    \n",
        "#     if i in [1]:\n",
        "#         print('updating lr')\n",
        "#         net.sched.step()\n",
        "    \n",
        "    net.set_mode_train(True)\n",
        "\n",
        "    tic = time.time()\n",
        "    nb_samples = 0\n",
        "\n",
        "    for x, y in tqdm(trainloader):\n",
        "        cost_pred, err = net.fit(x, y)\n",
        "\n",
        "        err_train[i] += err\n",
        "        pred_cost_train[i] += torch.mean(cost_pred)\n",
        "        nb_samples += len(x)\n",
        "\n",
        "    pred_cost_train[i] /= nb_samples\n",
        "    err_train[i] /= nb_samples\n",
        "\n",
        "    toc = time.time()\n",
        "    net.epoch = i\n",
        "    # ---- print\n",
        "    print(\"it %d/%d, Jtr_pred = %f, err = %f, \" % (i, nb_epochs, pred_cost_train[i], err_train[i]), end=\"\")\n",
        "    cprint('r', '   time: %f seconds\\n' % (toc - tic))\n",
        "    \n",
        "    # ---- save weights\n",
        "    if i >= start_save and i % save_every == 0:\n",
        "        net.save_sampled_net(max_samples=N_saves)\n",
        "        save_dicts.append(copy.deepcopy(net.model.state_dict()))\n",
        "\n",
        "    # ---- dev\n",
        "    if i % nb_its_dev == 0:\n",
        "        net.set_mode_train(False)\n",
        "        nb_samples = 0\n",
        "        for j, (x, y) in enumerate(valloader):\n",
        "\n",
        "            cost, err, probs = net.eval(x, y)\n",
        "\n",
        "            cost_dev[i] += cost\n",
        "            err_dev[i] += err\n",
        "            nb_samples += len(x)\n",
        "\n",
        "        cost_dev[i] /= nb_samples\n",
        "        err_dev[i] /= nb_samples\n",
        "\n",
        "        cprint('g', '    Jdev = %f, err = %f\\n' % (cost_dev[i], err_dev[i]))\n",
        "\n",
        "        if err_dev[i] < best_err:\n",
        "            best_err = err_dev[i]\n",
        "            cprint('b', 'best test error')\n",
        "            net.save(models_dir+'/theta_best.dat')\n",
        "   \n",
        "toc0 = time.time()\n",
        "runtime_per_it = (toc0 - tic0) / float(nb_epochs)\n",
        "cprint('r', '   average time: %f seconds\\n' % runtime_per_it)\n",
        "\n",
        "net.save(models_dir+'/theta_last.dat')\n",
        "\n",
        "## ---------------------------------------------------------------------------------------------------------------------\n",
        "# results\n",
        "cprint('c', '\\nRESULTS:')\n",
        "nb_parameters = net.get_nb_parameters()\n",
        "best_cost_dev = np.min(cost_dev)\n",
        "best_cost_train = np.min(pred_cost_train)\n",
        "err_dev_min = err_dev[::nb_its_dev].min()\n",
        "\n",
        "print('  cost_dev: %f (cost_train %f)' % (best_cost_dev, best_cost_train))\n",
        "print('  err_dev: %f' % (err_dev_min))\n",
        "print('  nb_parameters: %d (%s)' % (nb_parameters, humansize(nb_parameters)))\n",
        "print('  time_per_it: %fs\\n' % (runtime_per_it))\n",
        "\n",
        "\n",
        "\n",
        "## Save results for plots\n",
        "# np.save('results/test_predictions.npy', test_predictions)\n",
        "np.save(results_dir + '/cost_train.npy', pred_cost_train)\n",
        "np.save(results_dir + '/cost_dev.npy', cost_dev)\n",
        "np.save(results_dir + '/err_train.npy', err_train)\n",
        "np.save(results_dir + '/err_dev.npy', err_dev)\n",
        "np.save(results_dir + '/save_dicts.npy', save_dicts)\n",
        " \n",
        " "
      ],
      "execution_count": null,
      "outputs": []
    },
    {
      "cell_type": "markdown",
      "metadata": {
        "id": "Wu_TwffIDB_r"
      },
      "source": [
        "# Prediction Uncertainty "
      ]
    },
    {
      "cell_type": "code",
      "metadata": {
        "id": "GV6L_wGFkJqs",
        "colab": {
          "base_uri": "https://localhost:8080/",
          "height": 573
        },
        "outputId": "816c850e-0a54-4220-8cbb-dadd0f4d22d8"
      },
      "source": [
        "target_index = 195\n",
        "valloader_plot = torch.utils.data.DataLoader(valset, batch_size=1, shuffle=False)\n",
        "examples = enumerate(valloader)\n",
        "batch_idx, (x, y) = next(examples)\n",
        "for index, (x,y) in enumerate(valloader_plot):\n",
        "    if index == target_index:\n",
        "       break\n",
        "\n",
        "prob_list = [[],[],[],[],[],[],[],[],[],[]]\n",
        "for para in save_dicts_non_DP:\n",
        "    network.load_state_dict(para)\n",
        "    output = network(x)\n",
        "    probs = (F.softmax(output, dim=1).data.cpu())\n",
        "    k = 0\n",
        "    for l in prob_list:\n",
        "        l.append((probs[0])[k].numpy())\n",
        "        k += 1\n",
        "\n",
        "\n",
        "\n",
        "import matplotlib.pyplot as plt\n",
        "\n",
        "fig, ax = plt.subplots(nrows=1, ncols=1)\n",
        "\n",
        "plt.hist(prob_list,bins=5, range=[0, 1])\n",
        "\n",
        "#plt.legend(['0','1','2','3','4','5','6','7','8','9'],loc='upper right')\n",
        "plt.savefig('ndp_sgld_hist3.pdf',bbox_inches = 'tight')\n",
        "plt.show()\n",
        "\n",
        "\n",
        "#np.random.seed(19680801)\n",
        "\n",
        "#n_bins = 10\n",
        "#x = np.random.randn(1000, 3)\n",
        "\n",
        "#fig, ((ax0, ax1), (ax2, ax3)) = plt.subplots(nrows=2, ncols=2)\n",
        "\n",
        "#colors = ['red', 'tan', 'lime']\n",
        "#ax0.hist(x, n_bins, density=True, histtype='bar', color=colors, label=colors)\n",
        "#ax0.legend(prop={'size': 10})\n",
        "#ax0.set_title('bars with legend')\n",
        "\n",
        "prob_list = [[],[],[],[],[],[],[],[],[],[]]\n",
        "for para in save_dicts_DP:\n",
        "    network.load_state_dict(para)\n",
        "    output = network(x)\n",
        "    probs = (F.softmax(output, dim=1).data.cpu())\n",
        "    k = 0\n",
        "    for l in prob_list:\n",
        "        l.append((probs[0])[k].numpy())\n",
        "        k += 1\n",
        "\n",
        "\n",
        "\n",
        "import matplotlib.pyplot as plt\n",
        "fig, ax = plt.subplots(nrows=1, ncols=1)\n",
        "plt.hist(prob_list,bins=5, range=[0, 1])\n",
        "#plt.legend(['0','1','2','3','4','5','6','7','8','9'],loc='upper right')\n",
        "plt.savefig('dp_sgld_hist3.pdf',bbox_inches = 'tight')\n",
        "plt.show()"
      ],
      "execution_count": null,
      "outputs": [
        {
          "output_type": "stream",
          "text": [
            "/usr/local/lib/python3.7/dist-packages/torch/utils/data/dataloader.py:477: UserWarning: This DataLoader will create 3 worker processes in total. Our suggested max number of worker in current system is 2, which is smaller than what this DataLoader is going to create. Please be aware that excessive worker creation might get DataLoader running slow or even freeze, lower the worker number to avoid potential slowness/freeze if necessary.\n",
            "  cpuset_checked))\n"
          ],
          "name": "stderr"
        },
        {
          "output_type": "display_data",
          "data": {
            "image/png": "[encoded data removed]",
            "text/plain": [
              "<Figure size 432x288 with 1 Axes>"
            ]
          },
          "metadata": {
            "tags": []
          }
        },
        {
          "output_type": "display_data",
          "data": {
            "image/png": "[encoded data removed]",
            "text/plain": [
              "<Figure size 432x288 with 1 Axes>"
            ]
          },
          "metadata": {
            "tags": []
          }
        }
      ]
    },
    {
      "cell_type": "code",
      "metadata": {
        "id": "jXC79W45_tad",
        "colab": {
          "base_uri": "https://localhost:8080/",
          "height": 573
        },
        "outputId": "36dd4268-cd60-49a3-baaf-c4343ddb7f56"
      },
      "source": [
        "target_index = 404\n",
        "valloader_plot = torch.utils.data.DataLoader(valset, batch_size=1, shuffle=False)\n",
        "examples = enumerate(valloader)\n",
        "batch_idx, (x, y) = next(examples)\n",
        "for index, (x,y) in enumerate(valloader_plot):\n",
        "    if index == target_index:\n",
        "       break\n",
        "\n",
        "prob_list = [[],[],[],[],[],[],[],[],[],[]]\n",
        "for para in save_dicts_non_DP:\n",
        "    network.load_state_dict(para)\n",
        "    output = network(x)\n",
        "    probs = (F.softmax(output, dim=1).data.cpu())\n",
        "    k = 0\n",
        "    for l in prob_list:\n",
        "        l.append((probs[0])[k].numpy())\n",
        "        k += 1\n",
        "\n",
        "\n",
        "\n",
        "import matplotlib.pyplot as plt\n",
        "\n",
        "fig, ax = plt.subplots(nrows=1, ncols=1)\n",
        "plt.hist(prob_list,bins=5, range=[0, 1])\n",
        "\n",
        "#plt.legend(['0','1','2','3','4','5','6','7','8','9'],loc='upper right')\n",
        "plt.savefig('ndp_sgld_hist2.pdf',bbox_inches = 'tight')\n",
        "plt.show()\n",
        "\n",
        "\n",
        "#np.random.seed(19680801)\n",
        "\n",
        "#n_bins = 10\n",
        "#x = np.random.randn(1000, 3)\n",
        "\n",
        "#fig, ((ax0, ax1), (ax2, ax3)) = plt.subplots(nrows=2, ncols=2)\n",
        "\n",
        "#colors = ['red', 'tan', 'lime']\n",
        "#ax0.hist(x, n_bins, density=True, histtype='bar', color=colors, label=colors)\n",
        "#ax0.legend(prop={'size': 10})\n",
        "#ax0.set_title('bars with legend')\n",
        "\n",
        "prob_list = [[],[],[],[],[],[],[],[],[],[]]\n",
        "for para in save_dicts_DP:\n",
        "    network.load_state_dict(para)\n",
        "    output = network(x)\n",
        "    probs = (F.softmax(output, dim=1).data.cpu())\n",
        "    k = 0\n",
        "    for l in prob_list:\n",
        "        l.append((probs[0])[k].numpy())\n",
        "        k += 1\n",
        "\n",
        "\n",
        "\n",
        "import matplotlib.pyplot as plt\n",
        "plt.hist(prob_list,bins=5, range=[0, 1])\n",
        "#plt.legend(['0','1','2','3','4','5','6','7','8','9'],loc='upper right')\n",
        "plt.savefig('dp_sgld_hist2.pdf',bbox_inches = 'tight')\n",
        "plt.show()"
      ],
      "execution_count": null,
      "outputs": [
        {
          "output_type": "stream",
          "text": [
            "/usr/local/lib/python3.7/dist-packages/torch/utils/data/dataloader.py:477: UserWarning: This DataLoader will create 3 worker processes in total. Our suggested max number of worker in current system is 2, which is smaller than what this DataLoader is going to create. Please be aware that excessive worker creation might get DataLoader running slow or even freeze, lower the worker number to avoid potential slowness/freeze if necessary.\n",
            "  cpuset_checked))\n"
          ],
          "name": "stderr"
        },
        {
          "output_type": "display_data",
          "data": {
            "image/png": "[encoded data removed]",
            "text/plain": [
              "<Figure size 432x288 with 1 Axes>"
            ]
          },
          "metadata": {
            "tags": []
          }
        },
        {
          "output_type": "display_data",
          "data": {
            "image/png": "[encoded data removed]",
            "text/plain": [
              "<Figure size 432x288 with 1 Axes>"
            ]
          },
          "metadata": {
            "tags": []
          }
        }
      ]
    },
    {
      "cell_type": "code",
      "metadata": {
        "id": "NzdECDpFZoGy"
      },
      "source": [
        "net = Net_langevin(lr=lr, cuda=use_cuda, classes=10, N_train=NTrainPointsMNIST, norm_sigma=norm_sigma,laplace_b=laplace_b,which_net=Linear_2L(28*28,10))"
      ],
      "execution_count": null,
      "outputs": []
    },
    {
      "cell_type": "markdown",
      "metadata": {
        "id": "rHvF-MHeRSTZ"
      },
      "source": [
        "# Training Bayesian Linear 2 Layers MNIST (Laplacian prior) non-DP"
      ]
    },
    {
      "cell_type": "code",
      "metadata": {
        "colab": {
          "base_uri": "https://localhost:8080/"
        },
        "id": "cYlJNTbBQbta",
        "outputId": "8a66968a-298b-4158-d790-d7e995485c52"
      },
      "source": [
        "models_dir = 'models_SGLD_MNIST_ndplaplacian'\n",
        "results_dir = 'results_SGLD_MNIST_ndplaplacian'\n",
        "\n",
        "mkdir(models_dir)\n",
        "mkdir(results_dir)\n",
        "\n",
        "save_dicts = []\n",
        "\n",
        "# ------------------------------------------------------------------------------------------------------\n",
        "# train config\n",
        "NTrainPointsMNIST = 60000\n",
        "batch_size = 256\n",
        "nb_epochs = 15 # We can do less iterations as this method has faster convergence\n",
        "log_interval = 1\n",
        "\n",
        "lr = 1e-5\n",
        "norm_sigma = 0\n",
        "laplace_b=0.1\n",
        "\n",
        "noise_multiplier = 1.3\n",
        "clipping_norm=1.5\n",
        "DP_or_Not=True\n",
        "\n",
        "# ------------------------------------------------------------------------------------------------------\n",
        "# dataset\n",
        "cprint('c', '\\nData:')\n",
        " \n",
        "\n",
        "# load data\n",
        "transform_train = transforms.Compose([\n",
        "    transforms.ToTensor(),\n",
        "    transforms.Normalize(mean=(0.1307,), std=(0.3081,))\n",
        "])\n",
        "\n",
        "transform_test = transforms.Compose([\n",
        "    transforms.ToTensor(),\n",
        "    transforms.Normalize(mean=(0.1307,), std=(0.3081,))\n",
        "])\n",
        "\n",
        "use_cuda = torch.cuda.is_available()\n",
        "\n",
        "trainset = datasets.MNIST(root='/content/data', train=True, download=True, transform=transform_train)\n",
        "valset = datasets.MNIST(root='/content/data', train=False, download=True, transform=transform_test)\n",
        "\n",
        "if use_cuda:\n",
        "    trainloader = torch.utils.data.DataLoader(trainset, batch_size=batch_size, shuffle=True, pin_memory=True, num_workers=3)\n",
        "    valloader = torch.utils.data.DataLoader(valset, batch_size=batch_size, shuffle=False, pin_memory=True, num_workers=3)\n",
        "\n",
        "else:\n",
        "    trainloader = torch.utils.data.DataLoader(trainset, batch_size=batch_size, shuffle=True, pin_memory=False,\n",
        "                                              num_workers=3)\n",
        "    valloader = torch.utils.data.DataLoader(valset, batch_size=batch_size, shuffle=False, pin_memory=False,\n",
        "                                            num_workers=3)\n",
        "\n",
        "\n",
        "## ---------------------------------------------------------------------------------------------------------------------\n",
        "# net dims\n",
        "cprint('c', '\\nNetwork:')\n",
        "\n",
        "\n",
        "\n",
        "########################################################################################\n",
        "net = Net_langevin(lr=lr, cuda=use_cuda, classes=10,DP_or_Not=False, N_train=NTrainPointsMNIST, norm_sigma=norm_sigma,laplace_b=laplace_b,which_net=Linear_2L(28*28,10))\n",
        "\n",
        "\n",
        "## weight saving parameters #######\n",
        "start_save = 15\n",
        "save_every = 2 # We want less correlated samples -> despite having per minibatch noise we see correlations\n",
        "N_saves = 90\n",
        "###################################\n",
        "\n",
        "\n",
        "## ---------------------------------------------------------------------------------------------------------------------\n",
        "# train\n",
        "cprint('c', '\\nTrain:')\n",
        "\n",
        "print('  init cost variables:')\n",
        "pred_cost_train = np.zeros(nb_epochs)\n",
        "err_train = np.zeros(nb_epochs)\n",
        "\n",
        "cost_dev = np.zeros(nb_epochs)\n",
        "err_dev = np.zeros(nb_epochs)\n",
        "# best_cost = np.inf\n",
        "best_err = np.inf\n",
        "\n",
        "\n",
        "nb_its_dev = 1\n",
        "\n",
        "tic0 = time.time()\n",
        "from tqdm import tqdm\n",
        "\n",
        "for i in range(nb_epochs):\n",
        "    \n",
        "#     if i in [1]:\n",
        "#         print('updating lr')\n",
        "#         net.sched.step()\n",
        "    \n",
        "    net.set_mode_train(True)\n",
        "\n",
        "    tic = time.time()\n",
        "    nb_samples = 0\n",
        "\n",
        "    for x, y in tqdm(trainloader):\n",
        "        cost_pred, err = net.fit(x, y)\n",
        "\n",
        "        err_train[i] += err\n",
        "        pred_cost_train[i] += torch.mean(cost_pred)\n",
        "        nb_samples += len(x)\n",
        "\n",
        "    pred_cost_train[i] /= nb_samples\n",
        "    err_train[i] /= nb_samples\n",
        "\n",
        "    toc = time.time()\n",
        "    net.epoch = i\n",
        "    # ---- print\n",
        "    print(\"it %d/%d, Jtr_pred = %f, err = %f, \" % (i, nb_epochs, pred_cost_train[i], err_train[i]), end=\"\")\n",
        "    cprint('r', '   time: %f seconds\\n' % (toc - tic))\n",
        "    \n",
        "    # ---- save weights\n",
        "    if i >= start_save and i % save_every == 0:\n",
        "        net.save_sampled_net(max_samples=N_saves)\n",
        "        save_dicts.append(copy.deepcopy(net.model.state_dict()))\n",
        "\n",
        "    # ---- dev\n",
        "    if i % nb_its_dev == 0:\n",
        "        net.set_mode_train(False)\n",
        "        nb_samples = 0\n",
        "        for j, (x, y) in enumerate(valloader):\n",
        "\n",
        "            cost, err, probs = net.eval(x, y)\n",
        "\n",
        "            cost_dev[i] += cost\n",
        "            err_dev[i] += err\n",
        "            nb_samples += len(x)\n",
        "\n",
        "        cost_dev[i] /= nb_samples\n",
        "        err_dev[i] /= nb_samples\n",
        "\n",
        "        cprint('g', '    Jdev = %f, err = %f\\n' % (cost_dev[i], err_dev[i]))\n",
        "\n",
        "        if err_dev[i] < best_err:\n",
        "            best_err = err_dev[i]\n",
        "            cprint('b', 'best test error')\n",
        "            net.save(models_dir+'/theta_best.dat')\n",
        "   \n",
        "toc0 = time.time()\n",
        "runtime_per_it = (toc0 - tic0) / float(nb_epochs)\n",
        "cprint('r', '   average time: %f seconds\\n' % runtime_per_it)\n",
        "\n",
        "net.save(models_dir+'/theta_last.dat')\n",
        "\n",
        "## ---------------------------------------------------------------------------------------------------------------------\n",
        "# results\n",
        "cprint('c', '\\nRESULTS:')\n",
        "nb_parameters = net.get_nb_parameters()\n",
        "best_cost_dev = np.min(cost_dev)\n",
        "best_cost_train = np.min(pred_cost_train)\n",
        "err_dev_min = err_dev[::nb_its_dev].min()\n",
        "\n",
        "print('  cost_dev: %f (cost_train %f)' % (best_cost_dev, best_cost_train))\n",
        "print('  err_dev: %f' % (err_dev_min))\n",
        "print('  nb_parameters: %d (%s)' % (nb_parameters, humansize(nb_parameters)))\n",
        "print('  time_per_it: %fs\\n' % (runtime_per_it))\n",
        "\n",
        "\n",
        "\n",
        "## Save results for plots\n",
        "# np.save('results/test_predictions.npy', test_predictions)\n",
        "np.save(results_dir + '/cost_train.npy', pred_cost_train)\n",
        "np.save(results_dir + '/cost_dev.npy', cost_dev)\n",
        "np.save(results_dir + '/err_train.npy', err_train)\n",
        "np.save(results_dir + '/err_dev.npy', err_dev)\n",
        "np.save(results_dir + '/save_dicts.npy', save_dicts)\n",
        " \n",
        " \n",
        " "
      ],
      "execution_count": null,
      "outputs": [
        {
          "output_type": "stream",
          "text": [
            "\u001b[36m\n",
            "Data:\u001b[0m\n",
            "\u001b[36m\n",
            "Network:\u001b[0m\n",
            "\u001b[36m\n",
            "Net:\u001b[0m\n",
            "\u001b[33m Creating Net!! \u001b[0m\n",
            "    Total params: 2.40M\n",
            "\u001b[36m\n",
            "Train:\u001b[0m\n"
          ],
          "name": "stdout"
        },
        {
          "output_type": "stream",
          "text": [
            "/usr/local/lib/python3.7/dist-packages/torch/utils/data/dataloader.py:477: UserWarning: This DataLoader will create 3 worker processes in total. Our suggested max number of worker in current system is 2, which is smaller than what this DataLoader is going to create. Please be aware that excessive worker creation might get DataLoader running slow or even freeze, lower the worker number to avoid potential slowness/freeze if necessary.\n",
            "  cpuset_checked))\n",
            "/usr/local/lib/python3.7/dist-packages/ipykernel_launcher.py:7: DeprecationWarning: Calling np.sum(generator) is deprecated, and in the future will give a different result. Use np.sum(np.fromiter(generator)) or the python sum builtin instead.\n",
            "  import sys\n",
            "/usr/local/lib/python3.7/dist-packages/opacus/privacy_engine.py:523: UserWarning: A ``sample_rate`` has been provided.Thus, the provided ``batch_size``and ``sample_size`` will be ignored.\n",
            "  \"A ``sample_rate`` has been provided.\"\n",
            "/usr/local/lib/python3.7/dist-packages/opacus/privacy_engine.py:195: UserWarning: Secure RNG turned off. This is perfectly fine for experimentation as it allows for much faster training performance, but remember to turn it on and retrain one last time before production with ``secure_rng`` turned on.\n",
            "  \"Secure RNG turned off. This is perfectly fine for experimentation as it allows \"\n",
            "\r  0%|          | 0/235 [00:00<?, ?it/s]"
          ],
          "name": "stderr"
        },
        {
          "output_type": "stream",
          "text": [
            "  init cost variables:\n"
          ],
          "name": "stdout"
        },
        {
          "output_type": "stream",
          "text": [
            "/usr/local/lib/python3.7/dist-packages/torch/utils/data/dataloader.py:477: UserWarning: This DataLoader will create 3 worker processes in total. Our suggested max number of worker in current system is 2, which is smaller than what this DataLoader is going to create. Please be aware that excessive worker creation might get DataLoader running slow or even freeze, lower the worker number to avoid potential slowness/freeze if necessary.\n",
            "  cpuset_checked))\n",
            "/usr/local/lib/python3.7/dist-packages/torch/nn/modules/module.py:795: UserWarning: Using a non-full backward hook when the forward contains multiple autograd Nodes is deprecated and will be removed in future versions. This hook will be missing some grad_input. Please use register_full_backward_hook to get the documented behavior.\n",
            "  warnings.warn(\"Using a non-full backward hook when the forward contains multiple autograd Nodes \"\n",
            "100%|██████████| 235/235 [00:09<00:00, 23.62it/s]"
          ],
          "name": "stderr"
        },
        {
          "output_type": "stream",
          "text": [
            "it 0/15, Jtr_pred = 0.575287, err = 0.164633, \u001b[31m   time: 9.951154 seconds\n",
            "\u001b[0m\n"
          ],
          "name": "stdout"
        },
        {
          "output_type": "stream",
          "text": [
            "\n"
          ],
          "name": "stderr"
        },
        {
          "output_type": "stream",
          "text": [
            "\u001b[32m    Jdev = 0.409699, err = 0.113100\n",
            "\u001b[0m\n",
            "\u001b[34mbest test error\u001b[0m\n",
            "\u001b[36mWritting models_SGLD_MNIST_ndplaplacian/theta_best.dat\n",
            "\u001b[0m\n"
          ],
          "name": "stdout"
        },
        {
          "output_type": "stream",
          "text": [
            "100%|██████████| 235/235 [00:09<00:00, 23.69it/s]"
          ],
          "name": "stderr"
        },
        {
          "output_type": "stream",
          "text": [
            "it 1/15, Jtr_pred = 0.428962, err = 0.110767, \u001b[31m   time: 9.923389 seconds\n",
            "\u001b[0m\n"
          ],
          "name": "stdout"
        },
        {
          "output_type": "stream",
          "text": [
            "\n"
          ],
          "name": "stderr"
        },
        {
          "output_type": "stream",
          "text": [
            "\u001b[32m    Jdev = 0.451488, err = 0.110100\n",
            "\u001b[0m\n",
            "\u001b[34mbest test error\u001b[0m\n",
            "\u001b[36mWritting models_SGLD_MNIST_ndplaplacian/theta_best.dat\n",
            "\u001b[0m\n"
          ],
          "name": "stdout"
        },
        {
          "output_type": "stream",
          "text": [
            "100%|██████████| 235/235 [00:10<00:00, 23.36it/s]"
          ],
          "name": "stderr"
        },
        {
          "output_type": "stream",
          "text": [
            "it 2/15, Jtr_pred = 0.444653, err = 0.107850, \u001b[31m   time: 10.061934 seconds\n",
            "\u001b[0m\n"
          ],
          "name": "stdout"
        },
        {
          "output_type": "stream",
          "text": [
            "\n"
          ],
          "name": "stderr"
        },
        {
          "output_type": "stream",
          "text": [
            "\u001b[32m    Jdev = 0.486672, err = 0.113500\n",
            "\u001b[0m\n"
          ],
          "name": "stdout"
        },
        {
          "output_type": "stream",
          "text": [
            "100%|██████████| 235/235 [00:09<00:00, 23.78it/s]"
          ],
          "name": "stderr"
        },
        {
          "output_type": "stream",
          "text": [
            "it 3/15, Jtr_pred = 0.475376, err = 0.107667, \u001b[31m   time: 9.887226 seconds\n",
            "\u001b[0m\n"
          ],
          "name": "stdout"
        },
        {
          "output_type": "stream",
          "text": [
            "\n"
          ],
          "name": "stderr"
        },
        {
          "output_type": "stream",
          "text": [
            "\u001b[32m    Jdev = 0.466036, err = 0.104300\n",
            "\u001b[0m\n",
            "\u001b[34mbest test error\u001b[0m\n",
            "\u001b[36mWritting models_SGLD_MNIST_ndplaplacian/theta_best.dat\n",
            "\u001b[0m\n"
          ],
          "name": "stdout"
        },
        {
          "output_type": "stream",
          "text": [
            "100%|██████████| 235/235 [00:09<00:00, 23.58it/s]"
          ],
          "name": "stderr"
        },
        {
          "output_type": "stream",
          "text": [
            "it 4/15, Jtr_pred = 0.499270, err = 0.108433, \u001b[31m   time: 9.968985 seconds\n",
            "\u001b[0m\n"
          ],
          "name": "stdout"
        },
        {
          "output_type": "stream",
          "text": [
            "\n"
          ],
          "name": "stderr"
        },
        {
          "output_type": "stream",
          "text": [
            "\u001b[32m    Jdev = 0.590824, err = 0.124300\n",
            "\u001b[0m\n"
          ],
          "name": "stdout"
        },
        {
          "output_type": "stream",
          "text": [
            "100%|██████████| 235/235 [00:09<00:00, 23.89it/s]"
          ],
          "name": "stderr"
        },
        {
          "output_type": "stream",
          "text": [
            "it 5/15, Jtr_pred = 0.514864, err = 0.108583, \u001b[31m   time: 9.844457 seconds\n",
            "\u001b[0m\n"
          ],
          "name": "stdout"
        },
        {
          "output_type": "stream",
          "text": [
            "\n"
          ],
          "name": "stderr"
        },
        {
          "output_type": "stream",
          "text": [
            "\u001b[32m    Jdev = 0.499215, err = 0.108100\n",
            "\u001b[0m\n"
          ],
          "name": "stdout"
        },
        {
          "output_type": "stream",
          "text": [
            "100%|██████████| 235/235 [00:09<00:00, 23.87it/s]"
          ],
          "name": "stderr"
        },
        {
          "output_type": "stream",
          "text": [
            "it 6/15, Jtr_pred = 0.536860, err = 0.110967, \u001b[31m   time: 9.854952 seconds\n",
            "\u001b[0m\n"
          ],
          "name": "stdout"
        },
        {
          "output_type": "stream",
          "text": [
            "\n"
          ],
          "name": "stderr"
        },
        {
          "output_type": "stream",
          "text": [
            "\u001b[32m    Jdev = 0.630002, err = 0.127200\n",
            "\u001b[0m\n"
          ],
          "name": "stdout"
        },
        {
          "output_type": "stream",
          "text": [
            "100%|██████████| 235/235 [00:09<00:00, 23.92it/s]"
          ],
          "name": "stderr"
        },
        {
          "output_type": "stream",
          "text": [
            "it 7/15, Jtr_pred = 0.535930, err = 0.109200, \u001b[31m   time: 9.836045 seconds\n",
            "\u001b[0m\n"
          ],
          "name": "stdout"
        },
        {
          "output_type": "stream",
          "text": [
            "\n"
          ],
          "name": "stderr"
        },
        {
          "output_type": "stream",
          "text": [
            "\u001b[32m    Jdev = 0.560682, err = 0.110800\n",
            "\u001b[0m\n"
          ],
          "name": "stdout"
        },
        {
          "output_type": "stream",
          "text": [
            "100%|██████████| 235/235 [00:09<00:00, 23.71it/s]"
          ],
          "name": "stderr"
        },
        {
          "output_type": "stream",
          "text": [
            "it 8/15, Jtr_pred = 0.547129, err = 0.109517, \u001b[31m   time: 9.915766 seconds\n",
            "\u001b[0m\n"
          ],
          "name": "stdout"
        },
        {
          "output_type": "stream",
          "text": [
            "\n"
          ],
          "name": "stderr"
        },
        {
          "output_type": "stream",
          "text": [
            "\u001b[32m    Jdev = 0.604353, err = 0.118300\n",
            "\u001b[0m\n"
          ],
          "name": "stdout"
        },
        {
          "output_type": "stream",
          "text": [
            "100%|██████████| 235/235 [00:09<00:00, 23.71it/s]"
          ],
          "name": "stderr"
        },
        {
          "output_type": "stream",
          "text": [
            "it 9/15, Jtr_pred = 0.537406, err = 0.105917, \u001b[31m   time: 9.915068 seconds\n",
            "\u001b[0m\n"
          ],
          "name": "stdout"
        },
        {
          "output_type": "stream",
          "text": [
            "\n"
          ],
          "name": "stderr"
        },
        {
          "output_type": "stream",
          "text": [
            "\u001b[32m    Jdev = 0.549893, err = 0.107700\n",
            "\u001b[0m\n"
          ],
          "name": "stdout"
        },
        {
          "output_type": "stream",
          "text": [
            "100%|██████████| 235/235 [00:09<00:00, 23.59it/s]"
          ],
          "name": "stderr"
        },
        {
          "output_type": "stream",
          "text": [
            "it 10/15, Jtr_pred = 0.532504, err = 0.106217, \u001b[31m   time: 9.963025 seconds\n",
            "\u001b[0m\n"
          ],
          "name": "stdout"
        },
        {
          "output_type": "stream",
          "text": [
            "\n"
          ],
          "name": "stderr"
        },
        {
          "output_type": "stream",
          "text": [
            "\u001b[32m    Jdev = 0.520974, err = 0.104900\n",
            "\u001b[0m\n"
          ],
          "name": "stdout"
        },
        {
          "output_type": "stream",
          "text": [
            "100%|██████████| 235/235 [00:09<00:00, 23.65it/s]"
          ],
          "name": "stderr"
        },
        {
          "output_type": "stream",
          "text": [
            "it 11/15, Jtr_pred = 0.523396, err = 0.108317, \u001b[31m   time: 9.942082 seconds\n",
            "\u001b[0m\n"
          ],
          "name": "stdout"
        },
        {
          "output_type": "stream",
          "text": [
            "\n"
          ],
          "name": "stderr"
        },
        {
          "output_type": "stream",
          "text": [
            "\u001b[32m    Jdev = 0.574687, err = 0.116500\n",
            "\u001b[0m\n"
          ],
          "name": "stdout"
        },
        {
          "output_type": "stream",
          "text": [
            "100%|██████████| 235/235 [00:09<00:00, 23.64it/s]"
          ],
          "name": "stderr"
        },
        {
          "output_type": "stream",
          "text": [
            "it 12/15, Jtr_pred = 0.523351, err = 0.105900, \u001b[31m   time: 9.950850 seconds\n",
            "\u001b[0m\n"
          ],
          "name": "stdout"
        },
        {
          "output_type": "stream",
          "text": [
            "\n"
          ],
          "name": "stderr"
        },
        {
          "output_type": "stream",
          "text": [
            "\u001b[32m    Jdev = 0.656560, err = 0.126200\n",
            "\u001b[0m\n"
          ],
          "name": "stdout"
        },
        {
          "output_type": "stream",
          "text": [
            "100%|██████████| 235/235 [00:09<00:00, 23.75it/s]"
          ],
          "name": "stderr"
        },
        {
          "output_type": "stream",
          "text": [
            "it 13/15, Jtr_pred = 0.530333, err = 0.106433, \u001b[31m   time: 9.902237 seconds\n",
            "\u001b[0m\n"
          ],
          "name": "stdout"
        },
        {
          "output_type": "stream",
          "text": [
            "\n"
          ],
          "name": "stderr"
        },
        {
          "output_type": "stream",
          "text": [
            "\u001b[32m    Jdev = 0.533488, err = 0.110400\n",
            "\u001b[0m\n"
          ],
          "name": "stdout"
        },
        {
          "output_type": "stream",
          "text": [
            "100%|██████████| 235/235 [00:09<00:00, 23.72it/s]"
          ],
          "name": "stderr"
        },
        {
          "output_type": "stream",
          "text": [
            "it 14/15, Jtr_pred = 0.526827, err = 0.106817, \u001b[31m   time: 9.912264 seconds\n",
            "\u001b[0m\n"
          ],
          "name": "stdout"
        },
        {
          "output_type": "stream",
          "text": [
            "\n"
          ],
          "name": "stderr"
        },
        {
          "output_type": "stream",
          "text": [
            "\u001b[32m    Jdev = 0.586912, err = 0.112900\n",
            "\u001b[0m\n",
            "\u001b[31m   average time: 11.261992 seconds\n",
            "\u001b[0m\n",
            "\u001b[36mWritting models_SGLD_MNIST_ndplaplacian/theta_last.dat\n",
            "\u001b[0m\n",
            "\u001b[36m\n",
            "RESULTS:\u001b[0m\n",
            "  cost_dev: 0.409699 (cost_train 0.428962)\n",
            "  err_dev: 0.104300\n",
            "  nb_parameters: 2395210 (2.28MB)\n",
            "  time_per_it: 11.261992s\n",
            "\n"
          ],
          "name": "stdout"
        },
        {
          "output_type": "stream",
          "text": [
            "/usr/local/lib/python3.7/dist-packages/ipykernel_launcher.py:7: DeprecationWarning: Calling np.sum(generator) is deprecated, and in the future will give a different result. Use np.sum(np.fromiter(generator)) or the python sum builtin instead.\n",
            "  import sys\n"
          ],
          "name": "stderr"
        }
      ]
    },
    {
      "cell_type": "markdown",
      "metadata": {
        "id": "5ODUmk-l4nC8"
      },
      "source": [
        "# Training Bayesian Linear 2 Layers MNIST (Gaussian prior) DP"
      ]
    },
    {
      "cell_type": "code",
      "metadata": {
        "colab": {
          "base_uri": "https://localhost:8080/"
        },
        "id": "z61wJUA6iuiF",
        "outputId": "4a080d18-7a63-4ca6-bce7-2727122ccda9"
      },
      "source": [
        "models_dir = 'models_SGLD_MNIST_gaussian'\n",
        "results_dir = 'results_SGLD_MNIST_gaussian'\n",
        "\n",
        "mkdir(models_dir)\n",
        "mkdir(results_dir)\n",
        "\n",
        "save_dicts = []\n",
        "# ------------------------------------------------------------------------------------------------------\n",
        "# train config\n",
        "NTrainPointsMNIST = 60000\n",
        "batch_size = 256\n",
        "nb_epochs = 15 # We can do less iterations as this method has faster convergence\n",
        "log_interval = 1\n",
        "\n",
        "lr = 1e-5\n",
        "norm_sigma =0.1 \n",
        "laplace_b=0\n",
        "noise_multiplier = 1.3\n",
        "clipping_norm=1.5\n",
        "DP_or_Not=True\n",
        "# ------------------------------------------------------------------------------------------------------\n",
        "# dataset\n",
        "cprint('c', '\\nData:')\n",
        "\n",
        " \n",
        "\n",
        "# load data\n",
        "\n",
        "# data augmentation\n",
        "transform_train = transforms.Compose([\n",
        "    transforms.ToTensor(),\n",
        "    transforms.Normalize(mean=(0.1307,), std=(0.3081,))\n",
        "])\n",
        "\n",
        "transform_test = transforms.Compose([\n",
        "    transforms.ToTensor(),\n",
        "    transforms.Normalize(mean=(0.1307,), std=(0.3081,))\n",
        "])\n",
        "\n",
        "use_cuda = torch.cuda.is_available()\n",
        "\n",
        "trainset = datasets.MNIST(root='/content/data', train=True, download=True, transform=transform_train)\n",
        "valset = datasets.MNIST(root='/content/data', train=False, download=True, transform=transform_test)\n",
        "\n",
        "if use_cuda:\n",
        "    trainloader = torch.utils.data.DataLoader(trainset, batch_size=batch_size, shuffle=True, pin_memory=True, num_workers=3)\n",
        "    valloader = torch.utils.data.DataLoader(valset, batch_size=batch_size, shuffle=False, pin_memory=True, num_workers=3)\n",
        "\n",
        "else:\n",
        "    trainloader = torch.utils.data.DataLoader(trainset, batch_size=batch_size, shuffle=True, pin_memory=False,\n",
        "                                              num_workers=3)\n",
        "    valloader = torch.utils.data.DataLoader(valset, batch_size=batch_size, shuffle=False, pin_memory=False,\n",
        "                                            num_workers=3)\n",
        "\n",
        "\n",
        "## ---------------------------------------------------------------------------------------------------------------------\n",
        "# net dims\n",
        "cprint('c', '\\nNetwork:')\n",
        "\n",
        "\n",
        "\n",
        " "
      ],
      "execution_count": null,
      "outputs": [
        {
          "output_type": "stream",
          "text": [
            "\u001b[36m\n",
            "Data:\u001b[0m\n",
            "\u001b[36m\n",
            "Network:\u001b[0m\n"
          ],
          "name": "stdout"
        },
        {
          "output_type": "stream",
          "text": [
            "/usr/local/lib/python3.7/dist-packages/torch/utils/data/dataloader.py:481: UserWarning: This DataLoader will create 3 worker processes in total. Our suggested max number of worker in current system is 2, which is smaller than what this DataLoader is going to create. Please be aware that excessive worker creation might get DataLoader running slow or even freeze, lower the worker number to avoid potential slowness/freeze if necessary.\n",
            "  cpuset_checked))\n"
          ],
          "name": "stderr"
        }
      ]
    },
    {
      "cell_type": "code",
      "metadata": {
        "id": "bZqbFXB3Z2Q6"
      },
      "source": [
        "########################################################################################\n",
        "net = Net_langevin(lr=lr, cuda=use_cuda, classes=10,DP_or_Not=True, N_train=NTrainPointsMNIST, norm_sigma=norm_sigma,laplace_b=laplace_b,which_net=Linear_2L(28*28,10))\n",
        "\n",
        "## weight saving parameters #######\n",
        "start_save = 5\n",
        "save_every = 1 # We want less correlated samples -> despite having per minibatch noise we see correlations\n",
        "N_saves = 90\n",
        "###################################\n",
        "\n",
        "\n",
        "## ---------------------------------------------------------------------------------------------------------------------\n",
        "# train\n",
        "cprint('c', '\\nTrain:')\n",
        "\n",
        "print('  init cost variables:')\n",
        "pred_cost_train = np.zeros(nb_epochs)\n",
        "err_train = np.zeros(nb_epochs)\n",
        "\n",
        "cost_dev = np.zeros(nb_epochs)\n",
        "err_dev = np.zeros(nb_epochs)\n",
        "# best_cost = np.inf\n",
        "best_err = np.inf\n",
        "\n",
        "\n",
        "nb_its_dev = 1\n",
        "\n",
        "tic0 = time.time()\n",
        "from tqdm import tqdm\n",
        "\n",
        "for i in range(nb_epochs):\n",
        "    \n",
        "#     if i in [1]:\n",
        "#         print('updating lr')\n",
        "#         net.sched.step()\n",
        "    \n",
        "    net.set_mode_train(True)\n",
        "\n",
        "    tic = time.time()\n",
        "    nb_samples = 0\n",
        "\n",
        "    for x, y in tqdm(trainloader):\n",
        "        cost_pred, err = net.fit(x, y)\n",
        "        #print(cost_pred)\n",
        "        #print(err)\n",
        "        err_train[i] += err\n",
        "        #pred_cost_train[i] += cost_pred\n",
        "        pred_cost_train[i] += torch.mean(cost_pred)\n",
        "        nb_samples += len(x)\n",
        "\n",
        "    pred_cost_train[i] /= nb_samples\n",
        "    err_train[i] /= nb_samples\n",
        "\n",
        "    toc = time.time()\n",
        "    net.epoch = i\n",
        "    # ---- print\n",
        "    print(\"it %d/%d, Jtr_pred = %f, err = %f, \" % (i, nb_epochs, pred_cost_train[i], err_train[i]), end=\"\")\n",
        "    cprint('r', '   time: %f seconds\\n' % (toc - tic))\n",
        "    \n",
        "    # ---- save weights\n",
        "    if i >= start_save and i % save_every == 0:\n",
        "        net.save_sampled_net(max_samples=N_saves)\n",
        "        save_dicts.append(copy.deepcopy(net.model.state_dict()))\n",
        "    # ---- dev\n",
        "    if i % nb_its_dev == 0:\n",
        "        net.set_mode_train(False)\n",
        "        nb_samples = 0\n",
        "        for j, (x, y) in enumerate(valloader):\n",
        "\n",
        "            cost, err, probs = net.eval(x, y)\n",
        "\n",
        "            cost_dev[i] += cost\n",
        "            err_dev[i] += err\n",
        "            nb_samples += len(x)\n",
        "\n",
        "        cost_dev[i] /= nb_samples\n",
        "        err_dev[i] /= nb_samples\n",
        "\n",
        "        cprint('g', '    Jdev = %f, err = %f\\n' % (cost_dev[i], err_dev[i]))\n",
        "\n",
        "        if err_dev[i] < best_err:\n",
        "            best_err = err_dev[i]\n",
        "            cprint('b', 'best test error')\n",
        "            net.save(models_dir+'/theta_best.dat')\n",
        "   \n",
        "toc0 = time.time()\n",
        "runtime_per_it = (toc0 - tic0) / float(nb_epochs)\n",
        "cprint('r', '   average time: %f seconds\\n' % runtime_per_it)\n",
        "\n",
        "net.save(models_dir+'/theta_last.dat')\n",
        "\n",
        "## ---------------------------------------------------------------------------------------------------------------------\n",
        "# results\n",
        "cprint('c', '\\nRESULTS:')\n",
        "nb_parameters = net.get_nb_parameters()\n",
        "best_cost_dev = np.min(cost_dev)\n",
        "best_cost_train = np.min(pred_cost_train)\n",
        "err_dev_min = err_dev[::nb_its_dev].min()\n",
        "\n",
        "print('  cost_dev: %f (cost_train %f)' % (best_cost_dev, best_cost_train))\n",
        "print('  err_dev: %f' % (err_dev_min))\n",
        "print('  nb_parameters: %d (%s)' % (nb_parameters, humansize(nb_parameters)))\n",
        "print('  time_per_it: %fs\\n' % (runtime_per_it))\n",
        "\n",
        "\n",
        "\n",
        "## Save results for plots\n",
        "# np.save('results/test_predictions.npy', test_predictions)\n",
        "np.save(results_dir + '/cost_train.npy', pred_cost_train)\n",
        "np.save(results_dir + '/cost_dev.npy', cost_dev)\n",
        "np.save(results_dir + '/err_train.npy', err_train)\n",
        "np.save(results_dir + '/err_dev.npy', err_dev)\n",
        "np.save(results_dir + '/save_dicts.npy',save_dicts )\n",
        "\n"
      ],
      "execution_count": null,
      "outputs": []
    },
    {
      "cell_type": "markdown",
      "metadata": {
        "id": "WGYNfrtK5al2"
      },
      "source": [
        "# Training Bayesian Linear 2 Layers MNIST (Gaussian prior) non-DP"
      ]
    },
    {
      "cell_type": "code",
      "metadata": {
        "colab": {
          "base_uri": "https://localhost:8080/"
        },
        "id": "790ay07F5r-N",
        "outputId": "64fcb45b-b0bf-460e-e49d-ae54557b912b"
      },
      "source": [
        "models_dir = 'models_SGLD_MNIST_gaussian'\n",
        "results_dir = 'results_SGLD_MNIST_gaussian'\n",
        "\n",
        "mkdir(models_dir)\n",
        "mkdir(results_dir)\n",
        "\n",
        "save_dicts = []\n",
        "# ------------------------------------------------------------------------------------------------------\n",
        "# train config\n",
        "NTrainPointsMNIST = 60000\n",
        "batch_size = 256\n",
        "nb_epochs = 15 # We can do less iterations as this method has faster convergence\n",
        "log_interval = 1\n",
        "\n",
        "lr = 1e-5\n",
        "norm_sigma =0.1 \n",
        "laplace_b=0\n",
        "noise_multiplier = 1.3\n",
        "clipping_norm=1.5\n",
        "DP_or_Not=True\n",
        "# ------------------------------------------------------------------------------------------------------\n",
        "# dataset\n",
        "cprint('c', '\\nData:')\n",
        "\n",
        " \n",
        "\n",
        "# load data\n",
        "\n",
        "# data augmentation\n",
        "transform_train = transforms.Compose([\n",
        "    transforms.ToTensor(),\n",
        "    transforms.Normalize(mean=(0.1307,), std=(0.3081,))\n",
        "])\n",
        "\n",
        "transform_test = transforms.Compose([\n",
        "    transforms.ToTensor(),\n",
        "    transforms.Normalize(mean=(0.1307,), std=(0.3081,))\n",
        "])\n",
        "\n",
        "use_cuda = torch.cuda.is_available()\n",
        "\n",
        "trainset = datasets.MNIST(root='/content/data', train=True, download=True, transform=transform_train)\n",
        "valset = datasets.MNIST(root='/content/data', train=False, download=True, transform=transform_test)\n",
        "\n",
        "if use_cuda:\n",
        "    trainloader = torch.utils.data.DataLoader(trainset, batch_size=batch_size, shuffle=True, pin_memory=True, num_workers=3)\n",
        "    valloader = torch.utils.data.DataLoader(valset, batch_size=batch_size, shuffle=False, pin_memory=True, num_workers=3)\n",
        "\n",
        "else:\n",
        "    trainloader = torch.utils.data.DataLoader(trainset, batch_size=batch_size, shuffle=True, pin_memory=False,\n",
        "                                              num_workers=3)\n",
        "    valloader = torch.utils.data.DataLoader(valset, batch_size=batch_size, shuffle=False, pin_memory=False,\n",
        "                                            num_workers=3)\n",
        "\n",
        "\n",
        "## ---------------------------------------------------------------------------------------------------------------------\n",
        "# net dims\n",
        "cprint('c', '\\nNetwork:')\n",
        "\n",
        "\n",
        "########################################################################################\n",
        "net = Net_langevin(lr=lr, cuda=use_cuda, classes=10,DP_or_Not=False, N_train=NTrainPointsMNIST, norm_sigma=norm_sigma,laplace_b=laplace_b,which_net=Linear_2L(28*28,10))\n",
        "\n",
        "## weight saving parameters #######\n",
        "start_save = 5\n",
        "save_every = 1 # We want less correlated samples -> despite having per minibatch noise we see correlations\n",
        "N_saves = 90\n",
        "###################################\n",
        "\n",
        "\n",
        "## ---------------------------------------------------------------------------------------------------------------------\n",
        "# train\n",
        "cprint('c', '\\nTrain:')\n",
        "\n",
        "print('  init cost variables:')\n",
        "pred_cost_train = np.zeros(nb_epochs)\n",
        "err_train = np.zeros(nb_epochs)\n",
        "\n",
        "cost_dev = np.zeros(nb_epochs)\n",
        "err_dev = np.zeros(nb_epochs)\n",
        "# best_cost = np.inf\n",
        "best_err = np.inf\n",
        "\n",
        "\n",
        "nb_its_dev = 1\n",
        "\n",
        "tic0 = time.time()\n",
        "from tqdm import tqdm\n",
        "\n",
        "for i in range(nb_epochs):\n",
        "    \n",
        "#     if i in [1]:\n",
        "#         print('updating lr')\n",
        "#         net.sched.step()\n",
        "    \n",
        "    net.set_mode_train(True)\n",
        "\n",
        "    tic = time.time()\n",
        "    nb_samples = 0\n",
        "\n",
        "    for x, y in tqdm(trainloader):\n",
        "        cost_pred, err = net.fit(x, y)\n",
        "        #print(cost_pred)\n",
        "        #print(err)\n",
        "        err_train[i] += err\n",
        "        #pred_cost_train[i] += cost_pred\n",
        "        pred_cost_train[i] += torch.mean(cost_pred)\n",
        "        nb_samples += len(x)\n",
        "\n",
        "    pred_cost_train[i] /= nb_samples\n",
        "    err_train[i] /= nb_samples\n",
        "\n",
        "    toc = time.time()\n",
        "    net.epoch = i\n",
        "    # ---- print\n",
        "    print(\"it %d/%d, Jtr_pred = %f, err = %f, \" % (i, nb_epochs, pred_cost_train[i], err_train[i]), end=\"\")\n",
        "    cprint('r', '   time: %f seconds\\n' % (toc - tic))\n",
        "    \n",
        "    # ---- save weights\n",
        "    if i >= start_save and i % save_every == 0:\n",
        "        net.save_sampled_net(max_samples=N_saves)\n",
        "        save_dicts.append(copy.deepcopy(net.model.state_dict()))\n",
        "    # ---- dev\n",
        "    if i % nb_its_dev == 0:\n",
        "        net.set_mode_train(False)\n",
        "        nb_samples = 0\n",
        "        for j, (x, y) in enumerate(valloader):\n",
        "\n",
        "            cost, err, probs = net.eval(x, y)\n",
        "\n",
        "            cost_dev[i] += cost\n",
        "            err_dev[i] += err\n",
        "            nb_samples += len(x)\n",
        "\n",
        "        cost_dev[i] /= nb_samples\n",
        "        err_dev[i] /= nb_samples\n",
        "\n",
        "        cprint('g', '    Jdev = %f, err = %f\\n' % (cost_dev[i], err_dev[i]))\n",
        "\n",
        "        if err_dev[i] < best_err:\n",
        "            best_err = err_dev[i]\n",
        "            cprint('b', 'best test error')\n",
        "            net.save(models_dir+'/theta_best.dat')\n",
        "   \n",
        "toc0 = time.time()\n",
        "runtime_per_it = (toc0 - tic0) / float(nb_epochs)\n",
        "cprint('r', '   average time: %f seconds\\n' % runtime_per_it)\n",
        "\n",
        "net.save(models_dir+'/theta_last.dat')\n",
        "\n",
        "## ---------------------------------------------------------------------------------------------------------------------\n",
        "# results\n",
        "cprint('c', '\\nRESULTS:')\n",
        "nb_parameters = net.get_nb_parameters()\n",
        "best_cost_dev = np.min(cost_dev)\n",
        "best_cost_train = np.min(pred_cost_train)\n",
        "err_dev_min = err_dev[::nb_its_dev].min()\n",
        "\n",
        "print('  cost_dev: %f (cost_train %f)' % (best_cost_dev, best_cost_train))\n",
        "print('  err_dev: %f' % (err_dev_min))\n",
        "print('  nb_parameters: %d (%s)' % (nb_parameters, humansize(nb_parameters)))\n",
        "print('  time_per_it: %fs\\n' % (runtime_per_it))\n",
        "\n",
        "\n",
        "\n",
        "## Save results for plots\n",
        "# np.save('results/test_predictions.npy', test_predictions)\n",
        "np.save(results_dir + '/cost_train.npy', pred_cost_train)\n",
        "np.save(results_dir + '/cost_dev.npy', cost_dev)\n",
        "np.save(results_dir + '/err_train.npy', err_train)\n",
        "np.save(results_dir + '/err_dev.npy', err_dev)\n",
        "np.save(results_dir + '/save_dicts.npy',save_dicts )\n",
        "\n",
        "\n",
        " "
      ],
      "execution_count": null,
      "outputs": [
        {
          "output_type": "stream",
          "text": [
            "\u001b[36m\n",
            "Data:\u001b[0m\n",
            "\u001b[36m\n",
            "Network:\u001b[0m\n",
            "\u001b[36m\n",
            "Net:\u001b[0m\n",
            "\u001b[33m Creating Net!! \u001b[0m\n",
            "    Total params: 2.40M\n",
            "\u001b[36m\n",
            "Train:\u001b[0m\n"
          ],
          "name": "stdout"
        },
        {
          "output_type": "stream",
          "text": [
            "/usr/local/lib/python3.7/dist-packages/torch/utils/data/dataloader.py:481: UserWarning: This DataLoader will create 3 worker processes in total. Our suggested max number of worker in current system is 2, which is smaller than what this DataLoader is going to create. Please be aware that excessive worker creation might get DataLoader running slow or even freeze, lower the worker number to avoid potential slowness/freeze if necessary.\n",
            "  cpuset_checked))\n",
            "/usr/local/lib/python3.7/dist-packages/ipykernel_launcher.py:7: DeprecationWarning: Calling np.sum(generator) is deprecated, and in the future will give a different result. Use np.sum(np.fromiter(generator)) or the python sum builtin instead.\n",
            "  import sys\n",
            "/usr/local/lib/python3.7/dist-packages/opacus/privacy_engine.py:523: UserWarning: A ``sample_rate`` has been provided.Thus, the provided ``batch_size``and ``sample_size`` will be ignored.\n",
            "  \"A ``sample_rate`` has been provided.\"\n",
            "/usr/local/lib/python3.7/dist-packages/opacus/privacy_engine.py:195: UserWarning: Secure RNG turned off. This is perfectly fine for experimentation as it allows for much faster training performance, but remember to turn it on and retrain one last time before production with ``secure_rng`` turned on.\n",
            "  \"Secure RNG turned off. This is perfectly fine for experimentation as it allows \"\n",
            "\r  0%|          | 0/235 [00:00<?, ?it/s]"
          ],
          "name": "stderr"
        },
        {
          "output_type": "stream",
          "text": [
            "  init cost variables:\n"
          ],
          "name": "stdout"
        },
        {
          "output_type": "stream",
          "text": [
            "/usr/local/lib/python3.7/dist-packages/torch/utils/data/dataloader.py:481: UserWarning: This DataLoader will create 3 worker processes in total. Our suggested max number of worker in current system is 2, which is smaller than what this DataLoader is going to create. Please be aware that excessive worker creation might get DataLoader running slow or even freeze, lower the worker number to avoid potential slowness/freeze if necessary.\n",
            "  cpuset_checked))\n",
            "/usr/local/lib/python3.7/dist-packages/torch/nn/modules/module.py:974: UserWarning: Using a non-full backward hook when the forward contains multiple autograd Nodes is deprecated and will be removed in future versions. This hook will be missing some grad_input. Please use register_full_backward_hook to get the documented behavior.\n",
            "  warnings.warn(\"Using a non-full backward hook when the forward contains multiple autograd Nodes \"\n",
            "/usr/local/lib/python3.7/dist-packages/ipykernel_launcher.py:33: UserWarning: This overload of add_ is deprecated:\n",
            "\tadd_(Number alpha, Tensor other)\n",
            "Consider using one of the following signatures instead:\n",
            "\tadd_(Tensor other, *, Number alpha) (Triggered internally at  /pytorch/torch/csrc/utils/python_arg_parser.cpp:1025.)\n",
            "100%|██████████| 235/235 [00:08<00:00, 27.50it/s]"
          ],
          "name": "stderr"
        },
        {
          "output_type": "stream",
          "text": [
            "it 0/15, Jtr_pred = 0.567571, err = 0.158783, \u001b[31m   time: 8.549930 seconds\n",
            "\u001b[0m\n"
          ],
          "name": "stdout"
        },
        {
          "output_type": "stream",
          "text": [
            "\n"
          ],
          "name": "stderr"
        },
        {
          "output_type": "stream",
          "text": [
            "\u001b[32m    Jdev = 0.422772, err = 0.108200\n",
            "\u001b[0m\n",
            "\u001b[34mbest test error\u001b[0m\n",
            "\u001b[36mWritting models_SGLD_MNIST_gaussian/theta_best.dat\n",
            "\u001b[0m\n"
          ],
          "name": "stdout"
        },
        {
          "output_type": "stream",
          "text": [
            "100%|██████████| 235/235 [00:08<00:00, 27.77it/s]"
          ],
          "name": "stderr"
        },
        {
          "output_type": "stream",
          "text": [
            "it 1/15, Jtr_pred = 0.457773, err = 0.108033, \u001b[31m   time: 8.465600 seconds\n",
            "\u001b[0m\n"
          ],
          "name": "stdout"
        },
        {
          "output_type": "stream",
          "text": [
            "\n"
          ],
          "name": "stderr"
        },
        {
          "output_type": "stream",
          "text": [
            "\u001b[32m    Jdev = 0.477143, err = 0.107500\n",
            "\u001b[0m\n",
            "\u001b[34mbest test error\u001b[0m\n",
            "\u001b[36mWritting models_SGLD_MNIST_gaussian/theta_best.dat\n",
            "\u001b[0m\n"
          ],
          "name": "stdout"
        },
        {
          "output_type": "stream",
          "text": [
            "100%|██████████| 235/235 [00:08<00:00, 27.36it/s]"
          ],
          "name": "stderr"
        },
        {
          "output_type": "stream",
          "text": [
            "it 2/15, Jtr_pred = 0.493562, err = 0.109017, \u001b[31m   time: 8.592522 seconds\n",
            "\u001b[0m\n"
          ],
          "name": "stdout"
        },
        {
          "output_type": "stream",
          "text": [
            "\n"
          ],
          "name": "stderr"
        },
        {
          "output_type": "stream",
          "text": [
            "\u001b[32m    Jdev = 0.532220, err = 0.114500\n",
            "\u001b[0m\n"
          ],
          "name": "stdout"
        },
        {
          "output_type": "stream",
          "text": [
            "100%|██████████| 235/235 [00:08<00:00, 27.83it/s]"
          ],
          "name": "stderr"
        },
        {
          "output_type": "stream",
          "text": [
            "it 3/15, Jtr_pred = 0.516935, err = 0.110017, \u001b[31m   time: 8.450509 seconds\n",
            "\u001b[0m\n"
          ],
          "name": "stdout"
        },
        {
          "output_type": "stream",
          "text": [
            "\n"
          ],
          "name": "stderr"
        },
        {
          "output_type": "stream",
          "text": [
            "\u001b[32m    Jdev = 0.519353, err = 0.110300\n",
            "\u001b[0m\n"
          ],
          "name": "stdout"
        },
        {
          "output_type": "stream",
          "text": [
            "100%|██████████| 235/235 [00:08<00:00, 27.09it/s]"
          ],
          "name": "stderr"
        },
        {
          "output_type": "stream",
          "text": [
            "it 4/15, Jtr_pred = 0.519199, err = 0.105783, \u001b[31m   time: 8.679873 seconds\n",
            "\u001b[0m\n"
          ],
          "name": "stdout"
        },
        {
          "output_type": "stream",
          "text": [
            "\n"
          ],
          "name": "stderr"
        },
        {
          "output_type": "stream",
          "text": [
            "\u001b[32m    Jdev = 0.539097, err = 0.109200\n",
            "\u001b[0m\n"
          ],
          "name": "stdout"
        },
        {
          "output_type": "stream",
          "text": [
            "100%|██████████| 235/235 [00:08<00:00, 26.78it/s]"
          ],
          "name": "stderr"
        },
        {
          "output_type": "stream",
          "text": [
            "it 5/15, Jtr_pred = 0.547890, err = 0.108267, \u001b[31m   time: 8.780450 seconds\n",
            "\u001b[0m\n",
            "\u001b[36m saving weight samples 1/90\u001b[0m\n"
          ],
          "name": "stdout"
        },
        {
          "output_type": "stream",
          "text": [
            "\n"
          ],
          "name": "stderr"
        },
        {
          "output_type": "stream",
          "text": [
            "\u001b[32m    Jdev = 0.606393, err = 0.116700\n",
            "\u001b[0m\n"
          ],
          "name": "stdout"
        },
        {
          "output_type": "stream",
          "text": [
            "100%|██████████| 235/235 [00:08<00:00, 27.99it/s]"
          ],
          "name": "stderr"
        },
        {
          "output_type": "stream",
          "text": [
            "it 6/15, Jtr_pred = 0.561729, err = 0.109650, \u001b[31m   time: 8.400120 seconds\n",
            "\u001b[0m\n",
            "\u001b[36m saving weight samples 2/90\u001b[0m\n"
          ],
          "name": "stdout"
        },
        {
          "output_type": "stream",
          "text": [
            "\n"
          ],
          "name": "stderr"
        },
        {
          "output_type": "stream",
          "text": [
            "\u001b[32m    Jdev = 0.643397, err = 0.121000\n",
            "\u001b[0m\n"
          ],
          "name": "stdout"
        },
        {
          "output_type": "stream",
          "text": [
            "100%|██████████| 235/235 [00:08<00:00, 27.35it/s]"
          ],
          "name": "stderr"
        },
        {
          "output_type": "stream",
          "text": [
            "it 7/15, Jtr_pred = 0.556156, err = 0.109300, \u001b[31m   time: 8.597215 seconds\n",
            "\u001b[0m\n",
            "\u001b[36m saving weight samples 3/90\u001b[0m\n"
          ],
          "name": "stdout"
        },
        {
          "output_type": "stream",
          "text": [
            "\n"
          ],
          "name": "stderr"
        },
        {
          "output_type": "stream",
          "text": [
            "\u001b[32m    Jdev = 0.566837, err = 0.114200\n",
            "\u001b[0m\n"
          ],
          "name": "stdout"
        },
        {
          "output_type": "stream",
          "text": [
            "100%|██████████| 235/235 [00:08<00:00, 27.48it/s]"
          ],
          "name": "stderr"
        },
        {
          "output_type": "stream",
          "text": [
            "it 8/15, Jtr_pred = 0.547178, err = 0.107483, \u001b[31m   time: 8.559087 seconds\n",
            "\u001b[0m\n",
            "\u001b[36m saving weight samples 4/90\u001b[0m\n"
          ],
          "name": "stdout"
        },
        {
          "output_type": "stream",
          "text": [
            "\n"
          ],
          "name": "stderr"
        },
        {
          "output_type": "stream",
          "text": [
            "\u001b[32m    Jdev = 0.527794, err = 0.103600\n",
            "\u001b[0m\n",
            "\u001b[34mbest test error\u001b[0m\n",
            "\u001b[36mWritting models_SGLD_MNIST_gaussian/theta_best.dat\n",
            "\u001b[0m\n"
          ],
          "name": "stdout"
        },
        {
          "output_type": "stream",
          "text": [
            "100%|██████████| 235/235 [00:08<00:00, 27.27it/s]"
          ],
          "name": "stderr"
        },
        {
          "output_type": "stream",
          "text": [
            "it 9/15, Jtr_pred = 0.555151, err = 0.108567, \u001b[31m   time: 8.619252 seconds\n",
            "\u001b[0m\n",
            "\u001b[36m saving weight samples 5/90\u001b[0m\n"
          ],
          "name": "stdout"
        },
        {
          "output_type": "stream",
          "text": [
            "\n"
          ],
          "name": "stderr"
        },
        {
          "output_type": "stream",
          "text": [
            "\u001b[32m    Jdev = 0.613209, err = 0.117700\n",
            "\u001b[0m\n"
          ],
          "name": "stdout"
        },
        {
          "output_type": "stream",
          "text": [
            "100%|██████████| 235/235 [00:08<00:00, 27.93it/s]"
          ],
          "name": "stderr"
        },
        {
          "output_type": "stream",
          "text": [
            "it 10/15, Jtr_pred = 0.552088, err = 0.108667, \u001b[31m   time: 8.420816 seconds\n",
            "\u001b[0m\n",
            "\u001b[36m saving weight samples 6/90\u001b[0m\n"
          ],
          "name": "stdout"
        },
        {
          "output_type": "stream",
          "text": [
            "\n"
          ],
          "name": "stderr"
        },
        {
          "output_type": "stream",
          "text": [
            "\u001b[32m    Jdev = 0.529457, err = 0.107500\n",
            "\u001b[0m\n"
          ],
          "name": "stdout"
        },
        {
          "output_type": "stream",
          "text": [
            "100%|██████████| 235/235 [00:08<00:00, 26.57it/s]"
          ],
          "name": "stderr"
        },
        {
          "output_type": "stream",
          "text": [
            "it 11/15, Jtr_pred = 0.547161, err = 0.107133, \u001b[31m   time: 8.847456 seconds\n",
            "\u001b[0m\n",
            "\u001b[36m saving weight samples 7/90\u001b[0m\n"
          ],
          "name": "stdout"
        },
        {
          "output_type": "stream",
          "text": [
            "\n"
          ],
          "name": "stderr"
        },
        {
          "output_type": "stream",
          "text": [
            "\u001b[32m    Jdev = 0.541717, err = 0.103800\n",
            "\u001b[0m\n"
          ],
          "name": "stdout"
        },
        {
          "output_type": "stream",
          "text": [
            "100%|██████████| 235/235 [00:08<00:00, 27.42it/s]"
          ],
          "name": "stderr"
        },
        {
          "output_type": "stream",
          "text": [
            "it 12/15, Jtr_pred = 0.543331, err = 0.106200, \u001b[31m   time: 8.575445 seconds\n",
            "\u001b[0m\n",
            "\u001b[36m saving weight samples 8/90\u001b[0m\n"
          ],
          "name": "stdout"
        },
        {
          "output_type": "stream",
          "text": [
            "\n"
          ],
          "name": "stderr"
        },
        {
          "output_type": "stream",
          "text": [
            "\u001b[32m    Jdev = 0.556220, err = 0.111900\n",
            "\u001b[0m\n"
          ],
          "name": "stdout"
        },
        {
          "output_type": "stream",
          "text": [
            "100%|██████████| 235/235 [00:08<00:00, 28.17it/s]"
          ],
          "name": "stderr"
        },
        {
          "output_type": "stream",
          "text": [
            "it 13/15, Jtr_pred = 0.548069, err = 0.109750, \u001b[31m   time: 8.349768 seconds\n",
            "\u001b[0m\n",
            "\u001b[36m saving weight samples 9/90\u001b[0m\n"
          ],
          "name": "stdout"
        },
        {
          "output_type": "stream",
          "text": [
            "\n"
          ],
          "name": "stderr"
        },
        {
          "output_type": "stream",
          "text": [
            "\u001b[32m    Jdev = 0.610495, err = 0.117400\n",
            "\u001b[0m\n"
          ],
          "name": "stdout"
        },
        {
          "output_type": "stream",
          "text": [
            "100%|██████████| 235/235 [00:08<00:00, 27.64it/s]"
          ],
          "name": "stderr"
        },
        {
          "output_type": "stream",
          "text": [
            "it 14/15, Jtr_pred = 0.548381, err = 0.109933, \u001b[31m   time: 8.508524 seconds\n",
            "\u001b[0m\n",
            "\u001b[36m saving weight samples 10/90\u001b[0m\n"
          ],
          "name": "stdout"
        },
        {
          "output_type": "stream",
          "text": [
            "\n"
          ],
          "name": "stderr"
        },
        {
          "output_type": "stream",
          "text": [
            "\u001b[32m    Jdev = 0.559244, err = 0.113400\n",
            "\u001b[0m\n",
            "\u001b[31m   average time: 9.928762 seconds\n",
            "\u001b[0m\n",
            "\u001b[36mWritting models_SGLD_MNIST_gaussian/theta_last.dat\n",
            "\u001b[0m\n",
            "\u001b[36m\n",
            "RESULTS:\u001b[0m\n",
            "  cost_dev: 0.422772 (cost_train 0.457773)\n",
            "  err_dev: 0.103600\n",
            "  nb_parameters: 2395210 (2.28MB)\n",
            "  time_per_it: 9.928762s\n",
            "\n"
          ],
          "name": "stdout"
        },
        {
          "output_type": "stream",
          "text": [
            "/usr/local/lib/python3.7/dist-packages/ipykernel_launcher.py:7: DeprecationWarning: Calling np.sum(generator) is deprecated, and in the future will give a different result. Use np.sum(np.fromiter(generator)) or the python sum builtin instead.\n",
            "  import sys\n"
          ],
          "name": "stderr"
        }
      ]
    },
    {
      "cell_type": "code",
      "metadata": {
        "id": "bzb3hsfyWgGz",
        "colab": {
          "base_uri": "https://localhost:8080/",
          "height": 619
        },
        "outputId": "f95295f6-e1a8-456d-ec8d-cbefc8d25f14"
      },
      "source": [
        "\n",
        "\n",
        "## ---------------------------------------------------------------------------------------------------------------------\n",
        "# fig cost vs its\n",
        "\n",
        "textsize = 15\n",
        "marker=5\n",
        "\n",
        "plt.figure(dpi=100)\n",
        "fig, ax1 = plt.subplots()\n",
        "ax1.plot(range(0, nb_epochs, nb_its_dev), cost_dev[::nb_its_dev], 'b-')\n",
        "ax1.plot(pred_cost_train, 'r--')\n",
        "ax1.set_ylabel('Cross Entropy')\n",
        "plt.xlabel('epoch')\n",
        "plt.grid(b=True, which='major', color='k', linestyle='-')\n",
        "plt.grid(b=True, which='minor', color='k', linestyle='--')\n",
        "lgd = plt.legend(['test error', 'train error'], markerscale=marker, prop={'size': textsize, 'weight': 'normal'})\n",
        "ax = plt.gca()\n",
        "plt.title('classification costs')\n",
        "for item in ([ax.title, ax.xaxis.label, ax.yaxis.label] +\n",
        "    ax.get_xticklabels() + ax.get_yticklabels()):\n",
        "    item.set_fontsize(textsize)\n",
        "    item.set_weight('normal')\n",
        "plt.savefig(results_dir + '/cost.png', bbox_extra_artists=(lgd,), bbox_inches='tight')\n",
        "\n",
        "\n",
        "\n",
        "plt.figure(dpi=100)\n",
        "fig2, ax2 = plt.subplots()\n",
        "ax2.set_ylabel('% error')\n",
        "ax2.semilogy(range(0, nb_epochs, nb_its_dev), 100 * err_dev[::nb_its_dev], 'b-')\n",
        "ax2.semilogy(100 * err_train, 'r--')\n",
        "plt.xlabel('epoch')\n",
        "plt.grid(b=True, which='major', color='k', linestyle='-')\n",
        "plt.grid(b=True, which='minor', color='k', linestyle='--')\n",
        "ax2.get_yaxis().set_minor_formatter(matplotlib.ticker.ScalarFormatter())\n",
        "ax2.get_yaxis().set_major_formatter(matplotlib.ticker.ScalarFormatter())\n",
        "lgd = plt.legend(['test error', 'train error'], markerscale=marker, prop={'size': textsize, 'weight': 'normal'})\n",
        "ax = plt.gca()\n",
        "for item in ([ax.title, ax.xaxis.label, ax.yaxis.label] +\n",
        "    ax.get_xticklabels() + ax.get_yticklabels()):\n",
        "    item.set_fontsize(textsize)\n",
        "    item.set_weight('normal')\n",
        "plt.savefig(results_dir + '/err.png',  bbox_extra_artists=(lgd,), box_inches='tight')\n"
      ],
      "execution_count": null,
      "outputs": [
        {
          "output_type": "display_data",
          "data": {
            "text/plain": [
              "<Figure size 600x400 with 0 Axes>"
            ]
          },
          "metadata": {
            "tags": []
          }
        },
        {
          "output_type": "display_data",
          "data": {
            "image/png": "[encoded data removed]",
            "text/plain": [
              "<Figure size 432x288 with 1 Axes>"
            ]
          },
          "metadata": {
            "tags": []
          }
        },
        {
          "output_type": "display_data",
          "data": {
            "text/plain": [
              "<Figure size 600x400 with 0 Axes>"
            ]
          },
          "metadata": {
            "tags": []
          }
        },
        {
          "output_type": "display_data",
          "data": {
            "image/png": "[encoded data removed]",
            "text/plain": [
              "<Figure size 432x288 with 1 Axes>"
            ]
          },
          "metadata": {
            "tags": []
          }
        }
      ]
    },
    {
      "cell_type": "markdown",
      "metadata": {
        "id": "yP1nKk91-GAP"
      },
      "source": [
        "# Training for Bayesian CNN training MNIST (Gaussian prior) DP"
      ]
    },
    {
      "cell_type": "code",
      "metadata": {
        "id": "WyPYlYx2xSxp",
        "scrolled": true,
        "colab": {
          "base_uri": "https://localhost:8080/"
        },
        "outputId": "1c31e5b2-5b15-4516-e644-9391651cf13b"
      },
      "source": [
        "models_dir = 'models_SGLD_MNIST_gaussian'\n",
        "results_dir = 'results_SGLD_MNIST_gaussian'\n",
        "\n",
        "mkdir(models_dir)\n",
        "mkdir(results_dir)\n",
        "\n",
        "save_dicts = []\n",
        "# ------------------------------------------------------------------------------------------------------\n",
        "# train config\n",
        "NTrainPointsMNIST = 60000\n",
        "batch_size = 256\n",
        "nb_epochs = 15 # We can do less iterations as this method has faster convergence\n",
        "log_interval = 1\n",
        "\n",
        "lr = 1e-5\n",
        "norm_sigma =0.1 \n",
        "laplace_b=0\n",
        "noise_multiplier = 1.3\n",
        "clipping_norm=1.5\n",
        "DP_or_Not=True\n",
        "# ------------------------------------------------------------------------------------------------------\n",
        "# dataset\n",
        "cprint('c', '\\nData:')\n",
        "\n",
        " \n",
        "\n",
        "# load data\n",
        "\n",
        "# data augmentation\n",
        "transform_train = transforms.Compose([\n",
        "    transforms.ToTensor(),\n",
        "    transforms.Normalize(mean=(0.1307,), std=(0.3081,))\n",
        "])\n",
        "\n",
        "transform_test = transforms.Compose([\n",
        "    transforms.ToTensor(),\n",
        "    transforms.Normalize(mean=(0.1307,), std=(0.3081,))\n",
        "])\n",
        "\n",
        "use_cuda = torch.cuda.is_available()\n",
        "\n",
        "trainset = datasets.MNIST(root='/content/data', train=True, download=True, transform=transform_train)\n",
        "valset = datasets.MNIST(root='/content/data', train=False, download=True, transform=transform_test)\n",
        "\n",
        "if use_cuda:\n",
        "    trainloader = torch.utils.data.DataLoader(trainset, batch_size=batch_size, shuffle=True, pin_memory=True, num_workers=3)\n",
        "    valloader = torch.utils.data.DataLoader(valset, batch_size=batch_size, shuffle=False, pin_memory=True, num_workers=3)\n",
        "\n",
        "else:\n",
        "    trainloader = torch.utils.data.DataLoader(trainset, batch_size=batch_size, shuffle=True, pin_memory=False,\n",
        "                                              num_workers=3)\n",
        "    valloader = torch.utils.data.DataLoader(valset, batch_size=batch_size, shuffle=False, pin_memory=False,\n",
        "                                            num_workers=3)\n",
        "\n",
        "\n",
        "## ---------------------------------------------------------------------------------------------------------------------\n",
        "# net dims\n",
        "cprint('c', '\\nNetwork:')\n",
        "\n",
        "\n",
        "########################################################################################\n",
        "net = Net_langevin(lr=lr, cuda=use_cuda, classes=10,N_train=NTrainPointsMNIST, norm_sigma=norm_sigma,laplace_b=laplace_b,which_net=SampleConvNet_MNIST())\n",
        "\n",
        "## weight saving parameters #######\n",
        "start_save = 5\n",
        "save_every = 1 # We want less correlated samples -> despite having per minibatch noise we see correlations\n",
        "N_saves = 90\n",
        "###################################\n",
        "\n",
        "\n",
        "## ---------------------------------------------------------------------------------------------------------------------\n",
        "# train\n",
        "cprint('c', '\\nTrain:')\n",
        "\n",
        "print('  init cost variables:')\n",
        "pred_cost_train = np.zeros(nb_epochs)\n",
        "err_train = np.zeros(nb_epochs)\n",
        "\n",
        "cost_dev = np.zeros(nb_epochs)\n",
        "err_dev = np.zeros(nb_epochs)\n",
        "# best_cost = np.inf\n",
        "best_err = np.inf\n",
        "\n",
        "\n",
        "nb_its_dev = 1\n",
        "\n",
        "tic0 = time.time()\n",
        "from tqdm import tqdm\n",
        "\n",
        "for i in range(nb_epochs):\n",
        "    \n",
        "#     if i in [1]:\n",
        "#         print('updating lr')\n",
        "#         net.sched.step()\n",
        "    \n",
        "    net.set_mode_train(True)\n",
        "\n",
        "    tic = time.time()\n",
        "    nb_samples = 0\n",
        "\n",
        "    for x, y in tqdm(trainloader):\n",
        "        cost_pred, err = net.fit(x, y)\n",
        "        #print(cost_pred)\n",
        "        #print(err)\n",
        "        err_train[i] += err\n",
        "        #pred_cost_train[i] += cost_pred\n",
        "        pred_cost_train[i] += torch.mean(cost_pred)\n",
        "        nb_samples += len(x)\n",
        "\n",
        "    pred_cost_train[i] /= nb_samples\n",
        "    err_train[i] /= nb_samples\n",
        "\n",
        "    toc = time.time()\n",
        "    net.epoch = i\n",
        "    # ---- print\n",
        "    print(\"it %d/%d, Jtr_pred = %f, err = %f, \" % (i, nb_epochs, pred_cost_train[i], err_train[i]), end=\"\")\n",
        "    cprint('r', '   time: %f seconds\\n' % (toc - tic))\n",
        "    \n",
        "    # ---- save weights\n",
        "    if i >= start_save and i % save_every == 0:\n",
        "        net.save_sampled_net(max_samples=N_saves)\n",
        "        save_dicts.append(copy.deepcopy(net.model.state_dict()))\n",
        "    # ---- dev\n",
        "    if i % nb_its_dev == 0:\n",
        "        net.set_mode_train(False)\n",
        "        nb_samples = 0\n",
        "        for j, (x, y) in enumerate(valloader):\n",
        "\n",
        "            cost, err, probs = net.eval(x, y)\n",
        "\n",
        "            cost_dev[i] += cost\n",
        "            err_dev[i] += err\n",
        "            nb_samples += len(x)\n",
        "\n",
        "        cost_dev[i] /= nb_samples\n",
        "        err_dev[i] /= nb_samples\n",
        "\n",
        "        cprint('g', '    Jdev = %f, err = %f\\n' % (cost_dev[i], err_dev[i]))\n",
        "\n",
        "        if err_dev[i] < best_err:\n",
        "            best_err = err_dev[i]\n",
        "            cprint('b', 'best test error')\n",
        "            net.save(models_dir+'/theta_best.dat')\n",
        "   \n",
        "toc0 = time.time()\n",
        "runtime_per_it = (toc0 - tic0) / float(nb_epochs)\n",
        "cprint('r', '   average time: %f seconds\\n' % runtime_per_it)\n",
        "\n",
        "net.save(models_dir+'/theta_last.dat')\n",
        "\n",
        "## ---------------------------------------------------------------------------------------------------------------------\n",
        "# results\n",
        "cprint('c', '\\nRESULTS:')\n",
        "nb_parameters = net.get_nb_parameters()\n",
        "best_cost_dev = np.min(cost_dev)\n",
        "best_cost_train = np.min(pred_cost_train)\n",
        "err_dev_min = err_dev[::nb_its_dev].min()\n",
        "\n",
        "print('  cost_dev: %f (cost_train %f)' % (best_cost_dev, best_cost_train))\n",
        "print('  err_dev: %f' % (err_dev_min))\n",
        "print('  nb_parameters: %d (%s)' % (nb_parameters, humansize(nb_parameters)))\n",
        "print('  time_per_it: %fs\\n' % (runtime_per_it))\n",
        "\n",
        "\n",
        "\n",
        "## Save results for plots\n",
        "# np.save('results/test_predictions.npy', test_predictions)\n",
        "np.save(results_dir + '/cost_train.npy', pred_cost_train)\n",
        "np.save(results_dir + '/cost_dev.npy', cost_dev)\n",
        "np.save(results_dir + '/err_train.npy', err_train)\n",
        "np.save(results_dir + '/err_dev.npy', err_dev)\n",
        "np.save(results_dir + '/save_dicts.npy',save_dicts )\n",
        "\n",
        "\n",
        " "
      ],
      "execution_count": null,
      "outputs": [
        {
          "output_type": "stream",
          "text": [
            "\u001b[36m\n",
            "Data:\u001b[0m\n",
            "\u001b[36m\n",
            "Network:\u001b[0m\n",
            "\u001b[36m\n",
            "Net:\u001b[0m\n",
            "\u001b[33m Creating Net!! \u001b[0m\n"
          ],
          "name": "stdout"
        },
        {
          "output_type": "stream",
          "text": [
            "/usr/local/lib/python3.7/dist-packages/torch/utils/data/dataloader.py:481: UserWarning: This DataLoader will create 3 worker processes in total. Our suggested max number of worker in current system is 2, which is smaller than what this DataLoader is going to create. Please be aware that excessive worker creation might get DataLoader running slow or even freeze, lower the worker number to avoid potential slowness/freeze if necessary.\n",
            "  cpuset_checked))\n"
          ],
          "name": "stderr"
        },
        {
          "output_type": "stream",
          "text": [
            "    Total params: 0.03M\n",
            "\u001b[36m\n",
            "Train:\u001b[0m\n"
          ],
          "name": "stdout"
        },
        {
          "output_type": "stream",
          "text": [
            "/usr/local/lib/python3.7/dist-packages/ipykernel_launcher.py:7: DeprecationWarning: Calling np.sum(generator) is deprecated, and in the future will give a different result. Use np.sum(np.fromiter(generator)) or the python sum builtin instead.\n",
            "  import sys\n",
            "/usr/local/lib/python3.7/dist-packages/opacus/privacy_engine.py:523: UserWarning: A ``sample_rate`` has been provided.Thus, the provided ``batch_size``and ``sample_size`` will be ignored.\n",
            "  \"A ``sample_rate`` has been provided.\"\n",
            "/usr/local/lib/python3.7/dist-packages/opacus/privacy_engine.py:195: UserWarning: Secure RNG turned off. This is perfectly fine for experimentation as it allows for much faster training performance, but remember to turn it on and retrain one last time before production with ``secure_rng`` turned on.\n",
            "  \"Secure RNG turned off. This is perfectly fine for experimentation as it allows \"\n",
            "\r  0%|          | 0/235 [00:00<?, ?it/s]"
          ],
          "name": "stderr"
        },
        {
          "output_type": "stream",
          "text": [
            "  init cost variables:\n"
          ],
          "name": "stdout"
        },
        {
          "output_type": "stream",
          "text": [
            "/usr/local/lib/python3.7/dist-packages/torch/utils/data/dataloader.py:481: UserWarning: This DataLoader will create 3 worker processes in total. Our suggested max number of worker in current system is 2, which is smaller than what this DataLoader is going to create. Please be aware that excessive worker creation might get DataLoader running slow or even freeze, lower the worker number to avoid potential slowness/freeze if necessary.\n",
            "  cpuset_checked))\n",
            "/usr/local/lib/python3.7/dist-packages/torch/nn/modules/module.py:974: UserWarning: Using a non-full backward hook when the forward contains multiple autograd Nodes is deprecated and will be removed in future versions. This hook will be missing some grad_input. Please use register_full_backward_hook to get the documented behavior.\n",
            "  warnings.warn(\"Using a non-full backward hook when the forward contains multiple autograd Nodes \"\n",
            "/usr/local/lib/python3.7/dist-packages/torch/nn/functional.py:718: UserWarning: Named tensors and all their associated APIs are an experimental feature and subject to change. Please do not use them for anything important until they are released as stable. (Triggered internally at  /pytorch/c10/core/TensorImpl.h:1156.)\n",
            "  return torch.max_pool2d(input, kernel_size, stride, padding, dilation, ceil_mode)\n",
            "/usr/local/lib/python3.7/dist-packages/ipykernel_launcher.py:33: UserWarning: This overload of add_ is deprecated:\n",
            "\tadd_(Number alpha, Tensor other)\n",
            "Consider using one of the following signatures instead:\n",
            "\tadd_(Tensor other, *, Number alpha) (Triggered internally at  /pytorch/torch/csrc/utils/python_arg_parser.cpp:1025.)\n",
            "100%|██████████| 235/235 [00:08<00:00, 27.73it/s]"
          ],
          "name": "stderr"
        },
        {
          "output_type": "stream",
          "text": [
            "it 0/15, Jtr_pred = 0.594567, err = 0.183083, \u001b[31m   time: 8.482497 seconds\n",
            "\u001b[0m\n"
          ],
          "name": "stdout"
        },
        {
          "output_type": "stream",
          "text": [
            "\n"
          ],
          "name": "stderr"
        },
        {
          "output_type": "stream",
          "text": [
            "\u001b[32m    Jdev = 0.391650, err = 0.087800\n",
            "\u001b[0m\n",
            "\u001b[34mbest test error\u001b[0m\n",
            "\u001b[36mWritting models_SGLD_MNIST_gaussian/theta_best.dat\n",
            "\u001b[0m\n"
          ],
          "name": "stdout"
        },
        {
          "output_type": "stream",
          "text": [
            "100%|██████████| 235/235 [00:08<00:00, 28.16it/s]"
          ],
          "name": "stderr"
        },
        {
          "output_type": "stream",
          "text": [
            "it 1/15, Jtr_pred = 0.261851, err = 0.066467, \u001b[31m   time: 8.349429 seconds\n",
            "\u001b[0m\n"
          ],
          "name": "stdout"
        },
        {
          "output_type": "stream",
          "text": [
            "\n"
          ],
          "name": "stderr"
        },
        {
          "output_type": "stream",
          "text": [
            "\u001b[32m    Jdev = 0.210605, err = 0.054700\n",
            "\u001b[0m\n",
            "\u001b[34mbest test error\u001b[0m\n",
            "\u001b[36mWritting models_SGLD_MNIST_gaussian/theta_best.dat\n",
            "\u001b[0m\n"
          ],
          "name": "stdout"
        },
        {
          "output_type": "stream",
          "text": [
            "100%|██████████| 235/235 [00:08<00:00, 27.77it/s]"
          ],
          "name": "stderr"
        },
        {
          "output_type": "stream",
          "text": [
            "it 2/15, Jtr_pred = 0.237260, err = 0.061050, \u001b[31m   time: 8.467314 seconds\n",
            "\u001b[0m\n"
          ],
          "name": "stdout"
        },
        {
          "output_type": "stream",
          "text": [
            "\n"
          ],
          "name": "stderr"
        },
        {
          "output_type": "stream",
          "text": [
            "\u001b[32m    Jdev = 0.215413, err = 0.056200\n",
            "\u001b[0m\n"
          ],
          "name": "stdout"
        },
        {
          "output_type": "stream",
          "text": [
            "100%|██████████| 235/235 [00:08<00:00, 27.64it/s]"
          ],
          "name": "stderr"
        },
        {
          "output_type": "stream",
          "text": [
            "it 3/15, Jtr_pred = 0.216040, err = 0.056817, \u001b[31m   time: 8.508117 seconds\n",
            "\u001b[0m\n"
          ],
          "name": "stdout"
        },
        {
          "output_type": "stream",
          "text": [
            "\n"
          ],
          "name": "stderr"
        },
        {
          "output_type": "stream",
          "text": [
            "\u001b[32m    Jdev = 0.196983, err = 0.048700\n",
            "\u001b[0m\n",
            "\u001b[34mbest test error\u001b[0m\n",
            "\u001b[36mWritting models_SGLD_MNIST_gaussian/theta_best.dat\n",
            "\u001b[0m\n"
          ],
          "name": "stdout"
        },
        {
          "output_type": "stream",
          "text": [
            "100%|██████████| 235/235 [00:08<00:00, 27.02it/s]"
          ],
          "name": "stderr"
        },
        {
          "output_type": "stream",
          "text": [
            "it 4/15, Jtr_pred = 0.203423, err = 0.052850, \u001b[31m   time: 8.701454 seconds\n",
            "\u001b[0m\n"
          ],
          "name": "stdout"
        },
        {
          "output_type": "stream",
          "text": [
            "\n"
          ],
          "name": "stderr"
        },
        {
          "output_type": "stream",
          "text": [
            "\u001b[32m    Jdev = 0.236167, err = 0.059900\n",
            "\u001b[0m\n"
          ],
          "name": "stdout"
        },
        {
          "output_type": "stream",
          "text": [
            "100%|██████████| 235/235 [00:08<00:00, 27.27it/s]"
          ],
          "name": "stderr"
        },
        {
          "output_type": "stream",
          "text": [
            "it 5/15, Jtr_pred = 0.207524, err = 0.054000, \u001b[31m   time: 8.625386 seconds\n",
            "\u001b[0m\n",
            "\u001b[36m saving weight samples 1/90\u001b[0m\n"
          ],
          "name": "stdout"
        },
        {
          "output_type": "stream",
          "text": [
            "\n"
          ],
          "name": "stderr"
        },
        {
          "output_type": "stream",
          "text": [
            "\u001b[32m    Jdev = 0.219064, err = 0.056500\n",
            "\u001b[0m\n"
          ],
          "name": "stdout"
        },
        {
          "output_type": "stream",
          "text": [
            "100%|██████████| 235/235 [00:08<00:00, 27.47it/s]"
          ],
          "name": "stderr"
        },
        {
          "output_type": "stream",
          "text": [
            "it 6/15, Jtr_pred = 0.195699, err = 0.050450, \u001b[31m   time: 8.558553 seconds\n",
            "\u001b[0m\n",
            "\u001b[36m saving weight samples 2/90\u001b[0m\n"
          ],
          "name": "stdout"
        },
        {
          "output_type": "stream",
          "text": [
            "\n"
          ],
          "name": "stderr"
        },
        {
          "output_type": "stream",
          "text": [
            "\u001b[32m    Jdev = 0.185892, err = 0.046600\n",
            "\u001b[0m\n",
            "\u001b[34mbest test error\u001b[0m\n",
            "\u001b[36mWritting models_SGLD_MNIST_gaussian/theta_best.dat\n",
            "\u001b[0m\n"
          ],
          "name": "stdout"
        },
        {
          "output_type": "stream",
          "text": [
            "100%|██████████| 235/235 [00:08<00:00, 27.56it/s]"
          ],
          "name": "stderr"
        },
        {
          "output_type": "stream",
          "text": [
            "it 7/15, Jtr_pred = 0.189985, err = 0.048500, \u001b[31m   time: 8.531038 seconds\n",
            "\u001b[0m\n",
            "\u001b[36m saving weight samples 3/90\u001b[0m\n"
          ],
          "name": "stdout"
        },
        {
          "output_type": "stream",
          "text": [
            "\n"
          ],
          "name": "stderr"
        },
        {
          "output_type": "stream",
          "text": [
            "\u001b[32m    Jdev = 0.193641, err = 0.052600\n",
            "\u001b[0m\n"
          ],
          "name": "stdout"
        },
        {
          "output_type": "stream",
          "text": [
            "100%|██████████| 235/235 [00:08<00:00, 26.97it/s]"
          ],
          "name": "stderr"
        },
        {
          "output_type": "stream",
          "text": [
            "it 8/15, Jtr_pred = 0.181305, err = 0.046917, \u001b[31m   time: 8.716759 seconds\n",
            "\u001b[0m\n",
            "\u001b[36m saving weight samples 4/90\u001b[0m\n"
          ],
          "name": "stdout"
        },
        {
          "output_type": "stream",
          "text": [
            "\n"
          ],
          "name": "stderr"
        },
        {
          "output_type": "stream",
          "text": [
            "\u001b[32m    Jdev = 0.171101, err = 0.045800\n",
            "\u001b[0m\n",
            "\u001b[34mbest test error\u001b[0m\n",
            "\u001b[36mWritting models_SGLD_MNIST_gaussian/theta_best.dat\n",
            "\u001b[0m\n"
          ],
          "name": "stdout"
        },
        {
          "output_type": "stream",
          "text": [
            "100%|██████████| 235/235 [00:08<00:00, 27.56it/s]"
          ],
          "name": "stderr"
        },
        {
          "output_type": "stream",
          "text": [
            "it 9/15, Jtr_pred = 0.180980, err = 0.047233, \u001b[31m   time: 8.528536 seconds\n",
            "\u001b[0m\n",
            "\u001b[36m saving weight samples 5/90\u001b[0m\n"
          ],
          "name": "stdout"
        },
        {
          "output_type": "stream",
          "text": [
            "\n"
          ],
          "name": "stderr"
        },
        {
          "output_type": "stream",
          "text": [
            "\u001b[32m    Jdev = 0.155786, err = 0.042600\n",
            "\u001b[0m\n",
            "\u001b[34mbest test error\u001b[0m\n",
            "\u001b[36mWritting models_SGLD_MNIST_gaussian/theta_best.dat\n",
            "\u001b[0m\n"
          ],
          "name": "stdout"
        },
        {
          "output_type": "stream",
          "text": [
            "100%|██████████| 235/235 [00:08<00:00, 27.71it/s]"
          ],
          "name": "stderr"
        },
        {
          "output_type": "stream",
          "text": [
            "it 10/15, Jtr_pred = 0.182929, err = 0.046583, \u001b[31m   time: 8.482658 seconds\n",
            "\u001b[0m\n",
            "\u001b[36m saving weight samples 6/90\u001b[0m\n"
          ],
          "name": "stdout"
        },
        {
          "output_type": "stream",
          "text": [
            "\n"
          ],
          "name": "stderr"
        },
        {
          "output_type": "stream",
          "text": [
            "\u001b[32m    Jdev = 0.160553, err = 0.043100\n",
            "\u001b[0m\n"
          ],
          "name": "stdout"
        },
        {
          "output_type": "stream",
          "text": [
            "100%|██████████| 235/235 [00:08<00:00, 27.81it/s]"
          ],
          "name": "stderr"
        },
        {
          "output_type": "stream",
          "text": [
            "it 11/15, Jtr_pred = 0.177635, err = 0.045667, \u001b[31m   time: 8.454824 seconds\n",
            "\u001b[0m\n",
            "\u001b[36m saving weight samples 7/90\u001b[0m\n"
          ],
          "name": "stdout"
        },
        {
          "output_type": "stream",
          "text": [
            "\n"
          ],
          "name": "stderr"
        },
        {
          "output_type": "stream",
          "text": [
            "\u001b[32m    Jdev = 0.181840, err = 0.047000\n",
            "\u001b[0m\n"
          ],
          "name": "stdout"
        },
        {
          "output_type": "stream",
          "text": [
            "100%|██████████| 235/235 [00:08<00:00, 28.00it/s]"
          ],
          "name": "stderr"
        },
        {
          "output_type": "stream",
          "text": [
            "it 12/15, Jtr_pred = 0.181149, err = 0.046967, \u001b[31m   time: 8.404781 seconds\n",
            "\u001b[0m\n",
            "\u001b[36m saving weight samples 8/90\u001b[0m\n"
          ],
          "name": "stdout"
        },
        {
          "output_type": "stream",
          "text": [
            "\n"
          ],
          "name": "stderr"
        },
        {
          "output_type": "stream",
          "text": [
            "\u001b[32m    Jdev = 0.172243, err = 0.045300\n",
            "\u001b[0m\n"
          ],
          "name": "stdout"
        },
        {
          "output_type": "stream",
          "text": [
            "100%|██████████| 235/235 [00:08<00:00, 27.69it/s]"
          ],
          "name": "stderr"
        },
        {
          "output_type": "stream",
          "text": [
            "it 13/15, Jtr_pred = 0.188860, err = 0.048700, \u001b[31m   time: 8.490197 seconds\n",
            "\u001b[0m\n",
            "\u001b[36m saving weight samples 9/90\u001b[0m\n"
          ],
          "name": "stdout"
        },
        {
          "output_type": "stream",
          "text": [
            "\n"
          ],
          "name": "stderr"
        },
        {
          "output_type": "stream",
          "text": [
            "\u001b[32m    Jdev = 0.169348, err = 0.042600\n",
            "\u001b[0m\n"
          ],
          "name": "stdout"
        },
        {
          "output_type": "stream",
          "text": [
            "100%|██████████| 235/235 [00:08<00:00, 27.17it/s]\n"
          ],
          "name": "stderr"
        },
        {
          "output_type": "stream",
          "text": [
            "it 14/15, Jtr_pred = 0.173972, err = 0.046467, \u001b[31m   time: 8.656815 seconds\n",
            "\u001b[0m\n",
            "\u001b[36m saving weight samples 10/90\u001b[0m\n",
            "\u001b[32m    Jdev = 0.250675, err = 0.058500\n",
            "\u001b[0m\n",
            "\u001b[31m   average time: 9.821137 seconds\n",
            "\u001b[0m\n",
            "\u001b[36mWritting models_SGLD_MNIST_gaussian/theta_last.dat\n",
            "\u001b[0m\n",
            "\u001b[36m\n",
            "RESULTS:\u001b[0m\n",
            "  cost_dev: 0.155786 (cost_train 0.173972)\n",
            "  err_dev: 0.042600\n",
            "  nb_parameters: 26010 (25.40KB)\n",
            "  time_per_it: 9.821137s\n",
            "\n"
          ],
          "name": "stdout"
        },
        {
          "output_type": "stream",
          "text": [
            "/usr/local/lib/python3.7/dist-packages/ipykernel_launcher.py:7: DeprecationWarning: Calling np.sum(generator) is deprecated, and in the future will give a different result. Use np.sum(np.fromiter(generator)) or the python sum builtin instead.\n",
            "  import sys\n"
          ],
          "name": "stderr"
        }
      ]
    },
    {
      "cell_type": "markdown",
      "metadata": {
        "id": "ixl5us09Bohh"
      },
      "source": [
        "# Hetero Regression "
      ]
    },
    {
      "cell_type": "code",
      "metadata": {
        "id": "xAYPKSFrG8AF",
        "colab": {
          "base_uri": "https://localhost:8080/"
        },
        "outputId": "78d10901-7ee3-4f26-c552-6b8d84cfa2a1"
      },
      "source": [
        "!git clone https://github.com/JavierAntoran/Bayesian-Neural-Networks.git\n",
        "!pip3 install http://download.pytorch.org/whl/cu92/torch-0.4.1-cp36-cp36m-linux_x86_64.whl\n",
        "!pip3 install torchvision\n",
        "!pip3 install GPy\n",
        "import pandas as pd\n",
        "import zipfile\n",
        "import urllib.request\n",
        "import GPy\n",
        "import time\n",
        "import copy\n",
        "import math\n",
        "import matplotlib.pyplot as plt\n",
        "import numpy as np\n",
        "import torch\n",
        "import torch.nn as nn\n",
        "import torch.nn.functional as F\n",
        "from torch.autograd import Variable\n",
        "from torch.optim import Optimizer\n",
        "from torch.optim.sgd import SGD\n",
        "from sklearn.model_selection import KFold\n",
        "\n",
        "from torchvision import datasets, transforms\n",
        "from torchvision.utils import make_grid\n",
        "from tqdm import tqdm, trange\n",
        "from google.colab import files\n",
        "%config InlineBackend.figure_format = 'svg'"
      ],
      "execution_count": null,
      "outputs": [
        {
          "output_type": "stream",
          "text": [
            "Cloning into 'Bayesian-Neural-Networks'...\n",
            "remote: Enumerating objects: 369, done.\u001b[K\n",
            "remote: Total 369 (delta 0), reused 0 (delta 0), pack-reused 369\u001b[K\n",
            "Receiving objects: 100% (369/369), 15.98 MiB | 17.50 MiB/s, done.\n",
            "Resolving deltas: 100% (191/191), done.\n",
            "\u001b[31mERROR: torch-0.4.1-cp36-cp36m-linux_x86_64.whl is not a supported wheel on this platform.\u001b[0m\n",
            "Requirement already satisfied: torchvision in /usr/local/lib/python3.7/dist-packages (0.10.0+cu102)\n",
            "Requirement already satisfied: numpy in /usr/local/lib/python3.7/dist-packages (from torchvision) (1.19.5)\n",
            "Requirement already satisfied: torch==1.9.0 in /usr/local/lib/python3.7/dist-packages (from torchvision) (1.9.0+cu102)\n",
            "Requirement already satisfied: pillow>=5.3.0 in /usr/local/lib/python3.7/dist-packages (from torchvision) (7.1.2)\n",
            "Requirement already satisfied: typing-extensions in /usr/local/lib/python3.7/dist-packages (from torch==1.9.0->torchvision) (3.7.4.3)\n",
            "Collecting GPy\n",
            "\u001b[?25l  Downloading https://files.pythonhosted.org/packages/ce/4a/43d6f07b8b493bc216ecf1d5c447809e8c9d0b1b18b0b9db496dfadd87ea/GPy-1.10.0.tar.gz (959kB)\n",
            "\u001b[K     |████████████████████████████████| 962kB 3.3MB/s \n",
            "\u001b[?25hRequirement already satisfied: numpy>=1.7 in /usr/local/lib/python3.7/dist-packages (from GPy) (1.19.5)\n",
            "Requirement already satisfied: six in /usr/local/lib/python3.7/dist-packages (from GPy) (1.15.0)\n",
            "Collecting paramz>=0.9.0\n",
            "\u001b[?25l  Downloading https://files.pythonhosted.org/packages/d8/37/4abbeb78d30f20d3402887f46e6e9f3ef32034a9dea65d243654c82c8553/paramz-0.9.5.tar.gz (71kB)\n",
            "\u001b[K     |████████████████████████████████| 71kB 11.1MB/s \n",
            "\u001b[?25hRequirement already satisfied: cython>=0.29 in /usr/local/lib/python3.7/dist-packages (from GPy) (0.29.23)\n",
            "Requirement already satisfied: scipy>=1.3.0 in /usr/local/lib/python3.7/dist-packages (from GPy) (1.4.1)\n",
            "Requirement already satisfied: decorator>=4.0.10 in /usr/local/lib/python3.7/dist-packages (from paramz>=0.9.0->GPy) (4.4.2)\n",
            "Building wheels for collected packages: GPy, paramz\n",
            "  Building wheel for GPy (setup.py) ... \u001b[?25l\u001b[?25hdone\n",
            "  Created wheel for GPy: filename=GPy-1.10.0-cp37-cp37m-linux_x86_64.whl size=2564977 sha256=f05beea25382bcde59dcb855afb9e8f61c0b9417623ff560ae8225fdbee92bb2\n",
            "  Stored in directory: /root/.cache/pip/wheels/23/99/8d/d0c3dee7db4af58190cde6abdb45e6a7ded2f9f01ff528dd0f\n",
            "  Building wheel for paramz (setup.py) ... \u001b[?25l\u001b[?25hdone\n",
            "  Created wheel for paramz: filename=paramz-0.9.5-cp37-none-any.whl size=102566 sha256=629db8efc0b508ede3d64964e18ef48ca5e4be0b68ec6b65bc148d4ba57f799a\n",
            "  Stored in directory: /root/.cache/pip/wheels/c8/4a/0e/6e0dc85541825f991c431619e25b870d4b812c911214690cf8\n",
            "Successfully built GPy paramz\n",
            "Installing collected packages: paramz, GPy\n",
            "Successfully installed GPy-1.10.0 paramz-0.9.5\n"
          ],
          "name": "stdout"
        }
      ]
    },
    {
      "cell_type": "markdown",
      "metadata": {
        "id": "FKaB_wRACJfS"
      },
      "source": [
        "## Non-DP Version"
      ]
    },
    {
      "cell_type": "code",
      "metadata": {
        "id": "_1S5kt0omQ-N"
      },
      "source": [
        "def to_variable(var=(), cuda=True, volatile=False):\n",
        "    out = []\n",
        "    for v in var:\n",
        "        \n",
        "        if isinstance(v, np.ndarray):\n",
        "            v = torch.from_numpy(v).type(torch.FloatTensor)\n",
        "\n",
        "        if not v.is_cuda and cuda:\n",
        "            v = v.cuda()\n",
        "\n",
        "        if not isinstance(v, Variable):\n",
        "            v = Variable(v, volatile=volatile)\n",
        "\n",
        "        out.append(v)\n",
        "    return out\n",
        "class Langevin_SGD(Optimizer):\n",
        "\n",
        "    def __init__(self, params, lr, weight_decay=0, nesterov=False):\n",
        "        if lr < 0.0:\n",
        "            raise ValueError(\"Invalid learning rate: {}\".format(lr))\n",
        "        if weight_decay < 0.0:\n",
        "            raise ValueError(\"Invalid weight_decay value: {}\".format(weight_decay))\n",
        "\n",
        "        defaults = dict(lr=lr, weight_decay=weight_decay)\n",
        "        \n",
        "        super(Langevin_SGD, self).__init__(params, defaults)\n",
        "\n",
        "    def __setstate__(self, state):\n",
        "        super(SGD, self).__setstate__(state)\n",
        "        for group in self.param_groups:\n",
        "            group.setdefault('nesterov', False)\n",
        "\n",
        "    def step(self, closure=None):\n",
        "        \n",
        "        loss = None\n",
        "        if closure is not None:\n",
        "            loss = closure()\n",
        "\n",
        "        for group in self.param_groups:\n",
        "            \n",
        "            weight_decay = group['weight_decay']\n",
        "            \n",
        "            for p in group['params']:\n",
        "                if p.grad is None:\n",
        "                    continue\n",
        "                d_p = p.grad.data\n",
        "                \n",
        "                if len(p.shape) == 1 and p.shape[0] == 1:\n",
        "                    p.data.add_(-group['lr'], d_p)\n",
        "                    \n",
        "                else:\n",
        "                    if weight_decay != 0:\n",
        "                        d_p.add_(weight_decay, p.data)\n",
        "\n",
        "                    unit_noise = Variable(p.data.new(p.size()).normal_())\n",
        "\n",
        "                    p.data.add_(-group['lr'], 0.5*d_p + unit_noise/group['lr']**0.5)\n",
        "\n",
        "        return loss\n",
        "def log_gaussian_loss(output, target, sigma, no_dim):\n",
        "    exponent = -0.5*(target - output)**2/sigma**2\n",
        "    log_coeff = -no_dim*torch.log(sigma)\n",
        "    \n",
        "    return - (log_coeff + exponent).sum()\n",
        "\n",
        "\n",
        "def get_kl_divergence(weights, prior, varpost):\n",
        "    prior_loglik = prior.loglik(weights)\n",
        "    \n",
        "    varpost_loglik = varpost.loglik(weights)\n",
        "    varpost_lik = varpost_loglik.exp()\n",
        "    \n",
        "    return (varpost_lik*(varpost_loglik - prior_loglik)).sum()\n",
        "\n",
        "\n",
        "class gaussian:\n",
        "    def __init__(self, mu, sigma):\n",
        "        self.mu = mu\n",
        "        self.sigma = sigma\n",
        "        \n",
        "    def loglik(self, weights):\n",
        "        exponent = -0.5*(weights - self.mu)**2/self.sigma**2\n",
        "        log_coeff = -0.5*(np.log(2*np.pi) + 2*np.log(self.sigma))\n",
        "        \n",
        "        return (exponent + log_coeff).sum()\n",
        "class Langevin_Model(nn.Module):\n",
        "    def __init__(self, input_dim, output_dim, num_units):\n",
        "        super(Langevin_Model, self).__init__()\n",
        "        \n",
        "        self.input_dim = input_dim\n",
        "        self.output_dim = output_dim\n",
        "        \n",
        "        \n",
        "        # network with two hidden and one output layer\n",
        "        self.layer1 = nn.Linear(input_dim, num_units)\n",
        "        self.layer2 = nn.Linear(num_units, num_units)\n",
        "        self.layer3 = nn.Linear(num_units, 2*output_dim)\n",
        "        \n",
        "        self.activation = nn.ReLU(inplace = True)\n",
        "\n",
        "    \n",
        "    def forward(self, x):\n",
        "        \n",
        "        x = x.view(-1, self.input_dim)\n",
        "        \n",
        "        x = self.layer1(x)\n",
        "        x = self.activation(x)\n",
        "      \n",
        "        \n",
        "        x = self.layer2(x)\n",
        "        x = self.activation(x)\n",
        "\n",
        "        y = self.layer3(x)\n",
        "        \n",
        "        return y\n",
        "class Langevin_Wrapper:\n",
        "    def __init__(self, network, learn_rate, batch_size, no_batches, weight_decay):\n",
        "        \n",
        "        self.learn_rate = learn_rate\n",
        "        self.batch_size = batch_size\n",
        "        self.no_batches = no_batches\n",
        "        \n",
        "        self.network = network\n",
        "        self.network.cuda()\n",
        "        \n",
        "        self.optimizer = Langevin_SGD(self.network.parameters(), lr=self.learn_rate, weight_decay=weight_decay)\n",
        "        self.loss_func = log_gaussian_loss\n",
        "    \n",
        "    def fit(self, x, y):\n",
        "        x, y = to_variable(var=(x, y), cuda=True)\n",
        "        \n",
        "        # reset gradient and total loss\n",
        "        self.optimizer.zero_grad()\n",
        "        \n",
        "        output = self.network(x)\n",
        "        loss = self.loss_func(output[:, :1], y, output[:, 1:].exp(), 1)\n",
        "        \n",
        "        loss.backward()\n",
        "        self.optimizer.step()\n",
        "\n",
        "        return loss,output[:, :1]\n",
        "    \n",
        "    \n",
        "    def test_loss(self, x, y):\n",
        "        x, y = to_variable(var=(x, y), cuda=True)\n",
        "        \n",
        "        output = self.network(x)\n",
        "        loss = self.loss_func(output[:, :1], y, output[:, 1:].exp(), 1)\n",
        "\n",
        "        return loss\n",
        "def eval_ensemble(x, y, ensemble):\n",
        "    \n",
        "    x, y = to_variable(var=(x, y), cuda=True)\n",
        "        \n",
        "    means, stds = [], []\n",
        "    for net in ensemble:\n",
        "        output = net(x)\n",
        "        means.append(output[:, :1, None])\n",
        "        stds.append(output[:, 1:, None].exp())\n",
        "            \n",
        "    means, stds = torch.cat(means, 2), torch.cat(stds, 2)\n",
        "    mean = means.mean(dim=2)\n",
        "    std = (means.var(dim=2) + stds.mean(dim=2)**2)**0.5\n",
        "    loss = log_gaussian_loss(mean, y, std, 1)/len(x)\n",
        "    \n",
        "    rmse = ((mean - y)**2).mean()**0.5\n",
        "\n",
        "    return loss, rmse"
      ],
      "execution_count": null,
      "outputs": []
    },
    {
      "cell_type": "code",
      "metadata": {
        "id": "ym6HBK-s8GnO",
        "colab": {
          "base_uri": "https://localhost:8080/",
          "height": 1000
        },
        "outputId": "3cbb0e21-c879-4b64-ab5f-33e0a1367b8e"
      },
      "source": [
        "np.random.seed(5)\n",
        "average_mse = []\n",
        "for iter in range(20):\n",
        "  no_points = 400\n",
        "  lengthscale = 1\n",
        "  variance = 1.0\n",
        "  sig_noise = 0.3\n",
        "  x = np.random.uniform(-3, 3, no_points)[:, None]\n",
        "  x.sort(axis=0)\n",
        "\n",
        "\n",
        "  k = GPy.kern.RBF(input_dim=1, variance=variance, lengthscale=lengthscale)\n",
        "  C = k.K(x, x) + np.eye(no_points)*(x + 2)**2*sig_noise**2\n",
        "\n",
        "  y = np.random.multivariate_normal(np.zeros((no_points)), C)[:, None]\n",
        "  y = (y - y.mean())\n",
        "  x_train = x[75:325]\n",
        "  y_train = y[75:325]\n",
        "\n",
        "  \n",
        "  best_net, best_loss = None, float('inf')\n",
        "  num_nets, nets, losses = 1, [], []\n",
        "  mix_epochs, burnin_epochs = 50, 150\n",
        "  num_epochs = mix_epochs*num_nets + burnin_epochs + 1\n",
        "\n",
        "  batch_size, nb_train = len(x_train), len(x_train)\n",
        "\n",
        "  net = Langevin_Wrapper(network=Langevin_Model(input_dim=1, output_dim=1, num_units=200),\n",
        "                        learn_rate=2.5e-4, batch_size=batch_size, no_batches=1, weight_decay=50)\n",
        "\n",
        "  for i in range(num_epochs):\n",
        "      \n",
        "      loss,y_hat = net.fit(x_train, y_train)\n",
        "      \n",
        "      if i % mix_epochs == 0:\n",
        "          print('Epoch: %4d, Train loss = %8.3f' % (i, loss.cpu().data.numpy()))\n",
        "          \n",
        "      if i % 100 == 0 and i > burnin_epochs: nets.append(copy.deepcopy(net.network))\n",
        "  average_mse.append(np.power((y_hat.cpu().data.numpy()-y_train),2).mean())\n",
        "  if iter==0:\n",
        "      print(\"Using %d networks for prediction\" % len(nets))\n",
        "      samples = []\n",
        "      noises = []\n",
        "      for network in nets:\n",
        "          preds = network.forward(torch.linspace(-5, 5, 200).cuda()).cpu().data.numpy()\n",
        "          samples.append(preds[:, 0])\n",
        "          noises.append(np.exp(preds[:, 1]))\n",
        "          \n",
        "      samples = np.array(samples)\n",
        "      means = (samples.mean(axis = 0)).reshape(-1)\n",
        "\n",
        "      noises = np.array(noises)\n",
        "      aleatoric = (noises**2).mean(axis = 0)**0.5\n",
        "      epistemic = samples.var(axis = 0)**0.5\n",
        "      total_unc = (aleatoric**2 + epistemic**2)**0.5\n",
        "\n",
        "      c = ['#1f77b4', '#ff7f0e', '#2ca02c', '#d62728', '#9467bd',\n",
        "          '#8c564b', '#e377c2', '#7f7f7f', '#bcbd22', '#17becf']\n",
        "\n",
        "      plt.figure(figsize = (6, 5))\n",
        "      plt.style.use('default')\n",
        "      plt.scatter(x_train, y_train, s = 10, marker = 'x', color = 'black', alpha = 0.5)\n",
        "      plt.fill_between(np.linspace(-5, 5, 200), means + aleatoric, means + total_unc, color = c[0], alpha = 0.3, label = 'Epistemic + Aleatoric')\n",
        "      plt.fill_between(np.linspace(-5, 5, 200), means - total_unc, means - aleatoric, color = c[0], alpha = 0.3)\n",
        "      plt.fill_between(np.linspace(-5, 5, 200), means - aleatoric, means + aleatoric, color = c[1], alpha = 0.4, label = 'Aleatoric')\n",
        "      plt.plot(np.linspace(-5, 5, 200), means, color = 'black', linewidth = 1)\n",
        "      plt.xlim([-5, 5])\n",
        "      plt.ylim([-5, 7])\n",
        "      plt.xlabel('$x$', fontsize=16)\n",
        "      plt.ylabel('$y$', fontsize=16)\n",
        "      #plt.tick_params(labelsize=30)\n",
        "      plt.xticks(np.arange(-4, 5, 2),fontsize=14)\n",
        "      plt.yticks(np.arange(-4, 7, 2),fontsize=14)\n",
        "      #plt.gca().set_yticklabels([])\n",
        "      plt.gca().yaxis.grid(alpha=0.3)\n",
        "      plt.gca().xaxis.grid(alpha=0.3)\n",
        "      plt.savefig('sgld_hetero.pdf', bbox_inches = 'tight')\n",
        "\n",
        "      #files.download(\"sgld_hetero.pdf\")\n",
        "\n",
        "      plt.show()\n",
        "print(average_mse,np.median(average_mse))\n"
      ],
      "execution_count": null,
      "outputs": [
        {
          "output_type": "stream",
          "text": [
            " /usr/local/lib/python3.7/dist-packages/opacus/privacy_engine.py:646: UserWarning:A ``sample_rate`` has been provided.Thus, the provided ``batch_size``and ``sample_size`` will be ignored.\n",
            " /usr/local/lib/python3.7/dist-packages/opacus/privacy_engine.py:230: UserWarning:Secure RNG turned off. This is perfectly fine for experimentation as it allows for much faster training performance, but remember to turn it on and retrain one last time before production with ``secure_rng`` turned on.\n",
            " /usr/local/lib/python3.7/dist-packages/torch/nn/modules/module.py:974: UserWarning:Using a non-full backward hook when the forward contains multiple autograd Nodes is deprecated and will be removed in future versions. This hook will be missing some grad_input. Please use register_full_backward_hook to get the documented behavior.\n"
          ],
          "name": "stderr"
        },
        {
          "output_type": "stream",
          "text": [
            "Epoch:    0, Train loss =  161.501\n",
            "Epoch:   50, Train loss =  441.799\n",
            "Epoch:  100, Train loss =  379.827\n",
            "Epoch:  150, Train loss =  138.985\n",
            "Epoch:  200, Train loss =  124.910\n",
            "Using 1 networks for prediction\n"
          ],
          "name": "stdout"
        },
        {
          "output_type": "display_data",
          "data": {
            "text/plain": [
              "<Figure size 600x500 with 1 Axes>"
            ],
            "image/svg+xml": "<?xml version=\"1.0\" encoding=\"utf-8\" standalone=\"no\"?>\n<!DOCTYPE svg PUBLIC \"-//W3C//DTD SVG 1.1//EN\"\n  \"http://www.w3.org/Graphics/SVG/1.1/DTD/svg11.dtd\">\n<!-- Created with matplotlib (https://matplotlib.org/) -->\n<svg height=\"331.634375pt\" version=\"1.1\" viewBox=\"0 0 396.324063 331.634375\" width=\"396.324063pt\" xmlns=\"http://www.w3.org/2000/svg\" xmlns:xlink=\"http://www.w3.org/1999/xlink\">\n <defs>\n  <style type=\"text/css\">\n*{stroke-linecap:butt;stroke-linejoin:round;}\n  </style>\n </defs>\n <g id=\"figure_1\">\n  <g id=\"patch_1\">\n   <path d=\"M 0 331.634375 \nL 396.324063 331.634375 \nL 396.324063 0 \nL 0 0 \nz\n\" style=\"fill:#ffffff;\"/>\n  </g>\n  <g id=\"axes_1\">\n   <g id=\"patch_2\">\n    <path d=\"M 54.324063 284.4 \nL 389.124063 284.4 \nL 389.124063 7.2 \nL 54.324063 7.2 \nz\n\" style=\"fill:#ffffff;\"/>\n   </g>\n   <g id=\"PathCollection_1\">\n    <defs>\n     <path d=\"M -1.581139 1.581139 \nL 1.581139 -1.581139 \nM -1.581139 -1.581139 \nL 1.581139 1.581139 \n\" id=\"m06e28193ea\" style=\"stroke:#000000;stroke-opacity:0.5;stroke-width:1.5;\"/>\n    </defs>\n    <g clip-path=\"url(#pcc99a7a769)\">\n     <use style=\"fill-opacity:0.5;stroke:#000000;stroke-opacity:0.5;stroke-width:1.5;\" x=\"162.766321\" xlink:href=\"#m06e28193ea\" y=\"186.474353\"/>\n     <use style=\"fill-opacity:0.5;stroke:#000000;stroke-opacity:0.5;stroke-width:1.5;\" x=\"162.809806\" xlink:href=\"#m06e28193ea\" y=\"188.470501\"/>\n     <use style=\"fill-opacity:0.5;stroke:#000000;stroke-opacity:0.5;stroke-width:1.5;\" x=\"162.975168\" xlink:href=\"#m06e28193ea\" y=\"186.858613\"/>\n     <use style=\"fill-opacity:0.5;stroke:#000000;stroke-opacity:0.5;stroke-width:1.5;\" x=\"163.698067\" xlink:href=\"#m06e28193ea\" y=\"186.611183\"/>\n     <use style=\"fill-opacity:0.5;stroke:#000000;stroke-opacity:0.5;stroke-width:1.5;\" x=\"164.080535\" xlink:href=\"#m06e28193ea\" y=\"185.95654\"/>\n     <use style=\"fill-opacity:0.5;stroke:#000000;stroke-opacity:0.5;stroke-width:1.5;\" x=\"165.175897\" xlink:href=\"#m06e28193ea\" y=\"185.301945\"/>\n     <use style=\"fill-opacity:0.5;stroke:#000000;stroke-opacity:0.5;stroke-width:1.5;\" x=\"165.212848\" xlink:href=\"#m06e28193ea\" y=\"191.241443\"/>\n     <use style=\"fill-opacity:0.5;stroke:#000000;stroke-opacity:0.5;stroke-width:1.5;\" x=\"165.532307\" xlink:href=\"#m06e28193ea\" y=\"184.277114\"/>\n     <use style=\"fill-opacity:0.5;stroke:#000000;stroke-opacity:0.5;stroke-width:1.5;\" x=\"165.775519\" xlink:href=\"#m06e28193ea\" y=\"186.858444\"/>\n     <use style=\"fill-opacity:0.5;stroke:#000000;stroke-opacity:0.5;stroke-width:1.5;\" x=\"165.878051\" xlink:href=\"#m06e28193ea\" y=\"184.920269\"/>\n     <use style=\"fill-opacity:0.5;stroke:#000000;stroke-opacity:0.5;stroke-width:1.5;\" x=\"166.218523\" xlink:href=\"#m06e28193ea\" y=\"186.596162\"/>\n     <use style=\"fill-opacity:0.5;stroke:#000000;stroke-opacity:0.5;stroke-width:1.5;\" x=\"167.693946\" xlink:href=\"#m06e28193ea\" y=\"185.609247\"/>\n     <use style=\"fill-opacity:0.5;stroke:#000000;stroke-opacity:0.5;stroke-width:1.5;\" x=\"168.624174\" xlink:href=\"#m06e28193ea\" y=\"176.287675\"/>\n     <use style=\"fill-opacity:0.5;stroke:#000000;stroke-opacity:0.5;stroke-width:1.5;\" x=\"169.423034\" xlink:href=\"#m06e28193ea\" y=\"182.659116\"/>\n     <use style=\"fill-opacity:0.5;stroke:#000000;stroke-opacity:0.5;stroke-width:1.5;\" x=\"169.868709\" xlink:href=\"#m06e28193ea\" y=\"183.779569\"/>\n     <use style=\"fill-opacity:0.5;stroke:#000000;stroke-opacity:0.5;stroke-width:1.5;\" x=\"169.918652\" xlink:href=\"#m06e28193ea\" y=\"188.05034\"/>\n     <use style=\"fill-opacity:0.5;stroke:#000000;stroke-opacity:0.5;stroke-width:1.5;\" x=\"170.357212\" xlink:href=\"#m06e28193ea\" y=\"185.706423\"/>\n     <use style=\"fill-opacity:0.5;stroke:#000000;stroke-opacity:0.5;stroke-width:1.5;\" x=\"170.626417\" xlink:href=\"#m06e28193ea\" y=\"189.278576\"/>\n     <use style=\"fill-opacity:0.5;stroke:#000000;stroke-opacity:0.5;stroke-width:1.5;\" x=\"171.754181\" xlink:href=\"#m06e28193ea\" y=\"176.557464\"/>\n     <use style=\"fill-opacity:0.5;stroke:#000000;stroke-opacity:0.5;stroke-width:1.5;\" x=\"172.224861\" xlink:href=\"#m06e28193ea\" y=\"175.58798\"/>\n     <use style=\"fill-opacity:0.5;stroke:#000000;stroke-opacity:0.5;stroke-width:1.5;\" x=\"172.988034\" xlink:href=\"#m06e28193ea\" y=\"181.535598\"/>\n     <use style=\"fill-opacity:0.5;stroke:#000000;stroke-opacity:0.5;stroke-width:1.5;\" x=\"173.148543\" xlink:href=\"#m06e28193ea\" y=\"179.245545\"/>\n     <use style=\"fill-opacity:0.5;stroke:#000000;stroke-opacity:0.5;stroke-width:1.5;\" x=\"173.331588\" xlink:href=\"#m06e28193ea\" y=\"178.747641\"/>\n     <use style=\"fill-opacity:0.5;stroke:#000000;stroke-opacity:0.5;stroke-width:1.5;\" x=\"174.364267\" xlink:href=\"#m06e28193ea\" y=\"180.350961\"/>\n     <use style=\"fill-opacity:0.5;stroke:#000000;stroke-opacity:0.5;stroke-width:1.5;\" x=\"174.539895\" xlink:href=\"#m06e28193ea\" y=\"177.063499\"/>\n     <use style=\"fill-opacity:0.5;stroke:#000000;stroke-opacity:0.5;stroke-width:1.5;\" x=\"174.563514\" xlink:href=\"#m06e28193ea\" y=\"181.780912\"/>\n     <use style=\"fill-opacity:0.5;stroke:#000000;stroke-opacity:0.5;stroke-width:1.5;\" x=\"174.681807\" xlink:href=\"#m06e28193ea\" y=\"180.700013\"/>\n     <use style=\"fill-opacity:0.5;stroke:#000000;stroke-opacity:0.5;stroke-width:1.5;\" x=\"176.342551\" xlink:href=\"#m06e28193ea\" y=\"181.88653\"/>\n     <use style=\"fill-opacity:0.5;stroke:#000000;stroke-opacity:0.5;stroke-width:1.5;\" x=\"176.492798\" xlink:href=\"#m06e28193ea\" y=\"176.361755\"/>\n     <use style=\"fill-opacity:0.5;stroke:#000000;stroke-opacity:0.5;stroke-width:1.5;\" x=\"177.160026\" xlink:href=\"#m06e28193ea\" y=\"173.067936\"/>\n     <use style=\"fill-opacity:0.5;stroke:#000000;stroke-opacity:0.5;stroke-width:1.5;\" x=\"177.325097\" xlink:href=\"#m06e28193ea\" y=\"176.347715\"/>\n     <use style=\"fill-opacity:0.5;stroke:#000000;stroke-opacity:0.5;stroke-width:1.5;\" x=\"178.471762\" xlink:href=\"#m06e28193ea\" y=\"173.874377\"/>\n     <use style=\"fill-opacity:0.5;stroke:#000000;stroke-opacity:0.5;stroke-width:1.5;\" x=\"178.571235\" xlink:href=\"#m06e28193ea\" y=\"175.38302\"/>\n     <use style=\"fill-opacity:0.5;stroke:#000000;stroke-opacity:0.5;stroke-width:1.5;\" x=\"180.037537\" xlink:href=\"#m06e28193ea\" y=\"171.90254\"/>\n     <use style=\"fill-opacity:0.5;stroke:#000000;stroke-opacity:0.5;stroke-width:1.5;\" x=\"180.513635\" xlink:href=\"#m06e28193ea\" y=\"178.325526\"/>\n     <use style=\"fill-opacity:0.5;stroke:#000000;stroke-opacity:0.5;stroke-width:1.5;\" x=\"180.582127\" xlink:href=\"#m06e28193ea\" y=\"184.856101\"/>\n     <use style=\"fill-opacity:0.5;stroke:#000000;stroke-opacity:0.5;stroke-width:1.5;\" x=\"180.744026\" xlink:href=\"#m06e28193ea\" y=\"175.701818\"/>\n     <use style=\"fill-opacity:0.5;stroke:#000000;stroke-opacity:0.5;stroke-width:1.5;\" x=\"180.760599\" xlink:href=\"#m06e28193ea\" y=\"170.548931\"/>\n     <use style=\"fill-opacity:0.5;stroke:#000000;stroke-opacity:0.5;stroke-width:1.5;\" x=\"180.905347\" xlink:href=\"#m06e28193ea\" y=\"174.395862\"/>\n     <use style=\"fill-opacity:0.5;stroke:#000000;stroke-opacity:0.5;stroke-width:1.5;\" x=\"181.34374\" xlink:href=\"#m06e28193ea\" y=\"176.435081\"/>\n     <use style=\"fill-opacity:0.5;stroke:#000000;stroke-opacity:0.5;stroke-width:1.5;\" x=\"181.647673\" xlink:href=\"#m06e28193ea\" y=\"178.603472\"/>\n     <use style=\"fill-opacity:0.5;stroke:#000000;stroke-opacity:0.5;stroke-width:1.5;\" x=\"181.926942\" xlink:href=\"#m06e28193ea\" y=\"166.469536\"/>\n     <use style=\"fill-opacity:0.5;stroke:#000000;stroke-opacity:0.5;stroke-width:1.5;\" x=\"182.053901\" xlink:href=\"#m06e28193ea\" y=\"167.706484\"/>\n     <use style=\"fill-opacity:0.5;stroke:#000000;stroke-opacity:0.5;stroke-width:1.5;\" x=\"182.662651\" xlink:href=\"#m06e28193ea\" y=\"170.551302\"/>\n     <use style=\"fill-opacity:0.5;stroke:#000000;stroke-opacity:0.5;stroke-width:1.5;\" x=\"183.40234\" xlink:href=\"#m06e28193ea\" y=\"171.326404\"/>\n     <use style=\"fill-opacity:0.5;stroke:#000000;stroke-opacity:0.5;stroke-width:1.5;\" x=\"185.103679\" xlink:href=\"#m06e28193ea\" y=\"164.55677\"/>\n     <use style=\"fill-opacity:0.5;stroke:#000000;stroke-opacity:0.5;stroke-width:1.5;\" x=\"185.293759\" xlink:href=\"#m06e28193ea\" y=\"178.060779\"/>\n     <use style=\"fill-opacity:0.5;stroke:#000000;stroke-opacity:0.5;stroke-width:1.5;\" x=\"185.775328\" xlink:href=\"#m06e28193ea\" y=\"172.695726\"/>\n     <use style=\"fill-opacity:0.5;stroke:#000000;stroke-opacity:0.5;stroke-width:1.5;\" x=\"187.085108\" xlink:href=\"#m06e28193ea\" y=\"161.344532\"/>\n     <use style=\"fill-opacity:0.5;stroke:#000000;stroke-opacity:0.5;stroke-width:1.5;\" x=\"187.625336\" xlink:href=\"#m06e28193ea\" y=\"161.4077\"/>\n     <use style=\"fill-opacity:0.5;stroke:#000000;stroke-opacity:0.5;stroke-width:1.5;\" x=\"187.715963\" xlink:href=\"#m06e28193ea\" y=\"164.166146\"/>\n     <use style=\"fill-opacity:0.5;stroke:#000000;stroke-opacity:0.5;stroke-width:1.5;\" x=\"187.985895\" xlink:href=\"#m06e28193ea\" y=\"182.026139\"/>\n     <use style=\"fill-opacity:0.5;stroke:#000000;stroke-opacity:0.5;stroke-width:1.5;\" x=\"189.24953\" xlink:href=\"#m06e28193ea\" y=\"158.119838\"/>\n     <use style=\"fill-opacity:0.5;stroke:#000000;stroke-opacity:0.5;stroke-width:1.5;\" x=\"189.716591\" xlink:href=\"#m06e28193ea\" y=\"171.566358\"/>\n     <use style=\"fill-opacity:0.5;stroke:#000000;stroke-opacity:0.5;stroke-width:1.5;\" x=\"190.147341\" xlink:href=\"#m06e28193ea\" y=\"156.598023\"/>\n     <use style=\"fill-opacity:0.5;stroke:#000000;stroke-opacity:0.5;stroke-width:1.5;\" x=\"190.410675\" xlink:href=\"#m06e28193ea\" y=\"150.26627\"/>\n     <use style=\"fill-opacity:0.5;stroke:#000000;stroke-opacity:0.5;stroke-width:1.5;\" x=\"190.794198\" xlink:href=\"#m06e28193ea\" y=\"151.025965\"/>\n     <use style=\"fill-opacity:0.5;stroke:#000000;stroke-opacity:0.5;stroke-width:1.5;\" x=\"191.135898\" xlink:href=\"#m06e28193ea\" y=\"169.490221\"/>\n     <use style=\"fill-opacity:0.5;stroke:#000000;stroke-opacity:0.5;stroke-width:1.5;\" x=\"191.256994\" xlink:href=\"#m06e28193ea\" y=\"162.10405\"/>\n     <use style=\"fill-opacity:0.5;stroke:#000000;stroke-opacity:0.5;stroke-width:1.5;\" x=\"191.356545\" xlink:href=\"#m06e28193ea\" y=\"154.14338\"/>\n     <use style=\"fill-opacity:0.5;stroke:#000000;stroke-opacity:0.5;stroke-width:1.5;\" x=\"191.628136\" xlink:href=\"#m06e28193ea\" y=\"154.871793\"/>\n     <use style=\"fill-opacity:0.5;stroke:#000000;stroke-opacity:0.5;stroke-width:1.5;\" x=\"192.012893\" xlink:href=\"#m06e28193ea\" y=\"158.159838\"/>\n     <use style=\"fill-opacity:0.5;stroke:#000000;stroke-opacity:0.5;stroke-width:1.5;\" x=\"192.553366\" xlink:href=\"#m06e28193ea\" y=\"147.587196\"/>\n     <use style=\"fill-opacity:0.5;stroke:#000000;stroke-opacity:0.5;stroke-width:1.5;\" x=\"192.761501\" xlink:href=\"#m06e28193ea\" y=\"151.101855\"/>\n     <use style=\"fill-opacity:0.5;stroke:#000000;stroke-opacity:0.5;stroke-width:1.5;\" x=\"193.597487\" xlink:href=\"#m06e28193ea\" y=\"149.513181\"/>\n     <use style=\"fill-opacity:0.5;stroke:#000000;stroke-opacity:0.5;stroke-width:1.5;\" x=\"193.811469\" xlink:href=\"#m06e28193ea\" y=\"158.033078\"/>\n     <use style=\"fill-opacity:0.5;stroke:#000000;stroke-opacity:0.5;stroke-width:1.5;\" x=\"194.110635\" xlink:href=\"#m06e28193ea\" y=\"168.955005\"/>\n     <use style=\"fill-opacity:0.5;stroke:#000000;stroke-opacity:0.5;stroke-width:1.5;\" x=\"194.32399\" xlink:href=\"#m06e28193ea\" y=\"142.475188\"/>\n     <use style=\"fill-opacity:0.5;stroke:#000000;stroke-opacity:0.5;stroke-width:1.5;\" x=\"194.547043\" xlink:href=\"#m06e28193ea\" y=\"149.176675\"/>\n     <use style=\"fill-opacity:0.5;stroke:#000000;stroke-opacity:0.5;stroke-width:1.5;\" x=\"194.662806\" xlink:href=\"#m06e28193ea\" y=\"147.074923\"/>\n     <use style=\"fill-opacity:0.5;stroke:#000000;stroke-opacity:0.5;stroke-width:1.5;\" x=\"194.672159\" xlink:href=\"#m06e28193ea\" y=\"163.16191\"/>\n     <use style=\"fill-opacity:0.5;stroke:#000000;stroke-opacity:0.5;stroke-width:1.5;\" x=\"194.701237\" xlink:href=\"#m06e28193ea\" y=\"148.430837\"/>\n     <use style=\"fill-opacity:0.5;stroke:#000000;stroke-opacity:0.5;stroke-width:1.5;\" x=\"195.256596\" xlink:href=\"#m06e28193ea\" y=\"152.776275\"/>\n     <use style=\"fill-opacity:0.5;stroke:#000000;stroke-opacity:0.5;stroke-width:1.5;\" x=\"195.782975\" xlink:href=\"#m06e28193ea\" y=\"147.055608\"/>\n     <use style=\"fill-opacity:0.5;stroke:#000000;stroke-opacity:0.5;stroke-width:1.5;\" x=\"195.891888\" xlink:href=\"#m06e28193ea\" y=\"161.123052\"/>\n     <use style=\"fill-opacity:0.5;stroke:#000000;stroke-opacity:0.5;stroke-width:1.5;\" x=\"195.913517\" xlink:href=\"#m06e28193ea\" y=\"132.806104\"/>\n     <use style=\"fill-opacity:0.5;stroke:#000000;stroke-opacity:0.5;stroke-width:1.5;\" x=\"196.098294\" xlink:href=\"#m06e28193ea\" y=\"154.674221\"/>\n     <use style=\"fill-opacity:0.5;stroke:#000000;stroke-opacity:0.5;stroke-width:1.5;\" x=\"196.355835\" xlink:href=\"#m06e28193ea\" y=\"153.375495\"/>\n     <use style=\"fill-opacity:0.5;stroke:#000000;stroke-opacity:0.5;stroke-width:1.5;\" x=\"196.821374\" xlink:href=\"#m06e28193ea\" y=\"144.616826\"/>\n     <use style=\"fill-opacity:0.5;stroke:#000000;stroke-opacity:0.5;stroke-width:1.5;\" x=\"197.432175\" xlink:href=\"#m06e28193ea\" y=\"149.758614\"/>\n     <use style=\"fill-opacity:0.5;stroke:#000000;stroke-opacity:0.5;stroke-width:1.5;\" x=\"197.573945\" xlink:href=\"#m06e28193ea\" y=\"140.986321\"/>\n     <use style=\"fill-opacity:0.5;stroke:#000000;stroke-opacity:0.5;stroke-width:1.5;\" x=\"197.75447\" xlink:href=\"#m06e28193ea\" y=\"151.465375\"/>\n     <use style=\"fill-opacity:0.5;stroke:#000000;stroke-opacity:0.5;stroke-width:1.5;\" x=\"198.303276\" xlink:href=\"#m06e28193ea\" y=\"141.328631\"/>\n     <use style=\"fill-opacity:0.5;stroke:#000000;stroke-opacity:0.5;stroke-width:1.5;\" x=\"199.28439\" xlink:href=\"#m06e28193ea\" y=\"156.585889\"/>\n     <use style=\"fill-opacity:0.5;stroke:#000000;stroke-opacity:0.5;stroke-width:1.5;\" x=\"201.424095\" xlink:href=\"#m06e28193ea\" y=\"160.568159\"/>\n     <use style=\"fill-opacity:0.5;stroke:#000000;stroke-opacity:0.5;stroke-width:1.5;\" x=\"203.058083\" xlink:href=\"#m06e28193ea\" y=\"138.315821\"/>\n     <use style=\"fill-opacity:0.5;stroke:#000000;stroke-opacity:0.5;stroke-width:1.5;\" x=\"203.179972\" xlink:href=\"#m06e28193ea\" y=\"148.061981\"/>\n     <use style=\"fill-opacity:0.5;stroke:#000000;stroke-opacity:0.5;stroke-width:1.5;\" x=\"203.922803\" xlink:href=\"#m06e28193ea\" y=\"143.968545\"/>\n     <use style=\"fill-opacity:0.5;stroke:#000000;stroke-opacity:0.5;stroke-width:1.5;\" x=\"204.495593\" xlink:href=\"#m06e28193ea\" y=\"138.996\"/>\n     <use style=\"fill-opacity:0.5;stroke:#000000;stroke-opacity:0.5;stroke-width:1.5;\" x=\"205.383298\" xlink:href=\"#m06e28193ea\" y=\"135.078235\"/>\n     <use style=\"fill-opacity:0.5;stroke:#000000;stroke-opacity:0.5;stroke-width:1.5;\" x=\"205.966156\" xlink:href=\"#m06e28193ea\" y=\"132.273375\"/>\n     <use style=\"fill-opacity:0.5;stroke:#000000;stroke-opacity:0.5;stroke-width:1.5;\" x=\"206.426971\" xlink:href=\"#m06e28193ea\" y=\"153.4158\"/>\n     <use style=\"fill-opacity:0.5;stroke:#000000;stroke-opacity:0.5;stroke-width:1.5;\" x=\"206.78609\" xlink:href=\"#m06e28193ea\" y=\"149.073959\"/>\n     <use style=\"fill-opacity:0.5;stroke:#000000;stroke-opacity:0.5;stroke-width:1.5;\" x=\"206.787432\" xlink:href=\"#m06e28193ea\" y=\"158.766424\"/>\n     <use style=\"fill-opacity:0.5;stroke:#000000;stroke-opacity:0.5;stroke-width:1.5;\" x=\"208.251159\" xlink:href=\"#m06e28193ea\" y=\"118.031632\"/>\n     <use style=\"fill-opacity:0.5;stroke:#000000;stroke-opacity:0.5;stroke-width:1.5;\" x=\"208.343022\" xlink:href=\"#m06e28193ea\" y=\"147.94209\"/>\n     <use style=\"fill-opacity:0.5;stroke:#000000;stroke-opacity:0.5;stroke-width:1.5;\" x=\"208.975324\" xlink:href=\"#m06e28193ea\" y=\"139.840018\"/>\n     <use style=\"fill-opacity:0.5;stroke:#000000;stroke-opacity:0.5;stroke-width:1.5;\" x=\"209.30343\" xlink:href=\"#m06e28193ea\" y=\"144.606783\"/>\n     <use style=\"fill-opacity:0.5;stroke:#000000;stroke-opacity:0.5;stroke-width:1.5;\" x=\"209.92443\" xlink:href=\"#m06e28193ea\" y=\"117.935648\"/>\n     <use style=\"fill-opacity:0.5;stroke:#000000;stroke-opacity:0.5;stroke-width:1.5;\" x=\"209.934259\" xlink:href=\"#m06e28193ea\" y=\"143.554163\"/>\n     <use style=\"fill-opacity:0.5;stroke:#000000;stroke-opacity:0.5;stroke-width:1.5;\" x=\"210.375291\" xlink:href=\"#m06e28193ea\" y=\"141.315852\"/>\n     <use style=\"fill-opacity:0.5;stroke:#000000;stroke-opacity:0.5;stroke-width:1.5;\" x=\"210.834852\" xlink:href=\"#m06e28193ea\" y=\"128.623237\"/>\n     <use style=\"fill-opacity:0.5;stroke:#000000;stroke-opacity:0.5;stroke-width:1.5;\" x=\"210.998643\" xlink:href=\"#m06e28193ea\" y=\"125.707832\"/>\n     <use style=\"fill-opacity:0.5;stroke:#000000;stroke-opacity:0.5;stroke-width:1.5;\" x=\"211.139726\" xlink:href=\"#m06e28193ea\" y=\"148.301856\"/>\n     <use style=\"fill-opacity:0.5;stroke:#000000;stroke-opacity:0.5;stroke-width:1.5;\" x=\"211.510147\" xlink:href=\"#m06e28193ea\" y=\"158.767415\"/>\n     <use style=\"fill-opacity:0.5;stroke:#000000;stroke-opacity:0.5;stroke-width:1.5;\" x=\"211.628548\" xlink:href=\"#m06e28193ea\" y=\"134.024652\"/>\n     <use style=\"fill-opacity:0.5;stroke:#000000;stroke-opacity:0.5;stroke-width:1.5;\" x=\"212.16596\" xlink:href=\"#m06e28193ea\" y=\"137.585383\"/>\n     <use style=\"fill-opacity:0.5;stroke:#000000;stroke-opacity:0.5;stroke-width:1.5;\" x=\"213.557406\" xlink:href=\"#m06e28193ea\" y=\"115.779355\"/>\n     <use style=\"fill-opacity:0.5;stroke:#000000;stroke-opacity:0.5;stroke-width:1.5;\" x=\"214.022633\" xlink:href=\"#m06e28193ea\" y=\"150.045378\"/>\n     <use style=\"fill-opacity:0.5;stroke:#000000;stroke-opacity:0.5;stroke-width:1.5;\" x=\"215.411108\" xlink:href=\"#m06e28193ea\" y=\"147.614076\"/>\n     <use style=\"fill-opacity:0.5;stroke:#000000;stroke-opacity:0.5;stroke-width:1.5;\" x=\"215.594887\" xlink:href=\"#m06e28193ea\" y=\"145.781856\"/>\n     <use style=\"fill-opacity:0.5;stroke:#000000;stroke-opacity:0.5;stroke-width:1.5;\" x=\"215.630666\" xlink:href=\"#m06e28193ea\" y=\"138.641893\"/>\n     <use style=\"fill-opacity:0.5;stroke:#000000;stroke-opacity:0.5;stroke-width:1.5;\" x=\"216.255883\" xlink:href=\"#m06e28193ea\" y=\"142.889677\"/>\n     <use style=\"fill-opacity:0.5;stroke:#000000;stroke-opacity:0.5;stroke-width:1.5;\" x=\"216.265782\" xlink:href=\"#m06e28193ea\" y=\"123.745154\"/>\n     <use style=\"fill-opacity:0.5;stroke:#000000;stroke-opacity:0.5;stroke-width:1.5;\" x=\"217.292913\" xlink:href=\"#m06e28193ea\" y=\"126.997613\"/>\n     <use style=\"fill-opacity:0.5;stroke:#000000;stroke-opacity:0.5;stroke-width:1.5;\" x=\"217.37281\" xlink:href=\"#m06e28193ea\" y=\"136.454669\"/>\n     <use style=\"fill-opacity:0.5;stroke:#000000;stroke-opacity:0.5;stroke-width:1.5;\" x=\"218.63465\" xlink:href=\"#m06e28193ea\" y=\"131.663618\"/>\n     <use style=\"fill-opacity:0.5;stroke:#000000;stroke-opacity:0.5;stroke-width:1.5;\" x=\"218.697017\" xlink:href=\"#m06e28193ea\" y=\"149.089504\"/>\n     <use style=\"fill-opacity:0.5;stroke:#000000;stroke-opacity:0.5;stroke-width:1.5;\" x=\"218.790546\" xlink:href=\"#m06e28193ea\" y=\"140.01072\"/>\n     <use style=\"fill-opacity:0.5;stroke:#000000;stroke-opacity:0.5;stroke-width:1.5;\" x=\"219.396102\" xlink:href=\"#m06e28193ea\" y=\"142.336829\"/>\n     <use style=\"fill-opacity:0.5;stroke:#000000;stroke-opacity:0.5;stroke-width:1.5;\" x=\"220.401278\" xlink:href=\"#m06e28193ea\" y=\"148.552719\"/>\n     <use style=\"fill-opacity:0.5;stroke:#000000;stroke-opacity:0.5;stroke-width:1.5;\" x=\"221.060256\" xlink:href=\"#m06e28193ea\" y=\"134.002508\"/>\n     <use style=\"fill-opacity:0.5;stroke:#000000;stroke-opacity:0.5;stroke-width:1.5;\" x=\"221.123502\" xlink:href=\"#m06e28193ea\" y=\"129.229907\"/>\n     <use style=\"fill-opacity:0.5;stroke:#000000;stroke-opacity:0.5;stroke-width:1.5;\" x=\"221.275702\" xlink:href=\"#m06e28193ea\" y=\"131.224335\"/>\n     <use style=\"fill-opacity:0.5;stroke:#000000;stroke-opacity:0.5;stroke-width:1.5;\" x=\"222.592349\" xlink:href=\"#m06e28193ea\" y=\"148.400478\"/>\n     <use style=\"fill-opacity:0.5;stroke:#000000;stroke-opacity:0.5;stroke-width:1.5;\" x=\"223.627419\" xlink:href=\"#m06e28193ea\" y=\"160.991253\"/>\n     <use style=\"fill-opacity:0.5;stroke:#000000;stroke-opacity:0.5;stroke-width:1.5;\" x=\"223.804134\" xlink:href=\"#m06e28193ea\" y=\"116.997649\"/>\n     <use style=\"fill-opacity:0.5;stroke:#000000;stroke-opacity:0.5;stroke-width:1.5;\" x=\"224.650085\" xlink:href=\"#m06e28193ea\" y=\"119.911894\"/>\n     <use style=\"fill-opacity:0.5;stroke:#000000;stroke-opacity:0.5;stroke-width:1.5;\" x=\"224.684625\" xlink:href=\"#m06e28193ea\" y=\"133.624021\"/>\n     <use style=\"fill-opacity:0.5;stroke:#000000;stroke-opacity:0.5;stroke-width:1.5;\" x=\"224.832201\" xlink:href=\"#m06e28193ea\" y=\"112.523887\"/>\n     <use style=\"fill-opacity:0.5;stroke:#000000;stroke-opacity:0.5;stroke-width:1.5;\" x=\"225.423868\" xlink:href=\"#m06e28193ea\" y=\"122.985382\"/>\n     <use style=\"fill-opacity:0.5;stroke:#000000;stroke-opacity:0.5;stroke-width:1.5;\" x=\"225.694755\" xlink:href=\"#m06e28193ea\" y=\"136.217899\"/>\n     <use style=\"fill-opacity:0.5;stroke:#000000;stroke-opacity:0.5;stroke-width:1.5;\" x=\"226.836354\" xlink:href=\"#m06e28193ea\" y=\"147.00049\"/>\n     <use style=\"fill-opacity:0.5;stroke:#000000;stroke-opacity:0.5;stroke-width:1.5;\" x=\"227.091087\" xlink:href=\"#m06e28193ea\" y=\"135.733469\"/>\n     <use style=\"fill-opacity:0.5;stroke:#000000;stroke-opacity:0.5;stroke-width:1.5;\" x=\"227.183746\" xlink:href=\"#m06e28193ea\" y=\"161.661185\"/>\n     <use style=\"fill-opacity:0.5;stroke:#000000;stroke-opacity:0.5;stroke-width:1.5;\" x=\"230.179184\" xlink:href=\"#m06e28193ea\" y=\"162.648409\"/>\n     <use style=\"fill-opacity:0.5;stroke:#000000;stroke-opacity:0.5;stroke-width:1.5;\" x=\"230.609458\" xlink:href=\"#m06e28193ea\" y=\"149.579116\"/>\n     <use style=\"fill-opacity:0.5;stroke:#000000;stroke-opacity:0.5;stroke-width:1.5;\" x=\"230.624037\" xlink:href=\"#m06e28193ea\" y=\"154.974258\"/>\n     <use style=\"fill-opacity:0.5;stroke:#000000;stroke-opacity:0.5;stroke-width:1.5;\" x=\"231.036528\" xlink:href=\"#m06e28193ea\" y=\"128.600624\"/>\n     <use style=\"fill-opacity:0.5;stroke:#000000;stroke-opacity:0.5;stroke-width:1.5;\" x=\"231.056244\" xlink:href=\"#m06e28193ea\" y=\"128.781399\"/>\n     <use style=\"fill-opacity:0.5;stroke:#000000;stroke-opacity:0.5;stroke-width:1.5;\" x=\"231.512181\" xlink:href=\"#m06e28193ea\" y=\"143.208382\"/>\n     <use style=\"fill-opacity:0.5;stroke:#000000;stroke-opacity:0.5;stroke-width:1.5;\" x=\"231.660282\" xlink:href=\"#m06e28193ea\" y=\"124.721284\"/>\n     <use style=\"fill-opacity:0.5;stroke:#000000;stroke-opacity:0.5;stroke-width:1.5;\" x=\"233.960585\" xlink:href=\"#m06e28193ea\" y=\"160.216876\"/>\n     <use style=\"fill-opacity:0.5;stroke:#000000;stroke-opacity:0.5;stroke-width:1.5;\" x=\"234.998614\" xlink:href=\"#m06e28193ea\" y=\"131.902698\"/>\n     <use style=\"fill-opacity:0.5;stroke:#000000;stroke-opacity:0.5;stroke-width:1.5;\" x=\"235.981564\" xlink:href=\"#m06e28193ea\" y=\"164.778215\"/>\n     <use style=\"fill-opacity:0.5;stroke:#000000;stroke-opacity:0.5;stroke-width:1.5;\" x=\"236.02242\" xlink:href=\"#m06e28193ea\" y=\"152.436283\"/>\n     <use style=\"fill-opacity:0.5;stroke:#000000;stroke-opacity:0.5;stroke-width:1.5;\" x=\"236.311697\" xlink:href=\"#m06e28193ea\" y=\"147.696253\"/>\n     <use style=\"fill-opacity:0.5;stroke:#000000;stroke-opacity:0.5;stroke-width:1.5;\" x=\"236.865325\" xlink:href=\"#m06e28193ea\" y=\"172.335145\"/>\n     <use style=\"fill-opacity:0.5;stroke:#000000;stroke-opacity:0.5;stroke-width:1.5;\" x=\"237.324977\" xlink:href=\"#m06e28193ea\" y=\"150.771571\"/>\n     <use style=\"fill-opacity:0.5;stroke:#000000;stroke-opacity:0.5;stroke-width:1.5;\" x=\"237.761882\" xlink:href=\"#m06e28193ea\" y=\"115.85224\"/>\n     <use style=\"fill-opacity:0.5;stroke:#000000;stroke-opacity:0.5;stroke-width:1.5;\" x=\"237.978976\" xlink:href=\"#m06e28193ea\" y=\"164.023157\"/>\n     <use style=\"fill-opacity:0.5;stroke:#000000;stroke-opacity:0.5;stroke-width:1.5;\" x=\"238.379187\" xlink:href=\"#m06e28193ea\" y=\"174.371627\"/>\n     <use style=\"fill-opacity:0.5;stroke:#000000;stroke-opacity:0.5;stroke-width:1.5;\" x=\"238.419727\" xlink:href=\"#m06e28193ea\" y=\"125.972843\"/>\n     <use style=\"fill-opacity:0.5;stroke:#000000;stroke-opacity:0.5;stroke-width:1.5;\" x=\"238.497491\" xlink:href=\"#m06e28193ea\" y=\"148.459493\"/>\n     <use style=\"fill-opacity:0.5;stroke:#000000;stroke-opacity:0.5;stroke-width:1.5;\" x=\"239.004383\" xlink:href=\"#m06e28193ea\" y=\"143.359242\"/>\n     <use style=\"fill-opacity:0.5;stroke:#000000;stroke-opacity:0.5;stroke-width:1.5;\" x=\"239.216209\" xlink:href=\"#m06e28193ea\" y=\"125.229124\"/>\n     <use style=\"fill-opacity:0.5;stroke:#000000;stroke-opacity:0.5;stroke-width:1.5;\" x=\"239.441601\" xlink:href=\"#m06e28193ea\" y=\"128.368035\"/>\n     <use style=\"fill-opacity:0.5;stroke:#000000;stroke-opacity:0.5;stroke-width:1.5;\" x=\"239.455453\" xlink:href=\"#m06e28193ea\" y=\"151.47648\"/>\n     <use style=\"fill-opacity:0.5;stroke:#000000;stroke-opacity:0.5;stroke-width:1.5;\" x=\"239.501956\" xlink:href=\"#m06e28193ea\" y=\"142.027902\"/>\n     <use style=\"fill-opacity:0.5;stroke:#000000;stroke-opacity:0.5;stroke-width:1.5;\" x=\"239.677487\" xlink:href=\"#m06e28193ea\" y=\"131.631302\"/>\n     <use style=\"fill-opacity:0.5;stroke:#000000;stroke-opacity:0.5;stroke-width:1.5;\" x=\"240.0488\" xlink:href=\"#m06e28193ea\" y=\"156.685115\"/>\n     <use style=\"fill-opacity:0.5;stroke:#000000;stroke-opacity:0.5;stroke-width:1.5;\" x=\"240.864939\" xlink:href=\"#m06e28193ea\" y=\"145.712988\"/>\n     <use style=\"fill-opacity:0.5;stroke:#000000;stroke-opacity:0.5;stroke-width:1.5;\" x=\"241.79784\" xlink:href=\"#m06e28193ea\" y=\"136.370762\"/>\n     <use style=\"fill-opacity:0.5;stroke:#000000;stroke-opacity:0.5;stroke-width:1.5;\" x=\"241.81069\" xlink:href=\"#m06e28193ea\" y=\"141.761688\"/>\n     <use style=\"fill-opacity:0.5;stroke:#000000;stroke-opacity:0.5;stroke-width:1.5;\" x=\"242.081474\" xlink:href=\"#m06e28193ea\" y=\"133.010141\"/>\n     <use style=\"fill-opacity:0.5;stroke:#000000;stroke-opacity:0.5;stroke-width:1.5;\" x=\"242.612397\" xlink:href=\"#m06e28193ea\" y=\"138.622972\"/>\n     <use style=\"fill-opacity:0.5;stroke:#000000;stroke-opacity:0.5;stroke-width:1.5;\" x=\"242.736776\" xlink:href=\"#m06e28193ea\" y=\"191.995405\"/>\n     <use style=\"fill-opacity:0.5;stroke:#000000;stroke-opacity:0.5;stroke-width:1.5;\" x=\"242.817329\" xlink:href=\"#m06e28193ea\" y=\"156.842272\"/>\n     <use style=\"fill-opacity:0.5;stroke:#000000;stroke-opacity:0.5;stroke-width:1.5;\" x=\"244.17117\" xlink:href=\"#m06e28193ea\" y=\"173.49815\"/>\n     <use style=\"fill-opacity:0.5;stroke:#000000;stroke-opacity:0.5;stroke-width:1.5;\" x=\"244.988686\" xlink:href=\"#m06e28193ea\" y=\"140.301658\"/>\n     <use style=\"fill-opacity:0.5;stroke:#000000;stroke-opacity:0.5;stroke-width:1.5;\" x=\"246.671051\" xlink:href=\"#m06e28193ea\" y=\"167.129566\"/>\n     <use style=\"fill-opacity:0.5;stroke:#000000;stroke-opacity:0.5;stroke-width:1.5;\" x=\"246.78474\" xlink:href=\"#m06e28193ea\" y=\"134.853487\"/>\n     <use style=\"fill-opacity:0.5;stroke:#000000;stroke-opacity:0.5;stroke-width:1.5;\" x=\"247.594978\" xlink:href=\"#m06e28193ea\" y=\"143.43477\"/>\n     <use style=\"fill-opacity:0.5;stroke:#000000;stroke-opacity:0.5;stroke-width:1.5;\" x=\"248.193227\" xlink:href=\"#m06e28193ea\" y=\"138.599113\"/>\n     <use style=\"fill-opacity:0.5;stroke:#000000;stroke-opacity:0.5;stroke-width:1.5;\" x=\"248.422128\" xlink:href=\"#m06e28193ea\" y=\"144.676935\"/>\n     <use style=\"fill-opacity:0.5;stroke:#000000;stroke-opacity:0.5;stroke-width:1.5;\" x=\"248.585028\" xlink:href=\"#m06e28193ea\" y=\"166.641867\"/>\n     <use style=\"fill-opacity:0.5;stroke:#000000;stroke-opacity:0.5;stroke-width:1.5;\" x=\"248.685026\" xlink:href=\"#m06e28193ea\" y=\"118.947289\"/>\n     <use style=\"fill-opacity:0.5;stroke:#000000;stroke-opacity:0.5;stroke-width:1.5;\" x=\"248.914417\" xlink:href=\"#m06e28193ea\" y=\"134.829281\"/>\n     <use style=\"fill-opacity:0.5;stroke:#000000;stroke-opacity:0.5;stroke-width:1.5;\" x=\"249.472596\" xlink:href=\"#m06e28193ea\" y=\"144.688809\"/>\n     <use style=\"fill-opacity:0.5;stroke:#000000;stroke-opacity:0.5;stroke-width:1.5;\" x=\"249.621811\" xlink:href=\"#m06e28193ea\" y=\"173.036393\"/>\n     <use style=\"fill-opacity:0.5;stroke:#000000;stroke-opacity:0.5;stroke-width:1.5;\" x=\"249.806117\" xlink:href=\"#m06e28193ea\" y=\"139.452536\"/>\n     <use style=\"fill-opacity:0.5;stroke:#000000;stroke-opacity:0.5;stroke-width:1.5;\" x=\"250.141506\" xlink:href=\"#m06e28193ea\" y=\"133.085439\"/>\n     <use style=\"fill-opacity:0.5;stroke:#000000;stroke-opacity:0.5;stroke-width:1.5;\" x=\"250.319238\" xlink:href=\"#m06e28193ea\" y=\"153.241773\"/>\n     <use style=\"fill-opacity:0.5;stroke:#000000;stroke-opacity:0.5;stroke-width:1.5;\" x=\"250.57851\" xlink:href=\"#m06e28193ea\" y=\"153.305586\"/>\n     <use style=\"fill-opacity:0.5;stroke:#000000;stroke-opacity:0.5;stroke-width:1.5;\" x=\"252.312218\" xlink:href=\"#m06e28193ea\" y=\"177.174903\"/>\n     <use style=\"fill-opacity:0.5;stroke:#000000;stroke-opacity:0.5;stroke-width:1.5;\" x=\"252.424529\" xlink:href=\"#m06e28193ea\" y=\"140.987872\"/>\n     <use style=\"fill-opacity:0.5;stroke:#000000;stroke-opacity:0.5;stroke-width:1.5;\" x=\"252.491662\" xlink:href=\"#m06e28193ea\" y=\"156.146052\"/>\n     <use style=\"fill-opacity:0.5;stroke:#000000;stroke-opacity:0.5;stroke-width:1.5;\" x=\"253.091413\" xlink:href=\"#m06e28193ea\" y=\"174.233734\"/>\n     <use style=\"fill-opacity:0.5;stroke:#000000;stroke-opacity:0.5;stroke-width:1.5;\" x=\"253.103784\" xlink:href=\"#m06e28193ea\" y=\"139.54645\"/>\n     <use style=\"fill-opacity:0.5;stroke:#000000;stroke-opacity:0.5;stroke-width:1.5;\" x=\"253.33178\" xlink:href=\"#m06e28193ea\" y=\"164.983422\"/>\n     <use style=\"fill-opacity:0.5;stroke:#000000;stroke-opacity:0.5;stroke-width:1.5;\" x=\"253.747806\" xlink:href=\"#m06e28193ea\" y=\"159.397444\"/>\n     <use style=\"fill-opacity:0.5;stroke:#000000;stroke-opacity:0.5;stroke-width:1.5;\" x=\"254.034484\" xlink:href=\"#m06e28193ea\" y=\"124.353619\"/>\n     <use style=\"fill-opacity:0.5;stroke:#000000;stroke-opacity:0.5;stroke-width:1.5;\" x=\"255.655394\" xlink:href=\"#m06e28193ea\" y=\"139.618176\"/>\n     <use style=\"fill-opacity:0.5;stroke:#000000;stroke-opacity:0.5;stroke-width:1.5;\" x=\"257.718279\" xlink:href=\"#m06e28193ea\" y=\"134.403398\"/>\n     <use style=\"fill-opacity:0.5;stroke:#000000;stroke-opacity:0.5;stroke-width:1.5;\" x=\"261.868648\" xlink:href=\"#m06e28193ea\" y=\"184.574757\"/>\n     <use style=\"fill-opacity:0.5;stroke:#000000;stroke-opacity:0.5;stroke-width:1.5;\" x=\"262.211996\" xlink:href=\"#m06e28193ea\" y=\"165.251611\"/>\n     <use style=\"fill-opacity:0.5;stroke:#000000;stroke-opacity:0.5;stroke-width:1.5;\" x=\"262.491067\" xlink:href=\"#m06e28193ea\" y=\"167.759021\"/>\n     <use style=\"fill-opacity:0.5;stroke:#000000;stroke-opacity:0.5;stroke-width:1.5;\" x=\"263.411931\" xlink:href=\"#m06e28193ea\" y=\"190.851678\"/>\n     <use style=\"fill-opacity:0.5;stroke:#000000;stroke-opacity:0.5;stroke-width:1.5;\" x=\"263.918715\" xlink:href=\"#m06e28193ea\" y=\"187.65762\"/>\n     <use style=\"fill-opacity:0.5;stroke:#000000;stroke-opacity:0.5;stroke-width:1.5;\" x=\"264.704158\" xlink:href=\"#m06e28193ea\" y=\"168.872111\"/>\n     <use style=\"fill-opacity:0.5;stroke:#000000;stroke-opacity:0.5;stroke-width:1.5;\" x=\"264.77618\" xlink:href=\"#m06e28193ea\" y=\"205.084641\"/>\n     <use style=\"fill-opacity:0.5;stroke:#000000;stroke-opacity:0.5;stroke-width:1.5;\" x=\"265.797111\" xlink:href=\"#m06e28193ea\" y=\"171.50628\"/>\n     <use style=\"fill-opacity:0.5;stroke:#000000;stroke-opacity:0.5;stroke-width:1.5;\" x=\"266.216718\" xlink:href=\"#m06e28193ea\" y=\"140.298054\"/>\n     <use style=\"fill-opacity:0.5;stroke:#000000;stroke-opacity:0.5;stroke-width:1.5;\" x=\"267.281511\" xlink:href=\"#m06e28193ea\" y=\"182.170448\"/>\n     <use style=\"fill-opacity:0.5;stroke:#000000;stroke-opacity:0.5;stroke-width:1.5;\" x=\"268.045236\" xlink:href=\"#m06e28193ea\" y=\"182.089716\"/>\n     <use style=\"fill-opacity:0.5;stroke:#000000;stroke-opacity:0.5;stroke-width:1.5;\" x=\"268.164304\" xlink:href=\"#m06e28193ea\" y=\"203.160578\"/>\n     <use style=\"fill-opacity:0.5;stroke:#000000;stroke-opacity:0.5;stroke-width:1.5;\" x=\"269.621949\" xlink:href=\"#m06e28193ea\" y=\"215.437253\"/>\n     <use style=\"fill-opacity:0.5;stroke:#000000;stroke-opacity:0.5;stroke-width:1.5;\" x=\"269.78475\" xlink:href=\"#m06e28193ea\" y=\"194.866528\"/>\n     <use style=\"fill-opacity:0.5;stroke:#000000;stroke-opacity:0.5;stroke-width:1.5;\" x=\"270.487831\" xlink:href=\"#m06e28193ea\" y=\"224.695125\"/>\n     <use style=\"fill-opacity:0.5;stroke:#000000;stroke-opacity:0.5;stroke-width:1.5;\" x=\"271.657971\" xlink:href=\"#m06e28193ea\" y=\"175.169792\"/>\n     <use style=\"fill-opacity:0.5;stroke:#000000;stroke-opacity:0.5;stroke-width:1.5;\" x=\"271.726132\" xlink:href=\"#m06e28193ea\" y=\"199.25046\"/>\n     <use style=\"fill-opacity:0.5;stroke:#000000;stroke-opacity:0.5;stroke-width:1.5;\" x=\"271.780277\" xlink:href=\"#m06e28193ea\" y=\"156.017906\"/>\n     <use style=\"fill-opacity:0.5;stroke:#000000;stroke-opacity:0.5;stroke-width:1.5;\" x=\"273.121989\" xlink:href=\"#m06e28193ea\" y=\"188.543059\"/>\n     <use style=\"fill-opacity:0.5;stroke:#000000;stroke-opacity:0.5;stroke-width:1.5;\" x=\"273.300002\" xlink:href=\"#m06e28193ea\" y=\"147.253516\"/>\n     <use style=\"fill-opacity:0.5;stroke:#000000;stroke-opacity:0.5;stroke-width:1.5;\" x=\"273.316386\" xlink:href=\"#m06e28193ea\" y=\"183.761987\"/>\n     <use style=\"fill-opacity:0.5;stroke:#000000;stroke-opacity:0.5;stroke-width:1.5;\" x=\"273.594411\" xlink:href=\"#m06e28193ea\" y=\"203.410936\"/>\n     <use style=\"fill-opacity:0.5;stroke:#000000;stroke-opacity:0.5;stroke-width:1.5;\" x=\"273.771893\" xlink:href=\"#m06e28193ea\" y=\"146.295246\"/>\n     <use style=\"fill-opacity:0.5;stroke:#000000;stroke-opacity:0.5;stroke-width:1.5;\" x=\"274.059638\" xlink:href=\"#m06e28193ea\" y=\"186.540167\"/>\n     <use style=\"fill-opacity:0.5;stroke:#000000;stroke-opacity:0.5;stroke-width:1.5;\" x=\"274.763346\" xlink:href=\"#m06e28193ea\" y=\"169.32996\"/>\n     <use style=\"fill-opacity:0.5;stroke:#000000;stroke-opacity:0.5;stroke-width:1.5;\" x=\"274.877443\" xlink:href=\"#m06e28193ea\" y=\"195.422909\"/>\n     <use style=\"fill-opacity:0.5;stroke:#000000;stroke-opacity:0.5;stroke-width:1.5;\" x=\"275.139633\" xlink:href=\"#m06e28193ea\" y=\"207.18272\"/>\n     <use style=\"fill-opacity:0.5;stroke:#000000;stroke-opacity:0.5;stroke-width:1.5;\" x=\"275.353625\" xlink:href=\"#m06e28193ea\" y=\"140.185789\"/>\n     <use style=\"fill-opacity:0.5;stroke:#000000;stroke-opacity:0.5;stroke-width:1.5;\" x=\"275.42559\" xlink:href=\"#m06e28193ea\" y=\"158.29396\"/>\n     <use style=\"fill-opacity:0.5;stroke:#000000;stroke-opacity:0.5;stroke-width:1.5;\" x=\"275.948139\" xlink:href=\"#m06e28193ea\" y=\"155.729807\"/>\n     <use style=\"fill-opacity:0.5;stroke:#000000;stroke-opacity:0.5;stroke-width:1.5;\" x=\"276.013892\" xlink:href=\"#m06e28193ea\" y=\"235.287044\"/>\n     <use style=\"fill-opacity:0.5;stroke:#000000;stroke-opacity:0.5;stroke-width:1.5;\" x=\"276.027825\" xlink:href=\"#m06e28193ea\" y=\"187.728176\"/>\n     <use style=\"fill-opacity:0.5;stroke:#000000;stroke-opacity:0.5;stroke-width:1.5;\" x=\"276.133232\" xlink:href=\"#m06e28193ea\" y=\"191.493948\"/>\n     <use style=\"fill-opacity:0.5;stroke:#000000;stroke-opacity:0.5;stroke-width:1.5;\" x=\"276.9687\" xlink:href=\"#m06e28193ea\" y=\"224.932117\"/>\n     <use style=\"fill-opacity:0.5;stroke:#000000;stroke-opacity:0.5;stroke-width:1.5;\" x=\"277.394799\" xlink:href=\"#m06e28193ea\" y=\"197.06885\"/>\n     <use style=\"fill-opacity:0.5;stroke:#000000;stroke-opacity:0.5;stroke-width:1.5;\" x=\"277.444558\" xlink:href=\"#m06e28193ea\" y=\"171.62949\"/>\n     <use style=\"fill-opacity:0.5;stroke:#000000;stroke-opacity:0.5;stroke-width:1.5;\" x=\"277.872952\" xlink:href=\"#m06e28193ea\" y=\"174.046112\"/>\n     <use style=\"fill-opacity:0.5;stroke:#000000;stroke-opacity:0.5;stroke-width:1.5;\" x=\"279.20133\" xlink:href=\"#m06e28193ea\" y=\"151.111998\"/>\n     <use style=\"fill-opacity:0.5;stroke:#000000;stroke-opacity:0.5;stroke-width:1.5;\" x=\"279.780414\" xlink:href=\"#m06e28193ea\" y=\"218.615916\"/>\n     <use style=\"fill-opacity:0.5;stroke:#000000;stroke-opacity:0.5;stroke-width:1.5;\" x=\"281.001234\" xlink:href=\"#m06e28193ea\" y=\"171.822343\"/>\n     <use style=\"fill-opacity:0.5;stroke:#000000;stroke-opacity:0.5;stroke-width:1.5;\" x=\"281.213212\" xlink:href=\"#m06e28193ea\" y=\"198.6055\"/>\n     <use style=\"fill-opacity:0.5;stroke:#000000;stroke-opacity:0.5;stroke-width:1.5;\" x=\"281.744249\" xlink:href=\"#m06e28193ea\" y=\"192.692168\"/>\n     <use style=\"fill-opacity:0.5;stroke:#000000;stroke-opacity:0.5;stroke-width:1.5;\" x=\"282.083766\" xlink:href=\"#m06e28193ea\" y=\"204.231765\"/>\n     <use style=\"fill-opacity:0.5;stroke:#000000;stroke-opacity:0.5;stroke-width:1.5;\" x=\"282.269602\" xlink:href=\"#m06e28193ea\" y=\"157.511959\"/>\n     <use style=\"fill-opacity:0.5;stroke:#000000;stroke-opacity:0.5;stroke-width:1.5;\" x=\"282.489637\" xlink:href=\"#m06e28193ea\" y=\"194.389695\"/>\n     <use style=\"fill-opacity:0.5;stroke:#000000;stroke-opacity:0.5;stroke-width:1.5;\" x=\"282.833998\" xlink:href=\"#m06e28193ea\" y=\"193.115556\"/>\n     <use style=\"fill-opacity:0.5;stroke:#000000;stroke-opacity:0.5;stroke-width:1.5;\" x=\"283.131996\" xlink:href=\"#m06e28193ea\" y=\"182.946887\"/>\n     <use style=\"fill-opacity:0.5;stroke:#000000;stroke-opacity:0.5;stroke-width:1.5;\" x=\"283.31983\" xlink:href=\"#m06e28193ea\" y=\"176.545275\"/>\n     <use style=\"fill-opacity:0.5;stroke:#000000;stroke-opacity:0.5;stroke-width:1.5;\" x=\"283.550394\" xlink:href=\"#m06e28193ea\" y=\"153.920245\"/>\n     <use style=\"fill-opacity:0.5;stroke:#000000;stroke-opacity:0.5;stroke-width:1.5;\" x=\"283.746578\" xlink:href=\"#m06e28193ea\" y=\"170.300761\"/>\n     <use style=\"fill-opacity:0.5;stroke:#000000;stroke-opacity:0.5;stroke-width:1.5;\" x=\"284.05422\" xlink:href=\"#m06e28193ea\" y=\"181.102067\"/>\n     <use style=\"fill-opacity:0.5;stroke:#000000;stroke-opacity:0.5;stroke-width:1.5;\" x=\"284.059985\" xlink:href=\"#m06e28193ea\" y=\"224.453322\"/>\n     <use style=\"fill-opacity:0.5;stroke:#000000;stroke-opacity:0.5;stroke-width:1.5;\" x=\"284.241129\" xlink:href=\"#m06e28193ea\" y=\"188.170668\"/>\n     <use style=\"fill-opacity:0.5;stroke:#000000;stroke-opacity:0.5;stroke-width:1.5;\" x=\"284.364524\" xlink:href=\"#m06e28193ea\" y=\"210.038279\"/>\n     <use style=\"fill-opacity:0.5;stroke:#000000;stroke-opacity:0.5;stroke-width:1.5;\" x=\"284.379015\" xlink:href=\"#m06e28193ea\" y=\"146.337313\"/>\n     <use style=\"fill-opacity:0.5;stroke:#000000;stroke-opacity:0.5;stroke-width:1.5;\" x=\"284.387412\" xlink:href=\"#m06e28193ea\" y=\"162.225272\"/>\n    </g>\n   </g>\n   <g id=\"PolyCollection_1\">\n    <defs>\n     <path d=\"M 54.324062 -107.664254 \nL 54.324062 -107.664254 \nL 56.006475 -108.397106 \nL 57.688887 -109.131653 \nL 59.371299 -109.867385 \nL 61.053711 -110.603822 \nL 62.736123 -111.341024 \nL 64.418535 -112.07897 \nL 66.100947 -112.823073 \nL 67.783359 -113.568471 \nL 69.465771 -114.315537 \nL 71.148183 -115.063583 \nL 72.830595 -115.81245 \nL 74.513007 -116.562146 \nL 76.195419 -117.312746 \nL 77.877831 -118.064196 \nL 79.560243 -118.816574 \nL 81.242655 -119.569858 \nL 82.925068 -120.324111 \nL 84.60748 -121.079318 \nL 86.289892 -121.83579 \nL 87.972304 -122.595951 \nL 89.654716 -123.357207 \nL 91.337128 -124.119589 \nL 93.01954 -124.88727 \nL 94.701952 -125.657349 \nL 96.384364 -126.428645 \nL 98.066776 -127.185184 \nL 99.749188 -127.942756 \nL 101.4316 -128.701806 \nL 103.114012 -129.462333 \nL 104.796424 -130.22439 \nL 106.478836 -131.008836 \nL 108.161248 -131.797772 \nL 109.84366 -132.588367 \nL 111.526073 -133.380658 \nL 113.208485 -134.174683 \nL 114.890897 -134.944352 \nL 116.573309 -135.6913 \nL 118.255721 -136.439553 \nL 119.938133 -137.1897 \nL 121.620545 -137.942486 \nL 123.302957 -138.695864 \nL 124.985369 -139.450632 \nL 126.667781 -140.206835 \nL 128.350193 -140.964516 \nL 130.032605 -141.723993 \nL 131.715017 -142.504273 \nL 133.397429 -143.290255 \nL 135.079841 -144.13224 \nL 136.762253 -144.978595 \nL 138.444666 -145.82566 \nL 140.127078 -146.680448 \nL 141.80949 -147.531601 \nL 143.491902 -148.37936 \nL 145.174314 -149.228108 \nL 146.856726 -150.07785 \nL 148.539138 -150.924935 \nL 150.22155 -151.757551 \nL 151.903962 -152.597385 \nL 153.586374 -153.437817 \nL 155.268786 -154.279579 \nL 156.951198 -155.122713 \nL 158.63361 -155.975343 \nL 160.316022 -156.874999 \nL 161.998434 -157.829371 \nL 163.680846 -158.742385 \nL 165.363258 -159.64626 \nL 167.045671 -160.551229 \nL 168.728083 -161.548861 \nL 170.410495 -162.616867 \nL 172.092907 -163.799416 \nL 173.775319 -165.035701 \nL 175.457731 -166.214585 \nL 177.140143 -167.420188 \nL 178.822555 -168.725107 \nL 180.504967 -170.103957 \nL 182.187379 -171.510954 \nL 183.869791 -172.773326 \nL 185.552203 -173.982776 \nL 187.234615 -175.187024 \nL 188.917027 -176.49102 \nL 190.599439 -177.806755 \nL 192.281851 -179.114626 \nL 193.964264 -180.355064 \nL 195.646676 -181.461125 \nL 197.329088 -182.641186 \nL 199.0115 -183.945418 \nL 200.693912 -185.173556 \nL 202.376324 -186.13085 \nL 204.058736 -187.060833 \nL 205.741148 -188.126854 \nL 207.42356 -189.164287 \nL 209.105972 -190.220895 \nL 210.788384 -191.253771 \nL 212.470796 -192.240977 \nL 214.153208 -193.300193 \nL 215.83562 -194.226411 \nL 217.518032 -195.014073 \nL 219.200444 -195.792749 \nL 220.882856 -196.62373 \nL 222.565269 -196.963442 \nL 224.247681 -197.079283 \nL 225.930093 -197.129484 \nL 227.612505 -197.032605 \nL 229.294917 -196.770422 \nL 230.977329 -196.298591 \nL 232.659741 -195.780462 \nL 234.342153 -195.364246 \nL 236.024565 -195.092453 \nL 237.706977 -194.803737 \nL 239.389389 -194.459292 \nL 241.071801 -193.964677 \nL 242.754213 -193.462137 \nL 244.436625 -193.043173 \nL 246.119037 -192.335193 \nL 247.801449 -191.506589 \nL 249.483861 -190.459132 \nL 251.166274 -189.405969 \nL 252.848686 -188.220172 \nL 254.531098 -187.033811 \nL 256.21351 -186.006271 \nL 257.895922 -185.121686 \nL 259.578334 -184.303958 \nL 261.260746 -183.362895 \nL 262.943158 -182.384012 \nL 264.62557 -181.361842 \nL 266.307982 -180.463885 \nL 267.990394 -179.556276 \nL 269.672806 -178.644307 \nL 271.355218 -177.823225 \nL 273.03763 -176.99016 \nL 274.720042 -176.110883 \nL 276.402454 -175.231609 \nL 278.084867 -174.352337 \nL 279.767279 -173.473061 \nL 281.449691 -172.593796 \nL 283.132103 -171.714537 \nL 284.814515 -170.842468 \nL 286.496927 -169.979972 \nL 288.179339 -169.127 \nL 289.861751 -168.281045 \nL 291.544163 -167.429745 \nL 293.226575 -166.532164 \nL 294.908987 -165.669487 \nL 296.591399 -164.818904 \nL 298.273811 -163.956631 \nL 299.956223 -163.080024 \nL 301.638635 -162.206173 \nL 303.321047 -161.332907 \nL 305.003459 -160.445909 \nL 306.685872 -159.558765 \nL 308.368284 -158.671628 \nL 310.050696 -157.799622 \nL 311.733108 -156.927864 \nL 313.41552 -156.056347 \nL 315.097932 -155.185045 \nL 316.780344 -154.313999 \nL 318.462756 -153.44318 \nL 320.145168 -152.631374 \nL 321.82758 -151.834844 \nL 323.509992 -151.03858 \nL 325.192404 -150.18506 \nL 326.874816 -149.310277 \nL 328.557228 -148.420581 \nL 330.23964 -147.531158 \nL 331.922052 -146.642003 \nL 333.604465 -145.768239 \nL 335.286877 -144.900797 \nL 336.969289 -144.028164 \nL 338.651701 -143.156969 \nL 340.334113 -142.308298 \nL 342.016525 -141.53044 \nL 343.698937 -140.816575 \nL 345.381349 -140.098489 \nL 347.063761 -139.380795 \nL 348.746173 -138.67347 \nL 350.428585 -138.004412 \nL 352.110997 -137.33542 \nL 353.793409 -136.667044 \nL 355.475821 -136.007952 \nL 357.158233 -135.348925 \nL 358.840645 -134.689433 \nL 360.523057 -134.022685 \nL 362.20547 -133.356058 \nL 363.887882 -132.689533 \nL 365.570294 -132.023121 \nL 367.252706 -131.356831 \nL 368.935118 -130.690622 \nL 370.61753 -130.024532 \nL 372.299942 -129.358547 \nL 373.982354 -128.692664 \nL 375.664766 -128.026899 \nL 377.347178 -127.359531 \nL 379.02959 -126.691836 \nL 380.712002 -126.024284 \nL 382.394414 -125.356842 \nL 384.076826 -124.689549 \nL 385.759238 -124.022347 \nL 387.44165 -123.355265 \nL 389.124063 -122.680168 \nL 389.124063 -122.680168 \nL 389.124063 -122.680168 \nL 387.44165 -123.355265 \nL 385.759238 -124.022347 \nL 384.076826 -124.689549 \nL 382.394414 -125.356842 \nL 380.712002 -126.024284 \nL 379.02959 -126.691836 \nL 377.347178 -127.359531 \nL 375.664766 -128.026899 \nL 373.982354 -128.692664 \nL 372.299942 -129.358547 \nL 370.61753 -130.024532 \nL 368.935118 -130.690622 \nL 367.252706 -131.356831 \nL 365.570294 -132.023121 \nL 363.887882 -132.689533 \nL 362.20547 -133.356058 \nL 360.523057 -134.022685 \nL 358.840645 -134.689433 \nL 357.158233 -135.348925 \nL 355.475821 -136.007952 \nL 353.793409 -136.667044 \nL 352.110997 -137.33542 \nL 350.428585 -138.004412 \nL 348.746173 -138.67347 \nL 347.063761 -139.380795 \nL 345.381349 -140.098489 \nL 343.698937 -140.816575 \nL 342.016525 -141.53044 \nL 340.334113 -142.308298 \nL 338.651701 -143.156969 \nL 336.969289 -144.028164 \nL 335.286877 -144.900797 \nL 333.604465 -145.768239 \nL 331.922052 -146.642003 \nL 330.23964 -147.531158 \nL 328.557228 -148.420581 \nL 326.874816 -149.310277 \nL 325.192404 -150.18506 \nL 323.509992 -151.03858 \nL 321.82758 -151.834844 \nL 320.145168 -152.631374 \nL 318.462756 -153.44318 \nL 316.780344 -154.313999 \nL 315.097932 -155.185045 \nL 313.41552 -156.056347 \nL 311.733108 -156.927864 \nL 310.050696 -157.799622 \nL 308.368284 -158.671628 \nL 306.685872 -159.558765 \nL 305.003459 -160.445909 \nL 303.321047 -161.332907 \nL 301.638635 -162.206173 \nL 299.956223 -163.080024 \nL 298.273811 -163.956631 \nL 296.591399 -164.818904 \nL 294.908987 -165.669487 \nL 293.226575 -166.532164 \nL 291.544163 -167.429745 \nL 289.861751 -168.281045 \nL 288.179339 -169.127 \nL 286.496927 -169.979972 \nL 284.814515 -170.842468 \nL 283.132103 -171.714537 \nL 281.449691 -172.593796 \nL 279.767279 -173.473061 \nL 278.084867 -174.352337 \nL 276.402454 -175.231609 \nL 274.720042 -176.110883 \nL 273.03763 -176.99016 \nL 271.355218 -177.823225 \nL 269.672806 -178.644307 \nL 267.990394 -179.556276 \nL 266.307982 -180.463885 \nL 264.62557 -181.361842 \nL 262.943158 -182.384012 \nL 261.260746 -183.362895 \nL 259.578334 -184.303958 \nL 257.895922 -185.121686 \nL 256.21351 -186.006271 \nL 254.531098 -187.033811 \nL 252.848686 -188.220172 \nL 251.166274 -189.405969 \nL 249.483861 -190.459132 \nL 247.801449 -191.506589 \nL 246.119037 -192.335193 \nL 244.436625 -193.043173 \nL 242.754213 -193.462137 \nL 241.071801 -193.964677 \nL 239.389389 -194.459292 \nL 237.706977 -194.803737 \nL 236.024565 -195.092453 \nL 234.342153 -195.364246 \nL 232.659741 -195.780462 \nL 230.977329 -196.298591 \nL 229.294917 -196.770422 \nL 227.612505 -197.032605 \nL 225.930093 -197.129484 \nL 224.247681 -197.079283 \nL 222.565269 -196.963442 \nL 220.882856 -196.62373 \nL 219.200444 -195.792749 \nL 217.518032 -195.014073 \nL 215.83562 -194.226411 \nL 214.153208 -193.300193 \nL 212.470796 -192.240977 \nL 210.788384 -191.253771 \nL 209.105972 -190.220895 \nL 207.42356 -189.164287 \nL 205.741148 -188.126854 \nL 204.058736 -187.060833 \nL 202.376324 -186.13085 \nL 200.693912 -185.173556 \nL 199.0115 -183.945418 \nL 197.329088 -182.641186 \nL 195.646676 -181.461125 \nL 193.964264 -180.355064 \nL 192.281851 -179.114626 \nL 190.599439 -177.806755 \nL 188.917027 -176.49102 \nL 187.234615 -175.187024 \nL 185.552203 -173.982776 \nL 183.869791 -172.773326 \nL 182.187379 -171.510954 \nL 180.504967 -170.103957 \nL 178.822555 -168.725107 \nL 177.140143 -167.420188 \nL 175.457731 -166.214585 \nL 173.775319 -165.035701 \nL 172.092907 -163.799416 \nL 170.410495 -162.616867 \nL 168.728083 -161.548861 \nL 167.045671 -160.551229 \nL 165.363258 -159.64626 \nL 163.680846 -158.742385 \nL 161.998434 -157.829371 \nL 160.316022 -156.874999 \nL 158.63361 -155.975343 \nL 156.951198 -155.122713 \nL 155.268786 -154.279579 \nL 153.586374 -153.437817 \nL 151.903962 -152.597385 \nL 150.22155 -151.757551 \nL 148.539138 -150.924935 \nL 146.856726 -150.07785 \nL 145.174314 -149.228108 \nL 143.491902 -148.37936 \nL 141.80949 -147.531601 \nL 140.127078 -146.680448 \nL 138.444666 -145.82566 \nL 136.762253 -144.978595 \nL 135.079841 -144.13224 \nL 133.397429 -143.290255 \nL 131.715017 -142.504273 \nL 130.032605 -141.723993 \nL 128.350193 -140.964516 \nL 126.667781 -140.206835 \nL 124.985369 -139.450632 \nL 123.302957 -138.695864 \nL 121.620545 -137.942486 \nL 119.938133 -137.1897 \nL 118.255721 -136.439553 \nL 116.573309 -135.6913 \nL 114.890897 -134.944352 \nL 113.208485 -134.174683 \nL 111.526073 -133.380658 \nL 109.84366 -132.588367 \nL 108.161248 -131.797772 \nL 106.478836 -131.008836 \nL 104.796424 -130.22439 \nL 103.114012 -129.462333 \nL 101.4316 -128.701806 \nL 99.749188 -127.942756 \nL 98.066776 -127.185184 \nL 96.384364 -126.428645 \nL 94.701952 -125.657349 \nL 93.01954 -124.88727 \nL 91.337128 -124.119589 \nL 89.654716 -123.357207 \nL 87.972304 -122.595951 \nL 86.289892 -121.83579 \nL 84.60748 -121.079318 \nL 82.925068 -120.324111 \nL 81.242655 -119.569858 \nL 79.560243 -118.816574 \nL 77.877831 -118.064196 \nL 76.195419 -117.312746 \nL 74.513007 -116.562146 \nL 72.830595 -115.81245 \nL 71.148183 -115.063583 \nL 69.465771 -114.315537 \nL 67.783359 -113.568471 \nL 66.100947 -112.823073 \nL 64.418535 -112.07897 \nL 62.736123 -111.341024 \nL 61.053711 -110.603822 \nL 59.371299 -109.867385 \nL 57.688887 -109.131653 \nL 56.006475 -108.397106 \nL 54.324062 -107.664254 \nz\n\" id=\"mb5683dd5b5\" style=\"stroke:#1f77b4;stroke-opacity:0.3;\"/>\n    </defs>\n    <g clip-path=\"url(#pcc99a7a769)\">\n     <use style=\"fill:#1f77b4;fill-opacity:0.3;stroke:#1f77b4;stroke-opacity:0.3;\" x=\"0\" xlink:href=\"#mb5683dd5b5\" y=\"331.634375\"/>\n    </g>\n   </g>\n   <g id=\"PolyCollection_2\">\n    <defs>\n     <path d=\"M 54.324062 -105.267613 \nL 54.324062 -105.267613 \nL 56.006475 -105.94235 \nL 57.688887 -106.617681 \nL 59.371299 -107.29293 \nL 61.053711 -107.96743 \nL 62.736123 -108.641208 \nL 64.418535 -109.314199 \nL 66.100947 -109.992443 \nL 67.783359 -110.670462 \nL 69.465771 -111.349093 \nL 71.148183 -112.027183 \nL 72.830595 -112.704453 \nL 74.513007 -113.380859 \nL 76.195419 -114.056443 \nL 77.877831 -114.731108 \nL 79.560243 -115.404887 \nL 81.242655 -116.077723 \nL 82.925068 -116.749626 \nL 84.60748 -117.420546 \nL 86.289892 -118.090552 \nL 87.972304 -118.760257 \nL 89.654716 -119.428872 \nL 91.337128 -120.096378 \nL 93.01954 -120.766697 \nL 94.701952 -121.437003 \nL 96.384364 -122.106103 \nL 98.066776 -122.752123 \nL 99.749188 -123.396219 \nL 101.4316 -124.038886 \nL 103.114012 -124.680049 \nL 104.796424 -125.319692 \nL 106.478836 -125.978341 \nL 108.161248 -126.638221 \nL 109.84366 -127.296449 \nL 111.526073 -127.952981 \nL 113.208485 -128.607761 \nL 114.890897 -129.246996 \nL 116.573309 -129.872119 \nL 118.255721 -130.495936 \nL 119.938133 -131.119197 \nL 121.620545 -131.742871 \nL 123.302957 -132.364251 \nL 124.985369 -132.984213 \nL 126.667781 -133.602746 \nL 128.350193 -134.21982 \nL 130.032605 -134.835965 \nL 131.715017 -135.486755 \nL 133.397429 -136.143163 \nL 135.079841 -136.879316 \nL 136.762253 -137.624267 \nL 138.444666 -138.368514 \nL 140.127078 -139.109387 \nL 141.80949 -139.840643 \nL 143.491902 -140.565542 \nL 145.174314 -141.289466 \nL 146.856726 -142.012387 \nL 148.539138 -142.73199 \nL 150.22155 -143.443343 \nL 151.903962 -144.160879 \nL 153.586374 -144.851556 \nL 155.268786 -145.539883 \nL 156.951198 -146.226839 \nL 158.63361 -146.922176 \nL 160.316022 -147.683025 \nL 161.998434 -148.496741 \nL 163.680846 -149.261445 \nL 165.363258 -150.011984 \nL 167.045671 -150.760919 \nL 168.728083 -151.609057 \nL 170.410495 -152.544303 \nL 172.092907 -153.568735 \nL 173.775319 -154.65611 \nL 175.457731 -155.616779 \nL 177.140143 -156.607906 \nL 178.822555 -157.762247 \nL 180.504967 -159.001456 \nL 182.187379 -160.252058 \nL 183.869791 -161.371716 \nL 185.552203 -162.440023 \nL 187.234615 -163.499303 \nL 188.917027 -164.544031 \nL 190.599439 -165.573394 \nL 192.281851 -166.594417 \nL 193.964264 -167.514086 \nL 195.646676 -168.284205 \nL 197.329088 -169.113552 \nL 199.0115 -170.012348 \nL 200.693912 -170.809076 \nL 202.376324 -171.502356 \nL 204.058736 -172.222681 \nL 205.741148 -172.995932 \nL 207.42356 -173.71791 \nL 209.105972 -174.435541 \nL 210.788384 -175.131016 \nL 212.470796 -175.804759 \nL 214.153208 -176.511995 \nL 215.83562 -177.09121 \nL 217.518032 -177.425899 \nL 219.200444 -177.654601 \nL 220.882856 -177.968759 \nL 222.565269 -177.762835 \nL 224.247681 -177.504064 \nL 225.930093 -177.166973 \nL 227.612505 -176.732619 \nL 229.294917 -176.20768 \nL 230.977329 -175.485595 \nL 232.659741 -174.592784 \nL 234.342153 -173.7734 \nL 236.024565 -173.113676 \nL 237.706977 -172.710245 \nL 239.389389 -172.425888 \nL 241.071801 -172.028914 \nL 242.754213 -171.59824 \nL 244.436625 -171.151464 \nL 246.119037 -170.41422 \nL 247.801449 -169.557218 \nL 249.483861 -168.414253 \nL 251.166274 -167.245746 \nL 252.848686 -166.079025 \nL 254.531098 -164.928653 \nL 256.21351 -163.8667 \nL 257.895922 -162.816269 \nL 259.578334 -161.75924 \nL 261.260746 -160.646371 \nL 262.943158 -159.526269 \nL 264.62557 -158.374776 \nL 266.307982 -157.403968 \nL 267.990394 -156.425877 \nL 269.672806 -155.456451 \nL 271.355218 -154.558007 \nL 273.03763 -153.66827 \nL 274.720042 -152.799617 \nL 276.402454 -151.930966 \nL 278.084867 -151.062305 \nL 279.767279 -150.193634 \nL 281.449691 -149.324982 \nL 283.132103 -148.456316 \nL 284.814515 -147.587739 \nL 286.496927 -146.719291 \nL 288.179339 -145.849966 \nL 289.861751 -144.987915 \nL 291.544163 -144.127657 \nL 293.226575 -143.27845 \nL 294.908987 -142.497433 \nL 296.591399 -141.731888 \nL 298.273811 -140.981728 \nL 299.956223 -140.262733 \nL 301.638635 -139.55263 \nL 303.321047 -138.841933 \nL 305.003459 -138.08413 \nL 306.685872 -137.326789 \nL 308.368284 -136.551718 \nL 310.050696 -135.78239 \nL 311.733108 -135.012824 \nL 313.41552 -134.243036 \nL 315.097932 -133.472987 \nL 316.780344 -132.702724 \nL 318.462756 -131.932223 \nL 320.145168 -131.227245 \nL 321.82758 -130.538787 \nL 323.509992 -129.850048 \nL 325.192404 -129.113341 \nL 326.874816 -128.358366 \nL 328.557228 -127.575196 \nL 330.23964 -126.791753 \nL 331.922052 -126.008037 \nL 333.604465 -125.20005 \nL 335.286877 -124.379958 \nL 336.969289 -123.540223 \nL 338.651701 -122.698957 \nL 340.334113 -121.873258 \nL 342.016525 -121.118189 \nL 343.698937 -120.423777 \nL 345.381349 -119.741099 \nL 347.063761 -119.059539 \nL 348.746173 -118.390199 \nL 350.428585 -117.76612 \nL 352.110997 -117.142009 \nL 353.793409 -116.518613 \nL 355.475821 -115.907834 \nL 357.158233 -115.297001 \nL 358.840645 -114.686801 \nL 360.523057 -114.086404 \nL 362.20547 -113.485903 \nL 363.887882 -112.885297 \nL 365.570294 -112.284564 \nL 367.252706 -111.683743 \nL 368.935118 -111.082779 \nL 370.61753 -110.481749 \nL 372.299942 -109.88057 \nL 373.982354 -109.279298 \nL 375.664766 -108.677926 \nL 377.347178 -108.078444 \nL 379.02959 -107.47927 \nL 380.712002 -106.87998 \nL 382.394414 -106.280547 \nL 384.076826 -105.681037 \nL 385.759238 -105.081378 \nL 387.44165 -104.481609 \nL 389.124063 -103.884203 \nL 389.124063 -103.884203 \nL 389.124063 -103.884203 \nL 387.44165 -104.481609 \nL 385.759238 -105.081378 \nL 384.076826 -105.681037 \nL 382.394414 -106.280547 \nL 380.712002 -106.87998 \nL 379.02959 -107.47927 \nL 377.347178 -108.078444 \nL 375.664766 -108.677926 \nL 373.982354 -109.279298 \nL 372.299942 -109.88057 \nL 370.61753 -110.481749 \nL 368.935118 -111.082779 \nL 367.252706 -111.683743 \nL 365.570294 -112.284564 \nL 363.887882 -112.885297 \nL 362.20547 -113.485903 \nL 360.523057 -114.086404 \nL 358.840645 -114.686801 \nL 357.158233 -115.297001 \nL 355.475821 -115.907834 \nL 353.793409 -116.518613 \nL 352.110997 -117.142009 \nL 350.428585 -117.76612 \nL 348.746173 -118.390199 \nL 347.063761 -119.059539 \nL 345.381349 -119.741099 \nL 343.698937 -120.423777 \nL 342.016525 -121.118189 \nL 340.334113 -121.873258 \nL 338.651701 -122.698957 \nL 336.969289 -123.540223 \nL 335.286877 -124.379958 \nL 333.604465 -125.20005 \nL 331.922052 -126.008037 \nL 330.23964 -126.791753 \nL 328.557228 -127.575196 \nL 326.874816 -128.358366 \nL 325.192404 -129.113341 \nL 323.509992 -129.850048 \nL 321.82758 -130.538787 \nL 320.145168 -131.227245 \nL 318.462756 -131.932223 \nL 316.780344 -132.702724 \nL 315.097932 -133.472987 \nL 313.41552 -134.243036 \nL 311.733108 -135.012824 \nL 310.050696 -135.78239 \nL 308.368284 -136.551718 \nL 306.685872 -137.326789 \nL 305.003459 -138.08413 \nL 303.321047 -138.841933 \nL 301.638635 -139.55263 \nL 299.956223 -140.262733 \nL 298.273811 -140.981728 \nL 296.591399 -141.731888 \nL 294.908987 -142.497433 \nL 293.226575 -143.27845 \nL 291.544163 -144.127657 \nL 289.861751 -144.987915 \nL 288.179339 -145.849966 \nL 286.496927 -146.719291 \nL 284.814515 -147.587739 \nL 283.132103 -148.456316 \nL 281.449691 -149.324982 \nL 279.767279 -150.193634 \nL 278.084867 -151.062305 \nL 276.402454 -151.930966 \nL 274.720042 -152.799617 \nL 273.03763 -153.66827 \nL 271.355218 -154.558007 \nL 269.672806 -155.456451 \nL 267.990394 -156.425877 \nL 266.307982 -157.403968 \nL 264.62557 -158.374776 \nL 262.943158 -159.526269 \nL 261.260746 -160.646371 \nL 259.578334 -161.75924 \nL 257.895922 -162.816269 \nL 256.21351 -163.8667 \nL 254.531098 -164.928653 \nL 252.848686 -166.079025 \nL 251.166274 -167.245746 \nL 249.483861 -168.414253 \nL 247.801449 -169.557218 \nL 246.119037 -170.41422 \nL 244.436625 -171.151464 \nL 242.754213 -171.59824 \nL 241.071801 -172.028914 \nL 239.389389 -172.425888 \nL 237.706977 -172.710245 \nL 236.024565 -173.113676 \nL 234.342153 -173.7734 \nL 232.659741 -174.592784 \nL 230.977329 -175.485595 \nL 229.294917 -176.20768 \nL 227.612505 -176.732619 \nL 225.930093 -177.166973 \nL 224.247681 -177.504064 \nL 222.565269 -177.762835 \nL 220.882856 -177.968759 \nL 219.200444 -177.654601 \nL 217.518032 -177.425899 \nL 215.83562 -177.09121 \nL 214.153208 -176.511995 \nL 212.470796 -175.804759 \nL 210.788384 -175.131016 \nL 209.105972 -174.435541 \nL 207.42356 -173.71791 \nL 205.741148 -172.995932 \nL 204.058736 -172.222681 \nL 202.376324 -171.502356 \nL 200.693912 -170.809076 \nL 199.0115 -170.012348 \nL 197.329088 -169.113552 \nL 195.646676 -168.284205 \nL 193.964264 -167.514086 \nL 192.281851 -166.594417 \nL 190.599439 -165.573394 \nL 188.917027 -164.544031 \nL 187.234615 -163.499303 \nL 185.552203 -162.440023 \nL 183.869791 -161.371716 \nL 182.187379 -160.252058 \nL 180.504967 -159.001456 \nL 178.822555 -157.762247 \nL 177.140143 -156.607906 \nL 175.457731 -155.616779 \nL 173.775319 -154.65611 \nL 172.092907 -153.568735 \nL 170.410495 -152.544303 \nL 168.728083 -151.609057 \nL 167.045671 -150.760919 \nL 165.363258 -150.011984 \nL 163.680846 -149.261445 \nL 161.998434 -148.496741 \nL 160.316022 -147.683025 \nL 158.63361 -146.922176 \nL 156.951198 -146.226839 \nL 155.268786 -145.539883 \nL 153.586374 -144.851556 \nL 151.903962 -144.160879 \nL 150.22155 -143.443343 \nL 148.539138 -142.73199 \nL 146.856726 -142.012387 \nL 145.174314 -141.289466 \nL 143.491902 -140.565542 \nL 141.80949 -139.840643 \nL 140.127078 -139.109387 \nL 138.444666 -138.368514 \nL 136.762253 -137.624267 \nL 135.079841 -136.879316 \nL 133.397429 -136.143163 \nL 131.715017 -135.486755 \nL 130.032605 -134.835965 \nL 128.350193 -134.21982 \nL 126.667781 -133.602746 \nL 124.985369 -132.984213 \nL 123.302957 -132.364251 \nL 121.620545 -131.742871 \nL 119.938133 -131.119197 \nL 118.255721 -130.495936 \nL 116.573309 -129.872119 \nL 114.890897 -129.246996 \nL 113.208485 -128.607761 \nL 111.526073 -127.952981 \nL 109.84366 -127.296449 \nL 108.161248 -126.638221 \nL 106.478836 -125.978341 \nL 104.796424 -125.319692 \nL 103.114012 -124.680049 \nL 101.4316 -124.038886 \nL 99.749188 -123.396219 \nL 98.066776 -122.752123 \nL 96.384364 -122.106103 \nL 94.701952 -121.437003 \nL 93.01954 -120.766697 \nL 91.337128 -120.096378 \nL 89.654716 -119.428872 \nL 87.972304 -118.760257 \nL 86.289892 -118.090552 \nL 84.60748 -117.420546 \nL 82.925068 -116.749626 \nL 81.242655 -116.077723 \nL 79.560243 -115.404887 \nL 77.877831 -114.731108 \nL 76.195419 -114.056443 \nL 74.513007 -113.380859 \nL 72.830595 -112.704453 \nL 71.148183 -112.027183 \nL 69.465771 -111.349093 \nL 67.783359 -110.670462 \nL 66.100947 -109.992443 \nL 64.418535 -109.314199 \nL 62.736123 -108.641208 \nL 61.053711 -107.96743 \nL 59.371299 -107.29293 \nL 57.688887 -106.617681 \nL 56.006475 -105.94235 \nL 54.324062 -105.267613 \nz\n\" id=\"m837797e44c\" style=\"stroke:#1f77b4;stroke-opacity:0.3;\"/>\n    </defs>\n    <g clip-path=\"url(#pcc99a7a769)\">\n     <use style=\"fill:#1f77b4;fill-opacity:0.3;stroke:#1f77b4;stroke-opacity:0.3;\" x=\"0\" xlink:href=\"#m837797e44c\" y=\"331.634375\"/>\n    </g>\n   </g>\n   <g id=\"PolyCollection_3\">\n    <defs>\n     <path d=\"M 54.324062 -107.664254 \nL 54.324062 -105.267613 \nL 56.006475 -105.94235 \nL 57.688887 -106.617681 \nL 59.371299 -107.29293 \nL 61.053711 -107.96743 \nL 62.736123 -108.641208 \nL 64.418535 -109.314199 \nL 66.100947 -109.992443 \nL 67.783359 -110.670462 \nL 69.465771 -111.349093 \nL 71.148183 -112.027183 \nL 72.830595 -112.704453 \nL 74.513007 -113.380859 \nL 76.195419 -114.056443 \nL 77.877831 -114.731108 \nL 79.560243 -115.404887 \nL 81.242655 -116.077723 \nL 82.925068 -116.749626 \nL 84.60748 -117.420546 \nL 86.289892 -118.090552 \nL 87.972304 -118.760257 \nL 89.654716 -119.428872 \nL 91.337128 -120.096378 \nL 93.01954 -120.766697 \nL 94.701952 -121.437003 \nL 96.384364 -122.106103 \nL 98.066776 -122.752123 \nL 99.749188 -123.396219 \nL 101.4316 -124.038886 \nL 103.114012 -124.680049 \nL 104.796424 -125.319692 \nL 106.478836 -125.978341 \nL 108.161248 -126.638221 \nL 109.84366 -127.296449 \nL 111.526073 -127.952981 \nL 113.208485 -128.607761 \nL 114.890897 -129.246996 \nL 116.573309 -129.872119 \nL 118.255721 -130.495936 \nL 119.938133 -131.119197 \nL 121.620545 -131.742871 \nL 123.302957 -132.364251 \nL 124.985369 -132.984213 \nL 126.667781 -133.602746 \nL 128.350193 -134.21982 \nL 130.032605 -134.835965 \nL 131.715017 -135.486755 \nL 133.397429 -136.143163 \nL 135.079841 -136.879316 \nL 136.762253 -137.624267 \nL 138.444666 -138.368514 \nL 140.127078 -139.109387 \nL 141.80949 -139.840643 \nL 143.491902 -140.565542 \nL 145.174314 -141.289466 \nL 146.856726 -142.012387 \nL 148.539138 -142.73199 \nL 150.22155 -143.443343 \nL 151.903962 -144.160879 \nL 153.586374 -144.851556 \nL 155.268786 -145.539883 \nL 156.951198 -146.226839 \nL 158.63361 -146.922176 \nL 160.316022 -147.683025 \nL 161.998434 -148.496741 \nL 163.680846 -149.261445 \nL 165.363258 -150.011984 \nL 167.045671 -150.760919 \nL 168.728083 -151.609057 \nL 170.410495 -152.544303 \nL 172.092907 -153.568735 \nL 173.775319 -154.65611 \nL 175.457731 -155.616779 \nL 177.140143 -156.607906 \nL 178.822555 -157.762247 \nL 180.504967 -159.001456 \nL 182.187379 -160.252058 \nL 183.869791 -161.371716 \nL 185.552203 -162.440023 \nL 187.234615 -163.499303 \nL 188.917027 -164.544031 \nL 190.599439 -165.573394 \nL 192.281851 -166.594417 \nL 193.964264 -167.514086 \nL 195.646676 -168.284205 \nL 197.329088 -169.113552 \nL 199.0115 -170.012348 \nL 200.693912 -170.809076 \nL 202.376324 -171.502356 \nL 204.058736 -172.222681 \nL 205.741148 -172.995932 \nL 207.42356 -173.71791 \nL 209.105972 -174.435541 \nL 210.788384 -175.131016 \nL 212.470796 -175.804759 \nL 214.153208 -176.511995 \nL 215.83562 -177.09121 \nL 217.518032 -177.425899 \nL 219.200444 -177.654601 \nL 220.882856 -177.968759 \nL 222.565269 -177.762835 \nL 224.247681 -177.504064 \nL 225.930093 -177.166973 \nL 227.612505 -176.732619 \nL 229.294917 -176.20768 \nL 230.977329 -175.485595 \nL 232.659741 -174.592784 \nL 234.342153 -173.7734 \nL 236.024565 -173.113676 \nL 237.706977 -172.710245 \nL 239.389389 -172.425888 \nL 241.071801 -172.028914 \nL 242.754213 -171.59824 \nL 244.436625 -171.151464 \nL 246.119037 -170.41422 \nL 247.801449 -169.557218 \nL 249.483861 -168.414253 \nL 251.166274 -167.245746 \nL 252.848686 -166.079025 \nL 254.531098 -164.928653 \nL 256.21351 -163.8667 \nL 257.895922 -162.816269 \nL 259.578334 -161.75924 \nL 261.260746 -160.646371 \nL 262.943158 -159.526269 \nL 264.62557 -158.374776 \nL 266.307982 -157.403968 \nL 267.990394 -156.425877 \nL 269.672806 -155.456451 \nL 271.355218 -154.558007 \nL 273.03763 -153.66827 \nL 274.720042 -152.799617 \nL 276.402454 -151.930966 \nL 278.084867 -151.062305 \nL 279.767279 -150.193634 \nL 281.449691 -149.324982 \nL 283.132103 -148.456316 \nL 284.814515 -147.587739 \nL 286.496927 -146.719291 \nL 288.179339 -145.849966 \nL 289.861751 -144.987915 \nL 291.544163 -144.127657 \nL 293.226575 -143.27845 \nL 294.908987 -142.497433 \nL 296.591399 -141.731888 \nL 298.273811 -140.981728 \nL 299.956223 -140.262733 \nL 301.638635 -139.55263 \nL 303.321047 -138.841933 \nL 305.003459 -138.08413 \nL 306.685872 -137.326789 \nL 308.368284 -136.551718 \nL 310.050696 -135.78239 \nL 311.733108 -135.012824 \nL 313.41552 -134.243036 \nL 315.097932 -133.472987 \nL 316.780344 -132.702724 \nL 318.462756 -131.932223 \nL 320.145168 -131.227245 \nL 321.82758 -130.538787 \nL 323.509992 -129.850048 \nL 325.192404 -129.113341 \nL 326.874816 -128.358366 \nL 328.557228 -127.575196 \nL 330.23964 -126.791753 \nL 331.922052 -126.008037 \nL 333.604465 -125.20005 \nL 335.286877 -124.379958 \nL 336.969289 -123.540223 \nL 338.651701 -122.698957 \nL 340.334113 -121.873258 \nL 342.016525 -121.118189 \nL 343.698937 -120.423777 \nL 345.381349 -119.741099 \nL 347.063761 -119.059539 \nL 348.746173 -118.390199 \nL 350.428585 -117.76612 \nL 352.110997 -117.142009 \nL 353.793409 -116.518613 \nL 355.475821 -115.907834 \nL 357.158233 -115.297001 \nL 358.840645 -114.686801 \nL 360.523057 -114.086404 \nL 362.20547 -113.485903 \nL 363.887882 -112.885297 \nL 365.570294 -112.284564 \nL 367.252706 -111.683743 \nL 368.935118 -111.082779 \nL 370.61753 -110.481749 \nL 372.299942 -109.88057 \nL 373.982354 -109.279298 \nL 375.664766 -108.677926 \nL 377.347178 -108.078444 \nL 379.02959 -107.47927 \nL 380.712002 -106.87998 \nL 382.394414 -106.280547 \nL 384.076826 -105.681037 \nL 385.759238 -105.081378 \nL 387.44165 -104.481609 \nL 389.124063 -103.884203 \nL 389.124063 -122.680168 \nL 389.124063 -122.680168 \nL 387.44165 -123.355265 \nL 385.759238 -124.022347 \nL 384.076826 -124.689549 \nL 382.394414 -125.356842 \nL 380.712002 -126.024284 \nL 379.02959 -126.691836 \nL 377.347178 -127.359531 \nL 375.664766 -128.026899 \nL 373.982354 -128.692664 \nL 372.299942 -129.358547 \nL 370.61753 -130.024532 \nL 368.935118 -130.690622 \nL 367.252706 -131.356831 \nL 365.570294 -132.023121 \nL 363.887882 -132.689533 \nL 362.20547 -133.356058 \nL 360.523057 -134.022685 \nL 358.840645 -134.689433 \nL 357.158233 -135.348925 \nL 355.475821 -136.007952 \nL 353.793409 -136.667044 \nL 352.110997 -137.33542 \nL 350.428585 -138.004412 \nL 348.746173 -138.67347 \nL 347.063761 -139.380795 \nL 345.381349 -140.098489 \nL 343.698937 -140.816575 \nL 342.016525 -141.53044 \nL 340.334113 -142.308298 \nL 338.651701 -143.156969 \nL 336.969289 -144.028164 \nL 335.286877 -144.900797 \nL 333.604465 -145.768239 \nL 331.922052 -146.642003 \nL 330.23964 -147.531158 \nL 328.557228 -148.420581 \nL 326.874816 -149.310277 \nL 325.192404 -150.18506 \nL 323.509992 -151.03858 \nL 321.82758 -151.834844 \nL 320.145168 -152.631374 \nL 318.462756 -153.44318 \nL 316.780344 -154.313999 \nL 315.097932 -155.185045 \nL 313.41552 -156.056347 \nL 311.733108 -156.927864 \nL 310.050696 -157.799622 \nL 308.368284 -158.671628 \nL 306.685872 -159.558765 \nL 305.003459 -160.445909 \nL 303.321047 -161.332907 \nL 301.638635 -162.206173 \nL 299.956223 -163.080024 \nL 298.273811 -163.956631 \nL 296.591399 -164.818904 \nL 294.908987 -165.669487 \nL 293.226575 -166.532164 \nL 291.544163 -167.429745 \nL 289.861751 -168.281045 \nL 288.179339 -169.127 \nL 286.496927 -169.979972 \nL 284.814515 -170.842468 \nL 283.132103 -171.714537 \nL 281.449691 -172.593796 \nL 279.767279 -173.473061 \nL 278.084867 -174.352337 \nL 276.402454 -175.231609 \nL 274.720042 -176.110883 \nL 273.03763 -176.99016 \nL 271.355218 -177.823225 \nL 269.672806 -178.644307 \nL 267.990394 -179.556276 \nL 266.307982 -180.463885 \nL 264.62557 -181.361842 \nL 262.943158 -182.384012 \nL 261.260746 -183.362895 \nL 259.578334 -184.303958 \nL 257.895922 -185.121686 \nL 256.21351 -186.006271 \nL 254.531098 -187.033811 \nL 252.848686 -188.220172 \nL 251.166274 -189.405969 \nL 249.483861 -190.459132 \nL 247.801449 -191.506589 \nL 246.119037 -192.335193 \nL 244.436625 -193.043173 \nL 242.754213 -193.462137 \nL 241.071801 -193.964677 \nL 239.389389 -194.459292 \nL 237.706977 -194.803737 \nL 236.024565 -195.092453 \nL 234.342153 -195.364246 \nL 232.659741 -195.780462 \nL 230.977329 -196.298591 \nL 229.294917 -196.770422 \nL 227.612505 -197.032605 \nL 225.930093 -197.129484 \nL 224.247681 -197.079283 \nL 222.565269 -196.963442 \nL 220.882856 -196.62373 \nL 219.200444 -195.792749 \nL 217.518032 -195.014073 \nL 215.83562 -194.226411 \nL 214.153208 -193.300193 \nL 212.470796 -192.240977 \nL 210.788384 -191.253771 \nL 209.105972 -190.220895 \nL 207.42356 -189.164287 \nL 205.741148 -188.126854 \nL 204.058736 -187.060833 \nL 202.376324 -186.13085 \nL 200.693912 -185.173556 \nL 199.0115 -183.945418 \nL 197.329088 -182.641186 \nL 195.646676 -181.461125 \nL 193.964264 -180.355064 \nL 192.281851 -179.114626 \nL 190.599439 -177.806755 \nL 188.917027 -176.49102 \nL 187.234615 -175.187024 \nL 185.552203 -173.982776 \nL 183.869791 -172.773326 \nL 182.187379 -171.510954 \nL 180.504967 -170.103957 \nL 178.822555 -168.725107 \nL 177.140143 -167.420188 \nL 175.457731 -166.214585 \nL 173.775319 -165.035701 \nL 172.092907 -163.799416 \nL 170.410495 -162.616867 \nL 168.728083 -161.548861 \nL 167.045671 -160.551229 \nL 165.363258 -159.64626 \nL 163.680846 -158.742385 \nL 161.998434 -157.829371 \nL 160.316022 -156.874999 \nL 158.63361 -155.975343 \nL 156.951198 -155.122713 \nL 155.268786 -154.279579 \nL 153.586374 -153.437817 \nL 151.903962 -152.597385 \nL 150.22155 -151.757551 \nL 148.539138 -150.924935 \nL 146.856726 -150.07785 \nL 145.174314 -149.228108 \nL 143.491902 -148.37936 \nL 141.80949 -147.531601 \nL 140.127078 -146.680448 \nL 138.444666 -145.82566 \nL 136.762253 -144.978595 \nL 135.079841 -144.13224 \nL 133.397429 -143.290255 \nL 131.715017 -142.504273 \nL 130.032605 -141.723993 \nL 128.350193 -140.964516 \nL 126.667781 -140.206835 \nL 124.985369 -139.450632 \nL 123.302957 -138.695864 \nL 121.620545 -137.942486 \nL 119.938133 -137.1897 \nL 118.255721 -136.439553 \nL 116.573309 -135.6913 \nL 114.890897 -134.944352 \nL 113.208485 -134.174683 \nL 111.526073 -133.380658 \nL 109.84366 -132.588367 \nL 108.161248 -131.797772 \nL 106.478836 -131.008836 \nL 104.796424 -130.22439 \nL 103.114012 -129.462333 \nL 101.4316 -128.701806 \nL 99.749188 -127.942756 \nL 98.066776 -127.185184 \nL 96.384364 -126.428645 \nL 94.701952 -125.657349 \nL 93.01954 -124.88727 \nL 91.337128 -124.119589 \nL 89.654716 -123.357207 \nL 87.972304 -122.595951 \nL 86.289892 -121.83579 \nL 84.60748 -121.079318 \nL 82.925068 -120.324111 \nL 81.242655 -119.569858 \nL 79.560243 -118.816574 \nL 77.877831 -118.064196 \nL 76.195419 -117.312746 \nL 74.513007 -116.562146 \nL 72.830595 -115.81245 \nL 71.148183 -115.063583 \nL 69.465771 -114.315537 \nL 67.783359 -113.568471 \nL 66.100947 -112.823073 \nL 64.418535 -112.07897 \nL 62.736123 -111.341024 \nL 61.053711 -110.603822 \nL 59.371299 -109.867385 \nL 57.688887 -109.131653 \nL 56.006475 -108.397106 \nL 54.324062 -107.664254 \nz\n\" id=\"m457211c8db\" style=\"stroke:#ff7f0e;stroke-opacity:0.4;\"/>\n    </defs>\n    <g clip-path=\"url(#pcc99a7a769)\">\n     <use style=\"fill:#ff7f0e;fill-opacity:0.4;stroke:#ff7f0e;stroke-opacity:0.4;\" x=\"0\" xlink:href=\"#m457211c8db\" y=\"331.634375\"/>\n    </g>\n   </g>\n   <g id=\"matplotlib.axis_1\">\n    <g id=\"xtick_1\">\n     <g id=\"line2d_1\">\n      <path clip-path=\"url(#pcc99a7a769)\" d=\"M 87.804062 284.4 \nL 87.804062 7.2 \n\" style=\"fill:none;stroke:#b0b0b0;stroke-linecap:square;stroke-opacity:0.3;stroke-width:0.8;\"/>\n     </g>\n     <g id=\"line2d_2\">\n      <defs>\n       <path d=\"M 0 0 \nL 0 3.5 \n\" id=\"m0e79a379e5\" style=\"stroke:#000000;stroke-width:0.8;\"/>\n      </defs>\n      <g>\n       <use style=\"stroke:#000000;stroke-width:0.8;\" x=\"87.804062\" xlink:href=\"#m0e79a379e5\" y=\"284.4\"/>\n      </g>\n     </g>\n     <g id=\"text_1\">\n      <!-- −4 -->\n      <defs>\n       <path d=\"M 10.59375 35.5 \nL 73.1875 35.5 \nL 73.1875 27.203125 \nL 10.59375 27.203125 \nz\n\" id=\"DejaVuSans-8722\"/>\n       <path d=\"M 37.796875 64.3125 \nL 12.890625 25.390625 \nL 37.796875 25.390625 \nz\nM 35.203125 72.90625 \nL 47.609375 72.90625 \nL 47.609375 25.390625 \nL 58.015625 25.390625 \nL 58.015625 17.1875 \nL 47.609375 17.1875 \nL 47.609375 0 \nL 37.796875 0 \nL 37.796875 17.1875 \nL 4.890625 17.1875 \nL 4.890625 26.703125 \nz\n\" id=\"DejaVuSans-52\"/>\n      </defs>\n      <g transform=\"translate(77.484531 302.037812)scale(0.14 -0.14)\">\n       <use xlink:href=\"#DejaVuSans-8722\"/>\n       <use x=\"83.789062\" xlink:href=\"#DejaVuSans-52\"/>\n      </g>\n     </g>\n    </g>\n    <g id=\"xtick_2\">\n     <g id=\"line2d_3\">\n      <path clip-path=\"url(#pcc99a7a769)\" d=\"M 154.764062 284.4 \nL 154.764062 7.2 \n\" style=\"fill:none;stroke:#b0b0b0;stroke-linecap:square;stroke-opacity:0.3;stroke-width:0.8;\"/>\n     </g>\n     <g id=\"line2d_4\">\n      <g>\n       <use style=\"stroke:#000000;stroke-width:0.8;\" x=\"154.764062\" xlink:href=\"#m0e79a379e5\" y=\"284.4\"/>\n      </g>\n     </g>\n     <g id=\"text_2\">\n      <!-- −2 -->\n      <defs>\n       <path d=\"M 19.1875 8.296875 \nL 53.609375 8.296875 \nL 53.609375 0 \nL 7.328125 0 \nL 7.328125 8.296875 \nQ 12.9375 14.109375 22.625 23.890625 \nQ 32.328125 33.6875 34.8125 36.53125 \nQ 39.546875 41.84375 41.421875 45.53125 \nQ 43.3125 49.21875 43.3125 52.78125 \nQ 43.3125 58.59375 39.234375 62.25 \nQ 35.15625 65.921875 28.609375 65.921875 \nQ 23.96875 65.921875 18.8125 64.3125 \nQ 13.671875 62.703125 7.8125 59.421875 \nL 7.8125 69.390625 \nQ 13.765625 71.78125 18.9375 73 \nQ 24.125 74.21875 28.421875 74.21875 \nQ 39.75 74.21875 46.484375 68.546875 \nQ 53.21875 62.890625 53.21875 53.421875 \nQ 53.21875 48.921875 51.53125 44.890625 \nQ 49.859375 40.875 45.40625 35.40625 \nQ 44.1875 33.984375 37.640625 27.21875 \nQ 31.109375 20.453125 19.1875 8.296875 \nz\n\" id=\"DejaVuSans-50\"/>\n      </defs>\n      <g transform=\"translate(144.444531 302.037812)scale(0.14 -0.14)\">\n       <use xlink:href=\"#DejaVuSans-8722\"/>\n       <use x=\"83.789062\" xlink:href=\"#DejaVuSans-50\"/>\n      </g>\n     </g>\n    </g>\n    <g id=\"xtick_3\">\n     <g id=\"line2d_5\">\n      <path clip-path=\"url(#pcc99a7a769)\" d=\"M 221.724063 284.4 \nL 221.724063 7.2 \n\" style=\"fill:none;stroke:#b0b0b0;stroke-linecap:square;stroke-opacity:0.3;stroke-width:0.8;\"/>\n     </g>\n     <g id=\"line2d_6\">\n      <g>\n       <use style=\"stroke:#000000;stroke-width:0.8;\" x=\"221.724063\" xlink:href=\"#m0e79a379e5\" y=\"284.4\"/>\n      </g>\n     </g>\n     <g id=\"text_3\">\n      <!-- 0 -->\n      <defs>\n       <path d=\"M 31.78125 66.40625 \nQ 24.171875 66.40625 20.328125 58.90625 \nQ 16.5 51.421875 16.5 36.375 \nQ 16.5 21.390625 20.328125 13.890625 \nQ 24.171875 6.390625 31.78125 6.390625 \nQ 39.453125 6.390625 43.28125 13.890625 \nQ 47.125 21.390625 47.125 36.375 \nQ 47.125 51.421875 43.28125 58.90625 \nQ 39.453125 66.40625 31.78125 66.40625 \nz\nM 31.78125 74.21875 \nQ 44.046875 74.21875 50.515625 64.515625 \nQ 56.984375 54.828125 56.984375 36.375 \nQ 56.984375 17.96875 50.515625 8.265625 \nQ 44.046875 -1.421875 31.78125 -1.421875 \nQ 19.53125 -1.421875 13.0625 8.265625 \nQ 6.59375 17.96875 6.59375 36.375 \nQ 6.59375 54.828125 13.0625 64.515625 \nQ 19.53125 74.21875 31.78125 74.21875 \nz\n\" id=\"DejaVuSans-48\"/>\n      </defs>\n      <g transform=\"translate(217.270312 302.037812)scale(0.14 -0.14)\">\n       <use xlink:href=\"#DejaVuSans-48\"/>\n      </g>\n     </g>\n    </g>\n    <g id=\"xtick_4\">\n     <g id=\"line2d_7\">\n      <path clip-path=\"url(#pcc99a7a769)\" d=\"M 288.684062 284.4 \nL 288.684062 7.2 \n\" style=\"fill:none;stroke:#b0b0b0;stroke-linecap:square;stroke-opacity:0.3;stroke-width:0.8;\"/>\n     </g>\n     <g id=\"line2d_8\">\n      <g>\n       <use style=\"stroke:#000000;stroke-width:0.8;\" x=\"288.684062\" xlink:href=\"#m0e79a379e5\" y=\"284.4\"/>\n      </g>\n     </g>\n     <g id=\"text_4\">\n      <!-- 2 -->\n      <g transform=\"translate(284.230312 302.037812)scale(0.14 -0.14)\">\n       <use xlink:href=\"#DejaVuSans-50\"/>\n      </g>\n     </g>\n    </g>\n    <g id=\"xtick_5\">\n     <g id=\"line2d_9\">\n      <path clip-path=\"url(#pcc99a7a769)\" d=\"M 355.644063 284.4 \nL 355.644063 7.2 \n\" style=\"fill:none;stroke:#b0b0b0;stroke-linecap:square;stroke-opacity:0.3;stroke-width:0.8;\"/>\n     </g>\n     <g id=\"line2d_10\">\n      <g>\n       <use style=\"stroke:#000000;stroke-width:0.8;\" x=\"355.644063\" xlink:href=\"#m0e79a379e5\" y=\"284.4\"/>\n      </g>\n     </g>\n     <g id=\"text_5\">\n      <!-- 4 -->\n      <g transform=\"translate(351.190313 302.037812)scale(0.14 -0.14)\">\n       <use xlink:href=\"#DejaVuSans-52\"/>\n      </g>\n     </g>\n    </g>\n    <g id=\"text_6\">\n     <!-- $x$ -->\n     <defs>\n      <path d=\"M 60.015625 54.6875 \nL 34.90625 27.875 \nL 50.296875 0 \nL 39.984375 0 \nL 28.421875 21.6875 \nL 8.296875 0 \nL -2.59375 0 \nL 24.3125 28.8125 \nL 10.015625 54.6875 \nL 20.3125 54.6875 \nL 30.8125 34.90625 \nL 49.125 54.6875 \nz\n\" id=\"DejaVuSans-Oblique-120\"/>\n     </defs>\n     <g transform=\"translate(216.924062 321.106875)scale(0.16 -0.16)\">\n      <use transform=\"translate(0 0.3125)\" xlink:href=\"#DejaVuSans-Oblique-120\"/>\n     </g>\n    </g>\n   </g>\n   <g id=\"matplotlib.axis_2\">\n    <g id=\"ytick_1\">\n     <g id=\"line2d_11\">\n      <path clip-path=\"url(#pcc99a7a769)\" d=\"M 54.324063 261.3 \nL 389.124063 261.3 \n\" style=\"fill:none;stroke:#b0b0b0;stroke-linecap:square;stroke-opacity:0.3;stroke-width:0.8;\"/>\n     </g>\n     <g id=\"line2d_12\">\n      <defs>\n       <path d=\"M 0 0 \nL -3.5 0 \n\" id=\"m5b6df21d61\" style=\"stroke:#000000;stroke-width:0.8;\"/>\n      </defs>\n      <g>\n       <use style=\"stroke:#000000;stroke-width:0.8;\" x=\"54.324063\" xlink:href=\"#m5b6df21d61\" y=\"261.3\"/>\n      </g>\n     </g>\n     <g id=\"text_7\">\n      <!-- −4 -->\n      <g transform=\"translate(26.685 266.618906)scale(0.14 -0.14)\">\n       <use xlink:href=\"#DejaVuSans-8722\"/>\n       <use x=\"83.789062\" xlink:href=\"#DejaVuSans-52\"/>\n      </g>\n     </g>\n    </g>\n    <g id=\"ytick_2\">\n     <g id=\"line2d_13\">\n      <path clip-path=\"url(#pcc99a7a769)\" d=\"M 54.324063 215.1 \nL 389.124063 215.1 \n\" style=\"fill:none;stroke:#b0b0b0;stroke-linecap:square;stroke-opacity:0.3;stroke-width:0.8;\"/>\n     </g>\n     <g id=\"line2d_14\">\n      <g>\n       <use style=\"stroke:#000000;stroke-width:0.8;\" x=\"54.324063\" xlink:href=\"#m5b6df21d61\" y=\"215.1\"/>\n      </g>\n     </g>\n     <g id=\"text_8\">\n      <!-- −2 -->\n      <g transform=\"translate(26.685 220.418906)scale(0.14 -0.14)\">\n       <use xlink:href=\"#DejaVuSans-8722\"/>\n       <use x=\"83.789062\" xlink:href=\"#DejaVuSans-50\"/>\n      </g>\n     </g>\n    </g>\n    <g id=\"ytick_3\">\n     <g id=\"line2d_15\">\n      <path clip-path=\"url(#pcc99a7a769)\" d=\"M 54.324063 168.9 \nL 389.124063 168.9 \n\" style=\"fill:none;stroke:#b0b0b0;stroke-linecap:square;stroke-opacity:0.3;stroke-width:0.8;\"/>\n     </g>\n     <g id=\"line2d_16\">\n      <g>\n       <use style=\"stroke:#000000;stroke-width:0.8;\" x=\"54.324063\" xlink:href=\"#m5b6df21d61\" y=\"168.9\"/>\n      </g>\n     </g>\n     <g id=\"text_9\">\n      <!-- 0 -->\n      <g transform=\"translate(38.416563 174.218906)scale(0.14 -0.14)\">\n       <use xlink:href=\"#DejaVuSans-48\"/>\n      </g>\n     </g>\n    </g>\n    <g id=\"ytick_4\">\n     <g id=\"line2d_17\">\n      <path clip-path=\"url(#pcc99a7a769)\" d=\"M 54.324063 122.7 \nL 389.124063 122.7 \n\" style=\"fill:none;stroke:#b0b0b0;stroke-linecap:square;stroke-opacity:0.3;stroke-width:0.8;\"/>\n     </g>\n     <g id=\"line2d_18\">\n      <g>\n       <use style=\"stroke:#000000;stroke-width:0.8;\" x=\"54.324063\" xlink:href=\"#m5b6df21d61\" y=\"122.7\"/>\n      </g>\n     </g>\n     <g id=\"text_10\">\n      <!-- 2 -->\n      <g transform=\"translate(38.416563 128.018906)scale(0.14 -0.14)\">\n       <use xlink:href=\"#DejaVuSans-50\"/>\n      </g>\n     </g>\n    </g>\n    <g id=\"ytick_5\">\n     <g id=\"line2d_19\">\n      <path clip-path=\"url(#pcc99a7a769)\" d=\"M 54.324063 76.5 \nL 389.124063 76.5 \n\" style=\"fill:none;stroke:#b0b0b0;stroke-linecap:square;stroke-opacity:0.3;stroke-width:0.8;\"/>\n     </g>\n     <g id=\"line2d_20\">\n      <g>\n       <use style=\"stroke:#000000;stroke-width:0.8;\" x=\"54.324063\" xlink:href=\"#m5b6df21d61\" y=\"76.5\"/>\n      </g>\n     </g>\n     <g id=\"text_11\">\n      <!-- 4 -->\n      <g transform=\"translate(38.416563 81.818906)scale(0.14 -0.14)\">\n       <use xlink:href=\"#DejaVuSans-52\"/>\n      </g>\n     </g>\n    </g>\n    <g id=\"ytick_6\">\n     <g id=\"line2d_21\">\n      <path clip-path=\"url(#pcc99a7a769)\" d=\"M 54.324063 30.3 \nL 389.124063 30.3 \n\" style=\"fill:none;stroke:#b0b0b0;stroke-linecap:square;stroke-opacity:0.3;stroke-width:0.8;\"/>\n     </g>\n     <g id=\"line2d_22\">\n      <g>\n       <use style=\"stroke:#000000;stroke-width:0.8;\" x=\"54.324063\" xlink:href=\"#m5b6df21d61\" y=\"30.3\"/>\n      </g>\n     </g>\n     <g id=\"text_12\">\n      <!-- 6 -->\n      <defs>\n       <path d=\"M 33.015625 40.375 \nQ 26.375 40.375 22.484375 35.828125 \nQ 18.609375 31.296875 18.609375 23.390625 \nQ 18.609375 15.53125 22.484375 10.953125 \nQ 26.375 6.390625 33.015625 6.390625 \nQ 39.65625 6.390625 43.53125 10.953125 \nQ 47.40625 15.53125 47.40625 23.390625 \nQ 47.40625 31.296875 43.53125 35.828125 \nQ 39.65625 40.375 33.015625 40.375 \nz\nM 52.59375 71.296875 \nL 52.59375 62.3125 \nQ 48.875 64.0625 45.09375 64.984375 \nQ 41.3125 65.921875 37.59375 65.921875 \nQ 27.828125 65.921875 22.671875 59.328125 \nQ 17.53125 52.734375 16.796875 39.40625 \nQ 19.671875 43.65625 24.015625 45.921875 \nQ 28.375 48.1875 33.59375 48.1875 \nQ 44.578125 48.1875 50.953125 41.515625 \nQ 57.328125 34.859375 57.328125 23.390625 \nQ 57.328125 12.15625 50.6875 5.359375 \nQ 44.046875 -1.421875 33.015625 -1.421875 \nQ 20.359375 -1.421875 13.671875 8.265625 \nQ 6.984375 17.96875 6.984375 36.375 \nQ 6.984375 53.65625 15.1875 63.9375 \nQ 23.390625 74.21875 37.203125 74.21875 \nQ 40.921875 74.21875 44.703125 73.484375 \nQ 48.484375 72.75 52.59375 71.296875 \nz\n\" id=\"DejaVuSans-54\"/>\n      </defs>\n      <g transform=\"translate(38.416563 35.618906)scale(0.14 -0.14)\">\n       <use xlink:href=\"#DejaVuSans-54\"/>\n      </g>\n     </g>\n    </g>\n    <g id=\"text_13\">\n     <!-- $y$ -->\n     <defs>\n      <path d=\"M 24.8125 -5.078125 \nQ 18.5625 -15.578125 14.625 -18.1875 \nQ 10.6875 -20.796875 4.59375 -20.796875 \nL -2.484375 -20.796875 \nL -0.984375 -13.28125 \nL 4.203125 -13.28125 \nQ 7.953125 -13.28125 10.59375 -11.234375 \nQ 13.234375 -9.1875 16.5 -3.21875 \nL 19.28125 2 \nL 7.171875 54.6875 \nL 16.703125 54.6875 \nL 25.78125 12.796875 \nL 50.875 54.6875 \nL 60.296875 54.6875 \nz\n\" id=\"DejaVuSans-Oblique-121\"/>\n     </defs>\n     <g transform=\"translate(19.325 150.6)rotate(-90)scale(0.16 -0.16)\">\n      <use transform=\"translate(0 0.3125)\" xlink:href=\"#DejaVuSans-Oblique-121\"/>\n     </g>\n    </g>\n   </g>\n   <g id=\"line2d_23\">\n    <path clip-path=\"url(#pcc99a7a769)\" d=\"M 54.324062 225.168441 \nL 84.60748 212.384443 \nL 121.620545 196.791696 \nL 133.397429 191.917666 \nL 165.363258 176.805253 \nL 168.728083 175.055416 \nL 172.092907 172.9503 \nL 175.457731 170.718693 \nL 178.822555 168.390698 \nL 183.869791 164.561854 \nL 193.964264 157.6998 \nL 197.329088 155.757006 \nL 200.693912 153.643059 \nL 205.741148 151.072983 \nL 214.153208 146.728281 \nL 215.83562 145.975564 \nL 220.882856 144.33813 \nL 222.565269 144.271237 \nL 225.930093 144.486146 \nL 227.612505 144.751763 \nL 229.294917 145.145324 \nL 232.659741 146.447753 \nL 234.342153 147.065552 \nL 236.024565 147.531311 \nL 241.071801 148.637579 \nL 244.436625 149.537056 \nL 247.801449 151.102472 \nL 252.848686 154.484776 \nL 256.21351 156.697889 \nL 262.943158 160.679235 \nL 264.62557 161.766066 \nL 271.355218 165.443759 \nL 299.956223 179.962997 \nL 308.368284 184.022702 \nL 320.145168 189.705065 \nL 325.192404 191.985174 \nL 335.286877 196.993997 \nL 342.016525 200.310061 \nL 350.428585 203.749109 \nL 368.935118 210.747673 \nL 389.124063 218.352188 \nL 389.124063 218.352188 \n\" style=\"fill:none;stroke:#000000;stroke-linecap:square;\"/>\n   </g>\n   <g id=\"patch_3\">\n    <path d=\"M 54.324063 284.4 \nL 54.324063 7.2 \n\" style=\"fill:none;stroke:#000000;stroke-linecap:square;stroke-linejoin:miter;stroke-width:0.8;\"/>\n   </g>\n   <g id=\"patch_4\">\n    <path d=\"M 389.124063 284.4 \nL 389.124063 7.2 \n\" style=\"fill:none;stroke:#000000;stroke-linecap:square;stroke-linejoin:miter;stroke-width:0.8;\"/>\n   </g>\n   <g id=\"patch_5\">\n    <path d=\"M 54.324062 284.4 \nL 389.124063 284.4 \n\" style=\"fill:none;stroke:#000000;stroke-linecap:square;stroke-linejoin:miter;stroke-width:0.8;\"/>\n   </g>\n   <g id=\"patch_6\">\n    <path d=\"M 54.324062 7.2 \nL 389.124063 7.2 \n\" style=\"fill:none;stroke:#000000;stroke-linecap:square;stroke-linejoin:miter;stroke-width:0.8;\"/>\n   </g>\n  </g>\n </g>\n <defs>\n  <clipPath id=\"pcc99a7a769\">\n   <rect height=\"277.2\" width=\"334.8\" x=\"54.324063\" y=\"7.2\"/>\n  </clipPath>\n </defs>\n</svg>\n"
          },
          "metadata": {
            "tags": []
          }
        },
        {
          "output_type": "stream",
          "text": [
            " /usr/local/lib/python3.7/dist-packages/opacus/privacy_engine.py:646: UserWarning:A ``sample_rate`` has been provided.Thus, the provided ``batch_size``and ``sample_size`` will be ignored.\n",
            " /usr/local/lib/python3.7/dist-packages/opacus/privacy_engine.py:230: UserWarning:Secure RNG turned off. This is perfectly fine for experimentation as it allows for much faster training performance, but remember to turn it on and retrain one last time before production with ``secure_rng`` turned on.\n",
            " /usr/local/lib/python3.7/dist-packages/torch/nn/modules/module.py:974: UserWarning:Using a non-full backward hook when the forward contains multiple autograd Nodes is deprecated and will be removed in future versions. This hook will be missing some grad_input. Please use register_full_backward_hook to get the documented behavior.\n"
          ],
          "name": "stderr"
        },
        {
          "output_type": "stream",
          "text": [
            "Epoch:    0, Train loss =  119.498\n",
            "Epoch:   50, Train loss =  119.577\n",
            "Epoch:  100, Train loss =  188.062\n",
            "Epoch:  150, Train loss =   93.119\n",
            "Epoch:  200, Train loss =   67.953\n"
          ],
          "name": "stdout"
        },
        {
          "output_type": "stream",
          "text": [
            " /usr/local/lib/python3.7/dist-packages/opacus/privacy_engine.py:646: UserWarning:A ``sample_rate`` has been provided.Thus, the provided ``batch_size``and ``sample_size`` will be ignored.\n",
            " /usr/local/lib/python3.7/dist-packages/opacus/privacy_engine.py:230: UserWarning:Secure RNG turned off. This is perfectly fine for experimentation as it allows for much faster training performance, but remember to turn it on and retrain one last time before production with ``secure_rng`` turned on.\n",
            " /usr/local/lib/python3.7/dist-packages/torch/nn/modules/module.py:974: UserWarning:Using a non-full backward hook when the forward contains multiple autograd Nodes is deprecated and will be removed in future versions. This hook will be missing some grad_input. Please use register_full_backward_hook to get the documented behavior.\n"
          ],
          "name": "stderr"
        },
        {
          "output_type": "stream",
          "text": [
            "Epoch:    0, Train loss =  152.654\n",
            "Epoch:   50, Train loss =  277.070\n",
            "Epoch:  100, Train loss =  144.046\n",
            "Epoch:  150, Train loss =  217.475\n",
            "Epoch:  200, Train loss =  253.908\n"
          ],
          "name": "stdout"
        },
        {
          "output_type": "stream",
          "text": [
            " /usr/local/lib/python3.7/dist-packages/opacus/privacy_engine.py:646: UserWarning:A ``sample_rate`` has been provided.Thus, the provided ``batch_size``and ``sample_size`` will be ignored.\n",
            " /usr/local/lib/python3.7/dist-packages/opacus/privacy_engine.py:230: UserWarning:Secure RNG turned off. This is perfectly fine for experimentation as it allows for much faster training performance, but remember to turn it on and retrain one last time before production with ``secure_rng`` turned on.\n",
            " /usr/local/lib/python3.7/dist-packages/torch/nn/modules/module.py:974: UserWarning:Using a non-full backward hook when the forward contains multiple autograd Nodes is deprecated and will be removed in future versions. This hook will be missing some grad_input. Please use register_full_backward_hook to get the documented behavior.\n"
          ],
          "name": "stderr"
        },
        {
          "output_type": "stream",
          "text": [
            "Epoch:    0, Train loss =   88.830\n",
            "Epoch:   50, Train loss =  283.986\n",
            "Epoch:  100, Train loss =   27.472\n",
            "Epoch:  150, Train loss =  100.697\n",
            "Epoch:  200, Train loss =   58.470\n"
          ],
          "name": "stdout"
        },
        {
          "output_type": "stream",
          "text": [
            " /usr/local/lib/python3.7/dist-packages/opacus/privacy_engine.py:646: UserWarning:A ``sample_rate`` has been provided.Thus, the provided ``batch_size``and ``sample_size`` will be ignored.\n",
            " /usr/local/lib/python3.7/dist-packages/opacus/privacy_engine.py:230: UserWarning:Secure RNG turned off. This is perfectly fine for experimentation as it allows for much faster training performance, but remember to turn it on and retrain one last time before production with ``secure_rng`` turned on.\n",
            " /usr/local/lib/python3.7/dist-packages/torch/nn/modules/module.py:974: UserWarning:Using a non-full backward hook when the forward contains multiple autograd Nodes is deprecated and will be removed in future versions. This hook will be missing some grad_input. Please use register_full_backward_hook to get the documented behavior.\n"
          ],
          "name": "stderr"
        },
        {
          "output_type": "stream",
          "text": [
            "Epoch:    0, Train loss =  281.967\n",
            "Epoch:   50, Train loss =  224.534\n",
            "Epoch:  100, Train loss =   78.909\n",
            "Epoch:  150, Train loss =  188.399\n",
            "Epoch:  200, Train loss =  100.196\n"
          ],
          "name": "stdout"
        },
        {
          "output_type": "stream",
          "text": [
            " /usr/local/lib/python3.7/dist-packages/opacus/privacy_engine.py:646: UserWarning:A ``sample_rate`` has been provided.Thus, the provided ``batch_size``and ``sample_size`` will be ignored.\n",
            " /usr/local/lib/python3.7/dist-packages/opacus/privacy_engine.py:230: UserWarning:Secure RNG turned off. This is perfectly fine for experimentation as it allows for much faster training performance, but remember to turn it on and retrain one last time before production with ``secure_rng`` turned on.\n",
            " /usr/local/lib/python3.7/dist-packages/torch/nn/modules/module.py:974: UserWarning:Using a non-full backward hook when the forward contains multiple autograd Nodes is deprecated and will be removed in future versions. This hook will be missing some grad_input. Please use register_full_backward_hook to get the documented behavior.\n"
          ],
          "name": "stderr"
        },
        {
          "output_type": "stream",
          "text": [
            "Epoch:    0, Train loss =  137.419\n",
            "Epoch:   50, Train loss =  163.088\n",
            "Epoch:  100, Train loss =  140.677\n",
            "Epoch:  150, Train loss =  138.349\n",
            "Epoch:  200, Train loss =  103.798\n"
          ],
          "name": "stdout"
        },
        {
          "output_type": "stream",
          "text": [
            " /usr/local/lib/python3.7/dist-packages/opacus/privacy_engine.py:646: UserWarning:A ``sample_rate`` has been provided.Thus, the provided ``batch_size``and ``sample_size`` will be ignored.\n",
            " /usr/local/lib/python3.7/dist-packages/opacus/privacy_engine.py:230: UserWarning:Secure RNG turned off. This is perfectly fine for experimentation as it allows for much faster training performance, but remember to turn it on and retrain one last time before production with ``secure_rng`` turned on.\n",
            " /usr/local/lib/python3.7/dist-packages/torch/nn/modules/module.py:974: UserWarning:Using a non-full backward hook when the forward contains multiple autograd Nodes is deprecated and will be removed in future versions. This hook will be missing some grad_input. Please use register_full_backward_hook to get the documented behavior.\n"
          ],
          "name": "stderr"
        },
        {
          "output_type": "stream",
          "text": [
            "Epoch:    0, Train loss =  131.897\n",
            "Epoch:   50, Train loss =   65.643\n",
            "Epoch:  100, Train loss =   24.426\n",
            "Epoch:  150, Train loss =   87.767\n",
            "Epoch:  200, Train loss =  247.774\n"
          ],
          "name": "stdout"
        },
        {
          "output_type": "stream",
          "text": [
            " /usr/local/lib/python3.7/dist-packages/opacus/privacy_engine.py:646: UserWarning:A ``sample_rate`` has been provided.Thus, the provided ``batch_size``and ``sample_size`` will be ignored.\n",
            " /usr/local/lib/python3.7/dist-packages/opacus/privacy_engine.py:230: UserWarning:Secure RNG turned off. This is perfectly fine for experimentation as it allows for much faster training performance, but remember to turn it on and retrain one last time before production with ``secure_rng`` turned on.\n",
            " /usr/local/lib/python3.7/dist-packages/torch/nn/modules/module.py:974: UserWarning:Using a non-full backward hook when the forward contains multiple autograd Nodes is deprecated and will be removed in future versions. This hook will be missing some grad_input. Please use register_full_backward_hook to get the documented behavior.\n"
          ],
          "name": "stderr"
        },
        {
          "output_type": "stream",
          "text": [
            "Epoch:    0, Train loss =  173.229\n",
            "Epoch:   50, Train loss = 1140.646\n",
            "Epoch:  100, Train loss =  -35.170\n",
            "Epoch:  150, Train loss =    3.685\n",
            "Epoch:  200, Train loss =   21.171\n"
          ],
          "name": "stdout"
        },
        {
          "output_type": "stream",
          "text": [
            " /usr/local/lib/python3.7/dist-packages/opacus/privacy_engine.py:646: UserWarning:A ``sample_rate`` has been provided.Thus, the provided ``batch_size``and ``sample_size`` will be ignored.\n",
            " /usr/local/lib/python3.7/dist-packages/opacus/privacy_engine.py:230: UserWarning:Secure RNG turned off. This is perfectly fine for experimentation as it allows for much faster training performance, but remember to turn it on and retrain one last time before production with ``secure_rng`` turned on.\n",
            " /usr/local/lib/python3.7/dist-packages/torch/nn/modules/module.py:974: UserWarning:Using a non-full backward hook when the forward contains multiple autograd Nodes is deprecated and will be removed in future versions. This hook will be missing some grad_input. Please use register_full_backward_hook to get the documented behavior.\n"
          ],
          "name": "stderr"
        },
        {
          "output_type": "stream",
          "text": [
            "Epoch:    0, Train loss =  147.834\n",
            "Epoch:   50, Train loss =   47.296\n",
            "Epoch:  100, Train loss =  118.928\n",
            "Epoch:  150, Train loss =   -3.778\n",
            "Epoch:  200, Train loss =    7.373\n"
          ],
          "name": "stdout"
        },
        {
          "output_type": "stream",
          "text": [
            " /usr/local/lib/python3.7/dist-packages/opacus/privacy_engine.py:646: UserWarning:A ``sample_rate`` has been provided.Thus, the provided ``batch_size``and ``sample_size`` will be ignored.\n",
            " /usr/local/lib/python3.7/dist-packages/opacus/privacy_engine.py:230: UserWarning:Secure RNG turned off. This is perfectly fine for experimentation as it allows for much faster training performance, but remember to turn it on and retrain one last time before production with ``secure_rng`` turned on.\n",
            " /usr/local/lib/python3.7/dist-packages/torch/nn/modules/module.py:974: UserWarning:Using a non-full backward hook when the forward contains multiple autograd Nodes is deprecated and will be removed in future versions. This hook will be missing some grad_input. Please use register_full_backward_hook to get the documented behavior.\n"
          ],
          "name": "stderr"
        },
        {
          "output_type": "stream",
          "text": [
            "Epoch:    0, Train loss =  128.733\n",
            "Epoch:   50, Train loss =  -13.534\n",
            "Epoch:  100, Train loss =   -2.300\n",
            "Epoch:  150, Train loss =   10.541\n",
            "Epoch:  200, Train loss =  224.708\n"
          ],
          "name": "stdout"
        },
        {
          "output_type": "stream",
          "text": [
            " /usr/local/lib/python3.7/dist-packages/opacus/privacy_engine.py:646: UserWarning:A ``sample_rate`` has been provided.Thus, the provided ``batch_size``and ``sample_size`` will be ignored.\n",
            " /usr/local/lib/python3.7/dist-packages/opacus/privacy_engine.py:230: UserWarning:Secure RNG turned off. This is perfectly fine for experimentation as it allows for much faster training performance, but remember to turn it on and retrain one last time before production with ``secure_rng`` turned on.\n",
            " /usr/local/lib/python3.7/dist-packages/torch/nn/modules/module.py:974: UserWarning:Using a non-full backward hook when the forward contains multiple autograd Nodes is deprecated and will be removed in future versions. This hook will be missing some grad_input. Please use register_full_backward_hook to get the documented behavior.\n"
          ],
          "name": "stderr"
        },
        {
          "output_type": "stream",
          "text": [
            "Epoch:    0, Train loss =  109.097\n",
            "Epoch:   50, Train loss =   27.591\n",
            "Epoch:  100, Train loss =   24.957\n",
            "Epoch:  150, Train loss =  265.813\n",
            "Epoch:  200, Train loss =   74.477\n"
          ],
          "name": "stdout"
        },
        {
          "output_type": "stream",
          "text": [
            " /usr/local/lib/python3.7/dist-packages/opacus/privacy_engine.py:646: UserWarning:A ``sample_rate`` has been provided.Thus, the provided ``batch_size``and ``sample_size`` will be ignored.\n",
            " /usr/local/lib/python3.7/dist-packages/opacus/privacy_engine.py:230: UserWarning:Secure RNG turned off. This is perfectly fine for experimentation as it allows for much faster training performance, but remember to turn it on and retrain one last time before production with ``secure_rng`` turned on.\n",
            " /usr/local/lib/python3.7/dist-packages/torch/nn/modules/module.py:974: UserWarning:Using a non-full backward hook when the forward contains multiple autograd Nodes is deprecated and will be removed in future versions. This hook will be missing some grad_input. Please use register_full_backward_hook to get the documented behavior.\n"
          ],
          "name": "stderr"
        },
        {
          "output_type": "stream",
          "text": [
            "Epoch:    0, Train loss =   88.412\n",
            "Epoch:   50, Train loss =  256.049\n",
            "Epoch:  100, Train loss =  131.086\n",
            "Epoch:  150, Train loss =   14.957\n",
            "Epoch:  200, Train loss =   81.297\n"
          ],
          "name": "stdout"
        },
        {
          "output_type": "stream",
          "text": [
            " /usr/local/lib/python3.7/dist-packages/opacus/privacy_engine.py:646: UserWarning:A ``sample_rate`` has been provided.Thus, the provided ``batch_size``and ``sample_size`` will be ignored.\n",
            " /usr/local/lib/python3.7/dist-packages/opacus/privacy_engine.py:230: UserWarning:Secure RNG turned off. This is perfectly fine for experimentation as it allows for much faster training performance, but remember to turn it on and retrain one last time before production with ``secure_rng`` turned on.\n",
            " /usr/local/lib/python3.7/dist-packages/torch/nn/modules/module.py:974: UserWarning:Using a non-full backward hook when the forward contains multiple autograd Nodes is deprecated and will be removed in future versions. This hook will be missing some grad_input. Please use register_full_backward_hook to get the documented behavior.\n"
          ],
          "name": "stderr"
        },
        {
          "output_type": "stream",
          "text": [
            "Epoch:    0, Train loss =  103.715\n",
            "Epoch:   50, Train loss =  106.804\n",
            "Epoch:  100, Train loss =   37.088\n",
            "Epoch:  150, Train loss =  152.145\n",
            "Epoch:  200, Train loss =  146.847\n"
          ],
          "name": "stdout"
        },
        {
          "output_type": "stream",
          "text": [
            " /usr/local/lib/python3.7/dist-packages/opacus/privacy_engine.py:646: UserWarning:A ``sample_rate`` has been provided.Thus, the provided ``batch_size``and ``sample_size`` will be ignored.\n",
            " /usr/local/lib/python3.7/dist-packages/opacus/privacy_engine.py:230: UserWarning:Secure RNG turned off. This is perfectly fine for experimentation as it allows for much faster training performance, but remember to turn it on and retrain one last time before production with ``secure_rng`` turned on.\n",
            " /usr/local/lib/python3.7/dist-packages/torch/nn/modules/module.py:974: UserWarning:Using a non-full backward hook when the forward contains multiple autograd Nodes is deprecated and will be removed in future versions. This hook will be missing some grad_input. Please use register_full_backward_hook to get the documented behavior.\n"
          ],
          "name": "stderr"
        },
        {
          "output_type": "stream",
          "text": [
            "Epoch:    0, Train loss =   97.937\n",
            "Epoch:   50, Train loss =  148.834\n",
            "Epoch:  100, Train loss =   71.968\n",
            "Epoch:  150, Train loss =   99.570\n",
            "Epoch:  200, Train loss =  153.151\n"
          ],
          "name": "stdout"
        },
        {
          "output_type": "stream",
          "text": [
            " /usr/local/lib/python3.7/dist-packages/opacus/privacy_engine.py:646: UserWarning:A ``sample_rate`` has been provided.Thus, the provided ``batch_size``and ``sample_size`` will be ignored.\n",
            " /usr/local/lib/python3.7/dist-packages/opacus/privacy_engine.py:230: UserWarning:Secure RNG turned off. This is perfectly fine for experimentation as it allows for much faster training performance, but remember to turn it on and retrain one last time before production with ``secure_rng`` turned on.\n",
            " /usr/local/lib/python3.7/dist-packages/torch/nn/modules/module.py:974: UserWarning:Using a non-full backward hook when the forward contains multiple autograd Nodes is deprecated and will be removed in future versions. This hook will be missing some grad_input. Please use register_full_backward_hook to get the documented behavior.\n"
          ],
          "name": "stderr"
        },
        {
          "output_type": "stream",
          "text": [
            "Epoch:    0, Train loss =  166.457\n",
            "Epoch:   50, Train loss =  105.654\n",
            "Epoch:  100, Train loss =   67.137\n",
            "Epoch:  150, Train loss =   63.787\n",
            "Epoch:  200, Train loss =   33.960\n"
          ],
          "name": "stdout"
        },
        {
          "output_type": "stream",
          "text": [
            " /usr/local/lib/python3.7/dist-packages/opacus/privacy_engine.py:646: UserWarning:A ``sample_rate`` has been provided.Thus, the provided ``batch_size``and ``sample_size`` will be ignored.\n",
            " /usr/local/lib/python3.7/dist-packages/opacus/privacy_engine.py:230: UserWarning:Secure RNG turned off. This is perfectly fine for experimentation as it allows for much faster training performance, but remember to turn it on and retrain one last time before production with ``secure_rng`` turned on.\n",
            " /usr/local/lib/python3.7/dist-packages/torch/nn/modules/module.py:974: UserWarning:Using a non-full backward hook when the forward contains multiple autograd Nodes is deprecated and will be removed in future versions. This hook will be missing some grad_input. Please use register_full_backward_hook to get the documented behavior.\n"
          ],
          "name": "stderr"
        },
        {
          "output_type": "stream",
          "text": [
            "Epoch:    0, Train loss =  101.939\n",
            "Epoch:   50, Train loss =  345.121\n",
            "Epoch:  100, Train loss =  509.707\n",
            "Epoch:  150, Train loss =  110.702\n",
            "Epoch:  200, Train loss =   35.407\n"
          ],
          "name": "stdout"
        },
        {
          "output_type": "stream",
          "text": [
            " /usr/local/lib/python3.7/dist-packages/opacus/privacy_engine.py:646: UserWarning:A ``sample_rate`` has been provided.Thus, the provided ``batch_size``and ``sample_size`` will be ignored.\n",
            " /usr/local/lib/python3.7/dist-packages/opacus/privacy_engine.py:230: UserWarning:Secure RNG turned off. This is perfectly fine for experimentation as it allows for much faster training performance, but remember to turn it on and retrain one last time before production with ``secure_rng`` turned on.\n",
            " /usr/local/lib/python3.7/dist-packages/torch/nn/modules/module.py:974: UserWarning:Using a non-full backward hook when the forward contains multiple autograd Nodes is deprecated and will be removed in future versions. This hook will be missing some grad_input. Please use register_full_backward_hook to get the documented behavior.\n"
          ],
          "name": "stderr"
        },
        {
          "output_type": "stream",
          "text": [
            "Epoch:    0, Train loss =   94.653\n",
            "Epoch:   50, Train loss =   60.737\n",
            "Epoch:  100, Train loss =  -51.720\n",
            "Epoch:  150, Train loss =  163.913\n",
            "Epoch:  200, Train loss =   23.949\n"
          ],
          "name": "stdout"
        },
        {
          "output_type": "stream",
          "text": [
            " /usr/local/lib/python3.7/dist-packages/opacus/privacy_engine.py:646: UserWarning:A ``sample_rate`` has been provided.Thus, the provided ``batch_size``and ``sample_size`` will be ignored.\n",
            " /usr/local/lib/python3.7/dist-packages/opacus/privacy_engine.py:230: UserWarning:Secure RNG turned off. This is perfectly fine for experimentation as it allows for much faster training performance, but remember to turn it on and retrain one last time before production with ``secure_rng`` turned on.\n",
            " /usr/local/lib/python3.7/dist-packages/torch/nn/modules/module.py:974: UserWarning:Using a non-full backward hook when the forward contains multiple autograd Nodes is deprecated and will be removed in future versions. This hook will be missing some grad_input. Please use register_full_backward_hook to get the documented behavior.\n"
          ],
          "name": "stderr"
        },
        {
          "output_type": "stream",
          "text": [
            "Epoch:    0, Train loss =  100.546\n",
            "Epoch:   50, Train loss =   65.183\n",
            "Epoch:  100, Train loss =  236.580\n",
            "Epoch:  150, Train loss =  170.371\n",
            "Epoch:  200, Train loss =   67.713\n"
          ],
          "name": "stdout"
        },
        {
          "output_type": "stream",
          "text": [
            " /usr/local/lib/python3.7/dist-packages/opacus/privacy_engine.py:646: UserWarning:A ``sample_rate`` has been provided.Thus, the provided ``batch_size``and ``sample_size`` will be ignored.\n",
            " /usr/local/lib/python3.7/dist-packages/opacus/privacy_engine.py:230: UserWarning:Secure RNG turned off. This is perfectly fine for experimentation as it allows for much faster training performance, but remember to turn it on and retrain one last time before production with ``secure_rng`` turned on.\n",
            " /usr/local/lib/python3.7/dist-packages/torch/nn/modules/module.py:974: UserWarning:Using a non-full backward hook when the forward contains multiple autograd Nodes is deprecated and will be removed in future versions. This hook will be missing some grad_input. Please use register_full_backward_hook to get the documented behavior.\n"
          ],
          "name": "stderr"
        },
        {
          "output_type": "stream",
          "text": [
            "Epoch:    0, Train loss =   70.436\n",
            "Epoch:   50, Train loss =   36.061\n",
            "Epoch:  100, Train loss =   50.817\n",
            "Epoch:  150, Train loss =  -14.123\n",
            "Epoch:  200, Train loss =  187.459\n"
          ],
          "name": "stdout"
        },
        {
          "output_type": "stream",
          "text": [
            " /usr/local/lib/python3.7/dist-packages/opacus/privacy_engine.py:646: UserWarning:A ``sample_rate`` has been provided.Thus, the provided ``batch_size``and ``sample_size`` will be ignored.\n",
            " /usr/local/lib/python3.7/dist-packages/opacus/privacy_engine.py:230: UserWarning:Secure RNG turned off. This is perfectly fine for experimentation as it allows for much faster training performance, but remember to turn it on and retrain one last time before production with ``secure_rng`` turned on.\n",
            " /usr/local/lib/python3.7/dist-packages/torch/nn/modules/module.py:974: UserWarning:Using a non-full backward hook when the forward contains multiple autograd Nodes is deprecated and will be removed in future versions. This hook will be missing some grad_input. Please use register_full_backward_hook to get the documented behavior.\n"
          ],
          "name": "stderr"
        },
        {
          "output_type": "stream",
          "text": [
            "Epoch:    0, Train loss =   98.629\n",
            "Epoch:   50, Train loss =  101.678\n",
            "Epoch:  100, Train loss =   99.767\n",
            "Epoch:  150, Train loss =  126.301\n",
            "Epoch:  200, Train loss =  267.256\n",
            "[0.5591582784238387, 0.6463556174110711, 0.47465668192602917, 0.5595836060736236, 0.7353491688271475, 0.7036338409786606, 0.6744924087158123, 0.47335565238396027, 0.5335592892034159, 0.36153918558833265, 0.4565184393422906, 0.4839785530566475, 0.49608448048866965, 0.6212603097081199, 0.6329991905560236, 0.6607787641364467, 0.44963941233928245, 0.5134331382461689, 0.48077166613866806, 0.49202027405663123] 0.5234962137247924\n"
          ],
          "name": "stdout"
        }
      ]
    },
    {
      "cell_type": "markdown",
      "metadata": {
        "id": "0aIrQPMwCgeA"
      },
      "source": [
        "## DP Version"
      ]
    },
    {
      "cell_type": "code",
      "metadata": {
        "id": "i5_Xv6nyCmg7"
      },
      "source": [
        "class Langevin_SGD(Optimizer):\n",
        "\n",
        "    def __init__(self, params, lr, weight_decay=0, nesterov=False):\n",
        "        if lr < 0.0:\n",
        "            raise ValueError(\"Invalid learning rate: {}\".format(lr))\n",
        "        if weight_decay < 0.0:\n",
        "            raise ValueError(\"Invalid weight_decay value: {}\".format(weight_decay))\n",
        "\n",
        "        defaults = dict(lr=lr, weight_decay=weight_decay)\n",
        "        \n",
        "        super(Langevin_SGD, self).__init__(params, defaults)\n",
        "\n",
        "    def __setstate__(self, state):\n",
        "        super(SGD, self).__setstate__(state)\n",
        "        for group in self.param_groups:\n",
        "            group.setdefault('nesterov', False)\n",
        "\n",
        "    def step(self, closure=None):\n",
        "        \n",
        "        loss = None\n",
        "        if closure is not None:\n",
        "            loss = closure()\n",
        "\n",
        "        for group in self.param_groups:\n",
        "            \n",
        "            weight_decay = group['weight_decay']\n",
        "            \n",
        "            for p in group['params']:\n",
        "                if p.grad is None:\n",
        "                    continue\n",
        "                d_p = p.grad.data\n",
        "                \n",
        "                if len(p.shape) == 1 and p.shape[0] == 1:\n",
        "                    p.data.add_(-group['lr'], d_p)\n",
        "                    \n",
        "                else:\n",
        "                    if weight_decay != 0:\n",
        "                        d_p.add_(weight_decay, p.data)\n",
        "\n",
        "                    unit_noise = Variable(p.data.new(p.size()).normal_())\n",
        "\n",
        "                    p.data.add_(-group['lr'], 0.5*d_p + unit_noise/group['lr']**0.5)\n",
        "\n",
        "        return loss"
      ],
      "execution_count": null,
      "outputs": []
    },
    {
      "cell_type": "code",
      "metadata": {
        "colab": {
          "base_uri": "https://localhost:8080/"
        },
        "id": "dzgTr0nSEXni",
        "outputId": "5b406c4c-f6d9-47d1-8cd1-db569fe2b9ed"
      },
      "source": [
        "!pip install opacus\n",
        "from opacus import PrivacyEngine"
      ],
      "execution_count": null,
      "outputs": [
        {
          "output_type": "stream",
          "text": [
            "Requirement already satisfied: opacus in /usr/local/lib/python3.7/dist-packages (0.14.0)\n",
            "Requirement already satisfied: scipy>=1.2 in /usr/local/lib/python3.7/dist-packages (from opacus) (1.4.1)\n",
            "Requirement already satisfied: numpy>=1.15 in /usr/local/lib/python3.7/dist-packages (from opacus) (1.19.5)\n",
            "Requirement already satisfied: torch>=1.3 in /usr/local/lib/python3.7/dist-packages (from opacus) (1.9.0+cu102)\n",
            "Requirement already satisfied: typing-extensions in /usr/local/lib/python3.7/dist-packages (from torch>=1.3->opacus) (3.7.4.3)\n"
          ],
          "name": "stdout"
        }
      ]
    },
    {
      "cell_type": "code",
      "metadata": {
        "id": "i2SqWhNgDG0Z"
      },
      "source": [
        "class Langevin_Wrapper:\n",
        "    def __init__(self, network, learn_rate, batch_size, no_batches, weight_decay):\n",
        "        \n",
        "        self.learn_rate = learn_rate\n",
        "        self.batch_size = batch_size\n",
        "        self.no_batches = no_batches\n",
        "        \n",
        "        self.network = network\n",
        "        self.network.cuda()\n",
        "        \n",
        "        self.optimizer = Langevin_SGD(self.network.parameters(), lr=self.learn_rate, weight_decay=weight_decay)\n",
        "        privacy_engine = PrivacyEngine(\n",
        "                self.network,\n",
        "                sample_rate=batch_size/250,\n",
        "                alphas=[1 + x / 10.0 for x in range(1, 100)] + list(range(12, 64)),\n",
        "                noise_multiplier=noise_multiplier,\n",
        "                max_grad_norm=2/self.learn_rate/noise_multiplier)\n",
        "\n",
        "        # clipping_norm = 100\n",
        "        # self.optimizer = torch.optim.SGD(self.network.parameters(), lr=self.learn_rate, weight_decay=weight_decay)\n",
        "        # privacy_engine = PrivacyEngine(\n",
        "        #         self.network,\n",
        "        #         sample_rate=batch_size/250,\n",
        "        #         alphas=[1 + x / 10.0 for x in range(1, 100)] + list(range(12, 64)),\n",
        "        #         noise_multiplier=1/np.sqrt(self.learn_rate/self.batch_size)/clipping_norm,\n",
        "        #         max_grad_norm=clipping_norm)\n",
        "\n",
        "        privacy_engine.attach(self.optimizer)\n",
        "\n",
        "        self.loss_func = log_gaussian_loss\n",
        "    \n",
        "    def fit(self, x, y):\n",
        "        x, y = to_variable(var=(x, y), cuda=True)\n",
        "        \n",
        "        # reset gradient and total loss\n",
        "        self.optimizer.zero_grad()\n",
        "        \n",
        "        output = self.network(x)\n",
        "        loss = self.loss_func(output[:, :1], y, output[:, 1:].exp(), 1)\n",
        "        \n",
        "        loss.backward()\n",
        "        self.optimizer.step()\n",
        "\n",
        "        return loss,output[:, :1]\n",
        "    \n",
        "    \n",
        "    def test_loss(self, x, y):\n",
        "        x, y = to_variable(var=(x, y), cuda=True)\n",
        "        \n",
        "        output = self.network(x)\n",
        "        loss = self.loss_func(output[:, :1], y, output[:, 1:].exp(), 1)\n",
        "\n",
        "        return loss"
      ],
      "execution_count": null,
      "outputs": []
    },
    {
      "cell_type": "code",
      "metadata": {
        "colab": {
          "base_uri": "https://localhost:8080/",
          "height": 1000
        },
        "id": "2Qy5NbYQEkGL",
        "outputId": "785c3321-1523-44f9-ff0c-5a9dc4e10551"
      },
      "source": [
        "np.random.seed(5)\n",
        "average_mse = []\n",
        "for iter in range(20):\n",
        "  no_points = 400\n",
        "  lengthscale = 1\n",
        "  variance = 1.0\n",
        "  sig_noise = 0.3\n",
        "  x = np.random.uniform(-3, 3, no_points)[:, None]\n",
        "  x.sort(axis=0)\n",
        "\n",
        "\n",
        "  k = GPy.kern.RBF(input_dim=1, variance=variance, lengthscale=lengthscale)\n",
        "  C = k.K(x, x) + np.eye(no_points)*(x + 2)**2*sig_noise**2\n",
        "\n",
        "  y = np.random.multivariate_normal(np.zeros((no_points)), C)[:, None]\n",
        "  y = (y - y.mean())\n",
        "  x_train = x[75:325]\n",
        "  y_train = y[75:325]\n",
        "\n",
        "\n",
        "  best_net, best_loss = None, float('inf')\n",
        "  num_nets, nets, losses = 1, [], []\n",
        "  mix_epochs, burnin_epochs = 50, 150\n",
        "  num_epochs = mix_epochs*num_nets + burnin_epochs + 1\n",
        "\n",
        "  batch_size, nb_train = len(x_train), len(x_train)\n",
        "  noise_multiplier=10\n",
        "  net = Langevin_Wrapper(network=Langevin_Model(input_dim=1, output_dim=1, num_units=200),learn_rate=2.5e-4, batch_size=batch_size, no_batches=1, weight_decay=50)\n",
        "  \n",
        "  for i in range(num_epochs):\n",
        "      \n",
        "      loss,y_hat = net.fit(x_train, y_train)\n",
        "      \n",
        "      if i % mix_epochs == 0:\n",
        "          print('Epoch: %4d, Train loss = %8.3f' % (i, loss.cpu().data.numpy()))\n",
        "          \n",
        "      if i % 100 == 0 and i > burnin_epochs: nets.append(copy.deepcopy(net.network))\n",
        "  average_mse.append(np.power((y_hat.cpu().data.numpy()-y_train),2).mean())\n",
        "  if iter==0:\n",
        "      print(\"Using %d networks for prediction\" % len(nets))\n",
        "      samples = []\n",
        "      noises = []\n",
        "      for network in nets:\n",
        "          preds = network.forward(torch.linspace(-5, 5, 200).cuda()).cpu().data.numpy()\n",
        "          samples.append(preds[:, 0])\n",
        "          noises.append(np.exp(preds[:, 1]))\n",
        "          \n",
        "      samples = np.array(samples)\n",
        "\n",
        "      means = (samples.mean(axis = 0)).reshape(-1)\n",
        "      noises = np.array(noises)\n",
        "      aleatoric = (noises**2).mean(axis = 0)**0.5\n",
        "      epistemic = samples.var(axis = 0)**0.5\n",
        "      total_unc = (aleatoric**2 + epistemic**2)**0.5\n",
        "\n",
        "      c = ['#1f77b4', '#ff7f0e', '#2ca02c', '#d62728', '#9467bd',\n",
        "          '#8c564b', '#e377c2', '#7f7f7f', '#bcbd22', '#17becf']\n",
        "\n",
        "      plt.figure(figsize = (6, 5))\n",
        "      plt.style.use('default')\n",
        "      plt.scatter(x_train, y_train, s = 10, marker = 'x', color = 'black', alpha = 0.5)\n",
        "      plt.fill_between(np.linspace(-5, 5, 200), means + aleatoric, means + total_unc, color = c[0], alpha = 0.3, label = 'Epistemic + Aleatoric')\n",
        "      plt.fill_between(np.linspace(-5, 5, 200), means - total_unc, means - aleatoric, color = c[0], alpha = 0.3)\n",
        "      plt.fill_between(np.linspace(-5, 5, 200), means - aleatoric, means + aleatoric, color = c[1], alpha = 0.4, label = 'Aleatoric')\n",
        "      plt.plot(np.linspace(-5, 5, 200), means, color = 'black', linewidth = 1)\n",
        "      plt.xlim([-5, 5])\n",
        "      plt.ylim([-5, 7])\n",
        "      plt.xlabel('$x$', fontsize=16)\n",
        "      plt.ylabel('$y$', fontsize=16)\n",
        "      #plt.tick_params(labelsize=30)\n",
        "      plt.xticks(np.arange(-4, 5, 2),fontsize=14)\n",
        "      plt.yticks(np.arange(-4, 7, 2),fontsize=14)\n",
        "      #plt.gca().set_yticklabels([])\n",
        "      plt.gca().yaxis.grid(alpha=0.3)\n",
        "      plt.gca().xaxis.grid(alpha=0.3)\n",
        "      plt.savefig('dpsgld_hetero.pdf', bbox_inches = 'tight')\n",
        "\n",
        "      #files.download(\"dpsgld_hetero.pdf\")\n",
        "\n",
        "      plt.show()\n",
        "\n",
        "print(average_mse,np.median(average_mse))"
      ],
      "execution_count": null,
      "outputs": [
        {
          "output_type": "stream",
          "text": [
            " /usr/local/lib/python3.7/dist-packages/opacus/privacy_engine.py:646: UserWarning:A ``sample_rate`` has been provided.Thus, the provided ``batch_size``and ``sample_size`` will be ignored.\n",
            " /usr/local/lib/python3.7/dist-packages/opacus/privacy_engine.py:230: UserWarning:Secure RNG turned off. This is perfectly fine for experimentation as it allows for much faster training performance, but remember to turn it on and retrain one last time before production with ``secure_rng`` turned on.\n",
            " /usr/local/lib/python3.7/dist-packages/torch/nn/modules/module.py:974: UserWarning:Using a non-full backward hook when the forward contains multiple autograd Nodes is deprecated and will be removed in future versions. This hook will be missing some grad_input. Please use register_full_backward_hook to get the documented behavior.\n"
          ],
          "name": "stderr"
        },
        {
          "output_type": "stream",
          "text": [
            "Epoch:    0, Train loss =  149.608\n",
            "Epoch:   50, Train loss =  130.751\n",
            "Epoch:  100, Train loss =  112.261\n",
            "Epoch:  150, Train loss =   98.225\n",
            "Epoch:  200, Train loss =  178.389\n",
            "Using 1 networks for prediction\n"
          ],
          "name": "stdout"
        },
        {
          "output_type": "display_data",
          "data": {
            "text/plain": [
              "<Figure size 600x500 with 1 Axes>"
            ],
            "image/svg+xml": "<?xml version=\"1.0\" encoding=\"utf-8\" standalone=\"no\"?>\n<!DOCTYPE svg PUBLIC \"-//W3C//DTD SVG 1.1//EN\"\n  \"http://www.w3.org/Graphics/SVG/1.1/DTD/svg11.dtd\">\n<!-- Created with matplotlib (https://matplotlib.org/) -->\n<svg height=\"331.634375pt\" version=\"1.1\" viewBox=\"0 0 396.324063 331.634375\" width=\"396.324063pt\" xmlns=\"http://www.w3.org/2000/svg\" xmlns:xlink=\"http://www.w3.org/1999/xlink\">\n <defs>\n  <style type=\"text/css\">\n*{stroke-linecap:butt;stroke-linejoin:round;}\n  </style>\n </defs>\n <g id=\"figure_1\">\n  <g id=\"patch_1\">\n   <path d=\"M 0 331.634375 \nL 396.324063 331.634375 \nL 396.324063 0 \nL 0 0 \nz\n\" style=\"fill:#ffffff;\"/>\n  </g>\n  <g id=\"axes_1\">\n   <g id=\"patch_2\">\n    <path d=\"M 54.324063 284.4 \nL 389.124063 284.4 \nL 389.124063 7.2 \nL 54.324063 7.2 \nz\n\" style=\"fill:#ffffff;\"/>\n   </g>\n   <g id=\"PathCollection_1\">\n    <defs>\n     <path d=\"M -1.581139 1.581139 \nL 1.581139 -1.581139 \nM -1.581139 -1.581139 \nL 1.581139 1.581139 \n\" id=\"mb50882704d\" style=\"stroke:#000000;stroke-opacity:0.5;stroke-width:1.5;\"/>\n    </defs>\n    <g clip-path=\"url(#pe0488430e2)\">\n     <use style=\"fill-opacity:0.5;stroke:#000000;stroke-opacity:0.5;stroke-width:1.5;\" x=\"162.766321\" xlink:href=\"#mb50882704d\" y=\"186.474353\"/>\n     <use style=\"fill-opacity:0.5;stroke:#000000;stroke-opacity:0.5;stroke-width:1.5;\" x=\"162.809806\" xlink:href=\"#mb50882704d\" y=\"188.470501\"/>\n     <use style=\"fill-opacity:0.5;stroke:#000000;stroke-opacity:0.5;stroke-width:1.5;\" x=\"162.975168\" xlink:href=\"#mb50882704d\" y=\"186.858613\"/>\n     <use style=\"fill-opacity:0.5;stroke:#000000;stroke-opacity:0.5;stroke-width:1.5;\" x=\"163.698067\" xlink:href=\"#mb50882704d\" y=\"186.611183\"/>\n     <use style=\"fill-opacity:0.5;stroke:#000000;stroke-opacity:0.5;stroke-width:1.5;\" x=\"164.080535\" xlink:href=\"#mb50882704d\" y=\"185.95654\"/>\n     <use style=\"fill-opacity:0.5;stroke:#000000;stroke-opacity:0.5;stroke-width:1.5;\" x=\"165.175897\" xlink:href=\"#mb50882704d\" y=\"185.301945\"/>\n     <use style=\"fill-opacity:0.5;stroke:#000000;stroke-opacity:0.5;stroke-width:1.5;\" x=\"165.212848\" xlink:href=\"#mb50882704d\" y=\"191.241443\"/>\n     <use style=\"fill-opacity:0.5;stroke:#000000;stroke-opacity:0.5;stroke-width:1.5;\" x=\"165.532307\" xlink:href=\"#mb50882704d\" y=\"184.277114\"/>\n     <use style=\"fill-opacity:0.5;stroke:#000000;stroke-opacity:0.5;stroke-width:1.5;\" x=\"165.775519\" xlink:href=\"#mb50882704d\" y=\"186.858444\"/>\n     <use style=\"fill-opacity:0.5;stroke:#000000;stroke-opacity:0.5;stroke-width:1.5;\" x=\"165.878051\" xlink:href=\"#mb50882704d\" y=\"184.920269\"/>\n     <use style=\"fill-opacity:0.5;stroke:#000000;stroke-opacity:0.5;stroke-width:1.5;\" x=\"166.218523\" xlink:href=\"#mb50882704d\" y=\"186.596162\"/>\n     <use style=\"fill-opacity:0.5;stroke:#000000;stroke-opacity:0.5;stroke-width:1.5;\" x=\"167.693946\" xlink:href=\"#mb50882704d\" y=\"185.609247\"/>\n     <use style=\"fill-opacity:0.5;stroke:#000000;stroke-opacity:0.5;stroke-width:1.5;\" x=\"168.624174\" xlink:href=\"#mb50882704d\" y=\"176.287675\"/>\n     <use style=\"fill-opacity:0.5;stroke:#000000;stroke-opacity:0.5;stroke-width:1.5;\" x=\"169.423034\" xlink:href=\"#mb50882704d\" y=\"182.659116\"/>\n     <use style=\"fill-opacity:0.5;stroke:#000000;stroke-opacity:0.5;stroke-width:1.5;\" x=\"169.868709\" xlink:href=\"#mb50882704d\" y=\"183.779569\"/>\n     <use style=\"fill-opacity:0.5;stroke:#000000;stroke-opacity:0.5;stroke-width:1.5;\" x=\"169.918652\" xlink:href=\"#mb50882704d\" y=\"188.05034\"/>\n     <use style=\"fill-opacity:0.5;stroke:#000000;stroke-opacity:0.5;stroke-width:1.5;\" x=\"170.357212\" xlink:href=\"#mb50882704d\" y=\"185.706423\"/>\n     <use style=\"fill-opacity:0.5;stroke:#000000;stroke-opacity:0.5;stroke-width:1.5;\" x=\"170.626417\" xlink:href=\"#mb50882704d\" y=\"189.278576\"/>\n     <use style=\"fill-opacity:0.5;stroke:#000000;stroke-opacity:0.5;stroke-width:1.5;\" x=\"171.754181\" xlink:href=\"#mb50882704d\" y=\"176.557464\"/>\n     <use style=\"fill-opacity:0.5;stroke:#000000;stroke-opacity:0.5;stroke-width:1.5;\" x=\"172.224861\" xlink:href=\"#mb50882704d\" y=\"175.58798\"/>\n     <use style=\"fill-opacity:0.5;stroke:#000000;stroke-opacity:0.5;stroke-width:1.5;\" x=\"172.988034\" xlink:href=\"#mb50882704d\" y=\"181.535598\"/>\n     <use style=\"fill-opacity:0.5;stroke:#000000;stroke-opacity:0.5;stroke-width:1.5;\" x=\"173.148543\" xlink:href=\"#mb50882704d\" y=\"179.245545\"/>\n     <use style=\"fill-opacity:0.5;stroke:#000000;stroke-opacity:0.5;stroke-width:1.5;\" x=\"173.331588\" xlink:href=\"#mb50882704d\" y=\"178.747641\"/>\n     <use style=\"fill-opacity:0.5;stroke:#000000;stroke-opacity:0.5;stroke-width:1.5;\" x=\"174.364267\" xlink:href=\"#mb50882704d\" y=\"180.350961\"/>\n     <use style=\"fill-opacity:0.5;stroke:#000000;stroke-opacity:0.5;stroke-width:1.5;\" x=\"174.539895\" xlink:href=\"#mb50882704d\" y=\"177.063499\"/>\n     <use style=\"fill-opacity:0.5;stroke:#000000;stroke-opacity:0.5;stroke-width:1.5;\" x=\"174.563514\" xlink:href=\"#mb50882704d\" y=\"181.780912\"/>\n     <use style=\"fill-opacity:0.5;stroke:#000000;stroke-opacity:0.5;stroke-width:1.5;\" x=\"174.681807\" xlink:href=\"#mb50882704d\" y=\"180.700013\"/>\n     <use style=\"fill-opacity:0.5;stroke:#000000;stroke-opacity:0.5;stroke-width:1.5;\" x=\"176.342551\" xlink:href=\"#mb50882704d\" y=\"181.88653\"/>\n     <use style=\"fill-opacity:0.5;stroke:#000000;stroke-opacity:0.5;stroke-width:1.5;\" x=\"176.492798\" xlink:href=\"#mb50882704d\" y=\"176.361755\"/>\n     <use style=\"fill-opacity:0.5;stroke:#000000;stroke-opacity:0.5;stroke-width:1.5;\" x=\"177.160026\" xlink:href=\"#mb50882704d\" y=\"173.067936\"/>\n     <use style=\"fill-opacity:0.5;stroke:#000000;stroke-opacity:0.5;stroke-width:1.5;\" x=\"177.325097\" xlink:href=\"#mb50882704d\" y=\"176.347715\"/>\n     <use style=\"fill-opacity:0.5;stroke:#000000;stroke-opacity:0.5;stroke-width:1.5;\" x=\"178.471762\" xlink:href=\"#mb50882704d\" y=\"173.874377\"/>\n     <use style=\"fill-opacity:0.5;stroke:#000000;stroke-opacity:0.5;stroke-width:1.5;\" x=\"178.571235\" xlink:href=\"#mb50882704d\" y=\"175.38302\"/>\n     <use style=\"fill-opacity:0.5;stroke:#000000;stroke-opacity:0.5;stroke-width:1.5;\" x=\"180.037537\" xlink:href=\"#mb50882704d\" y=\"171.90254\"/>\n     <use style=\"fill-opacity:0.5;stroke:#000000;stroke-opacity:0.5;stroke-width:1.5;\" x=\"180.513635\" xlink:href=\"#mb50882704d\" y=\"178.325526\"/>\n     <use style=\"fill-opacity:0.5;stroke:#000000;stroke-opacity:0.5;stroke-width:1.5;\" x=\"180.582127\" xlink:href=\"#mb50882704d\" y=\"184.856101\"/>\n     <use style=\"fill-opacity:0.5;stroke:#000000;stroke-opacity:0.5;stroke-width:1.5;\" x=\"180.744026\" xlink:href=\"#mb50882704d\" y=\"175.701818\"/>\n     <use style=\"fill-opacity:0.5;stroke:#000000;stroke-opacity:0.5;stroke-width:1.5;\" x=\"180.760599\" xlink:href=\"#mb50882704d\" y=\"170.548931\"/>\n     <use style=\"fill-opacity:0.5;stroke:#000000;stroke-opacity:0.5;stroke-width:1.5;\" x=\"180.905347\" xlink:href=\"#mb50882704d\" y=\"174.395862\"/>\n     <use style=\"fill-opacity:0.5;stroke:#000000;stroke-opacity:0.5;stroke-width:1.5;\" x=\"181.34374\" xlink:href=\"#mb50882704d\" y=\"176.435081\"/>\n     <use style=\"fill-opacity:0.5;stroke:#000000;stroke-opacity:0.5;stroke-width:1.5;\" x=\"181.647673\" xlink:href=\"#mb50882704d\" y=\"178.603472\"/>\n     <use style=\"fill-opacity:0.5;stroke:#000000;stroke-opacity:0.5;stroke-width:1.5;\" x=\"181.926942\" xlink:href=\"#mb50882704d\" y=\"166.469536\"/>\n     <use style=\"fill-opacity:0.5;stroke:#000000;stroke-opacity:0.5;stroke-width:1.5;\" x=\"182.053901\" xlink:href=\"#mb50882704d\" y=\"167.706484\"/>\n     <use style=\"fill-opacity:0.5;stroke:#000000;stroke-opacity:0.5;stroke-width:1.5;\" x=\"182.662651\" xlink:href=\"#mb50882704d\" y=\"170.551302\"/>\n     <use style=\"fill-opacity:0.5;stroke:#000000;stroke-opacity:0.5;stroke-width:1.5;\" x=\"183.40234\" xlink:href=\"#mb50882704d\" y=\"171.326404\"/>\n     <use style=\"fill-opacity:0.5;stroke:#000000;stroke-opacity:0.5;stroke-width:1.5;\" x=\"185.103679\" xlink:href=\"#mb50882704d\" y=\"164.55677\"/>\n     <use style=\"fill-opacity:0.5;stroke:#000000;stroke-opacity:0.5;stroke-width:1.5;\" x=\"185.293759\" xlink:href=\"#mb50882704d\" y=\"178.060779\"/>\n     <use style=\"fill-opacity:0.5;stroke:#000000;stroke-opacity:0.5;stroke-width:1.5;\" x=\"185.775328\" xlink:href=\"#mb50882704d\" y=\"172.695726\"/>\n     <use style=\"fill-opacity:0.5;stroke:#000000;stroke-opacity:0.5;stroke-width:1.5;\" x=\"187.085108\" xlink:href=\"#mb50882704d\" y=\"161.344532\"/>\n     <use style=\"fill-opacity:0.5;stroke:#000000;stroke-opacity:0.5;stroke-width:1.5;\" x=\"187.625336\" xlink:href=\"#mb50882704d\" y=\"161.4077\"/>\n     <use style=\"fill-opacity:0.5;stroke:#000000;stroke-opacity:0.5;stroke-width:1.5;\" x=\"187.715963\" xlink:href=\"#mb50882704d\" y=\"164.166146\"/>\n     <use style=\"fill-opacity:0.5;stroke:#000000;stroke-opacity:0.5;stroke-width:1.5;\" x=\"187.985895\" xlink:href=\"#mb50882704d\" y=\"182.026139\"/>\n     <use style=\"fill-opacity:0.5;stroke:#000000;stroke-opacity:0.5;stroke-width:1.5;\" x=\"189.24953\" xlink:href=\"#mb50882704d\" y=\"158.119838\"/>\n     <use style=\"fill-opacity:0.5;stroke:#000000;stroke-opacity:0.5;stroke-width:1.5;\" x=\"189.716591\" xlink:href=\"#mb50882704d\" y=\"171.566358\"/>\n     <use style=\"fill-opacity:0.5;stroke:#000000;stroke-opacity:0.5;stroke-width:1.5;\" x=\"190.147341\" xlink:href=\"#mb50882704d\" y=\"156.598023\"/>\n     <use style=\"fill-opacity:0.5;stroke:#000000;stroke-opacity:0.5;stroke-width:1.5;\" x=\"190.410675\" xlink:href=\"#mb50882704d\" y=\"150.26627\"/>\n     <use style=\"fill-opacity:0.5;stroke:#000000;stroke-opacity:0.5;stroke-width:1.5;\" x=\"190.794198\" xlink:href=\"#mb50882704d\" y=\"151.025965\"/>\n     <use style=\"fill-opacity:0.5;stroke:#000000;stroke-opacity:0.5;stroke-width:1.5;\" x=\"191.135898\" xlink:href=\"#mb50882704d\" y=\"169.490221\"/>\n     <use style=\"fill-opacity:0.5;stroke:#000000;stroke-opacity:0.5;stroke-width:1.5;\" x=\"191.256994\" xlink:href=\"#mb50882704d\" y=\"162.10405\"/>\n     <use style=\"fill-opacity:0.5;stroke:#000000;stroke-opacity:0.5;stroke-width:1.5;\" x=\"191.356545\" xlink:href=\"#mb50882704d\" y=\"154.14338\"/>\n     <use style=\"fill-opacity:0.5;stroke:#000000;stroke-opacity:0.5;stroke-width:1.5;\" x=\"191.628136\" xlink:href=\"#mb50882704d\" y=\"154.871793\"/>\n     <use style=\"fill-opacity:0.5;stroke:#000000;stroke-opacity:0.5;stroke-width:1.5;\" x=\"192.012893\" xlink:href=\"#mb50882704d\" y=\"158.159838\"/>\n     <use style=\"fill-opacity:0.5;stroke:#000000;stroke-opacity:0.5;stroke-width:1.5;\" x=\"192.553366\" xlink:href=\"#mb50882704d\" y=\"147.587196\"/>\n     <use style=\"fill-opacity:0.5;stroke:#000000;stroke-opacity:0.5;stroke-width:1.5;\" x=\"192.761501\" xlink:href=\"#mb50882704d\" y=\"151.101855\"/>\n     <use style=\"fill-opacity:0.5;stroke:#000000;stroke-opacity:0.5;stroke-width:1.5;\" x=\"193.597487\" xlink:href=\"#mb50882704d\" y=\"149.513181\"/>\n     <use style=\"fill-opacity:0.5;stroke:#000000;stroke-opacity:0.5;stroke-width:1.5;\" x=\"193.811469\" xlink:href=\"#mb50882704d\" y=\"158.033078\"/>\n     <use style=\"fill-opacity:0.5;stroke:#000000;stroke-opacity:0.5;stroke-width:1.5;\" x=\"194.110635\" xlink:href=\"#mb50882704d\" y=\"168.955005\"/>\n     <use style=\"fill-opacity:0.5;stroke:#000000;stroke-opacity:0.5;stroke-width:1.5;\" x=\"194.32399\" xlink:href=\"#mb50882704d\" y=\"142.475188\"/>\n     <use style=\"fill-opacity:0.5;stroke:#000000;stroke-opacity:0.5;stroke-width:1.5;\" x=\"194.547043\" xlink:href=\"#mb50882704d\" y=\"149.176675\"/>\n     <use style=\"fill-opacity:0.5;stroke:#000000;stroke-opacity:0.5;stroke-width:1.5;\" x=\"194.662806\" xlink:href=\"#mb50882704d\" y=\"147.074923\"/>\n     <use style=\"fill-opacity:0.5;stroke:#000000;stroke-opacity:0.5;stroke-width:1.5;\" x=\"194.672159\" xlink:href=\"#mb50882704d\" y=\"163.16191\"/>\n     <use style=\"fill-opacity:0.5;stroke:#000000;stroke-opacity:0.5;stroke-width:1.5;\" x=\"194.701237\" xlink:href=\"#mb50882704d\" y=\"148.430837\"/>\n     <use style=\"fill-opacity:0.5;stroke:#000000;stroke-opacity:0.5;stroke-width:1.5;\" x=\"195.256596\" xlink:href=\"#mb50882704d\" y=\"152.776275\"/>\n     <use style=\"fill-opacity:0.5;stroke:#000000;stroke-opacity:0.5;stroke-width:1.5;\" x=\"195.782975\" xlink:href=\"#mb50882704d\" y=\"147.055608\"/>\n     <use style=\"fill-opacity:0.5;stroke:#000000;stroke-opacity:0.5;stroke-width:1.5;\" x=\"195.891888\" xlink:href=\"#mb50882704d\" y=\"161.123052\"/>\n     <use style=\"fill-opacity:0.5;stroke:#000000;stroke-opacity:0.5;stroke-width:1.5;\" x=\"195.913517\" xlink:href=\"#mb50882704d\" y=\"132.806104\"/>\n     <use style=\"fill-opacity:0.5;stroke:#000000;stroke-opacity:0.5;stroke-width:1.5;\" x=\"196.098294\" xlink:href=\"#mb50882704d\" y=\"154.674221\"/>\n     <use style=\"fill-opacity:0.5;stroke:#000000;stroke-opacity:0.5;stroke-width:1.5;\" x=\"196.355835\" xlink:href=\"#mb50882704d\" y=\"153.375495\"/>\n     <use style=\"fill-opacity:0.5;stroke:#000000;stroke-opacity:0.5;stroke-width:1.5;\" x=\"196.821374\" xlink:href=\"#mb50882704d\" y=\"144.616826\"/>\n     <use style=\"fill-opacity:0.5;stroke:#000000;stroke-opacity:0.5;stroke-width:1.5;\" x=\"197.432175\" xlink:href=\"#mb50882704d\" y=\"149.758614\"/>\n     <use style=\"fill-opacity:0.5;stroke:#000000;stroke-opacity:0.5;stroke-width:1.5;\" x=\"197.573945\" xlink:href=\"#mb50882704d\" y=\"140.986321\"/>\n     <use style=\"fill-opacity:0.5;stroke:#000000;stroke-opacity:0.5;stroke-width:1.5;\" x=\"197.75447\" xlink:href=\"#mb50882704d\" y=\"151.465375\"/>\n     <use style=\"fill-opacity:0.5;stroke:#000000;stroke-opacity:0.5;stroke-width:1.5;\" x=\"198.303276\" xlink:href=\"#mb50882704d\" y=\"141.328631\"/>\n     <use style=\"fill-opacity:0.5;stroke:#000000;stroke-opacity:0.5;stroke-width:1.5;\" x=\"199.28439\" xlink:href=\"#mb50882704d\" y=\"156.585889\"/>\n     <use style=\"fill-opacity:0.5;stroke:#000000;stroke-opacity:0.5;stroke-width:1.5;\" x=\"201.424095\" xlink:href=\"#mb50882704d\" y=\"160.568159\"/>\n     <use style=\"fill-opacity:0.5;stroke:#000000;stroke-opacity:0.5;stroke-width:1.5;\" x=\"203.058083\" xlink:href=\"#mb50882704d\" y=\"138.315821\"/>\n     <use style=\"fill-opacity:0.5;stroke:#000000;stroke-opacity:0.5;stroke-width:1.5;\" x=\"203.179972\" xlink:href=\"#mb50882704d\" y=\"148.061981\"/>\n     <use style=\"fill-opacity:0.5;stroke:#000000;stroke-opacity:0.5;stroke-width:1.5;\" x=\"203.922803\" xlink:href=\"#mb50882704d\" y=\"143.968545\"/>\n     <use style=\"fill-opacity:0.5;stroke:#000000;stroke-opacity:0.5;stroke-width:1.5;\" x=\"204.495593\" xlink:href=\"#mb50882704d\" y=\"138.996\"/>\n     <use style=\"fill-opacity:0.5;stroke:#000000;stroke-opacity:0.5;stroke-width:1.5;\" x=\"205.383298\" xlink:href=\"#mb50882704d\" y=\"135.078235\"/>\n     <use style=\"fill-opacity:0.5;stroke:#000000;stroke-opacity:0.5;stroke-width:1.5;\" x=\"205.966156\" xlink:href=\"#mb50882704d\" y=\"132.273375\"/>\n     <use style=\"fill-opacity:0.5;stroke:#000000;stroke-opacity:0.5;stroke-width:1.5;\" x=\"206.426971\" xlink:href=\"#mb50882704d\" y=\"153.4158\"/>\n     <use style=\"fill-opacity:0.5;stroke:#000000;stroke-opacity:0.5;stroke-width:1.5;\" x=\"206.78609\" xlink:href=\"#mb50882704d\" y=\"149.073959\"/>\n     <use style=\"fill-opacity:0.5;stroke:#000000;stroke-opacity:0.5;stroke-width:1.5;\" x=\"206.787432\" xlink:href=\"#mb50882704d\" y=\"158.766424\"/>\n     <use style=\"fill-opacity:0.5;stroke:#000000;stroke-opacity:0.5;stroke-width:1.5;\" x=\"208.251159\" xlink:href=\"#mb50882704d\" y=\"118.031632\"/>\n     <use style=\"fill-opacity:0.5;stroke:#000000;stroke-opacity:0.5;stroke-width:1.5;\" x=\"208.343022\" xlink:href=\"#mb50882704d\" y=\"147.94209\"/>\n     <use style=\"fill-opacity:0.5;stroke:#000000;stroke-opacity:0.5;stroke-width:1.5;\" x=\"208.975324\" xlink:href=\"#mb50882704d\" y=\"139.840018\"/>\n     <use style=\"fill-opacity:0.5;stroke:#000000;stroke-opacity:0.5;stroke-width:1.5;\" x=\"209.30343\" xlink:href=\"#mb50882704d\" y=\"144.606783\"/>\n     <use style=\"fill-opacity:0.5;stroke:#000000;stroke-opacity:0.5;stroke-width:1.5;\" x=\"209.92443\" xlink:href=\"#mb50882704d\" y=\"117.935648\"/>\n     <use style=\"fill-opacity:0.5;stroke:#000000;stroke-opacity:0.5;stroke-width:1.5;\" x=\"209.934259\" xlink:href=\"#mb50882704d\" y=\"143.554163\"/>\n     <use style=\"fill-opacity:0.5;stroke:#000000;stroke-opacity:0.5;stroke-width:1.5;\" x=\"210.375291\" xlink:href=\"#mb50882704d\" y=\"141.315852\"/>\n     <use style=\"fill-opacity:0.5;stroke:#000000;stroke-opacity:0.5;stroke-width:1.5;\" x=\"210.834852\" xlink:href=\"#mb50882704d\" y=\"128.623237\"/>\n     <use style=\"fill-opacity:0.5;stroke:#000000;stroke-opacity:0.5;stroke-width:1.5;\" x=\"210.998643\" xlink:href=\"#mb50882704d\" y=\"125.707832\"/>\n     <use style=\"fill-opacity:0.5;stroke:#000000;stroke-opacity:0.5;stroke-width:1.5;\" x=\"211.139726\" xlink:href=\"#mb50882704d\" y=\"148.301856\"/>\n     <use style=\"fill-opacity:0.5;stroke:#000000;stroke-opacity:0.5;stroke-width:1.5;\" x=\"211.510147\" xlink:href=\"#mb50882704d\" y=\"158.767415\"/>\n     <use style=\"fill-opacity:0.5;stroke:#000000;stroke-opacity:0.5;stroke-width:1.5;\" x=\"211.628548\" xlink:href=\"#mb50882704d\" y=\"134.024652\"/>\n     <use style=\"fill-opacity:0.5;stroke:#000000;stroke-opacity:0.5;stroke-width:1.5;\" x=\"212.16596\" xlink:href=\"#mb50882704d\" y=\"137.585383\"/>\n     <use style=\"fill-opacity:0.5;stroke:#000000;stroke-opacity:0.5;stroke-width:1.5;\" x=\"213.557406\" xlink:href=\"#mb50882704d\" y=\"115.779355\"/>\n     <use style=\"fill-opacity:0.5;stroke:#000000;stroke-opacity:0.5;stroke-width:1.5;\" x=\"214.022633\" xlink:href=\"#mb50882704d\" y=\"150.045378\"/>\n     <use style=\"fill-opacity:0.5;stroke:#000000;stroke-opacity:0.5;stroke-width:1.5;\" x=\"215.411108\" xlink:href=\"#mb50882704d\" y=\"147.614076\"/>\n     <use style=\"fill-opacity:0.5;stroke:#000000;stroke-opacity:0.5;stroke-width:1.5;\" x=\"215.594887\" xlink:href=\"#mb50882704d\" y=\"145.781856\"/>\n     <use style=\"fill-opacity:0.5;stroke:#000000;stroke-opacity:0.5;stroke-width:1.5;\" x=\"215.630666\" xlink:href=\"#mb50882704d\" y=\"138.641893\"/>\n     <use style=\"fill-opacity:0.5;stroke:#000000;stroke-opacity:0.5;stroke-width:1.5;\" x=\"216.255883\" xlink:href=\"#mb50882704d\" y=\"142.889677\"/>\n     <use style=\"fill-opacity:0.5;stroke:#000000;stroke-opacity:0.5;stroke-width:1.5;\" x=\"216.265782\" xlink:href=\"#mb50882704d\" y=\"123.745154\"/>\n     <use style=\"fill-opacity:0.5;stroke:#000000;stroke-opacity:0.5;stroke-width:1.5;\" x=\"217.292913\" xlink:href=\"#mb50882704d\" y=\"126.997613\"/>\n     <use style=\"fill-opacity:0.5;stroke:#000000;stroke-opacity:0.5;stroke-width:1.5;\" x=\"217.37281\" xlink:href=\"#mb50882704d\" y=\"136.454669\"/>\n     <use style=\"fill-opacity:0.5;stroke:#000000;stroke-opacity:0.5;stroke-width:1.5;\" x=\"218.63465\" xlink:href=\"#mb50882704d\" y=\"131.663618\"/>\n     <use style=\"fill-opacity:0.5;stroke:#000000;stroke-opacity:0.5;stroke-width:1.5;\" x=\"218.697017\" xlink:href=\"#mb50882704d\" y=\"149.089504\"/>\n     <use style=\"fill-opacity:0.5;stroke:#000000;stroke-opacity:0.5;stroke-width:1.5;\" x=\"218.790546\" xlink:href=\"#mb50882704d\" y=\"140.01072\"/>\n     <use style=\"fill-opacity:0.5;stroke:#000000;stroke-opacity:0.5;stroke-width:1.5;\" x=\"219.396102\" xlink:href=\"#mb50882704d\" y=\"142.336829\"/>\n     <use style=\"fill-opacity:0.5;stroke:#000000;stroke-opacity:0.5;stroke-width:1.5;\" x=\"220.401278\" xlink:href=\"#mb50882704d\" y=\"148.552719\"/>\n     <use style=\"fill-opacity:0.5;stroke:#000000;stroke-opacity:0.5;stroke-width:1.5;\" x=\"221.060256\" xlink:href=\"#mb50882704d\" y=\"134.002508\"/>\n     <use style=\"fill-opacity:0.5;stroke:#000000;stroke-opacity:0.5;stroke-width:1.5;\" x=\"221.123502\" xlink:href=\"#mb50882704d\" y=\"129.229907\"/>\n     <use style=\"fill-opacity:0.5;stroke:#000000;stroke-opacity:0.5;stroke-width:1.5;\" x=\"221.275702\" xlink:href=\"#mb50882704d\" y=\"131.224335\"/>\n     <use style=\"fill-opacity:0.5;stroke:#000000;stroke-opacity:0.5;stroke-width:1.5;\" x=\"222.592349\" xlink:href=\"#mb50882704d\" y=\"148.400478\"/>\n     <use style=\"fill-opacity:0.5;stroke:#000000;stroke-opacity:0.5;stroke-width:1.5;\" x=\"223.627419\" xlink:href=\"#mb50882704d\" y=\"160.991253\"/>\n     <use style=\"fill-opacity:0.5;stroke:#000000;stroke-opacity:0.5;stroke-width:1.5;\" x=\"223.804134\" xlink:href=\"#mb50882704d\" y=\"116.997649\"/>\n     <use style=\"fill-opacity:0.5;stroke:#000000;stroke-opacity:0.5;stroke-width:1.5;\" x=\"224.650085\" xlink:href=\"#mb50882704d\" y=\"119.911894\"/>\n     <use style=\"fill-opacity:0.5;stroke:#000000;stroke-opacity:0.5;stroke-width:1.5;\" x=\"224.684625\" xlink:href=\"#mb50882704d\" y=\"133.624021\"/>\n     <use style=\"fill-opacity:0.5;stroke:#000000;stroke-opacity:0.5;stroke-width:1.5;\" x=\"224.832201\" xlink:href=\"#mb50882704d\" y=\"112.523887\"/>\n     <use style=\"fill-opacity:0.5;stroke:#000000;stroke-opacity:0.5;stroke-width:1.5;\" x=\"225.423868\" xlink:href=\"#mb50882704d\" y=\"122.985382\"/>\n     <use style=\"fill-opacity:0.5;stroke:#000000;stroke-opacity:0.5;stroke-width:1.5;\" x=\"225.694755\" xlink:href=\"#mb50882704d\" y=\"136.217899\"/>\n     <use style=\"fill-opacity:0.5;stroke:#000000;stroke-opacity:0.5;stroke-width:1.5;\" x=\"226.836354\" xlink:href=\"#mb50882704d\" y=\"147.00049\"/>\n     <use style=\"fill-opacity:0.5;stroke:#000000;stroke-opacity:0.5;stroke-width:1.5;\" x=\"227.091087\" xlink:href=\"#mb50882704d\" y=\"135.733469\"/>\n     <use style=\"fill-opacity:0.5;stroke:#000000;stroke-opacity:0.5;stroke-width:1.5;\" x=\"227.183746\" xlink:href=\"#mb50882704d\" y=\"161.661185\"/>\n     <use style=\"fill-opacity:0.5;stroke:#000000;stroke-opacity:0.5;stroke-width:1.5;\" x=\"230.179184\" xlink:href=\"#mb50882704d\" y=\"162.648409\"/>\n     <use style=\"fill-opacity:0.5;stroke:#000000;stroke-opacity:0.5;stroke-width:1.5;\" x=\"230.609458\" xlink:href=\"#mb50882704d\" y=\"149.579116\"/>\n     <use style=\"fill-opacity:0.5;stroke:#000000;stroke-opacity:0.5;stroke-width:1.5;\" x=\"230.624037\" xlink:href=\"#mb50882704d\" y=\"154.974258\"/>\n     <use style=\"fill-opacity:0.5;stroke:#000000;stroke-opacity:0.5;stroke-width:1.5;\" x=\"231.036528\" xlink:href=\"#mb50882704d\" y=\"128.600624\"/>\n     <use style=\"fill-opacity:0.5;stroke:#000000;stroke-opacity:0.5;stroke-width:1.5;\" x=\"231.056244\" xlink:href=\"#mb50882704d\" y=\"128.781399\"/>\n     <use style=\"fill-opacity:0.5;stroke:#000000;stroke-opacity:0.5;stroke-width:1.5;\" x=\"231.512181\" xlink:href=\"#mb50882704d\" y=\"143.208382\"/>\n     <use style=\"fill-opacity:0.5;stroke:#000000;stroke-opacity:0.5;stroke-width:1.5;\" x=\"231.660282\" xlink:href=\"#mb50882704d\" y=\"124.721284\"/>\n     <use style=\"fill-opacity:0.5;stroke:#000000;stroke-opacity:0.5;stroke-width:1.5;\" x=\"233.960585\" xlink:href=\"#mb50882704d\" y=\"160.216876\"/>\n     <use style=\"fill-opacity:0.5;stroke:#000000;stroke-opacity:0.5;stroke-width:1.5;\" x=\"234.998614\" xlink:href=\"#mb50882704d\" y=\"131.902698\"/>\n     <use style=\"fill-opacity:0.5;stroke:#000000;stroke-opacity:0.5;stroke-width:1.5;\" x=\"235.981564\" xlink:href=\"#mb50882704d\" y=\"164.778215\"/>\n     <use style=\"fill-opacity:0.5;stroke:#000000;stroke-opacity:0.5;stroke-width:1.5;\" x=\"236.02242\" xlink:href=\"#mb50882704d\" y=\"152.436283\"/>\n     <use style=\"fill-opacity:0.5;stroke:#000000;stroke-opacity:0.5;stroke-width:1.5;\" x=\"236.311697\" xlink:href=\"#mb50882704d\" y=\"147.696253\"/>\n     <use style=\"fill-opacity:0.5;stroke:#000000;stroke-opacity:0.5;stroke-width:1.5;\" x=\"236.865325\" xlink:href=\"#mb50882704d\" y=\"172.335145\"/>\n     <use style=\"fill-opacity:0.5;stroke:#000000;stroke-opacity:0.5;stroke-width:1.5;\" x=\"237.324977\" xlink:href=\"#mb50882704d\" y=\"150.771571\"/>\n     <use style=\"fill-opacity:0.5;stroke:#000000;stroke-opacity:0.5;stroke-width:1.5;\" x=\"237.761882\" xlink:href=\"#mb50882704d\" y=\"115.85224\"/>\n     <use style=\"fill-opacity:0.5;stroke:#000000;stroke-opacity:0.5;stroke-width:1.5;\" x=\"237.978976\" xlink:href=\"#mb50882704d\" y=\"164.023157\"/>\n     <use style=\"fill-opacity:0.5;stroke:#000000;stroke-opacity:0.5;stroke-width:1.5;\" x=\"238.379187\" xlink:href=\"#mb50882704d\" y=\"174.371627\"/>\n     <use style=\"fill-opacity:0.5;stroke:#000000;stroke-opacity:0.5;stroke-width:1.5;\" x=\"238.419727\" xlink:href=\"#mb50882704d\" y=\"125.972843\"/>\n     <use style=\"fill-opacity:0.5;stroke:#000000;stroke-opacity:0.5;stroke-width:1.5;\" x=\"238.497491\" xlink:href=\"#mb50882704d\" y=\"148.459493\"/>\n     <use style=\"fill-opacity:0.5;stroke:#000000;stroke-opacity:0.5;stroke-width:1.5;\" x=\"239.004383\" xlink:href=\"#mb50882704d\" y=\"143.359242\"/>\n     <use style=\"fill-opacity:0.5;stroke:#000000;stroke-opacity:0.5;stroke-width:1.5;\" x=\"239.216209\" xlink:href=\"#mb50882704d\" y=\"125.229124\"/>\n     <use style=\"fill-opacity:0.5;stroke:#000000;stroke-opacity:0.5;stroke-width:1.5;\" x=\"239.441601\" xlink:href=\"#mb50882704d\" y=\"128.368035\"/>\n     <use style=\"fill-opacity:0.5;stroke:#000000;stroke-opacity:0.5;stroke-width:1.5;\" x=\"239.455453\" xlink:href=\"#mb50882704d\" y=\"151.47648\"/>\n     <use style=\"fill-opacity:0.5;stroke:#000000;stroke-opacity:0.5;stroke-width:1.5;\" x=\"239.501956\" xlink:href=\"#mb50882704d\" y=\"142.027902\"/>\n     <use style=\"fill-opacity:0.5;stroke:#000000;stroke-opacity:0.5;stroke-width:1.5;\" x=\"239.677487\" xlink:href=\"#mb50882704d\" y=\"131.631302\"/>\n     <use style=\"fill-opacity:0.5;stroke:#000000;stroke-opacity:0.5;stroke-width:1.5;\" x=\"240.0488\" xlink:href=\"#mb50882704d\" y=\"156.685115\"/>\n     <use style=\"fill-opacity:0.5;stroke:#000000;stroke-opacity:0.5;stroke-width:1.5;\" x=\"240.864939\" xlink:href=\"#mb50882704d\" y=\"145.712988\"/>\n     <use style=\"fill-opacity:0.5;stroke:#000000;stroke-opacity:0.5;stroke-width:1.5;\" x=\"241.79784\" xlink:href=\"#mb50882704d\" y=\"136.370762\"/>\n     <use style=\"fill-opacity:0.5;stroke:#000000;stroke-opacity:0.5;stroke-width:1.5;\" x=\"241.81069\" xlink:href=\"#mb50882704d\" y=\"141.761688\"/>\n     <use style=\"fill-opacity:0.5;stroke:#000000;stroke-opacity:0.5;stroke-width:1.5;\" x=\"242.081474\" xlink:href=\"#mb50882704d\" y=\"133.010141\"/>\n     <use style=\"fill-opacity:0.5;stroke:#000000;stroke-opacity:0.5;stroke-width:1.5;\" x=\"242.612397\" xlink:href=\"#mb50882704d\" y=\"138.622972\"/>\n     <use style=\"fill-opacity:0.5;stroke:#000000;stroke-opacity:0.5;stroke-width:1.5;\" x=\"242.736776\" xlink:href=\"#mb50882704d\" y=\"191.995405\"/>\n     <use style=\"fill-opacity:0.5;stroke:#000000;stroke-opacity:0.5;stroke-width:1.5;\" x=\"242.817329\" xlink:href=\"#mb50882704d\" y=\"156.842272\"/>\n     <use style=\"fill-opacity:0.5;stroke:#000000;stroke-opacity:0.5;stroke-width:1.5;\" x=\"244.17117\" xlink:href=\"#mb50882704d\" y=\"173.49815\"/>\n     <use style=\"fill-opacity:0.5;stroke:#000000;stroke-opacity:0.5;stroke-width:1.5;\" x=\"244.988686\" xlink:href=\"#mb50882704d\" y=\"140.301658\"/>\n     <use style=\"fill-opacity:0.5;stroke:#000000;stroke-opacity:0.5;stroke-width:1.5;\" x=\"246.671051\" xlink:href=\"#mb50882704d\" y=\"167.129566\"/>\n     <use style=\"fill-opacity:0.5;stroke:#000000;stroke-opacity:0.5;stroke-width:1.5;\" x=\"246.78474\" xlink:href=\"#mb50882704d\" y=\"134.853487\"/>\n     <use style=\"fill-opacity:0.5;stroke:#000000;stroke-opacity:0.5;stroke-width:1.5;\" x=\"247.594978\" xlink:href=\"#mb50882704d\" y=\"143.43477\"/>\n     <use style=\"fill-opacity:0.5;stroke:#000000;stroke-opacity:0.5;stroke-width:1.5;\" x=\"248.193227\" xlink:href=\"#mb50882704d\" y=\"138.599113\"/>\n     <use style=\"fill-opacity:0.5;stroke:#000000;stroke-opacity:0.5;stroke-width:1.5;\" x=\"248.422128\" xlink:href=\"#mb50882704d\" y=\"144.676935\"/>\n     <use style=\"fill-opacity:0.5;stroke:#000000;stroke-opacity:0.5;stroke-width:1.5;\" x=\"248.585028\" xlink:href=\"#mb50882704d\" y=\"166.641867\"/>\n     <use style=\"fill-opacity:0.5;stroke:#000000;stroke-opacity:0.5;stroke-width:1.5;\" x=\"248.685026\" xlink:href=\"#mb50882704d\" y=\"118.947289\"/>\n     <use style=\"fill-opacity:0.5;stroke:#000000;stroke-opacity:0.5;stroke-width:1.5;\" x=\"248.914417\" xlink:href=\"#mb50882704d\" y=\"134.829281\"/>\n     <use style=\"fill-opacity:0.5;stroke:#000000;stroke-opacity:0.5;stroke-width:1.5;\" x=\"249.472596\" xlink:href=\"#mb50882704d\" y=\"144.688809\"/>\n     <use style=\"fill-opacity:0.5;stroke:#000000;stroke-opacity:0.5;stroke-width:1.5;\" x=\"249.621811\" xlink:href=\"#mb50882704d\" y=\"173.036393\"/>\n     <use style=\"fill-opacity:0.5;stroke:#000000;stroke-opacity:0.5;stroke-width:1.5;\" x=\"249.806117\" xlink:href=\"#mb50882704d\" y=\"139.452536\"/>\n     <use style=\"fill-opacity:0.5;stroke:#000000;stroke-opacity:0.5;stroke-width:1.5;\" x=\"250.141506\" xlink:href=\"#mb50882704d\" y=\"133.085439\"/>\n     <use style=\"fill-opacity:0.5;stroke:#000000;stroke-opacity:0.5;stroke-width:1.5;\" x=\"250.319238\" xlink:href=\"#mb50882704d\" y=\"153.241773\"/>\n     <use style=\"fill-opacity:0.5;stroke:#000000;stroke-opacity:0.5;stroke-width:1.5;\" x=\"250.57851\" xlink:href=\"#mb50882704d\" y=\"153.305586\"/>\n     <use style=\"fill-opacity:0.5;stroke:#000000;stroke-opacity:0.5;stroke-width:1.5;\" x=\"252.312218\" xlink:href=\"#mb50882704d\" y=\"177.174903\"/>\n     <use style=\"fill-opacity:0.5;stroke:#000000;stroke-opacity:0.5;stroke-width:1.5;\" x=\"252.424529\" xlink:href=\"#mb50882704d\" y=\"140.987872\"/>\n     <use style=\"fill-opacity:0.5;stroke:#000000;stroke-opacity:0.5;stroke-width:1.5;\" x=\"252.491662\" xlink:href=\"#mb50882704d\" y=\"156.146052\"/>\n     <use style=\"fill-opacity:0.5;stroke:#000000;stroke-opacity:0.5;stroke-width:1.5;\" x=\"253.091413\" xlink:href=\"#mb50882704d\" y=\"174.233734\"/>\n     <use style=\"fill-opacity:0.5;stroke:#000000;stroke-opacity:0.5;stroke-width:1.5;\" x=\"253.103784\" xlink:href=\"#mb50882704d\" y=\"139.54645\"/>\n     <use style=\"fill-opacity:0.5;stroke:#000000;stroke-opacity:0.5;stroke-width:1.5;\" x=\"253.33178\" xlink:href=\"#mb50882704d\" y=\"164.983422\"/>\n     <use style=\"fill-opacity:0.5;stroke:#000000;stroke-opacity:0.5;stroke-width:1.5;\" x=\"253.747806\" xlink:href=\"#mb50882704d\" y=\"159.397444\"/>\n     <use style=\"fill-opacity:0.5;stroke:#000000;stroke-opacity:0.5;stroke-width:1.5;\" x=\"254.034484\" xlink:href=\"#mb50882704d\" y=\"124.353619\"/>\n     <use style=\"fill-opacity:0.5;stroke:#000000;stroke-opacity:0.5;stroke-width:1.5;\" x=\"255.655394\" xlink:href=\"#mb50882704d\" y=\"139.618176\"/>\n     <use style=\"fill-opacity:0.5;stroke:#000000;stroke-opacity:0.5;stroke-width:1.5;\" x=\"257.718279\" xlink:href=\"#mb50882704d\" y=\"134.403398\"/>\n     <use style=\"fill-opacity:0.5;stroke:#000000;stroke-opacity:0.5;stroke-width:1.5;\" x=\"261.868648\" xlink:href=\"#mb50882704d\" y=\"184.574757\"/>\n     <use style=\"fill-opacity:0.5;stroke:#000000;stroke-opacity:0.5;stroke-width:1.5;\" x=\"262.211996\" xlink:href=\"#mb50882704d\" y=\"165.251611\"/>\n     <use style=\"fill-opacity:0.5;stroke:#000000;stroke-opacity:0.5;stroke-width:1.5;\" x=\"262.491067\" xlink:href=\"#mb50882704d\" y=\"167.759021\"/>\n     <use style=\"fill-opacity:0.5;stroke:#000000;stroke-opacity:0.5;stroke-width:1.5;\" x=\"263.411931\" xlink:href=\"#mb50882704d\" y=\"190.851678\"/>\n     <use style=\"fill-opacity:0.5;stroke:#000000;stroke-opacity:0.5;stroke-width:1.5;\" x=\"263.918715\" xlink:href=\"#mb50882704d\" y=\"187.65762\"/>\n     <use style=\"fill-opacity:0.5;stroke:#000000;stroke-opacity:0.5;stroke-width:1.5;\" x=\"264.704158\" xlink:href=\"#mb50882704d\" y=\"168.872111\"/>\n     <use style=\"fill-opacity:0.5;stroke:#000000;stroke-opacity:0.5;stroke-width:1.5;\" x=\"264.77618\" xlink:href=\"#mb50882704d\" y=\"205.084641\"/>\n     <use style=\"fill-opacity:0.5;stroke:#000000;stroke-opacity:0.5;stroke-width:1.5;\" x=\"265.797111\" xlink:href=\"#mb50882704d\" y=\"171.50628\"/>\n     <use style=\"fill-opacity:0.5;stroke:#000000;stroke-opacity:0.5;stroke-width:1.5;\" x=\"266.216718\" xlink:href=\"#mb50882704d\" y=\"140.298054\"/>\n     <use style=\"fill-opacity:0.5;stroke:#000000;stroke-opacity:0.5;stroke-width:1.5;\" x=\"267.281511\" xlink:href=\"#mb50882704d\" y=\"182.170448\"/>\n     <use style=\"fill-opacity:0.5;stroke:#000000;stroke-opacity:0.5;stroke-width:1.5;\" x=\"268.045236\" xlink:href=\"#mb50882704d\" y=\"182.089716\"/>\n     <use style=\"fill-opacity:0.5;stroke:#000000;stroke-opacity:0.5;stroke-width:1.5;\" x=\"268.164304\" xlink:href=\"#mb50882704d\" y=\"203.160578\"/>\n     <use style=\"fill-opacity:0.5;stroke:#000000;stroke-opacity:0.5;stroke-width:1.5;\" x=\"269.621949\" xlink:href=\"#mb50882704d\" y=\"215.437253\"/>\n     <use style=\"fill-opacity:0.5;stroke:#000000;stroke-opacity:0.5;stroke-width:1.5;\" x=\"269.78475\" xlink:href=\"#mb50882704d\" y=\"194.866528\"/>\n     <use style=\"fill-opacity:0.5;stroke:#000000;stroke-opacity:0.5;stroke-width:1.5;\" x=\"270.487831\" xlink:href=\"#mb50882704d\" y=\"224.695125\"/>\n     <use style=\"fill-opacity:0.5;stroke:#000000;stroke-opacity:0.5;stroke-width:1.5;\" x=\"271.657971\" xlink:href=\"#mb50882704d\" y=\"175.169792\"/>\n     <use style=\"fill-opacity:0.5;stroke:#000000;stroke-opacity:0.5;stroke-width:1.5;\" x=\"271.726132\" xlink:href=\"#mb50882704d\" y=\"199.25046\"/>\n     <use style=\"fill-opacity:0.5;stroke:#000000;stroke-opacity:0.5;stroke-width:1.5;\" x=\"271.780277\" xlink:href=\"#mb50882704d\" y=\"156.017906\"/>\n     <use style=\"fill-opacity:0.5;stroke:#000000;stroke-opacity:0.5;stroke-width:1.5;\" x=\"273.121989\" xlink:href=\"#mb50882704d\" y=\"188.543059\"/>\n     <use style=\"fill-opacity:0.5;stroke:#000000;stroke-opacity:0.5;stroke-width:1.5;\" x=\"273.300002\" xlink:href=\"#mb50882704d\" y=\"147.253516\"/>\n     <use style=\"fill-opacity:0.5;stroke:#000000;stroke-opacity:0.5;stroke-width:1.5;\" x=\"273.316386\" xlink:href=\"#mb50882704d\" y=\"183.761987\"/>\n     <use style=\"fill-opacity:0.5;stroke:#000000;stroke-opacity:0.5;stroke-width:1.5;\" x=\"273.594411\" xlink:href=\"#mb50882704d\" y=\"203.410936\"/>\n     <use style=\"fill-opacity:0.5;stroke:#000000;stroke-opacity:0.5;stroke-width:1.5;\" x=\"273.771893\" xlink:href=\"#mb50882704d\" y=\"146.295246\"/>\n     <use style=\"fill-opacity:0.5;stroke:#000000;stroke-opacity:0.5;stroke-width:1.5;\" x=\"274.059638\" xlink:href=\"#mb50882704d\" y=\"186.540167\"/>\n     <use style=\"fill-opacity:0.5;stroke:#000000;stroke-opacity:0.5;stroke-width:1.5;\" x=\"274.763346\" xlink:href=\"#mb50882704d\" y=\"169.32996\"/>\n     <use style=\"fill-opacity:0.5;stroke:#000000;stroke-opacity:0.5;stroke-width:1.5;\" x=\"274.877443\" xlink:href=\"#mb50882704d\" y=\"195.422909\"/>\n     <use style=\"fill-opacity:0.5;stroke:#000000;stroke-opacity:0.5;stroke-width:1.5;\" x=\"275.139633\" xlink:href=\"#mb50882704d\" y=\"207.18272\"/>\n     <use style=\"fill-opacity:0.5;stroke:#000000;stroke-opacity:0.5;stroke-width:1.5;\" x=\"275.353625\" xlink:href=\"#mb50882704d\" y=\"140.185789\"/>\n     <use style=\"fill-opacity:0.5;stroke:#000000;stroke-opacity:0.5;stroke-width:1.5;\" x=\"275.42559\" xlink:href=\"#mb50882704d\" y=\"158.29396\"/>\n     <use style=\"fill-opacity:0.5;stroke:#000000;stroke-opacity:0.5;stroke-width:1.5;\" x=\"275.948139\" xlink:href=\"#mb50882704d\" y=\"155.729807\"/>\n     <use style=\"fill-opacity:0.5;stroke:#000000;stroke-opacity:0.5;stroke-width:1.5;\" x=\"276.013892\" xlink:href=\"#mb50882704d\" y=\"235.287044\"/>\n     <use style=\"fill-opacity:0.5;stroke:#000000;stroke-opacity:0.5;stroke-width:1.5;\" x=\"276.027825\" xlink:href=\"#mb50882704d\" y=\"187.728176\"/>\n     <use style=\"fill-opacity:0.5;stroke:#000000;stroke-opacity:0.5;stroke-width:1.5;\" x=\"276.133232\" xlink:href=\"#mb50882704d\" y=\"191.493948\"/>\n     <use style=\"fill-opacity:0.5;stroke:#000000;stroke-opacity:0.5;stroke-width:1.5;\" x=\"276.9687\" xlink:href=\"#mb50882704d\" y=\"224.932117\"/>\n     <use style=\"fill-opacity:0.5;stroke:#000000;stroke-opacity:0.5;stroke-width:1.5;\" x=\"277.394799\" xlink:href=\"#mb50882704d\" y=\"197.06885\"/>\n     <use style=\"fill-opacity:0.5;stroke:#000000;stroke-opacity:0.5;stroke-width:1.5;\" x=\"277.444558\" xlink:href=\"#mb50882704d\" y=\"171.62949\"/>\n     <use style=\"fill-opacity:0.5;stroke:#000000;stroke-opacity:0.5;stroke-width:1.5;\" x=\"277.872952\" xlink:href=\"#mb50882704d\" y=\"174.046112\"/>\n     <use style=\"fill-opacity:0.5;stroke:#000000;stroke-opacity:0.5;stroke-width:1.5;\" x=\"279.20133\" xlink:href=\"#mb50882704d\" y=\"151.111998\"/>\n     <use style=\"fill-opacity:0.5;stroke:#000000;stroke-opacity:0.5;stroke-width:1.5;\" x=\"279.780414\" xlink:href=\"#mb50882704d\" y=\"218.615916\"/>\n     <use style=\"fill-opacity:0.5;stroke:#000000;stroke-opacity:0.5;stroke-width:1.5;\" x=\"281.001234\" xlink:href=\"#mb50882704d\" y=\"171.822343\"/>\n     <use style=\"fill-opacity:0.5;stroke:#000000;stroke-opacity:0.5;stroke-width:1.5;\" x=\"281.213212\" xlink:href=\"#mb50882704d\" y=\"198.6055\"/>\n     <use style=\"fill-opacity:0.5;stroke:#000000;stroke-opacity:0.5;stroke-width:1.5;\" x=\"281.744249\" xlink:href=\"#mb50882704d\" y=\"192.692168\"/>\n     <use style=\"fill-opacity:0.5;stroke:#000000;stroke-opacity:0.5;stroke-width:1.5;\" x=\"282.083766\" xlink:href=\"#mb50882704d\" y=\"204.231765\"/>\n     <use style=\"fill-opacity:0.5;stroke:#000000;stroke-opacity:0.5;stroke-width:1.5;\" x=\"282.269602\" xlink:href=\"#mb50882704d\" y=\"157.511959\"/>\n     <use style=\"fill-opacity:0.5;stroke:#000000;stroke-opacity:0.5;stroke-width:1.5;\" x=\"282.489637\" xlink:href=\"#mb50882704d\" y=\"194.389695\"/>\n     <use style=\"fill-opacity:0.5;stroke:#000000;stroke-opacity:0.5;stroke-width:1.5;\" x=\"282.833998\" xlink:href=\"#mb50882704d\" y=\"193.115556\"/>\n     <use style=\"fill-opacity:0.5;stroke:#000000;stroke-opacity:0.5;stroke-width:1.5;\" x=\"283.131996\" xlink:href=\"#mb50882704d\" y=\"182.946887\"/>\n     <use style=\"fill-opacity:0.5;stroke:#000000;stroke-opacity:0.5;stroke-width:1.5;\" x=\"283.31983\" xlink:href=\"#mb50882704d\" y=\"176.545275\"/>\n     <use style=\"fill-opacity:0.5;stroke:#000000;stroke-opacity:0.5;stroke-width:1.5;\" x=\"283.550394\" xlink:href=\"#mb50882704d\" y=\"153.920245\"/>\n     <use style=\"fill-opacity:0.5;stroke:#000000;stroke-opacity:0.5;stroke-width:1.5;\" x=\"283.746578\" xlink:href=\"#mb50882704d\" y=\"170.300761\"/>\n     <use style=\"fill-opacity:0.5;stroke:#000000;stroke-opacity:0.5;stroke-width:1.5;\" x=\"284.05422\" xlink:href=\"#mb50882704d\" y=\"181.102067\"/>\n     <use style=\"fill-opacity:0.5;stroke:#000000;stroke-opacity:0.5;stroke-width:1.5;\" x=\"284.059985\" xlink:href=\"#mb50882704d\" y=\"224.453322\"/>\n     <use style=\"fill-opacity:0.5;stroke:#000000;stroke-opacity:0.5;stroke-width:1.5;\" x=\"284.241129\" xlink:href=\"#mb50882704d\" y=\"188.170668\"/>\n     <use style=\"fill-opacity:0.5;stroke:#000000;stroke-opacity:0.5;stroke-width:1.5;\" x=\"284.364524\" xlink:href=\"#mb50882704d\" y=\"210.038279\"/>\n     <use style=\"fill-opacity:0.5;stroke:#000000;stroke-opacity:0.5;stroke-width:1.5;\" x=\"284.379015\" xlink:href=\"#mb50882704d\" y=\"146.337313\"/>\n     <use style=\"fill-opacity:0.5;stroke:#000000;stroke-opacity:0.5;stroke-width:1.5;\" x=\"284.387412\" xlink:href=\"#mb50882704d\" y=\"162.225272\"/>\n    </g>\n   </g>\n   <g id=\"PolyCollection_1\">\n    <defs>\n     <path d=\"M 54.324062 -105.871215 \nL 54.324062 -105.871215 \nL 56.006475 -106.591835 \nL 57.688887 -107.313429 \nL 59.371299 -108.035513 \nL 61.053711 -108.766371 \nL 62.736123 -109.500335 \nL 64.418535 -110.234844 \nL 66.100947 -110.969893 \nL 67.783359 -111.701339 \nL 69.465771 -112.433469 \nL 71.148183 -113.234938 \nL 72.830595 -114.036953 \nL 74.513007 -114.839495 \nL 76.195419 -115.642661 \nL 77.877831 -116.446404 \nL 79.560243 -117.250745 \nL 81.242655 -118.054067 \nL 82.925068 -118.856831 \nL 84.60748 -119.66026 \nL 86.289892 -120.464436 \nL 87.972304 -121.273577 \nL 89.654716 -122.085929 \nL 91.337128 -122.899013 \nL 93.01954 -123.710844 \nL 94.701952 -124.525168 \nL 96.384364 -125.339039 \nL 98.066776 -126.152195 \nL 99.749188 -126.966218 \nL 101.4316 -127.781159 \nL 103.114012 -128.596234 \nL 104.796424 -129.396706 \nL 106.478836 -130.198238 \nL 108.161248 -131.001767 \nL 109.84366 -131.806405 \nL 111.526073 -132.615678 \nL 113.208485 -133.427843 \nL 114.890897 -134.241213 \nL 116.573309 -135.059006 \nL 118.255721 -135.880693 \nL 119.938133 -136.703763 \nL 121.620545 -137.511785 \nL 123.302957 -138.318624 \nL 124.985369 -139.125895 \nL 126.667781 -139.946212 \nL 128.350193 -140.782985 \nL 130.032605 -141.616092 \nL 131.715017 -142.412309 \nL 133.397429 -143.205502 \nL 135.079841 -144.022291 \nL 136.762253 -144.863088 \nL 138.444666 -145.707855 \nL 140.127078 -146.589606 \nL 141.80949 -147.485575 \nL 143.491902 -148.379487 \nL 145.174314 -149.193618 \nL 146.856726 -150.045038 \nL 148.539138 -150.913464 \nL 150.22155 -151.781273 \nL 151.903962 -152.6351 \nL 153.586374 -153.524079 \nL 155.268786 -154.428488 \nL 156.951198 -155.366619 \nL 158.63361 -156.311473 \nL 160.316022 -157.214941 \nL 161.998434 -158.096653 \nL 163.680846 -158.98285 \nL 165.363258 -159.943093 \nL 167.045671 -160.933788 \nL 168.728083 -161.953456 \nL 170.410495 -163.078915 \nL 172.092907 -164.270745 \nL 173.775319 -165.449232 \nL 175.457731 -166.635219 \nL 177.140143 -167.789102 \nL 178.822555 -168.922883 \nL 180.504967 -170.050534 \nL 182.187379 -171.170495 \nL 183.869791 -172.27814 \nL 185.552203 -173.430623 \nL 187.234615 -174.673084 \nL 188.917027 -175.870806 \nL 190.599439 -177.002032 \nL 192.281851 -178.25352 \nL 193.964264 -179.536143 \nL 195.646676 -180.881778 \nL 197.329088 -182.241203 \nL 199.0115 -183.83808 \nL 200.693912 -185.319362 \nL 202.376324 -186.597242 \nL 204.058736 -187.435088 \nL 205.741148 -188.226831 \nL 207.42356 -188.792216 \nL 209.105972 -189.277248 \nL 210.788384 -189.965519 \nL 212.470796 -190.835642 \nL 214.153208 -191.810701 \nL 215.83562 -192.437638 \nL 217.518032 -193.013284 \nL 219.200444 -193.6251 \nL 220.882856 -194.015742 \nL 222.565269 -194.090864 \nL 224.247681 -193.925852 \nL 225.930093 -193.618965 \nL 227.612505 -193.437747 \nL 229.294917 -193.334193 \nL 230.977329 -193.027267 \nL 232.659741 -192.523086 \nL 234.342153 -192.318913 \nL 236.024565 -192.249786 \nL 237.706977 -192.145494 \nL 239.389389 -192.005825 \nL 241.071801 -191.581568 \nL 242.754213 -191.118527 \nL 244.436625 -190.689297 \nL 246.119037 -190.2448 \nL 247.801449 -189.803671 \nL 249.483861 -189.440137 \nL 251.166274 -189.106723 \nL 252.848686 -188.77956 \nL 254.531098 -188.446705 \nL 256.21351 -188.048851 \nL 257.895922 -187.672625 \nL 259.578334 -187.404934 \nL 261.260746 -187.165605 \nL 262.943158 -186.947688 \nL 264.62557 -186.784661 \nL 266.307982 -186.533667 \nL 267.990394 -186.219256 \nL 269.672806 -185.782299 \nL 271.355218 -185.30118 \nL 273.03763 -184.82476 \nL 274.720042 -184.391959 \nL 276.402454 -183.945244 \nL 278.084867 -183.503394 \nL 279.767279 -183.029 \nL 281.449691 -182.534809 \nL 283.132103 -182.217185 \nL 284.814515 -181.824641 \nL 286.496927 -181.422632 \nL 288.179339 -181.030251 \nL 289.861751 -180.712325 \nL 291.544163 -180.399956 \nL 293.226575 -180.120424 \nL 294.908987 -179.830121 \nL 296.591399 -179.54216 \nL 298.273811 -179.333331 \nL 299.956223 -179.14834 \nL 301.638635 -179.012446 \nL 303.321047 -178.907177 \nL 305.003459 -178.803021 \nL 306.685872 -178.699993 \nL 308.368284 -178.595012 \nL 310.050696 -178.512188 \nL 311.733108 -178.430968 \nL 313.41552 -178.350232 \nL 315.097932 -178.265186 \nL 316.780344 -178.196847 \nL 318.462756 -178.145737 \nL 320.145168 -178.151424 \nL 321.82758 -178.159206 \nL 323.509992 -178.169115 \nL 325.192404 -178.181177 \nL 326.874816 -178.195406 \nL 328.557228 -178.226166 \nL 330.23964 -178.25972 \nL 331.922052 -178.295498 \nL 333.604465 -178.333497 \nL 335.286877 -178.373747 \nL 336.969289 -178.416271 \nL 338.651701 -178.461112 \nL 340.334113 -178.507812 \nL 342.016525 -178.554832 \nL 343.698937 -178.603727 \nL 345.381349 -178.636724 \nL 347.063761 -178.65687 \nL 348.746173 -178.678117 \nL 350.428585 -178.68685 \nL 352.110997 -178.677212 \nL 353.793409 -178.668385 \nL 355.475821 -178.660376 \nL 357.158233 -178.653227 \nL 358.840645 -178.652379 \nL 360.523057 -178.664699 \nL 362.20547 -178.677912 \nL 363.887882 -178.691942 \nL 365.570294 -178.711375 \nL 367.252706 -178.761658 \nL 368.935118 -178.813082 \nL 370.61753 -178.865678 \nL 372.299942 -178.919445 \nL 373.982354 -178.976075 \nL 375.664766 -179.018626 \nL 377.347178 -179.04903 \nL 379.02959 -179.073213 \nL 380.712002 -179.090297 \nL 382.394414 -179.108307 \nL 384.076826 -179.127197 \nL 385.759238 -179.147019 \nL 387.44165 -179.167768 \nL 389.124063 -179.18944 \nL 389.124063 -179.18944 \nL 389.124063 -179.18944 \nL 387.44165 -179.167768 \nL 385.759238 -179.147019 \nL 384.076826 -179.127197 \nL 382.394414 -179.108307 \nL 380.712002 -179.090297 \nL 379.02959 -179.073213 \nL 377.347178 -179.04903 \nL 375.664766 -179.018626 \nL 373.982354 -178.976075 \nL 372.299942 -178.919445 \nL 370.61753 -178.865678 \nL 368.935118 -178.813082 \nL 367.252706 -178.761658 \nL 365.570294 -178.711375 \nL 363.887882 -178.691942 \nL 362.20547 -178.677912 \nL 360.523057 -178.664699 \nL 358.840645 -178.652379 \nL 357.158233 -178.653227 \nL 355.475821 -178.660376 \nL 353.793409 -178.668385 \nL 352.110997 -178.677212 \nL 350.428585 -178.68685 \nL 348.746173 -178.678117 \nL 347.063761 -178.65687 \nL 345.381349 -178.636724 \nL 343.698937 -178.603727 \nL 342.016525 -178.554832 \nL 340.334113 -178.507812 \nL 338.651701 -178.461112 \nL 336.969289 -178.416271 \nL 335.286877 -178.373747 \nL 333.604465 -178.333497 \nL 331.922052 -178.295498 \nL 330.23964 -178.25972 \nL 328.557228 -178.226166 \nL 326.874816 -178.195406 \nL 325.192404 -178.181177 \nL 323.509992 -178.169115 \nL 321.82758 -178.159206 \nL 320.145168 -178.151424 \nL 318.462756 -178.145737 \nL 316.780344 -178.196847 \nL 315.097932 -178.265186 \nL 313.41552 -178.350232 \nL 311.733108 -178.430968 \nL 310.050696 -178.512188 \nL 308.368284 -178.595012 \nL 306.685872 -178.699993 \nL 305.003459 -178.803021 \nL 303.321047 -178.907177 \nL 301.638635 -179.012446 \nL 299.956223 -179.14834 \nL 298.273811 -179.333331 \nL 296.591399 -179.54216 \nL 294.908987 -179.830121 \nL 293.226575 -180.120424 \nL 291.544163 -180.399956 \nL 289.861751 -180.712325 \nL 288.179339 -181.030251 \nL 286.496927 -181.422632 \nL 284.814515 -181.824641 \nL 283.132103 -182.217185 \nL 281.449691 -182.534809 \nL 279.767279 -183.029 \nL 278.084867 -183.503394 \nL 276.402454 -183.945244 \nL 274.720042 -184.391959 \nL 273.03763 -184.82476 \nL 271.355218 -185.30118 \nL 269.672806 -185.782299 \nL 267.990394 -186.219256 \nL 266.307982 -186.533667 \nL 264.62557 -186.784661 \nL 262.943158 -186.947688 \nL 261.260746 -187.165605 \nL 259.578334 -187.404934 \nL 257.895922 -187.672625 \nL 256.21351 -188.048851 \nL 254.531098 -188.446705 \nL 252.848686 -188.77956 \nL 251.166274 -189.106723 \nL 249.483861 -189.440137 \nL 247.801449 -189.803671 \nL 246.119037 -190.2448 \nL 244.436625 -190.689297 \nL 242.754213 -191.118527 \nL 241.071801 -191.581568 \nL 239.389389 -192.005825 \nL 237.706977 -192.145494 \nL 236.024565 -192.249786 \nL 234.342153 -192.318913 \nL 232.659741 -192.523086 \nL 230.977329 -193.027267 \nL 229.294917 -193.334193 \nL 227.612505 -193.437747 \nL 225.930093 -193.618965 \nL 224.247681 -193.925852 \nL 222.565269 -194.090864 \nL 220.882856 -194.015742 \nL 219.200444 -193.6251 \nL 217.518032 -193.013284 \nL 215.83562 -192.437638 \nL 214.153208 -191.810701 \nL 212.470796 -190.835642 \nL 210.788384 -189.965519 \nL 209.105972 -189.277248 \nL 207.42356 -188.792216 \nL 205.741148 -188.226831 \nL 204.058736 -187.435088 \nL 202.376324 -186.597242 \nL 200.693912 -185.319362 \nL 199.0115 -183.83808 \nL 197.329088 -182.241203 \nL 195.646676 -180.881778 \nL 193.964264 -179.536143 \nL 192.281851 -178.25352 \nL 190.599439 -177.002032 \nL 188.917027 -175.870806 \nL 187.234615 -174.673084 \nL 185.552203 -173.430623 \nL 183.869791 -172.27814 \nL 182.187379 -171.170495 \nL 180.504967 -170.050534 \nL 178.822555 -168.922883 \nL 177.140143 -167.789102 \nL 175.457731 -166.635219 \nL 173.775319 -165.449232 \nL 172.092907 -164.270745 \nL 170.410495 -163.078915 \nL 168.728083 -161.953456 \nL 167.045671 -160.933788 \nL 165.363258 -159.943093 \nL 163.680846 -158.98285 \nL 161.998434 -158.096653 \nL 160.316022 -157.214941 \nL 158.63361 -156.311473 \nL 156.951198 -155.366619 \nL 155.268786 -154.428488 \nL 153.586374 -153.524079 \nL 151.903962 -152.6351 \nL 150.22155 -151.781273 \nL 148.539138 -150.913464 \nL 146.856726 -150.045038 \nL 145.174314 -149.193618 \nL 143.491902 -148.379487 \nL 141.80949 -147.485575 \nL 140.127078 -146.589606 \nL 138.444666 -145.707855 \nL 136.762253 -144.863088 \nL 135.079841 -144.022291 \nL 133.397429 -143.205502 \nL 131.715017 -142.412309 \nL 130.032605 -141.616092 \nL 128.350193 -140.782985 \nL 126.667781 -139.946212 \nL 124.985369 -139.125895 \nL 123.302957 -138.318624 \nL 121.620545 -137.511785 \nL 119.938133 -136.703763 \nL 118.255721 -135.880693 \nL 116.573309 -135.059006 \nL 114.890897 -134.241213 \nL 113.208485 -133.427843 \nL 111.526073 -132.615678 \nL 109.84366 -131.806405 \nL 108.161248 -131.001767 \nL 106.478836 -130.198238 \nL 104.796424 -129.396706 \nL 103.114012 -128.596234 \nL 101.4316 -127.781159 \nL 99.749188 -126.966218 \nL 98.066776 -126.152195 \nL 96.384364 -125.339039 \nL 94.701952 -124.525168 \nL 93.01954 -123.710844 \nL 91.337128 -122.899013 \nL 89.654716 -122.085929 \nL 87.972304 -121.273577 \nL 86.289892 -120.464436 \nL 84.60748 -119.66026 \nL 82.925068 -118.856831 \nL 81.242655 -118.054067 \nL 79.560243 -117.250745 \nL 77.877831 -116.446404 \nL 76.195419 -115.642661 \nL 74.513007 -114.839495 \nL 72.830595 -114.036953 \nL 71.148183 -113.234938 \nL 69.465771 -112.433469 \nL 67.783359 -111.701339 \nL 66.100947 -110.969893 \nL 64.418535 -110.234844 \nL 62.736123 -109.500335 \nL 61.053711 -108.766371 \nL 59.371299 -108.035513 \nL 57.688887 -107.313429 \nL 56.006475 -106.591835 \nL 54.324062 -105.871215 \nz\n\" id=\"mfb867e74d0\" style=\"stroke:#1f77b4;stroke-opacity:0.3;\"/>\n    </defs>\n    <g clip-path=\"url(#pe0488430e2)\">\n     <use style=\"fill:#1f77b4;fill-opacity:0.3;stroke:#1f77b4;stroke-opacity:0.3;\" x=\"0\" xlink:href=\"#mfb867e74d0\" y=\"331.634375\"/>\n    </g>\n   </g>\n   <g id=\"PolyCollection_2\">\n    <defs>\n     <path d=\"M 54.324062 -105.028528 \nL 54.324062 -105.028528 \nL 56.006475 -105.721952 \nL 57.688887 -106.414918 \nL 59.371299 -107.107427 \nL 61.053711 -107.807542 \nL 62.736123 -108.509695 \nL 64.418535 -109.211325 \nL 66.100947 -109.912403 \nL 67.783359 -110.609175 \nL 69.465771 -111.306828 \nL 71.148183 -112.073358 \nL 72.830595 -112.839342 \nL 74.513007 -113.604754 \nL 76.195419 -114.36962 \nL 77.877831 -115.133886 \nL 79.560243 -115.897524 \nL 81.242655 -116.658519 \nL 82.925068 -117.417343 \nL 84.60748 -118.175458 \nL 86.289892 -118.932892 \nL 87.972304 -119.694536 \nL 89.654716 -120.458356 \nL 91.337128 -121.221421 \nL 93.01954 -121.981703 \nL 94.701952 -122.742791 \nL 96.384364 -123.501593 \nL 98.066776 -124.257725 \nL 99.749188 -125.012956 \nL 101.4316 -125.767281 \nL 103.114012 -126.519868 \nL 104.796424 -127.25446 \nL 106.478836 -127.987821 \nL 108.161248 -128.721058 \nL 109.84366 -129.453168 \nL 111.526073 -130.188052 \nL 113.208485 -130.923696 \nL 114.890897 -131.658139 \nL 116.573309 -132.393595 \nL 118.255721 -133.129569 \nL 119.938133 -133.864166 \nL 121.620545 -134.580314 \nL 123.302957 -135.292204 \nL 124.985369 -136.001866 \nL 126.667781 -136.723209 \nL 128.350193 -137.460698 \nL 130.032605 -138.192668 \nL 131.715017 -138.87723 \nL 133.397429 -139.5456 \nL 135.079841 -140.236683 \nL 136.762253 -140.952405 \nL 138.444666 -141.668058 \nL 140.127078 -142.41812 \nL 141.80949 -143.171842 \nL 143.491902 -143.919712 \nL 145.174314 -144.593256 \nL 146.856726 -145.306219 \nL 148.539138 -146.036319 \nL 150.22155 -146.762892 \nL 151.903962 -147.479489 \nL 153.586374 -148.219132 \nL 155.268786 -148.965257 \nL 156.951198 -149.725014 \nL 158.63361 -150.469638 \nL 160.316022 -151.154774 \nL 161.998434 -151.803325 \nL 163.680846 -152.447389 \nL 165.363258 -153.176909 \nL 167.045671 -153.93509 \nL 168.728083 -154.700375 \nL 170.410495 -155.533377 \nL 172.092907 -156.384609 \nL 173.775319 -157.219121 \nL 175.457731 -158.046127 \nL 177.140143 -158.862936 \nL 178.822555 -159.687678 \nL 180.504967 -160.527678 \nL 182.187379 -161.35649 \nL 183.869791 -162.171331 \nL 185.552203 -163.005277 \nL 187.234615 -163.876776 \nL 188.917027 -164.666769 \nL 190.599439 -165.351091 \nL 192.281851 -166.121573 \nL 193.964264 -166.848923 \nL 195.646676 -167.577904 \nL 197.329088 -168.348926 \nL 199.0115 -169.376729 \nL 200.693912 -170.272805 \nL 202.376324 -171.04866 \nL 204.058736 -171.573941 \nL 205.741148 -172.01086 \nL 207.42356 -172.269852 \nL 209.105972 -172.435478 \nL 210.788384 -172.783669 \nL 212.470796 -173.375375 \nL 214.153208 -173.979322 \nL 215.83562 -174.230918 \nL 217.518032 -174.420942 \nL 219.200444 -174.554885 \nL 220.882856 -174.647407 \nL 222.565269 -174.365712 \nL 224.247681 -174.03739 \nL 225.930093 -173.677937 \nL 227.612505 -173.320664 \nL 229.294917 -173.075311 \nL 230.977329 -172.57377 \nL 232.659741 -171.820852 \nL 234.342153 -171.232604 \nL 236.024565 -170.69893 \nL 237.706977 -170.107001 \nL 239.389389 -169.389737 \nL 241.071801 -168.386569 \nL 242.754213 -167.323841 \nL 244.436625 -166.265102 \nL 246.119037 -165.295898 \nL 247.801449 -164.334614 \nL 249.483861 -163.391617 \nL 251.166274 -162.459073 \nL 252.848686 -161.475121 \nL 254.531098 -160.487637 \nL 256.21351 -159.435462 \nL 257.895922 -158.430869 \nL 259.578334 -157.55244 \nL 261.260746 -156.764095 \nL 262.943158 -155.960308 \nL 264.62557 -155.331294 \nL 266.307982 -154.709075 \nL 267.990394 -154.050833 \nL 269.672806 -153.365773 \nL 271.355218 -152.660831 \nL 273.03763 -151.974262 \nL 274.720042 -151.255869 \nL 276.402454 -150.49449 \nL 278.084867 -149.761933 \nL 279.767279 -149.050118 \nL 281.449691 -148.340475 \nL 283.132103 -147.733376 \nL 284.814515 -147.259883 \nL 286.496927 -146.825977 \nL 288.179339 -146.333063 \nL 289.861751 -145.924776 \nL 291.544163 -145.527682 \nL 293.226575 -145.086421 \nL 294.908987 -144.660271 \nL 296.591399 -144.239657 \nL 298.273811 -143.869085 \nL 299.956223 -143.520872 \nL 301.638635 -143.148069 \nL 303.321047 -142.759561 \nL 305.003459 -142.369931 \nL 306.685872 -141.979176 \nL 308.368284 -141.572413 \nL 310.050696 -141.143775 \nL 311.733108 -140.713525 \nL 313.41552 -140.28111 \nL 315.097932 -139.844382 \nL 316.780344 -139.38492 \nL 318.462756 -138.930933 \nL 320.145168 -138.530469 \nL 321.82758 -138.1279 \nL 323.509992 -137.723203 \nL 325.192404 -137.316361 \nL 326.874816 -136.907352 \nL 328.557228 -136.513105 \nL 330.23964 -136.117388 \nL 331.922052 -135.719465 \nL 333.604465 -135.319317 \nL 335.286877 -134.916908 \nL 336.969289 -134.512217 \nL 338.651701 -134.105223 \nL 340.334113 -133.705843 \nL 342.016525 -133.342069 \nL 343.698937 -132.976401 \nL 345.381349 -132.667674 \nL 347.063761 -132.371158 \nL 348.746173 -132.073562 \nL 350.428585 -131.780038 \nL 352.110997 -131.492961 \nL 353.793409 -131.205072 \nL 355.475821 -130.916346 \nL 357.158233 -130.626807 \nL 358.840645 -130.341036 \nL 360.523057 -130.064754 \nL 362.20547 -129.787623 \nL 363.887882 -129.509614 \nL 365.570294 -129.229634 \nL 367.252706 -128.941296 \nL 368.935118 -128.651774 \nL 370.61753 -128.361106 \nL 372.299942 -128.069268 \nL 373.982354 -127.778851 \nL 375.664766 -127.482455 \nL 377.347178 -127.178077 \nL 379.02959 -126.880222 \nL 380.712002 -126.589764 \nL 382.394414 -126.298391 \nL 384.076826 -126.006115 \nL 385.759238 -125.712908 \nL 387.44165 -125.418807 \nL 389.124063 -125.123761 \nL 389.124063 -125.123761 \nL 389.124063 -125.123761 \nL 387.44165 -125.418807 \nL 385.759238 -125.712908 \nL 384.076826 -126.006115 \nL 382.394414 -126.298391 \nL 380.712002 -126.589764 \nL 379.02959 -126.880222 \nL 377.347178 -127.178077 \nL 375.664766 -127.482455 \nL 373.982354 -127.778851 \nL 372.299942 -128.069268 \nL 370.61753 -128.361106 \nL 368.935118 -128.651774 \nL 367.252706 -128.941296 \nL 365.570294 -129.229634 \nL 363.887882 -129.509614 \nL 362.20547 -129.787623 \nL 360.523057 -130.064754 \nL 358.840645 -130.341036 \nL 357.158233 -130.626807 \nL 355.475821 -130.916346 \nL 353.793409 -131.205072 \nL 352.110997 -131.492961 \nL 350.428585 -131.780038 \nL 348.746173 -132.073562 \nL 347.063761 -132.371158 \nL 345.381349 -132.667674 \nL 343.698937 -132.976401 \nL 342.016525 -133.342069 \nL 340.334113 -133.705843 \nL 338.651701 -134.105223 \nL 336.969289 -134.512217 \nL 335.286877 -134.916908 \nL 333.604465 -135.319317 \nL 331.922052 -135.719465 \nL 330.23964 -136.117388 \nL 328.557228 -136.513105 \nL 326.874816 -136.907352 \nL 325.192404 -137.316361 \nL 323.509992 -137.723203 \nL 321.82758 -138.1279 \nL 320.145168 -138.530469 \nL 318.462756 -138.930933 \nL 316.780344 -139.38492 \nL 315.097932 -139.844382 \nL 313.41552 -140.28111 \nL 311.733108 -140.713525 \nL 310.050696 -141.143775 \nL 308.368284 -141.572413 \nL 306.685872 -141.979176 \nL 305.003459 -142.369931 \nL 303.321047 -142.759561 \nL 301.638635 -143.148069 \nL 299.956223 -143.520872 \nL 298.273811 -143.869085 \nL 296.591399 -144.239657 \nL 294.908987 -144.660271 \nL 293.226575 -145.086421 \nL 291.544163 -145.527682 \nL 289.861751 -145.924776 \nL 288.179339 -146.333063 \nL 286.496927 -146.825977 \nL 284.814515 -147.259883 \nL 283.132103 -147.733376 \nL 281.449691 -148.340475 \nL 279.767279 -149.050118 \nL 278.084867 -149.761933 \nL 276.402454 -150.49449 \nL 274.720042 -151.255869 \nL 273.03763 -151.974262 \nL 271.355218 -152.660831 \nL 269.672806 -153.365773 \nL 267.990394 -154.050833 \nL 266.307982 -154.709075 \nL 264.62557 -155.331294 \nL 262.943158 -155.960308 \nL 261.260746 -156.764095 \nL 259.578334 -157.55244 \nL 257.895922 -158.430869 \nL 256.21351 -159.435462 \nL 254.531098 -160.487637 \nL 252.848686 -161.475121 \nL 251.166274 -162.459073 \nL 249.483861 -163.391617 \nL 247.801449 -164.334614 \nL 246.119037 -165.295898 \nL 244.436625 -166.265102 \nL 242.754213 -167.323841 \nL 241.071801 -168.386569 \nL 239.389389 -169.389737 \nL 237.706977 -170.107001 \nL 236.024565 -170.69893 \nL 234.342153 -171.232604 \nL 232.659741 -171.820852 \nL 230.977329 -172.57377 \nL 229.294917 -173.075311 \nL 227.612505 -173.320664 \nL 225.930093 -173.677937 \nL 224.247681 -174.03739 \nL 222.565269 -174.365712 \nL 220.882856 -174.647407 \nL 219.200444 -174.554885 \nL 217.518032 -174.420942 \nL 215.83562 -174.230918 \nL 214.153208 -173.979322 \nL 212.470796 -173.375375 \nL 210.788384 -172.783669 \nL 209.105972 -172.435478 \nL 207.42356 -172.269852 \nL 205.741148 -172.01086 \nL 204.058736 -171.573941 \nL 202.376324 -171.04866 \nL 200.693912 -170.272805 \nL 199.0115 -169.376729 \nL 197.329088 -168.348926 \nL 195.646676 -167.577904 \nL 193.964264 -166.848923 \nL 192.281851 -166.121573 \nL 190.599439 -165.351091 \nL 188.917027 -164.666769 \nL 187.234615 -163.876776 \nL 185.552203 -163.005277 \nL 183.869791 -162.171331 \nL 182.187379 -161.35649 \nL 180.504967 -160.527678 \nL 178.822555 -159.687678 \nL 177.140143 -158.862936 \nL 175.457731 -158.046127 \nL 173.775319 -157.219121 \nL 172.092907 -156.384609 \nL 170.410495 -155.533377 \nL 168.728083 -154.700375 \nL 167.045671 -153.93509 \nL 165.363258 -153.176909 \nL 163.680846 -152.447389 \nL 161.998434 -151.803325 \nL 160.316022 -151.154774 \nL 158.63361 -150.469638 \nL 156.951198 -149.725014 \nL 155.268786 -148.965257 \nL 153.586374 -148.219132 \nL 151.903962 -147.479489 \nL 150.22155 -146.762892 \nL 148.539138 -146.036319 \nL 146.856726 -145.306219 \nL 145.174314 -144.593256 \nL 143.491902 -143.919712 \nL 141.80949 -143.171842 \nL 140.127078 -142.41812 \nL 138.444666 -141.668058 \nL 136.762253 -140.952405 \nL 135.079841 -140.236683 \nL 133.397429 -139.5456 \nL 131.715017 -138.87723 \nL 130.032605 -138.192668 \nL 128.350193 -137.460698 \nL 126.667781 -136.723209 \nL 124.985369 -136.001866 \nL 123.302957 -135.292204 \nL 121.620545 -134.580314 \nL 119.938133 -133.864166 \nL 118.255721 -133.129569 \nL 116.573309 -132.393595 \nL 114.890897 -131.658139 \nL 113.208485 -130.923696 \nL 111.526073 -130.188052 \nL 109.84366 -129.453168 \nL 108.161248 -128.721058 \nL 106.478836 -127.987821 \nL 104.796424 -127.25446 \nL 103.114012 -126.519868 \nL 101.4316 -125.767281 \nL 99.749188 -125.012956 \nL 98.066776 -124.257725 \nL 96.384364 -123.501593 \nL 94.701952 -122.742791 \nL 93.01954 -121.981703 \nL 91.337128 -121.221421 \nL 89.654716 -120.458356 \nL 87.972304 -119.694536 \nL 86.289892 -118.932892 \nL 84.60748 -118.175458 \nL 82.925068 -117.417343 \nL 81.242655 -116.658519 \nL 79.560243 -115.897524 \nL 77.877831 -115.133886 \nL 76.195419 -114.36962 \nL 74.513007 -113.604754 \nL 72.830595 -112.839342 \nL 71.148183 -112.073358 \nL 69.465771 -111.306828 \nL 67.783359 -110.609175 \nL 66.100947 -109.912403 \nL 64.418535 -109.211325 \nL 62.736123 -108.509695 \nL 61.053711 -107.807542 \nL 59.371299 -107.107427 \nL 57.688887 -106.414918 \nL 56.006475 -105.721952 \nL 54.324062 -105.028528 \nz\n\" id=\"m648e50c899\" style=\"stroke:#1f77b4;stroke-opacity:0.3;\"/>\n    </defs>\n    <g clip-path=\"url(#pe0488430e2)\">\n     <use style=\"fill:#1f77b4;fill-opacity:0.3;stroke:#1f77b4;stroke-opacity:0.3;\" x=\"0\" xlink:href=\"#m648e50c899\" y=\"331.634375\"/>\n    </g>\n   </g>\n   <g id=\"PolyCollection_3\">\n    <defs>\n     <path d=\"M 54.324062 -105.871215 \nL 54.324062 -105.028528 \nL 56.006475 -105.721952 \nL 57.688887 -106.414918 \nL 59.371299 -107.107427 \nL 61.053711 -107.807542 \nL 62.736123 -108.509695 \nL 64.418535 -109.211325 \nL 66.100947 -109.912403 \nL 67.783359 -110.609175 \nL 69.465771 -111.306828 \nL 71.148183 -112.073358 \nL 72.830595 -112.839342 \nL 74.513007 -113.604754 \nL 76.195419 -114.36962 \nL 77.877831 -115.133886 \nL 79.560243 -115.897524 \nL 81.242655 -116.658519 \nL 82.925068 -117.417343 \nL 84.60748 -118.175458 \nL 86.289892 -118.932892 \nL 87.972304 -119.694536 \nL 89.654716 -120.458356 \nL 91.337128 -121.221421 \nL 93.01954 -121.981703 \nL 94.701952 -122.742791 \nL 96.384364 -123.501593 \nL 98.066776 -124.257725 \nL 99.749188 -125.012956 \nL 101.4316 -125.767281 \nL 103.114012 -126.519868 \nL 104.796424 -127.25446 \nL 106.478836 -127.987821 \nL 108.161248 -128.721058 \nL 109.84366 -129.453168 \nL 111.526073 -130.188052 \nL 113.208485 -130.923696 \nL 114.890897 -131.658139 \nL 116.573309 -132.393595 \nL 118.255721 -133.129569 \nL 119.938133 -133.864166 \nL 121.620545 -134.580314 \nL 123.302957 -135.292204 \nL 124.985369 -136.001866 \nL 126.667781 -136.723209 \nL 128.350193 -137.460698 \nL 130.032605 -138.192668 \nL 131.715017 -138.87723 \nL 133.397429 -139.5456 \nL 135.079841 -140.236683 \nL 136.762253 -140.952405 \nL 138.444666 -141.668058 \nL 140.127078 -142.41812 \nL 141.80949 -143.171842 \nL 143.491902 -143.919712 \nL 145.174314 -144.593256 \nL 146.856726 -145.306219 \nL 148.539138 -146.036319 \nL 150.22155 -146.762892 \nL 151.903962 -147.479489 \nL 153.586374 -148.219132 \nL 155.268786 -148.965257 \nL 156.951198 -149.725014 \nL 158.63361 -150.469638 \nL 160.316022 -151.154774 \nL 161.998434 -151.803325 \nL 163.680846 -152.447389 \nL 165.363258 -153.176909 \nL 167.045671 -153.93509 \nL 168.728083 -154.700375 \nL 170.410495 -155.533377 \nL 172.092907 -156.384609 \nL 173.775319 -157.219121 \nL 175.457731 -158.046127 \nL 177.140143 -158.862936 \nL 178.822555 -159.687678 \nL 180.504967 -160.527678 \nL 182.187379 -161.35649 \nL 183.869791 -162.171331 \nL 185.552203 -163.005277 \nL 187.234615 -163.876776 \nL 188.917027 -164.666769 \nL 190.599439 -165.351091 \nL 192.281851 -166.121573 \nL 193.964264 -166.848923 \nL 195.646676 -167.577904 \nL 197.329088 -168.348926 \nL 199.0115 -169.376729 \nL 200.693912 -170.272805 \nL 202.376324 -171.04866 \nL 204.058736 -171.573941 \nL 205.741148 -172.01086 \nL 207.42356 -172.269852 \nL 209.105972 -172.435478 \nL 210.788384 -172.783669 \nL 212.470796 -173.375375 \nL 214.153208 -173.979322 \nL 215.83562 -174.230918 \nL 217.518032 -174.420942 \nL 219.200444 -174.554885 \nL 220.882856 -174.647407 \nL 222.565269 -174.365712 \nL 224.247681 -174.03739 \nL 225.930093 -173.677937 \nL 227.612505 -173.320664 \nL 229.294917 -173.075311 \nL 230.977329 -172.57377 \nL 232.659741 -171.820852 \nL 234.342153 -171.232604 \nL 236.024565 -170.69893 \nL 237.706977 -170.107001 \nL 239.389389 -169.389737 \nL 241.071801 -168.386569 \nL 242.754213 -167.323841 \nL 244.436625 -166.265102 \nL 246.119037 -165.295898 \nL 247.801449 -164.334614 \nL 249.483861 -163.391617 \nL 251.166274 -162.459073 \nL 252.848686 -161.475121 \nL 254.531098 -160.487637 \nL 256.21351 -159.435462 \nL 257.895922 -158.430869 \nL 259.578334 -157.55244 \nL 261.260746 -156.764095 \nL 262.943158 -155.960308 \nL 264.62557 -155.331294 \nL 266.307982 -154.709075 \nL 267.990394 -154.050833 \nL 269.672806 -153.365773 \nL 271.355218 -152.660831 \nL 273.03763 -151.974262 \nL 274.720042 -151.255869 \nL 276.402454 -150.49449 \nL 278.084867 -149.761933 \nL 279.767279 -149.050118 \nL 281.449691 -148.340475 \nL 283.132103 -147.733376 \nL 284.814515 -147.259883 \nL 286.496927 -146.825977 \nL 288.179339 -146.333063 \nL 289.861751 -145.924776 \nL 291.544163 -145.527682 \nL 293.226575 -145.086421 \nL 294.908987 -144.660271 \nL 296.591399 -144.239657 \nL 298.273811 -143.869085 \nL 299.956223 -143.520872 \nL 301.638635 -143.148069 \nL 303.321047 -142.759561 \nL 305.003459 -142.369931 \nL 306.685872 -141.979176 \nL 308.368284 -141.572413 \nL 310.050696 -141.143775 \nL 311.733108 -140.713525 \nL 313.41552 -140.28111 \nL 315.097932 -139.844382 \nL 316.780344 -139.38492 \nL 318.462756 -138.930933 \nL 320.145168 -138.530469 \nL 321.82758 -138.1279 \nL 323.509992 -137.723203 \nL 325.192404 -137.316361 \nL 326.874816 -136.907352 \nL 328.557228 -136.513105 \nL 330.23964 -136.117388 \nL 331.922052 -135.719465 \nL 333.604465 -135.319317 \nL 335.286877 -134.916908 \nL 336.969289 -134.512217 \nL 338.651701 -134.105223 \nL 340.334113 -133.705843 \nL 342.016525 -133.342069 \nL 343.698937 -132.976401 \nL 345.381349 -132.667674 \nL 347.063761 -132.371158 \nL 348.746173 -132.073562 \nL 350.428585 -131.780038 \nL 352.110997 -131.492961 \nL 353.793409 -131.205072 \nL 355.475821 -130.916346 \nL 357.158233 -130.626807 \nL 358.840645 -130.341036 \nL 360.523057 -130.064754 \nL 362.20547 -129.787623 \nL 363.887882 -129.509614 \nL 365.570294 -129.229634 \nL 367.252706 -128.941296 \nL 368.935118 -128.651774 \nL 370.61753 -128.361106 \nL 372.299942 -128.069268 \nL 373.982354 -127.778851 \nL 375.664766 -127.482455 \nL 377.347178 -127.178077 \nL 379.02959 -126.880222 \nL 380.712002 -126.589764 \nL 382.394414 -126.298391 \nL 384.076826 -126.006115 \nL 385.759238 -125.712908 \nL 387.44165 -125.418807 \nL 389.124063 -125.123761 \nL 389.124063 -179.18944 \nL 389.124063 -179.18944 \nL 387.44165 -179.167768 \nL 385.759238 -179.147019 \nL 384.076826 -179.127197 \nL 382.394414 -179.108307 \nL 380.712002 -179.090297 \nL 379.02959 -179.073213 \nL 377.347178 -179.04903 \nL 375.664766 -179.018626 \nL 373.982354 -178.976075 \nL 372.299942 -178.919445 \nL 370.61753 -178.865678 \nL 368.935118 -178.813082 \nL 367.252706 -178.761658 \nL 365.570294 -178.711375 \nL 363.887882 -178.691942 \nL 362.20547 -178.677912 \nL 360.523057 -178.664699 \nL 358.840645 -178.652379 \nL 357.158233 -178.653227 \nL 355.475821 -178.660376 \nL 353.793409 -178.668385 \nL 352.110997 -178.677212 \nL 350.428585 -178.68685 \nL 348.746173 -178.678117 \nL 347.063761 -178.65687 \nL 345.381349 -178.636724 \nL 343.698937 -178.603727 \nL 342.016525 -178.554832 \nL 340.334113 -178.507812 \nL 338.651701 -178.461112 \nL 336.969289 -178.416271 \nL 335.286877 -178.373747 \nL 333.604465 -178.333497 \nL 331.922052 -178.295498 \nL 330.23964 -178.25972 \nL 328.557228 -178.226166 \nL 326.874816 -178.195406 \nL 325.192404 -178.181177 \nL 323.509992 -178.169115 \nL 321.82758 -178.159206 \nL 320.145168 -178.151424 \nL 318.462756 -178.145737 \nL 316.780344 -178.196847 \nL 315.097932 -178.265186 \nL 313.41552 -178.350232 \nL 311.733108 -178.430968 \nL 310.050696 -178.512188 \nL 308.368284 -178.595012 \nL 306.685872 -178.699993 \nL 305.003459 -178.803021 \nL 303.321047 -178.907177 \nL 301.638635 -179.012446 \nL 299.956223 -179.14834 \nL 298.273811 -179.333331 \nL 296.591399 -179.54216 \nL 294.908987 -179.830121 \nL 293.226575 -180.120424 \nL 291.544163 -180.399956 \nL 289.861751 -180.712325 \nL 288.179339 -181.030251 \nL 286.496927 -181.422632 \nL 284.814515 -181.824641 \nL 283.132103 -182.217185 \nL 281.449691 -182.534809 \nL 279.767279 -183.029 \nL 278.084867 -183.503394 \nL 276.402454 -183.945244 \nL 274.720042 -184.391959 \nL 273.03763 -184.82476 \nL 271.355218 -185.30118 \nL 269.672806 -185.782299 \nL 267.990394 -186.219256 \nL 266.307982 -186.533667 \nL 264.62557 -186.784661 \nL 262.943158 -186.947688 \nL 261.260746 -187.165605 \nL 259.578334 -187.404934 \nL 257.895922 -187.672625 \nL 256.21351 -188.048851 \nL 254.531098 -188.446705 \nL 252.848686 -188.77956 \nL 251.166274 -189.106723 \nL 249.483861 -189.440137 \nL 247.801449 -189.803671 \nL 246.119037 -190.2448 \nL 244.436625 -190.689297 \nL 242.754213 -191.118527 \nL 241.071801 -191.581568 \nL 239.389389 -192.005825 \nL 237.706977 -192.145494 \nL 236.024565 -192.249786 \nL 234.342153 -192.318913 \nL 232.659741 -192.523086 \nL 230.977329 -193.027267 \nL 229.294917 -193.334193 \nL 227.612505 -193.437747 \nL 225.930093 -193.618965 \nL 224.247681 -193.925852 \nL 222.565269 -194.090864 \nL 220.882856 -194.015742 \nL 219.200444 -193.6251 \nL 217.518032 -193.013284 \nL 215.83562 -192.437638 \nL 214.153208 -191.810701 \nL 212.470796 -190.835642 \nL 210.788384 -189.965519 \nL 209.105972 -189.277248 \nL 207.42356 -188.792216 \nL 205.741148 -188.226831 \nL 204.058736 -187.435088 \nL 202.376324 -186.597242 \nL 200.693912 -185.319362 \nL 199.0115 -183.83808 \nL 197.329088 -182.241203 \nL 195.646676 -180.881778 \nL 193.964264 -179.536143 \nL 192.281851 -178.25352 \nL 190.599439 -177.002032 \nL 188.917027 -175.870806 \nL 187.234615 -174.673084 \nL 185.552203 -173.430623 \nL 183.869791 -172.27814 \nL 182.187379 -171.170495 \nL 180.504967 -170.050534 \nL 178.822555 -168.922883 \nL 177.140143 -167.789102 \nL 175.457731 -166.635219 \nL 173.775319 -165.449232 \nL 172.092907 -164.270745 \nL 170.410495 -163.078915 \nL 168.728083 -161.953456 \nL 167.045671 -160.933788 \nL 165.363258 -159.943093 \nL 163.680846 -158.98285 \nL 161.998434 -158.096653 \nL 160.316022 -157.214941 \nL 158.63361 -156.311473 \nL 156.951198 -155.366619 \nL 155.268786 -154.428488 \nL 153.586374 -153.524079 \nL 151.903962 -152.6351 \nL 150.22155 -151.781273 \nL 148.539138 -150.913464 \nL 146.856726 -150.045038 \nL 145.174314 -149.193618 \nL 143.491902 -148.379487 \nL 141.80949 -147.485575 \nL 140.127078 -146.589606 \nL 138.444666 -145.707855 \nL 136.762253 -144.863088 \nL 135.079841 -144.022291 \nL 133.397429 -143.205502 \nL 131.715017 -142.412309 \nL 130.032605 -141.616092 \nL 128.350193 -140.782985 \nL 126.667781 -139.946212 \nL 124.985369 -139.125895 \nL 123.302957 -138.318624 \nL 121.620545 -137.511785 \nL 119.938133 -136.703763 \nL 118.255721 -135.880693 \nL 116.573309 -135.059006 \nL 114.890897 -134.241213 \nL 113.208485 -133.427843 \nL 111.526073 -132.615678 \nL 109.84366 -131.806405 \nL 108.161248 -131.001767 \nL 106.478836 -130.198238 \nL 104.796424 -129.396706 \nL 103.114012 -128.596234 \nL 101.4316 -127.781159 \nL 99.749188 -126.966218 \nL 98.066776 -126.152195 \nL 96.384364 -125.339039 \nL 94.701952 -124.525168 \nL 93.01954 -123.710844 \nL 91.337128 -122.899013 \nL 89.654716 -122.085929 \nL 87.972304 -121.273577 \nL 86.289892 -120.464436 \nL 84.60748 -119.66026 \nL 82.925068 -118.856831 \nL 81.242655 -118.054067 \nL 79.560243 -117.250745 \nL 77.877831 -116.446404 \nL 76.195419 -115.642661 \nL 74.513007 -114.839495 \nL 72.830595 -114.036953 \nL 71.148183 -113.234938 \nL 69.465771 -112.433469 \nL 67.783359 -111.701339 \nL 66.100947 -110.969893 \nL 64.418535 -110.234844 \nL 62.736123 -109.500335 \nL 61.053711 -108.766371 \nL 59.371299 -108.035513 \nL 57.688887 -107.313429 \nL 56.006475 -106.591835 \nL 54.324062 -105.871215 \nz\n\" id=\"m46eb457028\" style=\"stroke:#ff7f0e;stroke-opacity:0.4;\"/>\n    </defs>\n    <g clip-path=\"url(#pe0488430e2)\">\n     <use style=\"fill:#ff7f0e;fill-opacity:0.4;stroke:#ff7f0e;stroke-opacity:0.4;\" x=\"0\" xlink:href=\"#m46eb457028\" y=\"331.634375\"/>\n    </g>\n   </g>\n   <g id=\"matplotlib.axis_1\">\n    <g id=\"xtick_1\">\n     <g id=\"line2d_1\">\n      <path clip-path=\"url(#pe0488430e2)\" d=\"M 87.804062 284.4 \nL 87.804062 7.2 \n\" style=\"fill:none;stroke:#b0b0b0;stroke-linecap:square;stroke-opacity:0.3;stroke-width:0.8;\"/>\n     </g>\n     <g id=\"line2d_2\">\n      <defs>\n       <path d=\"M 0 0 \nL 0 3.5 \n\" id=\"m56ea45adad\" style=\"stroke:#000000;stroke-width:0.8;\"/>\n      </defs>\n      <g>\n       <use style=\"stroke:#000000;stroke-width:0.8;\" x=\"87.804062\" xlink:href=\"#m56ea45adad\" y=\"284.4\"/>\n      </g>\n     </g>\n     <g id=\"text_1\">\n      <!-- −4 -->\n      <defs>\n       <path d=\"M 10.59375 35.5 \nL 73.1875 35.5 \nL 73.1875 27.203125 \nL 10.59375 27.203125 \nz\n\" id=\"DejaVuSans-8722\"/>\n       <path d=\"M 37.796875 64.3125 \nL 12.890625 25.390625 \nL 37.796875 25.390625 \nz\nM 35.203125 72.90625 \nL 47.609375 72.90625 \nL 47.609375 25.390625 \nL 58.015625 25.390625 \nL 58.015625 17.1875 \nL 47.609375 17.1875 \nL 47.609375 0 \nL 37.796875 0 \nL 37.796875 17.1875 \nL 4.890625 17.1875 \nL 4.890625 26.703125 \nz\n\" id=\"DejaVuSans-52\"/>\n      </defs>\n      <g transform=\"translate(77.484531 302.037812)scale(0.14 -0.14)\">\n       <use xlink:href=\"#DejaVuSans-8722\"/>\n       <use x=\"83.789062\" xlink:href=\"#DejaVuSans-52\"/>\n      </g>\n     </g>\n    </g>\n    <g id=\"xtick_2\">\n     <g id=\"line2d_3\">\n      <path clip-path=\"url(#pe0488430e2)\" d=\"M 154.764062 284.4 \nL 154.764062 7.2 \n\" style=\"fill:none;stroke:#b0b0b0;stroke-linecap:square;stroke-opacity:0.3;stroke-width:0.8;\"/>\n     </g>\n     <g id=\"line2d_4\">\n      <g>\n       <use style=\"stroke:#000000;stroke-width:0.8;\" x=\"154.764062\" xlink:href=\"#m56ea45adad\" y=\"284.4\"/>\n      </g>\n     </g>\n     <g id=\"text_2\">\n      <!-- −2 -->\n      <defs>\n       <path d=\"M 19.1875 8.296875 \nL 53.609375 8.296875 \nL 53.609375 0 \nL 7.328125 0 \nL 7.328125 8.296875 \nQ 12.9375 14.109375 22.625 23.890625 \nQ 32.328125 33.6875 34.8125 36.53125 \nQ 39.546875 41.84375 41.421875 45.53125 \nQ 43.3125 49.21875 43.3125 52.78125 \nQ 43.3125 58.59375 39.234375 62.25 \nQ 35.15625 65.921875 28.609375 65.921875 \nQ 23.96875 65.921875 18.8125 64.3125 \nQ 13.671875 62.703125 7.8125 59.421875 \nL 7.8125 69.390625 \nQ 13.765625 71.78125 18.9375 73 \nQ 24.125 74.21875 28.421875 74.21875 \nQ 39.75 74.21875 46.484375 68.546875 \nQ 53.21875 62.890625 53.21875 53.421875 \nQ 53.21875 48.921875 51.53125 44.890625 \nQ 49.859375 40.875 45.40625 35.40625 \nQ 44.1875 33.984375 37.640625 27.21875 \nQ 31.109375 20.453125 19.1875 8.296875 \nz\n\" id=\"DejaVuSans-50\"/>\n      </defs>\n      <g transform=\"translate(144.444531 302.037812)scale(0.14 -0.14)\">\n       <use xlink:href=\"#DejaVuSans-8722\"/>\n       <use x=\"83.789062\" xlink:href=\"#DejaVuSans-50\"/>\n      </g>\n     </g>\n    </g>\n    <g id=\"xtick_3\">\n     <g id=\"line2d_5\">\n      <path clip-path=\"url(#pe0488430e2)\" d=\"M 221.724063 284.4 \nL 221.724063 7.2 \n\" style=\"fill:none;stroke:#b0b0b0;stroke-linecap:square;stroke-opacity:0.3;stroke-width:0.8;\"/>\n     </g>\n     <g id=\"line2d_6\">\n      <g>\n       <use style=\"stroke:#000000;stroke-width:0.8;\" x=\"221.724063\" xlink:href=\"#m56ea45adad\" y=\"284.4\"/>\n      </g>\n     </g>\n     <g id=\"text_3\">\n      <!-- 0 -->\n      <defs>\n       <path d=\"M 31.78125 66.40625 \nQ 24.171875 66.40625 20.328125 58.90625 \nQ 16.5 51.421875 16.5 36.375 \nQ 16.5 21.390625 20.328125 13.890625 \nQ 24.171875 6.390625 31.78125 6.390625 \nQ 39.453125 6.390625 43.28125 13.890625 \nQ 47.125 21.390625 47.125 36.375 \nQ 47.125 51.421875 43.28125 58.90625 \nQ 39.453125 66.40625 31.78125 66.40625 \nz\nM 31.78125 74.21875 \nQ 44.046875 74.21875 50.515625 64.515625 \nQ 56.984375 54.828125 56.984375 36.375 \nQ 56.984375 17.96875 50.515625 8.265625 \nQ 44.046875 -1.421875 31.78125 -1.421875 \nQ 19.53125 -1.421875 13.0625 8.265625 \nQ 6.59375 17.96875 6.59375 36.375 \nQ 6.59375 54.828125 13.0625 64.515625 \nQ 19.53125 74.21875 31.78125 74.21875 \nz\n\" id=\"DejaVuSans-48\"/>\n      </defs>\n      <g transform=\"translate(217.270312 302.037812)scale(0.14 -0.14)\">\n       <use xlink:href=\"#DejaVuSans-48\"/>\n      </g>\n     </g>\n    </g>\n    <g id=\"xtick_4\">\n     <g id=\"line2d_7\">\n      <path clip-path=\"url(#pe0488430e2)\" d=\"M 288.684062 284.4 \nL 288.684062 7.2 \n\" style=\"fill:none;stroke:#b0b0b0;stroke-linecap:square;stroke-opacity:0.3;stroke-width:0.8;\"/>\n     </g>\n     <g id=\"line2d_8\">\n      <g>\n       <use style=\"stroke:#000000;stroke-width:0.8;\" x=\"288.684062\" xlink:href=\"#m56ea45adad\" y=\"284.4\"/>\n      </g>\n     </g>\n     <g id=\"text_4\">\n      <!-- 2 -->\n      <g transform=\"translate(284.230312 302.037812)scale(0.14 -0.14)\">\n       <use xlink:href=\"#DejaVuSans-50\"/>\n      </g>\n     </g>\n    </g>\n    <g id=\"xtick_5\">\n     <g id=\"line2d_9\">\n      <path clip-path=\"url(#pe0488430e2)\" d=\"M 355.644063 284.4 \nL 355.644063 7.2 \n\" style=\"fill:none;stroke:#b0b0b0;stroke-linecap:square;stroke-opacity:0.3;stroke-width:0.8;\"/>\n     </g>\n     <g id=\"line2d_10\">\n      <g>\n       <use style=\"stroke:#000000;stroke-width:0.8;\" x=\"355.644063\" xlink:href=\"#m56ea45adad\" y=\"284.4\"/>\n      </g>\n     </g>\n     <g id=\"text_5\">\n      <!-- 4 -->\n      <g transform=\"translate(351.190313 302.037812)scale(0.14 -0.14)\">\n       <use xlink:href=\"#DejaVuSans-52\"/>\n      </g>\n     </g>\n    </g>\n    <g id=\"text_6\">\n     <!-- $x$ -->\n     <defs>\n      <path d=\"M 60.015625 54.6875 \nL 34.90625 27.875 \nL 50.296875 0 \nL 39.984375 0 \nL 28.421875 21.6875 \nL 8.296875 0 \nL -2.59375 0 \nL 24.3125 28.8125 \nL 10.015625 54.6875 \nL 20.3125 54.6875 \nL 30.8125 34.90625 \nL 49.125 54.6875 \nz\n\" id=\"DejaVuSans-Oblique-120\"/>\n     </defs>\n     <g transform=\"translate(216.924062 321.106875)scale(0.16 -0.16)\">\n      <use transform=\"translate(0 0.3125)\" xlink:href=\"#DejaVuSans-Oblique-120\"/>\n     </g>\n    </g>\n   </g>\n   <g id=\"matplotlib.axis_2\">\n    <g id=\"ytick_1\">\n     <g id=\"line2d_11\">\n      <path clip-path=\"url(#pe0488430e2)\" d=\"M 54.324063 261.3 \nL 389.124063 261.3 \n\" style=\"fill:none;stroke:#b0b0b0;stroke-linecap:square;stroke-opacity:0.3;stroke-width:0.8;\"/>\n     </g>\n     <g id=\"line2d_12\">\n      <defs>\n       <path d=\"M 0 0 \nL -3.5 0 \n\" id=\"m5c002686b7\" style=\"stroke:#000000;stroke-width:0.8;\"/>\n      </defs>\n      <g>\n       <use style=\"stroke:#000000;stroke-width:0.8;\" x=\"54.324063\" xlink:href=\"#m5c002686b7\" y=\"261.3\"/>\n      </g>\n     </g>\n     <g id=\"text_7\">\n      <!-- −4 -->\n      <g transform=\"translate(26.685 266.618906)scale(0.14 -0.14)\">\n       <use xlink:href=\"#DejaVuSans-8722\"/>\n       <use x=\"83.789062\" xlink:href=\"#DejaVuSans-52\"/>\n      </g>\n     </g>\n    </g>\n    <g id=\"ytick_2\">\n     <g id=\"line2d_13\">\n      <path clip-path=\"url(#pe0488430e2)\" d=\"M 54.324063 215.1 \nL 389.124063 215.1 \n\" style=\"fill:none;stroke:#b0b0b0;stroke-linecap:square;stroke-opacity:0.3;stroke-width:0.8;\"/>\n     </g>\n     <g id=\"line2d_14\">\n      <g>\n       <use style=\"stroke:#000000;stroke-width:0.8;\" x=\"54.324063\" xlink:href=\"#m5c002686b7\" y=\"215.1\"/>\n      </g>\n     </g>\n     <g id=\"text_8\">\n      <!-- −2 -->\n      <g transform=\"translate(26.685 220.418906)scale(0.14 -0.14)\">\n       <use xlink:href=\"#DejaVuSans-8722\"/>\n       <use x=\"83.789062\" xlink:href=\"#DejaVuSans-50\"/>\n      </g>\n     </g>\n    </g>\n    <g id=\"ytick_3\">\n     <g id=\"line2d_15\">\n      <path clip-path=\"url(#pe0488430e2)\" d=\"M 54.324063 168.9 \nL 389.124063 168.9 \n\" style=\"fill:none;stroke:#b0b0b0;stroke-linecap:square;stroke-opacity:0.3;stroke-width:0.8;\"/>\n     </g>\n     <g id=\"line2d_16\">\n      <g>\n       <use style=\"stroke:#000000;stroke-width:0.8;\" x=\"54.324063\" xlink:href=\"#m5c002686b7\" y=\"168.9\"/>\n      </g>\n     </g>\n     <g id=\"text_9\">\n      <!-- 0 -->\n      <g transform=\"translate(38.416563 174.218906)scale(0.14 -0.14)\">\n       <use xlink:href=\"#DejaVuSans-48\"/>\n      </g>\n     </g>\n    </g>\n    <g id=\"ytick_4\">\n     <g id=\"line2d_17\">\n      <path clip-path=\"url(#pe0488430e2)\" d=\"M 54.324063 122.7 \nL 389.124063 122.7 \n\" style=\"fill:none;stroke:#b0b0b0;stroke-linecap:square;stroke-opacity:0.3;stroke-width:0.8;\"/>\n     </g>\n     <g id=\"line2d_18\">\n      <g>\n       <use style=\"stroke:#000000;stroke-width:0.8;\" x=\"54.324063\" xlink:href=\"#m5c002686b7\" y=\"122.7\"/>\n      </g>\n     </g>\n     <g id=\"text_10\">\n      <!-- 2 -->\n      <g transform=\"translate(38.416563 128.018906)scale(0.14 -0.14)\">\n       <use xlink:href=\"#DejaVuSans-50\"/>\n      </g>\n     </g>\n    </g>\n    <g id=\"ytick_5\">\n     <g id=\"line2d_19\">\n      <path clip-path=\"url(#pe0488430e2)\" d=\"M 54.324063 76.5 \nL 389.124063 76.5 \n\" style=\"fill:none;stroke:#b0b0b0;stroke-linecap:square;stroke-opacity:0.3;stroke-width:0.8;\"/>\n     </g>\n     <g id=\"line2d_20\">\n      <g>\n       <use style=\"stroke:#000000;stroke-width:0.8;\" x=\"54.324063\" xlink:href=\"#m5c002686b7\" y=\"76.5\"/>\n      </g>\n     </g>\n     <g id=\"text_11\">\n      <!-- 4 -->\n      <g transform=\"translate(38.416563 81.818906)scale(0.14 -0.14)\">\n       <use xlink:href=\"#DejaVuSans-52\"/>\n      </g>\n     </g>\n    </g>\n    <g id=\"ytick_6\">\n     <g id=\"line2d_21\">\n      <path clip-path=\"url(#pe0488430e2)\" d=\"M 54.324063 30.3 \nL 389.124063 30.3 \n\" style=\"fill:none;stroke:#b0b0b0;stroke-linecap:square;stroke-opacity:0.3;stroke-width:0.8;\"/>\n     </g>\n     <g id=\"line2d_22\">\n      <g>\n       <use style=\"stroke:#000000;stroke-width:0.8;\" x=\"54.324063\" xlink:href=\"#m5c002686b7\" y=\"30.3\"/>\n      </g>\n     </g>\n     <g id=\"text_12\">\n      <!-- 6 -->\n      <defs>\n       <path d=\"M 33.015625 40.375 \nQ 26.375 40.375 22.484375 35.828125 \nQ 18.609375 31.296875 18.609375 23.390625 \nQ 18.609375 15.53125 22.484375 10.953125 \nQ 26.375 6.390625 33.015625 6.390625 \nQ 39.65625 6.390625 43.53125 10.953125 \nQ 47.40625 15.53125 47.40625 23.390625 \nQ 47.40625 31.296875 43.53125 35.828125 \nQ 39.65625 40.375 33.015625 40.375 \nz\nM 52.59375 71.296875 \nL 52.59375 62.3125 \nQ 48.875 64.0625 45.09375 64.984375 \nQ 41.3125 65.921875 37.59375 65.921875 \nQ 27.828125 65.921875 22.671875 59.328125 \nQ 17.53125 52.734375 16.796875 39.40625 \nQ 19.671875 43.65625 24.015625 45.921875 \nQ 28.375 48.1875 33.59375 48.1875 \nQ 44.578125 48.1875 50.953125 41.515625 \nQ 57.328125 34.859375 57.328125 23.390625 \nQ 57.328125 12.15625 50.6875 5.359375 \nQ 44.046875 -1.421875 33.015625 -1.421875 \nQ 20.359375 -1.421875 13.671875 8.265625 \nQ 6.984375 17.96875 6.984375 36.375 \nQ 6.984375 53.65625 15.1875 63.9375 \nQ 23.390625 74.21875 37.203125 74.21875 \nQ 40.921875 74.21875 44.703125 73.484375 \nQ 48.484375 72.75 52.59375 71.296875 \nz\n\" id=\"DejaVuSans-54\"/>\n      </defs>\n      <g transform=\"translate(38.416563 35.618906)scale(0.14 -0.14)\">\n       <use xlink:href=\"#DejaVuSans-54\"/>\n      </g>\n     </g>\n    </g>\n    <g id=\"text_13\">\n     <!-- $y$ -->\n     <defs>\n      <path d=\"M 24.8125 -5.078125 \nQ 18.5625 -15.578125 14.625 -18.1875 \nQ 10.6875 -20.796875 4.59375 -20.796875 \nL -2.484375 -20.796875 \nL -0.984375 -13.28125 \nL 4.203125 -13.28125 \nQ 7.953125 -13.28125 10.59375 -11.234375 \nQ 13.234375 -9.1875 16.5 -3.21875 \nL 19.28125 2 \nL 7.171875 54.6875 \nL 16.703125 54.6875 \nL 25.78125 12.796875 \nL 50.875 54.6875 \nL 60.296875 54.6875 \nz\n\" id=\"DejaVuSans-Oblique-121\"/>\n     </defs>\n     <g transform=\"translate(19.325 150.6)rotate(-90)scale(0.16 -0.16)\">\n      <use transform=\"translate(0 0.3125)\" xlink:href=\"#DejaVuSans-Oblique-121\"/>\n     </g>\n    </g>\n   </g>\n   <g id=\"line2d_23\">\n    <path clip-path=\"url(#pe0488430e2)\" d=\"M 54.324062 226.184503 \nL 69.465771 219.764226 \nL 119.938133 196.35041 \nL 140.127078 187.130512 \nL 145.174314 184.740938 \nL 155.268786 179.937502 \nL 160.316022 177.449518 \nL 165.363258 175.074374 \nL 170.410495 172.328229 \nL 178.822555 167.329095 \nL 195.646676 157.404534 \nL 197.329088 156.339311 \nL 200.693912 153.838292 \nL 202.376324 152.811424 \nL 205.741148 151.51553 \nL 210.788384 150.259781 \nL 214.153208 148.739364 \nL 217.518032 147.917261 \nL 219.200444 147.544382 \nL 220.882856 147.302801 \nL 222.565269 147.406087 \nL 229.294917 148.429622 \nL 230.977329 148.833855 \nL 232.659741 149.462405 \nL 236.024565 150.160017 \nL 239.389389 150.936593 \nL 251.166274 155.851477 \nL 261.260746 159.669525 \nL 264.62557 160.576398 \nL 267.990394 161.499331 \nL 276.402454 164.414508 \nL 283.132103 166.659095 \nL 289.861751 168.315824 \nL 298.273811 170.033167 \nL 311.733108 172.062129 \nL 321.82758 173.490823 \nL 336.969289 175.170131 \nL 345.381349 175.982176 \nL 389.124063 179.477775 \nL 389.124063 179.477775 \n\" style=\"fill:none;stroke:#000000;stroke-linecap:square;\"/>\n   </g>\n   <g id=\"patch_3\">\n    <path d=\"M 54.324063 284.4 \nL 54.324063 7.2 \n\" style=\"fill:none;stroke:#000000;stroke-linecap:square;stroke-linejoin:miter;stroke-width:0.8;\"/>\n   </g>\n   <g id=\"patch_4\">\n    <path d=\"M 389.124063 284.4 \nL 389.124063 7.2 \n\" style=\"fill:none;stroke:#000000;stroke-linecap:square;stroke-linejoin:miter;stroke-width:0.8;\"/>\n   </g>\n   <g id=\"patch_5\">\n    <path d=\"M 54.324062 284.4 \nL 389.124063 284.4 \n\" style=\"fill:none;stroke:#000000;stroke-linecap:square;stroke-linejoin:miter;stroke-width:0.8;\"/>\n   </g>\n   <g id=\"patch_6\">\n    <path d=\"M 54.324062 7.2 \nL 389.124063 7.2 \n\" style=\"fill:none;stroke:#000000;stroke-linecap:square;stroke-linejoin:miter;stroke-width:0.8;\"/>\n   </g>\n  </g>\n </g>\n <defs>\n  <clipPath id=\"pe0488430e2\">\n   <rect height=\"277.2\" width=\"334.8\" x=\"54.324063\" y=\"7.2\"/>\n  </clipPath>\n </defs>\n</svg>\n"
          },
          "metadata": {
            "tags": []
          }
        },
        {
          "output_type": "stream",
          "text": [
            " /usr/local/lib/python3.7/dist-packages/opacus/privacy_engine.py:646: UserWarning:A ``sample_rate`` has been provided.Thus, the provided ``batch_size``and ``sample_size`` will be ignored.\n",
            " /usr/local/lib/python3.7/dist-packages/opacus/privacy_engine.py:230: UserWarning:Secure RNG turned off. This is perfectly fine for experimentation as it allows for much faster training performance, but remember to turn it on and retrain one last time before production with ``secure_rng`` turned on.\n",
            " /usr/local/lib/python3.7/dist-packages/torch/nn/modules/module.py:974: UserWarning:Using a non-full backward hook when the forward contains multiple autograd Nodes is deprecated and will be removed in future versions. This hook will be missing some grad_input. Please use register_full_backward_hook to get the documented behavior.\n"
          ],
          "name": "stderr"
        },
        {
          "output_type": "stream",
          "text": [
            "Epoch:    0, Train loss =  164.548\n",
            "Epoch:   50, Train loss =  124.741\n",
            "Epoch:  100, Train loss =  183.712\n",
            "Epoch:  150, Train loss =  215.045\n",
            "Epoch:  200, Train loss =  151.875\n"
          ],
          "name": "stdout"
        },
        {
          "output_type": "stream",
          "text": [
            " /usr/local/lib/python3.7/dist-packages/opacus/privacy_engine.py:646: UserWarning:A ``sample_rate`` has been provided.Thus, the provided ``batch_size``and ``sample_size`` will be ignored.\n",
            " /usr/local/lib/python3.7/dist-packages/opacus/privacy_engine.py:230: UserWarning:Secure RNG turned off. This is perfectly fine for experimentation as it allows for much faster training performance, but remember to turn it on and retrain one last time before production with ``secure_rng`` turned on.\n",
            " /usr/local/lib/python3.7/dist-packages/torch/nn/modules/module.py:974: UserWarning:Using a non-full backward hook when the forward contains multiple autograd Nodes is deprecated and will be removed in future versions. This hook will be missing some grad_input. Please use register_full_backward_hook to get the documented behavior.\n"
          ],
          "name": "stderr"
        },
        {
          "output_type": "stream",
          "text": [
            "Epoch:    0, Train loss =  165.675\n",
            "Epoch:   50, Train loss =  209.055\n",
            "Epoch:  100, Train loss =  314.166\n",
            "Epoch:  150, Train loss =  442.780\n",
            "Epoch:  200, Train loss =  283.678\n"
          ],
          "name": "stdout"
        },
        {
          "output_type": "stream",
          "text": [
            " /usr/local/lib/python3.7/dist-packages/opacus/privacy_engine.py:646: UserWarning:A ``sample_rate`` has been provided.Thus, the provided ``batch_size``and ``sample_size`` will be ignored.\n",
            " /usr/local/lib/python3.7/dist-packages/opacus/privacy_engine.py:230: UserWarning:Secure RNG turned off. This is perfectly fine for experimentation as it allows for much faster training performance, but remember to turn it on and retrain one last time before production with ``secure_rng`` turned on.\n",
            " /usr/local/lib/python3.7/dist-packages/torch/nn/modules/module.py:974: UserWarning:Using a non-full backward hook when the forward contains multiple autograd Nodes is deprecated and will be removed in future versions. This hook will be missing some grad_input. Please use register_full_backward_hook to get the documented behavior.\n"
          ],
          "name": "stderr"
        },
        {
          "output_type": "stream",
          "text": [
            "Epoch:    0, Train loss =  116.373\n",
            "Epoch:   50, Train loss =  218.168\n",
            "Epoch:  100, Train loss =  111.178\n",
            "Epoch:  150, Train loss =   95.163\n",
            "Epoch:  200, Train loss =   48.433\n"
          ],
          "name": "stdout"
        },
        {
          "output_type": "stream",
          "text": [
            " /usr/local/lib/python3.7/dist-packages/opacus/privacy_engine.py:646: UserWarning:A ``sample_rate`` has been provided.Thus, the provided ``batch_size``and ``sample_size`` will be ignored.\n",
            " /usr/local/lib/python3.7/dist-packages/opacus/privacy_engine.py:230: UserWarning:Secure RNG turned off. This is perfectly fine for experimentation as it allows for much faster training performance, but remember to turn it on and retrain one last time before production with ``secure_rng`` turned on.\n",
            " /usr/local/lib/python3.7/dist-packages/torch/nn/modules/module.py:974: UserWarning:Using a non-full backward hook when the forward contains multiple autograd Nodes is deprecated and will be removed in future versions. This hook will be missing some grad_input. Please use register_full_backward_hook to get the documented behavior.\n"
          ],
          "name": "stderr"
        },
        {
          "output_type": "stream",
          "text": [
            "Epoch:    0, Train loss =  218.827\n",
            "Epoch:   50, Train loss =  333.548\n",
            "Epoch:  100, Train loss =   73.062\n",
            "Epoch:  150, Train loss =   91.845\n",
            "Epoch:  200, Train loss =  448.712\n"
          ],
          "name": "stdout"
        },
        {
          "output_type": "stream",
          "text": [
            " /usr/local/lib/python3.7/dist-packages/opacus/privacy_engine.py:646: UserWarning:A ``sample_rate`` has been provided.Thus, the provided ``batch_size``and ``sample_size`` will be ignored.\n",
            " /usr/local/lib/python3.7/dist-packages/opacus/privacy_engine.py:230: UserWarning:Secure RNG turned off. This is perfectly fine for experimentation as it allows for much faster training performance, but remember to turn it on and retrain one last time before production with ``secure_rng`` turned on.\n",
            " /usr/local/lib/python3.7/dist-packages/torch/nn/modules/module.py:974: UserWarning:Using a non-full backward hook when the forward contains multiple autograd Nodes is deprecated and will be removed in future versions. This hook will be missing some grad_input. Please use register_full_backward_hook to get the documented behavior.\n"
          ],
          "name": "stderr"
        },
        {
          "output_type": "stream",
          "text": [
            "Epoch:    0, Train loss =  153.697\n",
            "Epoch:   50, Train loss =  141.025\n",
            "Epoch:  100, Train loss =   72.338\n",
            "Epoch:  150, Train loss =   44.349\n",
            "Epoch:  200, Train loss =   60.680\n"
          ],
          "name": "stdout"
        },
        {
          "output_type": "stream",
          "text": [
            " /usr/local/lib/python3.7/dist-packages/opacus/privacy_engine.py:646: UserWarning:A ``sample_rate`` has been provided.Thus, the provided ``batch_size``and ``sample_size`` will be ignored.\n",
            " /usr/local/lib/python3.7/dist-packages/opacus/privacy_engine.py:230: UserWarning:Secure RNG turned off. This is perfectly fine for experimentation as it allows for much faster training performance, but remember to turn it on and retrain one last time before production with ``secure_rng`` turned on.\n",
            " /usr/local/lib/python3.7/dist-packages/torch/nn/modules/module.py:974: UserWarning:Using a non-full backward hook when the forward contains multiple autograd Nodes is deprecated and will be removed in future versions. This hook will be missing some grad_input. Please use register_full_backward_hook to get the documented behavior.\n"
          ],
          "name": "stderr"
        },
        {
          "output_type": "stream",
          "text": [
            "Epoch:    0, Train loss =  148.721\n",
            "Epoch:   50, Train loss =  294.100\n",
            "Epoch:  100, Train loss =  430.687\n",
            "Epoch:  150, Train loss =   64.078\n",
            "Epoch:  200, Train loss =  260.575\n"
          ],
          "name": "stdout"
        },
        {
          "output_type": "stream",
          "text": [
            " /usr/local/lib/python3.7/dist-packages/opacus/privacy_engine.py:646: UserWarning:A ``sample_rate`` has been provided.Thus, the provided ``batch_size``and ``sample_size`` will be ignored.\n",
            " /usr/local/lib/python3.7/dist-packages/opacus/privacy_engine.py:230: UserWarning:Secure RNG turned off. This is perfectly fine for experimentation as it allows for much faster training performance, but remember to turn it on and retrain one last time before production with ``secure_rng`` turned on.\n",
            " /usr/local/lib/python3.7/dist-packages/torch/nn/modules/module.py:974: UserWarning:Using a non-full backward hook when the forward contains multiple autograd Nodes is deprecated and will be removed in future versions. This hook will be missing some grad_input. Please use register_full_backward_hook to get the documented behavior.\n"
          ],
          "name": "stderr"
        },
        {
          "output_type": "stream",
          "text": [
            "Epoch:    0, Train loss =  167.848\n",
            "Epoch:   50, Train loss =   25.805\n",
            "Epoch:  100, Train loss =  -44.737\n",
            "Epoch:  150, Train loss =  162.412\n",
            "Epoch:  200, Train loss =   13.456\n"
          ],
          "name": "stdout"
        },
        {
          "output_type": "stream",
          "text": [
            " /usr/local/lib/python3.7/dist-packages/opacus/privacy_engine.py:646: UserWarning:A ``sample_rate`` has been provided.Thus, the provided ``batch_size``and ``sample_size`` will be ignored.\n",
            " /usr/local/lib/python3.7/dist-packages/opacus/privacy_engine.py:230: UserWarning:Secure RNG turned off. This is perfectly fine for experimentation as it allows for much faster training performance, but remember to turn it on and retrain one last time before production with ``secure_rng`` turned on.\n",
            " /usr/local/lib/python3.7/dist-packages/torch/nn/modules/module.py:974: UserWarning:Using a non-full backward hook when the forward contains multiple autograd Nodes is deprecated and will be removed in future versions. This hook will be missing some grad_input. Please use register_full_backward_hook to get the documented behavior.\n"
          ],
          "name": "stderr"
        },
        {
          "output_type": "stream",
          "text": [
            "Epoch:    0, Train loss =  156.826\n",
            "Epoch:   50, Train loss =  115.051\n",
            "Epoch:  100, Train loss =  193.592\n",
            "Epoch:  150, Train loss =  105.535\n",
            "Epoch:  200, Train loss =   57.134\n"
          ],
          "name": "stdout"
        },
        {
          "output_type": "stream",
          "text": [
            " /usr/local/lib/python3.7/dist-packages/opacus/privacy_engine.py:646: UserWarning:A ``sample_rate`` has been provided.Thus, the provided ``batch_size``and ``sample_size`` will be ignored.\n",
            " /usr/local/lib/python3.7/dist-packages/opacus/privacy_engine.py:230: UserWarning:Secure RNG turned off. This is perfectly fine for experimentation as it allows for much faster training performance, but remember to turn it on and retrain one last time before production with ``secure_rng`` turned on.\n",
            " /usr/local/lib/python3.7/dist-packages/torch/nn/modules/module.py:974: UserWarning:Using a non-full backward hook when the forward contains multiple autograd Nodes is deprecated and will be removed in future versions. This hook will be missing some grad_input. Please use register_full_backward_hook to get the documented behavior.\n"
          ],
          "name": "stderr"
        },
        {
          "output_type": "stream",
          "text": [
            "Epoch:    0, Train loss =  120.745\n",
            "Epoch:   50, Train loss =  -28.480\n",
            "Epoch:  100, Train loss =  267.719\n",
            "Epoch:  150, Train loss =   67.663\n",
            "Epoch:  200, Train loss =   83.294\n"
          ],
          "name": "stdout"
        },
        {
          "output_type": "stream",
          "text": [
            " /usr/local/lib/python3.7/dist-packages/opacus/privacy_engine.py:646: UserWarning:A ``sample_rate`` has been provided.Thus, the provided ``batch_size``and ``sample_size`` will be ignored.\n",
            " /usr/local/lib/python3.7/dist-packages/opacus/privacy_engine.py:230: UserWarning:Secure RNG turned off. This is perfectly fine for experimentation as it allows for much faster training performance, but remember to turn it on and retrain one last time before production with ``secure_rng`` turned on.\n",
            " /usr/local/lib/python3.7/dist-packages/torch/nn/modules/module.py:974: UserWarning:Using a non-full backward hook when the forward contains multiple autograd Nodes is deprecated and will be removed in future versions. This hook will be missing some grad_input. Please use register_full_backward_hook to get the documented behavior.\n"
          ],
          "name": "stderr"
        },
        {
          "output_type": "stream",
          "text": [
            "Epoch:    0, Train loss =  117.330\n",
            "Epoch:   50, Train loss =   85.282\n",
            "Epoch:  100, Train loss =   26.045\n",
            "Epoch:  150, Train loss =  216.380\n",
            "Epoch:  200, Train loss =   81.584\n"
          ],
          "name": "stdout"
        },
        {
          "output_type": "stream",
          "text": [
            " /usr/local/lib/python3.7/dist-packages/opacus/privacy_engine.py:646: UserWarning:A ``sample_rate`` has been provided.Thus, the provided ``batch_size``and ``sample_size`` will be ignored.\n",
            " /usr/local/lib/python3.7/dist-packages/opacus/privacy_engine.py:230: UserWarning:Secure RNG turned off. This is perfectly fine for experimentation as it allows for much faster training performance, but remember to turn it on and retrain one last time before production with ``secure_rng`` turned on.\n",
            " /usr/local/lib/python3.7/dist-packages/torch/nn/modules/module.py:974: UserWarning:Using a non-full backward hook when the forward contains multiple autograd Nodes is deprecated and will be removed in future versions. This hook will be missing some grad_input. Please use register_full_backward_hook to get the documented behavior.\n"
          ],
          "name": "stderr"
        },
        {
          "output_type": "stream",
          "text": [
            "Epoch:    0, Train loss =  100.169\n",
            "Epoch:   50, Train loss =  152.870\n",
            "Epoch:  100, Train loss =   77.591\n",
            "Epoch:  150, Train loss =  170.030\n",
            "Epoch:  200, Train loss =  165.796\n"
          ],
          "name": "stdout"
        },
        {
          "output_type": "stream",
          "text": [
            " /usr/local/lib/python3.7/dist-packages/opacus/privacy_engine.py:646: UserWarning:A ``sample_rate`` has been provided.Thus, the provided ``batch_size``and ``sample_size`` will be ignored.\n",
            " /usr/local/lib/python3.7/dist-packages/opacus/privacy_engine.py:230: UserWarning:Secure RNG turned off. This is perfectly fine for experimentation as it allows for much faster training performance, but remember to turn it on and retrain one last time before production with ``secure_rng`` turned on.\n",
            " /usr/local/lib/python3.7/dist-packages/torch/nn/modules/module.py:974: UserWarning:Using a non-full backward hook when the forward contains multiple autograd Nodes is deprecated and will be removed in future versions. This hook will be missing some grad_input. Please use register_full_backward_hook to get the documented behavior.\n"
          ],
          "name": "stderr"
        },
        {
          "output_type": "stream",
          "text": [
            "Epoch:    0, Train loss =   98.186\n",
            "Epoch:   50, Train loss =  176.815\n",
            "Epoch:  100, Train loss =   22.511\n",
            "Epoch:  150, Train loss =  533.579\n",
            "Epoch:  200, Train loss =  -22.970\n"
          ],
          "name": "stdout"
        },
        {
          "output_type": "stream",
          "text": [
            " /usr/local/lib/python3.7/dist-packages/opacus/privacy_engine.py:646: UserWarning:A ``sample_rate`` has been provided.Thus, the provided ``batch_size``and ``sample_size`` will be ignored.\n",
            " /usr/local/lib/python3.7/dist-packages/opacus/privacy_engine.py:230: UserWarning:Secure RNG turned off. This is perfectly fine for experimentation as it allows for much faster training performance, but remember to turn it on and retrain one last time before production with ``secure_rng`` turned on.\n",
            " /usr/local/lib/python3.7/dist-packages/torch/nn/modules/module.py:974: UserWarning:Using a non-full backward hook when the forward contains multiple autograd Nodes is deprecated and will be removed in future versions. This hook will be missing some grad_input. Please use register_full_backward_hook to get the documented behavior.\n"
          ],
          "name": "stderr"
        },
        {
          "output_type": "stream",
          "text": [
            "Epoch:    0, Train loss =  105.150\n",
            "Epoch:   50, Train loss =   85.702\n",
            "Epoch:  100, Train loss =  107.630\n",
            "Epoch:  150, Train loss =   45.773\n",
            "Epoch:  200, Train loss =   87.892\n"
          ],
          "name": "stdout"
        },
        {
          "output_type": "stream",
          "text": [
            " /usr/local/lib/python3.7/dist-packages/opacus/privacy_engine.py:646: UserWarning:A ``sample_rate`` has been provided.Thus, the provided ``batch_size``and ``sample_size`` will be ignored.\n",
            " /usr/local/lib/python3.7/dist-packages/opacus/privacy_engine.py:230: UserWarning:Secure RNG turned off. This is perfectly fine for experimentation as it allows for much faster training performance, but remember to turn it on and retrain one last time before production with ``secure_rng`` turned on.\n",
            " /usr/local/lib/python3.7/dist-packages/torch/nn/modules/module.py:974: UserWarning:Using a non-full backward hook when the forward contains multiple autograd Nodes is deprecated and will be removed in future versions. This hook will be missing some grad_input. Please use register_full_backward_hook to get the documented behavior.\n"
          ],
          "name": "stderr"
        },
        {
          "output_type": "stream",
          "text": [
            "Epoch:    0, Train loss =  100.925\n",
            "Epoch:   50, Train loss =  149.584\n",
            "Epoch:  100, Train loss =   55.350\n",
            "Epoch:  150, Train loss =  127.717\n",
            "Epoch:  200, Train loss =   49.019\n"
          ],
          "name": "stdout"
        },
        {
          "output_type": "stream",
          "text": [
            " /usr/local/lib/python3.7/dist-packages/opacus/privacy_engine.py:646: UserWarning:A ``sample_rate`` has been provided.Thus, the provided ``batch_size``and ``sample_size`` will be ignored.\n",
            " /usr/local/lib/python3.7/dist-packages/opacus/privacy_engine.py:230: UserWarning:Secure RNG turned off. This is perfectly fine for experimentation as it allows for much faster training performance, but remember to turn it on and retrain one last time before production with ``secure_rng`` turned on.\n",
            " /usr/local/lib/python3.7/dist-packages/torch/nn/modules/module.py:974: UserWarning:Using a non-full backward hook when the forward contains multiple autograd Nodes is deprecated and will be removed in future versions. This hook will be missing some grad_input. Please use register_full_backward_hook to get the documented behavior.\n"
          ],
          "name": "stderr"
        },
        {
          "output_type": "stream",
          "text": [
            "Epoch:    0, Train loss =   97.045\n",
            "Epoch:   50, Train loss =  502.182\n",
            "Epoch:  100, Train loss =   49.919\n",
            "Epoch:  150, Train loss =  160.623\n",
            "Epoch:  200, Train loss =   93.277\n"
          ],
          "name": "stdout"
        },
        {
          "output_type": "stream",
          "text": [
            " /usr/local/lib/python3.7/dist-packages/opacus/privacy_engine.py:646: UserWarning:A ``sample_rate`` has been provided.Thus, the provided ``batch_size``and ``sample_size`` will be ignored.\n",
            " /usr/local/lib/python3.7/dist-packages/opacus/privacy_engine.py:230: UserWarning:Secure RNG turned off. This is perfectly fine for experimentation as it allows for much faster training performance, but remember to turn it on and retrain one last time before production with ``secure_rng`` turned on.\n",
            " /usr/local/lib/python3.7/dist-packages/torch/nn/modules/module.py:974: UserWarning:Using a non-full backward hook when the forward contains multiple autograd Nodes is deprecated and will be removed in future versions. This hook will be missing some grad_input. Please use register_full_backward_hook to get the documented behavior.\n"
          ],
          "name": "stderr"
        },
        {
          "output_type": "stream",
          "text": [
            "Epoch:    0, Train loss =  109.137\n",
            "Epoch:   50, Train loss =  -49.926\n",
            "Epoch:  100, Train loss =   52.022\n",
            "Epoch:  150, Train loss =   92.863\n",
            "Epoch:  200, Train loss =   -5.414\n"
          ],
          "name": "stdout"
        },
        {
          "output_type": "stream",
          "text": [
            " /usr/local/lib/python3.7/dist-packages/opacus/privacy_engine.py:646: UserWarning:A ``sample_rate`` has been provided.Thus, the provided ``batch_size``and ``sample_size`` will be ignored.\n",
            " /usr/local/lib/python3.7/dist-packages/opacus/privacy_engine.py:230: UserWarning:Secure RNG turned off. This is perfectly fine for experimentation as it allows for much faster training performance, but remember to turn it on and retrain one last time before production with ``secure_rng`` turned on.\n",
            " /usr/local/lib/python3.7/dist-packages/torch/nn/modules/module.py:974: UserWarning:Using a non-full backward hook when the forward contains multiple autograd Nodes is deprecated and will be removed in future versions. This hook will be missing some grad_input. Please use register_full_backward_hook to get the documented behavior.\n"
          ],
          "name": "stderr"
        },
        {
          "output_type": "stream",
          "text": [
            "Epoch:    0, Train loss =  111.889\n",
            "Epoch:   50, Train loss =   37.983\n",
            "Epoch:  100, Train loss =  103.199\n",
            "Epoch:  150, Train loss =  128.565\n",
            "Epoch:  200, Train loss =   88.555\n"
          ],
          "name": "stdout"
        },
        {
          "output_type": "stream",
          "text": [
            " /usr/local/lib/python3.7/dist-packages/opacus/privacy_engine.py:646: UserWarning:A ``sample_rate`` has been provided.Thus, the provided ``batch_size``and ``sample_size`` will be ignored.\n",
            " /usr/local/lib/python3.7/dist-packages/opacus/privacy_engine.py:230: UserWarning:Secure RNG turned off. This is perfectly fine for experimentation as it allows for much faster training performance, but remember to turn it on and retrain one last time before production with ``secure_rng`` turned on.\n",
            " /usr/local/lib/python3.7/dist-packages/torch/nn/modules/module.py:974: UserWarning:Using a non-full backward hook when the forward contains multiple autograd Nodes is deprecated and will be removed in future versions. This hook will be missing some grad_input. Please use register_full_backward_hook to get the documented behavior.\n"
          ],
          "name": "stderr"
        },
        {
          "output_type": "stream",
          "text": [
            "Epoch:    0, Train loss =   79.735\n",
            "Epoch:   50, Train loss =  187.384\n",
            "Epoch:  100, Train loss =  158.093\n",
            "Epoch:  150, Train loss =  160.939\n",
            "Epoch:  200, Train loss =  578.069\n"
          ],
          "name": "stdout"
        },
        {
          "output_type": "stream",
          "text": [
            " /usr/local/lib/python3.7/dist-packages/opacus/privacy_engine.py:646: UserWarning:A ``sample_rate`` has been provided.Thus, the provided ``batch_size``and ``sample_size`` will be ignored.\n",
            " /usr/local/lib/python3.7/dist-packages/opacus/privacy_engine.py:230: UserWarning:Secure RNG turned off. This is perfectly fine for experimentation as it allows for much faster training performance, but remember to turn it on and retrain one last time before production with ``secure_rng`` turned on.\n",
            " /usr/local/lib/python3.7/dist-packages/torch/nn/modules/module.py:974: UserWarning:Using a non-full backward hook when the forward contains multiple autograd Nodes is deprecated and will be removed in future versions. This hook will be missing some grad_input. Please use register_full_backward_hook to get the documented behavior.\n"
          ],
          "name": "stderr"
        },
        {
          "output_type": "stream",
          "text": [
            "Epoch:    0, Train loss =  103.033\n",
            "Epoch:   50, Train loss =   23.315\n",
            "Epoch:  100, Train loss =   17.348\n",
            "Epoch:  150, Train loss =   11.662\n",
            "Epoch:  200, Train loss =  188.187\n",
            "[0.7098755736131469, 0.6106938775519146, 0.45725374406675473, 0.503049929223701, 0.8613716491948362, 0.5832311617042192, 0.6746940409702975, 0.4123022810302746, 0.5080119718179843, 0.35774874778982074, 0.48818289042023594, 0.4490981458731713, 0.5138526950964792, 0.5795283605983869, 0.6866188610684733, 0.6760814049884148, 0.445814275568945, 0.4881252197008813, 0.7897166294559346, 0.491894318689955] 0.5109323334572318\n"
          ],
          "name": "stdout"
        }
      ]
    }
  ]
}