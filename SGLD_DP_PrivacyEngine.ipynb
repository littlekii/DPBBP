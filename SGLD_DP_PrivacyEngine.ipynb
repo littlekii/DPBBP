{
  "nbformat": 4,
  "nbformat_minor": 0,
  "metadata": {
    "accelerator": "GPU",
    "colab": {
      "name": "SGLD_DP_PrivacyEngine.ipynb",
      "provenance": [],
      "collapsed_sections": [],
      "toc_visible": true,
      "include_colab_link": true
    },
    "kernelspec": {
      "display_name": "Python 3",
      "name": "python3"
    }
  },
  "cells": [
    {
      "cell_type": "markdown",
      "metadata": {
        "id": "view-in-github",
        "colab_type": "text"
      },
      "source": [
        "<a href=\"https://colab.research.google.com/github/littlekii/DPBBP/blob/main/SGLD_DP_PrivacyEngine.ipynb\" target=\"_parent\"><img src=\"https://colab.research.google.com/assets/colab-badge.svg\" alt=\"Open In Colab\"/></a>"
      ]
    },
    {
      "cell_type": "code",
      "metadata": {
        "colab": {
          "base_uri": "https://localhost:8080/"
        },
        "id": "MYz1GdMWxUOA",
        "outputId": "7f5c06c5-447f-407e-cf3b-850bfa0fd721"
      },
      "source": [
        "!git clone https://github.com/JavierAntoran/Bayesian-Neural-Networks.git\n",
        "!git clone https://github.com/knamdar/data.git"
      ],
      "execution_count": null,
      "outputs": [
        {
          "output_type": "stream",
          "text": [
            "Cloning into 'Bayesian-Neural-Networks'...\n",
            "remote: Enumerating objects: 369, done.\u001b[K\n",
            "remote: Total 369 (delta 0), reused 0 (delta 0), pack-reused 369\u001b[K\n",
            "Receiving objects: 100% (369/369), 15.98 MiB | 5.03 MiB/s, done.\n",
            "Resolving deltas: 100% (191/191), done.\n",
            "Cloning into 'data'...\n",
            "remote: Enumerating objects: 16, done.\u001b[K\n",
            "remote: Counting objects: 100% (16/16), done.\u001b[K\n",
            "remote: Compressing objects: 100% (14/14), done.\u001b[K\n",
            "remote: Total 16 (delta 2), reused 16 (delta 2), pack-reused 0\u001b[K\n",
            "Unpacking objects: 100% (16/16), done.\n"
          ],
          "name": "stdout"
        }
      ]
    },
    {
      "cell_type": "code",
      "metadata": {
        "id": "VvU02KZBy0eg",
        "colab": {
          "base_uri": "https://localhost:8080/"
        },
        "outputId": "9e5e9ee5-8830-4813-8aff-dc8b4ecf52da"
      },
      "source": [
        "!pip install opacus==0.13"
      ],
      "execution_count": null,
      "outputs": [
        {
          "output_type": "stream",
          "text": [
            "Collecting opacus==0.13\n",
            "\u001b[?25l  Downloading https://files.pythonhosted.org/packages/68/c4/36f07b54413e607f07858d5b668379991948f0de9979185a895fee9c2208/opacus-0.13.0-py3-none-any.whl (102kB)\n",
            "\u001b[K     |████████████████████████████████| 102kB 4.3MB/s \n",
            "\u001b[?25hCollecting requests>=2.25.1\n",
            "\u001b[?25l  Downloading https://files.pythonhosted.org/packages/29/c1/24814557f1d22c56d50280771a17307e6bf87b70727d975fd6b2ce6b014a/requests-2.25.1-py2.py3-none-any.whl (61kB)\n",
            "\u001b[K     |████████████████████████████████| 61kB 9.5MB/s \n",
            "\u001b[?25hRequirement already satisfied: tqdm>=4.40 in /usr/local/lib/python3.7/dist-packages (from opacus==0.13) (4.41.1)\n",
            "Requirement already satisfied: torch>=1.3 in /usr/local/lib/python3.7/dist-packages (from opacus==0.13) (1.9.0+cu102)\n",
            "Requirement already satisfied: torchvision>=0.9 in /usr/local/lib/python3.7/dist-packages (from opacus==0.13) (0.10.0+cu102)\n",
            "Requirement already satisfied: numpy>=1.15 in /usr/local/lib/python3.7/dist-packages (from opacus==0.13) (1.19.5)\n",
            "Requirement already satisfied: scipy>=1.2 in /usr/local/lib/python3.7/dist-packages (from opacus==0.13) (1.4.1)\n",
            "Requirement already satisfied: idna<3,>=2.5 in /usr/local/lib/python3.7/dist-packages (from requests>=2.25.1->opacus==0.13) (2.10)\n",
            "Requirement already satisfied: certifi>=2017.4.17 in /usr/local/lib/python3.7/dist-packages (from requests>=2.25.1->opacus==0.13) (2021.5.30)\n",
            "Requirement already satisfied: chardet<5,>=3.0.2 in /usr/local/lib/python3.7/dist-packages (from requests>=2.25.1->opacus==0.13) (3.0.4)\n",
            "Requirement already satisfied: urllib3<1.27,>=1.21.1 in /usr/local/lib/python3.7/dist-packages (from requests>=2.25.1->opacus==0.13) (1.24.3)\n",
            "Requirement already satisfied: typing-extensions in /usr/local/lib/python3.7/dist-packages (from torch>=1.3->opacus==0.13) (3.7.4.3)\n",
            "Requirement already satisfied: pillow>=5.3.0 in /usr/local/lib/python3.7/dist-packages (from torchvision>=0.9->opacus==0.13) (7.1.2)\n",
            "\u001b[31mERROR: google-colab 1.0.0 has requirement requests~=2.23.0, but you'll have requests 2.25.1 which is incompatible.\u001b[0m\n",
            "\u001b[31mERROR: datascience 0.10.6 has requirement folium==0.2.1, but you'll have folium 0.8.3 which is incompatible.\u001b[0m\n",
            "Installing collected packages: requests, opacus\n",
            "  Found existing installation: requests 2.23.0\n",
            "    Uninstalling requests-2.23.0:\n",
            "      Successfully uninstalled requests-2.23.0\n",
            "Successfully installed opacus-0.13.0 requests-2.25.1\n"
          ],
          "name": "stdout"
        }
      ]
    },
    {
      "cell_type": "markdown",
      "metadata": {
        "id": "lWemUlvRxSxU"
      },
      "source": [
        "#### Base imports"
      ]
    },
    {
      "cell_type": "code",
      "metadata": {
        "id": "W5xiHDAMxSxb"
      },
      "source": [
        "%matplotlib inline\n",
        "from __future__ import print_function, division\n",
        "import numpy as np\n",
        "import copy\n",
        "import matplotlib.pyplot as plt\n",
        "import seaborn as sns\n",
        "sns.set()\n",
        "\n",
        "import torch\n",
        "from torch import nn, optim\n",
        "from torch.autograd import Variable\n",
        "import torch.utils.data as data\n",
        "from torch.optim import Optimizer\n",
        "from opacus import PrivacyEngine\n",
        "\n",
        "device = torch.device(\"cuda\" if torch.cuda.is_available() else \"cpu\")\n",
        "\n",
        "import collections\n",
        "import h5py, sys\n",
        "import gzip\n",
        "import os\n",
        "import math\n",
        "import pickle"
      ],
      "execution_count": null,
      "outputs": []
    },
    {
      "cell_type": "markdown",
      "metadata": {
        "id": "Y99_HtZKxSxd"
      },
      "source": [
        "## Some utility functions"
      ]
    },
    {
      "cell_type": "code",
      "metadata": {
        "id": "lSCd9YcexSxd"
      },
      "source": [
        "def mkdir(paths):\n",
        "    if not isinstance(paths, (list, tuple)):\n",
        "        paths = [paths]\n",
        "    for path in paths:\n",
        "        if not os.path.isdir(path):\n",
        "            os.makedirs(path)\n",
        "\n",
        "\n",
        "suffixes = ['B', 'KB', 'MB', 'GB', 'TB', 'PB']\n",
        "def humansize(nbytes):\n",
        "    i = 0\n",
        "    while nbytes >= 1024 and i < len(suffixes)-1:\n",
        "        nbytes /= 1024.\n",
        "        i += 1\n",
        "    f = ('%.2f' % nbytes)\n",
        "    return '%s%s' % (f, suffixes[i])\n",
        "\n",
        "def to_variable(var=(), cuda=True, volatile=False):\n",
        "    out = []\n",
        "    for v in var:\n",
        "        if isinstance(v, np.ndarray):\n",
        "            v = torch.from_numpy(v).type(torch.FloatTensor)\n",
        "\n",
        "        if not v.is_cuda and cuda:\n",
        "            v = v.cuda()\n",
        "\n",
        "        if not isinstance(v, Variable):\n",
        "            v = Variable(v, volatile=volatile)\n",
        "\n",
        "        out.append(v)\n",
        "    return out\n",
        "  \n",
        "def cprint(color, text, **kwargs):\n",
        "    if color[0] == '*':\n",
        "        pre_code = '1;'\n",
        "        color = color[1:]\n",
        "    else:\n",
        "        pre_code = ''\n",
        "    code = {\n",
        "        'a': '30',\n",
        "        'r': '31',\n",
        "        'g': '32',\n",
        "        'y': '33',\n",
        "        'b': '34',\n",
        "        'p': '35',\n",
        "        'c': '36',\n",
        "        'w': '37'\n",
        "    }\n",
        "    print(\"\\x1b[%s%sm%s\\x1b[0m\" % (pre_code, code[color], text), **kwargs)\n",
        "    sys.stdout.flush()\n",
        "\n"
      ],
      "execution_count": null,
      "outputs": []
    },
    {
      "cell_type": "markdown",
      "metadata": {
        "id": "JVX03SMqxSxh"
      },
      "source": [
        "## Base network wrapper"
      ]
    },
    {
      "cell_type": "code",
      "metadata": {
        "id": "lfam0Wp8xSxi"
      },
      "source": [
        "import torch.nn.functional as F\n",
        "class BaseNet(object):\n",
        "    def __init__(self):\n",
        "        cprint('c', '\\nNet:')\n",
        "\n",
        "    def get_nb_parameters(self):\n",
        "        return np.sum(p.numel() for p in self.model.parameters())\n",
        "\n",
        "    def set_mode_train(self, train=True):\n",
        "        if train:\n",
        "            self.model.train()\n",
        "        else:\n",
        "            self.model.eval()\n",
        "\n",
        "    def update_lr(self, epoch, gamma=0.99):\n",
        "        self.epoch += 1\n",
        "        if self.schedule is not None:\n",
        "            if len(self.schedule) == 0 or epoch in self.schedule:\n",
        "                self.lr *= gamma\n",
        "                print('learning rate: %f  (%d)\\n' % self.lr, epoch)\n",
        "                for param_group in self.optimizer.param_groups:\n",
        "                    param_group['lr'] = self.lr\n",
        "\n",
        "    def save(self, filename):\n",
        "        cprint('c', 'Writting %s\\n' % filename)\n",
        "        torch.save({\n",
        "            'epoch': self.epoch,\n",
        "            'lr': self.lr,\n",
        "            'model': self.model,\n",
        "            'optimizer': self.optimizer}, filename)\n",
        "\n",
        "    def load(self, filename):\n",
        "        cprint('c', 'Reading %s\\n' % filename)\n",
        "        state_dict = torch.load(filename)\n",
        "        self.epoch = state_dict['epoch']\n",
        "        self.lr = state_dict['lr']\n",
        "        self.model = state_dict['model']\n",
        "        self.optimizer = state_dict['optimizer']\n",
        "        print('  restoring epoch: %d, lr: %f' % (self.epoch, self.lr))\n",
        "        return self.epoch"
      ],
      "execution_count": null,
      "outputs": []
    },
    {
      "cell_type": "markdown",
      "metadata": {
        "id": "aFdrPqN-xSxj"
      },
      "source": [
        "## Bayesian Linear 2 Layers MNIST"
      ]
    },
    {
      "cell_type": "code",
      "metadata": {
        "id": "3yJOpqL0xSxj"
      },
      "source": [
        "class Linear_2L(nn.Module):\n",
        "    def __init__(self, input_dim, output_dim):\n",
        "        super(Linear_2L, self).__init__()\n",
        "        \n",
        "        n_hid = 1200\n",
        "        \n",
        "        self.input_dim = input_dim\n",
        "        self.output_dim = output_dim\n",
        "        \n",
        "        self.fc1 = nn.Linear(input_dim, n_hid)\n",
        "        self.fc2 = nn.Linear(n_hid, n_hid)\n",
        "        self.fc3 = nn.Linear(n_hid, output_dim)\n",
        "        \n",
        "        # choose your non linearity\n",
        "        #self.act = nn.Tanh()\n",
        "        #self.act = nn.Sigmoid()\n",
        "        self.act = nn.ReLU(inplace=True)\n",
        "        #self.act = nn.ELU(inplace=True)\n",
        "        #self.act = nn.SELU(inplace=True)\n",
        "\n",
        "    def forward(self, x):\n",
        "\n",
        "        x = x.view(-1, self.input_dim) # view(batch_size, input_dim)\n",
        "        # -----------------\n",
        "        x = self.fc1(x)\n",
        "        # -----------------\n",
        "        x = self.act(x)\n",
        "        # -----------------\n",
        "        x = self.fc2(x)\n",
        "        # -----------------\n",
        "        x = self.act(x)\n",
        "        # -----------------\n",
        "        y = self.fc3(x)\n",
        "\n",
        "        return y\n",
        "    \n",
        "    \n",
        "        "
      ],
      "execution_count": null,
      "outputs": []
    },
    {
      "cell_type": "markdown",
      "metadata": {
        "id": "swRDeyBmcu08"
      },
      "source": [
        "## CNN model for DP DNN MNIST (state of art) "
      ]
    },
    {
      "cell_type": "code",
      "metadata": {
        "id": "YZF9m1YCxSxk"
      },
      "source": [
        "class SampleConvNet_MNIST(nn.Module):\n",
        "    def __init__(self):\n",
        "        super().__init__()\n",
        "        self.conv1 = nn.Conv2d(1, 16, 8, 2, padding=3)\n",
        "        self.conv2 = nn.Conv2d(16, 32, 4, 2)\n",
        "        self.fc1 = nn.Linear(32 * 4 * 4, 32)\n",
        "        self.fc2 = nn.Linear(32, 10)\n",
        "\n",
        "    def forward(self, x):\n",
        "        # x of shape [B, 1, 28, 28]\n",
        "        x = F.relu(self.conv1(x))  # -> [B, 16, 14, 14]\n",
        "        x = F.max_pool2d(x, 2, 1)  # -> [B, 16, 13, 13]\n",
        "        x = F.relu(self.conv2(x))  # -> [B, 32, 5, 5]\n",
        "        x = F.max_pool2d(x, 2, 1)  # -> [B, 32, 4, 4]\n",
        "        x = x.view(-1, 32 * 4 * 4)  # -> [B, 512]\n",
        "        x = F.relu(self.fc1(x))  # -> [B, 32]\n",
        "        x = self.fc2(x)  # -> [B, 10]\n",
        "        return x\n",
        "\n",
        "    def name(self):\n",
        "        return \"SampleConvNet\""
      ],
      "execution_count": null,
      "outputs": []
    },
    {
      "cell_type": "markdown",
      "metadata": {
        "id": "KfsNtEaUxSxl"
      },
      "source": [
        "# Custom SGLD optimiser"
      ]
    },
    {
      "cell_type": "code",
      "metadata": {
        "id": "zdZWRc54xSxl"
      },
      "source": [
        "from torch.optim.optimizer import Optimizer, required\n",
        "class SGLD(Optimizer):\n",
        "    \"\"\"\n",
        "    SGLD optimiser based on pytorch's SGD. \n",
        "    Note that the weight decay is specified in terms of the gaussian prior sigma\n",
        "    \"\"\"\n",
        "\n",
        "    def __init__(self, params, lr=required, norm_sigma=0,laplace_b=0, addnoise=True):\n",
        "        \n",
        "        if lr is not required and lr < 0.0:\n",
        "            raise ValueError(\"Invalid learning rate: {}\".format(lr))\n",
        "        \n",
        "        defaults = dict(lr=lr, norm_sigma=norm_sigma, laplace_b=laplace_b,addnoise=addnoise)\n",
        "        \n",
        "        super(SGLD, self).__init__(params, defaults)\n",
        "\n",
        "    def step(self,closure=0):\n",
        "        \"\"\"\n",
        "        Performs a single optimization step.\n",
        "        \"\"\"\n",
        "        loss = None\n",
        "        \n",
        "        for group in self.param_groups:\n",
        "\n",
        "            norm_sigma = group['norm_sigma']\n",
        "            laplace_b=group['laplace_b']\n",
        "\n",
        "            for p in group['params']:\n",
        "                if p.grad is None:\n",
        "                    continue\n",
        "                d_p = p.grad.data\n",
        "                if norm_sigma != 0:\n",
        "                    p.data.add_(-group['lr']/norm_sigma**2, p.data)\n",
        "                if laplace_b != 0:\n",
        "                    p.data.add_(-group['lr']/laplace_b,torch.sign(p.data))\n",
        "\n",
        "                if group['addnoise']:  \n",
        "                    langevin_noise = p.data.new(p.data.size()).normal_(mean=0, std=1)/np.sqrt(group['lr'])\n",
        "                    p.data.add_(-group['lr'], d_p  + langevin_noise)\n",
        "                else:\n",
        "                    p.data.add_(-group['lr'], d_p )\n",
        "\n",
        "        return loss"
      ],
      "execution_count": null,
      "outputs": []
    },
    {
      "cell_type": "markdown",
      "metadata": {
        "id": "P9EWoFTaxSxm"
      },
      "source": [
        "# pSGLD optimiser\n"
      ]
    },
    {
      "cell_type": "code",
      "metadata": {
        "id": "VHtuVlUWxSxm"
      },
      "source": [
        "class pSGLD(Optimizer):\n",
        "    \"\"\"\n",
        "    RMSprop preconditioned SGLD using pytorch rmsprop implementation.\n",
        "    \"\"\"\n",
        "\n",
        "    def __init__(self, params, lr=required, norm_sigma=0,laplace_b=0, alpha=0.99, eps=1e-8, centered=False, addnoise=True):\n",
        "        \n",
        "        if lr is not required and lr < 0.0:\n",
        "            raise ValueError(\"Invalid learning rate: {}\".format(lr))\n",
        "        defaults = dict(lr=lr, norm_sigma=norm_sigma,laplace_b=laplace_b, alpha=alpha, eps=eps, centered=centered, addnoise=addnoise)\n",
        "        super(pSGLD, self).__init__(params, defaults)\n",
        "        \n",
        "    def __setstate__(self, state):\n",
        "        super(pSGLD, self).__setstate__(state)\n",
        "        for group in self.param_groups:\n",
        "            group.setdefault('centered', False)\n",
        "\n",
        "    def step(self,closure=0):\n",
        "        \"\"\"\n",
        "        Performs a single optimization step.\n",
        "        \"\"\"\n",
        "        loss = None\n",
        "\n",
        "        for group in self.param_groups:\n",
        "            norm_sigma = group['norm_sigma']\n",
        "            laplace_b=group['laplace_b']\n",
        "\n",
        "            for p in group['params']:\n",
        "                if p.grad is None:\n",
        "                    continue\n",
        "                d_p = p.grad.data\n",
        "\n",
        "\n",
        "\n",
        "                state = self.state[p]\n",
        "                \n",
        "                if len(state) == 0:\n",
        "                    state['step'] = 0\n",
        "                    state['square_avg'] = torch.zeros_like(p.data)\n",
        "                    if group['centered']:\n",
        "                        state['grad_avg'] = torch.zeros_like(p.data)\n",
        "                        \n",
        "                square_avg = state['square_avg']\n",
        "                alpha = group['alpha']\n",
        "                state['step'] += 1\n",
        "                \n",
        "                if norm_sigma != 0:\n",
        "                    p.data.add_(-group['lr']/norm_sigma**2, p.data)\n",
        "                if laplace_b != 0:\n",
        "                    p.data.add_(-group['lr']/laplace_b,torch.sign(p.data))\n",
        "\n",
        "                # sqavg x alpha + (1-alph) sqavg *(elemwise) sqavg\n",
        "                square_avg.mul_(alpha).addcmul_(1-alpha, d_p, d_p)\n",
        "                \n",
        "                if group['centered']:\n",
        "                    grad_avg = state['grad_avg']\n",
        "                    grad_avg.mul_(alpha).add_(1-alpha, d_p)\n",
        "                    avg = square_avg.cmul(-1, grad_avg, grad_avg).sqrt().add_(group['eps'])\n",
        "                else:\n",
        "                    avg = square_avg.sqrt().add_(group['eps'])\n",
        "                    \n",
        "#                 print(avg.shape)\n",
        "                if group['addnoise']:\n",
        "                    langevin_noise = p.data.new(p.data.size()).normal_(mean=0, std=1)/np.sqrt(group['lr'])\n",
        "                    p.data.add_(-group['lr'],\n",
        "                                0.5*d_p.div_(avg) + langevin_noise/torch.sqrt(avg))\n",
        "                    \n",
        "                else:\n",
        "                    p.data.addcdiv_(-group['lr'], 0.5*d_p, avg)\n",
        "\n",
        "\n",
        "        return loss"
      ],
      "execution_count": null,
      "outputs": []
    },
    {
      "cell_type": "markdown",
      "metadata": {
        "id": "Kp-ulJ9CxSxn"
      },
      "source": [
        "# Network wrapper "
      ]
    },
    {
      "cell_type": "code",
      "metadata": {
        "id": "H8b4qXzNxSxn"
      },
      "source": [
        "class Net_langevin(BaseNet):\n",
        "    eps = 1e-6\n",
        "\n",
        "    def __init__(self, lr=1e-3, cuda=True, classes=10, N_train=60000, norm_sigma=0,laplace_b=0,DP_or_Not=True,which_net=None,pSGLD_or_Not=False):\n",
        "        super(Net_langevin, self).__init__()\n",
        "        cprint('y', ' Creating Net!! ')\n",
        "        self.lr = lr\n",
        "        self.schedule = None  # [] #[50,200,400,600]\n",
        "        self.cuda = cuda\n",
        "        self.norm_sigma = norm_sigma\n",
        "        self.laplace_b=laplace_b\n",
        "        self.classes = classes\n",
        "        self.N_train = N_train\n",
        "\n",
        "        self.which_net=which_net\n",
        "        self.create_net()\n",
        "        self.pSGLD_or_Not=pSGLD_or_Not\n",
        "        self.create_opt()\n",
        "        self.epoch = 0\n",
        "        self.weight_set_samples = []\n",
        "\n",
        "        self.test=False\n",
        "        self.DP_or_Not=DP_or_Not\n",
        "\n",
        "    def create_net(self):\n",
        "        torch.manual_seed(42)\n",
        "        if self.cuda:\n",
        "            torch.cuda.manual_seed(42)\n",
        "\n",
        "        self.model = self.which_net\n",
        "        if self.cuda:\n",
        "            self.model.cuda()\n",
        "        print('    Total params: %.2fM' % (self.get_nb_parameters() / 1000000.0))\n",
        "    \n",
        "    def create_opt(self):\n",
        "        if self.pSGLD_or_Not:\n",
        "            self.optimizer = pSGLD(params=self.model.parameters(), lr=self.lr, norm_sigma=self.norm_sigma,laplace_b=self.laplace_b, addnoise=1-DP_or_Not)\n",
        "        else:\n",
        "            self.optimizer = SGLD(params=self.model.parameters(), lr=self.lr, norm_sigma=self.norm_sigma,laplace_b=self.laplace_b, addnoise=1-DP_or_Not)\n",
        "        if DP_or_Not:\n",
        "            privacy_engine = PrivacyEngine(\n",
        "                    self.model,\n",
        "                    sample_rate=batch_size/self.N_train,\n",
        "                    alphas=[1 + x / 10.0 for x in range(1, 100)] + list(range(12, 64)),\n",
        "                    noise_multiplier=batch_size/np.sqrt(self.lr)/self.N_train/clipping_norm,\n",
        "                    max_grad_norm=clipping_norm * 60000)\n",
        "            privacy_engine.attach(self.optimizer)\n",
        "\n",
        "    def fit(self, x, y):\n",
        "        x, y = x.to(device), y.long().to(device)\n",
        "\n",
        "        self.optimizer.zero_grad()\n",
        "\n",
        "        out = self.model(x)\n",
        "        loss = F.cross_entropy(out, y, reduction='mean') # We use mean because we treat as an estimation of whole dataset\n",
        "        loss = loss * self.N_train \n",
        "            \n",
        "        loss.backward()\n",
        "        self.optimizer.step()\n",
        "\n",
        "        # out: (batch_size, out_channels, out_caps_dims)\n",
        "        pred = out.data.max(dim=1, keepdim=False)[1]  # get the index of the max log-probability\n",
        "        err = pred.ne(y.data).sum()\n",
        "\n",
        "        return loss.data*x.shape[0]/self.N_train, err\n",
        "\n",
        "\n",
        "    def eval(self, x, y, train=False):\n",
        "        x, y = to_variable(var=(x, y.long()), cuda=self.cuda)\n",
        "\n",
        "        out = self.model(x)\n",
        "\n",
        "        loss = F.cross_entropy(out, y, reduction='sum')\n",
        "\n",
        "        probs = F.softmax(out, dim=1).data.cpu()\n",
        "\n",
        "        pred = out.data.max(dim=1, keepdim=False)[1]  # get the index of the max log-probability\n",
        "        err = pred.ne(y.data).sum()\n",
        "\n",
        "        return loss.data, err, probs\n",
        "    \n",
        "    def save_sampled_net(self, max_samples):\n",
        "        \n",
        "        if len(self.weight_set_samples) >= max_samples:\n",
        "            self.weight_set_samples.pop(0)\n",
        "            \n",
        "        self.weight_set_samples.append(copy.deepcopy(self.model.state_dict()))\n",
        "        \n",
        "        cprint('c', ' saving weight samples %d/%d' % (len(self.weight_set_samples), max_samples) )\n",
        "        \n",
        "        return None\n",
        "        \n",
        "    def sample_eval(self, x, y, Nsamples=0, logits=True, train=False):\n",
        "        if Nsamples == 0:\n",
        "            Nsamples = len(self.weight_set_samples)\n",
        "            \n",
        "        x, y = to_variable(var=(x, y.long()), cuda=self.cuda)\n",
        "        \n",
        "        out = x.data.new(Nsamples, x.shape[0], self.classes)\n",
        "        \n",
        "        # iterate over all saved weight configuration samples\n",
        "        for idx, weight_dict in enumerate(self.weight_set_samples):\n",
        "            if idx == Nsamples:\n",
        "                break\n",
        "            self.model.load_state_dict(weight_dict)\n",
        "            out[idx] = self.model(x)\n",
        "        \n",
        "        \n",
        "        if logits:\n",
        "            mean_out = out.mean(dim=0, keepdim=False)\n",
        "            loss = F.cross_entropy(mean_out, y, reduction='sum')\n",
        "            probs = F.softmax(mean_out, dim=1).data.cpu()\n",
        "            \n",
        "        else:\n",
        "            mean_out =  F.softmax(out, dim=2).mean(dim=0, keepdim=False)\n",
        "            probs = mean_out.data.cpu()\n",
        "            \n",
        "            log_mean_probs_out = torch.log(mean_out)\n",
        "            loss = F.nll_loss(log_mean_probs_out, y, reduction='sum')\n",
        "\n",
        "        pred = mean_out.data.max(dim=1, keepdim=False)[1]  # get the index of the max log-probability\n",
        "        err = pred.ne(y.data).sum()\n",
        "\n",
        "        return loss.data, err, probs\n",
        "    \n",
        "    def all_sample_eval(self, x, y, Nsamples):\n",
        "        if Nsamples == 0:\n",
        "            Nsamples = len(self.weight_set_samples)\n",
        "            \n",
        "        x, y = to_variable(var=(x, y.long()), cuda=self.cuda)\n",
        "        \n",
        "        out = x.data.new(Nsamples, x.shape[0], self.classes)\n",
        "        \n",
        "        # iterate over all saved weight configuration samples\n",
        "        for idx, weight_dict in enumerate(self.weight_set_samples):\n",
        "            if idx == Nsamples:\n",
        "                break\n",
        "            self.model.load_state_dict(weight_dict)\n",
        "            out[idx] = self.model(x)\n",
        "        \n",
        "        prob_out =  F.softmax(out, dim=2)\n",
        "        prob_out = prob_out.data\n",
        "\n",
        "        return prob_out\n",
        "    \n",
        "    def get_weight_samples(self, Nsamples=0):\n",
        "        weight_vec = []\n",
        "        \n",
        "        if Nsamples == 0 or Nsamples > len(self.weight_set_samples):\n",
        "            Nsamples = len(self.weight_set_samples)\n",
        "            \n",
        "        for idx, state_dict in enumerate(self.weight_set_samples):\n",
        "            if idx == Nsamples:\n",
        "                break\n",
        "                \n",
        "            for key in state_dict.keys():\n",
        "                if 'weight' in key:\n",
        "                    weight_mtx = state_dict[key].cpu().data\n",
        "                    for weight in weight_mtx.view(-1):\n",
        "                        weight_vec.append(weight)\n",
        "            \n",
        "        return np.array(weight_vec)"
      ],
      "execution_count": null,
      "outputs": []
    },
    {
      "cell_type": "code",
      "metadata": {
        "id": "n9n4W83rmZf_"
      },
      "source": [
        "import time\n",
        "import torch.utils.data\n",
        "from torchvision import transforms, datasets\n",
        "import matplotlib"
      ],
      "execution_count": null,
      "outputs": []
    },
    {
      "cell_type": "markdown",
      "metadata": {
        "id": "AQti1THk9yfb"
      },
      "source": [
        "# Training Bayesian Linear 2 Layers MNIST (Laplacian prior) DP"
      ]
    },
    {
      "cell_type": "code",
      "metadata": {
        "colab": {
          "base_uri": "https://localhost:8080/"
        },
        "id": "qgFVPHZp9w4e",
        "outputId": "d5dff4ea-1665-417a-ad68-4f0c57e10dd5"
      },
      "source": [
        "models_dir = 'models_SGLD_MNIST_laplacian'\n",
        "results_dir = 'results_SGLD_MNIST_laplacian'\n",
        "\n",
        "mkdir(models_dir)\n",
        "mkdir(results_dir)\n",
        "\n",
        "save_dicts = []\n",
        "\n",
        "# ------------------------------------------------------------------------------------------------------\n",
        "# train config\n",
        "NTrainPointsMNIST = 60000\n",
        "batch_size = 256\n",
        "nb_epochs = 15 # We can do less iterations as this method has faster convergence\n",
        "log_interval = 1\n",
        "\n",
        "lr = 1e-5\n",
        "norm_sigma = 0\n",
        "laplace_b=0.1\n",
        "\n",
        "noise_multiplier = 1.3\n",
        "clipping_norm=1.5\n",
        "DP_or_Not=True\n",
        "\n",
        "# ------------------------------------------------------------------------------------------------------\n",
        "# dataset\n",
        "cprint('c', '\\nData:')\n",
        " \n",
        "\n",
        "# load data\n",
        "transform_train = transforms.Compose([\n",
        "    transforms.ToTensor(),\n",
        "    transforms.Normalize(mean=(0.1307,), std=(0.3081,))\n",
        "])\n",
        "\n",
        "transform_test = transforms.Compose([\n",
        "    transforms.ToTensor(),\n",
        "    transforms.Normalize(mean=(0.1307,), std=(0.3081,))\n",
        "])\n",
        "\n",
        "use_cuda = torch.cuda.is_available()\n",
        "\n",
        "trainset = datasets.MNIST(root='/content/data', train=True, download=True, transform=transform_train)\n",
        "valset = datasets.MNIST(root='/content/data', train=False, download=True, transform=transform_test)\n",
        "\n",
        "if use_cuda:\n",
        "    trainloader = torch.utils.data.DataLoader(trainset, batch_size=batch_size, shuffle=True, pin_memory=True, num_workers=3)\n",
        "    valloader = torch.utils.data.DataLoader(valset, batch_size=batch_size, shuffle=False, pin_memory=True, num_workers=3)\n",
        "\n",
        "else:\n",
        "    trainloader = torch.utils.data.DataLoader(trainset, batch_size=batch_size, shuffle=True, pin_memory=False,\n",
        "                                              num_workers=3)\n",
        "    valloader = torch.utils.data.DataLoader(valset, batch_size=batch_size, shuffle=False, pin_memory=False,\n",
        "                                            num_workers=3)\n",
        "\n",
        "\n",
        "## ---------------------------------------------------------------------------------------------------------------------\n",
        "# net dims\n",
        "cprint('c', '\\nNetwork:')\n",
        "\n",
        "\n",
        "\n",
        "\n",
        " "
      ],
      "execution_count": null,
      "outputs": [
        {
          "output_type": "stream",
          "text": [
            "\u001b[36m\n",
            "Data:\u001b[0m\n",
            "\u001b[36m\n",
            "Network:\u001b[0m\n"
          ],
          "name": "stdout"
        },
        {
          "output_type": "stream",
          "text": [
            "/usr/local/lib/python3.7/dist-packages/torch/utils/data/dataloader.py:481: UserWarning: This DataLoader will create 3 worker processes in total. Our suggested max number of worker in current system is 2, which is smaller than what this DataLoader is going to create. Please be aware that excessive worker creation might get DataLoader running slow or even freeze, lower the worker number to avoid potential slowness/freeze if necessary.\n",
            "  cpuset_checked))\n"
          ],
          "name": "stderr"
        }
      ]
    },
    {
      "cell_type": "code",
      "metadata": {
        "id": "bWNqilpuZnrh"
      },
      "source": [
        "########################################################################################\n",
        "net = Net_langevin(lr=lr, cuda=use_cuda, classes=10, N_train=NTrainPointsMNIST, norm_sigma=norm_sigma,laplace_b=laplace_b,which_net=Linear_2L(28*28,10))\n",
        "\n",
        "\n",
        "## weight saving parameters #######\n",
        "start_save = 15\n",
        "save_every = 2 # We want less correlated samples -> despite having per minibatch noise we see correlations\n",
        "N_saves = 90\n",
        "###################################\n",
        "\n",
        "\n",
        "## ---------------------------------------------------------------------------------------------------------------------\n",
        "# train\n",
        "cprint('c', '\\nTrain:')\n",
        "\n",
        "print('  init cost variables:')\n",
        "pred_cost_train = np.zeros(nb_epochs)\n",
        "err_train = np.zeros(nb_epochs)\n",
        "\n",
        "cost_dev = np.zeros(nb_epochs)\n",
        "err_dev = np.zeros(nb_epochs)\n",
        "# best_cost = np.inf\n",
        "best_err = np.inf\n",
        "\n",
        "\n",
        "nb_its_dev = 1\n",
        "\n",
        "tic0 = time.time()\n",
        "from tqdm import tqdm\n",
        "\n",
        "for i in range(nb_epochs):\n",
        "    \n",
        "#     if i in [1]:\n",
        "#         print('updating lr')\n",
        "#         net.sched.step()\n",
        "    \n",
        "    net.set_mode_train(True)\n",
        "\n",
        "    tic = time.time()\n",
        "    nb_samples = 0\n",
        "\n",
        "    for x, y in tqdm(trainloader):\n",
        "        cost_pred, err = net.fit(x, y)\n",
        "\n",
        "        err_train[i] += err\n",
        "        pred_cost_train[i] += torch.mean(cost_pred)\n",
        "        nb_samples += len(x)\n",
        "\n",
        "    pred_cost_train[i] /= nb_samples\n",
        "    err_train[i] /= nb_samples\n",
        "\n",
        "    toc = time.time()\n",
        "    net.epoch = i\n",
        "    # ---- print\n",
        "    print(\"it %d/%d, Jtr_pred = %f, err = %f, \" % (i, nb_epochs, pred_cost_train[i], err_train[i]), end=\"\")\n",
        "    cprint('r', '   time: %f seconds\\n' % (toc - tic))\n",
        "    \n",
        "    # ---- save weights\n",
        "    if i >= start_save and i % save_every == 0:\n",
        "        net.save_sampled_net(max_samples=N_saves)\n",
        "        save_dicts.append(copy.deepcopy(net.model.state_dict()))\n",
        "\n",
        "    # ---- dev\n",
        "    if i % nb_its_dev == 0:\n",
        "        net.set_mode_train(False)\n",
        "        nb_samples = 0\n",
        "        for j, (x, y) in enumerate(valloader):\n",
        "\n",
        "            cost, err, probs = net.eval(x, y)\n",
        "\n",
        "            cost_dev[i] += cost\n",
        "            err_dev[i] += err\n",
        "            nb_samples += len(x)\n",
        "\n",
        "        cost_dev[i] /= nb_samples\n",
        "        err_dev[i] /= nb_samples\n",
        "\n",
        "        cprint('g', '    Jdev = %f, err = %f\\n' % (cost_dev[i], err_dev[i]))\n",
        "\n",
        "        if err_dev[i] < best_err:\n",
        "            best_err = err_dev[i]\n",
        "            cprint('b', 'best test error')\n",
        "            net.save(models_dir+'/theta_best.dat')\n",
        "   \n",
        "toc0 = time.time()\n",
        "runtime_per_it = (toc0 - tic0) / float(nb_epochs)\n",
        "cprint('r', '   average time: %f seconds\\n' % runtime_per_it)\n",
        "\n",
        "net.save(models_dir+'/theta_last.dat')\n",
        "\n",
        "## ---------------------------------------------------------------------------------------------------------------------\n",
        "# results\n",
        "cprint('c', '\\nRESULTS:')\n",
        "nb_parameters = net.get_nb_parameters()\n",
        "best_cost_dev = np.min(cost_dev)\n",
        "best_cost_train = np.min(pred_cost_train)\n",
        "err_dev_min = err_dev[::nb_its_dev].min()\n",
        "\n",
        "print('  cost_dev: %f (cost_train %f)' % (best_cost_dev, best_cost_train))\n",
        "print('  err_dev: %f' % (err_dev_min))\n",
        "print('  nb_parameters: %d (%s)' % (nb_parameters, humansize(nb_parameters)))\n",
        "print('  time_per_it: %fs\\n' % (runtime_per_it))\n",
        "\n",
        "\n",
        "\n",
        "## Save results for plots\n",
        "# np.save('results/test_predictions.npy', test_predictions)\n",
        "np.save(results_dir + '/cost_train.npy', pred_cost_train)\n",
        "np.save(results_dir + '/cost_dev.npy', cost_dev)\n",
        "np.save(results_dir + '/err_train.npy', err_train)\n",
        "np.save(results_dir + '/err_dev.npy', err_dev)\n",
        "np.save(results_dir + '/save_dicts.npy', save_dicts)\n",
        " \n",
        " "
      ],
      "execution_count": null,
      "outputs": []
    },
    {
      "cell_type": "code",
      "metadata": {
        "id": "NzdECDpFZoGy"
      },
      "source": [
        "net = Net_langevin(lr=lr, cuda=use_cuda, classes=10, N_train=NTrainPointsMNIST, norm_sigma=norm_sigma,laplace_b=laplace_b,which_net=Linear_2L(28*28,10))"
      ],
      "execution_count": null,
      "outputs": []
    },
    {
      "cell_type": "markdown",
      "metadata": {
        "id": "rHvF-MHeRSTZ"
      },
      "source": [
        "# Training Bayesian Linear 2 Layers MNIST (Laplacian prior) non-DP"
      ]
    },
    {
      "cell_type": "code",
      "metadata": {
        "colab": {
          "base_uri": "https://localhost:8080/"
        },
        "id": "cYlJNTbBQbta",
        "outputId": "8a66968a-298b-4158-d790-d7e995485c52"
      },
      "source": [
        "models_dir = 'models_SGLD_MNIST_ndplaplacian'\n",
        "results_dir = 'results_SGLD_MNIST_ndplaplacian'\n",
        "\n",
        "mkdir(models_dir)\n",
        "mkdir(results_dir)\n",
        "\n",
        "save_dicts = []\n",
        "\n",
        "# ------------------------------------------------------------------------------------------------------\n",
        "# train config\n",
        "NTrainPointsMNIST = 60000\n",
        "batch_size = 256\n",
        "nb_epochs = 15 # We can do less iterations as this method has faster convergence\n",
        "log_interval = 1\n",
        "\n",
        "lr = 1e-5\n",
        "norm_sigma = 0\n",
        "laplace_b=0.1\n",
        "\n",
        "noise_multiplier = 1.3\n",
        "clipping_norm=1.5\n",
        "DP_or_Not=True\n",
        "\n",
        "# ------------------------------------------------------------------------------------------------------\n",
        "# dataset\n",
        "cprint('c', '\\nData:')\n",
        " \n",
        "\n",
        "# load data\n",
        "transform_train = transforms.Compose([\n",
        "    transforms.ToTensor(),\n",
        "    transforms.Normalize(mean=(0.1307,), std=(0.3081,))\n",
        "])\n",
        "\n",
        "transform_test = transforms.Compose([\n",
        "    transforms.ToTensor(),\n",
        "    transforms.Normalize(mean=(0.1307,), std=(0.3081,))\n",
        "])\n",
        "\n",
        "use_cuda = torch.cuda.is_available()\n",
        "\n",
        "trainset = datasets.MNIST(root='/content/data', train=True, download=True, transform=transform_train)\n",
        "valset = datasets.MNIST(root='/content/data', train=False, download=True, transform=transform_test)\n",
        "\n",
        "if use_cuda:\n",
        "    trainloader = torch.utils.data.DataLoader(trainset, batch_size=batch_size, shuffle=True, pin_memory=True, num_workers=3)\n",
        "    valloader = torch.utils.data.DataLoader(valset, batch_size=batch_size, shuffle=False, pin_memory=True, num_workers=3)\n",
        "\n",
        "else:\n",
        "    trainloader = torch.utils.data.DataLoader(trainset, batch_size=batch_size, shuffle=True, pin_memory=False,\n",
        "                                              num_workers=3)\n",
        "    valloader = torch.utils.data.DataLoader(valset, batch_size=batch_size, shuffle=False, pin_memory=False,\n",
        "                                            num_workers=3)\n",
        "\n",
        "\n",
        "## ---------------------------------------------------------------------------------------------------------------------\n",
        "# net dims\n",
        "cprint('c', '\\nNetwork:')\n",
        "\n",
        "\n",
        "\n",
        "########################################################################################\n",
        "net = Net_langevin(lr=lr, cuda=use_cuda, classes=10,DP_or_Not=False, N_train=NTrainPointsMNIST, norm_sigma=norm_sigma,laplace_b=laplace_b,which_net=Linear_2L(28*28,10))\n",
        "\n",
        "\n",
        "## weight saving parameters #######\n",
        "start_save = 15\n",
        "save_every = 2 # We want less correlated samples -> despite having per minibatch noise we see correlations\n",
        "N_saves = 90\n",
        "###################################\n",
        "\n",
        "\n",
        "## ---------------------------------------------------------------------------------------------------------------------\n",
        "# train\n",
        "cprint('c', '\\nTrain:')\n",
        "\n",
        "print('  init cost variables:')\n",
        "pred_cost_train = np.zeros(nb_epochs)\n",
        "err_train = np.zeros(nb_epochs)\n",
        "\n",
        "cost_dev = np.zeros(nb_epochs)\n",
        "err_dev = np.zeros(nb_epochs)\n",
        "# best_cost = np.inf\n",
        "best_err = np.inf\n",
        "\n",
        "\n",
        "nb_its_dev = 1\n",
        "\n",
        "tic0 = time.time()\n",
        "from tqdm import tqdm\n",
        "\n",
        "for i in range(nb_epochs):\n",
        "    \n",
        "#     if i in [1]:\n",
        "#         print('updating lr')\n",
        "#         net.sched.step()\n",
        "    \n",
        "    net.set_mode_train(True)\n",
        "\n",
        "    tic = time.time()\n",
        "    nb_samples = 0\n",
        "\n",
        "    for x, y in tqdm(trainloader):\n",
        "        cost_pred, err = net.fit(x, y)\n",
        "\n",
        "        err_train[i] += err\n",
        "        pred_cost_train[i] += torch.mean(cost_pred)\n",
        "        nb_samples += len(x)\n",
        "\n",
        "    pred_cost_train[i] /= nb_samples\n",
        "    err_train[i] /= nb_samples\n",
        "\n",
        "    toc = time.time()\n",
        "    net.epoch = i\n",
        "    # ---- print\n",
        "    print(\"it %d/%d, Jtr_pred = %f, err = %f, \" % (i, nb_epochs, pred_cost_train[i], err_train[i]), end=\"\")\n",
        "    cprint('r', '   time: %f seconds\\n' % (toc - tic))\n",
        "    \n",
        "    # ---- save weights\n",
        "    if i >= start_save and i % save_every == 0:\n",
        "        net.save_sampled_net(max_samples=N_saves)\n",
        "        save_dicts.append(copy.deepcopy(net.model.state_dict()))\n",
        "\n",
        "    # ---- dev\n",
        "    if i % nb_its_dev == 0:\n",
        "        net.set_mode_train(False)\n",
        "        nb_samples = 0\n",
        "        for j, (x, y) in enumerate(valloader):\n",
        "\n",
        "            cost, err, probs = net.eval(x, y)\n",
        "\n",
        "            cost_dev[i] += cost\n",
        "            err_dev[i] += err\n",
        "            nb_samples += len(x)\n",
        "\n",
        "        cost_dev[i] /= nb_samples\n",
        "        err_dev[i] /= nb_samples\n",
        "\n",
        "        cprint('g', '    Jdev = %f, err = %f\\n' % (cost_dev[i], err_dev[i]))\n",
        "\n",
        "        if err_dev[i] < best_err:\n",
        "            best_err = err_dev[i]\n",
        "            cprint('b', 'best test error')\n",
        "            net.save(models_dir+'/theta_best.dat')\n",
        "   \n",
        "toc0 = time.time()\n",
        "runtime_per_it = (toc0 - tic0) / float(nb_epochs)\n",
        "cprint('r', '   average time: %f seconds\\n' % runtime_per_it)\n",
        "\n",
        "net.save(models_dir+'/theta_last.dat')\n",
        "\n",
        "## ---------------------------------------------------------------------------------------------------------------------\n",
        "# results\n",
        "cprint('c', '\\nRESULTS:')\n",
        "nb_parameters = net.get_nb_parameters()\n",
        "best_cost_dev = np.min(cost_dev)\n",
        "best_cost_train = np.min(pred_cost_train)\n",
        "err_dev_min = err_dev[::nb_its_dev].min()\n",
        "\n",
        "print('  cost_dev: %f (cost_train %f)' % (best_cost_dev, best_cost_train))\n",
        "print('  err_dev: %f' % (err_dev_min))\n",
        "print('  nb_parameters: %d (%s)' % (nb_parameters, humansize(nb_parameters)))\n",
        "print('  time_per_it: %fs\\n' % (runtime_per_it))\n",
        "\n",
        "\n",
        "\n",
        "## Save results for plots\n",
        "# np.save('results/test_predictions.npy', test_predictions)\n",
        "np.save(results_dir + '/cost_train.npy', pred_cost_train)\n",
        "np.save(results_dir + '/cost_dev.npy', cost_dev)\n",
        "np.save(results_dir + '/err_train.npy', err_train)\n",
        "np.save(results_dir + '/err_dev.npy', err_dev)\n",
        "np.save(results_dir + '/save_dicts.npy', save_dicts)\n",
        " \n",
        " \n",
        " "
      ],
      "execution_count": null,
      "outputs": [
        {
          "output_type": "stream",
          "text": [
            "\u001b[36m\n",
            "Data:\u001b[0m\n",
            "\u001b[36m\n",
            "Network:\u001b[0m\n",
            "\u001b[36m\n",
            "Net:\u001b[0m\n",
            "\u001b[33m Creating Net!! \u001b[0m\n",
            "    Total params: 2.40M\n",
            "\u001b[36m\n",
            "Train:\u001b[0m\n"
          ],
          "name": "stdout"
        },
        {
          "output_type": "stream",
          "text": [
            "/usr/local/lib/python3.7/dist-packages/torch/utils/data/dataloader.py:477: UserWarning: This DataLoader will create 3 worker processes in total. Our suggested max number of worker in current system is 2, which is smaller than what this DataLoader is going to create. Please be aware that excessive worker creation might get DataLoader running slow or even freeze, lower the worker number to avoid potential slowness/freeze if necessary.\n",
            "  cpuset_checked))\n",
            "/usr/local/lib/python3.7/dist-packages/ipykernel_launcher.py:7: DeprecationWarning: Calling np.sum(generator) is deprecated, and in the future will give a different result. Use np.sum(np.fromiter(generator)) or the python sum builtin instead.\n",
            "  import sys\n",
            "/usr/local/lib/python3.7/dist-packages/opacus/privacy_engine.py:523: UserWarning: A ``sample_rate`` has been provided.Thus, the provided ``batch_size``and ``sample_size`` will be ignored.\n",
            "  \"A ``sample_rate`` has been provided.\"\n",
            "/usr/local/lib/python3.7/dist-packages/opacus/privacy_engine.py:195: UserWarning: Secure RNG turned off. This is perfectly fine for experimentation as it allows for much faster training performance, but remember to turn it on and retrain one last time before production with ``secure_rng`` turned on.\n",
            "  \"Secure RNG turned off. This is perfectly fine for experimentation as it allows \"\n",
            "\r  0%|          | 0/235 [00:00<?, ?it/s]"
          ],
          "name": "stderr"
        },
        {
          "output_type": "stream",
          "text": [
            "  init cost variables:\n"
          ],
          "name": "stdout"
        },
        {
          "output_type": "stream",
          "text": [
            "/usr/local/lib/python3.7/dist-packages/torch/utils/data/dataloader.py:477: UserWarning: This DataLoader will create 3 worker processes in total. Our suggested max number of worker in current system is 2, which is smaller than what this DataLoader is going to create. Please be aware that excessive worker creation might get DataLoader running slow or even freeze, lower the worker number to avoid potential slowness/freeze if necessary.\n",
            "  cpuset_checked))\n",
            "/usr/local/lib/python3.7/dist-packages/torch/nn/modules/module.py:795: UserWarning: Using a non-full backward hook when the forward contains multiple autograd Nodes is deprecated and will be removed in future versions. This hook will be missing some grad_input. Please use register_full_backward_hook to get the documented behavior.\n",
            "  warnings.warn(\"Using a non-full backward hook when the forward contains multiple autograd Nodes \"\n",
            "100%|██████████| 235/235 [00:09<00:00, 23.62it/s]"
          ],
          "name": "stderr"
        },
        {
          "output_type": "stream",
          "text": [
            "it 0/15, Jtr_pred = 0.575287, err = 0.164633, \u001b[31m   time: 9.951154 seconds\n",
            "\u001b[0m\n"
          ],
          "name": "stdout"
        },
        {
          "output_type": "stream",
          "text": [
            "\n"
          ],
          "name": "stderr"
        },
        {
          "output_type": "stream",
          "text": [
            "\u001b[32m    Jdev = 0.409699, err = 0.113100\n",
            "\u001b[0m\n",
            "\u001b[34mbest test error\u001b[0m\n",
            "\u001b[36mWritting models_SGLD_MNIST_ndplaplacian/theta_best.dat\n",
            "\u001b[0m\n"
          ],
          "name": "stdout"
        },
        {
          "output_type": "stream",
          "text": [
            "100%|██████████| 235/235 [00:09<00:00, 23.69it/s]"
          ],
          "name": "stderr"
        },
        {
          "output_type": "stream",
          "text": [
            "it 1/15, Jtr_pred = 0.428962, err = 0.110767, \u001b[31m   time: 9.923389 seconds\n",
            "\u001b[0m\n"
          ],
          "name": "stdout"
        },
        {
          "output_type": "stream",
          "text": [
            "\n"
          ],
          "name": "stderr"
        },
        {
          "output_type": "stream",
          "text": [
            "\u001b[32m    Jdev = 0.451488, err = 0.110100\n",
            "\u001b[0m\n",
            "\u001b[34mbest test error\u001b[0m\n",
            "\u001b[36mWritting models_SGLD_MNIST_ndplaplacian/theta_best.dat\n",
            "\u001b[0m\n"
          ],
          "name": "stdout"
        },
        {
          "output_type": "stream",
          "text": [
            "100%|██████████| 235/235 [00:10<00:00, 23.36it/s]"
          ],
          "name": "stderr"
        },
        {
          "output_type": "stream",
          "text": [
            "it 2/15, Jtr_pred = 0.444653, err = 0.107850, \u001b[31m   time: 10.061934 seconds\n",
            "\u001b[0m\n"
          ],
          "name": "stdout"
        },
        {
          "output_type": "stream",
          "text": [
            "\n"
          ],
          "name": "stderr"
        },
        {
          "output_type": "stream",
          "text": [
            "\u001b[32m    Jdev = 0.486672, err = 0.113500\n",
            "\u001b[0m\n"
          ],
          "name": "stdout"
        },
        {
          "output_type": "stream",
          "text": [
            "100%|██████████| 235/235 [00:09<00:00, 23.78it/s]"
          ],
          "name": "stderr"
        },
        {
          "output_type": "stream",
          "text": [
            "it 3/15, Jtr_pred = 0.475376, err = 0.107667, \u001b[31m   time: 9.887226 seconds\n",
            "\u001b[0m\n"
          ],
          "name": "stdout"
        },
        {
          "output_type": "stream",
          "text": [
            "\n"
          ],
          "name": "stderr"
        },
        {
          "output_type": "stream",
          "text": [
            "\u001b[32m    Jdev = 0.466036, err = 0.104300\n",
            "\u001b[0m\n",
            "\u001b[34mbest test error\u001b[0m\n",
            "\u001b[36mWritting models_SGLD_MNIST_ndplaplacian/theta_best.dat\n",
            "\u001b[0m\n"
          ],
          "name": "stdout"
        },
        {
          "output_type": "stream",
          "text": [
            "100%|██████████| 235/235 [00:09<00:00, 23.58it/s]"
          ],
          "name": "stderr"
        },
        {
          "output_type": "stream",
          "text": [
            "it 4/15, Jtr_pred = 0.499270, err = 0.108433, \u001b[31m   time: 9.968985 seconds\n",
            "\u001b[0m\n"
          ],
          "name": "stdout"
        },
        {
          "output_type": "stream",
          "text": [
            "\n"
          ],
          "name": "stderr"
        },
        {
          "output_type": "stream",
          "text": [
            "\u001b[32m    Jdev = 0.590824, err = 0.124300\n",
            "\u001b[0m\n"
          ],
          "name": "stdout"
        },
        {
          "output_type": "stream",
          "text": [
            "100%|██████████| 235/235 [00:09<00:00, 23.89it/s]"
          ],
          "name": "stderr"
        },
        {
          "output_type": "stream",
          "text": [
            "it 5/15, Jtr_pred = 0.514864, err = 0.108583, \u001b[31m   time: 9.844457 seconds\n",
            "\u001b[0m\n"
          ],
          "name": "stdout"
        },
        {
          "output_type": "stream",
          "text": [
            "\n"
          ],
          "name": "stderr"
        },
        {
          "output_type": "stream",
          "text": [
            "\u001b[32m    Jdev = 0.499215, err = 0.108100\n",
            "\u001b[0m\n"
          ],
          "name": "stdout"
        },
        {
          "output_type": "stream",
          "text": [
            "100%|██████████| 235/235 [00:09<00:00, 23.87it/s]"
          ],
          "name": "stderr"
        },
        {
          "output_type": "stream",
          "text": [
            "it 6/15, Jtr_pred = 0.536860, err = 0.110967, \u001b[31m   time: 9.854952 seconds\n",
            "\u001b[0m\n"
          ],
          "name": "stdout"
        },
        {
          "output_type": "stream",
          "text": [
            "\n"
          ],
          "name": "stderr"
        },
        {
          "output_type": "stream",
          "text": [
            "\u001b[32m    Jdev = 0.630002, err = 0.127200\n",
            "\u001b[0m\n"
          ],
          "name": "stdout"
        },
        {
          "output_type": "stream",
          "text": [
            "100%|██████████| 235/235 [00:09<00:00, 23.92it/s]"
          ],
          "name": "stderr"
        },
        {
          "output_type": "stream",
          "text": [
            "it 7/15, Jtr_pred = 0.535930, err = 0.109200, \u001b[31m   time: 9.836045 seconds\n",
            "\u001b[0m\n"
          ],
          "name": "stdout"
        },
        {
          "output_type": "stream",
          "text": [
            "\n"
          ],
          "name": "stderr"
        },
        {
          "output_type": "stream",
          "text": [
            "\u001b[32m    Jdev = 0.560682, err = 0.110800\n",
            "\u001b[0m\n"
          ],
          "name": "stdout"
        },
        {
          "output_type": "stream",
          "text": [
            "100%|██████████| 235/235 [00:09<00:00, 23.71it/s]"
          ],
          "name": "stderr"
        },
        {
          "output_type": "stream",
          "text": [
            "it 8/15, Jtr_pred = 0.547129, err = 0.109517, \u001b[31m   time: 9.915766 seconds\n",
            "\u001b[0m\n"
          ],
          "name": "stdout"
        },
        {
          "output_type": "stream",
          "text": [
            "\n"
          ],
          "name": "stderr"
        },
        {
          "output_type": "stream",
          "text": [
            "\u001b[32m    Jdev = 0.604353, err = 0.118300\n",
            "\u001b[0m\n"
          ],
          "name": "stdout"
        },
        {
          "output_type": "stream",
          "text": [
            "100%|██████████| 235/235 [00:09<00:00, 23.71it/s]"
          ],
          "name": "stderr"
        },
        {
          "output_type": "stream",
          "text": [
            "it 9/15, Jtr_pred = 0.537406, err = 0.105917, \u001b[31m   time: 9.915068 seconds\n",
            "\u001b[0m\n"
          ],
          "name": "stdout"
        },
        {
          "output_type": "stream",
          "text": [
            "\n"
          ],
          "name": "stderr"
        },
        {
          "output_type": "stream",
          "text": [
            "\u001b[32m    Jdev = 0.549893, err = 0.107700\n",
            "\u001b[0m\n"
          ],
          "name": "stdout"
        },
        {
          "output_type": "stream",
          "text": [
            "100%|██████████| 235/235 [00:09<00:00, 23.59it/s]"
          ],
          "name": "stderr"
        },
        {
          "output_type": "stream",
          "text": [
            "it 10/15, Jtr_pred = 0.532504, err = 0.106217, \u001b[31m   time: 9.963025 seconds\n",
            "\u001b[0m\n"
          ],
          "name": "stdout"
        },
        {
          "output_type": "stream",
          "text": [
            "\n"
          ],
          "name": "stderr"
        },
        {
          "output_type": "stream",
          "text": [
            "\u001b[32m    Jdev = 0.520974, err = 0.104900\n",
            "\u001b[0m\n"
          ],
          "name": "stdout"
        },
        {
          "output_type": "stream",
          "text": [
            "100%|██████████| 235/235 [00:09<00:00, 23.65it/s]"
          ],
          "name": "stderr"
        },
        {
          "output_type": "stream",
          "text": [
            "it 11/15, Jtr_pred = 0.523396, err = 0.108317, \u001b[31m   time: 9.942082 seconds\n",
            "\u001b[0m\n"
          ],
          "name": "stdout"
        },
        {
          "output_type": "stream",
          "text": [
            "\n"
          ],
          "name": "stderr"
        },
        {
          "output_type": "stream",
          "text": [
            "\u001b[32m    Jdev = 0.574687, err = 0.116500\n",
            "\u001b[0m\n"
          ],
          "name": "stdout"
        },
        {
          "output_type": "stream",
          "text": [
            "100%|██████████| 235/235 [00:09<00:00, 23.64it/s]"
          ],
          "name": "stderr"
        },
        {
          "output_type": "stream",
          "text": [
            "it 12/15, Jtr_pred = 0.523351, err = 0.105900, \u001b[31m   time: 9.950850 seconds\n",
            "\u001b[0m\n"
          ],
          "name": "stdout"
        },
        {
          "output_type": "stream",
          "text": [
            "\n"
          ],
          "name": "stderr"
        },
        {
          "output_type": "stream",
          "text": [
            "\u001b[32m    Jdev = 0.656560, err = 0.126200\n",
            "\u001b[0m\n"
          ],
          "name": "stdout"
        },
        {
          "output_type": "stream",
          "text": [
            "100%|██████████| 235/235 [00:09<00:00, 23.75it/s]"
          ],
          "name": "stderr"
        },
        {
          "output_type": "stream",
          "text": [
            "it 13/15, Jtr_pred = 0.530333, err = 0.106433, \u001b[31m   time: 9.902237 seconds\n",
            "\u001b[0m\n"
          ],
          "name": "stdout"
        },
        {
          "output_type": "stream",
          "text": [
            "\n"
          ],
          "name": "stderr"
        },
        {
          "output_type": "stream",
          "text": [
            "\u001b[32m    Jdev = 0.533488, err = 0.110400\n",
            "\u001b[0m\n"
          ],
          "name": "stdout"
        },
        {
          "output_type": "stream",
          "text": [
            "100%|██████████| 235/235 [00:09<00:00, 23.72it/s]"
          ],
          "name": "stderr"
        },
        {
          "output_type": "stream",
          "text": [
            "it 14/15, Jtr_pred = 0.526827, err = 0.106817, \u001b[31m   time: 9.912264 seconds\n",
            "\u001b[0m\n"
          ],
          "name": "stdout"
        },
        {
          "output_type": "stream",
          "text": [
            "\n"
          ],
          "name": "stderr"
        },
        {
          "output_type": "stream",
          "text": [
            "\u001b[32m    Jdev = 0.586912, err = 0.112900\n",
            "\u001b[0m\n",
            "\u001b[31m   average time: 11.261992 seconds\n",
            "\u001b[0m\n",
            "\u001b[36mWritting models_SGLD_MNIST_ndplaplacian/theta_last.dat\n",
            "\u001b[0m\n",
            "\u001b[36m\n",
            "RESULTS:\u001b[0m\n",
            "  cost_dev: 0.409699 (cost_train 0.428962)\n",
            "  err_dev: 0.104300\n",
            "  nb_parameters: 2395210 (2.28MB)\n",
            "  time_per_it: 11.261992s\n",
            "\n"
          ],
          "name": "stdout"
        },
        {
          "output_type": "stream",
          "text": [
            "/usr/local/lib/python3.7/dist-packages/ipykernel_launcher.py:7: DeprecationWarning: Calling np.sum(generator) is deprecated, and in the future will give a different result. Use np.sum(np.fromiter(generator)) or the python sum builtin instead.\n",
            "  import sys\n"
          ],
          "name": "stderr"
        }
      ]
    },
    {
      "cell_type": "markdown",
      "metadata": {
        "id": "5ODUmk-l4nC8"
      },
      "source": [
        "# Training Bayesian Linear 2 Layers MNIST (Gaussian prior) DP"
      ]
    },
    {
      "cell_type": "code",
      "metadata": {
        "colab": {
          "base_uri": "https://localhost:8080/"
        },
        "id": "z61wJUA6iuiF",
        "outputId": "4a080d18-7a63-4ca6-bce7-2727122ccda9"
      },
      "source": [
        "models_dir = 'models_SGLD_MNIST_gaussian'\n",
        "results_dir = 'results_SGLD_MNIST_gaussian'\n",
        "\n",
        "mkdir(models_dir)\n",
        "mkdir(results_dir)\n",
        "\n",
        "save_dicts = []\n",
        "# ------------------------------------------------------------------------------------------------------\n",
        "# train config\n",
        "NTrainPointsMNIST = 60000\n",
        "batch_size = 256\n",
        "nb_epochs = 15 # We can do less iterations as this method has faster convergence\n",
        "log_interval = 1\n",
        "\n",
        "lr = 1e-5\n",
        "norm_sigma =0.1 \n",
        "laplace_b=0\n",
        "noise_multiplier = 1.3\n",
        "clipping_norm=1.5\n",
        "DP_or_Not=True\n",
        "# ------------------------------------------------------------------------------------------------------\n",
        "# dataset\n",
        "cprint('c', '\\nData:')\n",
        "\n",
        " \n",
        "\n",
        "# load data\n",
        "\n",
        "# data augmentation\n",
        "transform_train = transforms.Compose([\n",
        "    transforms.ToTensor(),\n",
        "    transforms.Normalize(mean=(0.1307,), std=(0.3081,))\n",
        "])\n",
        "\n",
        "transform_test = transforms.Compose([\n",
        "    transforms.ToTensor(),\n",
        "    transforms.Normalize(mean=(0.1307,), std=(0.3081,))\n",
        "])\n",
        "\n",
        "use_cuda = torch.cuda.is_available()\n",
        "\n",
        "trainset = datasets.MNIST(root='/content/data', train=True, download=True, transform=transform_train)\n",
        "valset = datasets.MNIST(root='/content/data', train=False, download=True, transform=transform_test)\n",
        "\n",
        "if use_cuda:\n",
        "    trainloader = torch.utils.data.DataLoader(trainset, batch_size=batch_size, shuffle=True, pin_memory=True, num_workers=3)\n",
        "    valloader = torch.utils.data.DataLoader(valset, batch_size=batch_size, shuffle=False, pin_memory=True, num_workers=3)\n",
        "\n",
        "else:\n",
        "    trainloader = torch.utils.data.DataLoader(trainset, batch_size=batch_size, shuffle=True, pin_memory=False,\n",
        "                                              num_workers=3)\n",
        "    valloader = torch.utils.data.DataLoader(valset, batch_size=batch_size, shuffle=False, pin_memory=False,\n",
        "                                            num_workers=3)\n",
        "\n",
        "\n",
        "## ---------------------------------------------------------------------------------------------------------------------\n",
        "# net dims\n",
        "cprint('c', '\\nNetwork:')\n",
        "\n",
        "\n",
        "\n",
        " "
      ],
      "execution_count": null,
      "outputs": [
        {
          "output_type": "stream",
          "text": [
            "\u001b[36m\n",
            "Data:\u001b[0m\n",
            "\u001b[36m\n",
            "Network:\u001b[0m\n"
          ],
          "name": "stdout"
        },
        {
          "output_type": "stream",
          "text": [
            "/usr/local/lib/python3.7/dist-packages/torch/utils/data/dataloader.py:481: UserWarning: This DataLoader will create 3 worker processes in total. Our suggested max number of worker in current system is 2, which is smaller than what this DataLoader is going to create. Please be aware that excessive worker creation might get DataLoader running slow or even freeze, lower the worker number to avoid potential slowness/freeze if necessary.\n",
            "  cpuset_checked))\n"
          ],
          "name": "stderr"
        }
      ]
    },
    {
      "cell_type": "code",
      "metadata": {
        "id": "bZqbFXB3Z2Q6"
      },
      "source": [
        "########################################################################################\n",
        "net = Net_langevin(lr=lr, cuda=use_cuda, classes=10,DP_or_Not=True, N_train=NTrainPointsMNIST, norm_sigma=norm_sigma,laplace_b=laplace_b,which_net=Linear_2L(28*28,10))\n",
        "\n",
        "## weight saving parameters #######\n",
        "start_save = 5\n",
        "save_every = 1 # We want less correlated samples -> despite having per minibatch noise we see correlations\n",
        "N_saves = 90\n",
        "###################################\n",
        "\n",
        "\n",
        "## ---------------------------------------------------------------------------------------------------------------------\n",
        "# train\n",
        "cprint('c', '\\nTrain:')\n",
        "\n",
        "print('  init cost variables:')\n",
        "pred_cost_train = np.zeros(nb_epochs)\n",
        "err_train = np.zeros(nb_epochs)\n",
        "\n",
        "cost_dev = np.zeros(nb_epochs)\n",
        "err_dev = np.zeros(nb_epochs)\n",
        "# best_cost = np.inf\n",
        "best_err = np.inf\n",
        "\n",
        "\n",
        "nb_its_dev = 1\n",
        "\n",
        "tic0 = time.time()\n",
        "from tqdm import tqdm\n",
        "\n",
        "for i in range(nb_epochs):\n",
        "    \n",
        "#     if i in [1]:\n",
        "#         print('updating lr')\n",
        "#         net.sched.step()\n",
        "    \n",
        "    net.set_mode_train(True)\n",
        "\n",
        "    tic = time.time()\n",
        "    nb_samples = 0\n",
        "\n",
        "    for x, y in tqdm(trainloader):\n",
        "        cost_pred, err = net.fit(x, y)\n",
        "        #print(cost_pred)\n",
        "        #print(err)\n",
        "        err_train[i] += err\n",
        "        #pred_cost_train[i] += cost_pred\n",
        "        pred_cost_train[i] += torch.mean(cost_pred)\n",
        "        nb_samples += len(x)\n",
        "\n",
        "    pred_cost_train[i] /= nb_samples\n",
        "    err_train[i] /= nb_samples\n",
        "\n",
        "    toc = time.time()\n",
        "    net.epoch = i\n",
        "    # ---- print\n",
        "    print(\"it %d/%d, Jtr_pred = %f, err = %f, \" % (i, nb_epochs, pred_cost_train[i], err_train[i]), end=\"\")\n",
        "    cprint('r', '   time: %f seconds\\n' % (toc - tic))\n",
        "    \n",
        "    # ---- save weights\n",
        "    if i >= start_save and i % save_every == 0:\n",
        "        net.save_sampled_net(max_samples=N_saves)\n",
        "        save_dicts.append(copy.deepcopy(net.model.state_dict()))\n",
        "    # ---- dev\n",
        "    if i % nb_its_dev == 0:\n",
        "        net.set_mode_train(False)\n",
        "        nb_samples = 0\n",
        "        for j, (x, y) in enumerate(valloader):\n",
        "\n",
        "            cost, err, probs = net.eval(x, y)\n",
        "\n",
        "            cost_dev[i] += cost\n",
        "            err_dev[i] += err\n",
        "            nb_samples += len(x)\n",
        "\n",
        "        cost_dev[i] /= nb_samples\n",
        "        err_dev[i] /= nb_samples\n",
        "\n",
        "        cprint('g', '    Jdev = %f, err = %f\\n' % (cost_dev[i], err_dev[i]))\n",
        "\n",
        "        if err_dev[i] < best_err:\n",
        "            best_err = err_dev[i]\n",
        "            cprint('b', 'best test error')\n",
        "            net.save(models_dir+'/theta_best.dat')\n",
        "   \n",
        "toc0 = time.time()\n",
        "runtime_per_it = (toc0 - tic0) / float(nb_epochs)\n",
        "cprint('r', '   average time: %f seconds\\n' % runtime_per_it)\n",
        "\n",
        "net.save(models_dir+'/theta_last.dat')\n",
        "\n",
        "## ---------------------------------------------------------------------------------------------------------------------\n",
        "# results\n",
        "cprint('c', '\\nRESULTS:')\n",
        "nb_parameters = net.get_nb_parameters()\n",
        "best_cost_dev = np.min(cost_dev)\n",
        "best_cost_train = np.min(pred_cost_train)\n",
        "err_dev_min = err_dev[::nb_its_dev].min()\n",
        "\n",
        "print('  cost_dev: %f (cost_train %f)' % (best_cost_dev, best_cost_train))\n",
        "print('  err_dev: %f' % (err_dev_min))\n",
        "print('  nb_parameters: %d (%s)' % (nb_parameters, humansize(nb_parameters)))\n",
        "print('  time_per_it: %fs\\n' % (runtime_per_it))\n",
        "\n",
        "\n",
        "\n",
        "## Save results for plots\n",
        "# np.save('results/test_predictions.npy', test_predictions)\n",
        "np.save(results_dir + '/cost_train.npy', pred_cost_train)\n",
        "np.save(results_dir + '/cost_dev.npy', cost_dev)\n",
        "np.save(results_dir + '/err_train.npy', err_train)\n",
        "np.save(results_dir + '/err_dev.npy', err_dev)\n",
        "np.save(results_dir + '/save_dicts.npy',save_dicts )\n",
        "\n"
      ],
      "execution_count": null,
      "outputs": []
    },
    {
      "cell_type": "code",
      "metadata": {
        "colab": {
          "base_uri": "https://localhost:8080/"
        },
        "id": "tm_3itwmZ43I",
        "outputId": "5629a01f-c984-49f8-a785-b9d28b46ba3f"
      },
      "source": [
        "model_local = Net_langevin(lr=lr, cuda=use_cuda, classes=10,DP_or_Not=True, N_train=NTrainPointsMNIST, norm_sigma=norm_sigma,laplace_b=laplace_b,which_net=Linear_2L(28*28,10))\n",
        "\n",
        "model_local.load('/content/theta_best.dat')"
      ],
      "execution_count": null,
      "outputs": [
        {
          "output_type": "stream",
          "text": [
            "\u001b[36m\n",
            "Net:\u001b[0m\n",
            "\u001b[33m Creating Net!! \u001b[0m\n",
            "    Total params: 2.40M\n",
            "\u001b[36mReading /content/theta_best.dat\n",
            "\u001b[0m\n",
            "  restoring epoch: 7, lr: 0.000010\n"
          ],
          "name": "stdout"
        },
        {
          "output_type": "stream",
          "text": [
            "/usr/local/lib/python3.7/dist-packages/ipykernel_launcher.py:7: DeprecationWarning: Calling np.sum(generator) is deprecated, and in the future will give a different result. Use np.sum(np.fromiter(generator)) or the python sum builtin instead.\n",
            "  import sys\n",
            "/usr/local/lib/python3.7/dist-packages/opacus/privacy_engine.py:523: UserWarning: A ``sample_rate`` has been provided.Thus, the provided ``batch_size``and ``sample_size`` will be ignored.\n",
            "  \"A ``sample_rate`` has been provided.\"\n",
            "/usr/local/lib/python3.7/dist-packages/opacus/privacy_engine.py:195: UserWarning: Secure RNG turned off. This is perfectly fine for experimentation as it allows for much faster training performance, but remember to turn it on and retrain one last time before production with ``secure_rng`` turned on.\n",
            "  \"Secure RNG turned off. This is perfectly fine for experimentation as it allows \"\n"
          ],
          "name": "stderr"
        },
        {
          "output_type": "execute_result",
          "data": {
            "text/plain": [
              "7"
            ]
          },
          "metadata": {
            "tags": []
          },
          "execution_count": 14
        }
      ]
    },
    {
      "cell_type": "code",
      "metadata": {
        "colab": {
          "base_uri": "https://localhost:8080/"
        },
        "id": "KUY3CKJZcruo",
        "outputId": "ea66a666-5dd6-492a-fce3-ed4e15cf29d6"
      },
      "source": [
        "#model_local.to(device)\n",
        "#model_local.eval()\n",
        "from tqdm import tqdm\n",
        "y_local_te=np.empty((0,10))\n",
        "targets_te=np.array([])\n",
        "prob_local=np.array([])\n",
        "acc = 0 \n",
        "with torch.no_grad():\n",
        "        for data, target in tqdm(valloader):\n",
        "            data, target = data.to(device), target.to(device)\n",
        "            cost, err, prob = model_local.eval(data,target)\n",
        "            acc += err\n",
        "            y_local_te=np.append(y_local_te,prob.detach().numpy(),axis=0)\n",
        "            #y_local_te_single=np.append(y_local_te_single,y_local_te[-1].argmax())\n",
        "            prob_local=np.append(prob,np.array([prob.detach().numpy()[i,j] for i,j in enumerate(target.cpu().detach().numpy())]))\n",
        "            targets_te=np.append(targets_te,target.cpu().detach().numpy())\n",
        "\n",
        "y_local_te_single= np.argmax(y_local_te,axis=1)\n"
      ],
      "execution_count": null,
      "outputs": [
        {
          "output_type": "stream",
          "text": [
            "\r  0%|          | 0/40 [00:00<?, ?it/s]/usr/local/lib/python3.7/dist-packages/torch/utils/data/dataloader.py:481: UserWarning: This DataLoader will create 3 worker processes in total. Our suggested max number of worker in current system is 2, which is smaller than what this DataLoader is going to create. Please be aware that excessive worker creation might get DataLoader running slow or even freeze, lower the worker number to avoid potential slowness/freeze if necessary.\n",
            "  cpuset_checked))\n",
            "/usr/local/lib/python3.7/dist-packages/torch/nn/functional.py:718: UserWarning: Named tensors and all their associated APIs are an experimental feature and subject to change. Please do not use them for anything important until they are released as stable. (Triggered internally at  /pytorch/c10/core/TensorImpl.h:1156.)\n",
            "  return torch.max_pool2d(input, kernel_size, stride, padding, dilation, ceil_mode)\n",
            "100%|██████████| 40/40 [00:01<00:00, 27.26it/s]\n"
          ],
          "name": "stderr"
        }
      ]
    },
    {
      "cell_type": "code",
      "metadata": {
        "colab": {
          "base_uri": "https://localhost:8080/"
        },
        "id": "cKRe3_-XahXR",
        "outputId": "07c02bff-0e1d-46eb-cadc-7cbaae7d323c"
      },
      "source": [
        "sum(y_local_te_single==targets_te)/10000 - np.mean(np.max(y_local_te,axis=1))"
      ],
      "execution_count": null,
      "outputs": [
        {
          "output_type": "execute_result",
          "data": {
            "text/plain": [
              "-0.01588478334248067"
            ]
          },
          "metadata": {
            "tags": []
          },
          "execution_count": 16
        }
      ]
    },
    {
      "cell_type": "code",
      "metadata": {
        "colab": {
          "base_uri": "https://localhost:8080/",
          "height": 308
        },
        "id": "myLcPpouZay_",
        "outputId": "7d55238e-1eb6-41eb-ebb1-b3cd4e63b01d"
      },
      "source": [
        "import matplotlib.pyplot as plt\n",
        "import seaborn as sns\n",
        "\n",
        "\n",
        "#local_acc = np.mean(y_local_te_single == targets_te)\n",
        "\n",
        "\n",
        "print(\"######## ECE: ##############\")\n",
        "#print(f\"Local accuracy: {local_acc}, predicted confidence {np.mean(np.max(y_local_te,axis=1))}, ECE {np.abs(local_acc - np.mean(np.max(y_local_te,axis=1)))}\")\n",
        "#print(f\"NonDP accuracy: {nondp_acc}, predicted confidence {np.mean(np.max(y_nondp_te,axis=1))}, ECE {np.abs(nondp_acc - np.mean(np.max(y_nondp_te,axis=1)))}\")\n",
        "\n",
        "\n",
        "plt.plot(0,0,linestyle='dashed',color='black')\n",
        "plt.plot(0,0,color='black')\n",
        "plt.plot(0,0,color='#1f77b4')\n",
        "plt.plot(0,0,color='#ff7f0e')\n",
        "plt.ylim(0,10000)\n",
        "#plt.plot([0.2338]*20,np.linspace(0,1500,20),linestyle='dashed',color='#1f77b4')\n",
        "plt.plot([0.9484]*20,np.linspace(0,10000,20),linestyle='dashed',color='#ff7f0e',label='local Accu')\n",
        "#plt.plot([np.mean(np.max(y_global_te,axis=1))]*20,np.linspace(0,1500,20),color='#1f77b4')\n",
        "plt.plot([np.mean(np.max(y_local_te,axis=1))]*20,np.linspace(0,10000,20),color='#ff7f0e')\n",
        "\n",
        "#print('non DP accuracy:', np.mean(targets_te==y_noDP_te_single),' confidence:',np.mean(np.max(y_noDP_te,axis=1)),' difference:',np.mean(np.max(y_noDP_te,axis=1))-np.mean(targets_te==y_noDP_te_single))\n",
        "#print('DP local accuracy:', np.mean(targets_te==y_local_te_single),' confidence:',np.mean(np.max(y_local_te,axis=1)),' difference:',np.mean(np.max(y_local_te,axis=1))-np.mean(targets_te==y_local_te_single))\n",
        "#print('DP global accuracy:', np.mean(targets_te==y_global_te_single),' confidence:',np.mean(np.max(y_global_te,axis=1)),' difference:',np.mean(np.max(y_global_te,axis=1))-np.mean(targets_te==y_global_te_single))\n",
        "\n",
        "plt.hist(np.max(y_local_te,axis=1),bins=30)\n",
        "\n",
        "plt.xlim(0,1)\n",
        "plt.xlabel('Confidence', fontsize=15)\n",
        "plt.ylabel('Number of Samples', fontsize=15)\n",
        "plt.legend(('Accuracy','Avg Confidence'),fontsize=13,loc='upper left',frameon=False)\n",
        "plt.savefig('Confidence_DPBBP.pdf',format='pdf')\n",
        "plt.show()\n",
        "\n"
      ],
      "execution_count": null,
      "outputs": [
        {
          "output_type": "stream",
          "text": [
            "######## ECE: ##############\n"
          ],
          "name": "stdout"
        },
        {
          "output_type": "display_data",
          "data": {
            "image/png": "[encoded data removed]",
            "text/plain": [
              "<Figure size 432x288 with 1 Axes>"
            ]
          },
          "metadata": {
            "tags": []
          }
        }
      ]
    },
    {
      "cell_type": "code",
      "metadata": {
        "colab": {
          "base_uri": "https://localhost:8080/",
          "height": 375
        },
        "id": "hkLDVoh3PUTn",
        "outputId": "d506d756-c062-4f0b-d613-9b0b57bcbc0f"
      },
      "source": [
        "#%%\n",
        "store_local = []\n",
        "templ=np.max(y_local_te,axis=1)\n",
        "dr=0.05\n",
        "for ratio in np.arange(0,1,dr):\n",
        "    index=(templ>ratio)*(templ<ratio+dr)\n",
        "    store_local.append(np.mean(y_local_te_single[index]==targets_te[index]))\n",
        "store_local=np.array(store_local)\n",
        "store_local[np.isnan(store_local)]=0\n",
        "\n",
        "#%%\n",
        "xaxis=np.arange(0,1,dr)+dr/2\n",
        "plt.bar(xaxis[store_local!=0],store_local[store_local!=0],width=dr, edgecolor=\"black\")\n",
        "plt.bar(xaxis[store_local!=0],xaxis[store_local!=0]-store_local[store_local!=0],bottom=store_local[store_local!=0],width=dr, edgecolor=\"black\",color='yellow',alpha=0.5)\n",
        "plt.bar(10,10,bottom=store_local,width=dr, edgecolor=\"black\",color='green',alpha=0.5)\n",
        "plt.plot([0,1],[0,1],color='black',linewidth=2,linestyle='dashed')\n",
        "plt.xlim(0,1)\n",
        "plt.ylim(0,1)\n",
        "plt.xlabel('Confidence', fontsize=15)\n",
        "plt.ylabel('Accuracy', fontsize=15)\n",
        "plt.legend(('Perfect calibration','Accuracy','Over-confidence','Under-confidence'),fontsize=13,frameon=0)\n",
        "plt.savefig('Confidence_MNIST_detail_LOCAL.pdf',format='pdf')\n",
        "plt.show()\n",
        "max(xaxis[store_local!=0]-store_local[store_local!=0])\n"
      ],
      "execution_count": null,
      "outputs": [
        {
          "output_type": "stream",
          "text": [
            "/usr/local/lib/python3.7/dist-packages/numpy/core/fromnumeric.py:3373: RuntimeWarning: Mean of empty slice.\n",
            "  out=out, **kwargs)\n",
            "/usr/local/lib/python3.7/dist-packages/numpy/core/_methods.py:170: RuntimeWarning: invalid value encountered in double_scalars\n",
            "  ret = ret.dtype.type(ret / rcount)\n"
          ],
          "name": "stderr"
        },
        {
          "output_type": "display_data",
          "data": {
            "image/png": "[encoded data removed]",
            "text/plain": [
              "<Figure size 432x288 with 1 Axes>"
            ]
          },
          "metadata": {
            "tags": []
          }
        },
        {
          "output_type": "execute_result",
          "data": {
            "text/plain": [
              "0.15921052631578952"
            ]
          },
          "metadata": {
            "tags": []
          },
          "execution_count": 18
        }
      ]
    },
    {
      "cell_type": "markdown",
      "metadata": {
        "id": "WGYNfrtK5al2"
      },
      "source": [
        "# Training Bayesian Linear 2 Layers MNIST (Gaussian prior) non-DP"
      ]
    },
    {
      "cell_type": "code",
      "metadata": {
        "colab": {
          "base_uri": "https://localhost:8080/"
        },
        "id": "790ay07F5r-N",
        "outputId": "64fcb45b-b0bf-460e-e49d-ae54557b912b"
      },
      "source": [
        "models_dir = 'models_SGLD_MNIST_gaussian'\n",
        "results_dir = 'results_SGLD_MNIST_gaussian'\n",
        "\n",
        "mkdir(models_dir)\n",
        "mkdir(results_dir)\n",
        "\n",
        "save_dicts = []\n",
        "# ------------------------------------------------------------------------------------------------------\n",
        "# train config\n",
        "NTrainPointsMNIST = 60000\n",
        "batch_size = 256\n",
        "nb_epochs = 15 # We can do less iterations as this method has faster convergence\n",
        "log_interval = 1\n",
        "\n",
        "lr = 1e-5\n",
        "norm_sigma =0.1 \n",
        "laplace_b=0\n",
        "noise_multiplier = 1.3\n",
        "clipping_norm=1.5\n",
        "DP_or_Not=True\n",
        "# ------------------------------------------------------------------------------------------------------\n",
        "# dataset\n",
        "cprint('c', '\\nData:')\n",
        "\n",
        " \n",
        "\n",
        "# load data\n",
        "\n",
        "# data augmentation\n",
        "transform_train = transforms.Compose([\n",
        "    transforms.ToTensor(),\n",
        "    transforms.Normalize(mean=(0.1307,), std=(0.3081,))\n",
        "])\n",
        "\n",
        "transform_test = transforms.Compose([\n",
        "    transforms.ToTensor(),\n",
        "    transforms.Normalize(mean=(0.1307,), std=(0.3081,))\n",
        "])\n",
        "\n",
        "use_cuda = torch.cuda.is_available()\n",
        "\n",
        "trainset = datasets.MNIST(root='/content/data', train=True, download=True, transform=transform_train)\n",
        "valset = datasets.MNIST(root='/content/data', train=False, download=True, transform=transform_test)\n",
        "\n",
        "if use_cuda:\n",
        "    trainloader = torch.utils.data.DataLoader(trainset, batch_size=batch_size, shuffle=True, pin_memory=True, num_workers=3)\n",
        "    valloader = torch.utils.data.DataLoader(valset, batch_size=batch_size, shuffle=False, pin_memory=True, num_workers=3)\n",
        "\n",
        "else:\n",
        "    trainloader = torch.utils.data.DataLoader(trainset, batch_size=batch_size, shuffle=True, pin_memory=False,\n",
        "                                              num_workers=3)\n",
        "    valloader = torch.utils.data.DataLoader(valset, batch_size=batch_size, shuffle=False, pin_memory=False,\n",
        "                                            num_workers=3)\n",
        "\n",
        "\n",
        "## ---------------------------------------------------------------------------------------------------------------------\n",
        "# net dims\n",
        "cprint('c', '\\nNetwork:')\n",
        "\n",
        "\n",
        "########################################################################################\n",
        "net = Net_langevin(lr=lr, cuda=use_cuda, classes=10,DP_or_Not=False, N_train=NTrainPointsMNIST, norm_sigma=norm_sigma,laplace_b=laplace_b,which_net=Linear_2L(28*28,10))\n",
        "\n",
        "## weight saving parameters #######\n",
        "start_save = 5\n",
        "save_every = 1 # We want less correlated samples -> despite having per minibatch noise we see correlations\n",
        "N_saves = 90\n",
        "###################################\n",
        "\n",
        "\n",
        "## ---------------------------------------------------------------------------------------------------------------------\n",
        "# train\n",
        "cprint('c', '\\nTrain:')\n",
        "\n",
        "print('  init cost variables:')\n",
        "pred_cost_train = np.zeros(nb_epochs)\n",
        "err_train = np.zeros(nb_epochs)\n",
        "\n",
        "cost_dev = np.zeros(nb_epochs)\n",
        "err_dev = np.zeros(nb_epochs)\n",
        "# best_cost = np.inf\n",
        "best_err = np.inf\n",
        "\n",
        "\n",
        "nb_its_dev = 1\n",
        "\n",
        "tic0 = time.time()\n",
        "from tqdm import tqdm\n",
        "\n",
        "for i in range(nb_epochs):\n",
        "    \n",
        "#     if i in [1]:\n",
        "#         print('updating lr')\n",
        "#         net.sched.step()\n",
        "    \n",
        "    net.set_mode_train(True)\n",
        "\n",
        "    tic = time.time()\n",
        "    nb_samples = 0\n",
        "\n",
        "    for x, y in tqdm(trainloader):\n",
        "        cost_pred, err = net.fit(x, y)\n",
        "        #print(cost_pred)\n",
        "        #print(err)\n",
        "        err_train[i] += err\n",
        "        #pred_cost_train[i] += cost_pred\n",
        "        pred_cost_train[i] += torch.mean(cost_pred)\n",
        "        nb_samples += len(x)\n",
        "\n",
        "    pred_cost_train[i] /= nb_samples\n",
        "    err_train[i] /= nb_samples\n",
        "\n",
        "    toc = time.time()\n",
        "    net.epoch = i\n",
        "    # ---- print\n",
        "    print(\"it %d/%d, Jtr_pred = %f, err = %f, \" % (i, nb_epochs, pred_cost_train[i], err_train[i]), end=\"\")\n",
        "    cprint('r', '   time: %f seconds\\n' % (toc - tic))\n",
        "    \n",
        "    # ---- save weights\n",
        "    if i >= start_save and i % save_every == 0:\n",
        "        net.save_sampled_net(max_samples=N_saves)\n",
        "        save_dicts.append(copy.deepcopy(net.model.state_dict()))\n",
        "    # ---- dev\n",
        "    if i % nb_its_dev == 0:\n",
        "        net.set_mode_train(False)\n",
        "        nb_samples = 0\n",
        "        for j, (x, y) in enumerate(valloader):\n",
        "\n",
        "            cost, err, probs = net.eval(x, y)\n",
        "\n",
        "            cost_dev[i] += cost\n",
        "            err_dev[i] += err\n",
        "            nb_samples += len(x)\n",
        "\n",
        "        cost_dev[i] /= nb_samples\n",
        "        err_dev[i] /= nb_samples\n",
        "\n",
        "        cprint('g', '    Jdev = %f, err = %f\\n' % (cost_dev[i], err_dev[i]))\n",
        "\n",
        "        if err_dev[i] < best_err:\n",
        "            best_err = err_dev[i]\n",
        "            cprint('b', 'best test error')\n",
        "            net.save(models_dir+'/theta_best.dat')\n",
        "   \n",
        "toc0 = time.time()\n",
        "runtime_per_it = (toc0 - tic0) / float(nb_epochs)\n",
        "cprint('r', '   average time: %f seconds\\n' % runtime_per_it)\n",
        "\n",
        "net.save(models_dir+'/theta_last.dat')\n",
        "\n",
        "## ---------------------------------------------------------------------------------------------------------------------\n",
        "# results\n",
        "cprint('c', '\\nRESULTS:')\n",
        "nb_parameters = net.get_nb_parameters()\n",
        "best_cost_dev = np.min(cost_dev)\n",
        "best_cost_train = np.min(pred_cost_train)\n",
        "err_dev_min = err_dev[::nb_its_dev].min()\n",
        "\n",
        "print('  cost_dev: %f (cost_train %f)' % (best_cost_dev, best_cost_train))\n",
        "print('  err_dev: %f' % (err_dev_min))\n",
        "print('  nb_parameters: %d (%s)' % (nb_parameters, humansize(nb_parameters)))\n",
        "print('  time_per_it: %fs\\n' % (runtime_per_it))\n",
        "\n",
        "\n",
        "\n",
        "## Save results for plots\n",
        "# np.save('results/test_predictions.npy', test_predictions)\n",
        "np.save(results_dir + '/cost_train.npy', pred_cost_train)\n",
        "np.save(results_dir + '/cost_dev.npy', cost_dev)\n",
        "np.save(results_dir + '/err_train.npy', err_train)\n",
        "np.save(results_dir + '/err_dev.npy', err_dev)\n",
        "np.save(results_dir + '/save_dicts.npy',save_dicts )\n",
        "\n",
        "\n",
        " "
      ],
      "execution_count": null,
      "outputs": [
        {
          "output_type": "stream",
          "text": [
            "\u001b[36m\n",
            "Data:\u001b[0m\n",
            "\u001b[36m\n",
            "Network:\u001b[0m\n",
            "\u001b[36m\n",
            "Net:\u001b[0m\n",
            "\u001b[33m Creating Net!! \u001b[0m\n",
            "    Total params: 2.40M\n",
            "\u001b[36m\n",
            "Train:\u001b[0m\n"
          ],
          "name": "stdout"
        },
        {
          "output_type": "stream",
          "text": [
            "/usr/local/lib/python3.7/dist-packages/torch/utils/data/dataloader.py:481: UserWarning: This DataLoader will create 3 worker processes in total. Our suggested max number of worker in current system is 2, which is smaller than what this DataLoader is going to create. Please be aware that excessive worker creation might get DataLoader running slow or even freeze, lower the worker number to avoid potential slowness/freeze if necessary.\n",
            "  cpuset_checked))\n",
            "/usr/local/lib/python3.7/dist-packages/ipykernel_launcher.py:7: DeprecationWarning: Calling np.sum(generator) is deprecated, and in the future will give a different result. Use np.sum(np.fromiter(generator)) or the python sum builtin instead.\n",
            "  import sys\n",
            "/usr/local/lib/python3.7/dist-packages/opacus/privacy_engine.py:523: UserWarning: A ``sample_rate`` has been provided.Thus, the provided ``batch_size``and ``sample_size`` will be ignored.\n",
            "  \"A ``sample_rate`` has been provided.\"\n",
            "/usr/local/lib/python3.7/dist-packages/opacus/privacy_engine.py:195: UserWarning: Secure RNG turned off. This is perfectly fine for experimentation as it allows for much faster training performance, but remember to turn it on and retrain one last time before production with ``secure_rng`` turned on.\n",
            "  \"Secure RNG turned off. This is perfectly fine for experimentation as it allows \"\n",
            "\r  0%|          | 0/235 [00:00<?, ?it/s]"
          ],
          "name": "stderr"
        },
        {
          "output_type": "stream",
          "text": [
            "  init cost variables:\n"
          ],
          "name": "stdout"
        },
        {
          "output_type": "stream",
          "text": [
            "/usr/local/lib/python3.7/dist-packages/torch/utils/data/dataloader.py:481: UserWarning: This DataLoader will create 3 worker processes in total. Our suggested max number of worker in current system is 2, which is smaller than what this DataLoader is going to create. Please be aware that excessive worker creation might get DataLoader running slow or even freeze, lower the worker number to avoid potential slowness/freeze if necessary.\n",
            "  cpuset_checked))\n",
            "/usr/local/lib/python3.7/dist-packages/torch/nn/modules/module.py:974: UserWarning: Using a non-full backward hook when the forward contains multiple autograd Nodes is deprecated and will be removed in future versions. This hook will be missing some grad_input. Please use register_full_backward_hook to get the documented behavior.\n",
            "  warnings.warn(\"Using a non-full backward hook when the forward contains multiple autograd Nodes \"\n",
            "/usr/local/lib/python3.7/dist-packages/ipykernel_launcher.py:33: UserWarning: This overload of add_ is deprecated:\n",
            "\tadd_(Number alpha, Tensor other)\n",
            "Consider using one of the following signatures instead:\n",
            "\tadd_(Tensor other, *, Number alpha) (Triggered internally at  /pytorch/torch/csrc/utils/python_arg_parser.cpp:1025.)\n",
            "100%|██████████| 235/235 [00:08<00:00, 27.50it/s]"
          ],
          "name": "stderr"
        },
        {
          "output_type": "stream",
          "text": [
            "it 0/15, Jtr_pred = 0.567571, err = 0.158783, \u001b[31m   time: 8.549930 seconds\n",
            "\u001b[0m\n"
          ],
          "name": "stdout"
        },
        {
          "output_type": "stream",
          "text": [
            "\n"
          ],
          "name": "stderr"
        },
        {
          "output_type": "stream",
          "text": [
            "\u001b[32m    Jdev = 0.422772, err = 0.108200\n",
            "\u001b[0m\n",
            "\u001b[34mbest test error\u001b[0m\n",
            "\u001b[36mWritting models_SGLD_MNIST_gaussian/theta_best.dat\n",
            "\u001b[0m\n"
          ],
          "name": "stdout"
        },
        {
          "output_type": "stream",
          "text": [
            "100%|██████████| 235/235 [00:08<00:00, 27.77it/s]"
          ],
          "name": "stderr"
        },
        {
          "output_type": "stream",
          "text": [
            "it 1/15, Jtr_pred = 0.457773, err = 0.108033, \u001b[31m   time: 8.465600 seconds\n",
            "\u001b[0m\n"
          ],
          "name": "stdout"
        },
        {
          "output_type": "stream",
          "text": [
            "\n"
          ],
          "name": "stderr"
        },
        {
          "output_type": "stream",
          "text": [
            "\u001b[32m    Jdev = 0.477143, err = 0.107500\n",
            "\u001b[0m\n",
            "\u001b[34mbest test error\u001b[0m\n",
            "\u001b[36mWritting models_SGLD_MNIST_gaussian/theta_best.dat\n",
            "\u001b[0m\n"
          ],
          "name": "stdout"
        },
        {
          "output_type": "stream",
          "text": [
            "100%|██████████| 235/235 [00:08<00:00, 27.36it/s]"
          ],
          "name": "stderr"
        },
        {
          "output_type": "stream",
          "text": [
            "it 2/15, Jtr_pred = 0.493562, err = 0.109017, \u001b[31m   time: 8.592522 seconds\n",
            "\u001b[0m\n"
          ],
          "name": "stdout"
        },
        {
          "output_type": "stream",
          "text": [
            "\n"
          ],
          "name": "stderr"
        },
        {
          "output_type": "stream",
          "text": [
            "\u001b[32m    Jdev = 0.532220, err = 0.114500\n",
            "\u001b[0m\n"
          ],
          "name": "stdout"
        },
        {
          "output_type": "stream",
          "text": [
            "100%|██████████| 235/235 [00:08<00:00, 27.83it/s]"
          ],
          "name": "stderr"
        },
        {
          "output_type": "stream",
          "text": [
            "it 3/15, Jtr_pred = 0.516935, err = 0.110017, \u001b[31m   time: 8.450509 seconds\n",
            "\u001b[0m\n"
          ],
          "name": "stdout"
        },
        {
          "output_type": "stream",
          "text": [
            "\n"
          ],
          "name": "stderr"
        },
        {
          "output_type": "stream",
          "text": [
            "\u001b[32m    Jdev = 0.519353, err = 0.110300\n",
            "\u001b[0m\n"
          ],
          "name": "stdout"
        },
        {
          "output_type": "stream",
          "text": [
            "100%|██████████| 235/235 [00:08<00:00, 27.09it/s]"
          ],
          "name": "stderr"
        },
        {
          "output_type": "stream",
          "text": [
            "it 4/15, Jtr_pred = 0.519199, err = 0.105783, \u001b[31m   time: 8.679873 seconds\n",
            "\u001b[0m\n"
          ],
          "name": "stdout"
        },
        {
          "output_type": "stream",
          "text": [
            "\n"
          ],
          "name": "stderr"
        },
        {
          "output_type": "stream",
          "text": [
            "\u001b[32m    Jdev = 0.539097, err = 0.109200\n",
            "\u001b[0m\n"
          ],
          "name": "stdout"
        },
        {
          "output_type": "stream",
          "text": [
            "100%|██████████| 235/235 [00:08<00:00, 26.78it/s]"
          ],
          "name": "stderr"
        },
        {
          "output_type": "stream",
          "text": [
            "it 5/15, Jtr_pred = 0.547890, err = 0.108267, \u001b[31m   time: 8.780450 seconds\n",
            "\u001b[0m\n",
            "\u001b[36m saving weight samples 1/90\u001b[0m\n"
          ],
          "name": "stdout"
        },
        {
          "output_type": "stream",
          "text": [
            "\n"
          ],
          "name": "stderr"
        },
        {
          "output_type": "stream",
          "text": [
            "\u001b[32m    Jdev = 0.606393, err = 0.116700\n",
            "\u001b[0m\n"
          ],
          "name": "stdout"
        },
        {
          "output_type": "stream",
          "text": [
            "100%|██████████| 235/235 [00:08<00:00, 27.99it/s]"
          ],
          "name": "stderr"
        },
        {
          "output_type": "stream",
          "text": [
            "it 6/15, Jtr_pred = 0.561729, err = 0.109650, \u001b[31m   time: 8.400120 seconds\n",
            "\u001b[0m\n",
            "\u001b[36m saving weight samples 2/90\u001b[0m\n"
          ],
          "name": "stdout"
        },
        {
          "output_type": "stream",
          "text": [
            "\n"
          ],
          "name": "stderr"
        },
        {
          "output_type": "stream",
          "text": [
            "\u001b[32m    Jdev = 0.643397, err = 0.121000\n",
            "\u001b[0m\n"
          ],
          "name": "stdout"
        },
        {
          "output_type": "stream",
          "text": [
            "100%|██████████| 235/235 [00:08<00:00, 27.35it/s]"
          ],
          "name": "stderr"
        },
        {
          "output_type": "stream",
          "text": [
            "it 7/15, Jtr_pred = 0.556156, err = 0.109300, \u001b[31m   time: 8.597215 seconds\n",
            "\u001b[0m\n",
            "\u001b[36m saving weight samples 3/90\u001b[0m\n"
          ],
          "name": "stdout"
        },
        {
          "output_type": "stream",
          "text": [
            "\n"
          ],
          "name": "stderr"
        },
        {
          "output_type": "stream",
          "text": [
            "\u001b[32m    Jdev = 0.566837, err = 0.114200\n",
            "\u001b[0m\n"
          ],
          "name": "stdout"
        },
        {
          "output_type": "stream",
          "text": [
            "100%|██████████| 235/235 [00:08<00:00, 27.48it/s]"
          ],
          "name": "stderr"
        },
        {
          "output_type": "stream",
          "text": [
            "it 8/15, Jtr_pred = 0.547178, err = 0.107483, \u001b[31m   time: 8.559087 seconds\n",
            "\u001b[0m\n",
            "\u001b[36m saving weight samples 4/90\u001b[0m\n"
          ],
          "name": "stdout"
        },
        {
          "output_type": "stream",
          "text": [
            "\n"
          ],
          "name": "stderr"
        },
        {
          "output_type": "stream",
          "text": [
            "\u001b[32m    Jdev = 0.527794, err = 0.103600\n",
            "\u001b[0m\n",
            "\u001b[34mbest test error\u001b[0m\n",
            "\u001b[36mWritting models_SGLD_MNIST_gaussian/theta_best.dat\n",
            "\u001b[0m\n"
          ],
          "name": "stdout"
        },
        {
          "output_type": "stream",
          "text": [
            "100%|██████████| 235/235 [00:08<00:00, 27.27it/s]"
          ],
          "name": "stderr"
        },
        {
          "output_type": "stream",
          "text": [
            "it 9/15, Jtr_pred = 0.555151, err = 0.108567, \u001b[31m   time: 8.619252 seconds\n",
            "\u001b[0m\n",
            "\u001b[36m saving weight samples 5/90\u001b[0m\n"
          ],
          "name": "stdout"
        },
        {
          "output_type": "stream",
          "text": [
            "\n"
          ],
          "name": "stderr"
        },
        {
          "output_type": "stream",
          "text": [
            "\u001b[32m    Jdev = 0.613209, err = 0.117700\n",
            "\u001b[0m\n"
          ],
          "name": "stdout"
        },
        {
          "output_type": "stream",
          "text": [
            "100%|██████████| 235/235 [00:08<00:00, 27.93it/s]"
          ],
          "name": "stderr"
        },
        {
          "output_type": "stream",
          "text": [
            "it 10/15, Jtr_pred = 0.552088, err = 0.108667, \u001b[31m   time: 8.420816 seconds\n",
            "\u001b[0m\n",
            "\u001b[36m saving weight samples 6/90\u001b[0m\n"
          ],
          "name": "stdout"
        },
        {
          "output_type": "stream",
          "text": [
            "\n"
          ],
          "name": "stderr"
        },
        {
          "output_type": "stream",
          "text": [
            "\u001b[32m    Jdev = 0.529457, err = 0.107500\n",
            "\u001b[0m\n"
          ],
          "name": "stdout"
        },
        {
          "output_type": "stream",
          "text": [
            "100%|██████████| 235/235 [00:08<00:00, 26.57it/s]"
          ],
          "name": "stderr"
        },
        {
          "output_type": "stream",
          "text": [
            "it 11/15, Jtr_pred = 0.547161, err = 0.107133, \u001b[31m   time: 8.847456 seconds\n",
            "\u001b[0m\n",
            "\u001b[36m saving weight samples 7/90\u001b[0m\n"
          ],
          "name": "stdout"
        },
        {
          "output_type": "stream",
          "text": [
            "\n"
          ],
          "name": "stderr"
        },
        {
          "output_type": "stream",
          "text": [
            "\u001b[32m    Jdev = 0.541717, err = 0.103800\n",
            "\u001b[0m\n"
          ],
          "name": "stdout"
        },
        {
          "output_type": "stream",
          "text": [
            "100%|██████████| 235/235 [00:08<00:00, 27.42it/s]"
          ],
          "name": "stderr"
        },
        {
          "output_type": "stream",
          "text": [
            "it 12/15, Jtr_pred = 0.543331, err = 0.106200, \u001b[31m   time: 8.575445 seconds\n",
            "\u001b[0m\n",
            "\u001b[36m saving weight samples 8/90\u001b[0m\n"
          ],
          "name": "stdout"
        },
        {
          "output_type": "stream",
          "text": [
            "\n"
          ],
          "name": "stderr"
        },
        {
          "output_type": "stream",
          "text": [
            "\u001b[32m    Jdev = 0.556220, err = 0.111900\n",
            "\u001b[0m\n"
          ],
          "name": "stdout"
        },
        {
          "output_type": "stream",
          "text": [
            "100%|██████████| 235/235 [00:08<00:00, 28.17it/s]"
          ],
          "name": "stderr"
        },
        {
          "output_type": "stream",
          "text": [
            "it 13/15, Jtr_pred = 0.548069, err = 0.109750, \u001b[31m   time: 8.349768 seconds\n",
            "\u001b[0m\n",
            "\u001b[36m saving weight samples 9/90\u001b[0m\n"
          ],
          "name": "stdout"
        },
        {
          "output_type": "stream",
          "text": [
            "\n"
          ],
          "name": "stderr"
        },
        {
          "output_type": "stream",
          "text": [
            "\u001b[32m    Jdev = 0.610495, err = 0.117400\n",
            "\u001b[0m\n"
          ],
          "name": "stdout"
        },
        {
          "output_type": "stream",
          "text": [
            "100%|██████████| 235/235 [00:08<00:00, 27.64it/s]"
          ],
          "name": "stderr"
        },
        {
          "output_type": "stream",
          "text": [
            "it 14/15, Jtr_pred = 0.548381, err = 0.109933, \u001b[31m   time: 8.508524 seconds\n",
            "\u001b[0m\n",
            "\u001b[36m saving weight samples 10/90\u001b[0m\n"
          ],
          "name": "stdout"
        },
        {
          "output_type": "stream",
          "text": [
            "\n"
          ],
          "name": "stderr"
        },
        {
          "output_type": "stream",
          "text": [
            "\u001b[32m    Jdev = 0.559244, err = 0.113400\n",
            "\u001b[0m\n",
            "\u001b[31m   average time: 9.928762 seconds\n",
            "\u001b[0m\n",
            "\u001b[36mWritting models_SGLD_MNIST_gaussian/theta_last.dat\n",
            "\u001b[0m\n",
            "\u001b[36m\n",
            "RESULTS:\u001b[0m\n",
            "  cost_dev: 0.422772 (cost_train 0.457773)\n",
            "  err_dev: 0.103600\n",
            "  nb_parameters: 2395210 (2.28MB)\n",
            "  time_per_it: 9.928762s\n",
            "\n"
          ],
          "name": "stdout"
        },
        {
          "output_type": "stream",
          "text": [
            "/usr/local/lib/python3.7/dist-packages/ipykernel_launcher.py:7: DeprecationWarning: Calling np.sum(generator) is deprecated, and in the future will give a different result. Use np.sum(np.fromiter(generator)) or the python sum builtin instead.\n",
            "  import sys\n"
          ],
          "name": "stderr"
        }
      ]
    },
    {
      "cell_type": "code",
      "metadata": {
        "colab": {
          "base_uri": "https://localhost:8080/"
        },
        "id": "jy0CbZrRZjiT",
        "outputId": "1eaf7982-ed2a-47ed-8b5c-03af44313d76"
      },
      "source": [
        "#model_local.to(device)\n",
        "#model_local.eval()\n",
        "from tqdm import tqdm\n",
        "y_local_te=np.empty((0,10))\n",
        "targets_te=np.array([])\n",
        "prob_local=np.array([])\n",
        "acc = 0 \n",
        "with torch.no_grad():\n",
        "        for data, target in tqdm(valloader):\n",
        "            data, target = data.to(device), target.to(device)\n",
        "            cost, err, prob = net.eval(data,target)\n",
        "            acc += err\n",
        "            y_local_te=np.append(y_local_te,prob.detach().numpy(),axis=0)\n",
        "            #y_local_te_single=np.append(y_local_te_single,y_local_te[-1].argmax())\n",
        "            prob_local=np.append(prob,np.array([prob.detach().numpy()[i,j] for i,j in enumerate(target.cpu().detach().numpy())]))\n",
        "            targets_te=np.append(targets_te,target.cpu().detach().numpy())\n",
        "\n",
        "y_local_te_single= np.argmax(y_local_te,axis=1)\n",
        "sum(y_local_te_single==targets_te)/10000 - np.mean(np.max(y_local_te,axis=1))"
      ],
      "execution_count": null,
      "outputs": [
        {
          "output_type": "stream",
          "text": [
            "\r  0%|          | 0/40 [00:00<?, ?it/s]/usr/local/lib/python3.7/dist-packages/torch/utils/data/dataloader.py:481: UserWarning: This DataLoader will create 3 worker processes in total. Our suggested max number of worker in current system is 2, which is smaller than what this DataLoader is going to create. Please be aware that excessive worker creation might get DataLoader running slow or even freeze, lower the worker number to avoid potential slowness/freeze if necessary.\n",
            "  cpuset_checked))\n",
            "100%|██████████| 40/40 [00:01<00:00, 28.59it/s]\n"
          ],
          "name": "stderr"
        },
        {
          "output_type": "execute_result",
          "data": {
            "text/plain": [
              "-0.07067688938975325"
            ]
          },
          "metadata": {
            "tags": []
          },
          "execution_count": 20
        }
      ]
    },
    {
      "cell_type": "code",
      "metadata": {
        "colab": {
          "base_uri": "https://localhost:8080/",
          "height": 308
        },
        "id": "9zFMm_5YZ9SS",
        "outputId": "7d55238e-1eb6-41eb-ebb1-b3cd4e63b01d"
      },
      "source": [
        "import matplotlib.pyplot as plt\n",
        "import seaborn as sns\n",
        "\n",
        "\n",
        "#local_acc = np.mean(y_local_te_single == targets_te)\n",
        "\n",
        "\n",
        "print(\"######## ECE: ##############\")\n",
        "#print(f\"Local accuracy: {local_acc}, predicted confidence {np.mean(np.max(y_local_te,axis=1))}, ECE {np.abs(local_acc - np.mean(np.max(y_local_te,axis=1)))}\")\n",
        "#print(f\"NonDP accuracy: {nondp_acc}, predicted confidence {np.mean(np.max(y_nondp_te,axis=1))}, ECE {np.abs(nondp_acc - np.mean(np.max(y_nondp_te,axis=1)))}\")\n",
        "\n",
        "\n",
        "plt.plot(0,0,linestyle='dashed',color='black')\n",
        "plt.plot(0,0,color='black')\n",
        "plt.plot(0,0,color='#1f77b4')\n",
        "plt.plot(0,0,color='#ff7f0e')\n",
        "plt.ylim(0,10000)\n",
        "#plt.plot([0.2338]*20,np.linspace(0,1500,20),linestyle='dashed',color='#1f77b4')\n",
        "plt.plot([sum(y_local_te_single==targets_te)/10000]*20,np.linspace(0,10000,20),linestyle='dashed',color='#ff7f0e',label='local Accu')\n",
        "#plt.plot([np.mean(np.max(y_global_te,axis=1))]*20,np.linspace(0,1500,20),color='#1f77b4')\n",
        "plt.plot([np.mean(np.max(y_local_te,axis=1))]*20,np.linspace(0,10000,20),color='#ff7f0e')\n",
        "\n",
        "#print('non DP accuracy:', np.mean(targets_te==y_noDP_te_single),' confidence:',np.mean(np.max(y_noDP_te,axis=1)),' difference:',np.mean(np.max(y_noDP_te,axis=1))-np.mean(targets_te==y_noDP_te_single))\n",
        "#print('DP local accuracy:', np.mean(targets_te==y_local_te_single),' confidence:',np.mean(np.max(y_local_te,axis=1)),' difference:',np.mean(np.max(y_local_te,axis=1))-np.mean(targets_te==y_local_te_single))\n",
        "#print('DP global accuracy:', np.mean(targets_te==y_global_te_single),' confidence:',np.mean(np.max(y_global_te,axis=1)),' difference:',np.mean(np.max(y_global_te,axis=1))-np.mean(targets_te==y_global_te_single))\n",
        "\n",
        "plt.hist(np.max(y_local_te,axis=1),bins=30)\n",
        "\n",
        "plt.xlim(0,1)\n",
        "plt.xlabel('Confidence', fontsize=15)\n",
        "plt.ylabel('Number of Samples', fontsize=15)\n",
        "plt.legend(('Accuracy','Avg Confidence'),fontsize=13,loc='upper left',frameon=False)\n",
        "plt.savefig('Confidence_DPBBP.pdf',format='pdf')\n",
        "plt.show()\n",
        "\n"
      ],
      "execution_count": null,
      "outputs": [
        {
          "output_type": "stream",
          "text": [
            "######## ECE: ##############\n"
          ],
          "name": "stdout"
        },
        {
          "output_type": "display_data",
          "data": {
            "image/png": "[encoded data removed]",
            "text/plain": [
              "<Figure size 432x288 with 1 Axes>"
            ]
          },
          "metadata": {
            "tags": []
          }
        }
      ]
    },
    {
      "cell_type": "code",
      "metadata": {
        "colab": {
          "base_uri": "https://localhost:8080/",
          "height": 375
        },
        "id": "FwC8wtR0aV1R",
        "outputId": "e9c94316-4d19-45f1-be7c-78c8b4a077bb"
      },
      "source": [
        "#%%\n",
        "store_local = []\n",
        "templ=np.max(y_local_te,axis=1)\n",
        "dr=0.05\n",
        "for ratio in np.arange(0,1,dr):\n",
        "    index=(templ>ratio)*(templ<ratio+dr)\n",
        "    store_local.append(np.mean(y_local_te_single[index]==targets_te[index]))\n",
        "store_local=np.array(store_local)\n",
        "store_local[np.isnan(store_local)]=0\n",
        "\n",
        "#%%\n",
        "xaxis=np.arange(0,1,dr)+dr/2\n",
        "plt.bar(xaxis[store_local!=0],store_local[store_local!=0],width=dr, edgecolor=\"black\")\n",
        "plt.bar(xaxis[store_local!=0],xaxis[store_local!=0]-store_local[store_local!=0],bottom=store_local[store_local!=0],width=dr, edgecolor=\"black\",color='yellow',alpha=0.5)\n",
        "plt.bar(10,10,bottom=store_local,width=dr, edgecolor=\"black\",color='green',alpha=0.5)\n",
        "plt.plot([0,1],[0,1],color='black',linewidth=2,linestyle='dashed')\n",
        "plt.xlim(0,1)\n",
        "plt.ylim(0,1)\n",
        "plt.xlabel('Confidence', fontsize=15)\n",
        "plt.ylabel('Accuracy', fontsize=15)\n",
        "plt.legend(('Perfect calibration','Accuracy','Over-confidence','Under-confidence'),fontsize=13,frameon=0)\n",
        "plt.savefig('Confidence_MNIST_detail_LOCAL.pdf',format='pdf')\n",
        "plt.show()\n",
        "max(xaxis[store_local!=0]-store_local[store_local!=0])\n"
      ],
      "execution_count": null,
      "outputs": [
        {
          "output_type": "stream",
          "text": [
            "/usr/local/lib/python3.7/dist-packages/numpy/core/fromnumeric.py:3373: RuntimeWarning: Mean of empty slice.\n",
            "  out=out, **kwargs)\n",
            "/usr/local/lib/python3.7/dist-packages/numpy/core/_methods.py:170: RuntimeWarning: invalid value encountered in double_scalars\n",
            "  ret = ret.dtype.type(ret / rcount)\n"
          ],
          "name": "stderr"
        },
        {
          "output_type": "display_data",
          "data": {
            "image/png": "[encoded data removed]",
            "text/plain": [
              "<Figure size 432x288 with 1 Axes>"
            ]
          },
          "metadata": {
            "tags": []
          }
        },
        {
          "output_type": "execute_result",
          "data": {
            "text/plain": [
              "0.25357142857142867"
            ]
          },
          "metadata": {
            "tags": []
          },
          "execution_count": 23
        }
      ]
    },
    {
      "cell_type": "code",
      "metadata": {
        "id": "bzb3hsfyWgGz",
        "colab": {
          "base_uri": "https://localhost:8080/",
          "height": 619
        },
        "outputId": "f95295f6-e1a8-456d-ec8d-cbefc8d25f14"
      },
      "source": [
        "\n",
        "\n",
        "## ---------------------------------------------------------------------------------------------------------------------\n",
        "# fig cost vs its\n",
        "\n",
        "textsize = 15\n",
        "marker=5\n",
        "\n",
        "plt.figure(dpi=100)\n",
        "fig, ax1 = plt.subplots()\n",
        "ax1.plot(range(0, nb_epochs, nb_its_dev), cost_dev[::nb_its_dev], 'b-')\n",
        "ax1.plot(pred_cost_train, 'r--')\n",
        "ax1.set_ylabel('Cross Entropy')\n",
        "plt.xlabel('epoch')\n",
        "plt.grid(b=True, which='major', color='k', linestyle='-')\n",
        "plt.grid(b=True, which='minor', color='k', linestyle='--')\n",
        "lgd = plt.legend(['test error', 'train error'], markerscale=marker, prop={'size': textsize, 'weight': 'normal'})\n",
        "ax = plt.gca()\n",
        "plt.title('classification costs')\n",
        "for item in ([ax.title, ax.xaxis.label, ax.yaxis.label] +\n",
        "    ax.get_xticklabels() + ax.get_yticklabels()):\n",
        "    item.set_fontsize(textsize)\n",
        "    item.set_weight('normal')\n",
        "plt.savefig(results_dir + '/cost.png', bbox_extra_artists=(lgd,), bbox_inches='tight')\n",
        "\n",
        "\n",
        "\n",
        "plt.figure(dpi=100)\n",
        "fig2, ax2 = plt.subplots()\n",
        "ax2.set_ylabel('% error')\n",
        "ax2.semilogy(range(0, nb_epochs, nb_its_dev), 100 * err_dev[::nb_its_dev], 'b-')\n",
        "ax2.semilogy(100 * err_train, 'r--')\n",
        "plt.xlabel('epoch')\n",
        "plt.grid(b=True, which='major', color='k', linestyle='-')\n",
        "plt.grid(b=True, which='minor', color='k', linestyle='--')\n",
        "ax2.get_yaxis().set_minor_formatter(matplotlib.ticker.ScalarFormatter())\n",
        "ax2.get_yaxis().set_major_formatter(matplotlib.ticker.ScalarFormatter())\n",
        "lgd = plt.legend(['test error', 'train error'], markerscale=marker, prop={'size': textsize, 'weight': 'normal'})\n",
        "ax = plt.gca()\n",
        "for item in ([ax.title, ax.xaxis.label, ax.yaxis.label] +\n",
        "    ax.get_xticklabels() + ax.get_yticklabels()):\n",
        "    item.set_fontsize(textsize)\n",
        "    item.set_weight('normal')\n",
        "plt.savefig(results_dir + '/err.png',  bbox_extra_artists=(lgd,), box_inches='tight')\n"
      ],
      "execution_count": null,
      "outputs": [
        {
          "output_type": "display_data",
          "data": {
            "text/plain": [
              "<Figure size 600x400 with 0 Axes>"
            ]
          },
          "metadata": {
            "tags": []
          }
        },
        {
          "output_type": "display_data",
          "data": {
            "image/png": "[encoded data removed]",
            "text/plain": [
              "<Figure size 432x288 with 1 Axes>"
            ]
          },
          "metadata": {
            "tags": []
          }
        },
        {
          "output_type": "display_data",
          "data": {
            "text/plain": [
              "<Figure size 600x400 with 0 Axes>"
            ]
          },
          "metadata": {
            "tags": []
          }
        },
        {
          "output_type": "display_data",
          "data": {
            "image/png": "[encoded data removed]",
            "text/plain": [
              "<Figure size 432x288 with 1 Axes>"
            ]
          },
          "metadata": {
            "tags": []
          }
        }
      ]
    },
    {
      "cell_type": "markdown",
      "metadata": {
        "id": "yP1nKk91-GAP"
      },
      "source": [
        "# Training for Bayesian CNN training MNIST (Gaussian prior) DP"
      ]
    },
    {
      "cell_type": "code",
      "metadata": {
        "id": "WyPYlYx2xSxp",
        "scrolled": true,
        "colab": {
          "base_uri": "https://localhost:8080/"
        },
        "outputId": "1c31e5b2-5b15-4516-e644-9391651cf13b"
      },
      "source": [
        "models_dir = 'models_SGLD_MNIST_gaussian'\n",
        "results_dir = 'results_SGLD_MNIST_gaussian'\n",
        "\n",
        "mkdir(models_dir)\n",
        "mkdir(results_dir)\n",
        "\n",
        "save_dicts = []\n",
        "# ------------------------------------------------------------------------------------------------------\n",
        "# train config\n",
        "NTrainPointsMNIST = 60000\n",
        "batch_size = 256\n",
        "nb_epochs = 15 # We can do less iterations as this method has faster convergence\n",
        "log_interval = 1\n",
        "\n",
        "lr = 1e-5\n",
        "norm_sigma =0.1 \n",
        "laplace_b=0\n",
        "noise_multiplier = 1.3\n",
        "clipping_norm=1.5\n",
        "DP_or_Not=True\n",
        "# ------------------------------------------------------------------------------------------------------\n",
        "# dataset\n",
        "cprint('c', '\\nData:')\n",
        "\n",
        " \n",
        "\n",
        "# load data\n",
        "\n",
        "# data augmentation\n",
        "transform_train = transforms.Compose([\n",
        "    transforms.ToTensor(),\n",
        "    transforms.Normalize(mean=(0.1307,), std=(0.3081,))\n",
        "])\n",
        "\n",
        "transform_test = transforms.Compose([\n",
        "    transforms.ToTensor(),\n",
        "    transforms.Normalize(mean=(0.1307,), std=(0.3081,))\n",
        "])\n",
        "\n",
        "use_cuda = torch.cuda.is_available()\n",
        "\n",
        "trainset = datasets.MNIST(root='/content/data', train=True, download=True, transform=transform_train)\n",
        "valset = datasets.MNIST(root='/content/data', train=False, download=True, transform=transform_test)\n",
        "\n",
        "if use_cuda:\n",
        "    trainloader = torch.utils.data.DataLoader(trainset, batch_size=batch_size, shuffle=True, pin_memory=True, num_workers=3)\n",
        "    valloader = torch.utils.data.DataLoader(valset, batch_size=batch_size, shuffle=False, pin_memory=True, num_workers=3)\n",
        "\n",
        "else:\n",
        "    trainloader = torch.utils.data.DataLoader(trainset, batch_size=batch_size, shuffle=True, pin_memory=False,\n",
        "                                              num_workers=3)\n",
        "    valloader = torch.utils.data.DataLoader(valset, batch_size=batch_size, shuffle=False, pin_memory=False,\n",
        "                                            num_workers=3)\n",
        "\n",
        "\n",
        "## ---------------------------------------------------------------------------------------------------------------------\n",
        "# net dims\n",
        "cprint('c', '\\nNetwork:')\n",
        "\n",
        "\n",
        "########################################################################################\n",
        "net = Net_langevin(lr=lr, cuda=use_cuda, classes=10,N_train=NTrainPointsMNIST, norm_sigma=norm_sigma,laplace_b=laplace_b,which_net=SampleConvNet_MNIST())\n",
        "\n",
        "## weight saving parameters #######\n",
        "start_save = 5\n",
        "save_every = 1 # We want less correlated samples -> despite having per minibatch noise we see correlations\n",
        "N_saves = 90\n",
        "###################################\n",
        "\n",
        "\n",
        "## ---------------------------------------------------------------------------------------------------------------------\n",
        "# train\n",
        "cprint('c', '\\nTrain:')\n",
        "\n",
        "print('  init cost variables:')\n",
        "pred_cost_train = np.zeros(nb_epochs)\n",
        "err_train = np.zeros(nb_epochs)\n",
        "\n",
        "cost_dev = np.zeros(nb_epochs)\n",
        "err_dev = np.zeros(nb_epochs)\n",
        "# best_cost = np.inf\n",
        "best_err = np.inf\n",
        "\n",
        "\n",
        "nb_its_dev = 1\n",
        "\n",
        "tic0 = time.time()\n",
        "from tqdm import tqdm\n",
        "\n",
        "for i in range(nb_epochs):\n",
        "    \n",
        "#     if i in [1]:\n",
        "#         print('updating lr')\n",
        "#         net.sched.step()\n",
        "    \n",
        "    net.set_mode_train(True)\n",
        "\n",
        "    tic = time.time()\n",
        "    nb_samples = 0\n",
        "\n",
        "    for x, y in tqdm(trainloader):\n",
        "        cost_pred, err = net.fit(x, y)\n",
        "        #print(cost_pred)\n",
        "        #print(err)\n",
        "        err_train[i] += err\n",
        "        #pred_cost_train[i] += cost_pred\n",
        "        pred_cost_train[i] += torch.mean(cost_pred)\n",
        "        nb_samples += len(x)\n",
        "\n",
        "    pred_cost_train[i] /= nb_samples\n",
        "    err_train[i] /= nb_samples\n",
        "\n",
        "    toc = time.time()\n",
        "    net.epoch = i\n",
        "    # ---- print\n",
        "    print(\"it %d/%d, Jtr_pred = %f, err = %f, \" % (i, nb_epochs, pred_cost_train[i], err_train[i]), end=\"\")\n",
        "    cprint('r', '   time: %f seconds\\n' % (toc - tic))\n",
        "    \n",
        "    # ---- save weights\n",
        "    if i >= start_save and i % save_every == 0:\n",
        "        net.save_sampled_net(max_samples=N_saves)\n",
        "        save_dicts.append(copy.deepcopy(net.model.state_dict()))\n",
        "    # ---- dev\n",
        "    if i % nb_its_dev == 0:\n",
        "        net.set_mode_train(False)\n",
        "        nb_samples = 0\n",
        "        for j, (x, y) in enumerate(valloader):\n",
        "\n",
        "            cost, err, probs = net.eval(x, y)\n",
        "\n",
        "            cost_dev[i] += cost\n",
        "            err_dev[i] += err\n",
        "            nb_samples += len(x)\n",
        "\n",
        "        cost_dev[i] /= nb_samples\n",
        "        err_dev[i] /= nb_samples\n",
        "\n",
        "        cprint('g', '    Jdev = %f, err = %f\\n' % (cost_dev[i], err_dev[i]))\n",
        "\n",
        "        if err_dev[i] < best_err:\n",
        "            best_err = err_dev[i]\n",
        "            cprint('b', 'best test error')\n",
        "            net.save(models_dir+'/theta_best.dat')\n",
        "   \n",
        "toc0 = time.time()\n",
        "runtime_per_it = (toc0 - tic0) / float(nb_epochs)\n",
        "cprint('r', '   average time: %f seconds\\n' % runtime_per_it)\n",
        "\n",
        "net.save(models_dir+'/theta_last.dat')\n",
        "\n",
        "## ---------------------------------------------------------------------------------------------------------------------\n",
        "# results\n",
        "cprint('c', '\\nRESULTS:')\n",
        "nb_parameters = net.get_nb_parameters()\n",
        "best_cost_dev = np.min(cost_dev)\n",
        "best_cost_train = np.min(pred_cost_train)\n",
        "err_dev_min = err_dev[::nb_its_dev].min()\n",
        "\n",
        "print('  cost_dev: %f (cost_train %f)' % (best_cost_dev, best_cost_train))\n",
        "print('  err_dev: %f' % (err_dev_min))\n",
        "print('  nb_parameters: %d (%s)' % (nb_parameters, humansize(nb_parameters)))\n",
        "print('  time_per_it: %fs\\n' % (runtime_per_it))\n",
        "\n",
        "\n",
        "\n",
        "## Save results for plots\n",
        "# np.save('results/test_predictions.npy', test_predictions)\n",
        "np.save(results_dir + '/cost_train.npy', pred_cost_train)\n",
        "np.save(results_dir + '/cost_dev.npy', cost_dev)\n",
        "np.save(results_dir + '/err_train.npy', err_train)\n",
        "np.save(results_dir + '/err_dev.npy', err_dev)\n",
        "np.save(results_dir + '/save_dicts.npy',save_dicts )\n",
        "\n",
        "\n",
        " "
      ],
      "execution_count": null,
      "outputs": [
        {
          "output_type": "stream",
          "text": [
            "\u001b[36m\n",
            "Data:\u001b[0m\n",
            "\u001b[36m\n",
            "Network:\u001b[0m\n",
            "\u001b[36m\n",
            "Net:\u001b[0m\n",
            "\u001b[33m Creating Net!! \u001b[0m\n"
          ],
          "name": "stdout"
        },
        {
          "output_type": "stream",
          "text": [
            "/usr/local/lib/python3.7/dist-packages/torch/utils/data/dataloader.py:481: UserWarning: This DataLoader will create 3 worker processes in total. Our suggested max number of worker in current system is 2, which is smaller than what this DataLoader is going to create. Please be aware that excessive worker creation might get DataLoader running slow or even freeze, lower the worker number to avoid potential slowness/freeze if necessary.\n",
            "  cpuset_checked))\n"
          ],
          "name": "stderr"
        },
        {
          "output_type": "stream",
          "text": [
            "    Total params: 0.03M\n",
            "\u001b[36m\n",
            "Train:\u001b[0m\n"
          ],
          "name": "stdout"
        },
        {
          "output_type": "stream",
          "text": [
            "/usr/local/lib/python3.7/dist-packages/ipykernel_launcher.py:7: DeprecationWarning: Calling np.sum(generator) is deprecated, and in the future will give a different result. Use np.sum(np.fromiter(generator)) or the python sum builtin instead.\n",
            "  import sys\n",
            "/usr/local/lib/python3.7/dist-packages/opacus/privacy_engine.py:523: UserWarning: A ``sample_rate`` has been provided.Thus, the provided ``batch_size``and ``sample_size`` will be ignored.\n",
            "  \"A ``sample_rate`` has been provided.\"\n",
            "/usr/local/lib/python3.7/dist-packages/opacus/privacy_engine.py:195: UserWarning: Secure RNG turned off. This is perfectly fine for experimentation as it allows for much faster training performance, but remember to turn it on and retrain one last time before production with ``secure_rng`` turned on.\n",
            "  \"Secure RNG turned off. This is perfectly fine for experimentation as it allows \"\n",
            "\r  0%|          | 0/235 [00:00<?, ?it/s]"
          ],
          "name": "stderr"
        },
        {
          "output_type": "stream",
          "text": [
            "  init cost variables:\n"
          ],
          "name": "stdout"
        },
        {
          "output_type": "stream",
          "text": [
            "/usr/local/lib/python3.7/dist-packages/torch/utils/data/dataloader.py:481: UserWarning: This DataLoader will create 3 worker processes in total. Our suggested max number of worker in current system is 2, which is smaller than what this DataLoader is going to create. Please be aware that excessive worker creation might get DataLoader running slow or even freeze, lower the worker number to avoid potential slowness/freeze if necessary.\n",
            "  cpuset_checked))\n",
            "/usr/local/lib/python3.7/dist-packages/torch/nn/modules/module.py:974: UserWarning: Using a non-full backward hook when the forward contains multiple autograd Nodes is deprecated and will be removed in future versions. This hook will be missing some grad_input. Please use register_full_backward_hook to get the documented behavior.\n",
            "  warnings.warn(\"Using a non-full backward hook when the forward contains multiple autograd Nodes \"\n",
            "/usr/local/lib/python3.7/dist-packages/torch/nn/functional.py:718: UserWarning: Named tensors and all their associated APIs are an experimental feature and subject to change. Please do not use them for anything important until they are released as stable. (Triggered internally at  /pytorch/c10/core/TensorImpl.h:1156.)\n",
            "  return torch.max_pool2d(input, kernel_size, stride, padding, dilation, ceil_mode)\n",
            "/usr/local/lib/python3.7/dist-packages/ipykernel_launcher.py:33: UserWarning: This overload of add_ is deprecated:\n",
            "\tadd_(Number alpha, Tensor other)\n",
            "Consider using one of the following signatures instead:\n",
            "\tadd_(Tensor other, *, Number alpha) (Triggered internally at  /pytorch/torch/csrc/utils/python_arg_parser.cpp:1025.)\n",
            "100%|██████████| 235/235 [00:08<00:00, 27.73it/s]"
          ],
          "name": "stderr"
        },
        {
          "output_type": "stream",
          "text": [
            "it 0/15, Jtr_pred = 0.594567, err = 0.183083, \u001b[31m   time: 8.482497 seconds\n",
            "\u001b[0m\n"
          ],
          "name": "stdout"
        },
        {
          "output_type": "stream",
          "text": [
            "\n"
          ],
          "name": "stderr"
        },
        {
          "output_type": "stream",
          "text": [
            "\u001b[32m    Jdev = 0.391650, err = 0.087800\n",
            "\u001b[0m\n",
            "\u001b[34mbest test error\u001b[0m\n",
            "\u001b[36mWritting models_SGLD_MNIST_gaussian/theta_best.dat\n",
            "\u001b[0m\n"
          ],
          "name": "stdout"
        },
        {
          "output_type": "stream",
          "text": [
            "100%|██████████| 235/235 [00:08<00:00, 28.16it/s]"
          ],
          "name": "stderr"
        },
        {
          "output_type": "stream",
          "text": [
            "it 1/15, Jtr_pred = 0.261851, err = 0.066467, \u001b[31m   time: 8.349429 seconds\n",
            "\u001b[0m\n"
          ],
          "name": "stdout"
        },
        {
          "output_type": "stream",
          "text": [
            "\n"
          ],
          "name": "stderr"
        },
        {
          "output_type": "stream",
          "text": [
            "\u001b[32m    Jdev = 0.210605, err = 0.054700\n",
            "\u001b[0m\n",
            "\u001b[34mbest test error\u001b[0m\n",
            "\u001b[36mWritting models_SGLD_MNIST_gaussian/theta_best.dat\n",
            "\u001b[0m\n"
          ],
          "name": "stdout"
        },
        {
          "output_type": "stream",
          "text": [
            "100%|██████████| 235/235 [00:08<00:00, 27.77it/s]"
          ],
          "name": "stderr"
        },
        {
          "output_type": "stream",
          "text": [
            "it 2/15, Jtr_pred = 0.237260, err = 0.061050, \u001b[31m   time: 8.467314 seconds\n",
            "\u001b[0m\n"
          ],
          "name": "stdout"
        },
        {
          "output_type": "stream",
          "text": [
            "\n"
          ],
          "name": "stderr"
        },
        {
          "output_type": "stream",
          "text": [
            "\u001b[32m    Jdev = 0.215413, err = 0.056200\n",
            "\u001b[0m\n"
          ],
          "name": "stdout"
        },
        {
          "output_type": "stream",
          "text": [
            "100%|██████████| 235/235 [00:08<00:00, 27.64it/s]"
          ],
          "name": "stderr"
        },
        {
          "output_type": "stream",
          "text": [
            "it 3/15, Jtr_pred = 0.216040, err = 0.056817, \u001b[31m   time: 8.508117 seconds\n",
            "\u001b[0m\n"
          ],
          "name": "stdout"
        },
        {
          "output_type": "stream",
          "text": [
            "\n"
          ],
          "name": "stderr"
        },
        {
          "output_type": "stream",
          "text": [
            "\u001b[32m    Jdev = 0.196983, err = 0.048700\n",
            "\u001b[0m\n",
            "\u001b[34mbest test error\u001b[0m\n",
            "\u001b[36mWritting models_SGLD_MNIST_gaussian/theta_best.dat\n",
            "\u001b[0m\n"
          ],
          "name": "stdout"
        },
        {
          "output_type": "stream",
          "text": [
            "100%|██████████| 235/235 [00:08<00:00, 27.02it/s]"
          ],
          "name": "stderr"
        },
        {
          "output_type": "stream",
          "text": [
            "it 4/15, Jtr_pred = 0.203423, err = 0.052850, \u001b[31m   time: 8.701454 seconds\n",
            "\u001b[0m\n"
          ],
          "name": "stdout"
        },
        {
          "output_type": "stream",
          "text": [
            "\n"
          ],
          "name": "stderr"
        },
        {
          "output_type": "stream",
          "text": [
            "\u001b[32m    Jdev = 0.236167, err = 0.059900\n",
            "\u001b[0m\n"
          ],
          "name": "stdout"
        },
        {
          "output_type": "stream",
          "text": [
            "100%|██████████| 235/235 [00:08<00:00, 27.27it/s]"
          ],
          "name": "stderr"
        },
        {
          "output_type": "stream",
          "text": [
            "it 5/15, Jtr_pred = 0.207524, err = 0.054000, \u001b[31m   time: 8.625386 seconds\n",
            "\u001b[0m\n",
            "\u001b[36m saving weight samples 1/90\u001b[0m\n"
          ],
          "name": "stdout"
        },
        {
          "output_type": "stream",
          "text": [
            "\n"
          ],
          "name": "stderr"
        },
        {
          "output_type": "stream",
          "text": [
            "\u001b[32m    Jdev = 0.219064, err = 0.056500\n",
            "\u001b[0m\n"
          ],
          "name": "stdout"
        },
        {
          "output_type": "stream",
          "text": [
            "100%|██████████| 235/235 [00:08<00:00, 27.47it/s]"
          ],
          "name": "stderr"
        },
        {
          "output_type": "stream",
          "text": [
            "it 6/15, Jtr_pred = 0.195699, err = 0.050450, \u001b[31m   time: 8.558553 seconds\n",
            "\u001b[0m\n",
            "\u001b[36m saving weight samples 2/90\u001b[0m\n"
          ],
          "name": "stdout"
        },
        {
          "output_type": "stream",
          "text": [
            "\n"
          ],
          "name": "stderr"
        },
        {
          "output_type": "stream",
          "text": [
            "\u001b[32m    Jdev = 0.185892, err = 0.046600\n",
            "\u001b[0m\n",
            "\u001b[34mbest test error\u001b[0m\n",
            "\u001b[36mWritting models_SGLD_MNIST_gaussian/theta_best.dat\n",
            "\u001b[0m\n"
          ],
          "name": "stdout"
        },
        {
          "output_type": "stream",
          "text": [
            "100%|██████████| 235/235 [00:08<00:00, 27.56it/s]"
          ],
          "name": "stderr"
        },
        {
          "output_type": "stream",
          "text": [
            "it 7/15, Jtr_pred = 0.189985, err = 0.048500, \u001b[31m   time: 8.531038 seconds\n",
            "\u001b[0m\n",
            "\u001b[36m saving weight samples 3/90\u001b[0m\n"
          ],
          "name": "stdout"
        },
        {
          "output_type": "stream",
          "text": [
            "\n"
          ],
          "name": "stderr"
        },
        {
          "output_type": "stream",
          "text": [
            "\u001b[32m    Jdev = 0.193641, err = 0.052600\n",
            "\u001b[0m\n"
          ],
          "name": "stdout"
        },
        {
          "output_type": "stream",
          "text": [
            "100%|██████████| 235/235 [00:08<00:00, 26.97it/s]"
          ],
          "name": "stderr"
        },
        {
          "output_type": "stream",
          "text": [
            "it 8/15, Jtr_pred = 0.181305, err = 0.046917, \u001b[31m   time: 8.716759 seconds\n",
            "\u001b[0m\n",
            "\u001b[36m saving weight samples 4/90\u001b[0m\n"
          ],
          "name": "stdout"
        },
        {
          "output_type": "stream",
          "text": [
            "\n"
          ],
          "name": "stderr"
        },
        {
          "output_type": "stream",
          "text": [
            "\u001b[32m    Jdev = 0.171101, err = 0.045800\n",
            "\u001b[0m\n",
            "\u001b[34mbest test error\u001b[0m\n",
            "\u001b[36mWritting models_SGLD_MNIST_gaussian/theta_best.dat\n",
            "\u001b[0m\n"
          ],
          "name": "stdout"
        },
        {
          "output_type": "stream",
          "text": [
            "100%|██████████| 235/235 [00:08<00:00, 27.56it/s]"
          ],
          "name": "stderr"
        },
        {
          "output_type": "stream",
          "text": [
            "it 9/15, Jtr_pred = 0.180980, err = 0.047233, \u001b[31m   time: 8.528536 seconds\n",
            "\u001b[0m\n",
            "\u001b[36m saving weight samples 5/90\u001b[0m\n"
          ],
          "name": "stdout"
        },
        {
          "output_type": "stream",
          "text": [
            "\n"
          ],
          "name": "stderr"
        },
        {
          "output_type": "stream",
          "text": [
            "\u001b[32m    Jdev = 0.155786, err = 0.042600\n",
            "\u001b[0m\n",
            "\u001b[34mbest test error\u001b[0m\n",
            "\u001b[36mWritting models_SGLD_MNIST_gaussian/theta_best.dat\n",
            "\u001b[0m\n"
          ],
          "name": "stdout"
        },
        {
          "output_type": "stream",
          "text": [
            "100%|██████████| 235/235 [00:08<00:00, 27.71it/s]"
          ],
          "name": "stderr"
        },
        {
          "output_type": "stream",
          "text": [
            "it 10/15, Jtr_pred = 0.182929, err = 0.046583, \u001b[31m   time: 8.482658 seconds\n",
            "\u001b[0m\n",
            "\u001b[36m saving weight samples 6/90\u001b[0m\n"
          ],
          "name": "stdout"
        },
        {
          "output_type": "stream",
          "text": [
            "\n"
          ],
          "name": "stderr"
        },
        {
          "output_type": "stream",
          "text": [
            "\u001b[32m    Jdev = 0.160553, err = 0.043100\n",
            "\u001b[0m\n"
          ],
          "name": "stdout"
        },
        {
          "output_type": "stream",
          "text": [
            "100%|██████████| 235/235 [00:08<00:00, 27.81it/s]"
          ],
          "name": "stderr"
        },
        {
          "output_type": "stream",
          "text": [
            "it 11/15, Jtr_pred = 0.177635, err = 0.045667, \u001b[31m   time: 8.454824 seconds\n",
            "\u001b[0m\n",
            "\u001b[36m saving weight samples 7/90\u001b[0m\n"
          ],
          "name": "stdout"
        },
        {
          "output_type": "stream",
          "text": [
            "\n"
          ],
          "name": "stderr"
        },
        {
          "output_type": "stream",
          "text": [
            "\u001b[32m    Jdev = 0.181840, err = 0.047000\n",
            "\u001b[0m\n"
          ],
          "name": "stdout"
        },
        {
          "output_type": "stream",
          "text": [
            "100%|██████████| 235/235 [00:08<00:00, 28.00it/s]"
          ],
          "name": "stderr"
        },
        {
          "output_type": "stream",
          "text": [
            "it 12/15, Jtr_pred = 0.181149, err = 0.046967, \u001b[31m   time: 8.404781 seconds\n",
            "\u001b[0m\n",
            "\u001b[36m saving weight samples 8/90\u001b[0m\n"
          ],
          "name": "stdout"
        },
        {
          "output_type": "stream",
          "text": [
            "\n"
          ],
          "name": "stderr"
        },
        {
          "output_type": "stream",
          "text": [
            "\u001b[32m    Jdev = 0.172243, err = 0.045300\n",
            "\u001b[0m\n"
          ],
          "name": "stdout"
        },
        {
          "output_type": "stream",
          "text": [
            "100%|██████████| 235/235 [00:08<00:00, 27.69it/s]"
          ],
          "name": "stderr"
        },
        {
          "output_type": "stream",
          "text": [
            "it 13/15, Jtr_pred = 0.188860, err = 0.048700, \u001b[31m   time: 8.490197 seconds\n",
            "\u001b[0m\n",
            "\u001b[36m saving weight samples 9/90\u001b[0m\n"
          ],
          "name": "stdout"
        },
        {
          "output_type": "stream",
          "text": [
            "\n"
          ],
          "name": "stderr"
        },
        {
          "output_type": "stream",
          "text": [
            "\u001b[32m    Jdev = 0.169348, err = 0.042600\n",
            "\u001b[0m\n"
          ],
          "name": "stdout"
        },
        {
          "output_type": "stream",
          "text": [
            "100%|██████████| 235/235 [00:08<00:00, 27.17it/s]\n"
          ],
          "name": "stderr"
        },
        {
          "output_type": "stream",
          "text": [
            "it 14/15, Jtr_pred = 0.173972, err = 0.046467, \u001b[31m   time: 8.656815 seconds\n",
            "\u001b[0m\n",
            "\u001b[36m saving weight samples 10/90\u001b[0m\n",
            "\u001b[32m    Jdev = 0.250675, err = 0.058500\n",
            "\u001b[0m\n",
            "\u001b[31m   average time: 9.821137 seconds\n",
            "\u001b[0m\n",
            "\u001b[36mWritting models_SGLD_MNIST_gaussian/theta_last.dat\n",
            "\u001b[0m\n",
            "\u001b[36m\n",
            "RESULTS:\u001b[0m\n",
            "  cost_dev: 0.155786 (cost_train 0.173972)\n",
            "  err_dev: 0.042600\n",
            "  nb_parameters: 26010 (25.40KB)\n",
            "  time_per_it: 9.821137s\n",
            "\n"
          ],
          "name": "stdout"
        },
        {
          "output_type": "stream",
          "text": [
            "/usr/local/lib/python3.7/dist-packages/ipykernel_launcher.py:7: DeprecationWarning: Calling np.sum(generator) is deprecated, and in the future will give a different result. Use np.sum(np.fromiter(generator)) or the python sum builtin instead.\n",
            "  import sys\n"
          ],
          "name": "stderr"
        }
      ]
    },
    {
      "cell_type": "code",
      "metadata": {
        "colab": {
          "base_uri": "https://localhost:8080/"
        },
        "id": "z4YaKAMqbSSe",
        "outputId": "7f8c64b6-493f-449d-de9a-eb54c56c2a67"
      },
      "source": [
        "from tqdm import tqdm\n",
        "y_local_te=np.empty((0,10))\n",
        "targets_te=np.array([])\n",
        "prob_local=np.array([])\n",
        "acc = 0 \n",
        "with torch.no_grad():\n",
        "        for data, target in tqdm(valloader):\n",
        "            data, target = data.to(device), target.to(device)\n",
        "            cost, err, prob = net.eval(data,target)\n",
        "            acc += err\n",
        "            y_local_te=np.append(y_local_te,prob.detach().numpy(),axis=0)\n",
        "            #y_local_te_single=np.append(y_local_te_single,y_local_te[-1].argmax())\n",
        "            prob_local=np.append(prob,np.array([prob.detach().numpy()[i,j] for i,j in enumerate(target.cpu().detach().numpy())]))\n",
        "            targets_te=np.append(targets_te,target.cpu().detach().numpy())\n",
        "\n",
        "y_local_te_single= np.argmax(y_local_te,axis=1)\n",
        "sum(y_local_te_single==targets_te)/10000 - np.mean(np.max(y_local_te,axis=1))"
      ],
      "execution_count": null,
      "outputs": [
        {
          "output_type": "stream",
          "text": [
            "\r  0%|          | 0/40 [00:00<?, ?it/s]/usr/local/lib/python3.7/dist-packages/torch/utils/data/dataloader.py:481: UserWarning: This DataLoader will create 3 worker processes in total. Our suggested max number of worker in current system is 2, which is smaller than what this DataLoader is going to create. Please be aware that excessive worker creation might get DataLoader running slow or even freeze, lower the worker number to avoid potential slowness/freeze if necessary.\n",
            "  cpuset_checked))\n",
            "100%|██████████| 40/40 [00:01<00:00, 29.80it/s]\n"
          ],
          "name": "stderr"
        },
        {
          "output_type": "execute_result",
          "data": {
            "text/plain": [
              "-0.02931890131831172"
            ]
          },
          "metadata": {
            "tags": []
          },
          "execution_count": 13
        }
      ]
    },
    {
      "cell_type": "code",
      "metadata": {
        "colab": {
          "base_uri": "https://localhost:8080/",
          "height": 325
        },
        "id": "HS5NU7cwbZmj",
        "outputId": "d268d494-645f-4da2-e635-b062fe519371"
      },
      "source": [
        "import matplotlib.pyplot as plt\n",
        "import seaborn as sns\n",
        "\n",
        "\n",
        "local_acc = np.mean(y_local_te_single == targets_te)\n",
        "\n",
        "\n",
        "print(\"######## ECE: ##############\")\n",
        "print(f\"Local accuracy: {local_acc}, predicted confidence {np.mean(np.max(y_local_te,axis=1))}, ECE {np.abs(local_acc - np.mean(np.max(y_local_te,axis=1)))}\")\n",
        "#print(f\"NonDP accuracy: {nondp_acc}, predicted confidence {np.mean(np.max(y_nondp_te,axis=1))}, ECE {np.abs(nondp_acc - np.mean(np.max(y_nondp_te,axis=1)))}\")\n",
        "\n",
        "\n",
        "plt.plot(0,0,linestyle='dashed',color='black')\n",
        "plt.plot(0,0,color='black')\n",
        "plt.plot(0,0,color='#1f77b4')\n",
        "plt.plot(0,0,color='#ff7f0e')\n",
        "plt.ylim(0,10000)\n",
        "#plt.plot([0.2338]*20,np.linspace(0,1500,20),linestyle='dashed',color='#1f77b4')\n",
        "plt.plot([sum(y_local_te_single==targets_te)/10000]*20,np.linspace(0,10000,20),linestyle='dashed',color='#ff7f0e',label='local Accu')\n",
        "#plt.plot([np.mean(np.max(y_global_te,axis=1))]*20,np.linspace(0,1500,20),color='#1f77b4')\n",
        "plt.plot([np.mean(np.max(y_local_te,axis=1))]*20,np.linspace(0,10000,20),color='#ff7f0e')\n",
        "\n",
        "#print('non DP accuracy:', np.mean(targets_te==y_noDP_te_single),' confidence:',np.mean(np.max(y_noDP_te,axis=1)),' difference:',np.mean(np.max(y_noDP_te,axis=1))-np.mean(targets_te==y_noDP_te_single))\n",
        "#print('DP local accuracy:', np.mean(targets_te==y_local_te_single),' confidence:',np.mean(np.max(y_local_te,axis=1)),' difference:',np.mean(np.max(y_local_te,axis=1))-np.mean(targets_te==y_local_te_single))\n",
        "#print('DP global accuracy:', np.mean(targets_te==y_global_te_single),' confidence:',np.mean(np.max(y_global_te,axis=1)),' difference:',np.mean(np.max(y_global_te,axis=1))-np.mean(targets_te==y_global_te_single))\n",
        "\n",
        "plt.hist(np.max(y_local_te,axis=1),bins=30)\n",
        "\n",
        "plt.xlim(0,1)\n",
        "plt.xlabel('Confidence', fontsize=15)\n",
        "plt.ylabel('Number of Samples', fontsize=15)\n",
        "plt.legend(('Accuracy','Avg Confidence'),fontsize=13,loc='upper left',frameon=False)\n",
        "plt.savefig('Confidence_DPBBP.pdf',format='pdf')\n",
        "plt.show()\n",
        "\n"
      ],
      "execution_count": null,
      "outputs": [
        {
          "output_type": "stream",
          "text": [
            "######## ECE: ##############\n",
            "Local accuracy: 0.9415, predicted confidence 0.9708189013183117, ECE 0.02931890131831172\n"
          ],
          "name": "stdout"
        },
        {
          "output_type": "display_data",
          "data": {
            "image/png": "[encoded data removed]",
            "text/plain": [
              "<Figure size 432x288 with 1 Axes>"
            ]
          },
          "metadata": {
            "tags": []
          }
        }
      ]
    },
    {
      "cell_type": "code",
      "metadata": {
        "colab": {
          "base_uri": "https://localhost:8080/",
          "height": 376
        },
        "id": "O9zPpDTFbc1K",
        "outputId": "70c83435-4350-44df-ea83-d4a5aefe56cb"
      },
      "source": [
        "#%%\n",
        "store_local = []\n",
        "templ=np.max(y_local_te,axis=1)\n",
        "dr=0.05\n",
        "for ratio in np.arange(0,1,dr):\n",
        "    index=(templ>ratio)*(templ<ratio+dr)\n",
        "    store_local.append(np.mean(y_local_te_single[index]==targets_te[index]))\n",
        "store_local=np.array(store_local)\n",
        "store_local[np.isnan(store_local)]=0\n",
        "\n",
        "#%%\n",
        "xaxis=np.arange(0,1,dr)+dr/2\n",
        "plt.bar(xaxis[store_local!=0],store_local[store_local!=0],width=dr, edgecolor=\"black\")\n",
        "plt.bar(xaxis[store_local!=0],xaxis[store_local!=0]-store_local[store_local!=0],bottom=store_local[store_local!=0],width=dr, edgecolor=\"black\",color='yellow',alpha=0.5)\n",
        "plt.bar(10,10,bottom=store_local,width=dr, edgecolor=\"black\",color='green',alpha=0.5)\n",
        "plt.plot([0,1],[0,1],color='black',linewidth=2,linestyle='dashed')\n",
        "plt.xlim(0,1)\n",
        "plt.ylim(0,1)\n",
        "plt.xlabel('Confidence', fontsize=15)\n",
        "plt.ylabel('Accuracy', fontsize=15)\n",
        "plt.legend(('Perfect calibration','Accuracy','Over-confidence','Under-confidence'),fontsize=13,frameon=0)\n",
        "plt.savefig('Confidence_MNIST_detail_LOCAL.pdf',format='pdf')\n",
        "plt.show()\n",
        "print(\"######## MCE: ##############\")\n",
        "max(xaxis[store_local!=0]-store_local[store_local!=0])\n"
      ],
      "execution_count": null,
      "outputs": [
        {
          "output_type": "stream",
          "text": [
            "/usr/local/lib/python3.7/dist-packages/numpy/core/fromnumeric.py:3373: RuntimeWarning: Mean of empty slice.\n",
            "  out=out, **kwargs)\n",
            "/usr/local/lib/python3.7/dist-packages/numpy/core/_methods.py:170: RuntimeWarning: invalid value encountered in double_scalars\n",
            "  ret = ret.dtype.type(ret / rcount)\n"
          ],
          "name": "stderr"
        },
        {
          "output_type": "display_data",
          "data": {
            "image/png": "[encoded data removed]",
            "text/plain": [
              "<Figure size 432x288 with 1 Axes>"
            ]
          },
          "metadata": {
            "tags": []
          }
        },
        {
          "output_type": "execute_result",
          "data": {
            "text/plain": [
              "0.19336734693877555"
            ]
          },
          "metadata": {
            "tags": []
          },
          "execution_count": 16
        }
      ]
    }
  ]
}