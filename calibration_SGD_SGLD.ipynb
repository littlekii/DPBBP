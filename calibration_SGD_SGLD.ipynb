{
  "nbformat": 4,
  "nbformat_minor": 0,
  "metadata": {
    "colab": {
      "name": "cali_DPSGD.ipynb",
      "provenance": [],
      "collapsed_sections": [],
      "toc_visible": true,
      "include_colab_link": true
    },
    "kernelspec": {
      "name": "python3",
      "display_name": "Python 3"
    },
    "language_info": {
      "name": "python"
    },
    "accelerator": "GPU",
    "widgets": {
      "application/vnd.jupyter.widget-state+json": {
        "f6e272df8fc2440ebb8e6176e23c6007": {
          "model_module": "@jupyter-widgets/controls",
          "model_name": "HBoxModel",
          "model_module_version": "1.5.0",
          "state": {
            "_view_name": "HBoxView",
            "_dom_classes": [],
            "_model_name": "HBoxModel",
            "_view_module": "@jupyter-widgets/controls",
            "_model_module_version": "1.5.0",
            "_view_count": null,
            "_view_module_version": "1.5.0",
            "box_style": "",
            "layout": "IPY_MODEL_3b3526d1c61f4eceb2bb9569e7b1f7f6",
            "_model_module": "@jupyter-widgets/controls",
            "children": [
              "IPY_MODEL_9fb67e2b56f84edf8174ce882da4c1b2",
              "IPY_MODEL_ce898cff02bf4b21896b41042c5f4ae6"
            ]
          }
        },
        "3b3526d1c61f4eceb2bb9569e7b1f7f6": {
          "model_module": "@jupyter-widgets/base",
          "model_name": "LayoutModel",
          "model_module_version": "1.2.0",
          "state": {
            "_view_name": "LayoutView",
            "grid_template_rows": null,
            "right": null,
            "justify_content": null,
            "_view_module": "@jupyter-widgets/base",
            "overflow": null,
            "_model_module_version": "1.2.0",
            "_view_count": null,
            "flex_flow": null,
            "width": null,
            "min_width": null,
            "border": null,
            "align_items": null,
            "bottom": null,
            "_model_module": "@jupyter-widgets/base",
            "top": null,
            "grid_column": null,
            "overflow_y": null,
            "overflow_x": null,
            "grid_auto_flow": null,
            "grid_area": null,
            "grid_template_columns": null,
            "flex": null,
            "_model_name": "LayoutModel",
            "justify_items": null,
            "grid_row": null,
            "max_height": null,
            "align_content": null,
            "visibility": null,
            "align_self": null,
            "height": null,
            "min_height": null,
            "padding": null,
            "grid_auto_rows": null,
            "grid_gap": null,
            "max_width": null,
            "order": null,
            "_view_module_version": "1.2.0",
            "grid_template_areas": null,
            "object_position": null,
            "object_fit": null,
            "grid_auto_columns": null,
            "margin": null,
            "display": null,
            "left": null
          }
        },
        "9fb67e2b56f84edf8174ce882da4c1b2": {
          "model_module": "@jupyter-widgets/controls",
          "model_name": "FloatProgressModel",
          "model_module_version": "1.5.0",
          "state": {
            "_view_name": "ProgressView",
            "style": "IPY_MODEL_5d8dde59c9964967b8b4abf1119f7032",
            "_dom_classes": [],
            "description": "",
            "_model_name": "FloatProgressModel",
            "bar_style": "success",
            "max": 9912422,
            "_view_module": "@jupyter-widgets/controls",
            "_model_module_version": "1.5.0",
            "value": 9912422,
            "_view_count": null,
            "_view_module_version": "1.5.0",
            "orientation": "horizontal",
            "min": 0,
            "description_tooltip": null,
            "_model_module": "@jupyter-widgets/controls",
            "layout": "IPY_MODEL_75c69293b6ab4234957632564f11f47f"
          }
        },
        "ce898cff02bf4b21896b41042c5f4ae6": {
          "model_module": "@jupyter-widgets/controls",
          "model_name": "HTMLModel",
          "model_module_version": "1.5.0",
          "state": {
            "_view_name": "HTMLView",
            "style": "IPY_MODEL_5f8323a4bb074ee78b8dcbe55c0e8052",
            "_dom_classes": [],
            "description": "",
            "_model_name": "HTMLModel",
            "placeholder": "​",
            "_view_module": "@jupyter-widgets/controls",
            "_model_module_version": "1.5.0",
            "value": " 9913344/? [01:13&lt;00:00, 135154.11it/s]",
            "_view_count": null,
            "_view_module_version": "1.5.0",
            "description_tooltip": null,
            "_model_module": "@jupyter-widgets/controls",
            "layout": "IPY_MODEL_f69447e690bd41ffa27e59dd7ff5d8ca"
          }
        },
        "5d8dde59c9964967b8b4abf1119f7032": {
          "model_module": "@jupyter-widgets/controls",
          "model_name": "ProgressStyleModel",
          "model_module_version": "1.5.0",
          "state": {
            "_view_name": "StyleView",
            "_model_name": "ProgressStyleModel",
            "description_width": "initial",
            "_view_module": "@jupyter-widgets/base",
            "_model_module_version": "1.5.0",
            "_view_count": null,
            "_view_module_version": "1.2.0",
            "bar_color": null,
            "_model_module": "@jupyter-widgets/controls"
          }
        },
        "75c69293b6ab4234957632564f11f47f": {
          "model_module": "@jupyter-widgets/base",
          "model_name": "LayoutModel",
          "model_module_version": "1.2.0",
          "state": {
            "_view_name": "LayoutView",
            "grid_template_rows": null,
            "right": null,
            "justify_content": null,
            "_view_module": "@jupyter-widgets/base",
            "overflow": null,
            "_model_module_version": "1.2.0",
            "_view_count": null,
            "flex_flow": null,
            "width": null,
            "min_width": null,
            "border": null,
            "align_items": null,
            "bottom": null,
            "_model_module": "@jupyter-widgets/base",
            "top": null,
            "grid_column": null,
            "overflow_y": null,
            "overflow_x": null,
            "grid_auto_flow": null,
            "grid_area": null,
            "grid_template_columns": null,
            "flex": null,
            "_model_name": "LayoutModel",
            "justify_items": null,
            "grid_row": null,
            "max_height": null,
            "align_content": null,
            "visibility": null,
            "align_self": null,
            "height": null,
            "min_height": null,
            "padding": null,
            "grid_auto_rows": null,
            "grid_gap": null,
            "max_width": null,
            "order": null,
            "_view_module_version": "1.2.0",
            "grid_template_areas": null,
            "object_position": null,
            "object_fit": null,
            "grid_auto_columns": null,
            "margin": null,
            "display": null,
            "left": null
          }
        },
        "5f8323a4bb074ee78b8dcbe55c0e8052": {
          "model_module": "@jupyter-widgets/controls",
          "model_name": "DescriptionStyleModel",
          "model_module_version": "1.5.0",
          "state": {
            "_view_name": "StyleView",
            "_model_name": "DescriptionStyleModel",
            "description_width": "",
            "_view_module": "@jupyter-widgets/base",
            "_model_module_version": "1.5.0",
            "_view_count": null,
            "_view_module_version": "1.2.0",
            "_model_module": "@jupyter-widgets/controls"
          }
        },
        "f69447e690bd41ffa27e59dd7ff5d8ca": {
          "model_module": "@jupyter-widgets/base",
          "model_name": "LayoutModel",
          "model_module_version": "1.2.0",
          "state": {
            "_view_name": "LayoutView",
            "grid_template_rows": null,
            "right": null,
            "justify_content": null,
            "_view_module": "@jupyter-widgets/base",
            "overflow": null,
            "_model_module_version": "1.2.0",
            "_view_count": null,
            "flex_flow": null,
            "width": null,
            "min_width": null,
            "border": null,
            "align_items": null,
            "bottom": null,
            "_model_module": "@jupyter-widgets/base",
            "top": null,
            "grid_column": null,
            "overflow_y": null,
            "overflow_x": null,
            "grid_auto_flow": null,
            "grid_area": null,
            "grid_template_columns": null,
            "flex": null,
            "_model_name": "LayoutModel",
            "justify_items": null,
            "grid_row": null,
            "max_height": null,
            "align_content": null,
            "visibility": null,
            "align_self": null,
            "height": null,
            "min_height": null,
            "padding": null,
            "grid_auto_rows": null,
            "grid_gap": null,
            "max_width": null,
            "order": null,
            "_view_module_version": "1.2.0",
            "grid_template_areas": null,
            "object_position": null,
            "object_fit": null,
            "grid_auto_columns": null,
            "margin": null,
            "display": null,
            "left": null
          }
        },
        "eb623c8976614748a670129615898396": {
          "model_module": "@jupyter-widgets/controls",
          "model_name": "HBoxModel",
          "model_module_version": "1.5.0",
          "state": {
            "_view_name": "HBoxView",
            "_dom_classes": [],
            "_model_name": "HBoxModel",
            "_view_module": "@jupyter-widgets/controls",
            "_model_module_version": "1.5.0",
            "_view_count": null,
            "_view_module_version": "1.5.0",
            "box_style": "",
            "layout": "IPY_MODEL_ec274850e0e346c7a131d05b41fb76ed",
            "_model_module": "@jupyter-widgets/controls",
            "children": [
              "IPY_MODEL_293e0d9f3ebb4e1599b9dd29bf3102a6",
              "IPY_MODEL_325d408282964841aa9cbf204a23750d"
            ]
          }
        },
        "ec274850e0e346c7a131d05b41fb76ed": {
          "model_module": "@jupyter-widgets/base",
          "model_name": "LayoutModel",
          "model_module_version": "1.2.0",
          "state": {
            "_view_name": "LayoutView",
            "grid_template_rows": null,
            "right": null,
            "justify_content": null,
            "_view_module": "@jupyter-widgets/base",
            "overflow": null,
            "_model_module_version": "1.2.0",
            "_view_count": null,
            "flex_flow": null,
            "width": null,
            "min_width": null,
            "border": null,
            "align_items": null,
            "bottom": null,
            "_model_module": "@jupyter-widgets/base",
            "top": null,
            "grid_column": null,
            "overflow_y": null,
            "overflow_x": null,
            "grid_auto_flow": null,
            "grid_area": null,
            "grid_template_columns": null,
            "flex": null,
            "_model_name": "LayoutModel",
            "justify_items": null,
            "grid_row": null,
            "max_height": null,
            "align_content": null,
            "visibility": null,
            "align_self": null,
            "height": null,
            "min_height": null,
            "padding": null,
            "grid_auto_rows": null,
            "grid_gap": null,
            "max_width": null,
            "order": null,
            "_view_module_version": "1.2.0",
            "grid_template_areas": null,
            "object_position": null,
            "object_fit": null,
            "grid_auto_columns": null,
            "margin": null,
            "display": null,
            "left": null
          }
        },
        "293e0d9f3ebb4e1599b9dd29bf3102a6": {
          "model_module": "@jupyter-widgets/controls",
          "model_name": "FloatProgressModel",
          "model_module_version": "1.5.0",
          "state": {
            "_view_name": "ProgressView",
            "style": "IPY_MODEL_244b702ff30640a19e6e730952d75a7e",
            "_dom_classes": [],
            "description": "",
            "_model_name": "FloatProgressModel",
            "bar_style": "success",
            "max": 28881,
            "_view_module": "@jupyter-widgets/controls",
            "_model_module_version": "1.5.0",
            "value": 28881,
            "_view_count": null,
            "_view_module_version": "1.5.0",
            "orientation": "horizontal",
            "min": 0,
            "description_tooltip": null,
            "_model_module": "@jupyter-widgets/controls",
            "layout": "IPY_MODEL_994380e50dbd439cb7f688c6e7c57783"
          }
        },
        "325d408282964841aa9cbf204a23750d": {
          "model_module": "@jupyter-widgets/controls",
          "model_name": "HTMLModel",
          "model_module_version": "1.5.0",
          "state": {
            "_view_name": "HTMLView",
            "style": "IPY_MODEL_e64be8caf9cc411c86ef8ee7e04f6ed3",
            "_dom_classes": [],
            "description": "",
            "_model_name": "HTMLModel",
            "placeholder": "​",
            "_view_module": "@jupyter-widgets/controls",
            "_model_module_version": "1.5.0",
            "value": " 29696/? [00:55&lt;00:00, 536.35it/s]",
            "_view_count": null,
            "_view_module_version": "1.5.0",
            "description_tooltip": null,
            "_model_module": "@jupyter-widgets/controls",
            "layout": "IPY_MODEL_781a4d130a1e4e7397b07b73ffe3b5b1"
          }
        },
        "244b702ff30640a19e6e730952d75a7e": {
          "model_module": "@jupyter-widgets/controls",
          "model_name": "ProgressStyleModel",
          "model_module_version": "1.5.0",
          "state": {
            "_view_name": "StyleView",
            "_model_name": "ProgressStyleModel",
            "description_width": "initial",
            "_view_module": "@jupyter-widgets/base",
            "_model_module_version": "1.5.0",
            "_view_count": null,
            "_view_module_version": "1.2.0",
            "bar_color": null,
            "_model_module": "@jupyter-widgets/controls"
          }
        },
        "994380e50dbd439cb7f688c6e7c57783": {
          "model_module": "@jupyter-widgets/base",
          "model_name": "LayoutModel",
          "model_module_version": "1.2.0",
          "state": {
            "_view_name": "LayoutView",
            "grid_template_rows": null,
            "right": null,
            "justify_content": null,
            "_view_module": "@jupyter-widgets/base",
            "overflow": null,
            "_model_module_version": "1.2.0",
            "_view_count": null,
            "flex_flow": null,
            "width": null,
            "min_width": null,
            "border": null,
            "align_items": null,
            "bottom": null,
            "_model_module": "@jupyter-widgets/base",
            "top": null,
            "grid_column": null,
            "overflow_y": null,
            "overflow_x": null,
            "grid_auto_flow": null,
            "grid_area": null,
            "grid_template_columns": null,
            "flex": null,
            "_model_name": "LayoutModel",
            "justify_items": null,
            "grid_row": null,
            "max_height": null,
            "align_content": null,
            "visibility": null,
            "align_self": null,
            "height": null,
            "min_height": null,
            "padding": null,
            "grid_auto_rows": null,
            "grid_gap": null,
            "max_width": null,
            "order": null,
            "_view_module_version": "1.2.0",
            "grid_template_areas": null,
            "object_position": null,
            "object_fit": null,
            "grid_auto_columns": null,
            "margin": null,
            "display": null,
            "left": null
          }
        },
        "e64be8caf9cc411c86ef8ee7e04f6ed3": {
          "model_module": "@jupyter-widgets/controls",
          "model_name": "DescriptionStyleModel",
          "model_module_version": "1.5.0",
          "state": {
            "_view_name": "StyleView",
            "_model_name": "DescriptionStyleModel",
            "description_width": "",
            "_view_module": "@jupyter-widgets/base",
            "_model_module_version": "1.5.0",
            "_view_count": null,
            "_view_module_version": "1.2.0",
            "_model_module": "@jupyter-widgets/controls"
          }
        },
        "781a4d130a1e4e7397b07b73ffe3b5b1": {
          "model_module": "@jupyter-widgets/base",
          "model_name": "LayoutModel",
          "model_module_version": "1.2.0",
          "state": {
            "_view_name": "LayoutView",
            "grid_template_rows": null,
            "right": null,
            "justify_content": null,
            "_view_module": "@jupyter-widgets/base",
            "overflow": null,
            "_model_module_version": "1.2.0",
            "_view_count": null,
            "flex_flow": null,
            "width": null,
            "min_width": null,
            "border": null,
            "align_items": null,
            "bottom": null,
            "_model_module": "@jupyter-widgets/base",
            "top": null,
            "grid_column": null,
            "overflow_y": null,
            "overflow_x": null,
            "grid_auto_flow": null,
            "grid_area": null,
            "grid_template_columns": null,
            "flex": null,
            "_model_name": "LayoutModel",
            "justify_items": null,
            "grid_row": null,
            "max_height": null,
            "align_content": null,
            "visibility": null,
            "align_self": null,
            "height": null,
            "min_height": null,
            "padding": null,
            "grid_auto_rows": null,
            "grid_gap": null,
            "max_width": null,
            "order": null,
            "_view_module_version": "1.2.0",
            "grid_template_areas": null,
            "object_position": null,
            "object_fit": null,
            "grid_auto_columns": null,
            "margin": null,
            "display": null,
            "left": null
          }
        },
        "feb1b11fd64a49a2b700c92c06ffd46c": {
          "model_module": "@jupyter-widgets/controls",
          "model_name": "HBoxModel",
          "model_module_version": "1.5.0",
          "state": {
            "_view_name": "HBoxView",
            "_dom_classes": [],
            "_model_name": "HBoxModel",
            "_view_module": "@jupyter-widgets/controls",
            "_model_module_version": "1.5.0",
            "_view_count": null,
            "_view_module_version": "1.5.0",
            "box_style": "",
            "layout": "IPY_MODEL_f376e43faf014d91bf6991ffbbb27a22",
            "_model_module": "@jupyter-widgets/controls",
            "children": [
              "IPY_MODEL_21fce11affcc4b639683af09e313bb41",
              "IPY_MODEL_31134fa1c2014164a799a4cec7a4fc43"
            ]
          }
        },
        "f376e43faf014d91bf6991ffbbb27a22": {
          "model_module": "@jupyter-widgets/base",
          "model_name": "LayoutModel",
          "model_module_version": "1.2.0",
          "state": {
            "_view_name": "LayoutView",
            "grid_template_rows": null,
            "right": null,
            "justify_content": null,
            "_view_module": "@jupyter-widgets/base",
            "overflow": null,
            "_model_module_version": "1.2.0",
            "_view_count": null,
            "flex_flow": null,
            "width": null,
            "min_width": null,
            "border": null,
            "align_items": null,
            "bottom": null,
            "_model_module": "@jupyter-widgets/base",
            "top": null,
            "grid_column": null,
            "overflow_y": null,
            "overflow_x": null,
            "grid_auto_flow": null,
            "grid_area": null,
            "grid_template_columns": null,
            "flex": null,
            "_model_name": "LayoutModel",
            "justify_items": null,
            "grid_row": null,
            "max_height": null,
            "align_content": null,
            "visibility": null,
            "align_self": null,
            "height": null,
            "min_height": null,
            "padding": null,
            "grid_auto_rows": null,
            "grid_gap": null,
            "max_width": null,
            "order": null,
            "_view_module_version": "1.2.0",
            "grid_template_areas": null,
            "object_position": null,
            "object_fit": null,
            "grid_auto_columns": null,
            "margin": null,
            "display": null,
            "left": null
          }
        },
        "21fce11affcc4b639683af09e313bb41": {
          "model_module": "@jupyter-widgets/controls",
          "model_name": "FloatProgressModel",
          "model_module_version": "1.5.0",
          "state": {
            "_view_name": "ProgressView",
            "style": "IPY_MODEL_edd3fd1e26ac4b568b367024314c9d66",
            "_dom_classes": [],
            "description": "",
            "_model_name": "FloatProgressModel",
            "bar_style": "success",
            "max": 1648877,
            "_view_module": "@jupyter-widgets/controls",
            "_model_module_version": "1.5.0",
            "value": 1648877,
            "_view_count": null,
            "_view_module_version": "1.5.0",
            "orientation": "horizontal",
            "min": 0,
            "description_tooltip": null,
            "_model_module": "@jupyter-widgets/controls",
            "layout": "IPY_MODEL_f1f7285260ce43bdbbd2c74b22df2ca7"
          }
        },
        "31134fa1c2014164a799a4cec7a4fc43": {
          "model_module": "@jupyter-widgets/controls",
          "model_name": "HTMLModel",
          "model_module_version": "1.5.0",
          "state": {
            "_view_name": "HTMLView",
            "style": "IPY_MODEL_e361814e870148fa9739f62c145fc8f7",
            "_dom_classes": [],
            "description": "",
            "_model_name": "HTMLModel",
            "placeholder": "​",
            "_view_module": "@jupyter-widgets/controls",
            "_model_module_version": "1.5.0",
            "value": " 1649664/? [00:09&lt;00:00, 165468.40it/s]",
            "_view_count": null,
            "_view_module_version": "1.5.0",
            "description_tooltip": null,
            "_model_module": "@jupyter-widgets/controls",
            "layout": "IPY_MODEL_3f01b1de54a54b80a5b934707e91218f"
          }
        },
        "edd3fd1e26ac4b568b367024314c9d66": {
          "model_module": "@jupyter-widgets/controls",
          "model_name": "ProgressStyleModel",
          "model_module_version": "1.5.0",
          "state": {
            "_view_name": "StyleView",
            "_model_name": "ProgressStyleModel",
            "description_width": "initial",
            "_view_module": "@jupyter-widgets/base",
            "_model_module_version": "1.5.0",
            "_view_count": null,
            "_view_module_version": "1.2.0",
            "bar_color": null,
            "_model_module": "@jupyter-widgets/controls"
          }
        },
        "f1f7285260ce43bdbbd2c74b22df2ca7": {
          "model_module": "@jupyter-widgets/base",
          "model_name": "LayoutModel",
          "model_module_version": "1.2.0",
          "state": {
            "_view_name": "LayoutView",
            "grid_template_rows": null,
            "right": null,
            "justify_content": null,
            "_view_module": "@jupyter-widgets/base",
            "overflow": null,
            "_model_module_version": "1.2.0",
            "_view_count": null,
            "flex_flow": null,
            "width": null,
            "min_width": null,
            "border": null,
            "align_items": null,
            "bottom": null,
            "_model_module": "@jupyter-widgets/base",
            "top": null,
            "grid_column": null,
            "overflow_y": null,
            "overflow_x": null,
            "grid_auto_flow": null,
            "grid_area": null,
            "grid_template_columns": null,
            "flex": null,
            "_model_name": "LayoutModel",
            "justify_items": null,
            "grid_row": null,
            "max_height": null,
            "align_content": null,
            "visibility": null,
            "align_self": null,
            "height": null,
            "min_height": null,
            "padding": null,
            "grid_auto_rows": null,
            "grid_gap": null,
            "max_width": null,
            "order": null,
            "_view_module_version": "1.2.0",
            "grid_template_areas": null,
            "object_position": null,
            "object_fit": null,
            "grid_auto_columns": null,
            "margin": null,
            "display": null,
            "left": null
          }
        },
        "e361814e870148fa9739f62c145fc8f7": {
          "model_module": "@jupyter-widgets/controls",
          "model_name": "DescriptionStyleModel",
          "model_module_version": "1.5.0",
          "state": {
            "_view_name": "StyleView",
            "_model_name": "DescriptionStyleModel",
            "description_width": "",
            "_view_module": "@jupyter-widgets/base",
            "_model_module_version": "1.5.0",
            "_view_count": null,
            "_view_module_version": "1.2.0",
            "_model_module": "@jupyter-widgets/controls"
          }
        },
        "3f01b1de54a54b80a5b934707e91218f": {
          "model_module": "@jupyter-widgets/base",
          "model_name": "LayoutModel",
          "model_module_version": "1.2.0",
          "state": {
            "_view_name": "LayoutView",
            "grid_template_rows": null,
            "right": null,
            "justify_content": null,
            "_view_module": "@jupyter-widgets/base",
            "overflow": null,
            "_model_module_version": "1.2.0",
            "_view_count": null,
            "flex_flow": null,
            "width": null,
            "min_width": null,
            "border": null,
            "align_items": null,
            "bottom": null,
            "_model_module": "@jupyter-widgets/base",
            "top": null,
            "grid_column": null,
            "overflow_y": null,
            "overflow_x": null,
            "grid_auto_flow": null,
            "grid_area": null,
            "grid_template_columns": null,
            "flex": null,
            "_model_name": "LayoutModel",
            "justify_items": null,
            "grid_row": null,
            "max_height": null,
            "align_content": null,
            "visibility": null,
            "align_self": null,
            "height": null,
            "min_height": null,
            "padding": null,
            "grid_auto_rows": null,
            "grid_gap": null,
            "max_width": null,
            "order": null,
            "_view_module_version": "1.2.0",
            "grid_template_areas": null,
            "object_position": null,
            "object_fit": null,
            "grid_auto_columns": null,
            "margin": null,
            "display": null,
            "left": null
          }
        },
        "c2a401a2e09542968d7821e3a48639bd": {
          "model_module": "@jupyter-widgets/controls",
          "model_name": "HBoxModel",
          "model_module_version": "1.5.0",
          "state": {
            "_view_name": "HBoxView",
            "_dom_classes": [],
            "_model_name": "HBoxModel",
            "_view_module": "@jupyter-widgets/controls",
            "_model_module_version": "1.5.0",
            "_view_count": null,
            "_view_module_version": "1.5.0",
            "box_style": "",
            "layout": "IPY_MODEL_843690dadd7e41e0946c43ddab943914",
            "_model_module": "@jupyter-widgets/controls",
            "children": [
              "IPY_MODEL_708aa973bb6640d1a8b5520c55f8f2fd",
              "IPY_MODEL_2ab0d736137346db9bf3bde70d2f644d"
            ]
          }
        },
        "843690dadd7e41e0946c43ddab943914": {
          "model_module": "@jupyter-widgets/base",
          "model_name": "LayoutModel",
          "model_module_version": "1.2.0",
          "state": {
            "_view_name": "LayoutView",
            "grid_template_rows": null,
            "right": null,
            "justify_content": null,
            "_view_module": "@jupyter-widgets/base",
            "overflow": null,
            "_model_module_version": "1.2.0",
            "_view_count": null,
            "flex_flow": null,
            "width": null,
            "min_width": null,
            "border": null,
            "align_items": null,
            "bottom": null,
            "_model_module": "@jupyter-widgets/base",
            "top": null,
            "grid_column": null,
            "overflow_y": null,
            "overflow_x": null,
            "grid_auto_flow": null,
            "grid_area": null,
            "grid_template_columns": null,
            "flex": null,
            "_model_name": "LayoutModel",
            "justify_items": null,
            "grid_row": null,
            "max_height": null,
            "align_content": null,
            "visibility": null,
            "align_self": null,
            "height": null,
            "min_height": null,
            "padding": null,
            "grid_auto_rows": null,
            "grid_gap": null,
            "max_width": null,
            "order": null,
            "_view_module_version": "1.2.0",
            "grid_template_areas": null,
            "object_position": null,
            "object_fit": null,
            "grid_auto_columns": null,
            "margin": null,
            "display": null,
            "left": null
          }
        },
        "708aa973bb6640d1a8b5520c55f8f2fd": {
          "model_module": "@jupyter-widgets/controls",
          "model_name": "FloatProgressModel",
          "model_module_version": "1.5.0",
          "state": {
            "_view_name": "ProgressView",
            "style": "IPY_MODEL_08bb7d73a0954710933f661326f11ee4",
            "_dom_classes": [],
            "description": "",
            "_model_name": "FloatProgressModel",
            "bar_style": "success",
            "max": 4542,
            "_view_module": "@jupyter-widgets/controls",
            "_model_module_version": "1.5.0",
            "value": 4542,
            "_view_count": null,
            "_view_module_version": "1.5.0",
            "orientation": "horizontal",
            "min": 0,
            "description_tooltip": null,
            "_model_module": "@jupyter-widgets/controls",
            "layout": "IPY_MODEL_a753530cad5b438a978d287d121844c0"
          }
        },
        "2ab0d736137346db9bf3bde70d2f644d": {
          "model_module": "@jupyter-widgets/controls",
          "model_name": "HTMLModel",
          "model_module_version": "1.5.0",
          "state": {
            "_view_name": "HTMLView",
            "style": "IPY_MODEL_289df82ff6444e1a92d561721a2b0a1b",
            "_dom_classes": [],
            "description": "",
            "_model_name": "HTMLModel",
            "placeholder": "​",
            "_view_module": "@jupyter-widgets/controls",
            "_model_module_version": "1.5.0",
            "value": " 5120/? [00:06&lt;00:00, 823.26it/s]",
            "_view_count": null,
            "_view_module_version": "1.5.0",
            "description_tooltip": null,
            "_model_module": "@jupyter-widgets/controls",
            "layout": "IPY_MODEL_56669c63c1a347d28787a7df71cf3257"
          }
        },
        "08bb7d73a0954710933f661326f11ee4": {
          "model_module": "@jupyter-widgets/controls",
          "model_name": "ProgressStyleModel",
          "model_module_version": "1.5.0",
          "state": {
            "_view_name": "StyleView",
            "_model_name": "ProgressStyleModel",
            "description_width": "initial",
            "_view_module": "@jupyter-widgets/base",
            "_model_module_version": "1.5.0",
            "_view_count": null,
            "_view_module_version": "1.2.0",
            "bar_color": null,
            "_model_module": "@jupyter-widgets/controls"
          }
        },
        "a753530cad5b438a978d287d121844c0": {
          "model_module": "@jupyter-widgets/base",
          "model_name": "LayoutModel",
          "model_module_version": "1.2.0",
          "state": {
            "_view_name": "LayoutView",
            "grid_template_rows": null,
            "right": null,
            "justify_content": null,
            "_view_module": "@jupyter-widgets/base",
            "overflow": null,
            "_model_module_version": "1.2.0",
            "_view_count": null,
            "flex_flow": null,
            "width": null,
            "min_width": null,
            "border": null,
            "align_items": null,
            "bottom": null,
            "_model_module": "@jupyter-widgets/base",
            "top": null,
            "grid_column": null,
            "overflow_y": null,
            "overflow_x": null,
            "grid_auto_flow": null,
            "grid_area": null,
            "grid_template_columns": null,
            "flex": null,
            "_model_name": "LayoutModel",
            "justify_items": null,
            "grid_row": null,
            "max_height": null,
            "align_content": null,
            "visibility": null,
            "align_self": null,
            "height": null,
            "min_height": null,
            "padding": null,
            "grid_auto_rows": null,
            "grid_gap": null,
            "max_width": null,
            "order": null,
            "_view_module_version": "1.2.0",
            "grid_template_areas": null,
            "object_position": null,
            "object_fit": null,
            "grid_auto_columns": null,
            "margin": null,
            "display": null,
            "left": null
          }
        },
        "289df82ff6444e1a92d561721a2b0a1b": {
          "model_module": "@jupyter-widgets/controls",
          "model_name": "DescriptionStyleModel",
          "model_module_version": "1.5.0",
          "state": {
            "_view_name": "StyleView",
            "_model_name": "DescriptionStyleModel",
            "description_width": "",
            "_view_module": "@jupyter-widgets/base",
            "_model_module_version": "1.5.0",
            "_view_count": null,
            "_view_module_version": "1.2.0",
            "_model_module": "@jupyter-widgets/controls"
          }
        },
        "56669c63c1a347d28787a7df71cf3257": {
          "model_module": "@jupyter-widgets/base",
          "model_name": "LayoutModel",
          "model_module_version": "1.2.0",
          "state": {
            "_view_name": "LayoutView",
            "grid_template_rows": null,
            "right": null,
            "justify_content": null,
            "_view_module": "@jupyter-widgets/base",
            "overflow": null,
            "_model_module_version": "1.2.0",
            "_view_count": null,
            "flex_flow": null,
            "width": null,
            "min_width": null,
            "border": null,
            "align_items": null,
            "bottom": null,
            "_model_module": "@jupyter-widgets/base",
            "top": null,
            "grid_column": null,
            "overflow_y": null,
            "overflow_x": null,
            "grid_auto_flow": null,
            "grid_area": null,
            "grid_template_columns": null,
            "flex": null,
            "_model_name": "LayoutModel",
            "justify_items": null,
            "grid_row": null,
            "max_height": null,
            "align_content": null,
            "visibility": null,
            "align_self": null,
            "height": null,
            "min_height": null,
            "padding": null,
            "grid_auto_rows": null,
            "grid_gap": null,
            "max_width": null,
            "order": null,
            "_view_module_version": "1.2.0",
            "grid_template_areas": null,
            "object_position": null,
            "object_fit": null,
            "grid_auto_columns": null,
            "margin": null,
            "display": null,
            "left": null
          }
        }
      }
    }
  },
  "cells": [
    {
      "cell_type": "markdown",
      "metadata": {
        "id": "view-in-github",
        "colab_type": "text"
      },
      "source": [
        "<a href=\"https://colab.research.google.com/github/littlekii/DPBBP/blob/main/calibration_SGD_SGLD.ipynb\" target=\"_parent\"><img src=\"https://colab.research.google.com/assets/colab-badge.svg\" alt=\"Open In Colab\"/></a>"
      ]
    },
    {
      "cell_type": "markdown",
      "metadata": {
        "id": "jNtE_aAHD72B"
      },
      "source": [
        "1) One can change SGD to SGLD by change the **arguments** in the privacy engine."
      ]
    },
    {
      "cell_type": "code",
      "metadata": {
        "colab": {
          "base_uri": "https://localhost:8080/"
        },
        "id": "1Oj-xssY1gec",
        "outputId": "6c2af44b-e856-436e-c371-0d8a4a509f43"
      },
      "source": [
        "!pip install opacus==0.13"
      ],
      "execution_count": null,
      "outputs": [
        {
          "output_type": "stream",
          "text": [
            "Collecting opacus==0.13\n",
            "\u001b[?25l  Downloading https://files.pythonhosted.org/packages/68/c4/36f07b54413e607f07858d5b668379991948f0de9979185a895fee9c2208/opacus-0.13.0-py3-none-any.whl (102kB)\n",
            "\u001b[K     |████████████████████████████████| 102kB 5.2MB/s \n",
            "\u001b[?25hRequirement already satisfied: numpy>=1.15 in /usr/local/lib/python3.7/dist-packages (from opacus==0.13) (1.19.5)\n",
            "Requirement already satisfied: torch>=1.3 in /usr/local/lib/python3.7/dist-packages (from opacus==0.13) (1.9.0+cu102)\n",
            "Requirement already satisfied: tqdm>=4.40 in /usr/local/lib/python3.7/dist-packages (from opacus==0.13) (4.41.1)\n",
            "Requirement already satisfied: torchvision>=0.9 in /usr/local/lib/python3.7/dist-packages (from opacus==0.13) (0.10.0+cu102)\n",
            "Requirement already satisfied: scipy>=1.2 in /usr/local/lib/python3.7/dist-packages (from opacus==0.13) (1.4.1)\n",
            "Collecting requests>=2.25.1\n",
            "\u001b[?25l  Downloading https://files.pythonhosted.org/packages/29/c1/24814557f1d22c56d50280771a17307e6bf87b70727d975fd6b2ce6b014a/requests-2.25.1-py2.py3-none-any.whl (61kB)\n",
            "\u001b[K     |████████████████████████████████| 61kB 7.4MB/s \n",
            "\u001b[?25hRequirement already satisfied: typing-extensions in /usr/local/lib/python3.7/dist-packages (from torch>=1.3->opacus==0.13) (3.7.4.3)\n",
            "Requirement already satisfied: pillow>=5.3.0 in /usr/local/lib/python3.7/dist-packages (from torchvision>=0.9->opacus==0.13) (7.1.2)\n",
            "Requirement already satisfied: idna<3,>=2.5 in /usr/local/lib/python3.7/dist-packages (from requests>=2.25.1->opacus==0.13) (2.10)\n",
            "Requirement already satisfied: certifi>=2017.4.17 in /usr/local/lib/python3.7/dist-packages (from requests>=2.25.1->opacus==0.13) (2021.5.30)\n",
            "Requirement already satisfied: chardet<5,>=3.0.2 in /usr/local/lib/python3.7/dist-packages (from requests>=2.25.1->opacus==0.13) (3.0.4)\n",
            "Requirement already satisfied: urllib3<1.27,>=1.21.1 in /usr/local/lib/python3.7/dist-packages (from requests>=2.25.1->opacus==0.13) (1.24.3)\n",
            "\u001b[31mERROR: google-colab 1.0.0 has requirement requests~=2.23.0, but you'll have requests 2.25.1 which is incompatible.\u001b[0m\n",
            "\u001b[31mERROR: datascience 0.10.6 has requirement folium==0.2.1, but you'll have folium 0.8.3 which is incompatible.\u001b[0m\n",
            "Installing collected packages: requests, opacus\n",
            "  Found existing installation: requests 2.23.0\n",
            "    Uninstalling requests-2.23.0:\n",
            "      Successfully uninstalled requests-2.23.0\n",
            "Successfully installed opacus-0.13.0 requests-2.25.1\n"
          ],
          "name": "stdout"
        }
      ]
    },
    {
      "cell_type": "code",
      "metadata": {
        "id": "CizBY2h30ozD"
      },
      "source": [
        "\"\"\"\n",
        "Runs MNIST training with differential privacy.\n",
        "\n",
        "\"\"\"\n",
        "\n",
        "\n",
        "import argparse\n",
        "\n",
        "import numpy as np\n",
        "import torch\n",
        "import torch.nn as nn\n",
        "import torch.nn.functional as F\n",
        "import torch.optim as optim\n",
        "from opacus import PrivacyEngine\n",
        "from torchvision import datasets, transforms\n",
        "from tqdm import tqdm\n",
        "import matplotlib.pyplot as plt\n",
        "\n",
        "# Precomputed characteristics of the MNIST dataset\n",
        "MNIST_MEAN = 0.1307\n",
        "MNIST_STD = 0.3081\n",
        "torch.manual_seed(218)\n",
        "torch.cuda.manual_seed(218)\n",
        "np.random.seed(218)\n",
        "\n",
        "#https://github.com/facebookresearch/pytorch-dp/blob/master/examples/mnist.py\n",
        "class SampleConvNet(nn.Module):\n",
        "    def __init__(self):\n",
        "        super().__init__()\n",
        "        self.conv1 = nn.Conv2d(1, 16, 8, 2, padding=3)\n",
        "        self.conv2 = nn.Conv2d(16, 32, 4, 2)\n",
        "        self.fc1 = nn.Linear(32 * 4 * 4, 32)\n",
        "        self.fc2 = nn.Linear(32, 10)\n",
        "\n",
        "    def forward(self, x):\n",
        "        # x of shape [B, 1, 28, 28]\n",
        "        x = F.relu(self.conv1(x))  # -> [B, 16, 14, 14]\n",
        "        x = F.max_pool2d(x, 2, 1)  # -> [B, 16, 13, 13]\n",
        "        x = F.relu(self.conv2(x))  # -> [B, 32, 5, 5]\n",
        "        x = F.max_pool2d(x, 2, 1)  # -> [B, 32, 4, 4]\n",
        "        x = x.view(-1, 32 * 4 * 4)  # -> [B, 512]\n",
        "        x = F.relu(self.fc1(x))  # -> [B, 32]\n",
        "        x = self.fc2(x)  # -> [B, 10]\n",
        "        return x\n",
        "\n",
        "    def name(self):\n",
        "        return \"MNISTConvNet\"\n",
        "\n",
        "\n",
        "class Linear_2L(nn.Module):\n",
        "    def __init__(self):\n",
        "        super(Linear_2L, self).__init__()\n",
        "                \n",
        "        self.fc1 = nn.Linear(784, 1200)\n",
        "        self.fc2 = nn.Linear(1200, 1200)\n",
        "        self.fc3 = nn.Linear(1200, 10)\n",
        "\n",
        "    def forward(self, x):\n",
        "\n",
        "        x = x.view(-1, 784) # view(batch_size, input_dim)\n",
        "        x = self.fc1(x)\n",
        "        x = F.relu(x)\n",
        "        x = self.fc2(x)\n",
        "        x = F.relu(x)\n",
        "        y = self.fc3(x)\n",
        "        return y\n",
        "    def name(self):\n",
        "        return \"2L\"\n",
        "    \n",
        "\n",
        "def train(args, model, device, train_loader, optimizer, epoch):\n",
        "    model.train()\n",
        "    criterion = nn.CrossEntropyLoss()\n",
        "    losses = []\n",
        "    for _batch_idx, (data, target) in enumerate(train_loader):\n",
        "        data, target = data.to(device), target.to(device)\n",
        "        optimizer.zero_grad()\n",
        "        output = model(data)\n",
        "        loss = criterion(output, target)\n",
        "        loss.backward()\n",
        "        optimizer.step()\n",
        "        losses.append(loss.item())\n",
        "\n",
        "    if not args.disable_dp:\n",
        "        epsilon, best_alpha = optimizer.privacy_engine.get_privacy_spent(args.delta)\n",
        "        print(\n",
        "            f\"Train Epoch: {epoch} \\t\"\n",
        "            f\"Loss: {np.mean(losses):.6f} \"\n",
        "            f\"(ε = {epsilon:.2f}, δ = {args.delta}) for α = {best_alpha}\"\n",
        "        )\n",
        "    else:\n",
        "       epsilon = 0\n",
        "       print(f\"Train Epoch: {epoch} \\t Loss: {np.mean(losses):.6f}\")\n",
        "    return np.mean(losses),epsilon\n",
        "\n",
        "def test(args, model, device, test_loader):\n",
        "    model.eval()\n",
        "    criterion = nn.CrossEntropyLoss()\n",
        "    test_loss = 0\n",
        "    correct = 0\n",
        "    with torch.no_grad():\n",
        "        for _batch_idx, (data, target) in enumerate(test_loader):\n",
        "            data, target = data.to(device), target.to(device)\n",
        "            output = model(data)\n",
        "            test_loss += criterion(output, target).item()/60000*args.test_batch_size  # sum up batch loss\n",
        "            pred = output.argmax(\n",
        "                dim=1, keepdim=True\n",
        "            )  # get the index of the max log-probability\n",
        "            correct += pred.eq(target.view_as(pred)).sum().item()\n",
        "\n",
        "    print(\n",
        "        \"\\nTest set: Average loss: {:.4f}, Accuracy: {}/{} ({:.4f}%)\\n\".format(\n",
        "            test_loss,\n",
        "            correct,\n",
        "            len(test_loader.dataset),\n",
        "            100.0 * correct / len(test_loader.dataset),\n",
        "        )\n",
        "    )\n",
        "    return test_loss,correct/len(test_loader.dataset)\n",
        "\n"
      ],
      "execution_count": null,
      "outputs": []
    },
    {
      "cell_type": "markdown",
      "metadata": {
        "id": "_NtG2ZaRDtEo"
      },
      "source": [
        "# dpsgd+2l+wd=0"
      ]
    },
    {
      "cell_type": "code",
      "metadata": {
        "colab": {
          "base_uri": "https://localhost:8080/",
          "height": 1000
        },
        "id": "j_yMSS-cAkao",
        "outputId": "e53ae998-bd3b-484f-ec45-71e9e87dbcec"
      },
      "source": [
        "class Args:\n",
        "  batch_size=256;\n",
        "  test_batch_size=1000;\n",
        "  epochs=15\n",
        "  n_runs=1\n",
        "  lr=0.25 # lr SGD\n",
        "  sigma=1.3\n",
        "  max_per_sample_grad_norm=1.5\n",
        "  delta=1e-5\n",
        "  device='cuda'\n",
        "  save_model=False\n",
        "  disable_dp=False\n",
        "  workers=2\n",
        "  data_root='/mnist'\n",
        "\n",
        "args = Args()\n",
        "device = torch.device(args.device)\n",
        "\n",
        "\n",
        "train_loader = torch.utils.data.DataLoader(\n",
        "    datasets.MNIST(\n",
        "        args.data_root,\n",
        "        train=True,\n",
        "        download=True,\n",
        "        transform=transforms.Compose(\n",
        "            [\n",
        "                transforms.ToTensor(),\n",
        "                transforms.Normalize((MNIST_MEAN,), (MNIST_STD,)),\n",
        "            ]\n",
        "        ),\n",
        "    ),\n",
        "    batch_size=args.batch_size,\n",
        "    shuffle=True,\n",
        ")\n",
        "test_loader = torch.utils.data.DataLoader(\n",
        "    datasets.MNIST(\n",
        "        args.data_root,\n",
        "        train=False,\n",
        "        transform=transforms.Compose(\n",
        "            [\n",
        "                transforms.ToTensor(),\n",
        "                transforms.Normalize((MNIST_MEAN,), (MNIST_STD,)),\n",
        "            ]\n",
        "        ),\n",
        "    ),\n",
        "    batch_size=args.test_batch_size,\n",
        "    shuffle=True,\n",
        ")\n",
        "        \n",
        "tr_loss = np.zeros((args.n_runs,args.epochs))\n",
        "te_loss = np.zeros((args.n_runs,args.epochs))\n",
        "te_accu = np.zeros((args.n_runs,args.epochs))\n",
        "eps = np.zeros((args.n_runs,args.epochs))\n",
        "for run in range(args.n_runs):\n",
        "    net = Linear_2L().to(device)\n",
        "\n",
        "    optimizer = optim.SGD(net.parameters(), lr=args.lr,weight_decay =0.0)\n",
        "    if not args.disable_dp:\n",
        "        privacy_engine = PrivacyEngine(\n",
        "            net,\n",
        "            batch_size=args.batch_size,\n",
        "            sample_size=len(train_loader.dataset),\n",
        "            alphas=[1 + x / 10.0 for x in range(1, 100)] + list(range(12, 64)),\n",
        "            noise_multiplier=1.3,\n",
        "            max_grad_norm=args.max_per_sample_grad_norm,\n",
        "        )\n",
        "        privacy_engine.attach(optimizer)\n",
        "    for epoch in range(1, args.epochs + 1):\n",
        "        tr_loss[run,epoch-1],eps[run,epoch-1]=train(args, net, device, train_loader, optimizer, epoch)\n",
        "        te_loss[run,epoch-1],te_accu[run,epoch-1]=test(args, net, device, test_loader)\n",
        "\n",
        "if args.n_runs > 1:\n",
        "    print('Training loss: ',np.mean(tr_loss,axis=0),np.std(tr_loss,axis=0))\n",
        "    print('Testing loss: ',np.mean(te_loss,axis=0),np.std(te_loss,axis=0))\n",
        "    print('Testing accuracy: ',np.mean(te_accu,axis=0),np.std(te_accu,axis=0))\n",
        "\n",
        "plt.plot(np.mean(eps,axis=0),np.mean(te_accu,axis=0))\n",
        "\n",
        "repro_str = (\n",
        "    f\"{net.name()}_{args.lr}_{args.sigma}_\"\n",
        "    f\"{args.max_per_sample_grad_norm}_{args.batch_size}_{args.epochs}_MNIST\"\n",
        ")\n",
        "torch.save([tr_loss,te_loss,te_accu,eps], f\"run_results_{repro_str}.pt\")\n"
      ],
      "execution_count": null,
      "outputs": [
        {
          "output_type": "stream",
          "text": [
            "/usr/local/lib/python3.7/dist-packages/opacus/privacy_engine.py:518: UserWarning: The sample rate will be defined from ``batch_size`` and ``sample_size``.The returned privacy budget will be incorrect.\n",
            "  \"The sample rate will be defined from ``batch_size`` and ``sample_size``.\"\n",
            "/usr/local/lib/python3.7/dist-packages/opacus/privacy_engine.py:195: UserWarning: Secure RNG turned off. This is perfectly fine for experimentation as it allows for much faster training performance, but remember to turn it on and retrain one last time before production with ``secure_rng`` turned on.\n",
            "  \"Secure RNG turned off. This is perfectly fine for experimentation as it allows \"\n",
            "/usr/local/lib/python3.7/dist-packages/torch/nn/modules/module.py:974: UserWarning: Using a non-full backward hook when the forward contains multiple autograd Nodes is deprecated and will be removed in future versions. This hook will be missing some grad_input. Please use register_full_backward_hook to get the documented behavior.\n",
            "  warnings.warn(\"Using a non-full backward hook when the forward contains multiple autograd Nodes \"\n"
          ],
          "name": "stderr"
        },
        {
          "output_type": "stream",
          "text": [
            "Train Epoch: 1 \tLoss: 0.722246 (ε = 0.72, δ = 1e-05) for α = 18.0\n",
            "\n",
            "Test set: Average loss: 0.0672, Accuracy: 8834/10000 (88.3400%)\n",
            "\n",
            "Train Epoch: 2 \tLoss: 0.426222 (ε = 0.76, δ = 1e-05) for α = 18.0\n",
            "\n",
            "Test set: Average loss: 0.0693, Accuracy: 9012/10000 (90.1200%)\n",
            "\n",
            "Train Epoch: 3 \tLoss: 0.460438 (ε = 0.80, δ = 1e-05) for α = 18.0\n",
            "\n",
            "Test set: Average loss: 0.0792, Accuracy: 9034/10000 (90.3400%)\n",
            "\n",
            "Train Epoch: 4 \tLoss: 0.494149 (ε = 0.84, δ = 1e-05) for α = 18.0\n",
            "\n",
            "Test set: Average loss: 0.0837, Accuracy: 9061/10000 (90.6100%)\n",
            "\n",
            "Train Epoch: 5 \tLoss: 0.560830 (ε = 0.88, δ = 1e-05) for α = 17.0\n",
            "\n",
            "Test set: Average loss: 0.0968, Accuracy: 9011/10000 (90.1100%)\n",
            "\n",
            "Train Epoch: 6 \tLoss: 0.617628 (ε = 0.91, δ = 1e-05) for α = 17.0\n",
            "\n",
            "Test set: Average loss: 0.1169, Accuracy: 8930/10000 (89.3000%)\n",
            "\n",
            "Train Epoch: 7 \tLoss: 0.714312 (ε = 0.94, δ = 1e-05) for α = 17.0\n",
            "\n",
            "Test set: Average loss: 0.1330, Accuracy: 8903/10000 (89.0300%)\n",
            "\n",
            "Train Epoch: 8 \tLoss: 0.811196 (ε = 0.97, δ = 1e-05) for α = 17.0\n",
            "\n",
            "Test set: Average loss: 0.1470, Accuracy: 8919/10000 (89.1900%)\n",
            "\n",
            "Train Epoch: 9 \tLoss: 0.936367 (ε = 1.00, δ = 1e-05) for α = 17.0\n",
            "\n",
            "Test set: Average loss: 0.1617, Accuracy: 8927/10000 (89.2700%)\n",
            "\n",
            "Train Epoch: 10 \tLoss: 1.043557 (ε = 1.04, δ = 1e-05) for α = 17.0\n",
            "\n",
            "Test set: Average loss: 0.1811, Accuracy: 8889/10000 (88.8900%)\n",
            "\n",
            "Train Epoch: 11 \tLoss: 1.127089 (ε = 1.07, δ = 1e-05) for α = 17.0\n",
            "\n",
            "Test set: Average loss: 0.1924, Accuracy: 8906/10000 (89.0600%)\n",
            "\n",
            "Train Epoch: 12 \tLoss: 1.255669 (ε = 1.10, δ = 1e-05) for α = 17.0\n",
            "\n",
            "Test set: Average loss: 0.2196, Accuracy: 8864/10000 (88.6400%)\n",
            "\n",
            "Train Epoch: 13 \tLoss: 1.398508 (ε = 1.13, δ = 1e-05) for α = 17.0\n",
            "\n",
            "Test set: Average loss: 0.2482, Accuracy: 8813/10000 (88.1300%)\n",
            "\n",
            "Train Epoch: 14 \tLoss: 1.549107 (ε = 1.16, δ = 1e-05) for α = 17.0\n",
            "\n",
            "Test set: Average loss: 0.2584, Accuracy: 8869/10000 (88.6900%)\n",
            "\n",
            "Train Epoch: 15 \tLoss: 1.665324 (ε = 1.19, δ = 1e-05) for α = 17.0\n",
            "\n",
            "Test set: Average loss: 0.2920, Accuracy: 8808/10000 (88.0800%)\n",
            "\n"
          ],
          "name": "stdout"
        },
        {
          "output_type": "display_data",
          "data": {
            "image/png": "[encoded data removed]",
            "text/plain": [
              "<Figure size 432x288 with 1 Axes>"
            ]
          },
          "metadata": {
            "tags": [],
            "needs_background": "light"
          }
        }
      ]
    },
    {
      "cell_type": "code",
      "metadata": {
        "colab": {
          "base_uri": "https://localhost:8080/",
          "height": 334
        },
        "id": "LoEh-R0tGyHX",
        "outputId": "931c3c26-5f7b-4613-c9a3-b18a3cf6a338"
      },
      "source": [
        "model_local=net\n",
        "model_local.eval()\n",
        "y_local_te=np.empty((0,10))\n",
        "y_local_te_single=np.array([])\n",
        "targets_te=np.array([])\n",
        "prob_local=np.array([])\n",
        "with torch.no_grad():\n",
        "        for data, target in tqdm(test_loader):\n",
        "            data, target = data.to(device), target.to(device)\n",
        "            output = model_local(data)\n",
        "            y_local_te=np.append(y_local_te,F.softmax(output,dim=1).cpu().detach().numpy(),axis=0)\n",
        "            y_local_te_single=np.append(y_local_te_single,F.softmax(output,dim=1).argmax(dim=1).cpu().detach().numpy())\n",
        "            prob_local=np.append(prob_local,np.array([F.softmax(output,dim=1).cpu().detach().numpy()[i,j] for i,j in enumerate(target.cpu().detach().numpy())]))\n",
        "            targets_te=np.append(targets_te,target.cpu().detach().numpy())\n",
        "\n",
        "\n",
        "local_acc = np.mean(y_local_te_single == targets_te)\n",
        "print(\"######## ECE: ##############\")\n",
        "print(f\"Local accuracy: {local_acc}, predicted confidence {np.mean(np.max(y_local_te,axis=1))}, ECE {np.abs(local_acc - np.mean(np.max(y_local_te,axis=1)))}\")\n",
        "\n",
        "\n",
        "plt.plot(0,0,linestyle='dashed',color='black')\n",
        "plt.plot(0,0,color='black')\n",
        "plt.plot(0,0,color='#ff7f0e')\n",
        "plt.plot([np.mean(targets_te==y_local_te_single)]*20,np.linspace(0,1500,20),linestyle='dashed',color='#ff7f0e',label='local Accu')\n",
        "plt.plot([np.mean(np.max(y_local_te,axis=1))]*20,np.linspace(0,1500,20),color='#ff7f0e')\n",
        "\n",
        "plt.hist([np.max(y_local_te,axis=1)],bins=30)\n",
        "plt.ylim(0,1500)\n",
        "plt.xlim(0,1)\n",
        "plt.xlabel('Confidence', fontsize=15)\n",
        "plt.ylabel('Number of Samples', fontsize=15)\n",
        "plt.legend(('Accuracy','Avg Confidence',r'DP-SGD${}_{global}$',r'DP-SGD${}_{local}$'),fontsize=13,loc='upper left',frameon=False)\n",
        "plt.savefig('Confidence_CIFAR10.pdf',format='pdf')\n",
        "plt.show()\n"
      ],
      "execution_count": null,
      "outputs": [
        {
          "output_type": "stream",
          "text": [
            "100%|██████████| 10/10 [00:01<00:00,  5.79it/s]\n"
          ],
          "name": "stderr"
        },
        {
          "output_type": "stream",
          "text": [
            "######## ECE: ##############\n",
            "Local accuracy: 0.8808, predicted confidence 0.9863048032104968, ECE 0.10550480321049682\n"
          ],
          "name": "stdout"
        },
        {
          "output_type": "display_data",
          "data": {
            "image/png": "[encoded data removed]",
            "text/plain": [
              "<Figure size 432x288 with 1 Axes>"
            ]
          },
          "metadata": {
            "tags": [],
            "needs_background": "light"
          }
        }
      ]
    },
    {
      "cell_type": "code",
      "metadata": {
        "id": "aW0IaSr407js",
        "colab": {
          "base_uri": "https://localhost:8080/",
          "height": 389
        },
        "outputId": "6767c690-a1de-4ce0-d4eb-8f387f67de3d"
      },
      "source": [
        "store_local=[]\n",
        "templ=np.max(y_local_te,axis=1)\n",
        "dr=0.05\n",
        "for ratio in np.arange(0,1,dr):\n",
        "    index=(templ>ratio)*(templ<ratio+dr)\n",
        "    store_local.append(np.mean(y_local_te_single[index]==targets_te[index]))\n",
        "\n",
        "# some has nan, replace with 0\n",
        "store_local=np.array(store_local)\n",
        "store_local[np.isnan(store_local)]=0\n",
        "#%%\n",
        "xaxis=np.arange(0,1,dr)+dr/2\n",
        "plt.bar(xaxis[store_local!=0],store_local[store_local!=0],width=dr, edgecolor=\"black\")\n",
        "plt.bar(xaxis[store_local!=0],xaxis[store_local!=0]-store_local[store_local!=0],bottom=store_local[store_local!=0],width=dr, edgecolor=\"black\",color='yellow',alpha=0.5)\n",
        "plt.bar(10,10,bottom=store_local,width=dr, edgecolor=\"black\",color='green',alpha=0.5)\n",
        "plt.plot([0,1],[0,1],color='black',linewidth=2,linestyle='dashed')\n",
        "plt.xlim(0,1)\n",
        "plt.ylim(0,1)\n",
        "plt.xlabel('Confidence', fontsize=15)\n",
        "plt.ylabel('Accuracy', fontsize=15)\n",
        "#plt.legend(('Perfect calibration','Accuracy','Over-confidence','Under-confidence'),fontsize=13,frameon=0)\n",
        "plt.savefig('Confidence_CIFAR10_detail_LOCAL.pdf',format='pdf')\n",
        "plt.show()\n",
        "#%%\n",
        "print(\"######## MCE: ##############\")\n",
        "print(f\"Local MCE: {np.max(np.abs(xaxis[store_local!=0]-store_local[store_local!=0]))}\")\n"
      ],
      "execution_count": null,
      "outputs": [
        {
          "output_type": "stream",
          "text": [
            "/usr/local/lib/python3.7/dist-packages/numpy/core/fromnumeric.py:3373: RuntimeWarning: Mean of empty slice.\n",
            "  out=out, **kwargs)\n",
            "/usr/local/lib/python3.7/dist-packages/numpy/core/_methods.py:170: RuntimeWarning: invalid value encountered in double_scalars\n",
            "  ret = ret.dtype.type(ret / rcount)\n"
          ],
          "name": "stderr"
        },
        {
          "output_type": "display_data",
          "data": {
            "image/png": "[encoded data removed]",
            "text/plain": [
              "<Figure size 432x288 with 1 Axes>"
            ]
          },
          "metadata": {
            "tags": [],
            "needs_background": "light"
          }
        },
        {
          "output_type": "stream",
          "text": [
            "######## MCE: ##############\n",
            "Local MCE: 0.625\n"
          ],
          "name": "stdout"
        }
      ]
    },
    {
      "cell_type": "markdown",
      "metadata": {
        "id": "4a8UuU-bw1e3"
      },
      "source": [
        "# ndpsgd + 2l + wd = 0"
      ]
    },
    {
      "cell_type": "code",
      "metadata": {
        "colab": {
          "base_uri": "https://localhost:8080/",
          "height": 1000
        },
        "id": "vZimDLY-wxt4",
        "outputId": "88bbc0bb-402e-41f4-a4a2-c6d35d3f0110"
      },
      "source": [
        "class Args:\n",
        "  batch_size=256;\n",
        "  test_batch_size=1000;\n",
        "  epochs=15\n",
        "  n_runs=1\n",
        "  lr=0.25 # lr SGD\n",
        "  sigma=1.3\n",
        "  max_per_sample_grad_norm=1.5\n",
        "  delta=1e-5\n",
        "  device='cuda'\n",
        "  save_model=False\n",
        "  disable_dp=True\n",
        "  workers=2\n",
        "  data_root='/mnist'\n",
        "\n",
        "args = Args()\n",
        "device = torch.device(args.device)\n",
        "\n",
        "\n",
        "train_loader = torch.utils.data.DataLoader(\n",
        "    datasets.MNIST(\n",
        "        args.data_root,\n",
        "        train=True,\n",
        "        download=True,\n",
        "        transform=transforms.Compose(\n",
        "            [\n",
        "                transforms.ToTensor(),\n",
        "                transforms.Normalize((MNIST_MEAN,), (MNIST_STD,)),\n",
        "            ]\n",
        "        ),\n",
        "    ),\n",
        "    batch_size=args.batch_size,\n",
        "    shuffle=True,\n",
        ")\n",
        "test_loader = torch.utils.data.DataLoader(\n",
        "    datasets.MNIST(\n",
        "        args.data_root,\n",
        "        train=False,\n",
        "        transform=transforms.Compose(\n",
        "            [\n",
        "                transforms.ToTensor(),\n",
        "                transforms.Normalize((MNIST_MEAN,), (MNIST_STD,)),\n",
        "            ]\n",
        "        ),\n",
        "    ),\n",
        "    batch_size=args.test_batch_size,\n",
        "    shuffle=True,\n",
        ")\n",
        "        \n",
        "tr_loss = np.zeros((args.n_runs,args.epochs))\n",
        "te_loss = np.zeros((args.n_runs,args.epochs))\n",
        "te_accu = np.zeros((args.n_runs,args.epochs))\n",
        "eps = np.zeros((args.n_runs,args.epochs))\n",
        "for run in range(args.n_runs):\n",
        "    net = Linear_2L().to(device)\n",
        "\n",
        "    optimizer = optim.SGD(net.parameters(), lr=args.lr,weight_decay =0.0)\n",
        "    if not args.disable_dp:\n",
        "        privacy_engine = PrivacyEngine(\n",
        "            net,\n",
        "            batch_size=args.batch_size,\n",
        "            sample_size=len(train_loader.dataset),\n",
        "            alphas=[1 + x / 10.0 for x in range(1, 100)] + list(range(12, 64)),\n",
        "            noise_multiplier=1.3,\n",
        "            max_grad_norm=args.max_per_sample_grad_norm,\n",
        "        )\n",
        "        privacy_engine.attach(optimizer)\n",
        "    for epoch in range(1, args.epochs + 1):\n",
        "        tr_loss[run,epoch-1],eps[run,epoch-1]=train(args, net, device, train_loader, optimizer, epoch)\n",
        "        te_loss[run,epoch-1],te_accu[run,epoch-1]=test(args, net, device, test_loader)\n",
        "\n",
        "if args.n_runs > 1:\n",
        "    print('Training loss: ',np.mean(tr_loss,axis=0),np.std(tr_loss,axis=0))\n",
        "    print('Testing loss: ',np.mean(te_loss,axis=0),np.std(te_loss,axis=0))\n",
        "    print('Testing accuracy: ',np.mean(te_accu,axis=0),np.std(te_accu,axis=0))\n",
        "\n",
        "plt.plot(np.mean(eps,axis=0),np.mean(te_accu,axis=0))\n",
        "\n",
        "repro_str = (\n",
        "    f\"{net.name()}_{args.lr}_{args.sigma}_\"\n",
        "    f\"{args.max_per_sample_grad_norm}_{args.batch_size}_{args.epochs}_MNIST\"\n",
        ")\n",
        "torch.save([tr_loss,te_loss,te_accu,eps], f\"run_results_{repro_str}.pt\")\n"
      ],
      "execution_count": null,
      "outputs": [
        {
          "output_type": "stream",
          "text": [
            "Train Epoch: 1 \t Loss: 0.336618\n",
            "\n",
            "Test set: Average loss: 0.0260, Accuracy: 9502/10000 (95.0200%)\n",
            "\n",
            "Train Epoch: 2 \t Loss: 0.113570\n",
            "\n",
            "Test set: Average loss: 0.0203, Accuracy: 9614/10000 (96.1400%)\n",
            "\n",
            "Train Epoch: 3 \t Loss: 0.073954\n",
            "\n",
            "Test set: Average loss: 0.0167, Accuracy: 9695/10000 (96.9500%)\n",
            "\n",
            "Train Epoch: 4 \t Loss: 0.051253\n",
            "\n",
            "Test set: Average loss: 0.0181, Accuracy: 9655/10000 (96.5500%)\n",
            "\n",
            "Train Epoch: 5 \t Loss: 0.036439\n",
            "\n",
            "Test set: Average loss: 0.0171, Accuracy: 9675/10000 (96.7500%)\n",
            "\n",
            "Train Epoch: 6 \t Loss: 0.026074\n",
            "\n",
            "Test set: Average loss: 0.0120, Accuracy: 9783/10000 (97.8300%)\n",
            "\n",
            "Train Epoch: 7 \t Loss: 0.018411\n",
            "\n",
            "Test set: Average loss: 0.0098, Accuracy: 9814/10000 (98.1400%)\n",
            "\n",
            "Train Epoch: 8 \t Loss: 0.013227\n",
            "\n",
            "Test set: Average loss: 0.0113, Accuracy: 9799/10000 (97.9900%)\n",
            "\n",
            "Train Epoch: 9 \t Loss: 0.009184\n",
            "\n",
            "Test set: Average loss: 0.0097, Accuracy: 9825/10000 (98.2500%)\n",
            "\n",
            "Train Epoch: 10 \t Loss: 0.006422\n",
            "\n",
            "Test set: Average loss: 0.0126, Accuracy: 9786/10000 (97.8600%)\n",
            "\n",
            "Train Epoch: 11 \t Loss: 0.532137\n",
            "\n",
            "Test set: Average loss: 0.0164, Accuracy: 9689/10000 (96.8900%)\n",
            "\n",
            "Train Epoch: 12 \t Loss: 0.059116\n",
            "\n",
            "Test set: Average loss: 0.0140, Accuracy: 9741/10000 (97.4100%)\n",
            "\n",
            "Train Epoch: 13 \t Loss: 0.035585\n",
            "\n",
            "Test set: Average loss: 0.0122, Accuracy: 9761/10000 (97.6100%)\n",
            "\n",
            "Train Epoch: 14 \t Loss: 0.023372\n",
            "\n",
            "Test set: Average loss: 0.0123, Accuracy: 9782/10000 (97.8200%)\n",
            "\n",
            "Train Epoch: 15 \t Loss: 0.015620\n",
            "\n",
            "Test set: Average loss: 0.0131, Accuracy: 9763/10000 (97.6300%)\n",
            "\n"
          ],
          "name": "stdout"
        },
        {
          "output_type": "display_data",
          "data": {
            "image/png": "[encoded data removed]",
            "text/plain": [
              "<Figure size 432x288 with 1 Axes>"
            ]
          },
          "metadata": {
            "tags": [],
            "needs_background": "light"
          }
        }
      ]
    },
    {
      "cell_type": "code",
      "metadata": {
        "colab": {
          "base_uri": "https://localhost:8080/",
          "height": 334
        },
        "id": "Tw54vlS6w8J1",
        "outputId": "946f4370-504f-4d27-9be7-a514e099e815"
      },
      "source": [
        "model_local=net\n",
        "model_local.eval()\n",
        "y_local_te=np.empty((0,10))\n",
        "y_local_te_single=np.array([])\n",
        "targets_te=np.array([])\n",
        "prob_local=np.array([])\n",
        "with torch.no_grad():\n",
        "        for data, target in tqdm(test_loader):\n",
        "            data, target = data.to(device), target.to(device)\n",
        "            output = model_local(data)\n",
        "            y_local_te=np.append(y_local_te,F.softmax(output,dim=1).cpu().detach().numpy(),axis=0)\n",
        "            y_local_te_single=np.append(y_local_te_single,F.softmax(output,dim=1).argmax(dim=1).cpu().detach().numpy())\n",
        "            prob_local=np.append(prob_local,np.array([F.softmax(output,dim=1).cpu().detach().numpy()[i,j] for i,j in enumerate(target.cpu().detach().numpy())]))\n",
        "            targets_te=np.append(targets_te,target.cpu().detach().numpy())\n",
        "\n",
        "\n",
        "local_acc = np.mean(y_local_te_single == targets_te)\n",
        "print(\"######## ECE: ##############\")\n",
        "print(f\"Local accuracy: {local_acc}, predicted confidence {np.mean(np.max(y_local_te,axis=1))}, ECE {np.abs(local_acc - np.mean(np.max(y_local_te,axis=1)))}\")\n",
        "\n",
        "\n",
        "plt.plot(0,0,linestyle='dashed',color='black')\n",
        "plt.plot(0,0,color='black')\n",
        "plt.plot(0,0,color='#ff7f0e')\n",
        "plt.plot([np.mean(targets_te==y_local_te_single)]*20,np.linspace(0,1500,20),linestyle='dashed',color='#ff7f0e',label='local Accu')\n",
        "plt.plot([np.mean(np.max(y_local_te,axis=1))]*20,np.linspace(0,1500,20),color='#ff7f0e')\n",
        "\n",
        "plt.hist([np.max(y_local_te,axis=1)],bins=30)\n",
        "plt.ylim(0,1500)\n",
        "plt.xlim(0,1)\n",
        "plt.xlabel('Confidence', fontsize=15)\n",
        "plt.ylabel('Number of Samples', fontsize=15)\n",
        "plt.legend(('Accuracy','Avg Confidence',r'DP-SGD${}_{global}$',r'DP-SGD${}_{local}$'),fontsize=13,loc='upper left',frameon=False)\n",
        "plt.savefig('Confidence_CIFAR10.pdf',format='pdf')\n",
        "plt.show()\n"
      ],
      "execution_count": null,
      "outputs": [
        {
          "output_type": "stream",
          "text": [
            "100%|██████████| 10/10 [00:01<00:00,  6.29it/s]\n"
          ],
          "name": "stderr"
        },
        {
          "output_type": "stream",
          "text": [
            "######## ECE: ##############\n",
            "Local accuracy: 0.9763, predicted confidence 0.9814768038004636, ECE 0.005176803800463703\n"
          ],
          "name": "stdout"
        },
        {
          "output_type": "display_data",
          "data": {
            "image/png": "[encoded data removed]",
            "text/plain": [
              "<Figure size 432x288 with 1 Axes>"
            ]
          },
          "metadata": {
            "tags": [],
            "needs_background": "light"
          }
        }
      ]
    },
    {
      "cell_type": "code",
      "metadata": {
        "colab": {
          "base_uri": "https://localhost:8080/",
          "height": 389
        },
        "id": "QpAjz2ysw-98",
        "outputId": "5a3c718a-96b9-4aed-9333-71aa0cadb241"
      },
      "source": [
        "store_local=[]\n",
        "templ=np.max(y_local_te,axis=1)\n",
        "dr=0.05\n",
        "for ratio in np.arange(0,1,dr):\n",
        "    index=(templ>ratio)*(templ<ratio+dr)\n",
        "    store_local.append(np.mean(y_local_te_single[index]==targets_te[index]))\n",
        "\n",
        "# some has nan, replace with 0\n",
        "store_local=np.array(store_local)\n",
        "store_local[np.isnan(store_local)]=0\n",
        "#%%\n",
        "xaxis=np.arange(0,1,dr)+dr/2\n",
        "plt.bar(xaxis[store_local!=0],store_local[store_local!=0],width=dr, edgecolor=\"black\")\n",
        "plt.bar(xaxis[store_local!=0],xaxis[store_local!=0]-store_local[store_local!=0],bottom=store_local[store_local!=0],width=dr, edgecolor=\"black\",color='yellow',alpha=0.5)\n",
        "plt.bar(10,10,bottom=store_local,width=dr, edgecolor=\"black\",color='green',alpha=0.5)\n",
        "plt.plot([0,1],[0,1],color='black',linewidth=2,linestyle='dashed')\n",
        "plt.xlim(0,1)\n",
        "plt.ylim(0,1)\n",
        "plt.xlabel('Confidence', fontsize=15)\n",
        "plt.ylabel('Accuracy', fontsize=15)\n",
        "#plt.legend(('Perfect calibration','Accuracy','Over-confidence','Under-confidence'),fontsize=13,frameon=0)\n",
        "plt.savefig('Confidence_CIFAR10_detail_LOCAL.pdf',format='pdf')\n",
        "plt.show()\n",
        "#%%\n",
        "print(\"######## MCE: ##############\")\n",
        "print(f\"Local MCE: {np.max(np.abs(xaxis[store_local!=0]-store_local[store_local!=0]))}\")\n"
      ],
      "execution_count": null,
      "outputs": [
        {
          "output_type": "stream",
          "text": [
            "/usr/local/lib/python3.7/dist-packages/numpy/core/fromnumeric.py:3373: RuntimeWarning: Mean of empty slice.\n",
            "  out=out, **kwargs)\n",
            "/usr/local/lib/python3.7/dist-packages/numpy/core/_methods.py:170: RuntimeWarning: invalid value encountered in double_scalars\n",
            "  ret = ret.dtype.type(ret / rcount)\n"
          ],
          "name": "stderr"
        },
        {
          "output_type": "display_data",
          "data": {
            "image/png": "[encoded data removed]",
            "text/plain": [
              "<Figure size 432x288 with 1 Axes>"
            ]
          },
          "metadata": {
            "tags": [],
            "needs_background": "light"
          }
        },
        {
          "output_type": "stream",
          "text": [
            "######## MCE: ##############\n",
            "Local MCE: 0.29852941176470593\n"
          ],
          "name": "stdout"
        }
      ]
    },
    {
      "cell_type": "markdown",
      "metadata": {
        "id": "I5ojgJo80XSg"
      },
      "source": [
        "# ndpsgd + cnn + wd = 0"
      ]
    },
    {
      "cell_type": "code",
      "metadata": {
        "colab": {
          "base_uri": "https://localhost:8080/",
          "height": 1000
        },
        "id": "dUP4wJcE0PM2",
        "outputId": "6f6d4ffa-d179-480d-d233-1fa83dbfb973"
      },
      "source": [
        "class Args:\n",
        "  batch_size=256;\n",
        "  test_batch_size=1000;\n",
        "  epochs=15\n",
        "  n_runs=1\n",
        "  lr=0.25 # lr SGD\n",
        "  sigma=1.3\n",
        "  max_per_sample_grad_norm=1.5\n",
        "  delta=1e-5\n",
        "  device='cuda'\n",
        "  save_model=False\n",
        "  disable_dp=True\n",
        "  workers=2\n",
        "  data_root='/mnist'\n",
        "\n",
        "args = Args()\n",
        "device = torch.device(args.device)\n",
        "\n",
        "\n",
        "train_loader = torch.utils.data.DataLoader(\n",
        "    datasets.MNIST(\n",
        "        args.data_root,\n",
        "        train=True,\n",
        "        download=True,\n",
        "        transform=transforms.Compose(\n",
        "            [\n",
        "                transforms.ToTensor(),\n",
        "                transforms.Normalize((MNIST_MEAN,), (MNIST_STD,)),\n",
        "            ]\n",
        "        ),\n",
        "    ),\n",
        "    batch_size=args.batch_size,\n",
        "    shuffle=True,\n",
        ")\n",
        "test_loader = torch.utils.data.DataLoader(\n",
        "    datasets.MNIST(\n",
        "        args.data_root,\n",
        "        train=False,\n",
        "        transform=transforms.Compose(\n",
        "            [\n",
        "                transforms.ToTensor(),\n",
        "                transforms.Normalize((MNIST_MEAN,), (MNIST_STD,)),\n",
        "            ]\n",
        "        ),\n",
        "    ),\n",
        "    batch_size=args.test_batch_size,\n",
        "    shuffle=True,\n",
        ")\n",
        "        \n",
        "tr_loss = np.zeros((args.n_runs,args.epochs))\n",
        "te_loss = np.zeros((args.n_runs,args.epochs))\n",
        "te_accu = np.zeros((args.n_runs,args.epochs))\n",
        "eps = np.zeros((args.n_runs,args.epochs))\n",
        "for run in range(args.n_runs):\n",
        "    net = SampleConvNet().to(device)\n",
        "\n",
        "    optimizer = optim.SGD(net.parameters(), lr=args.lr,weight_decay =0.0)\n",
        "    if not args.disable_dp:\n",
        "        privacy_engine = PrivacyEngine(\n",
        "            net,\n",
        "            batch_size=args.batch_size,\n",
        "            sample_size=len(train_loader.dataset),\n",
        "            alphas=[1 + x / 10.0 for x in range(1, 100)] + list(range(12, 64)),\n",
        "            noise_multiplier=1.3,\n",
        "            max_grad_norm=args.max_per_sample_grad_norm,\n",
        "        )\n",
        "        privacy_engine.attach(optimizer)\n",
        "    for epoch in range(1, args.epochs + 1):\n",
        "        tr_loss[run,epoch-1],eps[run,epoch-1]=train(args, net, device, train_loader, optimizer, epoch)\n",
        "        te_loss[run,epoch-1],te_accu[run,epoch-1]=test(args, net, device, test_loader)\n",
        "\n",
        "if args.n_runs > 1:\n",
        "    print('Training loss: ',np.mean(tr_loss,axis=0),np.std(tr_loss,axis=0))\n",
        "    print('Testing loss: ',np.mean(te_loss,axis=0),np.std(te_loss,axis=0))\n",
        "    print('Testing accuracy: ',np.mean(te_accu,axis=0),np.std(te_accu,axis=0))\n",
        "\n",
        "plt.plot(np.mean(eps,axis=0),np.mean(te_accu,axis=0))\n",
        "\n",
        "repro_str = (\n",
        "    f\"{net.name()}_{args.lr}_{args.sigma}_\"\n",
        "    f\"{args.max_per_sample_grad_norm}_{args.batch_size}_{args.epochs}_MNIST\"\n",
        ")\n",
        "torch.save([tr_loss,te_loss,te_accu,eps], f\"run_results_{repro_str}.pt\")\n"
      ],
      "execution_count": null,
      "outputs": [
        {
          "output_type": "stream",
          "text": [
            "Train Epoch: 1 \t Loss: 1.090641\n",
            "\n",
            "Test set: Average loss: 0.0242, Accuracy: 9518/10000 (95.1800%)\n",
            "\n",
            "Train Epoch: 2 \t Loss: 0.117897\n",
            "\n",
            "Test set: Average loss: 0.0194, Accuracy: 9606/10000 (96.0600%)\n",
            "\n",
            "Train Epoch: 3 \t Loss: 0.080468\n",
            "\n",
            "Test set: Average loss: 0.0223, Accuracy: 9567/10000 (95.6700%)\n",
            "\n",
            "Train Epoch: 4 \t Loss: 0.060782\n",
            "\n",
            "Test set: Average loss: 0.0080, Accuracy: 9852/10000 (98.5200%)\n",
            "\n",
            "Train Epoch: 5 \t Loss: 0.051268\n",
            "\n",
            "Test set: Average loss: 0.0075, Accuracy: 9857/10000 (98.5700%)\n",
            "\n",
            "Train Epoch: 6 \t Loss: 0.045990\n",
            "\n",
            "Test set: Average loss: 0.0081, Accuracy: 9845/10000 (98.4500%)\n",
            "\n",
            "Train Epoch: 7 \t Loss: 0.038956\n",
            "\n",
            "Test set: Average loss: 0.0063, Accuracy: 9875/10000 (98.7500%)\n",
            "\n",
            "Train Epoch: 8 \t Loss: 0.038857\n",
            "\n",
            "Test set: Average loss: 0.0076, Accuracy: 9861/10000 (98.6100%)\n",
            "\n",
            "Train Epoch: 9 \t Loss: 0.032556\n",
            "\n",
            "Test set: Average loss: 0.0066, Accuracy: 9872/10000 (98.7200%)\n",
            "\n",
            "Train Epoch: 10 \t Loss: 0.031109\n",
            "\n",
            "Test set: Average loss: 0.0123, Accuracy: 9772/10000 (97.7200%)\n",
            "\n",
            "Train Epoch: 11 \t Loss: 0.028584\n",
            "\n",
            "Test set: Average loss: 0.0069, Accuracy: 9875/10000 (98.7500%)\n",
            "\n",
            "Train Epoch: 12 \t Loss: 0.025960\n",
            "\n",
            "Test set: Average loss: 0.0071, Accuracy: 9867/10000 (98.6700%)\n",
            "\n",
            "Train Epoch: 13 \t Loss: 0.024157\n",
            "\n",
            "Test set: Average loss: 0.0072, Accuracy: 9867/10000 (98.6700%)\n",
            "\n",
            "Train Epoch: 14 \t Loss: 0.023786\n",
            "\n",
            "Test set: Average loss: 0.0086, Accuracy: 9844/10000 (98.4400%)\n",
            "\n",
            "Train Epoch: 15 \t Loss: 0.022943\n",
            "\n",
            "Test set: Average loss: 0.0206, Accuracy: 9677/10000 (96.7700%)\n",
            "\n"
          ],
          "name": "stdout"
        },
        {
          "output_type": "display_data",
          "data": {
            "image/png": "[encoded data removed]",
            "text/plain": [
              "<Figure size 432x288 with 1 Axes>"
            ]
          },
          "metadata": {
            "tags": [],
            "needs_background": "light"
          }
        }
      ]
    },
    {
      "cell_type": "code",
      "metadata": {
        "colab": {
          "base_uri": "https://localhost:8080/",
          "height": 334
        },
        "id": "QrSrAsu30cfs",
        "outputId": "312fed63-d021-4d8a-802f-4b91e30699a9"
      },
      "source": [
        "model_local=net\n",
        "model_local.eval()\n",
        "y_local_te=np.empty((0,10))\n",
        "y_local_te_single=np.array([])\n",
        "targets_te=np.array([])\n",
        "prob_local=np.array([])\n",
        "with torch.no_grad():\n",
        "        for data, target in tqdm(test_loader):\n",
        "            data, target = data.to(device), target.to(device)\n",
        "            output = model_local(data)\n",
        "            y_local_te=np.append(y_local_te,F.softmax(output,dim=1).cpu().detach().numpy(),axis=0)\n",
        "            y_local_te_single=np.append(y_local_te_single,F.softmax(output,dim=1).argmax(dim=1).cpu().detach().numpy())\n",
        "            prob_local=np.append(prob_local,np.array([F.softmax(output,dim=1).cpu().detach().numpy()[i,j] for i,j in enumerate(target.cpu().detach().numpy())]))\n",
        "            targets_te=np.append(targets_te,target.cpu().detach().numpy())\n",
        "\n",
        "\n",
        "local_acc = np.mean(y_local_te_single == targets_te)\n",
        "print(\"######## ECE: ##############\")\n",
        "print(f\"Local accuracy: {local_acc}, predicted confidence {np.mean(np.max(y_local_te,axis=1))}, ECE {np.abs(local_acc - np.mean(np.max(y_local_te,axis=1)))}\")\n",
        "\n",
        "\n",
        "plt.plot(0,0,linestyle='dashed',color='black')\n",
        "plt.plot(0,0,color='black')\n",
        "plt.plot(0,0,color='#ff7f0e')\n",
        "plt.plot([np.mean(targets_te==y_local_te_single)]*20,np.linspace(0,1500,20),linestyle='dashed',color='#ff7f0e',label='local Accu')\n",
        "plt.plot([np.mean(np.max(y_local_te,axis=1))]*20,np.linspace(0,1500,20),color='#ff7f0e')\n",
        "\n",
        "plt.hist([np.max(y_local_te,axis=1)],bins=30)\n",
        "plt.ylim(0,1500)\n",
        "plt.xlim(0,1)\n",
        "plt.xlabel('Confidence', fontsize=15)\n",
        "plt.ylabel('Number of Samples', fontsize=15)\n",
        "plt.legend(('Accuracy','Avg Confidence',r'DP-SGD${}_{global}$',r'DP-SGD${}_{local}$'),fontsize=13,loc='upper left',frameon=False)\n",
        "plt.savefig('Confidence_CIFAR10.pdf',format='pdf')\n",
        "plt.show()\n"
      ],
      "execution_count": null,
      "outputs": [
        {
          "output_type": "stream",
          "text": [
            "100%|██████████| 10/10 [00:01<00:00,  6.21it/s]\n"
          ],
          "name": "stderr"
        },
        {
          "output_type": "stream",
          "text": [
            "######## ECE: ##############\n",
            "Local accuracy: 0.9677, predicted confidence 0.9822251159101725, ECE 0.01452511591017247\n"
          ],
          "name": "stdout"
        },
        {
          "output_type": "display_data",
          "data": {
            "image/png": "[encoded data removed]",
            "text/plain": [
              "<Figure size 432x288 with 1 Axes>"
            ]
          },
          "metadata": {
            "tags": [],
            "needs_background": "light"
          }
        }
      ]
    },
    {
      "cell_type": "code",
      "metadata": {
        "colab": {
          "base_uri": "https://localhost:8080/",
          "height": 389
        },
        "id": "S5LhgMGO0ehs",
        "outputId": "645ecbc0-539e-492e-d875-007ebcb501be"
      },
      "source": [
        "store_local=[]\n",
        "templ=np.max(y_local_te,axis=1)\n",
        "dr=0.05\n",
        "for ratio in np.arange(0,1,dr):\n",
        "    index=(templ>ratio)*(templ<ratio+dr)\n",
        "    store_local.append(np.mean(y_local_te_single[index]==targets_te[index]))\n",
        "\n",
        "# some has nan, replace with 0\n",
        "store_local=np.array(store_local)\n",
        "store_local[np.isnan(store_local)]=0\n",
        "#%%\n",
        "xaxis=np.arange(0,1,dr)+dr/2\n",
        "plt.bar(xaxis[store_local!=0],store_local[store_local!=0],width=dr, edgecolor=\"black\")\n",
        "plt.bar(xaxis[store_local!=0],xaxis[store_local!=0]-store_local[store_local!=0],bottom=store_local[store_local!=0],width=dr, edgecolor=\"black\",color='yellow',alpha=0.5)\n",
        "plt.bar(10,10,bottom=store_local,width=dr, edgecolor=\"black\",color='green',alpha=0.5)\n",
        "plt.plot([0,1],[0,1],color='black',linewidth=2,linestyle='dashed')\n",
        "plt.xlim(0,1)\n",
        "plt.ylim(0,1)\n",
        "plt.xlabel('Confidence', fontsize=15)\n",
        "plt.ylabel('Accuracy', fontsize=15)\n",
        "#plt.legend(('Perfect calibration','Accuracy','Over-confidence','Under-confidence'),fontsize=13,frameon=0)\n",
        "plt.savefig('Confidence_CIFAR10_detail_LOCAL.pdf',format='pdf')\n",
        "plt.show()\n",
        "#%%\n",
        "print(\"######## MCE: ##############\")\n",
        "print(f\"Local MCE: {np.max(np.abs(xaxis[store_local!=0]-store_local[store_local!=0]))}\")\n"
      ],
      "execution_count": null,
      "outputs": [
        {
          "output_type": "stream",
          "text": [
            "/usr/local/lib/python3.7/dist-packages/numpy/core/fromnumeric.py:3373: RuntimeWarning: Mean of empty slice.\n",
            "  out=out, **kwargs)\n",
            "/usr/local/lib/python3.7/dist-packages/numpy/core/_methods.py:170: RuntimeWarning: invalid value encountered in double_scalars\n",
            "  ret = ret.dtype.type(ret / rcount)\n"
          ],
          "name": "stderr"
        },
        {
          "output_type": "display_data",
          "data": {
            "image/png": "[encoded data removed]",
            "text/plain": [
              "<Figure size 432x288 with 1 Axes>"
            ]
          },
          "metadata": {
            "tags": [],
            "needs_background": "light"
          }
        },
        {
          "output_type": "stream",
          "text": [
            "######## MCE: ##############\n",
            "Local MCE: 0.32499999999999996\n"
          ],
          "name": "stdout"
        }
      ]
    },
    {
      "cell_type": "code",
      "metadata": {
        "colab": {
          "base_uri": "https://localhost:8080/",
          "height": 1000
        },
        "id": "k35N0Iky2UQf",
        "outputId": "8e4e06d8-c20e-442e-8514-8067c6d1220d"
      },
      "source": [
        "class Args:\n",
        "  batch_size=256;\n",
        "  test_batch_size=1000;\n",
        "  epochs=15\n",
        "  n_runs=1\n",
        "  lr=0.25 # lr SGD\n",
        "  sigma=1.3\n",
        "  max_per_sample_grad_norm=1.5\n",
        "  delta=1e-5\n",
        "  device='cuda'\n",
        "  save_model=False\n",
        "  disable_dp=False\n",
        "  workers=2\n",
        "  data_root='/mnist'\n",
        "\n",
        "args = Args()\n",
        "device = torch.device(args.device)\n",
        "\n",
        "\n",
        "train_loader = torch.utils.data.DataLoader(\n",
        "    datasets.MNIST(\n",
        "        args.data_root,\n",
        "        train=True,\n",
        "        download=True,\n",
        "        transform=transforms.Compose(\n",
        "            [\n",
        "                transforms.ToTensor(),\n",
        "                transforms.Normalize((MNIST_MEAN,), (MNIST_STD,)),\n",
        "            ]\n",
        "        ),\n",
        "    ),\n",
        "    batch_size=args.batch_size,\n",
        "    shuffle=True,\n",
        ")\n",
        "test_loader = torch.utils.data.DataLoader(\n",
        "    datasets.MNIST(\n",
        "        args.data_root,\n",
        "        train=False,\n",
        "        transform=transforms.Compose(\n",
        "            [\n",
        "                transforms.ToTensor(),\n",
        "                transforms.Normalize((MNIST_MEAN,), (MNIST_STD,)),\n",
        "            ]\n",
        "        ),\n",
        "    ),\n",
        "    batch_size=args.test_batch_size,\n",
        "    shuffle=True,\n",
        ")\n",
        "        \n",
        "tr_loss = np.zeros((args.n_runs,args.epochs))\n",
        "te_loss = np.zeros((args.n_runs,args.epochs))\n",
        "te_accu = np.zeros((args.n_runs,args.epochs))\n",
        "eps = np.zeros((args.n_runs,args.epochs))\n",
        "for run in range(args.n_runs):\n",
        "    net = SampleConvNet().to(device)\n",
        "\n",
        "    optimizer = optim.SGD(net.parameters(), lr=args.lr,weight_decay =0.0)\n",
        "    if not args.disable_dp:\n",
        "        privacy_engine = PrivacyEngine(\n",
        "            net,\n",
        "            batch_size=args.batch_size,\n",
        "            sample_size=len(train_loader.dataset),\n",
        "            alphas=[1 + x / 10.0 for x in range(1, 100)] + list(range(12, 64)),\n",
        "            noise_multiplier=1.3,\n",
        "            max_grad_norm=args.max_per_sample_grad_norm,\n",
        "        )\n",
        "        privacy_engine.attach(optimizer)\n",
        "    for epoch in range(1, args.epochs + 1):\n",
        "        tr_loss[run,epoch-1],eps[run,epoch-1]=train(args, net, device, train_loader, optimizer, epoch)\n",
        "        te_loss[run,epoch-1],te_accu[run,epoch-1]=test(args, net, device, test_loader)\n",
        "\n",
        "if args.n_runs > 1:\n",
        "    print('Training loss: ',np.mean(tr_loss,axis=0),np.std(tr_loss,axis=0))\n",
        "    print('Testing loss: ',np.mean(te_loss,axis=0),np.std(te_loss,axis=0))\n",
        "    print('Testing accuracy: ',np.mean(te_accu,axis=0),np.std(te_accu,axis=0))\n",
        "\n",
        "plt.plot(np.mean(eps,axis=0),np.mean(te_accu,axis=0))\n",
        "\n",
        "repro_str = (\n",
        "    f\"{net.name()}_{args.lr}_{args.sigma}_\"\n",
        "    f\"{args.max_per_sample_grad_norm}_{args.batch_size}_{args.epochs}_MNIST\"\n",
        ")\n",
        "torch.save([tr_loss,te_loss,te_accu,eps], f\"run_results_{repro_str}.pt\")\n"
      ],
      "execution_count": null,
      "outputs": [
        {
          "output_type": "stream",
          "text": [
            "/usr/local/lib/python3.7/dist-packages/opacus/privacy_engine.py:518: UserWarning: The sample rate will be defined from ``batch_size`` and ``sample_size``.The returned privacy budget will be incorrect.\n",
            "  \"The sample rate will be defined from ``batch_size`` and ``sample_size``.\"\n",
            "/usr/local/lib/python3.7/dist-packages/opacus/privacy_engine.py:195: UserWarning: Secure RNG turned off. This is perfectly fine for experimentation as it allows for much faster training performance, but remember to turn it on and retrain one last time before production with ``secure_rng`` turned on.\n",
            "  \"Secure RNG turned off. This is perfectly fine for experimentation as it allows \"\n",
            "/usr/local/lib/python3.7/dist-packages/torch/nn/modules/module.py:974: UserWarning: Using a non-full backward hook when the forward contains multiple autograd Nodes is deprecated and will be removed in future versions. This hook will be missing some grad_input. Please use register_full_backward_hook to get the documented behavior.\n",
            "  warnings.warn(\"Using a non-full backward hook when the forward contains multiple autograd Nodes \"\n"
          ],
          "name": "stderr"
        },
        {
          "output_type": "stream",
          "text": [
            "Train Epoch: 1 \tLoss: 1.015334 (ε = 0.72, δ = 1e-05) for α = 18.0\n",
            "\n",
            "Test set: Average loss: 0.0911, Accuracy: 8488/10000 (84.8800%)\n",
            "\n",
            "Train Epoch: 2 \tLoss: 0.492624 (ε = 0.76, δ = 1e-05) for α = 18.0\n",
            "\n",
            "Test set: Average loss: 0.0843, Accuracy: 8943/10000 (89.4300%)\n",
            "\n",
            "Train Epoch: 3 \tLoss: 0.429593 (ε = 0.80, δ = 1e-05) for α = 18.0\n",
            "\n",
            "Test set: Average loss: 0.0705, Accuracy: 9162/10000 (91.6200%)\n",
            "\n",
            "Train Epoch: 4 \tLoss: 0.381522 (ε = 0.84, δ = 1e-05) for α = 18.0\n",
            "\n",
            "Test set: Average loss: 0.0653, Accuracy: 9240/10000 (92.4000%)\n",
            "\n",
            "Train Epoch: 5 \tLoss: 0.375281 (ε = 0.88, δ = 1e-05) for α = 17.0\n",
            "\n",
            "Test set: Average loss: 0.0681, Accuracy: 9245/10000 (92.4500%)\n",
            "\n",
            "Train Epoch: 6 \tLoss: 0.383160 (ε = 0.91, δ = 1e-05) for α = 17.0\n",
            "\n",
            "Test set: Average loss: 0.0693, Accuracy: 9295/10000 (92.9500%)\n",
            "\n",
            "Train Epoch: 7 \tLoss: 0.368236 (ε = 0.94, δ = 1e-05) for α = 17.0\n",
            "\n",
            "Test set: Average loss: 0.0607, Accuracy: 9365/10000 (93.6500%)\n",
            "\n",
            "Train Epoch: 8 \tLoss: 0.365283 (ε = 0.97, δ = 1e-05) for α = 17.0\n",
            "\n",
            "Test set: Average loss: 0.0584, Accuracy: 9425/10000 (94.2500%)\n",
            "\n",
            "Train Epoch: 9 \tLoss: 0.357575 (ε = 1.00, δ = 1e-05) for α = 17.0\n",
            "\n",
            "Test set: Average loss: 0.0692, Accuracy: 9324/10000 (93.2400%)\n",
            "\n",
            "Train Epoch: 10 \tLoss: 0.371859 (ε = 1.04, δ = 1e-05) for α = 17.0\n",
            "\n",
            "Test set: Average loss: 0.0620, Accuracy: 9412/10000 (94.1200%)\n",
            "\n",
            "Train Epoch: 11 \tLoss: 0.370046 (ε = 1.07, δ = 1e-05) for α = 17.0\n",
            "\n",
            "Test set: Average loss: 0.0643, Accuracy: 9415/10000 (94.1500%)\n",
            "\n",
            "Train Epoch: 12 \tLoss: 0.379341 (ε = 1.10, δ = 1e-05) for α = 17.0\n",
            "\n",
            "Test set: Average loss: 0.0572, Accuracy: 9482/10000 (94.8200%)\n",
            "\n",
            "Train Epoch: 13 \tLoss: 0.383550 (ε = 1.13, δ = 1e-05) for α = 17.0\n",
            "\n",
            "Test set: Average loss: 0.0552, Accuracy: 9507/10000 (95.0700%)\n",
            "\n",
            "Train Epoch: 14 \tLoss: 0.375917 (ε = 1.16, δ = 1e-05) for α = 17.0\n",
            "\n",
            "Test set: Average loss: 0.0591, Accuracy: 9498/10000 (94.9800%)\n",
            "\n",
            "Train Epoch: 15 \tLoss: 0.379598 (ε = 1.19, δ = 1e-05) for α = 17.0\n",
            "\n",
            "Test set: Average loss: 0.0599, Accuracy: 9522/10000 (95.2200%)\n",
            "\n"
          ],
          "name": "stdout"
        },
        {
          "output_type": "display_data",
          "data": {
            "image/png": "[encoded data removed]",
            "text/plain": [
              "<Figure size 432x288 with 1 Axes>"
            ]
          },
          "metadata": {
            "tags": [],
            "needs_background": "light"
          }
        }
      ]
    },
    {
      "cell_type": "code",
      "metadata": {
        "colab": {
          "base_uri": "https://localhost:8080/",
          "height": 334
        },
        "id": "I-qJtEsD2XD5",
        "outputId": "72d7cbad-87fc-4e9a-eb69-ac635f65f209"
      },
      "source": [
        "model_local=net\n",
        "model_local.eval()\n",
        "y_local_te=np.empty((0,10))\n",
        "y_local_te_single=np.array([])\n",
        "targets_te=np.array([])\n",
        "prob_local=np.array([])\n",
        "with torch.no_grad():\n",
        "        for data, target in tqdm(test_loader):\n",
        "            data, target = data.to(device), target.to(device)\n",
        "            output = model_local(data)\n",
        "            y_local_te=np.append(y_local_te,F.softmax(output,dim=1).cpu().detach().numpy(),axis=0)\n",
        "            y_local_te_single=np.append(y_local_te_single,F.softmax(output,dim=1).argmax(dim=1).cpu().detach().numpy())\n",
        "            prob_local=np.append(prob_local,np.array([F.softmax(output,dim=1).cpu().detach().numpy()[i,j] for i,j in enumerate(target.cpu().detach().numpy())]))\n",
        "            targets_te=np.append(targets_te,target.cpu().detach().numpy())\n",
        "\n",
        "\n",
        "local_acc = np.mean(y_local_te_single == targets_te)\n",
        "print(\"######## ECE: ##############\")\n",
        "print(f\"Local accuracy: {local_acc}, predicted confidence {np.mean(np.max(y_local_te,axis=1))}, ECE {np.abs(local_acc - np.mean(np.max(y_local_te,axis=1)))}\")\n",
        "\n",
        "\n",
        "plt.plot(0,0,linestyle='dashed',color='black')\n",
        "plt.plot(0,0,color='black')\n",
        "plt.plot(0,0,color='#ff7f0e')\n",
        "plt.plot([np.mean(targets_te==y_local_te_single)]*20,np.linspace(0,1500,20),linestyle='dashed',color='#ff7f0e',label='local Accu')\n",
        "plt.plot([np.mean(np.max(y_local_te,axis=1))]*20,np.linspace(0,1500,20),color='#ff7f0e')\n",
        "\n",
        "plt.hist([np.max(y_local_te,axis=1)],bins=30)\n",
        "plt.ylim(0,1500)\n",
        "plt.xlim(0,1)\n",
        "plt.xlabel('Confidence', fontsize=15)\n",
        "plt.ylabel('Number of Samples', fontsize=15)\n",
        "plt.legend(('Accuracy','Avg Confidence',r'DP-SGD${}_{global}$',r'DP-SGD${}_{local}$'),fontsize=13,loc='upper left',frameon=False)\n",
        "plt.savefig('Confidence_CIFAR10.pdf',format='pdf')\n",
        "plt.show()\n"
      ],
      "execution_count": null,
      "outputs": [
        {
          "output_type": "stream",
          "text": [
            "100%|██████████| 10/10 [00:01<00:00,  6.17it/s]\n"
          ],
          "name": "stderr"
        },
        {
          "output_type": "stream",
          "text": [
            "######## ECE: ##############\n",
            "Local accuracy: 0.9522, predicted confidence 0.9890677695304155, ECE 0.036867769530415484\n"
          ],
          "name": "stdout"
        },
        {
          "output_type": "display_data",
          "data": {
            "image/png": "[encoded data removed]",
            "text/plain": [
              "<Figure size 432x288 with 1 Axes>"
            ]
          },
          "metadata": {
            "tags": [],
            "needs_background": "light"
          }
        }
      ]
    },
    {
      "cell_type": "code",
      "metadata": {
        "colab": {
          "base_uri": "https://localhost:8080/",
          "height": 389
        },
        "id": "78xb4RZv2Zf9",
        "outputId": "a1e9941f-5fc1-42bb-e4b4-6d6cfc7e37bc"
      },
      "source": [
        "store_local=[]\n",
        "templ=np.max(y_local_te,axis=1)\n",
        "dr=0.05\n",
        "for ratio in np.arange(0,1,dr):\n",
        "    index=(templ>ratio)*(templ<ratio+dr)\n",
        "    store_local.append(np.mean(y_local_te_single[index]==targets_te[index]))\n",
        "\n",
        "# some has nan, replace with 0\n",
        "store_local=np.array(store_local)\n",
        "store_local[np.isnan(store_local)]=0\n",
        "#%%\n",
        "xaxis=np.arange(0,1,dr)+dr/2\n",
        "plt.bar(xaxis[store_local!=0],store_local[store_local!=0],width=dr, edgecolor=\"black\")\n",
        "plt.bar(xaxis[store_local!=0],xaxis[store_local!=0]-store_local[store_local!=0],bottom=store_local[store_local!=0],width=dr, edgecolor=\"black\",color='yellow',alpha=0.5)\n",
        "plt.bar(10,10,bottom=store_local,width=dr, edgecolor=\"black\",color='green',alpha=0.5)\n",
        "plt.plot([0,1],[0,1],color='black',linewidth=2,linestyle='dashed')\n",
        "plt.xlim(0,1)\n",
        "plt.ylim(0,1)\n",
        "plt.xlabel('Confidence', fontsize=15)\n",
        "plt.ylabel('Accuracy', fontsize=15)\n",
        "#plt.legend(('Perfect calibration','Accuracy','Over-confidence','Under-confidence'),fontsize=13,frameon=0)\n",
        "plt.savefig('Confidence_CIFAR10_detail_LOCAL.pdf',format='pdf')\n",
        "plt.show()\n",
        "#%%\n",
        "print(\"######## MCE: ##############\")\n",
        "print(f\"Local MCE: {np.max(np.abs(xaxis[store_local!=0]-store_local[store_local!=0]))}\")\n"
      ],
      "execution_count": null,
      "outputs": [
        {
          "output_type": "stream",
          "text": [
            "/usr/local/lib/python3.7/dist-packages/numpy/core/fromnumeric.py:3373: RuntimeWarning: Mean of empty slice.\n",
            "  out=out, **kwargs)\n",
            "/usr/local/lib/python3.7/dist-packages/numpy/core/_methods.py:170: RuntimeWarning: invalid value encountered in double_scalars\n",
            "  ret = ret.dtype.type(ret / rcount)\n"
          ],
          "name": "stderr"
        },
        {
          "output_type": "display_data",
          "data": {
            "image/png": "[encoded data removed]",
            "text/plain": [
              "<Figure size 432x288 with 1 Axes>"
            ]
          },
          "metadata": {
            "tags": [],
            "needs_background": "light"
          }
        },
        {
          "output_type": "stream",
          "text": [
            "######## MCE: ##############\n",
            "Local MCE: 0.36500000000000005\n"
          ],
          "name": "stdout"
        }
      ]
    },
    {
      "cell_type": "markdown",
      "metadata": {
        "id": "GwLToZckDlwd"
      },
      "source": [
        "# dpsgd+2l+wd=1.0 acc = 0.6"
      ]
    },
    {
      "cell_type": "code",
      "metadata": {
        "colab": {
          "base_uri": "https://localhost:8080/",
          "height": 1000
        },
        "id": "1jbWZu2oB5JA",
        "outputId": "e9853227-ad40-4ee9-a5c1-6f46d914bece"
      },
      "source": [
        "class Args:\n",
        "  batch_size=256;\n",
        "  test_batch_size=1000;\n",
        "  epochs=15\n",
        "  n_runs=1\n",
        "  lr=0.25 # lr SGD\n",
        "  sigma=1.3\n",
        "  max_per_sample_grad_norm=1.5\n",
        "  delta=1e-5\n",
        "  device='cuda'\n",
        "  save_model=False\n",
        "  disable_dp=False\n",
        "  workers=2\n",
        "  data_root='/mnist'\n",
        "\n",
        "args = Args()\n",
        "device = torch.device(args.device)\n",
        "\n",
        "\n",
        "train_loader = torch.utils.data.DataLoader(\n",
        "    datasets.MNIST(\n",
        "        args.data_root,\n",
        "        train=True,\n",
        "        download=True,\n",
        "        transform=transforms.Compose(\n",
        "            [\n",
        "                transforms.ToTensor(),\n",
        "                transforms.Normalize((MNIST_MEAN,), (MNIST_STD,)),\n",
        "            ]\n",
        "        ),\n",
        "    ),\n",
        "    batch_size=args.batch_size,\n",
        "    shuffle=True,\n",
        ")\n",
        "test_loader = torch.utils.data.DataLoader(\n",
        "    datasets.MNIST(\n",
        "        args.data_root,\n",
        "        train=False,\n",
        "        transform=transforms.Compose(\n",
        "            [\n",
        "                transforms.ToTensor(),\n",
        "                transforms.Normalize((MNIST_MEAN,), (MNIST_STD,)),\n",
        "            ]\n",
        "        ),\n",
        "    ),\n",
        "    batch_size=args.test_batch_size,\n",
        "    shuffle=True,\n",
        ")\n",
        "        \n",
        "tr_loss = np.zeros((args.n_runs,args.epochs))\n",
        "te_loss = np.zeros((args.n_runs,args.epochs))\n",
        "te_accu = np.zeros((args.n_runs,args.epochs))\n",
        "eps = np.zeros((args.n_runs,args.epochs))\n",
        "for run in range(args.n_runs):\n",
        "    net = Linear_2L().to(device)\n",
        "\n",
        "    optimizer = optim.SGD(net.parameters(), lr=args.lr,weight_decay =0.1)\n",
        "    if not args.disable_dp:\n",
        "        privacy_engine = PrivacyEngine(\n",
        "            net,\n",
        "            batch_size=args.batch_size,\n",
        "            sample_size=len(train_loader.dataset),\n",
        "            alphas=[1 + x / 10.0 for x in range(1, 100)] + list(range(12, 64)),\n",
        "            noise_multiplier=1.3,\n",
        "            max_grad_norm=args.max_per_sample_grad_norm,\n",
        "        )\n",
        "        privacy_engine.attach(optimizer)\n",
        "    for epoch in range(1, args.epochs + 1):\n",
        "        tr_loss[run,epoch-1],eps[run,epoch-1]=train(args, net, device, train_loader, optimizer, epoch)\n",
        "        te_loss[run,epoch-1],te_accu[run,epoch-1]=test(args, net, device, test_loader)\n",
        "\n",
        "if args.n_runs > 1:\n",
        "    print('Training loss: ',np.mean(tr_loss,axis=0),np.std(tr_loss,axis=0))\n",
        "    print('Testing loss: ',np.mean(te_loss,axis=0),np.std(te_loss,axis=0))\n",
        "    print('Testing accuracy: ',np.mean(te_accu,axis=0),np.std(te_accu,axis=0))\n",
        "\n",
        "plt.plot(np.mean(eps,axis=0),np.mean(te_accu,axis=0))\n",
        "\n",
        "repro_str = (\n",
        "    f\"{net.name()}_{args.lr}_{args.sigma}_\"\n",
        "    f\"{args.max_per_sample_grad_norm}_{args.batch_size}_{args.epochs}_MNIST\"\n",
        ")\n",
        "torch.save([tr_loss,te_loss,te_accu,eps], f\"run_results_{repro_str}.pt\")\n"
      ],
      "execution_count": null,
      "outputs": [
        {
          "output_type": "stream",
          "text": [
            "/usr/local/lib/python3.7/dist-packages/opacus/privacy_engine.py:518: UserWarning: The sample rate will be defined from ``batch_size`` and ``sample_size``.The returned privacy budget will be incorrect.\n",
            "  \"The sample rate will be defined from ``batch_size`` and ``sample_size``.\"\n",
            "/usr/local/lib/python3.7/dist-packages/opacus/privacy_engine.py:195: UserWarning: Secure RNG turned off. This is perfectly fine for experimentation as it allows for much faster training performance, but remember to turn it on and retrain one last time before production with ``secure_rng`` turned on.\n",
            "  \"Secure RNG turned off. This is perfectly fine for experimentation as it allows \"\n",
            "/usr/local/lib/python3.7/dist-packages/torch/nn/modules/module.py:974: UserWarning: Using a non-full backward hook when the forward contains multiple autograd Nodes is deprecated and will be removed in future versions. This hook will be missing some grad_input. Please use register_full_backward_hook to get the documented behavior.\n",
            "  warnings.warn(\"Using a non-full backward hook when the forward contains multiple autograd Nodes \"\n"
          ],
          "name": "stderr"
        },
        {
          "output_type": "stream",
          "text": [
            "Train Epoch: 1 \tLoss: 1.769854 (ε = 0.72, δ = 1e-05) for α = 18.0\n",
            "\n",
            "Test set: Average loss: 0.2831, Accuracy: 5929/10000 (59.2900%)\n",
            "\n",
            "Train Epoch: 2 \tLoss: 1.659416 (ε = 0.76, δ = 1e-05) for α = 18.0\n",
            "\n",
            "Test set: Average loss: 0.2789, Accuracy: 5578/10000 (55.7800%)\n",
            "\n",
            "Train Epoch: 3 \tLoss: 1.656963 (ε = 0.80, δ = 1e-05) for α = 18.0\n",
            "\n",
            "Test set: Average loss: 0.2794, Accuracy: 5824/10000 (58.2400%)\n",
            "\n",
            "Train Epoch: 4 \tLoss: 1.657102 (ε = 0.84, δ = 1e-05) for α = 18.0\n",
            "\n",
            "Test set: Average loss: 0.2793, Accuracy: 6011/10000 (60.1100%)\n",
            "\n",
            "Train Epoch: 5 \tLoss: 1.656803 (ε = 0.88, δ = 1e-05) for α = 17.0\n",
            "\n",
            "Test set: Average loss: 0.2780, Accuracy: 5679/10000 (56.7900%)\n",
            "\n",
            "Train Epoch: 6 \tLoss: 1.658260 (ε = 0.91, δ = 1e-05) for α = 17.0\n",
            "\n",
            "Test set: Average loss: 0.2779, Accuracy: 5281/10000 (52.8100%)\n",
            "\n",
            "Train Epoch: 7 \tLoss: 1.650106 (ε = 0.94, δ = 1e-05) for α = 17.0\n",
            "\n",
            "Test set: Average loss: 0.2773, Accuracy: 6084/10000 (60.8400%)\n",
            "\n",
            "Train Epoch: 8 \tLoss: 1.656751 (ε = 0.97, δ = 1e-05) for α = 17.0\n",
            "\n",
            "Test set: Average loss: 0.2777, Accuracy: 5959/10000 (59.5900%)\n",
            "\n",
            "Train Epoch: 9 \tLoss: 1.652287 (ε = 1.00, δ = 1e-05) for α = 17.0\n",
            "\n",
            "Test set: Average loss: 0.2770, Accuracy: 5878/10000 (58.7800%)\n",
            "\n",
            "Train Epoch: 10 \tLoss: 1.649684 (ε = 1.04, δ = 1e-05) for α = 17.0\n",
            "\n",
            "Test set: Average loss: 0.2787, Accuracy: 6085/10000 (60.8500%)\n",
            "\n",
            "Train Epoch: 11 \tLoss: 1.652077 (ε = 1.07, δ = 1e-05) for α = 17.0\n",
            "\n",
            "Test set: Average loss: 0.2753, Accuracy: 5173/10000 (51.7300%)\n",
            "\n",
            "Train Epoch: 12 \tLoss: 1.650925 (ε = 1.10, δ = 1e-05) for α = 17.0\n",
            "\n",
            "Test set: Average loss: 0.2776, Accuracy: 5934/10000 (59.3400%)\n",
            "\n",
            "Train Epoch: 13 \tLoss: 1.652596 (ε = 1.13, δ = 1e-05) for α = 17.0\n",
            "\n",
            "Test set: Average loss: 0.2777, Accuracy: 5156/10000 (51.5600%)\n",
            "\n",
            "Train Epoch: 14 \tLoss: 1.655832 (ε = 1.16, δ = 1e-05) for α = 17.0\n",
            "\n",
            "Test set: Average loss: 0.2785, Accuracy: 5809/10000 (58.0900%)\n",
            "\n",
            "Train Epoch: 15 \tLoss: 1.655857 (ε = 1.19, δ = 1e-05) for α = 17.0\n",
            "\n",
            "Test set: Average loss: 0.2759, Accuracy: 5962/10000 (59.6200%)\n",
            "\n"
          ],
          "name": "stdout"
        },
        {
          "output_type": "display_data",
          "data": {
            "image/png": "[encoded data removed]",
            "text/plain": [
              "<Figure size 432x288 with 1 Axes>"
            ]
          },
          "metadata": {
            "tags": [],
            "needs_background": "light"
          }
        }
      ]
    },
    {
      "cell_type": "markdown",
      "metadata": {
        "id": "zeWnoqhAHRc_"
      },
      "source": [
        "# dpsgd + 2l + wd=0.01"
      ]
    },
    {
      "cell_type": "code",
      "metadata": {
        "colab": {
          "base_uri": "https://localhost:8080/",
          "height": 1000
        },
        "id": "6r4n-dkHGJEn",
        "outputId": "b85eae1b-3cc0-4ea5-e2a7-307540da43c4"
      },
      "source": [
        "class Args:\n",
        "  batch_size=256;\n",
        "  test_batch_size=1000;\n",
        "  epochs=15\n",
        "  n_runs=1\n",
        "  lr=0.25 # lr SGD\n",
        "  sigma=1.3\n",
        "  max_per_sample_grad_norm=1.5\n",
        "  delta=1e-5\n",
        "  device='cuda'\n",
        "  save_model=False\n",
        "  disable_dp=False\n",
        "  workers=2\n",
        "  data_root='/mnist'\n",
        "\n",
        "args = Args()\n",
        "device = torch.device(args.device)\n",
        "\n",
        "\n",
        "train_loader = torch.utils.data.DataLoader(\n",
        "    datasets.MNIST(\n",
        "        args.data_root,\n",
        "        train=True,\n",
        "        download=True,\n",
        "        transform=transforms.Compose(\n",
        "            [\n",
        "                transforms.ToTensor(),\n",
        "                transforms.Normalize((MNIST_MEAN,), (MNIST_STD,)),\n",
        "            ]\n",
        "        ),\n",
        "    ),\n",
        "    batch_size=args.batch_size,\n",
        "    shuffle=True,\n",
        ")\n",
        "test_loader = torch.utils.data.DataLoader(\n",
        "    datasets.MNIST(\n",
        "        args.data_root,\n",
        "        train=False,\n",
        "        transform=transforms.Compose(\n",
        "            [\n",
        "                transforms.ToTensor(),\n",
        "                transforms.Normalize((MNIST_MEAN,), (MNIST_STD,)),\n",
        "            ]\n",
        "        ),\n",
        "    ),\n",
        "    batch_size=args.test_batch_size,\n",
        "    shuffle=True,\n",
        ")\n",
        "        \n",
        "tr_loss = np.zeros((args.n_runs,args.epochs))\n",
        "te_loss = np.zeros((args.n_runs,args.epochs))\n",
        "te_accu = np.zeros((args.n_runs,args.epochs))\n",
        "eps = np.zeros((args.n_runs,args.epochs))\n",
        "for run in range(args.n_runs):\n",
        "    net = Linear_2L().to(device)\n",
        "\n",
        "    optimizer = optim.SGD(net.parameters(), lr=args.lr,weight_decay =0.01)\n",
        "    if not args.disable_dp:\n",
        "        privacy_engine = PrivacyEngine(\n",
        "            net,\n",
        "            batch_size=args.batch_size,\n",
        "            sample_size=len(train_loader.dataset),\n",
        "            alphas=[1 + x / 10.0 for x in range(1, 100)] + list(range(12, 64)),\n",
        "            noise_multiplier=1.3,\n",
        "            max_grad_norm=args.max_per_sample_grad_norm,\n",
        "        )\n",
        "        privacy_engine.attach(optimizer)\n",
        "    for epoch in range(1, args.epochs + 1):\n",
        "        tr_loss[run,epoch-1],eps[run,epoch-1]=train(args, net, device, train_loader, optimizer, epoch)\n",
        "        te_loss[run,epoch-1],te_accu[run,epoch-1]=test(args, net, device, test_loader)\n",
        "\n",
        "if args.n_runs > 1:\n",
        "    print('Training loss: ',np.mean(tr_loss,axis=0),np.std(tr_loss,axis=0))\n",
        "    print('Testing loss: ',np.mean(te_loss,axis=0),np.std(te_loss,axis=0))\n",
        "    print('Testing accuracy: ',np.mean(te_accu,axis=0),np.std(te_accu,axis=0))\n",
        "\n",
        "plt.plot(np.mean(eps,axis=0),np.mean(te_accu,axis=0))\n",
        "\n",
        "repro_str = (\n",
        "    f\"{net.name()}_{args.lr}_{args.sigma}_\"\n",
        "    f\"{args.max_per_sample_grad_norm}_{args.batch_size}_{args.epochs}_MNIST\"\n",
        ")\n",
        "torch.save([tr_loss,te_loss,te_accu,eps], f\"run_results_{repro_str}.pt\")\n"
      ],
      "execution_count": null,
      "outputs": [
        {
          "output_type": "stream",
          "text": [
            "/usr/local/lib/python3.7/dist-packages/opacus/privacy_engine.py:518: UserWarning: The sample rate will be defined from ``batch_size`` and ``sample_size``.The returned privacy budget will be incorrect.\n",
            "  \"The sample rate will be defined from ``batch_size`` and ``sample_size``.\"\n",
            "/usr/local/lib/python3.7/dist-packages/opacus/privacy_engine.py:195: UserWarning: Secure RNG turned off. This is perfectly fine for experimentation as it allows for much faster training performance, but remember to turn it on and retrain one last time before production with ``secure_rng`` turned on.\n",
            "  \"Secure RNG turned off. This is perfectly fine for experimentation as it allows \"\n",
            "/usr/local/lib/python3.7/dist-packages/torch/nn/modules/module.py:974: UserWarning: Using a non-full backward hook when the forward contains multiple autograd Nodes is deprecated and will be removed in future versions. This hook will be missing some grad_input. Please use register_full_backward_hook to get the documented behavior.\n",
            "  warnings.warn(\"Using a non-full backward hook when the forward contains multiple autograd Nodes \"\n"
          ],
          "name": "stderr"
        },
        {
          "output_type": "stream",
          "text": [
            "Train Epoch: 1 \tLoss: 0.776995 (ε = 0.72, δ = 1e-05) for α = 18.0\n",
            "\n",
            "Test set: Average loss: 0.0705, Accuracy: 8708/10000 (87.0800%)\n",
            "\n",
            "Train Epoch: 2 \tLoss: 0.426835 (ε = 0.76, δ = 1e-05) for α = 18.0\n",
            "\n",
            "Test set: Average loss: 0.0649, Accuracy: 8852/10000 (88.5200%)\n",
            "\n",
            "Train Epoch: 3 \tLoss: 0.413437 (ε = 0.80, δ = 1e-05) for α = 18.0\n",
            "\n",
            "Test set: Average loss: 0.0656, Accuracy: 8820/10000 (88.2000%)\n",
            "\n",
            "Train Epoch: 4 \tLoss: 0.408618 (ε = 0.84, δ = 1e-05) for α = 18.0\n",
            "\n",
            "Test set: Average loss: 0.0630, Accuracy: 8865/10000 (88.6500%)\n",
            "\n",
            "Train Epoch: 5 \tLoss: 0.410184 (ε = 0.88, δ = 1e-05) for α = 17.0\n",
            "\n",
            "Test set: Average loss: 0.0652, Accuracy: 8792/10000 (87.9200%)\n",
            "\n",
            "Train Epoch: 6 \tLoss: 0.408282 (ε = 0.91, δ = 1e-05) for α = 17.0\n",
            "\n",
            "Test set: Average loss: 0.0665, Accuracy: 8804/10000 (88.0400%)\n",
            "\n",
            "Train Epoch: 7 \tLoss: 0.405568 (ε = 0.94, δ = 1e-05) for α = 17.0\n",
            "\n",
            "Test set: Average loss: 0.0621, Accuracy: 8866/10000 (88.6600%)\n",
            "\n",
            "Train Epoch: 8 \tLoss: 0.405068 (ε = 0.97, δ = 1e-05) for α = 17.0\n",
            "\n",
            "Test set: Average loss: 0.0631, Accuracy: 8852/10000 (88.5200%)\n",
            "\n",
            "Train Epoch: 9 \tLoss: 0.401274 (ε = 1.00, δ = 1e-05) for α = 17.0\n",
            "\n",
            "Test set: Average loss: 0.0669, Accuracy: 8764/10000 (87.6400%)\n",
            "\n",
            "Train Epoch: 10 \tLoss: 0.403204 (ε = 1.04, δ = 1e-05) for α = 17.0\n",
            "\n",
            "Test set: Average loss: 0.0657, Accuracy: 8798/10000 (87.9800%)\n",
            "\n",
            "Train Epoch: 11 \tLoss: 0.406903 (ε = 1.07, δ = 1e-05) for α = 17.0\n",
            "\n",
            "Test set: Average loss: 0.0665, Accuracy: 8785/10000 (87.8500%)\n",
            "\n",
            "Train Epoch: 12 \tLoss: 0.410458 (ε = 1.10, δ = 1e-05) for α = 17.0\n",
            "\n",
            "Test set: Average loss: 0.0657, Accuracy: 8819/10000 (88.1900%)\n",
            "\n",
            "Train Epoch: 13 \tLoss: 0.402240 (ε = 1.13, δ = 1e-05) for α = 17.0\n",
            "\n",
            "Test set: Average loss: 0.0627, Accuracy: 8810/10000 (88.1000%)\n",
            "\n",
            "Train Epoch: 14 \tLoss: 0.403476 (ε = 1.16, δ = 1e-05) for α = 17.0\n",
            "\n",
            "Test set: Average loss: 0.0686, Accuracy: 8704/10000 (87.0400%)\n",
            "\n",
            "Train Epoch: 15 \tLoss: 0.407995 (ε = 1.19, δ = 1e-05) for α = 17.0\n",
            "\n",
            "Test set: Average loss: 0.0661, Accuracy: 8790/10000 (87.9000%)\n",
            "\n"
          ],
          "name": "stdout"
        },
        {
          "output_type": "display_data",
          "data": {
            "image/png": "[encoded data removed]",
            "text/plain": [
              "<Figure size 432x288 with 1 Axes>"
            ]
          },
          "metadata": {
            "tags": [],
            "needs_background": "light"
          }
        }
      ]
    },
    {
      "cell_type": "code",
      "metadata": {
        "colab": {
          "base_uri": "https://localhost:8080/",
          "height": 334
        },
        "id": "UbPuDLcwHbYn",
        "outputId": "cd92387a-cc1d-40fd-b4e1-85f3cc57efff"
      },
      "source": [
        "model_local=net\n",
        "model_local.eval()\n",
        "y_local_te=np.empty((0,10))\n",
        "y_local_te_single=np.array([])\n",
        "targets_te=np.array([])\n",
        "prob_local=np.array([])\n",
        "with torch.no_grad():\n",
        "        for data, target in tqdm(test_loader):\n",
        "            data, target = data.to(device), target.to(device)\n",
        "            output = model_local(data)\n",
        "            y_local_te=np.append(y_local_te,F.softmax(output,dim=1).cpu().detach().numpy(),axis=0)\n",
        "            y_local_te_single=np.append(y_local_te_single,F.softmax(output,dim=1).argmax(dim=1).cpu().detach().numpy())\n",
        "            prob_local=np.append(prob_local,np.array([F.softmax(output,dim=1).cpu().detach().numpy()[i,j] for i,j in enumerate(target.cpu().detach().numpy())]))\n",
        "            targets_te=np.append(targets_te,target.cpu().detach().numpy())\n",
        "\n",
        "\n",
        "local_acc = np.mean(y_local_te_single == targets_te)\n",
        "print(\"######## ECE: ##############\")\n",
        "print(f\"Local accuracy: {local_acc}, predicted confidence {np.mean(np.max(y_local_te,axis=1))}, ECE {np.abs(local_acc - np.mean(np.max(y_local_te,axis=1)))}\")\n",
        "\n",
        "\n",
        "plt.plot(0,0,linestyle='dashed',color='black')\n",
        "plt.plot(0,0,color='black')\n",
        "plt.plot(0,0,color='#ff7f0e')\n",
        "plt.plot([np.mean(targets_te==y_local_te_single)]*20,np.linspace(0,1500,20),linestyle='dashed',color='#ff7f0e',label='local Accu')\n",
        "plt.plot([np.mean(np.max(y_local_te,axis=1))]*20,np.linspace(0,1500,20),color='#ff7f0e')\n",
        "\n",
        "plt.hist([np.max(y_local_te,axis=1)],bins=30)\n",
        "plt.ylim(0,1500)\n",
        "plt.xlim(0,1)\n",
        "plt.xlabel('Confidence', fontsize=15)\n",
        "plt.ylabel('Number of Samples', fontsize=15)\n",
        "plt.legend(('Accuracy','Avg Confidence',r'DP-SGD${}_{global}$',r'DP-SGD${}_{local}$'),fontsize=13,loc='upper left',frameon=False)\n",
        "plt.savefig('Confidence_CIFAR10.pdf',format='pdf')\n",
        "plt.show()\n"
      ],
      "execution_count": null,
      "outputs": [
        {
          "output_type": "stream",
          "text": [
            "100%|██████████| 10/10 [00:01<00:00,  6.22it/s]\n"
          ],
          "name": "stderr"
        },
        {
          "output_type": "stream",
          "text": [
            "######## ECE: ##############\n",
            "Local accuracy: 0.9763, predicted confidence 0.9814768038004636, ECE 0.005176803800463703\n"
          ],
          "name": "stdout"
        },
        {
          "output_type": "display_data",
          "data": {
            "image/png": "[encoded data removed]",
            "text/plain": [
              "<Figure size 432x288 with 1 Axes>"
            ]
          },
          "metadata": {
            "tags": [],
            "needs_background": "light"
          }
        }
      ]
    },
    {
      "cell_type": "code",
      "metadata": {
        "colab": {
          "base_uri": "https://localhost:8080/",
          "height": 389
        },
        "id": "vg9CtLBLHjEI",
        "outputId": "319e0527-e81b-4d0e-ed05-d26cc80bedab"
      },
      "source": [
        "store_local=[]\n",
        "templ=np.max(y_local_te,axis=1)\n",
        "dr=0.05\n",
        "for ratio in np.arange(0,1,dr):\n",
        "    index=(templ>ratio)*(templ<ratio+dr)\n",
        "    store_local.append(np.mean(y_local_te_single[index]==targets_te[index]))\n",
        "\n",
        "# some has nan, replace with 0\n",
        "store_local=np.array(store_local)\n",
        "store_local[np.isnan(store_local)]=0\n",
        "#%%\n",
        "xaxis=np.arange(0,1,dr)+dr/2\n",
        "plt.bar(xaxis[store_local!=0],store_local[store_local!=0],width=dr, edgecolor=\"black\")\n",
        "plt.bar(xaxis[store_local!=0],xaxis[store_local!=0]-store_local[store_local!=0],bottom=store_local[store_local!=0],width=dr, edgecolor=\"black\",color='yellow',alpha=0.5)\n",
        "plt.bar(10,10,bottom=store_local,width=dr, edgecolor=\"black\",color='green',alpha=0.5)\n",
        "plt.plot([0,1],[0,1],color='black',linewidth=2,linestyle='dashed')\n",
        "plt.xlim(0,1)\n",
        "plt.ylim(0,1)\n",
        "plt.xlabel('Confidence', fontsize=15)\n",
        "plt.ylabel('Accuracy', fontsize=15)\n",
        "#plt.legend(('Perfect calibration','Accuracy','Over-confidence','Under-confidence'),fontsize=13,frameon=0)\n",
        "plt.savefig('Confidence_CIFAR10_detail_LOCAL.pdf',format='pdf')\n",
        "plt.show()\n",
        "#%%\n",
        "print(\"######## MCE: ##############\")\n",
        "print(f\"Local MCE: {np.max(np.abs(xaxis[store_local!=0]-store_local[store_local!=0]))}\")\n"
      ],
      "execution_count": null,
      "outputs": [
        {
          "output_type": "stream",
          "text": [
            "/usr/local/lib/python3.7/dist-packages/numpy/core/fromnumeric.py:3373: RuntimeWarning: Mean of empty slice.\n",
            "  out=out, **kwargs)\n",
            "/usr/local/lib/python3.7/dist-packages/numpy/core/_methods.py:170: RuntimeWarning: invalid value encountered in double_scalars\n",
            "  ret = ret.dtype.type(ret / rcount)\n"
          ],
          "name": "stderr"
        },
        {
          "output_type": "display_data",
          "data": {
            "image/png": "[encoded data removed]",
            "text/plain": [
              "<Figure size 432x288 with 1 Axes>"
            ]
          },
          "metadata": {
            "tags": [],
            "needs_background": "light"
          }
        },
        {
          "output_type": "stream",
          "text": [
            "######## MCE: ##############\n",
            "Local MCE: 0.29852941176470593\n"
          ],
          "name": "stdout"
        }
      ]
    },
    {
      "cell_type": "markdown",
      "metadata": {
        "id": "Ans_r-Z9ry5g"
      },
      "source": [
        "# dpsgd + cnn + wd=0.01"
      ]
    },
    {
      "cell_type": "code",
      "metadata": {
        "colab": {
          "base_uri": "https://localhost:8080/",
          "height": 1000,
          "referenced_widgets": [
            "f6e272df8fc2440ebb8e6176e23c6007",
            "3b3526d1c61f4eceb2bb9569e7b1f7f6",
            "9fb67e2b56f84edf8174ce882da4c1b2",
            "ce898cff02bf4b21896b41042c5f4ae6",
            "5d8dde59c9964967b8b4abf1119f7032",
            "75c69293b6ab4234957632564f11f47f",
            "5f8323a4bb074ee78b8dcbe55c0e8052",
            "f69447e690bd41ffa27e59dd7ff5d8ca",
            "eb623c8976614748a670129615898396",
            "ec274850e0e346c7a131d05b41fb76ed",
            "293e0d9f3ebb4e1599b9dd29bf3102a6",
            "325d408282964841aa9cbf204a23750d",
            "244b702ff30640a19e6e730952d75a7e",
            "994380e50dbd439cb7f688c6e7c57783",
            "e64be8caf9cc411c86ef8ee7e04f6ed3",
            "781a4d130a1e4e7397b07b73ffe3b5b1",
            "feb1b11fd64a49a2b700c92c06ffd46c",
            "f376e43faf014d91bf6991ffbbb27a22",
            "21fce11affcc4b639683af09e313bb41",
            "31134fa1c2014164a799a4cec7a4fc43",
            "edd3fd1e26ac4b568b367024314c9d66",
            "f1f7285260ce43bdbbd2c74b22df2ca7",
            "e361814e870148fa9739f62c145fc8f7",
            "3f01b1de54a54b80a5b934707e91218f",
            "c2a401a2e09542968d7821e3a48639bd",
            "843690dadd7e41e0946c43ddab943914",
            "708aa973bb6640d1a8b5520c55f8f2fd",
            "2ab0d736137346db9bf3bde70d2f644d",
            "08bb7d73a0954710933f661326f11ee4",
            "a753530cad5b438a978d287d121844c0",
            "289df82ff6444e1a92d561721a2b0a1b",
            "56669c63c1a347d28787a7df71cf3257"
          ]
        },
        "id": "0SxWDUzfH5Zd",
        "outputId": "dea1184f-e73b-44c5-e0ed-41fb2c14f7b5"
      },
      "source": [
        "class Args:\n",
        "  batch_size=256;\n",
        "  test_batch_size=1000;\n",
        "  epochs=15\n",
        "  n_runs=1\n",
        "  lr=0.25 # lr SGD\n",
        "  sigma=1.3\n",
        "  max_per_sample_grad_norm=1.5\n",
        "  delta=1e-5\n",
        "  device='cuda'\n",
        "  save_model=False\n",
        "  disable_dp=False\n",
        "  workers=2\n",
        "  data_root='/mnist'\n",
        "\n",
        "args = Args()\n",
        "device = torch.device(args.device)\n",
        "\n",
        "\n",
        "train_loader = torch.utils.data.DataLoader(\n",
        "    datasets.MNIST(\n",
        "        args.data_root,\n",
        "        train=True,\n",
        "        download=True,\n",
        "        transform=transforms.Compose(\n",
        "            [\n",
        "                transforms.ToTensor(),\n",
        "                transforms.Normalize((MNIST_MEAN,), (MNIST_STD,)),\n",
        "            ]\n",
        "        ),\n",
        "    ),\n",
        "    batch_size=args.batch_size,\n",
        "    shuffle=True,\n",
        ")\n",
        "test_loader = torch.utils.data.DataLoader(\n",
        "    datasets.MNIST(\n",
        "        args.data_root,\n",
        "        train=False,\n",
        "        transform=transforms.Compose(\n",
        "            [\n",
        "                transforms.ToTensor(),\n",
        "                transforms.Normalize((MNIST_MEAN,), (MNIST_STD,)),\n",
        "            ]\n",
        "        ),\n",
        "    ),\n",
        "    batch_size=args.test_batch_size,\n",
        "    shuffle=True,\n",
        ")\n",
        "        \n",
        "tr_loss = np.zeros((args.n_runs,args.epochs))\n",
        "te_loss = np.zeros((args.n_runs,args.epochs))\n",
        "te_accu = np.zeros((args.n_runs,args.epochs))\n",
        "eps = np.zeros((args.n_runs,args.epochs))\n",
        "for run in range(args.n_runs):\n",
        "    net = SampleConvNet().to(device)\n",
        "\n",
        "    optimizer = optim.SGD(net.parameters(), lr=args.lr,weight_decay =0.01)\n",
        "    if not args.disable_dp:\n",
        "        privacy_engine = PrivacyEngine(\n",
        "            net,\n",
        "            batch_size=args.batch_size,\n",
        "            sample_size=len(train_loader.dataset),\n",
        "            alphas=[1 + x / 10.0 for x in range(1, 100)] + list(range(12, 64)),\n",
        "            noise_multiplier=1.3,\n",
        "            max_grad_norm=args.max_per_sample_grad_norm,\n",
        "        )\n",
        "        privacy_engine.attach(optimizer)\n",
        "    for epoch in range(1, args.epochs + 1):\n",
        "        tr_loss[run,epoch-1],eps[run,epoch-1]=train(args, net, device, train_loader, optimizer, epoch)\n",
        "        te_loss[run,epoch-1],te_accu[run,epoch-1]=test(args, net, device, test_loader)\n",
        "\n",
        "if args.n_runs > 1:\n",
        "    print('Training loss: ',np.mean(tr_loss,axis=0),np.std(tr_loss,axis=0))\n",
        "    print('Testing loss: ',np.mean(te_loss,axis=0),np.std(te_loss,axis=0))\n",
        "    print('Testing accuracy: ',np.mean(te_accu,axis=0),np.std(te_accu,axis=0))\n",
        "\n",
        "plt.plot(np.mean(eps,axis=0),np.mean(te_accu,axis=0))\n",
        "\n",
        "repro_str = (\n",
        "    f\"{net.name()}_{args.lr}_{args.sigma}_\"\n",
        "    f\"{args.max_per_sample_grad_norm}_{args.batch_size}_{args.epochs}_MNIST\"\n",
        ")\n",
        "torch.save([tr_loss,te_loss,te_accu,eps], f\"run_results_{repro_str}.pt\")\n"
      ],
      "execution_count": null,
      "outputs": [
        {
          "output_type": "stream",
          "text": [
            "Downloading http://yann.lecun.com/exdb/mnist/train-images-idx3-ubyte.gz\n",
            "Downloading http://yann.lecun.com/exdb/mnist/train-images-idx3-ubyte.gz to /mnist/MNIST/raw/train-images-idx3-ubyte.gz\n"
          ],
          "name": "stdout"
        },
        {
          "output_type": "display_data",
          "data": {
            "application/vnd.jupyter.widget-view+json": {
              "model_id": "f6e272df8fc2440ebb8e6176e23c6007",
              "version_minor": 0,
              "version_major": 2
            },
            "text/plain": [
              "HBox(children=(FloatProgress(value=0.0, max=9912422.0), HTML(value='')))"
            ]
          },
          "metadata": {
            "tags": []
          }
        },
        {
          "output_type": "stream",
          "text": [
            "\n",
            "Extracting /mnist/MNIST/raw/train-images-idx3-ubyte.gz to /mnist/MNIST/raw\n",
            "\n",
            "Downloading http://yann.lecun.com/exdb/mnist/train-labels-idx1-ubyte.gz\n",
            "Downloading http://yann.lecun.com/exdb/mnist/train-labels-idx1-ubyte.gz to /mnist/MNIST/raw/train-labels-idx1-ubyte.gz\n"
          ],
          "name": "stdout"
        },
        {
          "output_type": "display_data",
          "data": {
            "application/vnd.jupyter.widget-view+json": {
              "model_id": "eb623c8976614748a670129615898396",
              "version_minor": 0,
              "version_major": 2
            },
            "text/plain": [
              "HBox(children=(FloatProgress(value=0.0, max=28881.0), HTML(value='')))"
            ]
          },
          "metadata": {
            "tags": []
          }
        },
        {
          "output_type": "stream",
          "text": [
            "\n",
            "Extracting /mnist/MNIST/raw/train-labels-idx1-ubyte.gz to /mnist/MNIST/raw\n",
            "\n",
            "Downloading http://yann.lecun.com/exdb/mnist/t10k-images-idx3-ubyte.gz\n",
            "Downloading http://yann.lecun.com/exdb/mnist/t10k-images-idx3-ubyte.gz to /mnist/MNIST/raw/t10k-images-idx3-ubyte.gz\n"
          ],
          "name": "stdout"
        },
        {
          "output_type": "display_data",
          "data": {
            "application/vnd.jupyter.widget-view+json": {
              "model_id": "feb1b11fd64a49a2b700c92c06ffd46c",
              "version_minor": 0,
              "version_major": 2
            },
            "text/plain": [
              "HBox(children=(FloatProgress(value=0.0, max=1648877.0), HTML(value='')))"
            ]
          },
          "metadata": {
            "tags": []
          }
        },
        {
          "output_type": "stream",
          "text": [
            "\n",
            "Extracting /mnist/MNIST/raw/t10k-images-idx3-ubyte.gz to /mnist/MNIST/raw\n",
            "\n",
            "Downloading http://yann.lecun.com/exdb/mnist/t10k-labels-idx1-ubyte.gz\n",
            "Downloading http://yann.lecun.com/exdb/mnist/t10k-labels-idx1-ubyte.gz to /mnist/MNIST/raw/t10k-labels-idx1-ubyte.gz\n"
          ],
          "name": "stdout"
        },
        {
          "output_type": "display_data",
          "data": {
            "application/vnd.jupyter.widget-view+json": {
              "model_id": "c2a401a2e09542968d7821e3a48639bd",
              "version_minor": 0,
              "version_major": 2
            },
            "text/plain": [
              "HBox(children=(FloatProgress(value=0.0, max=4542.0), HTML(value='')))"
            ]
          },
          "metadata": {
            "tags": []
          }
        },
        {
          "output_type": "stream",
          "text": [
            "\n",
            "Extracting /mnist/MNIST/raw/t10k-labels-idx1-ubyte.gz to /mnist/MNIST/raw\n",
            "\n"
          ],
          "name": "stdout"
        },
        {
          "output_type": "stream",
          "text": [
            "/usr/local/lib/python3.7/dist-packages/torchvision/datasets/mnist.py:498: UserWarning: The given NumPy array is not writeable, and PyTorch does not support non-writeable tensors. This means you can write to the underlying (supposedly non-writeable) NumPy array using the tensor. You may want to copy the array to protect its data or make it writeable before converting it to a tensor. This type of warning will be suppressed for the rest of this program. (Triggered internally at  /pytorch/torch/csrc/utils/tensor_numpy.cpp:180.)\n",
            "  return torch.from_numpy(parsed.astype(m[2], copy=False)).view(*s)\n",
            "/usr/local/lib/python3.7/dist-packages/opacus/privacy_engine.py:518: UserWarning: The sample rate will be defined from ``batch_size`` and ``sample_size``.The returned privacy budget will be incorrect.\n",
            "  \"The sample rate will be defined from ``batch_size`` and ``sample_size``.\"\n",
            "/usr/local/lib/python3.7/dist-packages/opacus/privacy_engine.py:195: UserWarning: Secure RNG turned off. This is perfectly fine for experimentation as it allows for much faster training performance, but remember to turn it on and retrain one last time before production with ``secure_rng`` turned on.\n",
            "  \"Secure RNG turned off. This is perfectly fine for experimentation as it allows \"\n",
            "/usr/local/lib/python3.7/dist-packages/torch/nn/modules/module.py:974: UserWarning: Using a non-full backward hook when the forward contains multiple autograd Nodes is deprecated and will be removed in future versions. This hook will be missing some grad_input. Please use register_full_backward_hook to get the documented behavior.\n",
            "  warnings.warn(\"Using a non-full backward hook when the forward contains multiple autograd Nodes \"\n",
            "/usr/local/lib/python3.7/dist-packages/torch/nn/functional.py:718: UserWarning: Named tensors and all their associated APIs are an experimental feature and subject to change. Please do not use them for anything important until they are released as stable. (Triggered internally at  /pytorch/c10/core/TensorImpl.h:1156.)\n",
            "  return torch.max_pool2d(input, kernel_size, stride, padding, dilation, ceil_mode)\n"
          ],
          "name": "stderr"
        },
        {
          "output_type": "stream",
          "text": [
            "Train Epoch: 1 \tLoss: 0.915374 (ε = 0.72, δ = 1e-05) for α = 18.0\n",
            "\n",
            "Test set: Average loss: 0.0790, Accuracy: 8451/10000 (84.5100%)\n",
            "\n",
            "Train Epoch: 2 \tLoss: 0.361223 (ε = 0.76, δ = 1e-05) for α = 18.0\n",
            "\n",
            "Test set: Average loss: 0.0681, Accuracy: 8755/10000 (87.5500%)\n",
            "\n",
            "Train Epoch: 3 \tLoss: 0.300761 (ε = 0.80, δ = 1e-05) for α = 18.0\n",
            "\n",
            "Test set: Average loss: 0.0440, Accuracy: 9226/10000 (92.2600%)\n",
            "\n",
            "Train Epoch: 4 \tLoss: 0.279648 (ε = 0.84, δ = 1e-05) for α = 18.0\n",
            "\n",
            "Test set: Average loss: 0.0449, Accuracy: 9173/10000 (91.7300%)\n",
            "\n",
            "Train Epoch: 5 \tLoss: 0.269019 (ε = 0.88, δ = 1e-05) for α = 17.0\n",
            "\n",
            "Test set: Average loss: 0.0417, Accuracy: 9223/10000 (92.2300%)\n",
            "\n",
            "Train Epoch: 6 \tLoss: 0.269960 (ε = 0.91, δ = 1e-05) for α = 17.0\n",
            "\n",
            "Test set: Average loss: 0.0388, Accuracy: 9300/10000 (93.0000%)\n",
            "\n",
            "Train Epoch: 7 \tLoss: 0.264955 (ε = 0.94, δ = 1e-05) for α = 17.0\n",
            "\n",
            "Test set: Average loss: 0.0505, Accuracy: 9103/10000 (91.0300%)\n",
            "\n",
            "Train Epoch: 8 \tLoss: 0.267058 (ε = 0.97, δ = 1e-05) for α = 17.0\n",
            "\n",
            "Test set: Average loss: 0.0438, Accuracy: 9215/10000 (92.1500%)\n",
            "\n",
            "Train Epoch: 9 \tLoss: 0.267827 (ε = 1.00, δ = 1e-05) for α = 17.0\n",
            "\n",
            "Test set: Average loss: 0.0518, Accuracy: 9030/10000 (90.3000%)\n",
            "\n",
            "Train Epoch: 10 \tLoss: 0.260165 (ε = 1.04, δ = 1e-05) for α = 17.0\n",
            "\n",
            "Test set: Average loss: 0.0381, Accuracy: 9324/10000 (93.2400%)\n",
            "\n",
            "Train Epoch: 11 \tLoss: 0.255839 (ε = 1.07, δ = 1e-05) for α = 17.0\n",
            "\n",
            "Test set: Average loss: 0.0409, Accuracy: 9285/10000 (92.8500%)\n",
            "\n",
            "Train Epoch: 12 \tLoss: 0.254319 (ε = 1.10, δ = 1e-05) for α = 17.0\n",
            "\n",
            "Test set: Average loss: 0.0428, Accuracy: 9222/10000 (92.2200%)\n",
            "\n",
            "Train Epoch: 13 \tLoss: 0.257459 (ε = 1.13, δ = 1e-05) for α = 17.0\n",
            "\n",
            "Test set: Average loss: 0.0420, Accuracy: 9240/10000 (92.4000%)\n",
            "\n",
            "Train Epoch: 14 \tLoss: 0.253646 (ε = 1.16, δ = 1e-05) for α = 17.0\n",
            "\n",
            "Test set: Average loss: 0.0428, Accuracy: 9230/10000 (92.3000%)\n",
            "\n",
            "Train Epoch: 15 \tLoss: 0.255245 (ε = 1.19, δ = 1e-05) for α = 17.0\n",
            "\n",
            "Test set: Average loss: 0.0465, Accuracy: 9184/10000 (91.8400%)\n",
            "\n"
          ],
          "name": "stdout"
        },
        {
          "output_type": "display_data",
          "data": {
            "image/png": "[encoded data removed]",
            "text/plain": [
              "<Figure size 432x288 with 1 Axes>"
            ]
          },
          "metadata": {
            "tags": [],
            "needs_background": "light"
          }
        }
      ]
    },
    {
      "cell_type": "code",
      "metadata": {
        "colab": {
          "base_uri": "https://localhost:8080/",
          "height": 334
        },
        "id": "GFPspFKjIszC",
        "outputId": "b6452786-86d2-45d4-a39a-2adfe9217d37"
      },
      "source": [
        "model_local=net\n",
        "model_local.eval()\n",
        "y_local_te=np.empty((0,10))\n",
        "y_local_te_single=np.array([])\n",
        "targets_te=np.array([])\n",
        "prob_local=np.array([])\n",
        "with torch.no_grad():\n",
        "        for data, target in tqdm(test_loader):\n",
        "            data, target = data.to(device), target.to(device)\n",
        "            output = model_local(data)\n",
        "            y_local_te=np.append(y_local_te,F.softmax(output,dim=1).cpu().detach().numpy(),axis=0)\n",
        "            y_local_te_single=np.append(y_local_te_single,F.softmax(output,dim=1).argmax(dim=1).cpu().detach().numpy())\n",
        "            prob_local=np.append(prob_local,np.array([F.softmax(output,dim=1).cpu().detach().numpy()[i,j] for i,j in enumerate(target.cpu().detach().numpy())]))\n",
        "            targets_te=np.append(targets_te,target.cpu().detach().numpy())\n",
        "\n",
        "\n",
        "local_acc = np.mean(y_local_te_single == targets_te)\n",
        "print(\"######## ECE: ##############\")\n",
        "print(f\"Local accuracy: {local_acc}, predicted confidence {np.mean(np.max(y_local_te,axis=1))}, ECE {np.abs(local_acc - np.mean(np.max(y_local_te,axis=1)))}\")\n",
        "\n",
        "\n",
        "plt.plot(0,0,linestyle='dashed',color='black')\n",
        "plt.plot(0,0,color='black')\n",
        "plt.plot(0,0,color='#ff7f0e')\n",
        "plt.plot([np.mean(targets_te==y_local_te_single)]*20,np.linspace(0,1500,20),linestyle='dashed',color='#ff7f0e',label='local Accu')\n",
        "plt.plot([np.mean(np.max(y_local_te,axis=1))]*20,np.linspace(0,1500,20),color='#ff7f0e')\n",
        "\n",
        "plt.hist([np.max(y_local_te,axis=1)],bins=30)\n",
        "plt.ylim(0,1500)\n",
        "plt.xlim(0,1)\n",
        "plt.xlabel('Confidence', fontsize=15)\n",
        "plt.ylabel('Number of Samples', fontsize=15)\n",
        "plt.legend(('Accuracy','Avg Confidence',r'DP-SGD${}_{global}$',r'DP-SGD${}_{local}$'),fontsize=13,loc='upper left',frameon=False)\n",
        "plt.savefig('Confidence_CIFAR10.pdf',format='pdf')\n",
        "plt.show()\n"
      ],
      "execution_count": null,
      "outputs": [
        {
          "output_type": "stream",
          "text": [
            "100%|██████████| 10/10 [00:01<00:00,  6.10it/s]\n"
          ],
          "name": "stderr"
        },
        {
          "output_type": "stream",
          "text": [
            "######## ECE: ##############\n",
            "Local accuracy: 0.9184, predicted confidence 0.9243876291424036, ECE 0.005987629142403583\n"
          ],
          "name": "stdout"
        },
        {
          "output_type": "display_data",
          "data": {
            "image/png": "[encoded data removed]",
            "text/plain": [
              "<Figure size 432x288 with 1 Axes>"
            ]
          },
          "metadata": {
            "tags": [],
            "needs_background": "light"
          }
        }
      ]
    },
    {
      "cell_type": "code",
      "metadata": {
        "colab": {
          "base_uri": "https://localhost:8080/",
          "height": 389
        },
        "id": "zSSmgKwdIwKN",
        "outputId": "d991a119-b8fb-4876-becd-34f79f622435"
      },
      "source": [
        "store_local=[]\n",
        "templ=np.max(y_local_te,axis=1)\n",
        "dr=0.05\n",
        "for ratio in np.arange(0,1,dr):\n",
        "    index=(templ>ratio)*(templ<ratio+dr)\n",
        "    store_local.append(np.mean(y_local_te_single[index]==targets_te[index]))\n",
        "\n",
        "# some has nan, replace with 0\n",
        "store_local=np.array(store_local)\n",
        "store_local[np.isnan(store_local)]=0\n",
        "#%%\n",
        "xaxis=np.arange(0,1,dr)+dr/2\n",
        "plt.bar(xaxis[store_local!=0],store_local[store_local!=0],width=dr, edgecolor=\"black\")\n",
        "plt.bar(xaxis[store_local!=0],xaxis[store_local!=0]-store_local[store_local!=0],bottom=store_local[store_local!=0],width=dr, edgecolor=\"black\",color='yellow',alpha=0.5)\n",
        "plt.bar(10,10,bottom=store_local,width=dr, edgecolor=\"black\",color='green',alpha=0.5)\n",
        "plt.plot([0,1],[0,1],color='black',linewidth=2,linestyle='dashed')\n",
        "plt.xlim(0,1)\n",
        "plt.ylim(0,1)\n",
        "plt.xlabel('Confidence', fontsize=15)\n",
        "plt.ylabel('Accuracy', fontsize=15)\n",
        "#plt.legend(('Perfect calibration','Accuracy','Over-confidence','Under-confidence'),fontsize=13,frameon=0)\n",
        "plt.savefig('Confidence_CIFAR10_detail_LOCAL.pdf',format='pdf')\n",
        "plt.show()\n",
        "#%%\n",
        "print(\"######## MCE: ##############\")\n",
        "print(f\"Local MCE: {np.max(np.abs(xaxis[store_local!=0]-store_local[store_local!=0]))}\")\n"
      ],
      "execution_count": null,
      "outputs": [
        {
          "output_type": "stream",
          "text": [
            "/usr/local/lib/python3.7/dist-packages/numpy/core/fromnumeric.py:3373: RuntimeWarning: Mean of empty slice.\n",
            "  out=out, **kwargs)\n",
            "/usr/local/lib/python3.7/dist-packages/numpy/core/_methods.py:170: RuntimeWarning: invalid value encountered in double_scalars\n",
            "  ret = ret.dtype.type(ret / rcount)\n"
          ],
          "name": "stderr"
        },
        {
          "output_type": "display_data",
          "data": {
            "image/png": "[encoded data removed]",
            "text/plain": [
              "<Figure size 432x288 with 1 Axes>"
            ]
          },
          "metadata": {
            "tags": [],
            "needs_background": "light"
          }
        },
        {
          "output_type": "stream",
          "text": [
            "######## MCE: ##############\n",
            "Local MCE: 0.3916666666666666\n"
          ],
          "name": "stdout"
        }
      ]
    },
    {
      "cell_type": "markdown",
      "metadata": {
        "id": "ho9ao_09JUnX"
      },
      "source": [
        "# ndpsgd + cnn + wd=0.01"
      ]
    },
    {
      "cell_type": "code",
      "metadata": {
        "colab": {
          "base_uri": "https://localhost:8080/",
          "height": 1000
        },
        "id": "UZNaf1ltJRJJ",
        "outputId": "6e886ae0-f1cf-4fb3-de12-cb9f628672ec"
      },
      "source": [
        "class Args:\n",
        "  batch_size=256;\n",
        "  test_batch_size=1000;\n",
        "  epochs=15\n",
        "  n_runs=1\n",
        "  lr=0.25 # lr SGD\n",
        "  sigma=1.3\n",
        "  max_per_sample_grad_norm=1.5\n",
        "  delta=1e-5\n",
        "  device='cuda'\n",
        "  save_model=False\n",
        "  disable_dp=True\n",
        "  workers=2\n",
        "  data_root='/mnist'\n",
        "\n",
        "args = Args()\n",
        "device = torch.device(args.device)\n",
        "\n",
        "\n",
        "train_loader = torch.utils.data.DataLoader(\n",
        "    datasets.MNIST(\n",
        "        args.data_root,\n",
        "        train=True,\n",
        "        download=True,\n",
        "        transform=transforms.Compose(\n",
        "            [\n",
        "                transforms.ToTensor(),\n",
        "                transforms.Normalize((MNIST_MEAN,), (MNIST_STD,)),\n",
        "            ]\n",
        "        ),\n",
        "    ),\n",
        "    batch_size=args.batch_size,\n",
        "    shuffle=True,\n",
        ")\n",
        "test_loader = torch.utils.data.DataLoader(\n",
        "    datasets.MNIST(\n",
        "        args.data_root,\n",
        "        train=False,\n",
        "        transform=transforms.Compose(\n",
        "            [\n",
        "                transforms.ToTensor(),\n",
        "                transforms.Normalize((MNIST_MEAN,), (MNIST_STD,)),\n",
        "            ]\n",
        "        ),\n",
        "    ),\n",
        "    batch_size=args.test_batch_size,\n",
        "    shuffle=True,\n",
        ")\n",
        "        \n",
        "tr_loss = np.zeros((args.n_runs,args.epochs))\n",
        "te_loss = np.zeros((args.n_runs,args.epochs))\n",
        "te_accu = np.zeros((args.n_runs,args.epochs))\n",
        "eps = np.zeros((args.n_runs,args.epochs))\n",
        "for run in range(args.n_runs):\n",
        "    net = SampleConvNet().to(device)\n",
        "\n",
        "    optimizer = optim.SGD(net.parameters(), lr=args.lr,weight_decay =0.01)\n",
        "    if not args.disable_dp:\n",
        "        privacy_engine = PrivacyEngine(\n",
        "            net,\n",
        "            batch_size=args.batch_size,\n",
        "            sample_size=len(train_loader.dataset),\n",
        "            alphas=[1 + x / 10.0 for x in range(1, 100)] + list(range(12, 64)),\n",
        "            noise_multiplier=1.3,\n",
        "            max_grad_norm=args.max_per_sample_grad_norm,\n",
        "        )\n",
        "        privacy_engine.attach(optimizer)\n",
        "    for epoch in range(1, args.epochs + 1):\n",
        "        tr_loss[run,epoch-1],eps[run,epoch-1]=train(args, net, device, train_loader, optimizer, epoch)\n",
        "        te_loss[run,epoch-1],te_accu[run,epoch-1]=test(args, net, device, test_loader)\n",
        "\n",
        "if args.n_runs > 1:\n",
        "    print('Training loss: ',np.mean(tr_loss,axis=0),np.std(tr_loss,axis=0))\n",
        "    print('Testing loss: ',np.mean(te_loss,axis=0),np.std(te_loss,axis=0))\n",
        "    print('Testing accuracy: ',np.mean(te_accu,axis=0),np.std(te_accu,axis=0))\n",
        "\n",
        "plt.plot(np.mean(eps,axis=0),np.mean(te_accu,axis=0))\n",
        "\n",
        "repro_str = (\n",
        "    f\"{net.name()}_{args.lr}_{args.sigma}_\"\n",
        "    f\"{args.max_per_sample_grad_norm}_{args.batch_size}_{args.epochs}_MNIST\"\n",
        ")\n",
        "torch.save([tr_loss,te_loss,te_accu,eps], f\"run_results_{repro_str}.pt\")\n"
      ],
      "execution_count": null,
      "outputs": [
        {
          "output_type": "stream",
          "text": [
            "Train Epoch: 1 \t Loss: 1.033231\n",
            "\n",
            "Test set: Average loss: 0.0388, Accuracy: 9238/10000 (92.3800%)\n",
            "\n",
            "Train Epoch: 2 \t Loss: 0.591669\n",
            "\n",
            "Test set: Average loss: 0.0472, Accuracy: 9090/10000 (90.9000%)\n",
            "\n",
            "Train Epoch: 3 \t Loss: 0.193496\n",
            "\n",
            "Test set: Average loss: 0.0287, Accuracy: 9435/10000 (94.3500%)\n",
            "\n",
            "Train Epoch: 4 \t Loss: 0.156779\n",
            "\n",
            "Test set: Average loss: 0.0180, Accuracy: 9667/10000 (96.6700%)\n",
            "\n",
            "Train Epoch: 5 \t Loss: 0.418925\n",
            "\n",
            "Test set: Average loss: 0.0339, Accuracy: 9365/10000 (93.6500%)\n",
            "\n",
            "Train Epoch: 6 \t Loss: 0.156705\n",
            "\n",
            "Test set: Average loss: 0.0195, Accuracy: 9636/10000 (96.3600%)\n",
            "\n",
            "Train Epoch: 7 \t Loss: 0.634463\n",
            "\n",
            "Test set: Average loss: 0.3138, Accuracy: 3936/10000 (39.3600%)\n",
            "\n",
            "Train Epoch: 8 \t Loss: 0.522198\n",
            "\n",
            "Test set: Average loss: 0.0233, Accuracy: 9576/10000 (95.7600%)\n",
            "\n",
            "Train Epoch: 9 \t Loss: 0.313471\n",
            "\n",
            "Test set: Average loss: 0.0202, Accuracy: 9624/10000 (96.2400%)\n",
            "\n",
            "Train Epoch: 10 \t Loss: 0.268737\n",
            "\n",
            "Test set: Average loss: 0.0247, Accuracy: 9574/10000 (95.7400%)\n",
            "\n",
            "Train Epoch: 11 \t Loss: 0.151448\n",
            "\n",
            "Test set: Average loss: 0.0250, Accuracy: 9498/10000 (94.9800%)\n",
            "\n",
            "Train Epoch: 12 \t Loss: 0.670716\n",
            "\n",
            "Test set: Average loss: 0.0342, Accuracy: 9311/10000 (93.1100%)\n",
            "\n",
            "Train Epoch: 13 \t Loss: 0.172601\n",
            "\n",
            "Test set: Average loss: 0.0518, Accuracy: 8856/10000 (88.5600%)\n",
            "\n",
            "Train Epoch: 14 \t Loss: 0.331199\n",
            "\n",
            "Test set: Average loss: 0.0397, Accuracy: 9236/10000 (92.3600%)\n",
            "\n",
            "Train Epoch: 15 \t Loss: 0.155513\n",
            "\n",
            "Test set: Average loss: 0.0429, Accuracy: 9134/10000 (91.3400%)\n",
            "\n"
          ],
          "name": "stdout"
        },
        {
          "output_type": "display_data",
          "data": {
            "image/png": "[encoded data removed]",
            "text/plain": [
              "<Figure size 432x288 with 1 Axes>"
            ]
          },
          "metadata": {
            "tags": [],
            "needs_background": "light"
          }
        }
      ]
    },
    {
      "cell_type": "code",
      "metadata": {
        "colab": {
          "base_uri": "https://localhost:8080/",
          "height": 334
        },
        "id": "5bFOljVfvG4T",
        "outputId": "a052fd58-cc6d-417c-86db-eced919b2a27"
      },
      "source": [
        "model_local=net\n",
        "model_local.eval()\n",
        "y_local_te=np.empty((0,10))\n",
        "y_local_te_single=np.array([])\n",
        "targets_te=np.array([])\n",
        "prob_local=np.array([])\n",
        "with torch.no_grad():\n",
        "        for data, target in tqdm(test_loader):\n",
        "            data, target = data.to(device), target.to(device)\n",
        "            output = model_local(data)\n",
        "            y_local_te=np.append(y_local_te,F.softmax(output,dim=1).cpu().detach().numpy(),axis=0)\n",
        "            y_local_te_single=np.append(y_local_te_single,F.softmax(output,dim=1).argmax(dim=1).cpu().detach().numpy())\n",
        "            prob_local=np.append(prob_local,np.array([F.softmax(output,dim=1).cpu().detach().numpy()[i,j] for i,j in enumerate(target.cpu().detach().numpy())]))\n",
        "            targets_te=np.append(targets_te,target.cpu().detach().numpy())\n",
        "\n",
        "\n",
        "local_acc = np.mean(y_local_te_single == targets_te)\n",
        "print(\"######## ECE: ##############\")\n",
        "print(f\"Local accuracy: {local_acc}, predicted confidence {np.mean(np.max(y_local_te,axis=1))}, ECE {np.abs(local_acc - np.mean(np.max(y_local_te,axis=1)))}\")\n",
        "\n",
        "\n",
        "plt.plot(0,0,linestyle='dashed',color='black')\n",
        "plt.plot(0,0,color='black')\n",
        "plt.plot(0,0,color='#ff7f0e')\n",
        "plt.plot([np.mean(targets_te==y_local_te_single)]*20,np.linspace(0,1500,20),linestyle='dashed',color='#ff7f0e',label='local Accu')\n",
        "plt.plot([np.mean(np.max(y_local_te,axis=1))]*20,np.linspace(0,1500,20),color='#ff7f0e')\n",
        "\n",
        "plt.hist([np.max(y_local_te,axis=1)],bins=30)\n",
        "plt.ylim(0,1500)\n",
        "plt.xlim(0,1)\n",
        "plt.xlabel('Confidence', fontsize=15)\n",
        "plt.ylabel('Number of Samples', fontsize=15)\n",
        "plt.legend(('Accuracy','Avg Confidence',r'DP-SGD${}_{global}$',r'DP-SGD${}_{local}$'),fontsize=13,loc='upper left',frameon=False)\n",
        "plt.savefig('Confidence_CIFAR10.pdf',format='pdf')\n",
        "plt.show()\n"
      ],
      "execution_count": null,
      "outputs": [
        {
          "output_type": "stream",
          "text": [
            "100%|██████████| 10/10 [00:01<00:00,  6.24it/s]\n"
          ],
          "name": "stderr"
        },
        {
          "output_type": "stream",
          "text": [
            "######## ECE: ##############\n",
            "Local accuracy: 0.9134, predicted confidence 0.9113617735147477, ECE 0.0020382264852523146\n"
          ],
          "name": "stdout"
        },
        {
          "output_type": "display_data",
          "data": {
            "image/png": "[encoded data removed]",
            "text/plain": [
              "<Figure size 432x288 with 1 Axes>"
            ]
          },
          "metadata": {
            "tags": [],
            "needs_background": "light"
          }
        }
      ]
    },
    {
      "cell_type": "code",
      "metadata": {
        "colab": {
          "base_uri": "https://localhost:8080/",
          "height": 389
        },
        "id": "zCydqq2EvJkz",
        "outputId": "ab659e76-dd7f-4890-c646-4e226549f397"
      },
      "source": [
        "store_local=[]\n",
        "templ=np.max(y_local_te,axis=1)\n",
        "dr=0.05\n",
        "for ratio in np.arange(0,1,dr):\n",
        "    index=(templ>ratio)*(templ<ratio+dr)\n",
        "    store_local.append(np.mean(y_local_te_single[index]==targets_te[index]))\n",
        "\n",
        "# some has nan, replace with 0\n",
        "store_local=np.array(store_local)\n",
        "store_local[np.isnan(store_local)]=0\n",
        "#%%\n",
        "xaxis=np.arange(0,1,dr)+dr/2\n",
        "plt.bar(xaxis[store_local!=0],store_local[store_local!=0],width=dr, edgecolor=\"black\")\n",
        "plt.bar(xaxis[store_local!=0],xaxis[store_local!=0]-store_local[store_local!=0],bottom=store_local[store_local!=0],width=dr, edgecolor=\"black\",color='yellow',alpha=0.5)\n",
        "plt.bar(10,10,bottom=store_local,width=dr, edgecolor=\"black\",color='green',alpha=0.5)\n",
        "plt.plot([0,1],[0,1],color='black',linewidth=2,linestyle='dashed')\n",
        "plt.xlim(0,1)\n",
        "plt.ylim(0,1)\n",
        "plt.xlabel('Confidence', fontsize=15)\n",
        "plt.ylabel('Accuracy', fontsize=15)\n",
        "#plt.legend(('Perfect calibration','Accuracy','Over-confidence','Under-confidence'),fontsize=13,frameon=0)\n",
        "plt.savefig('Confidence_CIFAR10_detail_LOCAL.pdf',format='pdf')\n",
        "plt.show()\n",
        "#%%\n",
        "print(\"######## MCE: ##############\")\n",
        "print(f\"Local MCE: {np.max(np.abs(xaxis[store_local!=0]-store_local[store_local!=0]))}\")\n"
      ],
      "execution_count": null,
      "outputs": [
        {
          "output_type": "stream",
          "text": [
            "/usr/local/lib/python3.7/dist-packages/numpy/core/fromnumeric.py:3373: RuntimeWarning: Mean of empty slice.\n",
            "  out=out, **kwargs)\n",
            "/usr/local/lib/python3.7/dist-packages/numpy/core/_methods.py:170: RuntimeWarning: invalid value encountered in double_scalars\n",
            "  ret = ret.dtype.type(ret / rcount)\n"
          ],
          "name": "stderr"
        },
        {
          "output_type": "display_data",
          "data": {
            "image/png": "[encoded data removed]",
            "text/plain": [
              "<Figure size 432x288 with 1 Axes>"
            ]
          },
          "metadata": {
            "tags": [],
            "needs_background": "light"
          }
        },
        {
          "output_type": "stream",
          "text": [
            "######## MCE: ##############\n",
            "Local MCE: 0.059259259259259234\n"
          ],
          "name": "stdout"
        }
      ]
    },
    {
      "cell_type": "code",
      "metadata": {
        "colab": {
          "base_uri": "https://localhost:8080/",
          "height": 438
        },
        "id": "fMlAMAR20La8",
        "outputId": "59b320c5-b3cb-4481-97c2-f04b92c24913"
      },
      "source": [
        "class Args:\n",
        "  batch_size=256;\n",
        "  test_batch_size=1000;\n",
        "  epochs=15\n",
        "  n_runs=1\n",
        "  lr=0.25 # lr SGD\n",
        "  sigma=1.3\n",
        "  max_per_sample_grad_norm=1.5\n",
        "  delta=1e-5\n",
        "  device='cuda'\n",
        "  save_model=False\n",
        "  disable_dp=True\n",
        "  workers=2\n",
        "  data_root='/mnist'\n",
        "\n",
        "args = Args()\n",
        "device = torch.device(args.device)\n",
        "\n",
        "\n",
        "train_loader = torch.utils.data.DataLoader(\n",
        "    datasets.MNIST(\n",
        "        args.data_root,\n",
        "        train=True,\n",
        "        download=True,\n",
        "        transform=transforms.Compose(\n",
        "            [\n",
        "                transforms.ToTensor(),\n",
        "                transforms.Normalize((MNIST_MEAN,), (MNIST_STD,)),\n",
        "            ]\n",
        "        ),\n",
        "    ),\n",
        "    batch_size=args.batch_size,\n",
        "    shuffle=True,\n",
        ")\n",
        "test_loader = torch.utils.data.DataLoader(\n",
        "    datasets.MNIST(\n",
        "        args.data_root,\n",
        "        train=False,\n",
        "        transform=transforms.Compose(\n",
        "            [\n",
        "                transforms.ToTensor(),\n",
        "                transforms.Normalize((MNIST_MEAN,), (MNIST_STD,)),\n",
        "            ]\n",
        "        ),\n",
        "    ),\n",
        "    batch_size=args.test_batch_size,\n",
        "    shuffle=True,\n",
        ")\n",
        "        \n",
        "tr_loss = np.zeros((args.n_runs,args.epochs))\n",
        "te_loss = np.zeros((args.n_runs,args.epochs))\n",
        "te_accu = np.zeros((args.n_runs,args.epochs))\n",
        "eps = np.zeros((args.n_runs,args.epochs))\n",
        "for run in range(args.n_runs):\n",
        "    net = SampleConvNet().to(device)\n",
        "\n",
        "    optimizer = optim.SGD(net.parameters(), lr=args.lr,weight_decay =0.001)\n",
        "    if not args.disable_dp:\n",
        "        privacy_engine = PrivacyEngine(\n",
        "            net,\n",
        "            batch_size=args.batch_size,\n",
        "            sample_size=len(train_loader.dataset),\n",
        "            alphas=[1 + x / 10.0 for x in range(1, 100)] + list(range(12, 64)),\n",
        "            noise_multiplier=1.3,\n",
        "            max_grad_norm=args.max_per_sample_grad_norm,\n",
        "        )\n",
        "        privacy_engine.attach(optimizer)\n",
        "    for epoch in range(1, args.epochs + 1):\n",
        "        tr_loss[run,epoch-1],eps[run,epoch-1]=train(args, net, device, train_loader, optimizer, epoch)\n",
        "        te_loss[run,epoch-1],te_accu[run,epoch-1]=test(args, net, device, test_loader)\n",
        "\n",
        "if args.n_runs > 1:\n",
        "    print('Training loss: ',np.mean(tr_loss,axis=0),np.std(tr_loss,axis=0))\n",
        "    print('Testing loss: ',np.mean(te_loss,axis=0),np.std(te_loss,axis=0))\n",
        "    print('Testing accuracy: ',np.mean(te_accu,axis=0),np.std(te_accu,axis=0))\n",
        "\n",
        "plt.plot(np.mean(eps,axis=0),np.mean(te_accu,axis=0))\n",
        "\n",
        "repro_str = (\n",
        "    f\"{net.name()}_{args.lr}_{args.sigma}_\"\n",
        "    f\"{args.max_per_sample_grad_norm}_{args.batch_size}_{args.epochs}_MNIST\"\n",
        ")\n",
        "torch.save([tr_loss,te_loss,te_accu,eps], f\"run_results_{repro_str}.pt\")\n"
      ],
      "execution_count": null,
      "outputs": [
        {
          "output_type": "stream",
          "text": [
            "Train Epoch: 1 \t Loss: 0.628626\n",
            "\n",
            "Test set: Average loss: 0.0177, Accuracy: 9666/10000 (96.6600%)\n",
            "\n"
          ],
          "name": "stdout"
        },
        {
          "output_type": "error",
          "ename": "KeyboardInterrupt",
          "evalue": "ignored",
          "traceback": [
            "\u001b[0;31m---------------------------------------------------------------------------\u001b[0m",
            "\u001b[0;31mKeyboardInterrupt\u001b[0m                         Traceback (most recent call last)",
            "\u001b[0;32m<ipython-input-7-cee1d4f427a4>\u001b[0m in \u001b[0;36m<module>\u001b[0;34m()\u001b[0m\n\u001b[1;32m     67\u001b[0m         \u001b[0mprivacy_engine\u001b[0m\u001b[0;34m.\u001b[0m\u001b[0mattach\u001b[0m\u001b[0;34m(\u001b[0m\u001b[0moptimizer\u001b[0m\u001b[0;34m)\u001b[0m\u001b[0;34m\u001b[0m\u001b[0;34m\u001b[0m\u001b[0m\n\u001b[1;32m     68\u001b[0m     \u001b[0;32mfor\u001b[0m \u001b[0mepoch\u001b[0m \u001b[0;32min\u001b[0m \u001b[0mrange\u001b[0m\u001b[0;34m(\u001b[0m\u001b[0;36m1\u001b[0m\u001b[0;34m,\u001b[0m \u001b[0margs\u001b[0m\u001b[0;34m.\u001b[0m\u001b[0mepochs\u001b[0m \u001b[0;34m+\u001b[0m \u001b[0;36m1\u001b[0m\u001b[0;34m)\u001b[0m\u001b[0;34m:\u001b[0m\u001b[0;34m\u001b[0m\u001b[0;34m\u001b[0m\u001b[0m\n\u001b[0;32m---> 69\u001b[0;31m         \u001b[0mtr_loss\u001b[0m\u001b[0;34m[\u001b[0m\u001b[0mrun\u001b[0m\u001b[0;34m,\u001b[0m\u001b[0mepoch\u001b[0m\u001b[0;34m-\u001b[0m\u001b[0;36m1\u001b[0m\u001b[0;34m]\u001b[0m\u001b[0;34m,\u001b[0m\u001b[0meps\u001b[0m\u001b[0;34m[\u001b[0m\u001b[0mrun\u001b[0m\u001b[0;34m,\u001b[0m\u001b[0mepoch\u001b[0m\u001b[0;34m-\u001b[0m\u001b[0;36m1\u001b[0m\u001b[0;34m]\u001b[0m\u001b[0;34m=\u001b[0m\u001b[0mtrain\u001b[0m\u001b[0;34m(\u001b[0m\u001b[0margs\u001b[0m\u001b[0;34m,\u001b[0m \u001b[0mnet\u001b[0m\u001b[0;34m,\u001b[0m \u001b[0mdevice\u001b[0m\u001b[0;34m,\u001b[0m \u001b[0mtrain_loader\u001b[0m\u001b[0;34m,\u001b[0m \u001b[0moptimizer\u001b[0m\u001b[0;34m,\u001b[0m \u001b[0mepoch\u001b[0m\u001b[0;34m)\u001b[0m\u001b[0;34m\u001b[0m\u001b[0;34m\u001b[0m\u001b[0m\n\u001b[0m\u001b[1;32m     70\u001b[0m         \u001b[0mte_loss\u001b[0m\u001b[0;34m[\u001b[0m\u001b[0mrun\u001b[0m\u001b[0;34m,\u001b[0m\u001b[0mepoch\u001b[0m\u001b[0;34m-\u001b[0m\u001b[0;36m1\u001b[0m\u001b[0;34m]\u001b[0m\u001b[0;34m,\u001b[0m\u001b[0mte_accu\u001b[0m\u001b[0;34m[\u001b[0m\u001b[0mrun\u001b[0m\u001b[0;34m,\u001b[0m\u001b[0mepoch\u001b[0m\u001b[0;34m-\u001b[0m\u001b[0;36m1\u001b[0m\u001b[0;34m]\u001b[0m\u001b[0;34m=\u001b[0m\u001b[0mtest\u001b[0m\u001b[0;34m(\u001b[0m\u001b[0margs\u001b[0m\u001b[0;34m,\u001b[0m \u001b[0mnet\u001b[0m\u001b[0;34m,\u001b[0m \u001b[0mdevice\u001b[0m\u001b[0;34m,\u001b[0m \u001b[0mtest_loader\u001b[0m\u001b[0;34m)\u001b[0m\u001b[0;34m\u001b[0m\u001b[0;34m\u001b[0m\u001b[0m\n\u001b[1;32m     71\u001b[0m \u001b[0;34m\u001b[0m\u001b[0m\n",
            "\u001b[0;32m<ipython-input-2-4ff5d91cac66>\u001b[0m in \u001b[0;36mtrain\u001b[0;34m(args, model, device, train_loader, optimizer, epoch)\u001b[0m\n\u001b[1;32m     73\u001b[0m     \u001b[0mcriterion\u001b[0m \u001b[0;34m=\u001b[0m \u001b[0mnn\u001b[0m\u001b[0;34m.\u001b[0m\u001b[0mCrossEntropyLoss\u001b[0m\u001b[0;34m(\u001b[0m\u001b[0;34m)\u001b[0m\u001b[0;34m\u001b[0m\u001b[0;34m\u001b[0m\u001b[0m\n\u001b[1;32m     74\u001b[0m     \u001b[0mlosses\u001b[0m \u001b[0;34m=\u001b[0m \u001b[0;34m[\u001b[0m\u001b[0;34m]\u001b[0m\u001b[0;34m\u001b[0m\u001b[0;34m\u001b[0m\u001b[0m\n\u001b[0;32m---> 75\u001b[0;31m     \u001b[0;32mfor\u001b[0m \u001b[0m_batch_idx\u001b[0m\u001b[0;34m,\u001b[0m \u001b[0;34m(\u001b[0m\u001b[0mdata\u001b[0m\u001b[0;34m,\u001b[0m \u001b[0mtarget\u001b[0m\u001b[0;34m)\u001b[0m \u001b[0;32min\u001b[0m \u001b[0menumerate\u001b[0m\u001b[0;34m(\u001b[0m\u001b[0mtrain_loader\u001b[0m\u001b[0;34m)\u001b[0m\u001b[0;34m:\u001b[0m\u001b[0;34m\u001b[0m\u001b[0;34m\u001b[0m\u001b[0m\n\u001b[0m\u001b[1;32m     76\u001b[0m         \u001b[0mdata\u001b[0m\u001b[0;34m,\u001b[0m \u001b[0mtarget\u001b[0m \u001b[0;34m=\u001b[0m \u001b[0mdata\u001b[0m\u001b[0;34m.\u001b[0m\u001b[0mto\u001b[0m\u001b[0;34m(\u001b[0m\u001b[0mdevice\u001b[0m\u001b[0;34m)\u001b[0m\u001b[0;34m,\u001b[0m \u001b[0mtarget\u001b[0m\u001b[0;34m.\u001b[0m\u001b[0mto\u001b[0m\u001b[0;34m(\u001b[0m\u001b[0mdevice\u001b[0m\u001b[0;34m)\u001b[0m\u001b[0;34m\u001b[0m\u001b[0;34m\u001b[0m\u001b[0m\n\u001b[1;32m     77\u001b[0m         \u001b[0moptimizer\u001b[0m\u001b[0;34m.\u001b[0m\u001b[0mzero_grad\u001b[0m\u001b[0;34m(\u001b[0m\u001b[0;34m)\u001b[0m\u001b[0;34m\u001b[0m\u001b[0;34m\u001b[0m\u001b[0m\n",
            "\u001b[0;32m/usr/local/lib/python3.7/dist-packages/torch/utils/data/dataloader.py\u001b[0m in \u001b[0;36m__next__\u001b[0;34m(self)\u001b[0m\n\u001b[1;32m    519\u001b[0m             \u001b[0;32mif\u001b[0m \u001b[0mself\u001b[0m\u001b[0;34m.\u001b[0m\u001b[0m_sampler_iter\u001b[0m \u001b[0;32mis\u001b[0m \u001b[0;32mNone\u001b[0m\u001b[0;34m:\u001b[0m\u001b[0;34m\u001b[0m\u001b[0;34m\u001b[0m\u001b[0m\n\u001b[1;32m    520\u001b[0m                 \u001b[0mself\u001b[0m\u001b[0;34m.\u001b[0m\u001b[0m_reset\u001b[0m\u001b[0;34m(\u001b[0m\u001b[0;34m)\u001b[0m\u001b[0;34m\u001b[0m\u001b[0;34m\u001b[0m\u001b[0m\n\u001b[0;32m--> 521\u001b[0;31m             \u001b[0mdata\u001b[0m \u001b[0;34m=\u001b[0m \u001b[0mself\u001b[0m\u001b[0;34m.\u001b[0m\u001b[0m_next_data\u001b[0m\u001b[0;34m(\u001b[0m\u001b[0;34m)\u001b[0m\u001b[0;34m\u001b[0m\u001b[0;34m\u001b[0m\u001b[0m\n\u001b[0m\u001b[1;32m    522\u001b[0m             \u001b[0mself\u001b[0m\u001b[0;34m.\u001b[0m\u001b[0m_num_yielded\u001b[0m \u001b[0;34m+=\u001b[0m \u001b[0;36m1\u001b[0m\u001b[0;34m\u001b[0m\u001b[0;34m\u001b[0m\u001b[0m\n\u001b[1;32m    523\u001b[0m             \u001b[0;32mif\u001b[0m \u001b[0mself\u001b[0m\u001b[0;34m.\u001b[0m\u001b[0m_dataset_kind\u001b[0m \u001b[0;34m==\u001b[0m \u001b[0m_DatasetKind\u001b[0m\u001b[0;34m.\u001b[0m\u001b[0mIterable\u001b[0m \u001b[0;32mand\u001b[0m\u001b[0;31m \u001b[0m\u001b[0;31m\\\u001b[0m\u001b[0;34m\u001b[0m\u001b[0;34m\u001b[0m\u001b[0m\n",
            "\u001b[0;32m/usr/local/lib/python3.7/dist-packages/torch/utils/data/dataloader.py\u001b[0m in \u001b[0;36m_next_data\u001b[0;34m(self)\u001b[0m\n\u001b[1;32m    559\u001b[0m     \u001b[0;32mdef\u001b[0m \u001b[0m_next_data\u001b[0m\u001b[0;34m(\u001b[0m\u001b[0mself\u001b[0m\u001b[0;34m)\u001b[0m\u001b[0;34m:\u001b[0m\u001b[0;34m\u001b[0m\u001b[0;34m\u001b[0m\u001b[0m\n\u001b[1;32m    560\u001b[0m         \u001b[0mindex\u001b[0m \u001b[0;34m=\u001b[0m \u001b[0mself\u001b[0m\u001b[0;34m.\u001b[0m\u001b[0m_next_index\u001b[0m\u001b[0;34m(\u001b[0m\u001b[0;34m)\u001b[0m  \u001b[0;31m# may raise StopIteration\u001b[0m\u001b[0;34m\u001b[0m\u001b[0;34m\u001b[0m\u001b[0m\n\u001b[0;32m--> 561\u001b[0;31m         \u001b[0mdata\u001b[0m \u001b[0;34m=\u001b[0m \u001b[0mself\u001b[0m\u001b[0;34m.\u001b[0m\u001b[0m_dataset_fetcher\u001b[0m\u001b[0;34m.\u001b[0m\u001b[0mfetch\u001b[0m\u001b[0;34m(\u001b[0m\u001b[0mindex\u001b[0m\u001b[0;34m)\u001b[0m  \u001b[0;31m# may raise StopIteration\u001b[0m\u001b[0;34m\u001b[0m\u001b[0;34m\u001b[0m\u001b[0m\n\u001b[0m\u001b[1;32m    562\u001b[0m         \u001b[0;32mif\u001b[0m \u001b[0mself\u001b[0m\u001b[0;34m.\u001b[0m\u001b[0m_pin_memory\u001b[0m\u001b[0;34m:\u001b[0m\u001b[0;34m\u001b[0m\u001b[0;34m\u001b[0m\u001b[0m\n\u001b[1;32m    563\u001b[0m             \u001b[0mdata\u001b[0m \u001b[0;34m=\u001b[0m \u001b[0m_utils\u001b[0m\u001b[0;34m.\u001b[0m\u001b[0mpin_memory\u001b[0m\u001b[0;34m.\u001b[0m\u001b[0mpin_memory\u001b[0m\u001b[0;34m(\u001b[0m\u001b[0mdata\u001b[0m\u001b[0;34m)\u001b[0m\u001b[0;34m\u001b[0m\u001b[0;34m\u001b[0m\u001b[0m\n",
            "\u001b[0;32m/usr/local/lib/python3.7/dist-packages/torch/utils/data/_utils/fetch.py\u001b[0m in \u001b[0;36mfetch\u001b[0;34m(self, possibly_batched_index)\u001b[0m\n\u001b[1;32m     42\u001b[0m     \u001b[0;32mdef\u001b[0m \u001b[0mfetch\u001b[0m\u001b[0;34m(\u001b[0m\u001b[0mself\u001b[0m\u001b[0;34m,\u001b[0m \u001b[0mpossibly_batched_index\u001b[0m\u001b[0;34m)\u001b[0m\u001b[0;34m:\u001b[0m\u001b[0;34m\u001b[0m\u001b[0;34m\u001b[0m\u001b[0m\n\u001b[1;32m     43\u001b[0m         \u001b[0;32mif\u001b[0m \u001b[0mself\u001b[0m\u001b[0;34m.\u001b[0m\u001b[0mauto_collation\u001b[0m\u001b[0;34m:\u001b[0m\u001b[0;34m\u001b[0m\u001b[0;34m\u001b[0m\u001b[0m\n\u001b[0;32m---> 44\u001b[0;31m             \u001b[0mdata\u001b[0m \u001b[0;34m=\u001b[0m \u001b[0;34m[\u001b[0m\u001b[0mself\u001b[0m\u001b[0;34m.\u001b[0m\u001b[0mdataset\u001b[0m\u001b[0;34m[\u001b[0m\u001b[0midx\u001b[0m\u001b[0;34m]\u001b[0m \u001b[0;32mfor\u001b[0m \u001b[0midx\u001b[0m \u001b[0;32min\u001b[0m \u001b[0mpossibly_batched_index\u001b[0m\u001b[0;34m]\u001b[0m\u001b[0;34m\u001b[0m\u001b[0;34m\u001b[0m\u001b[0m\n\u001b[0m\u001b[1;32m     45\u001b[0m         \u001b[0;32melse\u001b[0m\u001b[0;34m:\u001b[0m\u001b[0;34m\u001b[0m\u001b[0;34m\u001b[0m\u001b[0m\n\u001b[1;32m     46\u001b[0m             \u001b[0mdata\u001b[0m \u001b[0;34m=\u001b[0m \u001b[0mself\u001b[0m\u001b[0;34m.\u001b[0m\u001b[0mdataset\u001b[0m\u001b[0;34m[\u001b[0m\u001b[0mpossibly_batched_index\u001b[0m\u001b[0;34m]\u001b[0m\u001b[0;34m\u001b[0m\u001b[0;34m\u001b[0m\u001b[0m\n",
            "\u001b[0;32m/usr/local/lib/python3.7/dist-packages/torch/utils/data/_utils/fetch.py\u001b[0m in \u001b[0;36m<listcomp>\u001b[0;34m(.0)\u001b[0m\n\u001b[1;32m     42\u001b[0m     \u001b[0;32mdef\u001b[0m \u001b[0mfetch\u001b[0m\u001b[0;34m(\u001b[0m\u001b[0mself\u001b[0m\u001b[0;34m,\u001b[0m \u001b[0mpossibly_batched_index\u001b[0m\u001b[0;34m)\u001b[0m\u001b[0;34m:\u001b[0m\u001b[0;34m\u001b[0m\u001b[0;34m\u001b[0m\u001b[0m\n\u001b[1;32m     43\u001b[0m         \u001b[0;32mif\u001b[0m \u001b[0mself\u001b[0m\u001b[0;34m.\u001b[0m\u001b[0mauto_collation\u001b[0m\u001b[0;34m:\u001b[0m\u001b[0;34m\u001b[0m\u001b[0;34m\u001b[0m\u001b[0m\n\u001b[0;32m---> 44\u001b[0;31m             \u001b[0mdata\u001b[0m \u001b[0;34m=\u001b[0m \u001b[0;34m[\u001b[0m\u001b[0mself\u001b[0m\u001b[0;34m.\u001b[0m\u001b[0mdataset\u001b[0m\u001b[0;34m[\u001b[0m\u001b[0midx\u001b[0m\u001b[0;34m]\u001b[0m \u001b[0;32mfor\u001b[0m \u001b[0midx\u001b[0m \u001b[0;32min\u001b[0m \u001b[0mpossibly_batched_index\u001b[0m\u001b[0;34m]\u001b[0m\u001b[0;34m\u001b[0m\u001b[0;34m\u001b[0m\u001b[0m\n\u001b[0m\u001b[1;32m     45\u001b[0m         \u001b[0;32melse\u001b[0m\u001b[0;34m:\u001b[0m\u001b[0;34m\u001b[0m\u001b[0;34m\u001b[0m\u001b[0m\n\u001b[1;32m     46\u001b[0m             \u001b[0mdata\u001b[0m \u001b[0;34m=\u001b[0m \u001b[0mself\u001b[0m\u001b[0;34m.\u001b[0m\u001b[0mdataset\u001b[0m\u001b[0;34m[\u001b[0m\u001b[0mpossibly_batched_index\u001b[0m\u001b[0;34m]\u001b[0m\u001b[0;34m\u001b[0m\u001b[0;34m\u001b[0m\u001b[0m\n",
            "\u001b[0;32m/usr/local/lib/python3.7/dist-packages/torchvision/datasets/mnist.py\u001b[0m in \u001b[0;36m__getitem__\u001b[0;34m(self, index)\u001b[0m\n\u001b[1;32m    125\u001b[0m             \u001b[0mtuple\u001b[0m\u001b[0;34m:\u001b[0m \u001b[0;34m(\u001b[0m\u001b[0mimage\u001b[0m\u001b[0;34m,\u001b[0m \u001b[0mtarget\u001b[0m\u001b[0;34m)\u001b[0m \u001b[0mwhere\u001b[0m \u001b[0mtarget\u001b[0m \u001b[0;32mis\u001b[0m \u001b[0mindex\u001b[0m \u001b[0mof\u001b[0m \u001b[0mthe\u001b[0m \u001b[0mtarget\u001b[0m \u001b[0;32mclass\u001b[0m\u001b[0;34m.\u001b[0m\u001b[0;34m\u001b[0m\u001b[0;34m\u001b[0m\u001b[0m\n\u001b[1;32m    126\u001b[0m         \"\"\"\n\u001b[0;32m--> 127\u001b[0;31m         \u001b[0mimg\u001b[0m\u001b[0;34m,\u001b[0m \u001b[0mtarget\u001b[0m \u001b[0;34m=\u001b[0m \u001b[0mself\u001b[0m\u001b[0;34m.\u001b[0m\u001b[0mdata\u001b[0m\u001b[0;34m[\u001b[0m\u001b[0mindex\u001b[0m\u001b[0;34m]\u001b[0m\u001b[0;34m,\u001b[0m \u001b[0mint\u001b[0m\u001b[0;34m(\u001b[0m\u001b[0mself\u001b[0m\u001b[0;34m.\u001b[0m\u001b[0mtargets\u001b[0m\u001b[0;34m[\u001b[0m\u001b[0mindex\u001b[0m\u001b[0;34m]\u001b[0m\u001b[0;34m)\u001b[0m\u001b[0;34m\u001b[0m\u001b[0;34m\u001b[0m\u001b[0m\n\u001b[0m\u001b[1;32m    128\u001b[0m \u001b[0;34m\u001b[0m\u001b[0m\n\u001b[1;32m    129\u001b[0m         \u001b[0;31m# doing this so that it is consistent with all other datasets\u001b[0m\u001b[0;34m\u001b[0m\u001b[0;34m\u001b[0m\u001b[0;34m\u001b[0m\u001b[0m\n",
            "\u001b[0;31mKeyboardInterrupt\u001b[0m: "
          ]
        }
      ]
    },
    {
      "cell_type": "code",
      "metadata": {
        "colab": {
          "base_uri": "https://localhost:8080/",
          "height": 1000
        },
        "id": "hC95WC3q07vH",
        "outputId": "2e7d0595-5a0c-4aaa-b3e3-32ec54f28ce6"
      },
      "source": [
        "class Args:\n",
        "  batch_size=256;\n",
        "  test_batch_size=1000;\n",
        "  epochs=15\n",
        "  n_runs=1\n",
        "  lr=0.25 # lr SGD\n",
        "  sigma=1.3\n",
        "  max_per_sample_grad_norm=1.5\n",
        "  delta=1e-5\n",
        "  device='cuda'\n",
        "  save_model=False\n",
        "  disable_dp=True\n",
        "  workers=2\n",
        "  data_root='/mnist'\n",
        "\n",
        "args = Args()\n",
        "device = torch.device(args.device)\n",
        "\n",
        "\n",
        "train_loader = torch.utils.data.DataLoader(\n",
        "    datasets.MNIST(\n",
        "        args.data_root,\n",
        "        train=True,\n",
        "        download=True,\n",
        "        transform=transforms.Compose(\n",
        "            [\n",
        "                transforms.ToTensor(),\n",
        "                transforms.Normalize((MNIST_MEAN,), (MNIST_STD,)),\n",
        "            ]\n",
        "        ),\n",
        "    ),\n",
        "    batch_size=args.batch_size,\n",
        "    shuffle=True,\n",
        ")\n",
        "test_loader = torch.utils.data.DataLoader(\n",
        "    datasets.MNIST(\n",
        "        args.data_root,\n",
        "        train=False,\n",
        "        transform=transforms.Compose(\n",
        "            [\n",
        "                transforms.ToTensor(),\n",
        "                transforms.Normalize((MNIST_MEAN,), (MNIST_STD,)),\n",
        "            ]\n",
        "        ),\n",
        "    ),\n",
        "    batch_size=args.test_batch_size,\n",
        "    shuffle=True,\n",
        ")\n",
        "        \n",
        "tr_loss = np.zeros((args.n_runs,args.epochs))\n",
        "te_loss = np.zeros((args.n_runs,args.epochs))\n",
        "te_accu = np.zeros((args.n_runs,args.epochs))\n",
        "eps = np.zeros((args.n_runs,args.epochs))\n",
        "for run in range(args.n_runs):\n",
        "    net = SampleConvNet().to(device)\n",
        "\n",
        "    optimizer = optim.SGD(net.parameters(), lr=args.lr,weight_decay =1.0)\n",
        "    if not args.disable_dp:\n",
        "        privacy_engine = PrivacyEngine(\n",
        "            net,\n",
        "            batch_size=args.batch_size,\n",
        "            sample_size=len(train_loader.dataset),\n",
        "            alphas=[1 + x / 10.0 for x in range(1, 100)] + list(range(12, 64)),\n",
        "            noise_multiplier=1.3,\n",
        "            max_grad_norm=args.max_per_sample_grad_norm,\n",
        "        )\n",
        "        privacy_engine.attach(optimizer)\n",
        "    for epoch in range(1, args.epochs + 1):\n",
        "        tr_loss[run,epoch-1],eps[run,epoch-1]=train(args, net, device, train_loader, optimizer, epoch)\n",
        "        te_loss[run,epoch-1],te_accu[run,epoch-1]=test(args, net, device, test_loader)\n",
        "\n",
        "if args.n_runs > 1:\n",
        "    print('Training loss: ',np.mean(tr_loss,axis=0),np.std(tr_loss,axis=0))\n",
        "    print('Testing loss: ',np.mean(te_loss,axis=0),np.std(te_loss,axis=0))\n",
        "    print('Testing accuracy: ',np.mean(te_accu,axis=0),np.std(te_accu,axis=0))\n",
        "\n",
        "plt.plot(np.mean(eps,axis=0),np.mean(te_accu,axis=0))\n",
        "\n",
        "repro_str = (\n",
        "    f\"{net.name()}_{args.lr}_{args.sigma}_\"\n",
        "    f\"{args.max_per_sample_grad_norm}_{args.batch_size}_{args.epochs}_MNIST\"\n",
        ")\n",
        "torch.save([tr_loss,te_loss,te_accu,eps], f\"run_results_{repro_str}.pt\")\n"
      ],
      "execution_count": null,
      "outputs": [
        {
          "output_type": "stream",
          "text": [
            "/usr/local/lib/python3.7/dist-packages/torch/nn/functional.py:718: UserWarning: Named tensors and all their associated APIs are an experimental feature and subject to change. Please do not use them for anything important until they are released as stable. (Triggered internally at  /pytorch/c10/core/TensorImpl.h:1156.)\n",
            "  return torch.max_pool2d(input, kernel_size, stride, padding, dilation, ceil_mode)\n"
          ],
          "name": "stderr"
        },
        {
          "output_type": "stream",
          "text": [
            "Train Epoch: 1 \t Loss: 2.302496\n",
            "\n",
            "Test set: Average loss: 0.3837, Accuracy: 1135/10000 (11.3500%)\n",
            "\n",
            "Train Epoch: 2 \t Loss: 2.302328\n",
            "\n",
            "Test set: Average loss: 0.3837, Accuracy: 1135/10000 (11.3500%)\n",
            "\n",
            "Train Epoch: 3 \t Loss: 2.302348\n",
            "\n",
            "Test set: Average loss: 0.3837, Accuracy: 1028/10000 (10.2800%)\n",
            "\n",
            "Train Epoch: 4 \t Loss: 2.302367\n",
            "\n",
            "Test set: Average loss: 0.3837, Accuracy: 958/10000 (9.5800%)\n",
            "\n",
            "Train Epoch: 5 \t Loss: 2.302395\n",
            "\n",
            "Test set: Average loss: 0.3837, Accuracy: 980/10000 (9.8000%)\n",
            "\n",
            "Train Epoch: 6 \t Loss: 2.302365\n",
            "\n",
            "Test set: Average loss: 0.3837, Accuracy: 1032/10000 (10.3200%)\n",
            "\n",
            "Train Epoch: 7 \t Loss: 2.302315\n",
            "\n",
            "Test set: Average loss: 0.3837, Accuracy: 1010/10000 (10.1000%)\n",
            "\n",
            "Train Epoch: 8 \t Loss: 2.302376\n",
            "\n",
            "Test set: Average loss: 0.3837, Accuracy: 1135/10000 (11.3500%)\n",
            "\n",
            "Train Epoch: 9 \t Loss: 2.302352\n",
            "\n",
            "Test set: Average loss: 0.3837, Accuracy: 1135/10000 (11.3500%)\n",
            "\n",
            "Train Epoch: 10 \t Loss: 2.302334\n",
            "\n",
            "Test set: Average loss: 0.3837, Accuracy: 1135/10000 (11.3500%)\n",
            "\n",
            "Train Epoch: 11 \t Loss: 2.302338\n",
            "\n",
            "Test set: Average loss: 0.3837, Accuracy: 1010/10000 (10.1000%)\n",
            "\n",
            "Train Epoch: 12 \t Loss: 2.302368\n",
            "\n",
            "Test set: Average loss: 0.3838, Accuracy: 1028/10000 (10.2800%)\n",
            "\n",
            "Train Epoch: 13 \t Loss: 2.302403\n",
            "\n",
            "Test set: Average loss: 0.3837, Accuracy: 1028/10000 (10.2800%)\n",
            "\n",
            "Train Epoch: 14 \t Loss: 2.302359\n",
            "\n",
            "Test set: Average loss: 0.3837, Accuracy: 1135/10000 (11.3500%)\n",
            "\n",
            "Train Epoch: 15 \t Loss: 2.302369\n",
            "\n",
            "Test set: Average loss: 0.3837, Accuracy: 1028/10000 (10.2800%)\n",
            "\n"
          ],
          "name": "stdout"
        },
        {
          "output_type": "display_data",
          "data": {
            "image/png": "[encoded data removed]",
            "text/plain": [
              "<Figure size 432x288 with 1 Axes>"
            ]
          },
          "metadata": {
            "tags": [],
            "needs_background": "light"
          }
        }
      ]
    },
    {
      "cell_type": "code",
      "metadata": {
        "colab": {
          "base_uri": "https://localhost:8080/",
          "height": 334
        },
        "id": "A_j-obOHB9Az",
        "outputId": "931c3c26-5f7b-4613-c9a3-b18a3cf6a338"
      },
      "source": [
        "model_local=net\n",
        "model_local.eval()\n",
        "y_local_te=np.empty((0,10))\n",
        "y_local_te_single=np.array([])\n",
        "targets_te=np.array([])\n",
        "prob_local=np.array([])\n",
        "with torch.no_grad():\n",
        "        for data, target in tqdm(test_loader):\n",
        "            data, target = data.to(device), target.to(device)\n",
        "            output = model_local(data)\n",
        "            y_local_te=np.append(y_local_te,F.softmax(output,dim=1).cpu().detach().numpy(),axis=0)\n",
        "            y_local_te_single=np.append(y_local_te_single,F.softmax(output,dim=1).argmax(dim=1).cpu().detach().numpy())\n",
        "            prob_local=np.append(prob_local,np.array([F.softmax(output,dim=1).cpu().detach().numpy()[i,j] for i,j in enumerate(target.cpu().detach().numpy())]))\n",
        "            targets_te=np.append(targets_te,target.cpu().detach().numpy())\n",
        "\n",
        "\n",
        "local_acc = np.mean(y_local_te_single == targets_te)\n",
        "print(\"######## ECE: ##############\")\n",
        "print(f\"Local accuracy: {local_acc}, predicted confidence {np.mean(np.max(y_local_te,axis=1))}, ECE {np.abs(local_acc - np.mean(np.max(y_local_te,axis=1)))}\")\n",
        "\n",
        "\n",
        "plt.plot(0,0,linestyle='dashed',color='black')\n",
        "plt.plot(0,0,color='black')\n",
        "plt.plot(0,0,color='#ff7f0e')\n",
        "plt.plot([np.mean(targets_te==y_local_te_single)]*20,np.linspace(0,1500,20),linestyle='dashed',color='#ff7f0e',label='local Accu')\n",
        "plt.plot([np.mean(np.max(y_local_te,axis=1))]*20,np.linspace(0,1500,20),color='#ff7f0e')\n",
        "\n",
        "plt.hist([np.max(y_local_te,axis=1)],bins=30)\n",
        "plt.ylim(0,1500)\n",
        "plt.xlim(0,1)\n",
        "plt.xlabel('Confidence', fontsize=15)\n",
        "plt.ylabel('Number of Samples', fontsize=15)\n",
        "plt.legend(('Accuracy','Avg Confidence',r'DP-SGD${}_{global}$',r'DP-SGD${}_{local}$'),fontsize=13,loc='upper left',frameon=False)\n",
        "plt.savefig('Confidence_CIFAR10.pdf',format='pdf')\n",
        "plt.show()\n"
      ],
      "execution_count": null,
      "outputs": [
        {
          "output_type": "stream",
          "text": [
            "100%|██████████| 10/10 [00:01<00:00,  5.79it/s]\n"
          ],
          "name": "stderr"
        },
        {
          "output_type": "stream",
          "text": [
            "######## ECE: ##############\n",
            "Local accuracy: 0.8808, predicted confidence 0.9863048032104968, ECE 0.10550480321049682\n"
          ],
          "name": "stdout"
        },
        {
          "output_type": "display_data",
          "data": {
            "image/png": "[encoded data removed]",
            "text/plain": [
              "<Figure size 432x288 with 1 Axes>"
            ]
          },
          "metadata": {
            "tags": [],
            "needs_background": "light"
          }
        }
      ]
    },
    {
      "cell_type": "code",
      "metadata": {
        "colab": {
          "base_uri": "https://localhost:8080/",
          "height": 389
        },
        "id": "tX3QbDkdB_8m",
        "outputId": "6767c690-a1de-4ce0-d4eb-8f387f67de3d"
      },
      "source": [
        "store_local=[]\n",
        "templ=np.max(y_local_te,axis=1)\n",
        "dr=0.05\n",
        "for ratio in np.arange(0,1,dr):\n",
        "    index=(templ>ratio)*(templ<ratio+dr)\n",
        "    store_local.append(np.mean(y_local_te_single[index]==targets_te[index]))\n",
        "\n",
        "# some has nan, replace with 0\n",
        "store_local=np.array(store_local)\n",
        "store_local[np.isnan(store_local)]=0\n",
        "#%%\n",
        "xaxis=np.arange(0,1,dr)+dr/2\n",
        "plt.bar(xaxis[store_local!=0],store_local[store_local!=0],width=dr, edgecolor=\"black\")\n",
        "plt.bar(xaxis[store_local!=0],xaxis[store_local!=0]-store_local[store_local!=0],bottom=store_local[store_local!=0],width=dr, edgecolor=\"black\",color='yellow',alpha=0.5)\n",
        "plt.bar(10,10,bottom=store_local,width=dr, edgecolor=\"black\",color='green',alpha=0.5)\n",
        "plt.plot([0,1],[0,1],color='black',linewidth=2,linestyle='dashed')\n",
        "plt.xlim(0,1)\n",
        "plt.ylim(0,1)\n",
        "plt.xlabel('Confidence', fontsize=15)\n",
        "plt.ylabel('Accuracy', fontsize=15)\n",
        "#plt.legend(('Perfect calibration','Accuracy','Over-confidence','Under-confidence'),fontsize=13,frameon=0)\n",
        "plt.savefig('Confidence_CIFAR10_detail_LOCAL.pdf',format='pdf')\n",
        "plt.show()\n",
        "#%%\n",
        "print(\"######## MCE: ##############\")\n",
        "print(f\"Local MCE: {np.max(np.abs(xaxis[store_local!=0]-store_local[store_local!=0]))}\")\n"
      ],
      "execution_count": null,
      "outputs": [
        {
          "output_type": "stream",
          "text": [
            "/usr/local/lib/python3.7/dist-packages/numpy/core/fromnumeric.py:3373: RuntimeWarning: Mean of empty slice.\n",
            "  out=out, **kwargs)\n",
            "/usr/local/lib/python3.7/dist-packages/numpy/core/_methods.py:170: RuntimeWarning: invalid value encountered in double_scalars\n",
            "  ret = ret.dtype.type(ret / rcount)\n"
          ],
          "name": "stderr"
        },
        {
          "output_type": "display_data",
          "data": {
            "image/png": "[encoded data removed]",
            "text/plain": [
              "<Figure size 432x288 with 1 Axes>"
            ]
          },
          "metadata": {
            "tags": [],
            "needs_background": "light"
          }
        },
        {
          "output_type": "stream",
          "text": [
            "######## MCE: ##############\n",
            "Local MCE: 0.625\n"
          ],
          "name": "stdout"
        }
      ]
    }
  ]
}