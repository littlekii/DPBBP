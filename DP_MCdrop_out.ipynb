{
  "nbformat": 4,
  "nbformat_minor": 0,
  "metadata": {
    "colab": {
      "name": "DP_MCdrop_out.ipynb",
      "provenance": [],
      "collapsed_sections": [],
      "include_colab_link": true
    },
    "kernelspec": {
      "name": "python3",
      "display_name": "Python 3"
    },
    "accelerator": "GPU"
  },
  "cells": [
    {
      "cell_type": "markdown",
      "metadata": {
        "id": "view-in-github",
        "colab_type": "text"
      },
      "source": [
        "<a href=\"https://colab.research.google.com/github/littlekii/DPBBP/blob/main/DP_MCdrop_out.ipynb\" target=\"_parent\"><img src=\"https://colab.research.google.com/assets/colab-badge.svg\" alt=\"Open In Colab\"/></a>"
      ]
    },
    {
      "cell_type": "code",
      "metadata": {
        "id": "0bnl1-df91Nt",
        "colab": {
          "base_uri": "https://localhost:8080/"
        },
        "outputId": "5c6492ff-fced-4098-dd49-0225191a85f3"
      },
      "source": [
        "!git clone https://github.com/JavierAntoran/Bayesian-Neural-Networks.git\n",
        "!git clone https://github.com/knamdar/data.git"
      ],
      "execution_count": null,
      "outputs": [
        {
          "output_type": "stream",
          "text": [
            "fatal: destination path 'Bayesian-Neural-Networks' already exists and is not an empty directory.\n",
            "fatal: destination path 'data' already exists and is not an empty directory.\n"
          ],
          "name": "stdout"
        }
      ]
    },
    {
      "cell_type": "code",
      "metadata": {
        "id": "qkGkr7fk39UN"
      },
      "source": [
        ""
      ],
      "execution_count": null,
      "outputs": []
    },
    {
      "cell_type": "code",
      "metadata": {
        "colab": {
          "base_uri": "https://localhost:8080/"
        },
        "id": "lMqotW1ycZfh",
        "outputId": "b18965f2-41fa-49d8-cb20-c5050a70e809"
      },
      "source": [
        "!pip install opacus==0.13"
      ],
      "execution_count": null,
      "outputs": [
        {
          "output_type": "stream",
          "text": [
            "Requirement already satisfied: opacus==0.13 in /usr/local/lib/python3.7/dist-packages (0.13.0)\n",
            "Requirement already satisfied: torch>=1.3 in /usr/local/lib/python3.7/dist-packages (from opacus==0.13) (1.9.0+cu102)\n",
            "Requirement already satisfied: tqdm>=4.40 in /usr/local/lib/python3.7/dist-packages (from opacus==0.13) (4.41.1)\n",
            "Requirement already satisfied: scipy>=1.2 in /usr/local/lib/python3.7/dist-packages (from opacus==0.13) (1.4.1)\n",
            "Requirement already satisfied: requests>=2.25.1 in /usr/local/lib/python3.7/dist-packages (from opacus==0.13) (2.25.1)\n",
            "Requirement already satisfied: torchvision>=0.9 in /usr/local/lib/python3.7/dist-packages (from opacus==0.13) (0.10.0+cu102)\n",
            "Requirement already satisfied: numpy>=1.15 in /usr/local/lib/python3.7/dist-packages (from opacus==0.13) (1.19.5)\n",
            "Requirement already satisfied: typing-extensions in /usr/local/lib/python3.7/dist-packages (from torch>=1.3->opacus==0.13) (3.7.4.3)\n",
            "Requirement already satisfied: certifi>=2017.4.17 in /usr/local/lib/python3.7/dist-packages (from requests>=2.25.1->opacus==0.13) (2021.5.30)\n",
            "Requirement already satisfied: idna<3,>=2.5 in /usr/local/lib/python3.7/dist-packages (from requests>=2.25.1->opacus==0.13) (2.10)\n",
            "Requirement already satisfied: urllib3<1.27,>=1.21.1 in /usr/local/lib/python3.7/dist-packages (from requests>=2.25.1->opacus==0.13) (1.24.3)\n",
            "Requirement already satisfied: chardet<5,>=3.0.2 in /usr/local/lib/python3.7/dist-packages (from requests>=2.25.1->opacus==0.13) (3.0.4)\n",
            "Requirement already satisfied: pillow>=5.3.0 in /usr/local/lib/python3.7/dist-packages (from torchvision>=0.9->opacus==0.13) (7.1.2)\n"
          ],
          "name": "stdout"
        }
      ]
    },
    {
      "cell_type": "code",
      "metadata": {
        "id": "eUvqeQMX_nwC"
      },
      "source": [
        "import sys;sys.path.append(\"/content/Bayesian-Neural-Networks\")"
      ],
      "execution_count": null,
      "outputs": []
    },
    {
      "cell_type": "markdown",
      "metadata": {
        "id": "B-3A5mIC_jZu"
      },
      "source": [
        "# Import base pacage"
      ]
    },
    {
      "cell_type": "code",
      "metadata": {
        "id": "806Ee5LILLdc"
      },
      "source": [
        "import opacus\n",
        "import numpy as np\n",
        "import torch\n",
        "\n",
        "import torch.optim as optim\n",
        "import opacus\n",
        "from opacus import PrivacyEngine\n",
        "from opacus.utils.uniform_sampler import UniformWithReplacementSampler\n",
        "from torchvision import datasets, transforms\n",
        "from tqdm import tqdm"
      ],
      "execution_count": null,
      "outputs": []
    },
    {
      "cell_type": "markdown",
      "metadata": {
        "id": "IS1YRMRH_r1W"
      },
      "source": [
        "# Define MC dropout"
      ]
    },
    {
      "cell_type": "code",
      "metadata": {
        "id": "jIpxLlo8w9Y1"
      },
      "source": [
        "from src.priors import *\n",
        "from src.base_net import *\n",
        "\n",
        "import torch.nn.functional as F\n",
        "import torch.nn as nn\n",
        "\n",
        "\n",
        "def MC_dropout(act_vec, p=0, mask=True):\n",
        "    return F.dropout(act_vec, p=p, training=mask, inplace=True)\n",
        "\n",
        "\n",
        "class Linear_2L(nn.Module):\n",
        "    def __init__(self, input_dim, output_dim, n_hid):\n",
        "        super(Linear_2L, self).__init__()  # what \n",
        "\n",
        "        self.pdrop = 0.5  # what \n",
        "\n",
        "        self.input_dim = input_dim\n",
        "        self.output_dim = output_dim\n",
        "\n",
        "        self.fc1 = nn.Linear(input_dim, n_hid)\n",
        "        self.fc2 = nn.Linear(n_hid, n_hid)\n",
        "        self.fc3 = nn.Linear(n_hid, output_dim)\n",
        "\n",
        "        # choose your non linearity\n",
        "        # self.act = nn.Tanh()\n",
        "        # self.act = nn.Sigmoid()\n",
        "        self.act = nn.ReLU(inplace=True)\n",
        "        # self.act = nn.ELU(inplace=True)\n",
        "        # self.act = nn.SELU(inplace=True)\n",
        "\n",
        "    def forward(self, x, sample=True):\n",
        "        mask = self.training or sample  # if training or sampling, mc dropout will apply random binary mask\n",
        "        # Otherwise, for regular test set evaluation, we can just scale activations\n",
        "\n",
        "        x = x.view(-1, self.input_dim)  # view(batch_size, input_dim)\n",
        "        # -----------------\n",
        "        x = self.fc1(x)\n",
        "        x = MC_dropout(x, p=self.pdrop, mask=mask)\n",
        "        # -----------------\n",
        "        x = self.act(x)\n",
        "        # -----------------\n",
        "        x = self.fc2(x)\n",
        "        x = MC_dropout(x, p=self.pdrop, mask=mask)\n",
        "        # -----------------\n",
        "        x = self.act(x)\n",
        "        # -----------------\n",
        "        y = self.fc3(x)\n",
        "\n",
        "        return y\n",
        "\n",
        "    def sample_predict(self, x, Nsamples):\n",
        "        # Just copies type from x, initializes new vector\n",
        "        predictions = x.data.new(Nsamples, x.shape[0], self.output_dim)\n",
        "\n",
        "        for i in range(Nsamples):\n",
        "            y = self.forward(x, sample=True)\n",
        "            predictions[i] = y\n",
        "\n",
        "        return predictions\n",
        "\n",
        "\n",
        "class MC_drop_net2(BaseNet):\n",
        "    eps = 1e-6\n",
        "    # what\n",
        "    def __init__(self, lr=1e-3, channels_in=3, side_in=28, cuda=True, classes=10, batch_size=128, weight_decay=0, n_hid=1200,sr=0.004,sigma=1,max_grad_norm=1.0,secure_rng=False):\n",
        "        super(MC_drop_net2, self).__init__()\n",
        "        cprint('y', ' Creating Net!! ')\n",
        "        self.lr = lr\n",
        "        self.schedule = None  # [] #[50,200,400,600]\n",
        "        self.cuda = cuda\n",
        "        self.channels_in = channels_in\n",
        "        self.weight_decay = weight_decay\n",
        "        self.sr = sr\n",
        "        self.disable_dp = disable_dp      \n",
        "        self.sigma = sigma\n",
        "        self.max_grad_norm = max_grad_norm\n",
        "        self.secure_rng = secure_rng\n",
        "        self.classes = classes\n",
        "        self.n_hid = n_hid\n",
        "        self.batch_size = batch_size\n",
        "        self.side_in = side_in\n",
        "        self.create_net()\n",
        "        self.create_opt()\n",
        "        self.epoch = 0\n",
        "        self.test = False\n",
        "\n",
        "    # main net and use GPU \n",
        "    def create_net(self):\n",
        "        torch.manual_seed(42)\n",
        "        if self.cuda:\n",
        "            torch.cuda.manual_seed(42)\n",
        "        # what \n",
        "        self.model = Linear_2L(input_dim=self.channels_in * self.side_in * self.side_in, output_dim=self.classes,\n",
        "                               n_hid=self.n_hid)\n",
        "        if self.cuda:\n",
        "            self.model.cuda()\n",
        "        #             cudnn.benchmark = True\n",
        "\n",
        "        print('    Total params: %.2fM' % (self.get_nb_parameters() / 1000000.0))\n",
        "    \n",
        "    # optimizer \n",
        "    def create_opt(self):\n",
        "        #         self.optimizer = torch.optim.Adam(self.model.parameters(), lr=self.lr, betas=(0.9, 0.999), eps=1e-08,\n",
        "        #                                           weight_decay=0)\n",
        "        self.optimizer = torch.optim.SGD(self.model.parameters(), lr=self.lr, momentum=0.5,\n",
        "                                         weight_decay=self.weight_decay)\n",
        "\n",
        "        if not disable_dp:\n",
        "            privacy_engine = PrivacyEngine(\n",
        "                self.model,\n",
        "                sample_rate=self.sr,\n",
        "                alphas=[1 + x / 10.0 for x in range(1, 100)] + list(range(12, 64)),\n",
        "                noise_multiplier=self.sigma,\n",
        "                max_grad_norm=self.max_grad_norm,\n",
        "                secure_rng=self.secure_rng,\n",
        "            )\n",
        "            privacy_engine.attach(self.optimizer) # make optimizer private \n",
        "    #         self.optimizer = torch.optim.SGD(self.model.parameters(), lr=self.lr, momentum=0.9)\n",
        "    #         self.sched = torch.optim.lr_scheduler.StepLR(self.optimizer, step_size=1, gamma=10, last_epoch=-1)\n",
        "   \n",
        "    # train \n",
        "    def fit(self, x, y):\n",
        "        x, y = to_variable(var=(x, y.long()), cuda=self.cuda)\n",
        "\n",
        "        self.optimizer.zero_grad()\n",
        "\n",
        "        out = self.model(x)\n",
        "        loss = F.cross_entropy(out, y, reduction='sum')\n",
        "\n",
        "        loss.backward()\n",
        "        self.optimizer.step()\n",
        "\n",
        "        # out: (batch_size, out_channels, out_caps_dims)\n",
        "        pred = out.data.max(dim=1, keepdim=False)[1]  # get the index of the max log-probability\n",
        "        err = pred.ne(y.data).sum()\n",
        "        return loss.data, err\n",
        "    # test \n",
        "    def eval(self, x, y, train=False):\n",
        "        x, y = to_variable(var=(x, y.long()), cuda=self.cuda)\n",
        "\n",
        "        out = self.model(x)\n",
        "\n",
        "        loss = F.cross_entropy(out, y, reduction='sum')\n",
        "\n",
        "        probs = F.softmax(out, dim=1).data.cpu()\n",
        "\n",
        "        pred = out.data.max(dim=1, keepdim=False)[1]  # get the index of the max log-probability\n",
        "        err = pred.ne(y.data).sum()\n",
        "\n",
        "        return loss.data, err, probs\n",
        "\n",
        "    def sample_eval(self, x, y, Nsamples, logits=True, train=False):\n",
        "        x, y = to_variable(var=(x, y.long()), cuda=self.cuda)\n",
        "\n",
        "        out = self.model.sample_predict(x, Nsamples)\n",
        "\n",
        "        if logits:\n",
        "            mean_out = out.mean(dim=0, keepdim=False)\n",
        "            loss = F.cross_entropy(mean_out, y, reduction='sum')\n",
        "            probs = F.softmax(mean_out, dim=1).data.cpu()\n",
        "\n",
        "        else:\n",
        "            mean_out = F.softmax(out, dim=2).mean(dim=0, keepdim=False)\n",
        "            probs = mean_out.data.cpu()\n",
        "\n",
        "            log_mean_probs_out = torch.log(mean_out)\n",
        "            loss = F.nll_loss(log_mean_probs_out, y, reduction='sum')\n",
        "\n",
        "        pred = mean_out.data.max(dim=1, keepdim=False)[1]  # get the index of the max log-probability\n",
        "        err = pred.ne(y.data).sum()\n",
        "\n",
        "        return loss.data, err, probs\n",
        "\n",
        "    def all_sample_eval(self, x, y, Nsamples):\n",
        "        x, y = to_variable(var=(x, y.long()), cuda=self.cuda)\n",
        "\n",
        "        out = self.model.sample_predict(x, Nsamples)\n",
        "\n",
        "        prob_out = F.softmax(out, dim=2)\n",
        "        prob_out = prob_out.data\n",
        "\n",
        "        return prob_out\n",
        "\n",
        "    def get_weight_samples(self):\n",
        "        weight_vec = []\n",
        "\n",
        "        state_dict = self.model.state_dict()\n",
        "\n",
        "        for key in state_dict.keys():\n",
        "\n",
        "            if 'weight' in key:\n",
        "                weight_mtx = state_dict[key].cpu().data\n",
        "                for weight in weight_mtx.view(-1):\n",
        "                    weight_vec.append(weight)\n",
        "\n",
        "        return np.array(weight_vec)"
      ],
      "execution_count": null,
      "outputs": []
    },
    {
      "cell_type": "markdown",
      "metadata": {
        "id": "x_L4TPgb_1WQ"
      },
      "source": [
        "# Global Parameters"
      ]
    },
    {
      "cell_type": "code",
      "metadata": {
        "colab": {
          "base_uri": "https://localhost:8080/"
        },
        "id": "-b99LQYDpWa4",
        "outputId": "c8753827-9702-4704-cf39-1fc7c8602efb"
      },
      "source": [
        "#from __future__ import division, print_function\n",
        "import time\n",
        "import torch.utils.data\n",
        "from torchvision import transforms, datasets\n",
        "from src.MC_dropout.model import *\n",
        "\n",
        "#matplotlib.use('Agg')\n",
        "import matplotlib.pyplot as plt\n",
        "import seaborn as sns\n",
        "sns.set()\n",
        "## global \n",
        "weight_decay  = 0\n",
        "\n",
        "models_dir    = 'MCdrop_models'\n",
        "results_dir   = 'MCdrop_results'\n",
        "\n",
        "batch_size = 256\n",
        "sr      = batch_size/60000\n",
        "test_batch_size  = 1024 \n",
        "sigma            = 1.3\n",
        "delta            = 1e-5\n",
        "max_per_sample_grad_norm = 200\n",
        "epochs           = 15\n",
        "n_runs           = 1\n",
        "lr               = 0.0002\n",
        "device           = \"cuda\"\n",
        "save_model       = False\n",
        "secure_rng       = False\n",
        "data_root        = \"/content/data/\"\n",
        "disable_dp       = True\n",
        "\n",
        "\n",
        "\n",
        "\n",
        "# Where to save models weights\n",
        "models_dir = models_dir\n",
        "# Where to save plots and error, accuracy vectors\n",
        "results_dir = results_dir\n",
        "\n",
        "mkdir(models_dir)\n",
        "mkdir(results_dir)\n",
        "# ------------------------------------------------------------------------------------------------------\n",
        "# train config\n",
        "NTrainPointsMNIST = 60000\n",
        "nb_epochs = epochs\n",
        "log_interval = 1\n",
        "\n",
        "\n",
        "# ------------------------------------------------------------------------------------------------------\n",
        "# dataset\n",
        "cprint('c', '\\nData:')\n",
        "\n",
        "# load data\n",
        "\n",
        "# data augmentation\n",
        "transform_train = transforms.Compose([\n",
        "    transforms.ToTensor(),\n",
        "    transforms.Normalize(mean=(0.1307,), std=(0.3081,))\n",
        "])\n",
        "\n",
        "transform_test = transforms.Compose([\n",
        "    transforms.ToTensor(),\n",
        "    transforms.Normalize(mean=(0.1307,), std=(0.3081,))\n",
        "])\n",
        "\n",
        "use_cuda = torch.cuda.is_available()\n",
        "\n",
        "\n",
        "trainset = datasets.MNIST(root=data_root, train=True, download=False, transform=transform_train)\n",
        "valset = datasets.MNIST(root=data_root, train=False, download=False, transform=transform_test)\n",
        "\n",
        "if use_cuda:\n",
        "    trainloader = torch.utils.data.DataLoader(trainset, batch_size=batch_size, shuffle=True, pin_memory=True,\n",
        "                                              num_workers=2)\n",
        "    valloader = torch.utils.data.DataLoader(valset, batch_size=batch_size, shuffle=False, pin_memory=True,\n",
        "                                            num_workers=2)\n",
        "\n",
        "else:\n",
        "    trainloader = torch.utils.data.DataLoader(trainset, batch_size=batch_size, shuffle=True, pin_memory=False,\n",
        "                                              num_workers=2)\n",
        "    valloader = torch.utils.data.DataLoader(valset, batch_size=batch_size, shuffle=False, pin_memory=False,\n",
        "                                            num_workers=2)\n",
        "\n",
        "## ---------------------------------------------------------------------------------------------------------------------\n",
        "# net dims\n",
        "cprint('c', '\\nNetwork:')"
      ],
      "execution_count": null,
      "outputs": [
        {
          "output_type": "stream",
          "text": [
            "\u001b[36m\n",
            "Data:\u001b[0m\n",
            "\u001b[36m\n",
            "Network:\u001b[0m\n"
          ],
          "name": "stdout"
        }
      ]
    },
    {
      "cell_type": "markdown",
      "metadata": {
        "id": "Sfz4ap-D_9VH"
      },
      "source": [
        "# MC dropout training MNIST and plot"
      ]
    },
    {
      "cell_type": "code",
      "metadata": {
        "id": "w7GPCBwqIH28",
        "colab": {
          "base_uri": "https://localhost:8080/"
        },
        "outputId": "7c3c24c2-0b0e-42c3-a5d8-ffb98dbd0c4e"
      },
      "source": [
        "\n",
        "########################################################################################\n",
        "\n",
        "net = MC_drop_net2(lr=lr, channels_in=1, side_in=28, cuda=use_cuda, classes=10, batch_size=batch_size,\n",
        "                  weight_decay=weight_decay, n_hid=1200,sr=sr,sigma=sigma,max_grad_norm=max_per_sample_grad_norm,secure_rng=secure_rng)\n",
        "\n",
        "## ---------------------------------------------------------------------------------------------------------------------\n",
        "# train\n",
        "cprint('c', '\\nTrain:')\n",
        "\n",
        "print('  init cost variables:')\n",
        "kl_cost_train = np.zeros(nb_epochs)\n",
        "pred_cost_train = np.zeros(nb_epochs)\n",
        "err_train = np.zeros(nb_epochs)\n",
        "\n",
        "cost_dev = np.zeros(nb_epochs)\n",
        "err_dev = np.zeros(nb_epochs)\n",
        "best_err = np.inf\n",
        "\n",
        "nb_its_dev = 1\n",
        "\n",
        "tic0 = time.time()\n",
        "for i in range(0, nb_epochs):\n",
        "\n",
        "    net.set_mode_train(True)\n",
        "    tic = time.time()\n",
        "    nb_samples = 0\n",
        "   \n",
        "    for x, y in trainloader:\n",
        "\n",
        "        cost_pred, err = net.fit(x, y)\n",
        "\n",
        "        err_train[i] += err\n",
        "        pred_cost_train[i] += cost_pred\n",
        "        nb_samples += len(x)\n",
        "\n",
        "    pred_cost_train[i] /= nb_samples\n",
        "    err_train[i] /= nb_samples\n",
        "\n",
        "    toc = time.time()\n",
        "    net.epoch = i\n",
        "    # ---- print\n",
        "    print(\"it %d/%d, Jtr_pred = %f, err = %f, \" % (i+1, nb_epochs, pred_cost_train[i], err_train[i]), end=\"\")\n",
        "    cprint('r', '   time: %f seconds\\n' % (toc - tic))\n",
        "    \n",
        "    if not disable_dp:\n",
        "        epsilon, best_alpha = net.optimizer.privacy_engine.get_privacy_spent(delta)\n",
        "        print(\n",
        "            f\"(ε = {epsilon:.2f}, δ = {delta}) for α = {best_alpha}\"\n",
        "        )\n",
        "\n",
        "    # ---- dev\n",
        "    if i % nb_its_dev == 0:\n",
        "        net.set_mode_train(False)\n",
        "        nb_samples = 0\n",
        "        for j, (x, y) in enumerate(valloader):\n",
        "            cost, err, probs = net.eval(x, y)\n",
        "\n",
        "            cost_dev[i] += cost\n",
        "            err_dev[i] += err\n",
        "            nb_samples += len(x)\n",
        "\n",
        "        cost_dev[i] /= nb_samples\n",
        "        err_dev[i] /= nb_samples\n",
        "\n",
        "        cprint('g', '    Jdev = %f, err = %f\\n' % (cost_dev[i], err_dev[i]))\n",
        "\n",
        "        if err_dev[i] < best_err:\n",
        "            best_err = err_dev[i]\n",
        "            cprint('b', 'best test error')\n",
        "            net.save(models_dir+'/theta_best.dat')\n",
        "\n",
        "toc0 = time.time()\n",
        "runtime_per_it = (toc0 - tic0) / float(nb_epochs)\n",
        "cprint('r', '   average time: %f seconds\\n' % runtime_per_it)\n",
        "\n",
        "net.save(models_dir+'/theta_last.dat')\n",
        "\n",
        "## ---------------------------------------------------------------------------------------------------------------------\n",
        "# results\n",
        "cprint('c', '\\nRESULTS:')\n",
        "nb_parameters = net.get_nb_parameters()\n",
        "best_cost_dev = np.min(cost_dev)\n",
        "best_cost_train = np.min(pred_cost_train)\n",
        "err_dev_min = err_dev[::nb_its_dev].min()\n",
        "\n",
        "print('  cost_dev: %f (cost_train %f)' % (best_cost_dev, best_cost_train))\n",
        "print('  err_dev: %f' % (err_dev_min))\n",
        "print('  nb_parameters: %d (%s)' % (nb_parameters, humansize(nb_parameters)))\n",
        "print('  time_per_it: %fs\\n' % (runtime_per_it))\n",
        "\n",
        "## Save results for plots\n",
        "# np.save('results/test_predictions.npy', test_predictions)\n",
        "np.save(results_dir + '/cost_train.npy', pred_cost_train)\n",
        "np.save(results_dir + '/cost_dev.npy', cost_dev)\n",
        "np.save(results_dir + '/err_train.npy', err_train)\n",
        "np.save(results_dir + '/err_dev.npy', err_dev)\n",
        "\n"
      ],
      "execution_count": null,
      "outputs": [
        {
          "output_type": "stream",
          "text": [
            "\u001b[36m\n",
            "Net:\u001b[0m\n",
            "\u001b[33m Creating Net!! \u001b[0m\n",
            "    Total params: 2.40M\n",
            "\u001b[36m\n",
            "Train:\u001b[0m\n",
            "  init cost variables:\n",
            "it 1/15, Jtr_pred = 0.537704, err = 0.157533, \u001b[31m   time: 7.639049 seconds\n",
            "\u001b[0m\n",
            "\u001b[32m    Jdev = 0.269703, err = 0.082300\n",
            "\u001b[0m\n",
            "\u001b[34mbest test error\u001b[0m\n",
            "\u001b[36mWritting MCdrop_models/theta_best.dat\n",
            "\u001b[0m\n",
            "it 2/15, Jtr_pred = 0.239564, err = 0.071367, \u001b[31m   time: 7.747497 seconds\n",
            "\u001b[0m\n",
            "\u001b[32m    Jdev = 0.191328, err = 0.057800\n",
            "\u001b[0m\n",
            "\u001b[34mbest test error\u001b[0m\n",
            "\u001b[36mWritting MCdrop_models/theta_best.dat\n",
            "\u001b[0m\n",
            "it 3/15, Jtr_pred = 0.177665, err = 0.052500, \u001b[31m   time: 7.542337 seconds\n",
            "\u001b[0m\n",
            "\u001b[32m    Jdev = 0.159575, err = 0.050100\n",
            "\u001b[0m\n",
            "\u001b[34mbest test error\u001b[0m\n",
            "\u001b[36mWritting MCdrop_models/theta_best.dat\n",
            "\u001b[0m\n",
            "it 4/15, Jtr_pred = 0.146215, err = 0.044233, \u001b[31m   time: 7.621296 seconds\n",
            "\u001b[0m\n",
            "\u001b[32m    Jdev = 0.137449, err = 0.044700\n",
            "\u001b[0m\n",
            "\u001b[34mbest test error\u001b[0m\n",
            "\u001b[36mWritting MCdrop_models/theta_best.dat\n",
            "\u001b[0m\n",
            "it 5/15, Jtr_pred = 0.122192, err = 0.037850, \u001b[31m   time: 7.487250 seconds\n",
            "\u001b[0m\n",
            "\u001b[32m    Jdev = 0.123069, err = 0.037600\n",
            "\u001b[0m\n",
            "\u001b[34mbest test error\u001b[0m\n",
            "\u001b[36mWritting MCdrop_models/theta_best.dat\n",
            "\u001b[0m\n",
            "it 6/15, Jtr_pred = 0.107547, err = 0.032450, \u001b[31m   time: 7.506015 seconds\n",
            "\u001b[0m\n",
            "\u001b[32m    Jdev = 0.109180, err = 0.034500\n",
            "\u001b[0m\n",
            "\u001b[34mbest test error\u001b[0m\n",
            "\u001b[36mWritting MCdrop_models/theta_best.dat\n",
            "\u001b[0m\n",
            "it 7/15, Jtr_pred = 0.095537, err = 0.029167, \u001b[31m   time: 7.637729 seconds\n",
            "\u001b[0m\n",
            "\u001b[32m    Jdev = 0.102863, err = 0.031200\n",
            "\u001b[0m\n",
            "\u001b[34mbest test error\u001b[0m\n",
            "\u001b[36mWritting MCdrop_models/theta_best.dat\n",
            "\u001b[0m\n",
            "it 8/15, Jtr_pred = 0.084046, err = 0.025533, \u001b[31m   time: 7.454003 seconds\n",
            "\u001b[0m\n",
            "\u001b[32m    Jdev = 0.097042, err = 0.028700\n",
            "\u001b[0m\n",
            "\u001b[34mbest test error\u001b[0m\n",
            "\u001b[36mWritting MCdrop_models/theta_best.dat\n",
            "\u001b[0m\n",
            "it 9/15, Jtr_pred = 0.077047, err = 0.023133, \u001b[31m   time: 7.522522 seconds\n",
            "\u001b[0m\n",
            "\u001b[32m    Jdev = 0.097663, err = 0.028000\n",
            "\u001b[0m\n",
            "\u001b[34mbest test error\u001b[0m\n",
            "\u001b[36mWritting MCdrop_models/theta_best.dat\n",
            "\u001b[0m\n",
            "it 10/15, Jtr_pred = 0.069219, err = 0.022000, \u001b[31m   time: 7.610564 seconds\n",
            "\u001b[0m\n",
            "\u001b[32m    Jdev = 0.093110, err = 0.030000\n",
            "\u001b[0m\n",
            "it 11/15, Jtr_pred = 0.063118, err = 0.019083, \u001b[31m   time: 7.723478 seconds\n",
            "\u001b[0m\n",
            "\u001b[32m    Jdev = 0.089142, err = 0.027700\n",
            "\u001b[0m\n",
            "\u001b[34mbest test error\u001b[0m\n",
            "\u001b[36mWritting MCdrop_models/theta_best.dat\n",
            "\u001b[0m\n",
            "it 12/15, Jtr_pred = 0.058005, err = 0.017283, \u001b[31m   time: 7.500436 seconds\n",
            "\u001b[0m\n",
            "\u001b[32m    Jdev = 0.084884, err = 0.026600\n",
            "\u001b[0m\n",
            "\u001b[34mbest test error\u001b[0m\n",
            "\u001b[36mWritting MCdrop_models/theta_best.dat\n",
            "\u001b[0m\n",
            "it 13/15, Jtr_pred = 0.054199, err = 0.016817, \u001b[31m   time: 7.539878 seconds\n",
            "\u001b[0m\n",
            "\u001b[32m    Jdev = 0.084230, err = 0.027300\n",
            "\u001b[0m\n",
            "it 14/15, Jtr_pred = 0.050283, err = 0.015367, \u001b[31m   time: 7.602710 seconds\n",
            "\u001b[0m\n",
            "\u001b[32m    Jdev = 0.083051, err = 0.024400\n",
            "\u001b[0m\n",
            "\u001b[34mbest test error\u001b[0m\n",
            "\u001b[36mWritting MCdrop_models/theta_best.dat\n",
            "\u001b[0m\n",
            "it 15/15, Jtr_pred = 0.046023, err = 0.014283, \u001b[31m   time: 7.460563 seconds\n",
            "\u001b[0m\n",
            "\u001b[32m    Jdev = 0.079884, err = 0.024900\n",
            "\u001b[0m\n",
            "\u001b[31m   average time: 8.967740 seconds\n",
            "\u001b[0m\n",
            "\u001b[36mWritting MCdrop_models/theta_last.dat\n",
            "\u001b[0m\n",
            "\u001b[36m\n",
            "RESULTS:\u001b[0m\n",
            "  cost_dev: 0.079884 (cost_train 0.046023)\n",
            "  err_dev: 0.024400\n",
            "  nb_parameters: 2395210 (2.28MB)\n",
            "  time_per_it: 8.967740s\n",
            "\n"
          ],
          "name": "stdout"
        }
      ]
    },
    {
      "cell_type": "code",
      "metadata": {
        "colab": {
          "base_uri": "https://localhost:8080/"
        },
        "id": "3mO-jY5XSZ0o",
        "outputId": "221af51d-7f53-4ac3-a8b9-a78f74eedaca"
      },
      "source": [
        "model_local = MC_drop_net2(lr=lr, channels_in=1, side_in=28, cuda=use_cuda, classes=10, batch_size=batch_size,\n",
        "                  weight_decay=weight_decay, n_hid=1200,sr=sr,sigma=sigma,max_grad_norm=max_per_sample_grad_norm,secure_rng=secure_rng)\n",
        "model_local.load('/content/theta_best.dat')\n",
        "\n"
      ],
      "execution_count": null,
      "outputs": [
        {
          "output_type": "stream",
          "text": [
            "\u001b[36m\n",
            "Net:\u001b[0m\n",
            "\u001b[33m Creating Net!! \u001b[0m\n",
            "    Total params: 2.40M\n",
            "\u001b[36mReading /content/theta_best.dat\n",
            "\u001b[0m\n",
            "  restoring epoch: 14, lr: 0.000200\n"
          ],
          "name": "stdout"
        },
        {
          "output_type": "stream",
          "text": [
            "/usr/local/lib/python3.7/dist-packages/opacus/privacy_engine.py:523: UserWarning: A ``sample_rate`` has been provided.Thus, the provided ``batch_size``and ``sample_size`` will be ignored.\n",
            "  \"A ``sample_rate`` has been provided.\"\n",
            "/usr/local/lib/python3.7/dist-packages/opacus/privacy_engine.py:195: UserWarning: Secure RNG turned off. This is perfectly fine for experimentation as it allows for much faster training performance, but remember to turn it on and retrain one last time before production with ``secure_rng`` turned on.\n",
            "  \"Secure RNG turned off. This is perfectly fine for experimentation as it allows \"\n"
          ],
          "name": "stderr"
        },
        {
          "output_type": "execute_result",
          "data": {
            "text/plain": [
              "14"
            ]
          },
          "metadata": {
            "tags": []
          },
          "execution_count": 11
        }
      ]
    },
    {
      "cell_type": "code",
      "metadata": {
        "colab": {
          "base_uri": "https://localhost:8080/"
        },
        "id": "KUY3CKJZcruo",
        "outputId": "b42ce264-8a63-4fd0-de7f-2e75243b2a7a"
      },
      "source": [
        "#model_local.to(device)\n",
        "#model_local.eval()\n",
        "y_local_te=np.empty((0,10))\n",
        "targets_te=np.array([])\n",
        "prob_local=np.array([])\n",
        "acc = 0 \n",
        "with torch.no_grad():\n",
        "        for data, target in tqdm(valloader):\n",
        "            data, target = data.to(device), target.to(device)\n",
        "            cost, err, prob = net.eval(data,target)\n",
        "            acc += err\n",
        "            y_local_te=np.append(y_local_te,prob.detach().numpy(),axis=0)\n",
        "            #y_local_te_single=np.append(y_local_te_single,y_local_te[-1].argmax())\n",
        "            prob_local=np.append(prob,np.array([prob.detach().numpy()[i,j] for i,j in enumerate(target.cpu().detach().numpy())]))\n",
        "            targets_te=np.append(targets_te,target.cpu().detach().numpy())\n",
        "\n",
        "y_local_te_single= np.argmax(y_local_te,axis=1)\n"
      ],
      "execution_count": null,
      "outputs": [
        {
          "output_type": "stream",
          "text": [
            "100%|██████████| 40/40 [00:01<00:00, 25.59it/s]\n"
          ],
          "name": "stderr"
        }
      ]
    },
    {
      "cell_type": "code",
      "metadata": {
        "colab": {
          "base_uri": "https://localhost:8080/"
        },
        "id": "Z5cyZ5GtUAhp",
        "outputId": "f6ba0a4c-9ea5-44a2-9154-06b98f9c1f2e"
      },
      "source": [
        "sum(y_local_te_single==targets_te)/10000 - np.mean(np.max(y_local_te,axis=1))"
      ],
      "execution_count": null,
      "outputs": [
        {
          "output_type": "execute_result",
          "data": {
            "text/plain": [
              "-0.002523571318387985"
            ]
          },
          "metadata": {
            "tags": []
          },
          "execution_count": 52
        }
      ]
    },
    {
      "cell_type": "code",
      "metadata": {
        "colab": {
          "base_uri": "https://localhost:8080/",
          "height": 304
        },
        "id": "myLcPpouZay_",
        "outputId": "1cda4e56-c42e-46c5-d8ad-f9a0b7ed34ec"
      },
      "source": [
        "import matplotlib.pyplot as plt\n",
        "import seaborn as sns\n",
        "\n",
        "\n",
        "#local_acc = np.mean(y_local_te_single == targets_te)\n",
        "\n",
        "\n",
        "print(\"######## ECE: ##############\")\n",
        "#print(f\"Local accuracy: {local_acc}, predicted confidence {np.mean(np.max(y_local_te,axis=1))}, ECE {np.abs(local_acc - np.mean(np.max(y_local_te,axis=1)))}\")\n",
        "#print(f\"NonDP accuracy: {nondp_acc}, predicted confidence {np.mean(np.max(y_nondp_te,axis=1))}, ECE {np.abs(nondp_acc - np.mean(np.max(y_nondp_te,axis=1)))}\")\n",
        "\n",
        "\n",
        "plt.plot(0,0,linestyle='dashed',color='black')\n",
        "plt.plot(0,0,color='black')\n",
        "plt.plot(0,0,color='#1f77b4')\n",
        "plt.plot(0,0,color='#ff7f0e')\n",
        "#plt.plot([0.2338]*20,np.linspace(0,1500,20),linestyle='dashed',color='#1f77b4')\n",
        "plt.plot([sum(y_local_te_single==targets_te)/10000]*20,np.linspace(0,1500,20),linestyle='dashed',color='#ff7f0e',label='local Accu')\n",
        "#plt.plot([np.mean(np.max(y_global_te,axis=1))]*20,np.linspace(0,1500,20),color='#1f77b4')\n",
        "plt.plot([np.mean(np.max(y_local_te,axis=1))]*20,np.linspace(0,1500,20),color='#ff7f0e')\n",
        "\n",
        "#print('non DP accuracy:', np.mean(targets_te==y_noDP_te_single),' confidence:',np.mean(np.max(y_noDP_te,axis=1)),' difference:',np.mean(np.max(y_noDP_te,axis=1))-np.mean(targets_te==y_noDP_te_single))\n",
        "#print('DP local accuracy:', np.mean(targets_te==y_local_te_single),' confidence:',np.mean(np.max(y_local_te,axis=1)),' difference:',np.mean(np.max(y_local_te,axis=1))-np.mean(targets_te==y_local_te_single))\n",
        "#print('DP global accuracy:', np.mean(targets_te==y_global_te_single),' confidence:',np.mean(np.max(y_global_te,axis=1)),' difference:',np.mean(np.max(y_global_te,axis=1))-np.mean(targets_te==y_global_te_single))\n",
        "\n",
        "plt.hist(np.max(y_local_te,axis=1),bins=30)\n",
        "plt.ylim(0,1500)\n",
        "plt.xlim(0,1)\n",
        "plt.xlabel('Confidence', fontsize=15)\n",
        "plt.ylabel('Number of Samples', fontsize=15)\n",
        "plt.legend(('Accuracy','Avg Confidence'),fontsize=13,loc='upper left',frameon=False)\n",
        "plt.savefig('Confidence_DPMCD.pdf',format='pdf')\n",
        "plt.show()\n",
        "\n"
      ],
      "execution_count": null,
      "outputs": [
        {
          "output_type": "stream",
          "text": [
            "######## ECE: ##############\n"
          ],
          "name": "stdout"
        },
        {
          "output_type": "display_data",
          "data": {
            "image/png": "[encoded data removed]",
            "text/plain": [
              "<Figure size 432x288 with 1 Axes>"
            ]
          },
          "metadata": {
            "tags": []
          }
        }
      ]
    },
    {
      "cell_type": "code",
      "metadata": {
        "colab": {
          "base_uri": "https://localhost:8080/",
          "height": 375
        },
        "id": "hkLDVoh3PUTn",
        "outputId": "d242884a-4ab4-4840-8777-1b52df54d366"
      },
      "source": [
        "#%%\n",
        "store_local = []\n",
        "templ=np.max(y_local_te,axis=1)\n",
        "dr=0.05\n",
        "for ratio in np.arange(0,1,dr):\n",
        "    index=(templ>ratio)*(templ<ratio+dr)\n",
        "    store_local.append(np.mean(y_local_te_single[index]==targets_te[index]))\n",
        "store_local=np.array(store_local)\n",
        "store_local[np.isnan(store_local)]=0\n",
        "\n",
        "#%%\n",
        "xaxis=np.arange(0,1,dr)+dr/2\n",
        "plt.bar(xaxis[store_local!=0],store_local[store_local!=0],width=dr, edgecolor=\"black\")\n",
        "plt.bar(xaxis[store_local!=0],xaxis[store_local!=0]-store_local[store_local!=0],bottom=store_local[store_local!=0],width=dr, edgecolor=\"black\",color='yellow',alpha=0.5)\n",
        "plt.bar(10,10,bottom=store_local,width=dr, edgecolor=\"black\",color='green',alpha=0.5)\n",
        "plt.plot([0,1],[0,1],color='black',linewidth=2,linestyle='dashed')\n",
        "plt.xlim(0,1)\n",
        "plt.ylim(0,1)\n",
        "plt.xlabel('Confidence', fontsize=15)\n",
        "plt.ylabel('Accuracy', fontsize=15)\n",
        "plt.legend(('Perfect calibration','Accuracy','Over-confidence','Under-confidence'),fontsize=13,frameon=0)\n",
        "plt.savefig('Confidence_MNIST_detail_LOCAL.pdf',format='pdf')\n",
        "plt.show()\n",
        "\n",
        "max(abs((xaxis[store_local!=0]-store_local[store_local!=0])))\n"
      ],
      "execution_count": null,
      "outputs": [
        {
          "output_type": "stream",
          "text": [
            "/usr/local/lib/python3.7/dist-packages/numpy/core/fromnumeric.py:3373: RuntimeWarning: Mean of empty slice.\n",
            "  out=out, **kwargs)\n",
            "/usr/local/lib/python3.7/dist-packages/numpy/core/_methods.py:170: RuntimeWarning: invalid value encountered in double_scalars\n",
            "  ret = ret.dtype.type(ret / rcount)\n"
          ],
          "name": "stderr"
        },
        {
          "output_type": "display_data",
          "data": {
            "image/png": "[encoded data removed]",
            "text/plain": [
              "<Figure size 432x288 with 1 Axes>"
            ]
          },
          "metadata": {
            "tags": []
          }
        },
        {
          "output_type": "execute_result",
          "data": {
            "text/plain": [
              "0.16346153846153855"
            ]
          },
          "metadata": {
            "tags": []
          },
          "execution_count": 55
        }
      ]
    },
    {
      "cell_type": "code",
      "metadata": {
        "id": "R9OFIwz7SZ6Z"
      },
      "source": [
        ""
      ],
      "execution_count": null,
      "outputs": []
    },
    {
      "cell_type": "code",
      "metadata": {
        "colab": {
          "base_uri": "https://localhost:8080/",
          "height": 659
        },
        "id": "zLiBIqHrgVpP",
        "outputId": "8e8410ae-cc17-46db-9d92-729fe402db52"
      },
      "source": [
        "net = MC_drop_net2(lr=lr, channels_in=1, side_in=28, cuda=use_cuda, classes=10, batch_size=batch_size,\n",
        "                  weight_decay=weight_decay, n_hid=1200,sr=sr,sigma=sigma,max_grad_norm=max_per_sample_grad_norm,secure_rng=secure_rng)\n",
        "net.load('/content/theta_best.dat')"
      ],
      "execution_count": null,
      "outputs": [
        {
          "output_type": "stream",
          "text": [
            "\u001b[36m\n",
            "Net:\u001b[0m\n",
            "\u001b[33m Creating Net!! \u001b[0m\n",
            "    Total params: 2.40M\n",
            "\u001b[36mReading /content/theta_best.dat\n",
            "\u001b[0m\n"
          ],
          "name": "stdout"
        },
        {
          "output_type": "stream",
          "text": [
            "/usr/local/lib/python3.7/dist-packages/opacus/privacy_engine.py:646: UserWarning: A ``sample_rate`` has been provided.Thus, the provided ``batch_size``and ``sample_size`` will be ignored.\n",
            "  \"A ``sample_rate`` has been provided.\"\n",
            "/usr/local/lib/python3.7/dist-packages/opacus/privacy_engine.py:230: UserWarning: Secure RNG turned off. This is perfectly fine for experimentation as it allows for much faster training performance, but remember to turn it on and retrain one last time before production with ``secure_rng`` turned on.\n",
            "  \"Secure RNG turned off. This is perfectly fine for experimentation as it allows \"\n"
          ],
          "name": "stderr"
        },
        {
          "output_type": "error",
          "ename": "ModuleNotFoundError",
          "evalue": "ignored",
          "traceback": [
            "\u001b[0;31m---------------------------------------------------------------------------\u001b[0m",
            "\u001b[0;31mModuleNotFoundError\u001b[0m                       Traceback (most recent call last)",
            "\u001b[0;32m<ipython-input-9-6d2e5e8bb826>\u001b[0m in \u001b[0;36m<module>\u001b[0;34m()\u001b[0m\n\u001b[1;32m      1\u001b[0m net = MC_drop_net2(lr=lr, channels_in=1, side_in=28, cuda=use_cuda, classes=10, batch_size=batch_size,\n\u001b[1;32m      2\u001b[0m                   weight_decay=weight_decay, n_hid=1200,sr=sr,sigma=sigma,max_grad_norm=max_per_sample_grad_norm,secure_rng=secure_rng)\n\u001b[0;32m----> 3\u001b[0;31m \u001b[0mnet\u001b[0m\u001b[0;34m.\u001b[0m\u001b[0mload\u001b[0m\u001b[0;34m(\u001b[0m\u001b[0;34m'/content/theta_best.dat'\u001b[0m\u001b[0;34m)\u001b[0m\u001b[0;34m\u001b[0m\u001b[0;34m\u001b[0m\u001b[0m\n\u001b[0m",
            "\u001b[0;32m/content/Bayesian-Neural-Networks/src/base_net.py\u001b[0m in \u001b[0;36mload\u001b[0;34m(self, filename)\u001b[0m\n\u001b[1;32m     34\u001b[0m     \u001b[0;32mdef\u001b[0m \u001b[0mload\u001b[0m\u001b[0;34m(\u001b[0m\u001b[0mself\u001b[0m\u001b[0;34m,\u001b[0m \u001b[0mfilename\u001b[0m\u001b[0;34m)\u001b[0m\u001b[0;34m:\u001b[0m\u001b[0;34m\u001b[0m\u001b[0;34m\u001b[0m\u001b[0m\n\u001b[1;32m     35\u001b[0m         \u001b[0mcprint\u001b[0m\u001b[0;34m(\u001b[0m\u001b[0;34m'c'\u001b[0m\u001b[0;34m,\u001b[0m \u001b[0;34m'Reading %s\\n'\u001b[0m \u001b[0;34m%\u001b[0m \u001b[0mfilename\u001b[0m\u001b[0;34m)\u001b[0m\u001b[0;34m\u001b[0m\u001b[0;34m\u001b[0m\u001b[0m\n\u001b[0;32m---> 36\u001b[0;31m         \u001b[0mstate_dict\u001b[0m \u001b[0;34m=\u001b[0m \u001b[0mtorch\u001b[0m\u001b[0;34m.\u001b[0m\u001b[0mload\u001b[0m\u001b[0;34m(\u001b[0m\u001b[0mfilename\u001b[0m\u001b[0;34m)\u001b[0m\u001b[0;34m\u001b[0m\u001b[0;34m\u001b[0m\u001b[0m\n\u001b[0m\u001b[1;32m     37\u001b[0m         \u001b[0mself\u001b[0m\u001b[0;34m.\u001b[0m\u001b[0mepoch\u001b[0m \u001b[0;34m=\u001b[0m \u001b[0mstate_dict\u001b[0m\u001b[0;34m[\u001b[0m\u001b[0;34m'epoch'\u001b[0m\u001b[0;34m]\u001b[0m\u001b[0;34m\u001b[0m\u001b[0;34m\u001b[0m\u001b[0m\n\u001b[1;32m     38\u001b[0m         \u001b[0mself\u001b[0m\u001b[0;34m.\u001b[0m\u001b[0mlr\u001b[0m \u001b[0;34m=\u001b[0m \u001b[0mstate_dict\u001b[0m\u001b[0;34m[\u001b[0m\u001b[0;34m'lr'\u001b[0m\u001b[0;34m]\u001b[0m\u001b[0;34m\u001b[0m\u001b[0;34m\u001b[0m\u001b[0m\n",
            "\u001b[0;32m/usr/local/lib/python3.7/dist-packages/torch/serialization.py\u001b[0m in \u001b[0;36mload\u001b[0;34m(f, map_location, pickle_module, **pickle_load_args)\u001b[0m\n\u001b[1;32m    605\u001b[0m                     \u001b[0mopened_file\u001b[0m\u001b[0;34m.\u001b[0m\u001b[0mseek\u001b[0m\u001b[0;34m(\u001b[0m\u001b[0morig_position\u001b[0m\u001b[0;34m)\u001b[0m\u001b[0;34m\u001b[0m\u001b[0;34m\u001b[0m\u001b[0m\n\u001b[1;32m    606\u001b[0m                     \u001b[0;32mreturn\u001b[0m \u001b[0mtorch\u001b[0m\u001b[0;34m.\u001b[0m\u001b[0mjit\u001b[0m\u001b[0;34m.\u001b[0m\u001b[0mload\u001b[0m\u001b[0;34m(\u001b[0m\u001b[0mopened_file\u001b[0m\u001b[0;34m)\u001b[0m\u001b[0;34m\u001b[0m\u001b[0;34m\u001b[0m\u001b[0m\n\u001b[0;32m--> 607\u001b[0;31m                 \u001b[0;32mreturn\u001b[0m \u001b[0m_load\u001b[0m\u001b[0;34m(\u001b[0m\u001b[0mopened_zipfile\u001b[0m\u001b[0;34m,\u001b[0m \u001b[0mmap_location\u001b[0m\u001b[0;34m,\u001b[0m \u001b[0mpickle_module\u001b[0m\u001b[0;34m,\u001b[0m \u001b[0;34m**\u001b[0m\u001b[0mpickle_load_args\u001b[0m\u001b[0;34m)\u001b[0m\u001b[0;34m\u001b[0m\u001b[0;34m\u001b[0m\u001b[0m\n\u001b[0m\u001b[1;32m    608\u001b[0m         \u001b[0;32mreturn\u001b[0m \u001b[0m_legacy_load\u001b[0m\u001b[0;34m(\u001b[0m\u001b[0mopened_file\u001b[0m\u001b[0;34m,\u001b[0m \u001b[0mmap_location\u001b[0m\u001b[0;34m,\u001b[0m \u001b[0mpickle_module\u001b[0m\u001b[0;34m,\u001b[0m \u001b[0;34m**\u001b[0m\u001b[0mpickle_load_args\u001b[0m\u001b[0;34m)\u001b[0m\u001b[0;34m\u001b[0m\u001b[0;34m\u001b[0m\u001b[0m\n\u001b[1;32m    609\u001b[0m \u001b[0;34m\u001b[0m\u001b[0m\n",
            "\u001b[0;32m/usr/local/lib/python3.7/dist-packages/torch/serialization.py\u001b[0m in \u001b[0;36m_load\u001b[0;34m(zip_file, map_location, pickle_module, pickle_file, **pickle_load_args)\u001b[0m\n\u001b[1;32m    880\u001b[0m     \u001b[0munpickler\u001b[0m \u001b[0;34m=\u001b[0m \u001b[0mUnpicklerWrapper\u001b[0m\u001b[0;34m(\u001b[0m\u001b[0mdata_file\u001b[0m\u001b[0;34m,\u001b[0m \u001b[0;34m**\u001b[0m\u001b[0mpickle_load_args\u001b[0m\u001b[0;34m)\u001b[0m\u001b[0;34m\u001b[0m\u001b[0;34m\u001b[0m\u001b[0m\n\u001b[1;32m    881\u001b[0m     \u001b[0munpickler\u001b[0m\u001b[0;34m.\u001b[0m\u001b[0mpersistent_load\u001b[0m \u001b[0;34m=\u001b[0m \u001b[0mpersistent_load\u001b[0m\u001b[0;34m\u001b[0m\u001b[0;34m\u001b[0m\u001b[0m\n\u001b[0;32m--> 882\u001b[0;31m     \u001b[0mresult\u001b[0m \u001b[0;34m=\u001b[0m \u001b[0munpickler\u001b[0m\u001b[0;34m.\u001b[0m\u001b[0mload\u001b[0m\u001b[0;34m(\u001b[0m\u001b[0;34m)\u001b[0m\u001b[0;34m\u001b[0m\u001b[0;34m\u001b[0m\u001b[0m\n\u001b[0m\u001b[1;32m    883\u001b[0m \u001b[0;34m\u001b[0m\u001b[0m\n\u001b[1;32m    884\u001b[0m     \u001b[0mtorch\u001b[0m\u001b[0;34m.\u001b[0m\u001b[0m_utils\u001b[0m\u001b[0;34m.\u001b[0m\u001b[0m_validate_loaded_sparse_tensors\u001b[0m\u001b[0;34m(\u001b[0m\u001b[0;34m)\u001b[0m\u001b[0;34m\u001b[0m\u001b[0;34m\u001b[0m\u001b[0m\n",
            "\u001b[0;32m/usr/local/lib/python3.7/dist-packages/torch/serialization.py\u001b[0m in \u001b[0;36mfind_class\u001b[0;34m(self, mod_name, name)\u001b[0m\n\u001b[1;32m    873\u001b[0m         \u001b[0;32mdef\u001b[0m \u001b[0mfind_class\u001b[0m\u001b[0;34m(\u001b[0m\u001b[0mself\u001b[0m\u001b[0;34m,\u001b[0m \u001b[0mmod_name\u001b[0m\u001b[0;34m,\u001b[0m \u001b[0mname\u001b[0m\u001b[0;34m)\u001b[0m\u001b[0;34m:\u001b[0m\u001b[0;34m\u001b[0m\u001b[0;34m\u001b[0m\u001b[0m\n\u001b[1;32m    874\u001b[0m             \u001b[0mmod_name\u001b[0m \u001b[0;34m=\u001b[0m \u001b[0mload_module_mapping\u001b[0m\u001b[0;34m.\u001b[0m\u001b[0mget\u001b[0m\u001b[0;34m(\u001b[0m\u001b[0mmod_name\u001b[0m\u001b[0;34m,\u001b[0m \u001b[0mmod_name\u001b[0m\u001b[0;34m)\u001b[0m\u001b[0;34m\u001b[0m\u001b[0;34m\u001b[0m\u001b[0m\n\u001b[0;32m--> 875\u001b[0;31m             \u001b[0;32mreturn\u001b[0m \u001b[0msuper\u001b[0m\u001b[0;34m(\u001b[0m\u001b[0;34m)\u001b[0m\u001b[0;34m.\u001b[0m\u001b[0mfind_class\u001b[0m\u001b[0;34m(\u001b[0m\u001b[0mmod_name\u001b[0m\u001b[0;34m,\u001b[0m \u001b[0mname\u001b[0m\u001b[0;34m)\u001b[0m\u001b[0;34m\u001b[0m\u001b[0;34m\u001b[0m\u001b[0m\n\u001b[0m\u001b[1;32m    876\u001b[0m \u001b[0;34m\u001b[0m\u001b[0m\n\u001b[1;32m    877\u001b[0m     \u001b[0;31m# Load the data (which may in turn use `persistent_load` to load tensors)\u001b[0m\u001b[0;34m\u001b[0m\u001b[0;34m\u001b[0m\u001b[0;34m\u001b[0m\u001b[0m\n",
            "\u001b[0;31mModuleNotFoundError\u001b[0m: No module named 'opacus.autograd_grad_sample'",
            "",
            "\u001b[0;31m---------------------------------------------------------------------------\u001b[0;32m\nNOTE: If your import is failing due to a missing package, you can\nmanually install dependencies using either !pip or !apt.\n\nTo view examples of installing some common dependencies, click the\n\"Open Examples\" button below.\n\u001b[0;31m---------------------------------------------------------------------------\u001b[0m\n"
          ]
        }
      ]
    },
    {
      "cell_type": "markdown",
      "metadata": {
        "id": "rV-PuFB7wf96"
      },
      "source": [
        "# Prediction Uncertainty "
      ]
    },
    {
      "cell_type": "code",
      "metadata": {
        "colab": {
          "base_uri": "https://localhost:8080/",
          "height": 355
        },
        "id": "_uGJhx1UjCv8",
        "outputId": "d9ae5143-1a31-4299-da64-06c19c6a4b80"
      },
      "source": [
        "# set batch_size = 1 and find which index of the graph in the testloader is not predicted well by the current method \n",
        "# condition I err.cpu().detach().numpy()==1 : prediction is wrong \n",
        "# condition II np.max(probs.cpu().detach().numpy())<0.2 : unconfident prediction \n",
        "valloader_plot = torch.utils.data.DataLoader(valset, batch_size=1, shuffle=False)\n",
        "import torchvision\n",
        "\n",
        "for j, (x, y) in enumerate(valloader_plot):\n",
        "    cost, err, probs = net.eval(x, y)\n",
        "    if err.cpu().detach().numpy()==1 and np.max(probs.cpu().detach().numpy())<0.2:\n",
        "      img=torchvision.utils.make_grid(x*0.3081+0.1307)\n",
        "      plt.imshow(np.transpose(img, (1, 2, 0)))\n",
        "      plt.show()\n",
        "      print(j,y,probs.data.max(dim=1, keepdim=False)[1],probs)\n"
      ],
      "execution_count": null,
      "outputs": [
        {
          "output_type": "stream",
          "text": [
            "/usr/local/lib/python3.7/dist-packages/torch/nn/modules/module.py:795: UserWarning: Using a non-full backward hook when the forward contains multiple autograd Nodes is deprecated and will be removed in future versions. This hook will be missing some grad_input. Please use register_full_backward_hook to get the documented behavior.\n",
            "  warnings.warn(\"Using a non-full backward hook when the forward contains multiple autograd Nodes \"\n"
          ],
          "name": "stderr"
        },
        {
          "output_type": "display_data",
          "data": {
            "image/png": "[encoded data removed]",
            "text/plain": [
              "<Figure size 432x288 with 1 Axes>"
            ]
          },
          "metadata": {
            "tags": []
          }
        },
        {
          "output_type": "stream",
          "text": [
            "7531 tensor([5]) tensor([1]) tensor([[0.0137, 0.1875, 0.0583, 0.0682, 0.1357, 0.1573, 0.0673, 0.1235, 0.0927,\n",
            "         0.0959]])\n"
          ],
          "name": "stdout"
        }
      ]
    },
    {
      "cell_type": "code",
      "metadata": {
        "colab": {
          "base_uri": "https://localhost:8080/",
          "height": 942
        },
        "id": "AsEQYftwndET",
        "outputId": "037610fa-ef97-47b9-feda-a80ef3856932"
      },
      "source": [
        "import matplotlib.pyplot as plt\n",
        "import seaborn as sns\n",
        "sns.set()\n",
        "\n",
        "hist_prob = []\n",
        "err_rate = 0\n",
        "for j, (x, y) in enumerate(valloader_plot):\n",
        "  if j==195:\n",
        "    for i in range(100):\n",
        "      cost, err, probs = net.sample_eval(x, y,1,logits=False)\n",
        "      hist_prob.append(np.array(probs.cpu().detach().numpy())[0])\n",
        "      err_rate += err.cpu().detach().numpy()\n",
        "    img=torchvision.utils.make_grid(x*0.3081+0.1307)\n",
        "    plt.imshow(np.transpose(img, (1, 2, 0)))\n",
        "    plt.show()\n",
        "    plt.savefig('uncertain_number',bbox_inches = 'tight')\n",
        "    print(j,y,probs.data.max(dim=1, keepdim=False)[1],probs)\n",
        "    break\n",
        "\n",
        "\n",
        "prob_list = [[],[],[],[],[],[],[],[],[],[]]\n",
        "\n",
        "k = 0\n",
        "for l in hist_prob:\n",
        "    for k in range(10):\n",
        "      prob_list[k].append(l[k])\n",
        "\n",
        "fig, ax = plt.subplots(nrows=1, ncols=1)\n",
        "\n",
        "plt.hist(prob_list,bins=5)\n",
        "plt.xlim([0,1])\n",
        "plt.legend(['0','1','2','3','4','5','6','7','8','9'],loc='upper right')\n",
        "plt.savefig('dp_mcb_hist3.pdf',bbox_inches = 'tight')\n",
        "\n",
        "plt.show()\n",
        "\n",
        "import matplotlib.pyplot as plt\n",
        "import seaborn as sns\n",
        "sns.set()\n",
        "\n",
        "hist_prob = []\n",
        "err_rate = 0\n",
        "for j, (x, y) in enumerate(valloader_plot):\n",
        "  if j==404:\n",
        "    for i in range(100):\n",
        "      cost, err, probs = net.sample_eval(x, y,1,logits=False)\n",
        "      hist_prob.append(np.array(probs.cpu().detach().numpy())[0])\n",
        "      err_rate += err.cpu().detach().numpy()\n",
        "    img=torchvision.utils.make_grid(x*0.3081+0.1307)\n",
        "    #plt.imshow(np.transpose(img, (1, 2, 0)))\n",
        "    #plt.show()\n",
        "    #plt.savefig('uncertain_number',bbox_inches = 'tight')\n",
        "    print(j,y,probs.data.max(dim=1, keepdim=False)[1],probs)\n",
        "    break\n",
        "\n",
        "\n",
        "prob_list = [[],[],[],[],[],[],[],[],[],[]]\n",
        "\n",
        "k = 0\n",
        "for l in hist_prob:\n",
        "    for k in range(10):\n",
        "      prob_list[k].append(l[k])\n",
        "\n",
        "fig, ax = plt.subplots(nrows=1, ncols=1)\n",
        "\n",
        "plt.hist(prob_list,bins=5)\n",
        "plt.xlim([0,1])\n",
        "plt.legend(['0','1','2','3','4','5','6','7','8','9'],loc='upper right',bbox_to_anchor=(1.02,1))\n",
        "plt.savefig('dp_mcb_hist2.pdf',bbox_inches = 'tight')\n",
        "plt.show()\n",
        "\n",
        "\n"
      ],
      "execution_count": null,
      "outputs": [
        {
          "output_type": "stream",
          "text": [
            "/usr/local/lib/python3.7/dist-packages/torch/nn/modules/module.py:795: UserWarning: Using a non-full backward hook when the forward contains multiple autograd Nodes is deprecated and will be removed in future versions. This hook will be missing some grad_input. Please use register_full_backward_hook to get the documented behavior.\n",
            "  warnings.warn(\"Using a non-full backward hook when the forward contains multiple autograd Nodes \"\n"
          ],
          "name": "stderr"
        },
        {
          "output_type": "display_data",
          "data": {
            "image/png": "[encoded data removed]",
            "text/plain": [
              "<Figure size 432x288 with 1 Axes>"
            ]
          },
          "metadata": {
            "tags": []
          }
        },
        {
          "output_type": "stream",
          "text": [
            "195 tensor([3]) tensor([3]) tensor([[0.0066, 0.1409, 0.0386, 0.2575, 0.1242, 0.1673, 0.0307, 0.0648, 0.0522,\n",
            "         0.1173]])\n"
          ],
          "name": "stdout"
        },
        {
          "output_type": "display_data",
          "data": {
            "text/plain": [
              "<Figure size 432x288 with 0 Axes>"
            ]
          },
          "metadata": {
            "tags": []
          }
        },
        {
          "output_type": "display_data",
          "data": {
            "image/png": "[encoded data removed]",
            "text/plain": [
              "<Figure size 432x288 with 1 Axes>"
            ]
          },
          "metadata": {
            "tags": []
          }
        },
        {
          "output_type": "stream",
          "text": [
            "/usr/local/lib/python3.7/dist-packages/torch/nn/modules/module.py:795: UserWarning: Using a non-full backward hook when the forward contains multiple autograd Nodes is deprecated and will be removed in future versions. This hook will be missing some grad_input. Please use register_full_backward_hook to get the documented behavior.\n",
            "  warnings.warn(\"Using a non-full backward hook when the forward contains multiple autograd Nodes \"\n"
          ],
          "name": "stderr"
        },
        {
          "output_type": "stream",
          "text": [
            "404 tensor([2]) tensor([2]) tensor([[0.0700, 0.0657, 0.5335, 0.0755, 0.0006, 0.0607, 0.0103, 0.0079, 0.1746,\n",
            "         0.0013]])\n"
          ],
          "name": "stdout"
        },
        {
          "output_type": "display_data",
          "data": {
            "image/png": "[encoded data removed]",
            "text/plain": [
              "<Figure size 432x288 with 1 Axes>"
            ]
          },
          "metadata": {
            "tags": []
          }
        }
      ]
    },
    {
      "cell_type": "code",
      "metadata": {
        "colab": {
          "base_uri": "https://localhost:8080/",
          "height": 1000
        },
        "id": "KqUm8a98GWqJ",
        "outputId": "4a3f1d7a-0e12-472a-9380-9f998216fb2e"
      },
      "source": [
        "# Select one of the graph produced by the last chunk, I select 2793\n",
        "# to compare fairly, we should select the same graph across the methods\n",
        "# we can select the graph after from the intersection of unconfident graph for all the methods. \n",
        "# over 100 repeated samplings : this is the way how mc_dropout does Bayesian inference\n",
        "# For sgld, you don't have to do it 100 times since you've already save bunches of weights. \n",
        "\n",
        "\n",
        "hist_prob = []\n",
        "err_rate = 0\n",
        "for j, (x, y) in enumerate(valloader_plot):\n",
        "  if j==551:\n",
        "    for i in range(100):\n",
        "      cost, err, probs = net.sample_eval(x, y,1,logits=False)\n",
        "      hist_prob.append(np.array(probs.cpu().detach().numpy())[0])\n",
        "      err_rate += err.cpu().detach().numpy()\n",
        "    img=torchvision.utils.make_grid(x*0.3081+0.1307)\n",
        "    plt.imshow(np.transpose(img, (1, 2, 0)))\n",
        "    plt.show()\n",
        "    plt.savefig('uncertain_number',bbox_inches = 'tight')\n",
        "    print(j,y,probs.data.max(dim=1, keepdim=False)[1],probs)\n",
        "    break\n",
        "\n",
        "prob_list = [[],[],[],[],[],[],[],[],[],[]]\n",
        "\n",
        "k = 0\n",
        "for l in hist_prob:\n",
        "    for k in range(10):\n",
        "      prob_list[k].append(l[k])\n",
        "  \n",
        "import matplotlib.pyplot as plt\n",
        "import numpy as np\n",
        "from matplotlib import colors\n",
        "from matplotlib.ticker import PercentFormatter\n",
        "\n",
        "\n",
        "n_bins = 10\n",
        "\n",
        "print(\"True label is\", y)\n",
        "\n",
        "fig, axs = plt.subplots(1, 10, sharey=True, tight_layout=True, figsize=(10,10))\n",
        "\n",
        "# We can set the number of bins with the `bins` kwarg\n",
        "axs[0].hist(prob_list[0], bins=n_bins,range=[0, 1])\n",
        "axs[0].set_xlabel('Label 0')\n",
        "axs[1].hist(prob_list[1], bins=n_bins,range=[0, 1])\n",
        "axs[1].set_xlabel('Label 1')\n",
        "axs[2].hist(prob_list[2], bins=n_bins,range=[0, 1])\n",
        "axs[2].set_xlabel('Label 2')\n",
        "axs[3].hist(prob_list[3], bins=n_bins,range=[0, 1])\n",
        "axs[3].set_xlabel('Label 3')\n",
        "axs[4].hist(prob_list[4], bins=n_bins,range=[0, 1])\n",
        "axs[4].set_xlabel('Label 4')\n",
        "axs[5].hist(prob_list[5], bins=n_bins,range=[0, 1])\n",
        "axs[5].set_xlabel('Label 5')\n",
        "axs[6].hist(prob_list[6], bins=n_bins,range=[0, 1])\n",
        "axs[6].set_xlabel('Label 6')\n",
        "axs[7].hist(prob_list[7], bins=n_bins,range=[0, 1])\n",
        "axs[7].set_xlabel('Label 7')\n",
        "axs[8].hist(prob_list[8], bins=n_bins,range=[0, 1])\n",
        "axs[8].set_xlabel('Label 8')\n",
        "axs[9].hist(prob_list[9], bins=n_bins,range=[0, 1])\n",
        "axs[9].set_xlabel('Label 9')\n",
        "\n",
        "fig.savefig('DP_MC_dropout_hist7.png')\n",
        "\n",
        "\"\"\"    \n",
        "    for K in range(10): \n",
        "        class_col = [sub[K] for sub in hist_prob]\n",
        "      # fig = plt.figure()\n",
        "        plt.xlim(0, 1) \n",
        "        plt.ylim(0, 90) \n",
        "        plt.hist(class_col,width=0.02,bins=10)\n",
        "        plt.show() \n",
        "        f_name = 'dpmc_class'+str(K)\n",
        "        print(f_name)\n",
        "        plt.savefig(f_name, bbox_inches = 'tight')\n",
        "  \n",
        "err_rate\n",
        "\"\"\""
      ],
      "execution_count": null,
      "outputs": [
        {
          "output_type": "stream",
          "text": [
            "/usr/local/lib/python3.7/dist-packages/torch/nn/modules/module.py:795: UserWarning: Using a non-full backward hook when the forward contains multiple autograd Nodes is deprecated and will be removed in future versions. This hook will be missing some grad_input. Please use register_full_backward_hook to get the documented behavior.\n",
            "  warnings.warn(\"Using a non-full backward hook when the forward contains multiple autograd Nodes \"\n"
          ],
          "name": "stderr"
        },
        {
          "output_type": "display_data",
          "data": {
            "image/png": "[encoded data removed]",
            "text/plain": [
              "<Figure size 432x288 with 1 Axes>"
            ]
          },
          "metadata": {
            "tags": [],
            "needs_background": "light"
          }
        },
        {
          "output_type": "stream",
          "text": [
            "551 tensor([7]) tensor([1]) tensor([[3.8015e-04, 8.6743e-01, 9.0593e-03, 4.7779e-02, 3.5937e-02, 6.1531e-03,\n",
            "         8.4897e-03, 6.2898e-03, 1.2690e-02, 5.7955e-03]])\n",
            "True label is tensor([7])\n"
          ],
          "name": "stdout"
        },
        {
          "output_type": "execute_result",
          "data": {
            "application/vnd.google.colaboratory.intrinsic+json": {
              "type": "string"
            },
            "text/plain": [
              "\"    \\n    for K in range(10): \\n        class_col = [sub[K] for sub in hist_prob]\\n      # fig = plt.figure()\\n        plt.xlim(0, 1) \\n        plt.ylim(0, 90) \\n        plt.hist(class_col,width=0.02,bins=10)\\n        plt.show() \\n        f_name = 'dpmc_class'+str(K)\\n        print(f_name)\\n        plt.savefig(f_name, bbox_inches = 'tight')\\n  \\nerr_rate\\n\""
            ]
          },
          "metadata": {
            "tags": []
          },
          "execution_count": 9
        },
        {
          "output_type": "display_data",
          "data": {
            "text/plain": [
              "<Figure size 432x288 with 0 Axes>"
            ]
          },
          "metadata": {
            "tags": []
          }
        },
        {
          "output_type": "display_data",
          "data": {
            "image/png": "[encoded data removed]",
            "text/plain": [
              "<Figure size 720x720 with 10 Axes>"
            ]
          },
          "metadata": {
            "tags": [],
            "needs_background": "light"
          }
        }
      ]
    },
    {
      "cell_type": "code",
      "metadata": {
        "colab": {
          "base_uri": "https://localhost:8080/",
          "height": 1000
        },
        "id": "YjzHJY3jroC5",
        "outputId": "31a29b15-e4de-4246-8b39-270e56aefb9d"
      },
      "source": [
        "hist_prob = []\n",
        "err_rate = 0\n",
        "for j, (x, y) in enumerate(valloader_plot):\n",
        "  if j==404:\n",
        "    for i in range(100):\n",
        "      cost, err, probs = net.sample_eval(x, y,1,logits=False)\n",
        "      hist_prob.append(np.array(probs.cpu().detach().numpy())[0])\n",
        "      err_rate += err.cpu().detach().numpy()\n",
        "    img=torchvision.utils.make_grid(x*0.3081+0.1307)\n",
        "    plt.imshow(np.transpose(img, (1, 2, 0)))\n",
        "    plt.show()\n",
        "    plt.savefig('uncertain_number',bbox_inches = 'tight')\n",
        "    print(j,y,probs.data.max(dim=1, keepdim=False)[1],probs)\n",
        "    break\n",
        "\n",
        "prob_list = [[],[],[],[],[],[],[],[],[],[]]\n",
        "\n",
        "k = 0\n",
        "for l in hist_prob:\n",
        "    for k in range(10):\n",
        "      prob_list[k].append(l[k])\n",
        "  \n",
        "import matplotlib.pyplot as plt\n",
        "import numpy as np\n",
        "from matplotlib import colors\n",
        "from matplotlib.ticker import PercentFormatter\n",
        "\n",
        "\n",
        "n_bins = 10\n",
        "\n",
        "print(\"True label is\", y)\n",
        "\n",
        "fig, axs = plt.subplots(1, 10, sharey=True, tight_layout=True, figsize=(10,10))\n",
        "\n",
        "# We can set the number of bins with the `bins` kwarg\n",
        "axs[0].hist(prob_list[0], bins=n_bins,range=[0, 1])\n",
        "axs[0].set_xlabel('Label 0')\n",
        "axs[1].hist(prob_list[1], bins=n_bins,range=[0, 1])\n",
        "axs[1].set_xlabel('Label 1')\n",
        "axs[2].hist(prob_list[2], bins=n_bins,range=[0, 1])\n",
        "axs[2].set_xlabel('Label 2')\n",
        "axs[3].hist(prob_list[3], bins=n_bins,range=[0, 1])\n",
        "axs[3].set_xlabel('Label 3')\n",
        "axs[4].hist(prob_list[4], bins=n_bins,range=[0, 1])\n",
        "axs[4].set_xlabel('Label 4')\n",
        "axs[5].hist(prob_list[5], bins=n_bins,range=[0, 1])\n",
        "axs[5].set_xlabel('Label 5')\n",
        "axs[6].hist(prob_list[6], bins=n_bins,range=[0, 1])\n",
        "axs[6].set_xlabel('Label 6')\n",
        "axs[7].hist(prob_list[7], bins=n_bins,range=[0, 1])\n",
        "axs[7].set_xlabel('Label 7')\n",
        "axs[8].hist(prob_list[8], bins=n_bins,range=[0, 1])\n",
        "axs[8].set_xlabel('Label 8')\n",
        "axs[9].hist(prob_list[9], bins=n_bins,range=[0, 1])\n",
        "axs[9].set_xlabel('Label 9')\n",
        "\n",
        "fig.savefig('DP_MC_dropout_hist2.png')"
      ],
      "execution_count": null,
      "outputs": [
        {
          "output_type": "stream",
          "text": [
            "/usr/local/lib/python3.7/dist-packages/torch/nn/modules/module.py:795: UserWarning: Using a non-full backward hook when the forward contains multiple autograd Nodes is deprecated and will be removed in future versions. This hook will be missing some grad_input. Please use register_full_backward_hook to get the documented behavior.\n",
            "  warnings.warn(\"Using a non-full backward hook when the forward contains multiple autograd Nodes \"\n"
          ],
          "name": "stderr"
        },
        {
          "output_type": "display_data",
          "data": {
            "image/png": "[encoded data removed]",
            "text/plain": [
              "<Figure size 432x288 with 1 Axes>"
            ]
          },
          "metadata": {
            "tags": [],
            "needs_background": "light"
          }
        },
        {
          "output_type": "stream",
          "text": [
            "404 tensor([2]) tensor([2]) tensor([[1.9448e-02, 2.1939e-02, 8.8314e-01, 2.6331e-02, 1.6233e-04, 6.5323e-03,\n",
            "         1.4533e-03, 2.3923e-03, 3.7980e-02, 6.2539e-04]])\n",
            "True label is tensor([2])\n"
          ],
          "name": "stdout"
        },
        {
          "output_type": "display_data",
          "data": {
            "text/plain": [
              "<Figure size 432x288 with 0 Axes>"
            ]
          },
          "metadata": {
            "tags": []
          }
        },
        {
          "output_type": "display_data",
          "data": {
            "image/png": "[encoded data removed]",
            "text/plain": [
              "<Figure size 720x720 with 10 Axes>"
            ]
          },
          "metadata": {
            "tags": [],
            "needs_background": "light"
          }
        }
      ]
    },
    {
      "cell_type": "code",
      "metadata": {
        "colab": {
          "base_uri": "https://localhost:8080/"
        },
        "id": "VOA-Xy8HHIJv",
        "outputId": "d597e249-67b7-47f1-bd5b-c293daeb9911"
      },
      "source": [
        "probs.shape"
      ],
      "execution_count": null,
      "outputs": [
        {
          "output_type": "execute_result",
          "data": {
            "text/plain": [
              "torch.Size([1, 10])"
            ]
          },
          "metadata": {
            "tags": []
          },
          "execution_count": 11
        }
      ]
    },
    {
      "cell_type": "markdown",
      "metadata": {
        "id": "HkCzfagHKVJP"
      },
      "source": [
        "# Visualization of the result "
      ]
    },
    {
      "cell_type": "code",
      "metadata": {
        "id": "M7lrJPsyIAoB",
        "colab": {
          "base_uri": "https://localhost:8080/",
          "height": 613
        },
        "outputId": "4ebf9e69-b851-4629-a639-5f92a43193b4"
      },
      "source": [
        "## ---------------------------------------------------------------------------------------------------------------------\n",
        "# fig cost vs its\n",
        "import matplotlib\n",
        "textsize = 15\n",
        "marker=5\n",
        "\n",
        "plt.figure(dpi=100)\n",
        "fig, ax1 = plt.subplots()\n",
        "ax1.plot(range(0, nb_epochs, nb_its_dev), cost_dev[::nb_its_dev], 'b-')\n",
        "ax1.plot(pred_cost_train, 'r--')\n",
        "ax1.set_ylabel('Cross Entropy')\n",
        "plt.xlabel('epoch')\n",
        "plt.grid(b=True, which='major', color='k', linestyle='-')\n",
        "plt.grid(b=True, which='minor', color='k', linestyle='--')\n",
        "lgd = plt.legend(['test error', 'train error'], markerscale=marker, prop={'size': textsize, 'weight': 'normal'})\n",
        "ax = plt.gca()\n",
        "plt.title('classification costs')\n",
        "for item in ([ax.title, ax.xaxis.label, ax.yaxis.label] +\n",
        "    ax.get_xticklabels() + ax.get_yticklabels()):\n",
        "    item.set_fontsize(textsize)\n",
        "    item.set_weight('normal')\n",
        "plt.savefig(results_dir + '/cost.png', bbox_extra_artists=(lgd,), bbox_inches='tight')\n",
        "\n",
        "\n",
        "\n",
        "plt.figure(dpi=100)\n",
        "fig2, ax2 = plt.subplots()\n",
        "ax2.set_ylabel('% error')\n",
        "ax2.semilogy(range(0, nb_epochs, nb_its_dev), 100 * err_dev[::nb_its_dev], 'b-')\n",
        "ax2.semilogy(100 * err_train, 'r--')\n",
        "plt.xlabel('epoch')\n",
        "plt.grid(b=True, which='major', color='k', linestyle='-')\n",
        "plt.grid(b=True, which='minor', color='k', linestyle='--')\n",
        "ax2.get_yaxis().set_minor_formatter(matplotlib.ticker.ScalarFormatter())\n",
        "ax2.get_yaxis().set_major_formatter(matplotlib.ticker.ScalarFormatter())\n",
        "lgd = plt.legend(['test error', 'train error'], markerscale=marker, prop={'size': textsize, 'weight': 'normal'})\n",
        "ax = plt.gca()\n",
        "for item in ([ax.title, ax.xaxis.label, ax.yaxis.label] +\n",
        "    ax.get_xticklabels() + ax.get_yticklabels()):\n",
        "    item.set_fontsize(textsize)\n",
        "    item.set_weight('normal')\n",
        "plt.savefig(results_dir + '/err.png',  bbox_extra_artists=(lgd,), box_inches='tight')\n"
      ],
      "execution_count": null,
      "outputs": [
        {
          "output_type": "display_data",
          "data": {
            "text/plain": [
              "<Figure size 600x400 with 0 Axes>"
            ]
          },
          "metadata": {
            "tags": []
          }
        },
        {
          "output_type": "display_data",
          "data": {
            "image/png": "[encoded data removed]",
            "text/plain": [
              "<Figure size 432x288 with 1 Axes>"
            ]
          },
          "metadata": {
            "tags": [],
            "needs_background": "light"
          }
        },
        {
          "output_type": "display_data",
          "data": {
            "text/plain": [
              "<Figure size 600x400 with 0 Axes>"
            ]
          },
          "metadata": {
            "tags": []
          }
        },
        {
          "output_type": "display_data",
          "data": {
            "image/png": "[encoded data removed]",
            "text/plain": [
              "<Figure size 432x288 with 1 Axes>"
            ]
          },
          "metadata": {
            "tags": [],
            "needs_background": "light"
          }
        }
      ]
    },
    {
      "cell_type": "markdown",
      "metadata": {
        "id": "8weL3sDs12-4"
      },
      "source": [
        "## NDP-MC Dropout"
      ]
    },
    {
      "cell_type": "code",
      "metadata": {
        "id": "Hp0e0lcn2Ars"
      },
      "source": [
        ""
      ],
      "execution_count": null,
      "outputs": []
    },
    {
      "cell_type": "code",
      "metadata": {
        "id": "BaWngXkdjm_H"
      },
      "source": [
        "from src.priors import *\n",
        "from src.base_net import *\n",
        "\n",
        "import torch.nn.functional as F\n",
        "import torch.nn as nn\n",
        "\n",
        "\n",
        "def MC_dropout(act_vec, p=0, mask=True):\n",
        "    return F.dropout(act_vec, p=p, training=mask, inplace=True)\n",
        "\n",
        "\n",
        "class Linear_2L(nn.Module):\n",
        "    def __init__(self, input_dim, output_dim, n_hid):\n",
        "        super(Linear_2L, self).__init__()  # what \n",
        "\n",
        "        self.pdrop = 0.5  # what \n",
        "\n",
        "        self.input_dim = input_dim\n",
        "        self.output_dim = output_dim\n",
        "\n",
        "        self.fc1 = nn.Linear(input_dim, n_hid)\n",
        "        self.fc2 = nn.Linear(n_hid, n_hid)\n",
        "        self.fc3 = nn.Linear(n_hid, output_dim)\n",
        "\n",
        "        # choose your non linearity\n",
        "        # self.act = nn.Tanh()\n",
        "        # self.act = nn.Sigmoid()\n",
        "        self.act = nn.ReLU(inplace=True)\n",
        "        # self.act = nn.ELU(inplace=True)\n",
        "        # self.act = nn.SELU(inplace=True)\n",
        "\n",
        "    def forward(self, x, sample=True):\n",
        "        mask = self.training or sample  # if training or sampling, mc dropout will apply random binary mask\n",
        "        # Otherwise, for regular test set evaluation, we can just scale activations\n",
        "\n",
        "        x = x.view(-1, self.input_dim)  # view(batch_size, input_dim)\n",
        "        # -----------------\n",
        "        x = self.fc1(x)\n",
        "        x = MC_dropout(x, p=self.pdrop, mask=mask)\n",
        "        # -----------------\n",
        "        x = self.act(x)\n",
        "        # -----------------\n",
        "        x = self.fc2(x)\n",
        "        x = MC_dropout(x, p=self.pdrop, mask=mask)\n",
        "        # -----------------\n",
        "        x = self.act(x)\n",
        "        # -----------------\n",
        "        y = self.fc3(x)\n",
        "\n",
        "        return y\n",
        "\n",
        "    def sample_predict(self, x, Nsamples):\n",
        "        # Just copies type from x, initializes new vector\n",
        "        predictions = x.data.new(Nsamples, x.shape[0], self.output_dim)\n",
        "\n",
        "        for i in range(Nsamples):\n",
        "            y = self.forward(x, sample=True)\n",
        "            predictions[i] = y\n",
        "\n",
        "        return predictions\n",
        "\n",
        "\n",
        "class MC_drop_net2(BaseNet):\n",
        "    eps = 1e-6\n",
        "    # what\n",
        "    def __init__(self, lr=1e-3, channels_in=3, side_in=28, cuda=True, classes=10, batch_size=128, weight_decay=0, n_hid=1200,sr=0.004,sigma=1,max_grad_norm=1.0,secure_rng=False):\n",
        "        super(MC_drop_net2, self).__init__()\n",
        "        cprint('y', ' Creating Net!! ')\n",
        "        self.lr = lr\n",
        "        self.schedule = None  # [] #[50,200,400,600]\n",
        "        self.cuda = cuda\n",
        "        self.channels_in = channels_in\n",
        "        self.weight_decay = weight_decay\n",
        "        self.sr = sr\n",
        "        self.disable_dp = disable_dp      \n",
        "        self.sigma = sigma\n",
        "        self.max_grad_norm = max_grad_norm\n",
        "        self.secure_rng = secure_rng\n",
        "        self.classes = classes\n",
        "        self.n_hid = n_hid\n",
        "        self.batch_size = batch_size\n",
        "        self.side_in = side_in\n",
        "        self.create_net()\n",
        "        self.create_opt()\n",
        "        self.epoch = 0\n",
        "        self.test = False\n",
        "\n",
        "    # main net and use GPU \n",
        "    def create_net(self):\n",
        "        torch.manual_seed(42)\n",
        "        if self.cuda:\n",
        "            torch.cuda.manual_seed(42)\n",
        "        # what \n",
        "        self.model = Linear_2L(input_dim=self.channels_in * self.side_in * self.side_in, output_dim=self.classes,\n",
        "                               n_hid=self.n_hid)\n",
        "        if self.cuda:\n",
        "            self.model.cuda()\n",
        "        #             cudnn.benchmark = True\n",
        "\n",
        "        print('    Total params: %.2fM' % (self.get_nb_parameters() / 1000000.0))\n",
        "    \n",
        "    # optimizer \n",
        "    def create_opt(self):\n",
        "        #         self.optimizer = torch.optim.Adam(self.model.parameters(), lr=self.lr, betas=(0.9, 0.999), eps=1e-08,\n",
        "        #                                           weight_decay=0)\n",
        "        self.optimizer = torch.optim.SGD(self.model.parameters(), lr=self.lr, momentum=0.5,\n",
        "                                         weight_decay=self.weight_decay)\n",
        "\n",
        "        if not disable_dp:\n",
        "            privacy_engine = PrivacyEngine(\n",
        "                self.model,\n",
        "                sample_rate=self.sr,\n",
        "                alphas=[1 + x / 10.0 for x in range(1, 100)] + list(range(12, 64)),\n",
        "                noise_multiplier=self.sigma,\n",
        "                max_grad_norm=self.max_grad_norm,\n",
        "                secure_rng=self.secure_rng,\n",
        "            )\n",
        "            privacy_engine.attach(self.optimizer) # make optimizer private \n",
        "    #         self.optimizer = torch.optim.SGD(self.model.parameters(), lr=self.lr, momentum=0.9)\n",
        "    #         self.sched = torch.optim.lr_scheduler.StepLR(self.optimizer, step_size=1, gamma=10, last_epoch=-1)\n",
        "   \n",
        "    # train \n",
        "    def fit(self, x, y):\n",
        "        x, y = to_variable(var=(x, y.long()), cuda=self.cuda)\n",
        "\n",
        "        self.optimizer.zero_grad()\n",
        "\n",
        "        out = self.model(x)\n",
        "        loss = F.cross_entropy(out, y, reduction='sum')\n",
        "\n",
        "        loss.backward()\n",
        "        self.optimizer.step()\n",
        "\n",
        "        # out: (batch_size, out_channels, out_caps_dims)\n",
        "        pred = out.data.max(dim=1, keepdim=False)[1]  # get the index of the max log-probability\n",
        "        err = pred.ne(y.data).sum()\n",
        "        return loss.data, err\n",
        "    # test \n",
        "    def eval(self, x, y, train=False):\n",
        "        x, y = to_variable(var=(x, y.long()), cuda=self.cuda)\n",
        "\n",
        "        out = self.model(x)\n",
        "\n",
        "        loss = F.cross_entropy(out, y, reduction='sum')\n",
        "\n",
        "        probs = F.softmax(out, dim=1).data.cpu()\n",
        "\n",
        "        pred = out.data.max(dim=1, keepdim=False)[1]  # get the index of the max log-probability\n",
        "        err = pred.ne(y.data).sum()\n",
        "\n",
        "        return loss.data, err, probs\n",
        "\n",
        "    def sample_eval(self, x, y, Nsamples, logits=True, train=False):\n",
        "        x, y = to_variable(var=(x, y.long()), cuda=self.cuda)\n",
        "\n",
        "        out = self.model.sample_predict(x, Nsamples)\n",
        "\n",
        "        if logits:\n",
        "            mean_out = out.mean(dim=0, keepdim=False)\n",
        "            loss = F.cross_entropy(mean_out, y, reduction='sum')\n",
        "            probs = F.softmax(mean_out, dim=1).data.cpu()\n",
        "\n",
        "        else:\n",
        "            mean_out = F.softmax(out, dim=2).mean(dim=0, keepdim=False)\n",
        "            probs = mean_out.data.cpu()\n",
        "\n",
        "            log_mean_probs_out = torch.log(mean_out)\n",
        "            loss = F.nll_loss(log_mean_probs_out, y, reduction='sum')\n",
        "\n",
        "        pred = mean_out.data.max(dim=1, keepdim=False)[1]  # get the index of the max log-probability\n",
        "        err = pred.ne(y.data).sum()\n",
        "\n",
        "        return loss.data, err, probs\n",
        "\n",
        "    def all_sample_eval(self, x, y, Nsamples):\n",
        "        x, y = to_variable(var=(x, y.long()), cuda=self.cuda)\n",
        "\n",
        "        out = self.model.sample_predict(x, Nsamples)\n",
        "\n",
        "        prob_out = F.softmax(out, dim=2)\n",
        "        prob_out = prob_out.data\n",
        "\n",
        "        return prob_out\n",
        "\n",
        "    def get_weight_samples(self):\n",
        "        weight_vec = []\n",
        "\n",
        "        state_dict = self.model.state_dict()\n",
        "\n",
        "        for key in state_dict.keys():\n",
        "\n",
        "            if 'weight' in key:\n",
        "                weight_mtx = state_dict[key].cpu().data\n",
        "                for weight in weight_mtx.view(-1):\n",
        "                    weight_vec.append(weight)\n",
        "\n",
        "        return np.array(weight_vec)"
      ],
      "execution_count": null,
      "outputs": []
    },
    {
      "cell_type": "code",
      "metadata": {
        "colab": {
          "base_uri": "https://localhost:8080/"
        },
        "id": "sWkIS2hMjxQ8",
        "outputId": "78e6e8f1-63d4-4066-a064-069fea55bac1"
      },
      "source": [
        "#from __future__ import division, print_function\n",
        "import time\n",
        "import torch.utils.data\n",
        "from torchvision import transforms, datasets\n",
        "from src.MC_dropout.model import *\n",
        "\n",
        "#matplotlib.use('Agg')\n",
        "import matplotlib.pyplot as plt\n",
        "\n",
        "## global \n",
        "weight_decay  = 1.0 \n",
        "\n",
        "models_dir    = 'MCdrop_models'\n",
        "results_dir   = 'MCdrop_results'\n",
        "\n",
        "batch_size = 128\n",
        "sr      = batch_size/60000\n",
        "test_batch_size  = 1024 \n",
        "sigma            = 1.3\n",
        "delta            = 1e-5\n",
        "max_per_sample_grad_norm = 200\n",
        "epochs           = 15\n",
        "n_runs           = 1\n",
        "lr               = 0.0002\n",
        "device           = \"cuda\"\n",
        "save_model       = False\n",
        "secure_rng       = False\n",
        "data_root        = \"/content/data/\"\n",
        "disable_dp       = False\n",
        "\n",
        "\n",
        "\n",
        "\n",
        "# Where to save models weights\n",
        "models_dir = models_dir\n",
        "# Where to save plots and error, accuracy vectors\n",
        "results_dir = results_dir\n",
        "\n",
        "mkdir(models_dir)\n",
        "mkdir(results_dir)\n",
        "# ------------------------------------------------------------------------------------------------------\n",
        "# train config\n",
        "NTrainPointsMNIST = 60000\n",
        "nb_epochs = epochs\n",
        "log_interval = 1\n",
        "\n",
        "\n",
        "# ------------------------------------------------------------------------------------------------------\n",
        "# dataset\n",
        "cprint('c', '\\nData:')\n",
        "\n",
        "# load data\n",
        "\n",
        "# data augmentation\n",
        "transform_train = transforms.Compose([\n",
        "    transforms.ToTensor(),\n",
        "    transforms.Normalize(mean=(0.1307,), std=(0.3081,))\n",
        "])\n",
        "\n",
        "transform_test = transforms.Compose([\n",
        "    transforms.ToTensor(),\n",
        "    transforms.Normalize(mean=(0.1307,), std=(0.3081,))\n",
        "])\n",
        "\n",
        "use_cuda = torch.cuda.is_available()\n",
        "\n",
        "\n",
        "trainset = datasets.MNIST(root=data_root, train=True, download=False, transform=transform_train)\n",
        "valset = datasets.MNIST(root=data_root, train=False, download=False, transform=transform_test)\n",
        "\n",
        "if use_cuda:\n",
        "    trainloader = torch.utils.data.DataLoader(trainset, batch_size=batch_size, shuffle=True, pin_memory=True,\n",
        "                                              num_workers=2)\n",
        "    valloader = torch.utils.data.DataLoader(valset, batch_size=batch_size, shuffle=False, pin_memory=True,\n",
        "                                            num_workers=2)\n",
        "\n",
        "else:\n",
        "    trainloader = torch.utils.data.DataLoader(trainset, batch_size=batch_size, shuffle=True, pin_memory=False,\n",
        "                                              num_workers=2)\n",
        "    valloader = torch.utils.data.DataLoader(valset, batch_size=batch_size, shuffle=False, pin_memory=False,\n",
        "                                            num_workers=2)\n",
        "\n",
        "## ---------------------------------------------------------------------------------------------------------------------\n",
        "# net dims\n",
        "cprint('c', '\\nNetwork:')"
      ],
      "execution_count": null,
      "outputs": [
        {
          "output_type": "stream",
          "text": [
            "\u001b[36m\n",
            "Data:\u001b[0m\n",
            "\u001b[36m\n",
            "Network:\u001b[0m\n"
          ],
          "name": "stdout"
        }
      ]
    },
    {
      "cell_type": "code",
      "metadata": {
        "colab": {
          "base_uri": "https://localhost:8080/"
        },
        "id": "3DJBGGFvj3ZA",
        "outputId": "6ac165d8-6fc9-4c24-cab9-35971a46f624"
      },
      "source": [
        "\n",
        "########################################################################################\n",
        "\n",
        "net = MC_drop_net2(lr=lr, channels_in=1, side_in=28, cuda=use_cuda, classes=10, batch_size=batch_size,\n",
        "                  weight_decay=weight_decay, n_hid=1200,sr=sr,sigma=sigma,max_grad_norm=max_per_sample_grad_norm,secure_rng=secure_rng)\n",
        "\n",
        "## ---------------------------------------------------------------------------------------------------------------------\n",
        "# train\n",
        "cprint('c', '\\nTrain:')\n",
        "\n",
        "print('  init cost variables:')\n",
        "kl_cost_train = np.zeros(nb_epochs)\n",
        "pred_cost_train = np.zeros(nb_epochs)\n",
        "err_train = np.zeros(nb_epochs)\n",
        "\n",
        "cost_dev = np.zeros(nb_epochs)\n",
        "err_dev = np.zeros(nb_epochs)\n",
        "best_err = np.inf\n",
        "\n",
        "nb_its_dev = 1\n",
        "\n",
        "tic0 = time.time()\n",
        "for i in range(0, nb_epochs):\n",
        "\n",
        "    net.set_mode_train(True)\n",
        "    tic = time.time()\n",
        "    nb_samples = 0\n",
        "   \n",
        "    for x, y in trainloader:\n",
        "\n",
        "        cost_pred, err = net.fit(x, y)\n",
        "\n",
        "        err_train[i] += err\n",
        "        pred_cost_train[i] += cost_pred\n",
        "        nb_samples += len(x)\n",
        "\n",
        "    pred_cost_train[i] /= nb_samples\n",
        "    err_train[i] /= nb_samples\n",
        "\n",
        "    toc = time.time()\n",
        "    net.epoch = i\n",
        "    # ---- print\n",
        "    print(\"it %d/%d, Jtr_pred = %f, err = %f, \" % (i+1, nb_epochs, pred_cost_train[i], err_train[i]), end=\"\")\n",
        "    cprint('r', '   time: %f seconds\\n' % (toc - tic))\n",
        "    \n",
        "    if not disable_dp:\n",
        "        epsilon, best_alpha = net.optimizer.privacy_engine.get_privacy_spent(delta)\n",
        "        print(\n",
        "            f\"(ε = {epsilon:.2f}, δ = {delta}) for α = {best_alpha}\"\n",
        "        )\n",
        "\n",
        "    # ---- dev\n",
        "    if i % nb_its_dev == 0:\n",
        "        net.set_mode_train(False)\n",
        "        nb_samples = 0\n",
        "        for j, (x, y) in enumerate(valloader):\n",
        "            cost, err, probs = net.eval(x, y)\n",
        "\n",
        "            cost_dev[i] += cost\n",
        "            err_dev[i] += err\n",
        "            nb_samples += len(x)\n",
        "\n",
        "        cost_dev[i] /= nb_samples\n",
        "        err_dev[i] /= nb_samples\n",
        "\n",
        "        cprint('g', '    Jdev = %f, err = %f\\n' % (cost_dev[i], err_dev[i]))\n",
        "\n",
        "        if err_dev[i] < best_err:\n",
        "            best_err = err_dev[i]\n",
        "            cprint('b', 'best test error')\n",
        "            net.save(models_dir+'/theta_best.dat')\n",
        "\n",
        "toc0 = time.time()\n",
        "runtime_per_it = (toc0 - tic0) / float(nb_epochs)\n",
        "cprint('r', '   average time: %f seconds\\n' % runtime_per_it)\n",
        "\n",
        "net.save(models_dir+'/theta_last.dat')\n",
        "\n",
        "## ---------------------------------------------------------------------------------------------------------------------\n",
        "# results\n",
        "cprint('c', '\\nRESULTS:')\n",
        "nb_parameters = net.get_nb_parameters()\n",
        "best_cost_dev = np.min(cost_dev)\n",
        "best_cost_train = np.min(pred_cost_train)\n",
        "err_dev_min = err_dev[::nb_its_dev].min()\n",
        "\n",
        "print('  cost_dev: %f (cost_train %f)' % (best_cost_dev, best_cost_train))\n",
        "print('  err_dev: %f' % (err_dev_min))\n",
        "print('  nb_parameters: %d (%s)' % (nb_parameters, humansize(nb_parameters)))\n",
        "print('  time_per_it: %fs\\n' % (runtime_per_it))\n",
        "\n",
        "## Save results for plots\n",
        "# np.save('results/test_predictions.npy', test_predictions)\n",
        "np.save(results_dir + '/cost_train.npy', pred_cost_train)\n",
        "np.save(results_dir + '/cost_dev.npy', cost_dev)\n",
        "np.save(results_dir + '/err_train.npy', err_train)\n",
        "np.save(results_dir + '/err_dev.npy', err_dev)\n",
        "\n"
      ],
      "execution_count": null,
      "outputs": [
        {
          "output_type": "stream",
          "text": [
            "\u001b[36m\n",
            "Net:\u001b[0m\n",
            "\u001b[33m Creating Net!! \u001b[0m\n",
            "    Total params: 2.40M\n",
            "\u001b[36m\n",
            "Train:\u001b[0m\n",
            "  init cost variables:\n"
          ],
          "name": "stdout"
        },
        {
          "output_type": "stream",
          "text": [
            "/usr/local/lib/python3.7/dist-packages/opacus/privacy_engine.py:523: UserWarning: A ``sample_rate`` has been provided.Thus, the provided ``batch_size``and ``sample_size`` will be ignored.\n",
            "  \"A ``sample_rate`` has been provided.\"\n",
            "/usr/local/lib/python3.7/dist-packages/opacus/privacy_engine.py:195: UserWarning: Secure RNG turned off. This is perfectly fine for experimentation as it allows for much faster training performance, but remember to turn it on and retrain one last time before production with ``secure_rng`` turned on.\n",
            "  \"Secure RNG turned off. This is perfectly fine for experimentation as it allows \"\n",
            "/usr/local/lib/python3.7/dist-packages/torch/nn/modules/module.py:795: UserWarning: Using a non-full backward hook when the forward contains multiple autograd Nodes is deprecated and will be removed in future versions. This hook will be missing some grad_input. Please use register_full_backward_hook to get the documented behavior.\n",
            "  warnings.warn(\"Using a non-full backward hook when the forward contains multiple autograd Nodes \"\n"
          ],
          "name": "stderr"
        },
        {
          "output_type": "stream",
          "text": [
            "it 1/15, Jtr_pred = 1.739811, err = 0.517700, \u001b[31m   time: 9.949773 seconds\n",
            "\u001b[0m\n",
            "(ε = 0.62, δ = 1e-05) for α = 20.0\n",
            "\u001b[32m    Jdev = 1.196846, err = 0.369500\n",
            "\u001b[0m\n",
            "\u001b[34mbest test error\u001b[0m\n",
            "\u001b[36mWritting MCdrop_models/theta_best.dat\n",
            "\u001b[0m\n",
            "it 2/15, Jtr_pred = 1.025257, err = 0.337050, \u001b[31m   time: 9.794855 seconds\n",
            "\u001b[0m\n",
            "(ε = 0.64, δ = 1e-05) for α = 20.0\n",
            "\u001b[32m    Jdev = 0.872036, err = 0.295000\n",
            "\u001b[0m\n",
            "\u001b[34mbest test error\u001b[0m\n",
            "\u001b[36mWritting MCdrop_models/theta_best.dat\n",
            "\u001b[0m\n",
            "it 3/15, Jtr_pred = 0.860067, err = 0.289017, \u001b[31m   time: 9.833725 seconds\n",
            "\u001b[0m\n",
            "(ε = 0.66, δ = 1e-05) for α = 20.0\n",
            "\u001b[32m    Jdev = 0.804040, err = 0.271000\n",
            "\u001b[0m\n",
            "\u001b[34mbest test error\u001b[0m\n",
            "\u001b[36mWritting MCdrop_models/theta_best.dat\n",
            "\u001b[0m\n",
            "it 4/15, Jtr_pred = 0.808358, err = 0.268783, \u001b[31m   time: 9.935396 seconds\n",
            "\u001b[0m\n",
            "(ε = 0.68, δ = 1e-05) for α = 20.0\n",
            "\u001b[32m    Jdev = 0.789179, err = 0.259400\n",
            "\u001b[0m\n",
            "\u001b[34mbest test error\u001b[0m\n",
            "\u001b[36mWritting MCdrop_models/theta_best.dat\n",
            "\u001b[0m\n",
            "it 5/15, Jtr_pred = 0.795198, err = 0.260600, \u001b[31m   time: 9.971340 seconds\n",
            "\u001b[0m\n",
            "(ε = 0.70, δ = 1e-05) for α = 20.0\n",
            "\u001b[32m    Jdev = 0.760274, err = 0.252900\n",
            "\u001b[0m\n",
            "\u001b[34mbest test error\u001b[0m\n",
            "\u001b[36mWritting MCdrop_models/theta_best.dat\n",
            "\u001b[0m\n",
            "it 6/15, Jtr_pred = 0.801648, err = 0.259967, \u001b[31m   time: 10.012340 seconds\n",
            "\u001b[0m\n",
            "(ε = 0.72, δ = 1e-05) for α = 20.0\n",
            "\u001b[32m    Jdev = 0.752269, err = 0.245600\n",
            "\u001b[0m\n",
            "\u001b[34mbest test error\u001b[0m\n",
            "\u001b[36mWritting MCdrop_models/theta_best.dat\n",
            "\u001b[0m\n",
            "it 7/15, Jtr_pred = 0.789788, err = 0.254933, \u001b[31m   time: 10.031510 seconds\n",
            "\u001b[0m\n",
            "(ε = 0.74, δ = 1e-05) for α = 20.0\n",
            "\u001b[32m    Jdev = 0.754010, err = 0.248000\n",
            "\u001b[0m\n",
            "it 8/15, Jtr_pred = 0.776837, err = 0.252050, \u001b[31m   time: 9.962244 seconds\n",
            "\u001b[0m\n",
            "(ε = 0.76, δ = 1e-05) for α = 20.0\n",
            "\u001b[32m    Jdev = 0.721888, err = 0.240200\n",
            "\u001b[0m\n",
            "\u001b[34mbest test error\u001b[0m\n",
            "\u001b[36mWritting MCdrop_models/theta_best.dat\n",
            "\u001b[0m\n",
            "it 9/15, Jtr_pred = 0.783349, err = 0.251567, \u001b[31m   time: 9.962843 seconds\n",
            "\u001b[0m\n",
            "(ε = 0.77, δ = 1e-05) for α = 20.0\n",
            "\u001b[32m    Jdev = 0.754770, err = 0.247200\n",
            "\u001b[0m\n",
            "it 10/15, Jtr_pred = 0.774927, err = 0.248700, \u001b[31m   time: 9.867093 seconds\n",
            "\u001b[0m\n",
            "(ε = 0.79, δ = 1e-05) for α = 20.0\n",
            "\u001b[32m    Jdev = 0.743855, err = 0.240200\n",
            "\u001b[0m\n",
            "it 11/15, Jtr_pred = 0.761234, err = 0.245083, \u001b[31m   time: 9.914713 seconds\n",
            "\u001b[0m\n",
            "(ε = 0.81, δ = 1e-05) for α = 20.0\n",
            "\u001b[32m    Jdev = 0.731764, err = 0.237500\n",
            "\u001b[0m\n",
            "\u001b[34mbest test error\u001b[0m\n",
            "\u001b[36mWritting MCdrop_models/theta_best.dat\n",
            "\u001b[0m\n",
            "it 12/15, Jtr_pred = 0.760716, err = 0.245700, \u001b[31m   time: 9.935791 seconds\n",
            "\u001b[0m\n",
            "(ε = 0.83, δ = 1e-05) for α = 20.0\n",
            "\u001b[32m    Jdev = 0.728554, err = 0.232800\n",
            "\u001b[0m\n",
            "\u001b[34mbest test error\u001b[0m\n",
            "\u001b[36mWritting MCdrop_models/theta_best.dat\n",
            "\u001b[0m\n",
            "it 13/15, Jtr_pred = 0.752961, err = 0.241567, \u001b[31m   time: 10.219925 seconds\n",
            "\u001b[0m\n",
            "(ε = 0.85, δ = 1e-05) for α = 20.0\n",
            "\u001b[32m    Jdev = 0.725069, err = 0.230600\n",
            "\u001b[0m\n",
            "\u001b[34mbest test error\u001b[0m\n",
            "\u001b[36mWritting MCdrop_models/theta_best.dat\n",
            "\u001b[0m\n",
            "it 14/15, Jtr_pred = 0.754399, err = 0.240533, \u001b[31m   time: 10.085060 seconds\n",
            "\u001b[0m\n",
            "(ε = 0.87, δ = 1e-05) for α = 20.0\n",
            "\u001b[32m    Jdev = 0.725984, err = 0.233300\n",
            "\u001b[0m\n",
            "it 15/15, Jtr_pred = 0.763792, err = 0.244800, \u001b[31m   time: 9.840311 seconds\n",
            "\u001b[0m\n",
            "(ε = 0.89, δ = 1e-05) for α = 20.0\n",
            "\u001b[32m    Jdev = 0.747398, err = 0.241100\n",
            "\u001b[0m\n",
            "\u001b[31m   average time: 11.481969 seconds\n",
            "\u001b[0m\n",
            "\u001b[36mWritting MCdrop_models/theta_last.dat\n",
            "\u001b[0m\n",
            "\u001b[36m\n",
            "RESULTS:\u001b[0m\n",
            "  cost_dev: 0.721888 (cost_train 0.752961)\n",
            "  err_dev: 0.230600\n",
            "  nb_parameters: 2395210 (2.28MB)\n",
            "  time_per_it: 11.481969s\n",
            "\n"
          ],
          "name": "stdout"
        }
      ]
    },
    {
      "cell_type": "code",
      "metadata": {
        "id": "EaGYZckSrF9n"
      },
      "source": [
        "import matplotlib.pyplot as plt\n",
        "import seaborn as sns\n",
        "sns.set()\n",
        "\n",
        "hist_prob = []\n",
        "err_rate = 0\n",
        "for j, (x, y) in enumerate(valloader_plot):\n",
        "  if j==195:\n",
        "    for i in range(100):\n",
        "      cost, err, probs = net.sample_eval(x, y,1,logits=False)\n",
        "      hist_prob.append(np.array(probs.cpu().detach().numpy())[0])\n",
        "      err_rate += err.cpu().detach().numpy()\n",
        "    img=torchvision.utils.make_grid(x*0.3081+0.1307)\n",
        "    #plt.imshow(np.transpose(img, (1, 2, 0)))\n",
        "    #plt.show()\n",
        "    #plt.savefig('uncertain_number',bbox_inches = 'tight')\n",
        "    print(j,y,probs.data.max(dim=1, keepdim=False)[1],probs)\n",
        "    break\n",
        "\n",
        "\n",
        "prob_list = [[],[],[],[],[],[],[],[],[],[]]\n",
        "\n",
        "k = 0\n",
        "for l in hist_prob:\n",
        "    for k in range(10):\n",
        "      prob_list[k].append(l[k])\n",
        "\n",
        "fig, ax = plt.subplots(nrows=1, ncols=1)\n",
        "\n",
        "plt.hist(prob_list,bins=5)\n",
        "\n",
        "plt.legend(['0','1','2','3','4','5','6','7','8','9'],loc='upper right')\n",
        "\n",
        "plt.show()\n",
        "\n",
        "\n",
        "import matplotlib.pyplot as plt\n",
        "import seaborn as sns\n",
        "sns.set()\n",
        "\n",
        "hist_prob = []\n",
        "err_rate = 0\n",
        "for j, (x, y) in enumerate(valloader_plot):\n",
        "  if j==404:\n",
        "    for i in range(100):\n",
        "      cost, err, probs = net.sample_eval(x, y,1,logits=False)\n",
        "      hist_prob.append(np.array(probs.cpu().detach().numpy())[0])\n",
        "      err_rate += err.cpu().detach().numpy()\n",
        "    img=torchvision.utils.make_grid(x*0.3081+0.1307)\n",
        "    plt.imshow(np.transpose(img, (1, 2, 0)))\n",
        "    plt.show()\n",
        "    plt.savefig('uncertain_number',bbox_inches = 'tight')\n",
        "    print(j,y,probs.data.max(dim=1, keepdim=False)[1],probs)\n",
        "    break\n",
        "\n",
        "\n",
        "prob_list = [[],[],[],[],[],[],[],[],[],[]]\n",
        "\n",
        "k = 0\n",
        "for l in hist_prob:\n",
        "    for k in range(10):\n",
        "      prob_list[k].append(l[k])\n",
        "\n",
        "fig, ax = plt.subplots(nrows=1, ncols=1)\n",
        "\n",
        "plt.hist(prob_list,bins=5)\n",
        "\n",
        "#plt.legend(['0','1','2','3','4','5','6','7','8','9'],loc='upper right')\n",
        "\n",
        "plt.show()\n",
        "\n"
      ],
      "execution_count": null,
      "outputs": []
    },
    {
      "cell_type": "code",
      "metadata": {
        "colab": {
          "base_uri": "https://localhost:8080/",
          "height": 636
        },
        "id": "xrpBTyhfj8ZD",
        "outputId": "a705a41e-5243-4a9e-9acd-ee2f774f5357"
      },
      "source": [
        "# set batch_size = 1 and find which index of the graph in the testloader is not predicted well by the current method \n",
        "# condition I err.cpu().detach().numpy()==1 : prediction is wrong \n",
        "# condition II np.max(probs.cpu().detach().numpy())<0.2 : unconfident prediction \n",
        "valloader_plot = torch.utils.data.DataLoader(valset, batch_size=1, shuffle=False)\n",
        "import torchvision\n",
        "\n",
        "for j, (x, y) in enumerate(valloader_plot):\n",
        "    cost, err, probs = net.eval(x, y)\n",
        "    if err.cpu().detach().numpy()==1 and np.max(probs.cpu().detach().numpy())<0.2:\n",
        "      img=torchvision.utils.make_grid(x*0.3081+0.1307)\n",
        "      plt.imshow(np.transpose(img, (1, 2, 0)))\n",
        "      plt.show()\n",
        "      print(j,y,probs.data.max(dim=1, keepdim=False)[1],probs)\n"
      ],
      "execution_count": null,
      "outputs": [
        {
          "output_type": "stream",
          "text": [
            "/usr/local/lib/python3.7/dist-packages/torch/nn/modules/module.py:795: UserWarning: Using a non-full backward hook when the forward contains multiple autograd Nodes is deprecated and will be removed in future versions. This hook will be missing some grad_input. Please use register_full_backward_hook to get the documented behavior.\n",
            "  warnings.warn(\"Using a non-full backward hook when the forward contains multiple autograd Nodes \"\n"
          ],
          "name": "stderr"
        },
        {
          "output_type": "display_data",
          "data": {
            "image/png": "[encoded data removed]",
            "text/plain": [
              "<Figure size 432x288 with 1 Axes>"
            ]
          },
          "metadata": {
            "tags": [],
            "needs_background": "light"
          }
        },
        {
          "output_type": "stream",
          "text": [
            "66 tensor([6]) tensor([2]) tensor([[0.1437, 0.0936, 0.1992, 0.1113, 0.0282, 0.0249, 0.1715, 0.0846, 0.1176,\n",
            "         0.0255]])\n"
          ],
          "name": "stdout"
        },
        {
          "output_type": "display_data",
          "data": {
            "image/png": "[encoded data removed]",
            "text/plain": [
              "<Figure size 432x288 with 1 Axes>"
            ]
          },
          "metadata": {
            "tags": [],
            "needs_background": "light"
          }
        },
        {
          "output_type": "stream",
          "text": [
            "9655 tensor([3]) tensor([1]) tensor([[0.0124, 0.1940, 0.0120, 0.1073, 0.0305, 0.0609, 0.1248, 0.1220, 0.1450,\n",
            "         0.1912]])\n"
          ],
          "name": "stdout"
        }
      ]
    },
    {
      "cell_type": "code",
      "metadata": {
        "colab": {
          "base_uri": "https://localhost:8080/",
          "height": 1000
        },
        "id": "oYh76QLQkI3O",
        "outputId": "5af1e1bc-d67a-49f2-cddf-6dcec71137b4"
      },
      "source": [
        "# Select one of the graph produced by the last chunk, I select 2793\n",
        "# to compare fairly, we should select the same graph across the methods\n",
        "# we can select the graph after from the intersection of unconfident graph for all the methods. \n",
        "# over 100 repeated samplings : this is the way how mc_dropout does Bayesian inference\n",
        "# For sgld, you don't have to do it 100 times since you've already save bunches of weights. \n",
        "hist_prob = []\n",
        "err_rate = 0\n",
        "for j, (x, y) in enumerate(valloader_plot):\n",
        "  if j==551:\n",
        "    for i in range(100):\n",
        "      cost, err, probs = net.sample_eval(x, y,1,logits=False)\n",
        "      hist_prob.append(np.array(probs.cpu().detach().numpy())[0])\n",
        "      err_rate += err.cpu().detach().numpy()\n",
        "    img=torchvision.utils.make_grid(x*0.3081+0.1307)\n",
        "    plt.imshow(np.transpose(img, (1, 2, 0)))\n",
        "    plt.show()\n",
        "    plt.savefig('uncertain_number',bbox_inches = 'tight')\n",
        "    print(j,y,probs.data.max(dim=1, keepdim=False)[1],probs)\n",
        "    break\n",
        "\n",
        "prob_list = [[],[],[],[],[],[],[],[],[],[]]\n",
        "\n",
        "k = 0\n",
        "for l in hist_prob:\n",
        "    for k in range(10):\n",
        "      prob_list[k].append(l[k])\n",
        "  \n",
        "import matplotlib.pyplot as plt\n",
        "import numpy as np\n",
        "from matplotlib import colors\n",
        "from matplotlib.ticker import PercentFormatter\n",
        "\n",
        "\n",
        "n_bins = 10\n",
        "\n",
        "print(\"True label is\", y)\n",
        "\n",
        "fig, axs = plt.subplots(1, 10, sharey=True, tight_layout=True, figsize=(10,10))\n",
        "\n",
        "# We can set the number of bins with the `bins` kwarg\n",
        "axs[0].hist(prob_list[0], bins=n_bins,range=[0, 1])\n",
        "axs[0].set_xlabel('Label 0')\n",
        "axs[1].hist(prob_list[1], bins=n_bins,range=[0, 1])\n",
        "axs[1].set_xlabel('Label 1')\n",
        "axs[2].hist(prob_list[2], bins=n_bins,range=[0, 1])\n",
        "axs[2].set_xlabel('Label 2')\n",
        "axs[3].hist(prob_list[3], bins=n_bins,range=[0, 1])\n",
        "axs[3].set_xlabel('Label 3')\n",
        "axs[4].hist(prob_list[4], bins=n_bins,range=[0, 1])\n",
        "axs[4].set_xlabel('Label 4')\n",
        "axs[5].hist(prob_list[5], bins=n_bins,range=[0, 1])\n",
        "axs[5].set_xlabel('Label 5')\n",
        "axs[6].hist(prob_list[6], bins=n_bins,range=[0, 1])\n",
        "axs[6].set_xlabel('Label 6')\n",
        "axs[7].hist(prob_list[7], bins=n_bins,range=[0, 1])\n",
        "axs[7].set_xlabel('Label 7')\n",
        "axs[8].hist(prob_list[8], bins=n_bins,range=[0, 1])\n",
        "axs[8].set_xlabel('Label 8')\n",
        "axs[9].hist(prob_list[9], bins=n_bins,range=[0, 1])\n",
        "axs[9].set_xlabel('Label 9')\n",
        "\n",
        "fig.savefig('non_DP_MC_dropout_hist7.png')\n",
        "\n",
        "\"\"\"    \n",
        "    for K in range(10): \n",
        "        class_col = [sub[K] for sub in hist_prob]\n",
        "      # fig = plt.figure()\n",
        "        plt.xlim(0, 1) \n",
        "        plt.ylim(0, 90) \n",
        "        plt.hist(class_col,width=0.02,bins=10)\n",
        "        plt.show() \n",
        "        f_name = 'dpmc_class'+str(K)\n",
        "        print(f_name)\n",
        "        plt.savefig(f_name, bbox_inches = 'tight')\n",
        "  \n",
        "err_rate\n",
        "\"\"\""
      ],
      "execution_count": null,
      "outputs": [
        {
          "output_type": "stream",
          "text": [
            "/usr/local/lib/python3.7/dist-packages/torch/nn/modules/module.py:795: UserWarning: Using a non-full backward hook when the forward contains multiple autograd Nodes is deprecated and will be removed in future versions. This hook will be missing some grad_input. Please use register_full_backward_hook to get the documented behavior.\n",
            "  warnings.warn(\"Using a non-full backward hook when the forward contains multiple autograd Nodes \"\n"
          ],
          "name": "stderr"
        },
        {
          "output_type": "display_data",
          "data": {
            "image/png": "[encoded data removed]",
            "text/plain": [
              "<Figure size 432x288 with 1 Axes>"
            ]
          },
          "metadata": {
            "tags": [],
            "needs_background": "light"
          }
        },
        {
          "output_type": "stream",
          "text": [
            "551 tensor([7]) tensor([1]) tensor([[1.5610e-05, 8.9539e-01, 3.4375e-03, 1.7053e-02, 1.8422e-03, 1.2590e-03,\n",
            "         2.1239e-03, 2.9885e-02, 5.8258e-03, 4.3166e-02]])\n",
            "True label is tensor([7])\n"
          ],
          "name": "stdout"
        },
        {
          "output_type": "execute_result",
          "data": {
            "application/vnd.google.colaboratory.intrinsic+json": {
              "type": "string"
            },
            "text/plain": [
              "\"    \\n    for K in range(10): \\n        class_col = [sub[K] for sub in hist_prob]\\n      # fig = plt.figure()\\n        plt.xlim(0, 1) \\n        plt.ylim(0, 90) \\n        plt.hist(class_col,width=0.02,bins=10)\\n        plt.show() \\n        f_name = 'dpmc_class'+str(K)\\n        print(f_name)\\n        plt.savefig(f_name, bbox_inches = 'tight')\\n  \\nerr_rate\\n\""
            ]
          },
          "metadata": {
            "tags": []
          },
          "execution_count": 17
        },
        {
          "output_type": "display_data",
          "data": {
            "text/plain": [
              "<Figure size 432x288 with 0 Axes>"
            ]
          },
          "metadata": {
            "tags": []
          }
        },
        {
          "output_type": "display_data",
          "data": {
            "image/png": "[encoded data removed]",
            "text/plain": [
              "<Figure size 720x720 with 10 Axes>"
            ]
          },
          "metadata": {
            "tags": [],
            "needs_background": "light"
          }
        }
      ]
    },
    {
      "cell_type": "code",
      "metadata": {
        "colab": {
          "base_uri": "https://localhost:8080/",
          "height": 1000
        },
        "id": "xYJ-SyWtswdA",
        "outputId": "cf405d5a-24f4-4c83-ad64-545556cc6f00"
      },
      "source": [
        "# Select one of the graph produced by the last chunk, I select 2793\n",
        "# to compare fairly, we should select the same graph across the methods\n",
        "# we can select the graph after from the intersection of unconfident graph for all the methods. \n",
        "# over 100 repeated samplings : this is the way how mc_dropout does Bayesian inference\n",
        "# For sgld, you don't have to do it 100 times since you've already save bunches of weights. \n",
        "hist_prob = []\n",
        "err_rate = 0\n",
        "for j, (x, y) in enumerate(valloader_plot):\n",
        "  if j==404:\n",
        "    for i in range(100):\n",
        "      cost, err, probs = net.sample_eval(x, y,1,logits=False)\n",
        "      hist_prob.append(np.array(probs.cpu().detach().numpy())[0])\n",
        "      err_rate += err.cpu().detach().numpy()\n",
        "    img=torchvision.utils.make_grid(x*0.3081+0.1307)\n",
        "    plt.imshow(np.transpose(img, (1, 2, 0)))\n",
        "    plt.show()\n",
        "    plt.savefig('uncertain_number',bbox_inches = 'tight')\n",
        "    print(j,y,probs.data.max(dim=1, keepdim=False)[1],probs)\n",
        "    break\n",
        "\n",
        "prob_list = [[],[],[],[],[],[],[],[],[],[]]\n",
        "\n",
        "k = 0\n",
        "for l in hist_prob:\n",
        "    for k in range(10):\n",
        "      prob_list[k].append(l[k])\n",
        "  \n",
        "import matplotlib.pyplot as plt\n",
        "import numpy as np\n",
        "from matplotlib import colors\n",
        "from matplotlib.ticker import PercentFormatter\n",
        "\n",
        "\n",
        "n_bins = 10\n",
        "\n",
        "print(\"True label is\", y)\n",
        "\n",
        "fig, axs = plt.subplots(1, 10, sharey=True, tight_layout=True, figsize=(10,10))\n",
        "\n",
        "# We can set the number of bins with the `bins` kwarg\n",
        "axs[0].hist(prob_list[0], bins=n_bins,range=[0, 1])\n",
        "axs[0].set_xlabel('Label 0')\n",
        "axs[1].hist(prob_list[1], bins=n_bins,range=[0, 1])\n",
        "axs[1].set_xlabel('Label 1')\n",
        "axs[2].hist(prob_list[2], bins=n_bins,range=[0, 1])\n",
        "axs[2].set_xlabel('Label 2')\n",
        "axs[3].hist(prob_list[3], bins=n_bins,range=[0, 1])\n",
        "axs[3].set_xlabel('Label 3')\n",
        "axs[4].hist(prob_list[4], bins=n_bins,range=[0, 1])\n",
        "axs[4].set_xlabel('Label 4')\n",
        "axs[5].hist(prob_list[5], bins=n_bins,range=[0, 1])\n",
        "axs[5].set_xlabel('Label 5')\n",
        "axs[6].hist(prob_list[6], bins=n_bins,range=[0, 1])\n",
        "axs[6].set_xlabel('Label 6')\n",
        "axs[7].hist(prob_list[7], bins=n_bins,range=[0, 1])\n",
        "axs[7].set_xlabel('Label 7')\n",
        "axs[8].hist(prob_list[8], bins=n_bins,range=[0, 1])\n",
        "axs[8].set_xlabel('Label 8')\n",
        "axs[9].hist(prob_list[9], bins=n_bins,range=[0, 1])\n",
        "axs[9].set_xlabel('Label 9')\n",
        "\n",
        "fig.savefig('non_DP_MC_dropout_hist7.png')\n",
        "\n",
        "\"\"\"    \n",
        "    for K in range(10): \n",
        "        class_col = [sub[K] for sub in hist_prob]\n",
        "      # fig = plt.figure()\n",
        "        plt.xlim(0, 1) \n",
        "        plt.ylim(0, 90) \n",
        "        plt.hist(class_col,width=0.02,bins=10)\n",
        "        plt.show() \n",
        "        f_name = 'dpmc_class'+str(K)\n",
        "        print(f_name)\n",
        "        plt.savefig(f_name, bbox_inches = 'tight')\n",
        "  \n",
        "err_rate\n",
        "\"\"\""
      ],
      "execution_count": null,
      "outputs": [
        {
          "output_type": "stream",
          "text": [
            "/usr/local/lib/python3.7/dist-packages/torch/nn/modules/module.py:795: UserWarning: Using a non-full backward hook when the forward contains multiple autograd Nodes is deprecated and will be removed in future versions. This hook will be missing some grad_input. Please use register_full_backward_hook to get the documented behavior.\n",
            "  warnings.warn(\"Using a non-full backward hook when the forward contains multiple autograd Nodes \"\n"
          ],
          "name": "stderr"
        },
        {
          "output_type": "display_data",
          "data": {
            "image/png": "[encoded data removed]",
            "text/plain": [
              "<Figure size 432x288 with 1 Axes>"
            ]
          },
          "metadata": {
            "tags": [],
            "needs_background": "light"
          }
        },
        {
          "output_type": "stream",
          "text": [
            "404 tensor([2]) tensor([2]) tensor([[0.0052, 0.1795, 0.5741, 0.0101, 0.0010, 0.0160, 0.1789, 0.0058, 0.0257,\n",
            "         0.0038]])\n",
            "True label is tensor([2])\n"
          ],
          "name": "stdout"
        },
        {
          "output_type": "execute_result",
          "data": {
            "application/vnd.google.colaboratory.intrinsic+json": {
              "type": "string"
            },
            "text/plain": [
              "\"    \\n    for K in range(10): \\n        class_col = [sub[K] for sub in hist_prob]\\n      # fig = plt.figure()\\n        plt.xlim(0, 1) \\n        plt.ylim(0, 90) \\n        plt.hist(class_col,width=0.02,bins=10)\\n        plt.show() \\n        f_name = 'dpmc_class'+str(K)\\n        print(f_name)\\n        plt.savefig(f_name, bbox_inches = 'tight')\\n  \\nerr_rate\\n\""
            ]
          },
          "metadata": {
            "tags": []
          },
          "execution_count": 18
        },
        {
          "output_type": "display_data",
          "data": {
            "text/plain": [
              "<Figure size 432x288 with 0 Axes>"
            ]
          },
          "metadata": {
            "tags": []
          }
        },
        {
          "output_type": "display_data",
          "data": {
            "image/png": "[encoded data removed]",
            "text/plain": [
              "<Figure size 720x720 with 10 Axes>"
            ]
          },
          "metadata": {
            "tags": [],
            "needs_background": "light"
          }
        }
      ]
    },
    {
      "cell_type": "markdown",
      "metadata": {
        "id": "9DwgtCX-gTPO"
      },
      "source": [
        "#Linear 2 layers with droprate = 0 "
      ]
    },
    {
      "cell_type": "code",
      "metadata": {
        "id": "VOiBLt_sgjn8",
        "colab": {
          "base_uri": "https://localhost:8080/",
          "height": 363
        },
        "outputId": "65caf6e2-e6e8-47b2-8b13-1b4d2c63b19e"
      },
      "source": [
        "from src.priors import *\n",
        "from src.base_net import *\n",
        "\n",
        "import torch.nn.functional as F\n",
        "import torch.nn as nn\n",
        "\n",
        "\n",
        "def MC_dropout(act_vec, p=0, mask=True):\n",
        "    return F.dropout(act_vec, p=p, training=mask, inplace=True)\n",
        "\n",
        "\n",
        "class Linear_2L(nn.Module):\n",
        "    def __init__(self, input_dim, output_dim, n_hid):\n",
        "        super(Linear_2L, self).__init__()  # what \n",
        "\n",
        "        self.pdrop = 0  # what \n",
        "\n",
        "        self.input_dim = input_dim\n",
        "        self.output_dim = output_dim\n",
        "\n",
        "        self.fc1 = nn.Linear(input_dim, n_hid)\n",
        "        self.fc2 = nn.Linear(n_hid, n_hid)\n",
        "        self.fc3 = nn.Linear(n_hid, output_dim)\n",
        "\n",
        "        # choose your non linearity\n",
        "        # self.act = nn.Tanh()\n",
        "        # self.act = nn.Sigmoid()\n",
        "        self.act = nn.ReLU(inplace=True)\n",
        "        # self.act = nn.ELU(inplace=True)\n",
        "        # self.act = nn.SELU(inplace=True)\n",
        "\n",
        "    def forward(self, x, sample=True):\n",
        "        mask = self.training or sample  # if training or sampling, mc dropout will apply random binary mask\n",
        "        # Otherwise, for regular test set evaluation, we can just scale activations\n",
        "\n",
        "        x = x.view(-1, self.input_dim)  # view(batch_size, input_dim)\n",
        "        # -----------------\n",
        "        x = self.fc1(x)\n",
        "        x = MC_dropout(x, p=self.pdrop, mask=mask)\n",
        "        # -----------------\n",
        "        x = self.act(x)\n",
        "        # -----------------\n",
        "        x = self.fc2(x)\n",
        "        x = MC_dropout(x, p=self.pdrop, mask=mask)\n",
        "        # -----------------\n",
        "        x = self.act(x)\n",
        "        # -----------------\n",
        "        y = self.fc3(x)\n",
        "\n",
        "        return y\n",
        "\n",
        "    def sample_predict(self, x, Nsamples):\n",
        "        # Just copies type from x, initializes new vector\n",
        "        predictions = x.data.new(Nsamples, x.shape[0], self.output_dim)\n",
        "\n",
        "        for i in range(Nsamples):\n",
        "            y = self.forward(x, sample=True)\n",
        "            predictions[i] = y\n",
        "\n",
        "        return predictions\n",
        "\n",
        "\n",
        "class MC_drop_net2(BaseNet):\n",
        "    eps = 1e-6\n",
        "    # what\n",
        "    def __init__(self, lr=1e-3, channels_in=3, side_in=28, cuda=True, classes=10, batch_size=128, weight_decay=0, n_hid=1200,sr=0.004,sigma=1,max_grad_norm=1.0,secure_rng=False):\n",
        "        super(MC_drop_net2, self).__init__()\n",
        "        cprint('y', ' Creating Net!! ')\n",
        "        self.lr = lr\n",
        "        self.schedule = None  # [] #[50,200,400,600]\n",
        "        self.cuda = cuda\n",
        "        self.channels_in = channels_in\n",
        "        self.weight_decay = weight_decay\n",
        "        self.sr = sr\n",
        "        self.disable_dp = disable_dp      \n",
        "        self.sigma = sigma\n",
        "        self.max_grad_norm = max_grad_norm\n",
        "        self.secure_rng = secure_rng\n",
        "        self.classes = classes\n",
        "        self.n_hid = n_hid\n",
        "        self.batch_size = batch_size\n",
        "        self.side_in = side_in\n",
        "        self.create_net()\n",
        "        self.create_opt()\n",
        "        self.epoch = 0\n",
        "        self.test = False\n",
        "\n",
        "    # main net and use GPU \n",
        "    def create_net(self):\n",
        "        torch.manual_seed(42)\n",
        "        if self.cuda:\n",
        "            torch.cuda.manual_seed(42)\n",
        "        # what \n",
        "        self.model = Linear_2L(input_dim=self.channels_in * self.side_in * self.side_in, output_dim=self.classes,\n",
        "                               n_hid=self.n_hid)\n",
        "        if self.cuda:\n",
        "            self.model.cuda()\n",
        "        #             cudnn.benchmark = True\n",
        "\n",
        "        print('    Total params: %.2fM' % (self.get_nb_parameters() / 1000000.0))\n",
        "    \n",
        "    # optimizer \n",
        "    def create_opt(self):\n",
        "        #         self.optimizer = torch.optim.Adam(self.model.parameters(), lr=self.lr, betas=(0.9, 0.999), eps=1e-08,\n",
        "        #                                           weight_decay=0)\n",
        "        self.optimizer = torch.optim.SGD(self.model.parameters(), lr=self.lr, momentum=0.5,\n",
        "                                         weight_decay=self.weight_decay)\n",
        "\n",
        "        if not disable_dp:\n",
        "            privacy_engine = PrivacyEngine(\n",
        "                self.model,\n",
        "                sample_rate=self.sr,\n",
        "                alphas=[1 + x / 10.0 for x in range(1, 100)] + list(range(12, 64)),\n",
        "                noise_multiplier=self.sigma,\n",
        "                max_grad_norm=self.max_grad_norm,\n",
        "                secure_rng=self.secure_rng,\n",
        "            )\n",
        "            privacy_engine.attach(self.optimizer) # make optimizer private \n",
        "    #         self.optimizer = torch.optim.SGD(self.model.parameters(), lr=self.lr, momentum=0.9)\n",
        "    #         self.sched = torch.optim.lr_scheduler.StepLR(self.optimizer, step_size=1, gamma=10, last_epoch=-1)\n",
        "   \n",
        "    # train \n",
        "    def fit(self, x, y):\n",
        "        x, y = to_variable(var=(x, y.long()), cuda=self.cuda)\n",
        "\n",
        "        self.optimizer.zero_grad()\n",
        "\n",
        "        out = self.model(x)\n",
        "        loss = F.cross_entropy(out, y, reduction='sum')\n",
        "\n",
        "        loss.backward()\n",
        "        self.optimizer.step()\n",
        "\n",
        "        # out: (batch_size, out_channels, out_caps_dims)\n",
        "        pred = out.data.max(dim=1, keepdim=False)[1]  # get the index of the max log-probability\n",
        "        err = pred.ne(y.data).sum()\n",
        "        return loss.data, err\n",
        "    # test \n",
        "    def eval(self, x, y, train=False):\n",
        "        x, y = to_variable(var=(x, y.long()), cuda=self.cuda)\n",
        "\n",
        "        out = self.model(x)\n",
        "\n",
        "        loss = F.cross_entropy(out, y, reduction='sum')\n",
        "\n",
        "        probs = F.softmax(out, dim=1).data.cpu()\n",
        "\n",
        "        pred = out.data.max(dim=1, keepdim=False)[1]  # get the index of the max log-probability\n",
        "        err = pred.ne(y.data).sum()\n",
        "\n",
        "        return loss.data, err, probs\n",
        "\n",
        "    def sample_eval(self, x, y, Nsamples, logits=True, train=False):\n",
        "        x, y = to_variable(var=(x, y.long()), cuda=self.cuda)\n",
        "\n",
        "        out = self.model.sample_predict(x, Nsamples)\n",
        "\n",
        "        if logits:\n",
        "            mean_out = out.mean(dim=0, keepdim=False)\n",
        "            loss = F.cross_entropy(mean_out, y, reduction='sum')\n",
        "            probs = F.softmax(mean_out, dim=1).data.cpu()\n",
        "\n",
        "        else:\n",
        "            mean_out = F.softmax(out, dim=2).mean(dim=0, keepdim=False)\n",
        "            probs = mean_out.data.cpu()\n",
        "\n",
        "            log_mean_probs_out = torch.log(mean_out)\n",
        "            loss = F.nll_loss(log_mean_probs_out, y, reduction='sum')\n",
        "\n",
        "        pred = mean_out.data.max(dim=1, keepdim=False)[1]  # get the index of the max log-probability\n",
        "        err = pred.ne(y.data).sum()\n",
        "\n",
        "        return loss.data, err, probs\n",
        "\n",
        "    def all_sample_eval(self, x, y, Nsamples):\n",
        "        x, y = to_variable(var=(x, y.long()), cuda=self.cuda)\n",
        "\n",
        "        out = self.model.sample_predict(x, Nsamples)\n",
        "\n",
        "        prob_out = F.softmax(out, dim=2)\n",
        "        prob_out = prob_out.data\n",
        "\n",
        "        return prob_out\n",
        "\n",
        "    def get_weight_samples(self):\n",
        "        weight_vec = []\n",
        "\n",
        "        state_dict = self.model.state_dict()\n",
        "\n",
        "        for key in state_dict.keys():\n",
        "\n",
        "            if 'weight' in key:\n",
        "                weight_mtx = state_dict[key].cpu().data\n",
        "                for weight in weight_mtx.view(-1):\n",
        "                    weight_vec.append(weight)\n",
        "\n",
        "        return np.array(weight_vec)"
      ],
      "execution_count": null,
      "outputs": [
        {
          "output_type": "error",
          "ename": "ModuleNotFoundError",
          "evalue": "ignored",
          "traceback": [
            "\u001b[0;31m---------------------------------------------------------------------------\u001b[0m",
            "\u001b[0;31mModuleNotFoundError\u001b[0m                       Traceback (most recent call last)",
            "\u001b[0;32m<ipython-input-1-7ebbb6c6c63b>\u001b[0m in \u001b[0;36m<module>\u001b[0;34m()\u001b[0m\n\u001b[0;32m----> 1\u001b[0;31m \u001b[0;32mfrom\u001b[0m \u001b[0msrc\u001b[0m\u001b[0;34m.\u001b[0m\u001b[0mpriors\u001b[0m \u001b[0;32mimport\u001b[0m \u001b[0;34m*\u001b[0m\u001b[0;34m\u001b[0m\u001b[0;34m\u001b[0m\u001b[0m\n\u001b[0m\u001b[1;32m      2\u001b[0m \u001b[0;32mfrom\u001b[0m \u001b[0msrc\u001b[0m\u001b[0;34m.\u001b[0m\u001b[0mbase_net\u001b[0m \u001b[0;32mimport\u001b[0m \u001b[0;34m*\u001b[0m\u001b[0;34m\u001b[0m\u001b[0;34m\u001b[0m\u001b[0m\n\u001b[1;32m      3\u001b[0m \u001b[0;34m\u001b[0m\u001b[0m\n\u001b[1;32m      4\u001b[0m \u001b[0;32mimport\u001b[0m \u001b[0mtorch\u001b[0m\u001b[0;34m.\u001b[0m\u001b[0mnn\u001b[0m\u001b[0;34m.\u001b[0m\u001b[0mfunctional\u001b[0m \u001b[0;32mas\u001b[0m \u001b[0mF\u001b[0m\u001b[0;34m\u001b[0m\u001b[0;34m\u001b[0m\u001b[0m\n\u001b[1;32m      5\u001b[0m \u001b[0;32mimport\u001b[0m \u001b[0mtorch\u001b[0m\u001b[0;34m.\u001b[0m\u001b[0mnn\u001b[0m \u001b[0;32mas\u001b[0m \u001b[0mnn\u001b[0m\u001b[0;34m\u001b[0m\u001b[0;34m\u001b[0m\u001b[0m\n",
            "\u001b[0;31mModuleNotFoundError\u001b[0m: No module named 'src'",
            "",
            "\u001b[0;31m---------------------------------------------------------------------------\u001b[0;32m\nNOTE: If your import is failing due to a missing package, you can\nmanually install dependencies using either !pip or !apt.\n\nTo view examples of installing some common dependencies, click the\n\"Open Examples\" button below.\n\u001b[0;31m---------------------------------------------------------------------------\u001b[0m\n"
          ]
        }
      ]
    },
    {
      "cell_type": "code",
      "metadata": {
        "colab": {
          "base_uri": "https://localhost:8080/"
        },
        "id": "vyf5qPAsg9qj",
        "outputId": "24d866dd-accd-4a3c-b5d6-9c14e11782b3"
      },
      "source": [
        "#from __future__ import division, print_function\n",
        "import time\n",
        "import torch.utils.data\n",
        "from torchvision import transforms, datasets\n",
        "from src.MC_dropout.model import *\n",
        "\n",
        "#matplotlib.use('Agg')\n",
        "import matplotlib.pyplot as plt\n",
        "import seaborn as sns\n",
        "sns.set()\n",
        "## global \n",
        "weight_decay  = 1.0 \n",
        "\n",
        "models_dir    = 'MCdrop_models'\n",
        "results_dir   = 'MCdrop_results'\n",
        "\n",
        "batch_size = 128\n",
        "sr      = batch_size/60000\n",
        "test_batch_size  = 1024 \n",
        "sigma            = 1.3\n",
        "delta            = 1e-5\n",
        "max_per_sample_grad_norm = 200\n",
        "epochs           = 15\n",
        "n_runs           = 1\n",
        "lr               = 0.0002\n",
        "device           = \"cuda\"\n",
        "save_model       = False\n",
        "secure_rng       = False\n",
        "data_root        = \"/content/data/\"\n",
        "disable_dp       = False\n",
        "\n",
        "\n",
        "\n",
        "\n",
        "# Where to save models weights\n",
        "models_dir = models_dir\n",
        "# Where to save plots and error, accuracy vectors\n",
        "results_dir = results_dir\n",
        "\n",
        "mkdir(models_dir)\n",
        "mkdir(results_dir)\n",
        "# ------------------------------------------------------------------------------------------------------\n",
        "# train config\n",
        "NTrainPointsMNIST = 60000\n",
        "nb_epochs = epochs\n",
        "log_interval = 1\n",
        "\n",
        "\n",
        "# ------------------------------------------------------------------------------------------------------\n",
        "# dataset\n",
        "cprint('c', '\\nData:')\n",
        "\n",
        "# load data\n",
        "\n",
        "# data augmentation\n",
        "transform_train = transforms.Compose([\n",
        "    transforms.ToTensor(),\n",
        "    transforms.Normalize(mean=(0.1307,), std=(0.3081,))\n",
        "])\n",
        "\n",
        "transform_test = transforms.Compose([\n",
        "    transforms.ToTensor(),\n",
        "    transforms.Normalize(mean=(0.1307,), std=(0.3081,))\n",
        "])\n",
        "\n",
        "use_cuda = torch.cuda.is_available()\n",
        "\n",
        "\n",
        "trainset = datasets.MNIST(root=data_root, train=True, download=False, transform=transform_train)\n",
        "valset = datasets.MNIST(root=data_root, train=False, download=False, transform=transform_test)\n",
        "\n",
        "if use_cuda:\n",
        "    trainloader = torch.utils.data.DataLoader(trainset, batch_size=batch_size, shuffle=True, pin_memory=True,\n",
        "                                              num_workers=2)\n",
        "    valloader = torch.utils.data.DataLoader(valset, batch_size=batch_size, shuffle=False, pin_memory=True,\n",
        "                                            num_workers=2)\n",
        "\n",
        "else:\n",
        "    trainloader = torch.utils.data.DataLoader(trainset, batch_size=batch_size, shuffle=True, pin_memory=False,\n",
        "                                              num_workers=2)\n",
        "    valloader = torch.utils.data.DataLoader(valset, batch_size=batch_size, shuffle=False, pin_memory=False,\n",
        "                                            num_workers=2)\n",
        "\n",
        "## ---------------------------------------------------------------------------------------------------------------------\n",
        "# net dims\n",
        "cprint('c', '\\nNetwork:')"
      ],
      "execution_count": null,
      "outputs": [
        {
          "output_type": "stream",
          "text": [
            "\u001b[36m\n",
            "Data:\u001b[0m\n",
            "\u001b[36m\n",
            "Network:\u001b[0m\n"
          ],
          "name": "stdout"
        }
      ]
    },
    {
      "cell_type": "code",
      "metadata": {
        "colab": {
          "base_uri": "https://localhost:8080/"
        },
        "id": "MARRj1fkhFix",
        "outputId": "612acf2b-7bfe-4dcf-f568-fab0552e95bb"
      },
      "source": [
        "\n",
        "########################################################################################\n",
        "\n",
        "net = MC_drop_net2(lr=lr, channels_in=1, side_in=28, cuda=use_cuda, classes=10, batch_size=batch_size,\n",
        "                  weight_decay=weight_decay, n_hid=1200,sr=sr,sigma=sigma,max_grad_norm=max_per_sample_grad_norm,secure_rng=secure_rng)\n",
        "\n",
        "## ---------------------------------------------------------------------------------------------------------------------\n",
        "# train\n",
        "cprint('c', '\\nTrain:')\n",
        "\n",
        "print('  init cost variables:')\n",
        "kl_cost_train = np.zeros(nb_epochs)\n",
        "pred_cost_train = np.zeros(nb_epochs)\n",
        "err_train = np.zeros(nb_epochs)\n",
        "\n",
        "cost_dev = np.zeros(nb_epochs)\n",
        "err_dev = np.zeros(nb_epochs)\n",
        "best_err = np.inf\n",
        "\n",
        "nb_its_dev = 1\n",
        "\n",
        "tic0 = time.time()\n",
        "for i in range(0, nb_epochs):\n",
        "\n",
        "    net.set_mode_train(True)\n",
        "    tic = time.time()\n",
        "    nb_samples = 0\n",
        "   \n",
        "    for x, y in trainloader:\n",
        "\n",
        "        cost_pred, err = net.fit(x, y)\n",
        "\n",
        "        err_train[i] += err\n",
        "        pred_cost_train[i] += cost_pred\n",
        "        nb_samples += len(x)\n",
        "\n",
        "    pred_cost_train[i] /= nb_samples\n",
        "    err_train[i] /= nb_samples\n",
        "\n",
        "    toc = time.time()\n",
        "    net.epoch = i\n",
        "    # ---- print\n",
        "    print(\"it %d/%d, Jtr_pred = %f, err = %f, \" % (i+1, nb_epochs, pred_cost_train[i], err_train[i]), end=\"\")\n",
        "    cprint('r', '   time: %f seconds\\n' % (toc - tic))\n",
        "    \n",
        "    if not disable_dp:\n",
        "        epsilon, best_alpha = net.optimizer.privacy_engine.get_privacy_spent(delta)\n",
        "        print(\n",
        "            f\"(ε = {epsilon:.2f}, δ = {delta}) for α = {best_alpha}\"\n",
        "        )\n",
        "\n",
        "    # ---- dev\n",
        "    if i % nb_its_dev == 0:\n",
        "        net.set_mode_train(False)\n",
        "        nb_samples = 0\n",
        "        for j, (x, y) in enumerate(valloader):\n",
        "            cost, err, probs = net.eval(x, y)\n",
        "\n",
        "            cost_dev[i] += cost\n",
        "            err_dev[i] += err\n",
        "            nb_samples += len(x)\n",
        "\n",
        "        cost_dev[i] /= nb_samples\n",
        "        err_dev[i] /= nb_samples\n",
        "\n",
        "        cprint('g', '    Jdev = %f, err = %f\\n' % (cost_dev[i], err_dev[i]))\n",
        "\n",
        "        if err_dev[i] < best_err:\n",
        "            best_err = err_dev[i]\n",
        "            cprint('b', 'best test error')\n",
        "            net.save(models_dir+'/theta_best.dat')\n",
        "\n",
        "toc0 = time.time()\n",
        "runtime_per_it = (toc0 - tic0) / float(nb_epochs)\n",
        "cprint('r', '   average time: %f seconds\\n' % runtime_per_it)\n",
        "\n",
        "net.save(models_dir+'/theta_last.dat')\n",
        "\n",
        "## ---------------------------------------------------------------------------------------------------------------------\n",
        "# results\n",
        "cprint('c', '\\nRESULTS:')\n",
        "nb_parameters = net.get_nb_parameters()\n",
        "best_cost_dev = np.min(cost_dev)\n",
        "best_cost_train = np.min(pred_cost_train)\n",
        "err_dev_min = err_dev[::nb_its_dev].min()\n",
        "\n",
        "print('  cost_dev: %f (cost_train %f)' % (best_cost_dev, best_cost_train))\n",
        "print('  err_dev: %f' % (err_dev_min))\n",
        "print('  nb_parameters: %d (%s)' % (nb_parameters, humansize(nb_parameters)))\n",
        "print('  time_per_it: %fs\\n' % (runtime_per_it))\n",
        "\n",
        "## Save results for plots\n",
        "# np.save('results/test_predictions.npy', test_predictions)\n",
        "np.save(results_dir + '/cost_train.npy', pred_cost_train)\n",
        "np.save(results_dir + '/cost_dev.npy', cost_dev)\n",
        "np.save(results_dir + '/err_train.npy', err_train)\n",
        "np.save(results_dir + '/err_dev.npy', err_dev)\n",
        "\n"
      ],
      "execution_count": null,
      "outputs": [
        {
          "output_type": "stream",
          "text": [
            "\u001b[36m\n",
            "Net:\u001b[0m\n",
            "\u001b[33m Creating Net!! \u001b[0m\n",
            "    Total params: 2.40M\n",
            "\u001b[36m\n",
            "Train:\u001b[0m\n",
            "  init cost variables:\n"
          ],
          "name": "stdout"
        },
        {
          "output_type": "stream",
          "text": [
            "/usr/local/lib/python3.7/dist-packages/opacus/privacy_engine.py:523: UserWarning: A ``sample_rate`` has been provided.Thus, the provided ``batch_size``and ``sample_size`` will be ignored.\n",
            "  \"A ``sample_rate`` has been provided.\"\n",
            "/usr/local/lib/python3.7/dist-packages/opacus/privacy_engine.py:195: UserWarning: Secure RNG turned off. This is perfectly fine for experimentation as it allows for much faster training performance, but remember to turn it on and retrain one last time before production with ``secure_rng`` turned on.\n",
            "  \"Secure RNG turned off. This is perfectly fine for experimentation as it allows \"\n",
            "/usr/local/lib/python3.7/dist-packages/torch/nn/modules/module.py:795: UserWarning: Using a non-full backward hook when the forward contains multiple autograd Nodes is deprecated and will be removed in future versions. This hook will be missing some grad_input. Please use register_full_backward_hook to get the documented behavior.\n",
            "  warnings.warn(\"Using a non-full backward hook when the forward contains multiple autograd Nodes \"\n"
          ],
          "name": "stderr"
        },
        {
          "output_type": "stream",
          "text": [
            "it 1/15, Jtr_pred = 1.724395, err = 0.504067, \u001b[31m   time: 10.098547 seconds\n",
            "\u001b[0m\n",
            "(ε = 0.62, δ = 1e-05) for α = 20.0\n",
            "\u001b[32m    Jdev = 1.188233, err = 0.361100\n",
            "\u001b[0m\n",
            "\u001b[34mbest test error\u001b[0m\n",
            "\u001b[36mWritting MCdrop_models/theta_best.dat\n",
            "\u001b[0m\n",
            "it 2/15, Jtr_pred = 1.013681, err = 0.332283, \u001b[31m   time: 9.818381 seconds\n",
            "\u001b[0m\n",
            "(ε = 0.64, δ = 1e-05) for α = 20.0\n",
            "\u001b[32m    Jdev = 0.869439, err = 0.290400\n",
            "\u001b[0m\n",
            "\u001b[34mbest test error\u001b[0m\n",
            "\u001b[36mWritting MCdrop_models/theta_best.dat\n",
            "\u001b[0m\n",
            "it 3/15, Jtr_pred = 0.862971, err = 0.291283, \u001b[31m   time: 9.664048 seconds\n",
            "\u001b[0m\n",
            "(ε = 0.66, δ = 1e-05) for α = 20.0\n",
            "\u001b[32m    Jdev = 0.797215, err = 0.274100\n",
            "\u001b[0m\n",
            "\u001b[34mbest test error\u001b[0m\n",
            "\u001b[36mWritting MCdrop_models/theta_best.dat\n",
            "\u001b[0m\n",
            "it 4/15, Jtr_pred = 0.819528, err = 0.272250, \u001b[31m   time: 9.549320 seconds\n",
            "\u001b[0m\n",
            "(ε = 0.68, δ = 1e-05) for α = 20.0\n",
            "\u001b[32m    Jdev = 0.797852, err = 0.265900\n",
            "\u001b[0m\n",
            "\u001b[34mbest test error\u001b[0m\n",
            "\u001b[36mWritting MCdrop_models/theta_best.dat\n",
            "\u001b[0m\n",
            "it 5/15, Jtr_pred = 0.808390, err = 0.265617, \u001b[31m   time: 9.541250 seconds\n",
            "\u001b[0m\n",
            "(ε = 0.70, δ = 1e-05) for α = 20.0\n",
            "\u001b[32m    Jdev = 0.766668, err = 0.250000\n",
            "\u001b[0m\n",
            "\u001b[34mbest test error\u001b[0m\n",
            "\u001b[36mWritting MCdrop_models/theta_best.dat\n",
            "\u001b[0m\n",
            "it 6/15, Jtr_pred = 0.792234, err = 0.257067, \u001b[31m   time: 9.664622 seconds\n",
            "\u001b[0m\n",
            "(ε = 0.72, δ = 1e-05) for α = 20.0\n",
            "\u001b[32m    Jdev = 0.736271, err = 0.237500\n",
            "\u001b[0m\n",
            "\u001b[34mbest test error\u001b[0m\n",
            "\u001b[36mWritting MCdrop_models/theta_best.dat\n",
            "\u001b[0m\n",
            "it 7/15, Jtr_pred = 0.773612, err = 0.248133, \u001b[31m   time: 9.558890 seconds\n",
            "\u001b[0m\n",
            "(ε = 0.74, δ = 1e-05) for α = 20.0\n",
            "\u001b[32m    Jdev = 0.751424, err = 0.242400\n",
            "\u001b[0m\n",
            "it 8/15, Jtr_pred = 0.781023, err = 0.248317, \u001b[31m   time: 9.550269 seconds\n",
            "\u001b[0m\n",
            "(ε = 0.76, δ = 1e-05) for α = 20.0\n",
            "\u001b[32m    Jdev = 0.739231, err = 0.234100\n",
            "\u001b[0m\n",
            "\u001b[34mbest test error\u001b[0m\n",
            "\u001b[36mWritting MCdrop_models/theta_best.dat\n",
            "\u001b[0m\n",
            "it 9/15, Jtr_pred = 0.770212, err = 0.245350, \u001b[31m   time: 9.467485 seconds\n",
            "\u001b[0m\n",
            "(ε = 0.77, δ = 1e-05) for α = 20.0\n",
            "\u001b[32m    Jdev = 0.747934, err = 0.238200\n",
            "\u001b[0m\n",
            "it 10/15, Jtr_pred = 0.769517, err = 0.244850, \u001b[31m   time: 9.551708 seconds\n",
            "\u001b[0m\n",
            "(ε = 0.79, δ = 1e-05) for α = 20.0\n",
            "\u001b[32m    Jdev = 0.754260, err = 0.244200\n",
            "\u001b[0m\n",
            "it 11/15, Jtr_pred = 0.752391, err = 0.242817, \u001b[31m   time: 9.465206 seconds\n",
            "\u001b[0m\n",
            "(ε = 0.81, δ = 1e-05) for α = 20.0\n",
            "\u001b[32m    Jdev = 0.737086, err = 0.235500\n",
            "\u001b[0m\n",
            "it 12/15, Jtr_pred = 0.756266, err = 0.242183, \u001b[31m   time: 9.536911 seconds\n",
            "\u001b[0m\n",
            "(ε = 0.83, δ = 1e-05) for α = 20.0\n",
            "\u001b[32m    Jdev = 0.730912, err = 0.234900\n",
            "\u001b[0m\n",
            "it 13/15, Jtr_pred = 0.754189, err = 0.240633, \u001b[31m   time: 9.503276 seconds\n",
            "\u001b[0m\n",
            "(ε = 0.85, δ = 1e-05) for α = 20.0\n",
            "\u001b[32m    Jdev = 0.723111, err = 0.232500\n",
            "\u001b[0m\n",
            "\u001b[34mbest test error\u001b[0m\n",
            "\u001b[36mWritting MCdrop_models/theta_best.dat\n",
            "\u001b[0m\n",
            "it 14/15, Jtr_pred = 0.747966, err = 0.237883, \u001b[31m   time: 9.701328 seconds\n",
            "\u001b[0m\n",
            "(ε = 0.87, δ = 1e-05) for α = 20.0\n",
            "\u001b[32m    Jdev = 0.718956, err = 0.231200\n",
            "\u001b[0m\n",
            "\u001b[34mbest test error\u001b[0m\n",
            "\u001b[36mWritting MCdrop_models/theta_best.dat\n",
            "\u001b[0m\n",
            "it 15/15, Jtr_pred = 0.755285, err = 0.241617, \u001b[31m   time: 9.623459 seconds\n",
            "\u001b[0m\n",
            "(ε = 0.89, δ = 1e-05) for α = 20.0\n",
            "\u001b[32m    Jdev = 0.734738, err = 0.235800\n",
            "\u001b[0m\n",
            "\u001b[31m   average time: 10.944826 seconds\n",
            "\u001b[0m\n",
            "\u001b[36mWritting MCdrop_models/theta_last.dat\n",
            "\u001b[0m\n",
            "\u001b[36m\n",
            "RESULTS:\u001b[0m\n",
            "  cost_dev: 0.718956 (cost_train 0.747966)\n",
            "  err_dev: 0.231200\n",
            "  nb_parameters: 2395210 (2.28MB)\n",
            "  time_per_it: 10.944826s\n",
            "\n"
          ],
          "name": "stdout"
        }
      ]
    },
    {
      "cell_type": "markdown",
      "metadata": {
        "id": "o-6XSrsjdQyY"
      },
      "source": [
        "# Convolutional Layers "
      ]
    },
    {
      "cell_type": "code",
      "metadata": {
        "id": "lM5s0WwwdZ6v"
      },
      "source": [
        "from src.priors import *\n",
        "from src.base_net import *\n",
        "\n",
        "import torch.nn.functional as F\n",
        "import torch.nn as nn\n",
        "\n",
        "\n",
        "def MC_dropout(act_vec, p=0, mask=True):\n",
        "    return F.dropout(act_vec, p=p, training=mask, inplace=True)\n",
        "\n",
        "\n",
        "class SampleConvNet(nn.Module):\n",
        "    def __init__(self):\n",
        "        super().__init__()\n",
        "        self.conv1 = nn.Conv2d(1, 16, 8, 2, padding=3)\n",
        "        self.conv2 = nn.Conv2d(16, 32, 4, 2)\n",
        "        self.fc1 = nn.Linear(32 * 4 * 4, 32)\n",
        "        self.fc2 = nn.Linear(32, 10)\n",
        "\n",
        "    def forward(self, x):\n",
        "        # x of shape [B, 1, 28, 28]\n",
        "        x = F.relu(self.conv1(x))  # -> [B, 16, 14, 14]\n",
        "        x = F.max_pool2d(x, 2, 1)  # -> [B, 16, 13, 13]\n",
        "        x = F.relu(self.conv2(x))  # -> [B, 32, 5, 5]\n",
        "        x = F.max_pool2d(x, 2, 1)  # -> [B, 32, 4, 4]\n",
        "        x = x.view(-1, 32 * 4 * 4)  # -> [B, 512]\n",
        "        x = F.relu(self.fc1(x))  # -> [B, 32]\n",
        "        x = self.fc2(x)  # -> [B, 10]\n",
        "        return x\n",
        "\n",
        "    def name(self):\n",
        "        return \"SampleConvNet\"\n",
        "\n",
        "\n",
        "    def sample_predict(self, x, Nsamples):\n",
        "        # Just copies type from x, initializes new vector\n",
        "        predictions = x.data.new(Nsamples, x.shape[0], self.output_dim)\n",
        "\n",
        "        for i in range(Nsamples):\n",
        "            y = self.forward(x, sample=True)\n",
        "            predictions[i] = y\n",
        "\n",
        "        return predictions\n",
        "\n",
        "\n",
        "class MC_drop_net2(BaseNet):\n",
        "    eps = 1e-6\n",
        "    # what\n",
        "    def __init__(self, lr=1e-3, channels_in=3, side_in=28, cuda=True, classes=10, batch_size=128, weight_decay=0, n_hid=1200,sr=0.004,sigma=1,max_grad_norm=1.0,secure_rng=False):\n",
        "        super(MC_drop_net2, self).__init__()\n",
        "        cprint('y', ' Creating Net!! ')\n",
        "        self.lr = lr\n",
        "        self.schedule = None  # [] #[50,200,400,600]\n",
        "        self.cuda = cuda\n",
        "        self.channels_in = channels_in\n",
        "        self.weight_decay = weight_decay\n",
        "        self.sr = sr\n",
        "        self.disable_dp = disable_dp      \n",
        "        self.sigma = sigma\n",
        "        self.max_grad_norm = max_grad_norm\n",
        "        self.secure_rng = secure_rng\n",
        "        self.classes = classes\n",
        "        self.n_hid = n_hid\n",
        "        self.batch_size = batch_size\n",
        "        self.side_in = side_in\n",
        "        self.create_net()\n",
        "        self.create_opt()\n",
        "        self.epoch = 0\n",
        "        self.test = False\n",
        "\n",
        "    # main net and use GPU \n",
        "    def create_net(self):\n",
        "        torch.manual_seed(42)\n",
        "        if self.cuda:\n",
        "            torch.cuda.manual_seed(42)\n",
        "        # what \n",
        "        self.model = SampleConvNet(input_dim=self.channels_in * self.side_in * self.side_in, output_dim=self.classes,\n",
        "                               n_hid=self.n_hid)\n",
        "        if self.cuda:\n",
        "            self.model.cuda()\n",
        "        #             cudnn.benchmark = True\n",
        "\n",
        "        print('    Total params: %.2fM' % (self.get_nb_parameters() / 1000000.0))\n",
        "    \n",
        "    # optimizer \n",
        "    def create_opt(self):\n",
        "        #         self.optimizer = torch.optim.Adam(self.model.parameters(), lr=self.lr, betas=(0.9, 0.999), eps=1e-08,\n",
        "        #                                           weight_decay=0)\n",
        "        self.optimizer = torch.optim.SGD(self.model.parameters(), lr=self.lr, momentum=0.5,\n",
        "                                         weight_decay=self.weight_decay)\n",
        "\n",
        "        if not disable_dp:\n",
        "            privacy_engine = PrivacyEngine(\n",
        "                self.model,\n",
        "                sample_rate=self.sr,\n",
        "                alphas=[1 + x / 10.0 for x in range(1, 100)] + list(range(12, 64)),\n",
        "                noise_multiplier=self.sigma,\n",
        "                max_grad_norm=self.max_grad_norm,\n",
        "                secure_rng=self.secure_rng,\n",
        "            )\n",
        "            privacy_engine.attach(self.optimizer) # make optimizer private \n",
        "    #         self.optimizer = torch.optim.SGD(self.model.parameters(), lr=self.lr, momentum=0.9)\n",
        "    #         self.sched = torch.optim.lr_scheduler.StepLR(self.optimizer, step_size=1, gamma=10, last_epoch=-1)\n",
        "   \n",
        "    # train \n",
        "    def fit(self, x, y):\n",
        "        x, y = to_variable(var=(x, y.long()), cuda=self.cuda)\n",
        "\n",
        "        self.optimizer.zero_grad()\n",
        "\n",
        "        out = self.model(x)\n",
        "        loss = F.cross_entropy(out, y, reduction='sum')\n",
        "\n",
        "        loss.backward()\n",
        "        self.optimizer.step()\n",
        "\n",
        "        # out: (batch_size, out_channels, out_caps_dims)\n",
        "        pred = out.data.max(dim=1, keepdim=False)[1]  # get the index of the max log-probability\n",
        "        err = pred.ne(y.data).sum()\n",
        "        return loss.data, err\n",
        "    # test \n",
        "    def eval(self, x, y, train=False):\n",
        "        x, y = to_variable(var=(x, y.long()), cuda=self.cuda)\n",
        "\n",
        "        out = self.model(x)\n",
        "\n",
        "        loss = F.cross_entropy(out, y, reduction='sum')\n",
        "\n",
        "        probs = F.softmax(out, dim=1).data.cpu()\n",
        "\n",
        "        pred = out.data.max(dim=1, keepdim=False)[1]  # get the index of the max log-probability\n",
        "        err = pred.ne(y.data).sum()\n",
        "\n",
        "        return loss.data, err, probs\n",
        "\n",
        "    def sample_eval(self, x, y, Nsamples, logits=True, train=False):\n",
        "        x, y = to_variable(var=(x, y.long()), cuda=self.cuda)\n",
        "\n",
        "        out = self.model.sample_predict(x, Nsamples)\n",
        "\n",
        "        if logits:\n",
        "            mean_out = out.mean(dim=0, keepdim=False)\n",
        "            loss = F.cross_entropy(mean_out, y, reduction='sum')\n",
        "            probs = F.softmax(mean_out, dim=1).data.cpu()\n",
        "\n",
        "        else:\n",
        "            mean_out = F.softmax(out, dim=2).mean(dim=0, keepdim=False)\n",
        "            probs = mean_out.data.cpu()\n",
        "\n",
        "            log_mean_probs_out = torch.log(mean_out)\n",
        "            loss = F.nll_loss(log_mean_probs_out, y, reduction='sum')\n",
        "\n",
        "        pred = mean_out.data.max(dim=1, keepdim=False)[1]  # get the index of the max log-probability\n",
        "        err = pred.ne(y.data).sum()\n",
        "\n",
        "        return loss.data, err, probs\n",
        "\n",
        "    def all_sample_eval(self, x, y, Nsamples):\n",
        "        x, y = to_variable(var=(x, y.long()), cuda=self.cuda)\n",
        "\n",
        "        out = self.model.sample_predict(x, Nsamples)\n",
        "\n",
        "        prob_out = F.softmax(out, dim=2)\n",
        "        prob_out = prob_out.data\n",
        "\n",
        "        return prob_out\n",
        "\n",
        "    def get_weight_samples(self):\n",
        "        weight_vec = []\n",
        "\n",
        "        state_dict = self.model.state_dict()\n",
        "\n",
        "        for key in state_dict.keys():\n",
        "\n",
        "            if 'weight' in key:\n",
        "                weight_mtx = state_dict[key].cpu().data\n",
        "                for weight in weight_mtx.view(-1):\n",
        "                    weight_vec.append(weight)\n",
        "\n",
        "        return np.array(weight_vec)"
      ],
      "execution_count": null,
      "outputs": []
    },
    {
      "cell_type": "code",
      "metadata": {
        "colab": {
          "base_uri": "https://localhost:8080/"
        },
        "id": "M2m_YOq0u3xS",
        "outputId": "760445c2-cc6e-4787-c4c9-13dcc023edd1"
      },
      "source": [
        "#from __future__ import division, print_function\n",
        "import time\n",
        "import torch.utils.data\n",
        "from torchvision import transforms, datasets\n",
        "from src.MC_dropout.model import *\n",
        "\n",
        "#matplotlib.use('Agg')\n",
        "import matplotlib.pyplot as plt\n",
        "import seaborn as sns\n",
        "sns.set()\n",
        "## global \n",
        "weight_decay  = 1.0 \n",
        "\n",
        "models_dir    = 'MCdrop_models'\n",
        "results_dir   = 'MCdrop_results'\n",
        "\n",
        "batch_size = 128\n",
        "sr      = batch_size/60000\n",
        "test_batch_size  = 1024 \n",
        "sigma            = 1.3\n",
        "delta            = 1e-5\n",
        "max_per_sample_grad_norm = 200\n",
        "epochs           = 15\n",
        "n_runs           = 1\n",
        "lr               = 0.0002\n",
        "device           = \"cuda\"\n",
        "save_model       = False\n",
        "secure_rng       = False\n",
        "data_root        = \"/content/data/\"\n",
        "disable_dp       = True\n",
        "\n",
        "\n",
        "\n",
        "\n",
        "# Where to save models weights\n",
        "models_dir = models_dir\n",
        "# Where to save plots and error, accuracy vectors\n",
        "results_dir = results_dir\n",
        "\n",
        "mkdir(models_dir)\n",
        "mkdir(results_dir)\n",
        "# ------------------------------------------------------------------------------------------------------\n",
        "# train config\n",
        "NTrainPointsMNIST = 60000\n",
        "nb_epochs = epochs\n",
        "log_interval = 1\n",
        "\n",
        "\n",
        "# ------------------------------------------------------------------------------------------------------\n",
        "# dataset\n",
        "cprint('c', '\\nData:')\n",
        "\n",
        "# load data\n",
        "\n",
        "# data augmentation\n",
        "transform_train = transforms.Compose([\n",
        "    transforms.ToTensor(),\n",
        "    transforms.Normalize(mean=(0.1307,), std=(0.3081,))\n",
        "])\n",
        "\n",
        "transform_test = transforms.Compose([\n",
        "    transforms.ToTensor(),\n",
        "    transforms.Normalize(mean=(0.1307,), std=(0.3081,))\n",
        "])\n",
        "\n",
        "use_cuda = torch.cuda.is_available()\n",
        "\n",
        "\n",
        "trainset = datasets.MNIST(root=data_root, train=True, download=False, transform=transform_train)\n",
        "valset = datasets.MNIST(root=data_root, train=False, download=False, transform=transform_test)\n",
        "\n",
        "if use_cuda:\n",
        "    trainloader = torch.utils.data.DataLoader(trainset, batch_size=batch_size, shuffle=True, pin_memory=True,\n",
        "                                              num_workers=2)\n",
        "    valloader = torch.utils.data.DataLoader(valset, batch_size=batch_size, shuffle=False, pin_memory=True,\n",
        "                                            num_workers=2)\n",
        "\n",
        "else:\n",
        "    trainloader = torch.utils.data.DataLoader(trainset, batch_size=batch_size, shuffle=True, pin_memory=False,\n",
        "                                              num_workers=2)\n",
        "    valloader = torch.utils.data.DataLoader(valset, batch_size=batch_size, shuffle=False, pin_memory=False,\n",
        "                                            num_workers=2)\n",
        "\n",
        "## ---------------------------------------------------------------------------------------------------------------------\n",
        "# net dims\n",
        "cprint('c', '\\nNetwork:')"
      ],
      "execution_count": null,
      "outputs": [
        {
          "output_type": "stream",
          "text": [
            "\u001b[36m\n",
            "Data:\u001b[0m\n",
            "\u001b[36m\n",
            "Network:\u001b[0m\n"
          ],
          "name": "stdout"
        }
      ]
    },
    {
      "cell_type": "code",
      "metadata": {
        "colab": {
          "base_uri": "https://localhost:8080/"
        },
        "id": "AU_UjY-3u-Uu",
        "outputId": "2260567b-672c-4caa-a562-032c6544639f"
      },
      "source": [
        "\n",
        "########################################################################################\n",
        "\n",
        "net = MC_drop_net2(lr=lr, channels_in=1, side_in=28, cuda=use_cuda, classes=10, batch_size=batch_size,\n",
        "                  weight_decay=weight_decay, n_hid=1200,sr=sr,sigma=sigma,max_grad_norm=max_per_sample_grad_norm,secure_rng=secure_rng)\n",
        "\n",
        "## ---------------------------------------------------------------------------------------------------------------------\n",
        "# train\n",
        "cprint('c', '\\nTrain:')\n",
        "\n",
        "print('  init cost variables:')\n",
        "kl_cost_train = np.zeros(nb_epochs)\n",
        "pred_cost_train = np.zeros(nb_epochs)\n",
        "err_train = np.zeros(nb_epochs)\n",
        "\n",
        "cost_dev = np.zeros(nb_epochs)\n",
        "err_dev = np.zeros(nb_epochs)\n",
        "best_err = np.inf\n",
        "\n",
        "nb_its_dev = 1\n",
        "\n",
        "tic0 = time.time()\n",
        "for i in range(0, nb_epochs):\n",
        "\n",
        "    net.set_mode_train(True)\n",
        "    tic = time.time()\n",
        "    nb_samples = 0\n",
        "   \n",
        "    for x, y in trainloader:\n",
        "\n",
        "        cost_pred, err = net.fit(x, y)\n",
        "\n",
        "        err_train[i] += err\n",
        "        pred_cost_train[i] += cost_pred\n",
        "        nb_samples += len(x)\n",
        "\n",
        "    pred_cost_train[i] /= nb_samples\n",
        "    err_train[i] /= nb_samples\n",
        "\n",
        "    toc = time.time()\n",
        "    net.epoch = i\n",
        "    # ---- print\n",
        "    print(\"it %d/%d, Jtr_pred = %f, err = %f, \" % (i+1, nb_epochs, pred_cost_train[i], err_train[i]), end=\"\")\n",
        "    cprint('r', '   time: %f seconds\\n' % (toc - tic))\n",
        "    \n",
        "    if not disable_dp:\n",
        "        epsilon, best_alpha = net.optimizer.privacy_engine.get_privacy_spent(delta)\n",
        "        print(\n",
        "            f\"(ε = {epsilon:.2f}, δ = {delta}) for α = {best_alpha}\"\n",
        "        )\n",
        "\n",
        "    # ---- dev\n",
        "    if i % nb_its_dev == 0:\n",
        "        net.set_mode_train(False)\n",
        "        nb_samples = 0\n",
        "        for j, (x, y) in enumerate(valloader):\n",
        "            cost, err, probs = net.eval(x, y)\n",
        "\n",
        "            cost_dev[i] += cost\n",
        "            err_dev[i] += err\n",
        "            nb_samples += len(x)\n",
        "\n",
        "        cost_dev[i] /= nb_samples\n",
        "        err_dev[i] /= nb_samples\n",
        "\n",
        "        cprint('g', '    Jdev = %f, err = %f\\n' % (cost_dev[i], err_dev[i]))\n",
        "\n",
        "        if err_dev[i] < best_err:\n",
        "            best_err = err_dev[i]\n",
        "            cprint('b', 'best test error')\n",
        "            net.save(models_dir+'/theta_best.dat')\n",
        "\n",
        "toc0 = time.time()\n",
        "runtime_per_it = (toc0 - tic0) / float(nb_epochs)\n",
        "cprint('r', '   average time: %f seconds\\n' % runtime_per_it)\n",
        "\n",
        "net.save(models_dir+'/theta_last.dat')\n",
        "\n",
        "## ---------------------------------------------------------------------------------------------------------------------\n",
        "# results\n",
        "cprint('c', '\\nRESULTS:')\n",
        "nb_parameters = net.get_nb_parameters()\n",
        "best_cost_dev = np.min(cost_dev)\n",
        "best_cost_train = np.min(pred_cost_train)\n",
        "err_dev_min = err_dev[::nb_its_dev].min()\n",
        "\n",
        "print('  cost_dev: %f (cost_train %f)' % (best_cost_dev, best_cost_train))\n",
        "print('  err_dev: %f' % (err_dev_min))\n",
        "print('  nb_parameters: %d (%s)' % (nb_parameters, humansize(nb_parameters)))\n",
        "print('  time_per_it: %fs\\n' % (runtime_per_it))\n",
        "\n",
        "## Save results for plots\n",
        "# np.save('results/test_predictions.npy', test_predictions)\n",
        "np.save(results_dir + '/cost_train.npy', pred_cost_train)\n",
        "np.save(results_dir + '/cost_dev.npy', cost_dev)\n",
        "np.save(results_dir + '/err_train.npy', err_train)\n",
        "np.save(results_dir + '/err_dev.npy', err_dev)\n",
        "\n"
      ],
      "execution_count": null,
      "outputs": [
        {
          "output_type": "stream",
          "text": [
            "\u001b[36m\n",
            "Net:\u001b[0m\n",
            "\u001b[33m Creating Net!! \u001b[0m\n",
            "    Total params: 2.40M\n",
            "\u001b[36m\n",
            "Train:\u001b[0m\n",
            "  init cost variables:\n",
            "it 1/15, Jtr_pred = 0.541882, err = 0.157433, \u001b[31m   time: 8.569550 seconds\n",
            "\u001b[0m\n",
            "\u001b[32m    Jdev = 0.291515, err = 0.088900\n",
            "\u001b[0m\n",
            "\u001b[34mbest test error\u001b[0m\n",
            "\u001b[36mWritting MCdrop_models/theta_best.dat\n",
            "\u001b[0m\n",
            "it 2/15, Jtr_pred = 0.262630, err = 0.076000, \u001b[31m   time: 8.386936 seconds\n",
            "\u001b[0m\n",
            "\u001b[32m    Jdev = 0.219035, err = 0.065500\n",
            "\u001b[0m\n",
            "\u001b[34mbest test error\u001b[0m\n",
            "\u001b[36mWritting MCdrop_models/theta_best.dat\n",
            "\u001b[0m\n",
            "it 3/15, Jtr_pred = 0.209247, err = 0.061150, \u001b[31m   time: 8.349829 seconds\n",
            "\u001b[0m\n",
            "\u001b[32m    Jdev = 0.188712, err = 0.056500\n",
            "\u001b[0m\n",
            "\u001b[34mbest test error\u001b[0m\n",
            "\u001b[36mWritting MCdrop_models/theta_best.dat\n",
            "\u001b[0m\n",
            "it 4/15, Jtr_pred = 0.182585, err = 0.051717, \u001b[31m   time: 8.352703 seconds\n",
            "\u001b[0m\n",
            "\u001b[32m    Jdev = 0.167221, err = 0.046900\n",
            "\u001b[0m\n",
            "\u001b[34mbest test error\u001b[0m\n",
            "\u001b[36mWritting MCdrop_models/theta_best.dat\n",
            "\u001b[0m\n",
            "it 5/15, Jtr_pred = 0.163682, err = 0.045133, \u001b[31m   time: 8.382046 seconds\n",
            "\u001b[0m\n",
            "\u001b[32m    Jdev = 0.157775, err = 0.043200\n",
            "\u001b[0m\n",
            "\u001b[34mbest test error\u001b[0m\n",
            "\u001b[36mWritting MCdrop_models/theta_best.dat\n",
            "\u001b[0m\n",
            "it 6/15, Jtr_pred = 0.154532, err = 0.042750, \u001b[31m   time: 8.270500 seconds\n",
            "\u001b[0m\n",
            "\u001b[32m    Jdev = 0.152447, err = 0.041700\n",
            "\u001b[0m\n",
            "\u001b[34mbest test error\u001b[0m\n",
            "\u001b[36mWritting MCdrop_models/theta_best.dat\n",
            "\u001b[0m\n",
            "it 7/15, Jtr_pred = 0.146165, err = 0.039633, \u001b[31m   time: 8.439665 seconds\n",
            "\u001b[0m\n",
            "\u001b[32m    Jdev = 0.141056, err = 0.039800\n",
            "\u001b[0m\n",
            "\u001b[34mbest test error\u001b[0m\n",
            "\u001b[36mWritting MCdrop_models/theta_best.dat\n",
            "\u001b[0m\n",
            "it 8/15, Jtr_pred = 0.139186, err = 0.037667, \u001b[31m   time: 8.421808 seconds\n",
            "\u001b[0m\n",
            "\u001b[32m    Jdev = 0.141091, err = 0.040100\n",
            "\u001b[0m\n",
            "it 9/15, Jtr_pred = 0.136178, err = 0.036350, \u001b[31m   time: 8.241918 seconds\n",
            "\u001b[0m\n",
            "\u001b[32m    Jdev = 0.141800, err = 0.038700\n",
            "\u001b[0m\n",
            "\u001b[34mbest test error\u001b[0m\n",
            "\u001b[36mWritting MCdrop_models/theta_best.dat\n",
            "\u001b[0m\n",
            "it 10/15, Jtr_pred = 0.132845, err = 0.035117, \u001b[31m   time: 8.449830 seconds\n",
            "\u001b[0m\n",
            "\u001b[32m    Jdev = 0.134956, err = 0.036200\n",
            "\u001b[0m\n",
            "\u001b[34mbest test error\u001b[0m\n",
            "\u001b[36mWritting MCdrop_models/theta_best.dat\n",
            "\u001b[0m\n",
            "it 11/15, Jtr_pred = 0.131368, err = 0.034633, \u001b[31m   time: 8.537012 seconds\n",
            "\u001b[0m\n",
            "\u001b[32m    Jdev = 0.133057, err = 0.035900\n",
            "\u001b[0m\n",
            "\u001b[34mbest test error\u001b[0m\n",
            "\u001b[36mWritting MCdrop_models/theta_best.dat\n",
            "\u001b[0m\n",
            "it 12/15, Jtr_pred = 0.127100, err = 0.032717, \u001b[31m   time: 8.196108 seconds\n",
            "\u001b[0m\n",
            "\u001b[32m    Jdev = 0.130941, err = 0.035700\n",
            "\u001b[0m\n",
            "\u001b[34mbest test error\u001b[0m\n",
            "\u001b[36mWritting MCdrop_models/theta_best.dat\n",
            "\u001b[0m\n",
            "it 13/15, Jtr_pred = 0.126393, err = 0.034000, \u001b[31m   time: 8.303727 seconds\n",
            "\u001b[0m\n",
            "\u001b[32m    Jdev = 0.129399, err = 0.033600\n",
            "\u001b[0m\n",
            "\u001b[34mbest test error\u001b[0m\n",
            "\u001b[36mWritting MCdrop_models/theta_best.dat\n",
            "\u001b[0m\n",
            "it 14/15, Jtr_pred = 0.124828, err = 0.032267, \u001b[31m   time: 8.425025 seconds\n",
            "\u001b[0m\n",
            "\u001b[32m    Jdev = 0.127101, err = 0.033900\n",
            "\u001b[0m\n",
            "it 15/15, Jtr_pred = 0.123600, err = 0.032217, \u001b[31m   time: 8.341999 seconds\n",
            "\u001b[0m\n",
            "\u001b[32m    Jdev = 0.126284, err = 0.034600\n",
            "\u001b[0m\n",
            "\u001b[31m   average time: 9.858538 seconds\n",
            "\u001b[0m\n",
            "\u001b[36mWritting MCdrop_models/theta_last.dat\n",
            "\u001b[0m\n",
            "\u001b[36m\n",
            "RESULTS:\u001b[0m\n",
            "  cost_dev: 0.126284 (cost_train 0.123600)\n",
            "  err_dev: 0.033600\n",
            "  nb_parameters: 2395210 (2.28MB)\n",
            "  time_per_it: 9.858538s\n",
            "\n"
          ],
          "name": "stdout"
        }
      ]
    },
    {
      "cell_type": "code",
      "metadata": {
        "colab": {
          "base_uri": "https://localhost:8080/"
        },
        "id": "wbernSYncVO6",
        "outputId": "0a15bf5b-25bf-451c-ce02-762cbd3b6a21"
      },
      "source": [
        "#model_local.to(device)\n",
        "#model_local.eval()\n",
        "from tqdm import tqdm\n",
        "y_local_te=np.empty((0,10))\n",
        "targets_te=np.array([])\n",
        "prob_local=np.array([])\n",
        "acc = 0 \n",
        "with torch.no_grad():\n",
        "        for data, target in tqdm(valloader):\n",
        "            data, target = data.to(device), target.to(device)\n",
        "            cost, err, prob = net.eval(data,target)\n",
        "            acc += err\n",
        "            y_local_te=np.append(y_local_te,prob.detach().numpy(),axis=0)\n",
        "            #y_local_te_single=np.append(y_local_te_single,y_local_te[-1].argmax())\n",
        "            prob_local=np.append(prob,np.array([prob.detach().numpy()[i,j] for i,j in enumerate(target.cpu().detach().numpy())]))\n",
        "            targets_te=np.append(targets_te,target.cpu().detach().numpy())\n",
        "\n",
        "y_local_te_single= np.argmax(y_local_te,axis=1)\n",
        "sum(y_local_te_single==targets_te)/10000 - np.mean(np.max(y_local_te,axis=1))\n"
      ],
      "execution_count": null,
      "outputs": [
        {
          "output_type": "stream",
          "text": [
            "100%|██████████| 79/79 [00:01<00:00, 50.85it/s]\n"
          ],
          "name": "stderr"
        },
        {
          "output_type": "execute_result",
          "data": {
            "text/plain": [
              "0.030585847824811996"
            ]
          },
          "metadata": {
            "tags": []
          },
          "execution_count": 19
        }
      ]
    },
    {
      "cell_type": "code",
      "metadata": {
        "colab": {
          "base_uri": "https://localhost:8080/",
          "height": 308
        },
        "id": "jo3CEun4cXym",
        "outputId": "96ed2842-1437-4db5-8f4a-053476cd78a7"
      },
      "source": [
        "import matplotlib.pyplot as plt\n",
        "import seaborn as sns\n",
        "\n",
        "\n",
        "#local_acc = np.mean(y_local_te_single == targets_te)\n",
        "\n",
        "\n",
        "print(\"######## ECE: ##############\")\n",
        "#print(f\"Local accuracy: {local_acc}, predicted confidence {np.mean(np.max(y_local_te,axis=1))}, ECE {np.abs(local_acc - np.mean(np.max(y_local_te,axis=1)))}\")\n",
        "#print(f\"NonDP accuracy: {nondp_acc}, predicted confidence {np.mean(np.max(y_nondp_te,axis=1))}, ECE {np.abs(nondp_acc - np.mean(np.max(y_nondp_te,axis=1)))}\")\n",
        "\n",
        "\n",
        "plt.plot(0,0,linestyle='dashed',color='black')\n",
        "plt.plot(0,0,color='black')\n",
        "plt.plot(0,0,color='#1f77b4')\n",
        "plt.plot(0,0,color='#ff7f0e')\n",
        "plt.ylim(0,10000)\n",
        "#plt.plot([0.2338]*20,np.linspace(0,1500,20),linestyle='dashed',color='#1f77b4')\n",
        "plt.plot([sum(y_local_te_single==targets_te)/10000]*20,np.linspace(0,10000,20),linestyle='dashed',color='#ff7f0e',label='local Accu')\n",
        "#plt.plot([np.mean(np.max(y_global_te,axis=1))]*20,np.linspace(0,1500,20),color='#1f77b4')\n",
        "plt.plot([np.mean(np.max(y_local_te,axis=1))]*20,np.linspace(0,10000,20),color='#ff7f0e')\n",
        "\n",
        "#print('non DP accuracy:', np.mean(targets_te==y_noDP_te_single),' confidence:',np.mean(np.max(y_noDP_te,axis=1)),' difference:',np.mean(np.max(y_noDP_te,axis=1))-np.mean(targets_te==y_noDP_te_single))\n",
        "#print('DP local accuracy:', np.mean(targets_te==y_local_te_single),' confidence:',np.mean(np.max(y_local_te,axis=1)),' difference:',np.mean(np.max(y_local_te,axis=1))-np.mean(targets_te==y_local_te_single))\n",
        "#print('DP global accuracy:', np.mean(targets_te==y_global_te_single),' confidence:',np.mean(np.max(y_global_te,axis=1)),' difference:',np.mean(np.max(y_global_te,axis=1))-np.mean(targets_te==y_global_te_single))\n",
        "\n",
        "plt.hist(np.max(y_local_te,axis=1),bins=30)\n",
        "\n",
        "plt.xlim(0,1)\n",
        "plt.xlabel('Confidence', fontsize=15)\n",
        "plt.ylabel('Number of Samples', fontsize=15)\n",
        "plt.legend(('Accuracy','Avg Confidence'),fontsize=13,loc='upper left',frameon=False)\n",
        "plt.savefig('Confidence_DPBBP.pdf',format='pdf')\n",
        "plt.show()\n",
        "\n"
      ],
      "execution_count": null,
      "outputs": [
        {
          "output_type": "stream",
          "text": [
            "######## ECE: ##############\n"
          ],
          "name": "stdout"
        },
        {
          "output_type": "display_data",
          "data": {
            "image/png": "[encoded data removed]",
            "text/plain": [
              "<Figure size 432x288 with 1 Axes>"
            ]
          },
          "metadata": {
            "tags": []
          }
        }
      ]
    },
    {
      "cell_type": "code",
      "metadata": {
        "colab": {
          "base_uri": "https://localhost:8080/",
          "height": 375
        },
        "id": "Omk7MKRvcak_",
        "outputId": "ea164373-88b8-4cd5-937f-121f74dfecff"
      },
      "source": [
        "#%%\n",
        "store_local = []\n",
        "templ=np.max(y_local_te,axis=1)\n",
        "dr=0.05\n",
        "for ratio in np.arange(0,1,dr):\n",
        "    index=(templ>ratio)*(templ<ratio+dr)\n",
        "    store_local.append(np.mean(y_local_te_single[index]==targets_te[index]))\n",
        "store_local=np.array(store_local)\n",
        "store_local[np.isnan(store_local)]=0\n",
        "\n",
        "#%%\n",
        "xaxis=np.arange(0,1,dr)+dr/2\n",
        "plt.bar(xaxis[store_local!=0],store_local[store_local!=0],width=dr, edgecolor=\"black\")\n",
        "plt.bar(xaxis[store_local!=0],xaxis[store_local!=0]-store_local[store_local!=0],bottom=store_local[store_local!=0],width=dr, edgecolor=\"black\",color='yellow',alpha=0.5)\n",
        "plt.bar(10,10,bottom=store_local,width=dr, edgecolor=\"black\",color='green',alpha=0.5)\n",
        "plt.plot([0,1],[0,1],color='black',linewidth=2,linestyle='dashed')\n",
        "plt.xlim(0,1)\n",
        "plt.ylim(0,1)\n",
        "plt.xlabel('Confidence', fontsize=15)\n",
        "plt.ylabel('Accuracy', fontsize=15)\n",
        "plt.legend(('Perfect calibration','Accuracy','Over-confidence','Under-confidence'),fontsize=13,frameon=0)\n",
        "plt.savefig('Confidence_MNIST_detail_LOCAL.pdf',format='pdf')\n",
        "plt.show()\n",
        "max(abs((xaxis[store_local!=0]-store_local[store_local!=0])))\n"
      ],
      "execution_count": null,
      "outputs": [
        {
          "output_type": "stream",
          "text": [
            "/usr/local/lib/python3.7/dist-packages/numpy/core/fromnumeric.py:3373: RuntimeWarning: Mean of empty slice.\n",
            "  out=out, **kwargs)\n",
            "/usr/local/lib/python3.7/dist-packages/numpy/core/_methods.py:170: RuntimeWarning: invalid value encountered in double_scalars\n",
            "  ret = ret.dtype.type(ret / rcount)\n"
          ],
          "name": "stderr"
        },
        {
          "output_type": "display_data",
          "data": {
            "image/png": "[encoded data removed]",
            "text/plain": [
              "<Figure size 432x288 with 1 Axes>"
            ]
          },
          "metadata": {
            "tags": []
          }
        },
        {
          "output_type": "execute_result",
          "data": {
            "text/plain": [
              "0.32499999999999996"
            ]
          },
          "metadata": {
            "tags": []
          },
          "execution_count": 21
        }
      ]
    },
    {
      "cell_type": "code",
      "metadata": {
        "colab": {
          "base_uri": "https://localhost:8080/",
          "height": 346
        },
        "id": "QRNAd4Gf78i8",
        "outputId": "4909de8f-25c0-45ee-a19f-fc9d5a6d1045"
      },
      "source": [
        "import numpy as np\n",
        "bbpgerr_dev = np.load('/content/bbpgerr_dev.npy')\n",
        "mcderr_dev = np.load('/content/mcderr_dev.npy')\n",
        "bbpgerr_dev = np.repeat(1,15) - bbpgerr_dev\n",
        "mcderr_dev  = np.repeat(1,15) - mcderr_dev\n",
        "sgldgerr_dev = np.repeat(1,15) - [0.113,0.109100,0.14,0.1126,0.13,0.1147,0.1088, 0.1051,0.1049, 0.1074,0.1178,0.1133,0.1165,0.1068,0.1136]\n",
        "#bbplerr_dev = [0.34,0.30,0.27,0.26,0.24,0.25,0.221,0.221,0.223,0.224,0.212,0.230,0.208,0.214,0.202]\n",
        "\n",
        "err_dev =np.repeat(1,15)-[0.084 , 0.0675, 0.0551, 0.0465, 0.0446, 0.0423, 0.0434, 0.0403, 0.0393, 0.0367, 0.0367, 0.0355, 0.0369, 0.0338, 0.0346]\n",
        "\n",
        "nb_epochs = 15\n",
        "nb_its_dev = 1\n",
        "mcderr_dev\n"
      ],
      "execution_count": null,
      "outputs": [
        {
          "output_type": "error",
          "ename": "FileNotFoundError",
          "evalue": "ignored",
          "traceback": [
            "\u001b[0;31m---------------------------------------------------------------------------\u001b[0m",
            "\u001b[0;31mFileNotFoundError\u001b[0m                         Traceback (most recent call last)",
            "\u001b[0;32m<ipython-input-23-78a0a3cf505b>\u001b[0m in \u001b[0;36m<module>\u001b[0;34m()\u001b[0m\n\u001b[1;32m      1\u001b[0m \u001b[0;32mimport\u001b[0m \u001b[0mnumpy\u001b[0m \u001b[0;32mas\u001b[0m \u001b[0mnp\u001b[0m\u001b[0;34m\u001b[0m\u001b[0;34m\u001b[0m\u001b[0m\n\u001b[0;32m----> 2\u001b[0;31m \u001b[0mbbpgerr_dev\u001b[0m \u001b[0;34m=\u001b[0m \u001b[0mnp\u001b[0m\u001b[0;34m.\u001b[0m\u001b[0mload\u001b[0m\u001b[0;34m(\u001b[0m\u001b[0;34m'/content/bbpgerr_dev.npy'\u001b[0m\u001b[0;34m)\u001b[0m\u001b[0;34m\u001b[0m\u001b[0;34m\u001b[0m\u001b[0m\n\u001b[0m\u001b[1;32m      3\u001b[0m \u001b[0mmcderr_dev\u001b[0m \u001b[0;34m=\u001b[0m \u001b[0mnp\u001b[0m\u001b[0;34m.\u001b[0m\u001b[0mload\u001b[0m\u001b[0;34m(\u001b[0m\u001b[0;34m'/content/mcderr_dev.npy'\u001b[0m\u001b[0;34m)\u001b[0m\u001b[0;34m\u001b[0m\u001b[0;34m\u001b[0m\u001b[0m\n\u001b[1;32m      4\u001b[0m \u001b[0mbbpgerr_dev\u001b[0m \u001b[0;34m=\u001b[0m \u001b[0mnp\u001b[0m\u001b[0;34m.\u001b[0m\u001b[0mrepeat\u001b[0m\u001b[0;34m(\u001b[0m\u001b[0;36m1\u001b[0m\u001b[0;34m,\u001b[0m\u001b[0;36m15\u001b[0m\u001b[0;34m)\u001b[0m \u001b[0;34m-\u001b[0m \u001b[0mbbpgerr_dev\u001b[0m\u001b[0;34m\u001b[0m\u001b[0;34m\u001b[0m\u001b[0m\n\u001b[1;32m      5\u001b[0m \u001b[0mmcderr_dev\u001b[0m  \u001b[0;34m=\u001b[0m \u001b[0mnp\u001b[0m\u001b[0;34m.\u001b[0m\u001b[0mrepeat\u001b[0m\u001b[0;34m(\u001b[0m\u001b[0;36m1\u001b[0m\u001b[0;34m,\u001b[0m\u001b[0;36m15\u001b[0m\u001b[0;34m)\u001b[0m \u001b[0;34m-\u001b[0m \u001b[0mmcderr_dev\u001b[0m\u001b[0;34m\u001b[0m\u001b[0;34m\u001b[0m\u001b[0m\n",
            "\u001b[0;32m/usr/local/lib/python3.7/dist-packages/numpy/lib/npyio.py\u001b[0m in \u001b[0;36mload\u001b[0;34m(file, mmap_mode, allow_pickle, fix_imports, encoding)\u001b[0m\n\u001b[1;32m    414\u001b[0m             \u001b[0mown_fid\u001b[0m \u001b[0;34m=\u001b[0m \u001b[0;32mFalse\u001b[0m\u001b[0;34m\u001b[0m\u001b[0;34m\u001b[0m\u001b[0m\n\u001b[1;32m    415\u001b[0m         \u001b[0;32melse\u001b[0m\u001b[0;34m:\u001b[0m\u001b[0;34m\u001b[0m\u001b[0;34m\u001b[0m\u001b[0m\n\u001b[0;32m--> 416\u001b[0;31m             \u001b[0mfid\u001b[0m \u001b[0;34m=\u001b[0m \u001b[0mstack\u001b[0m\u001b[0;34m.\u001b[0m\u001b[0menter_context\u001b[0m\u001b[0;34m(\u001b[0m\u001b[0mopen\u001b[0m\u001b[0;34m(\u001b[0m\u001b[0mos_fspath\u001b[0m\u001b[0;34m(\u001b[0m\u001b[0mfile\u001b[0m\u001b[0;34m)\u001b[0m\u001b[0;34m,\u001b[0m \u001b[0;34m\"rb\"\u001b[0m\u001b[0;34m)\u001b[0m\u001b[0;34m)\u001b[0m\u001b[0;34m\u001b[0m\u001b[0;34m\u001b[0m\u001b[0m\n\u001b[0m\u001b[1;32m    417\u001b[0m             \u001b[0mown_fid\u001b[0m \u001b[0;34m=\u001b[0m \u001b[0;32mTrue\u001b[0m\u001b[0;34m\u001b[0m\u001b[0;34m\u001b[0m\u001b[0m\n\u001b[1;32m    418\u001b[0m \u001b[0;34m\u001b[0m\u001b[0m\n",
            "\u001b[0;31mFileNotFoundError\u001b[0m: [Errno 2] No such file or directory: '/content/bbpgerr_dev.npy'"
          ]
        }
      ]
    },
    {
      "cell_type": "code",
      "metadata": {
        "colab": {
          "base_uri": "https://localhost:8080/",
          "height": 498
        },
        "id": "qwCqUIYPBP8P",
        "outputId": "5eadcbcd-1a9c-43ef-f05d-8803dbb2d5dd"
      },
      "source": [
        "import matplotlib.pyplot as plt\n",
        "\n",
        "plt.figure(dpi=100)\n",
        "fig2, ax2 = plt.subplots()\n",
        "plt.plot(range(15),err_dev)\n",
        "plt.plot(range(15),bbpgerr_dev)\n",
        "plt.plot(range(15),sgldgerr_dev)\n",
        "plt.plot(range(15),mcderr_dev)\n",
        "plt.ylim([0.5,1])\n",
        "plt.xlabel('epoch',fontsize=16)\n",
        "plt.ylabel('Accuracy',fontsize=16)\n",
        "plt.xticks(fontsize=14)\n",
        "plt.yticks(fontsize=14)\n",
        "\n",
        "plt.legend(['DP-SGD','DP-BBP','DP-SGLD','DP-MC Dropout'])\n",
        "plt.savefig('error.pdf',bbox_inches = 'tight',fontsize=14)"
      ],
      "execution_count": null,
      "outputs": [
        {
          "output_type": "error",
          "ename": "NameError",
          "evalue": "ignored",
          "traceback": [
            "\u001b[0;31m---------------------------------------------------------------------------\u001b[0m",
            "\u001b[0;31mNameError\u001b[0m                                 Traceback (most recent call last)",
            "\u001b[0;32m<ipython-input-3-1601c10e9fc0>\u001b[0m in \u001b[0;36m<module>\u001b[0;34m()\u001b[0m\n\u001b[1;32m      3\u001b[0m \u001b[0mplt\u001b[0m\u001b[0;34m.\u001b[0m\u001b[0mfigure\u001b[0m\u001b[0;34m(\u001b[0m\u001b[0mdpi\u001b[0m\u001b[0;34m=\u001b[0m\u001b[0;36m100\u001b[0m\u001b[0;34m)\u001b[0m\u001b[0;34m\u001b[0m\u001b[0;34m\u001b[0m\u001b[0m\n\u001b[1;32m      4\u001b[0m \u001b[0mfig2\u001b[0m\u001b[0;34m,\u001b[0m \u001b[0max2\u001b[0m \u001b[0;34m=\u001b[0m \u001b[0mplt\u001b[0m\u001b[0;34m.\u001b[0m\u001b[0msubplots\u001b[0m\u001b[0;34m(\u001b[0m\u001b[0;34m)\u001b[0m\u001b[0;34m\u001b[0m\u001b[0;34m\u001b[0m\u001b[0m\n\u001b[0;32m----> 5\u001b[0;31m \u001b[0mplt\u001b[0m\u001b[0;34m.\u001b[0m\u001b[0mplot\u001b[0m\u001b[0;34m(\u001b[0m\u001b[0mrange\u001b[0m\u001b[0;34m(\u001b[0m\u001b[0;36m15\u001b[0m\u001b[0;34m)\u001b[0m\u001b[0;34m,\u001b[0m\u001b[0merr_dev\u001b[0m\u001b[0;34m)\u001b[0m\u001b[0;34m\u001b[0m\u001b[0;34m\u001b[0m\u001b[0m\n\u001b[0m\u001b[1;32m      6\u001b[0m \u001b[0mplt\u001b[0m\u001b[0;34m.\u001b[0m\u001b[0mplot\u001b[0m\u001b[0;34m(\u001b[0m\u001b[0mrange\u001b[0m\u001b[0;34m(\u001b[0m\u001b[0;36m15\u001b[0m\u001b[0;34m)\u001b[0m\u001b[0;34m,\u001b[0m\u001b[0mbbpgerr_dev\u001b[0m\u001b[0;34m)\u001b[0m\u001b[0;34m\u001b[0m\u001b[0;34m\u001b[0m\u001b[0m\n\u001b[1;32m      7\u001b[0m \u001b[0mplt\u001b[0m\u001b[0;34m.\u001b[0m\u001b[0mplot\u001b[0m\u001b[0;34m(\u001b[0m\u001b[0mrange\u001b[0m\u001b[0;34m(\u001b[0m\u001b[0;36m15\u001b[0m\u001b[0;34m)\u001b[0m\u001b[0;34m,\u001b[0m\u001b[0msgldgerr_dev\u001b[0m\u001b[0;34m)\u001b[0m\u001b[0;34m\u001b[0m\u001b[0;34m\u001b[0m\u001b[0m\n",
            "\u001b[0;31mNameError\u001b[0m: name 'err_dev' is not defined"
          ]
        },
        {
          "output_type": "display_data",
          "data": {
            "text/plain": [
              "<Figure size 600x400 with 0 Axes>"
            ]
          },
          "metadata": {
            "tags": []
          }
        },
        {
          "output_type": "display_data",
          "data": {
            "image/png": "[encoded data removed]",
            "text/plain": [
              "<Figure size 432x288 with 1 Axes>"
            ]
          },
          "metadata": {
            "tags": [],
            "needs_background": "light"
          }
        }
      ]
    }
  ]
}