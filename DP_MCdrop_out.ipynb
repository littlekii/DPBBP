{
  "nbformat": 4,
  "nbformat_minor": 0,
  "metadata": {
    "colab": {
      "name": "DP_MCdrop_out.ipynb",
      "provenance": [],
      "collapsed_sections": [],
      "toc_visible": true,
      "include_colab_link": true
    },
    "kernelspec": {
      "name": "python3",
      "display_name": "Python 3"
    },
    "accelerator": "GPU"
  },
  "cells": [
    {
      "cell_type": "markdown",
      "metadata": {
        "id": "view-in-github",
        "colab_type": "text"
      },
      "source": [
        "<a href=\"https://colab.research.google.com/github/littlekii/DPBBP/blob/main/DP_MCdrop_out.ipynb\" target=\"_parent\"><img src=\"https://colab.research.google.com/assets/colab-badge.svg\" alt=\"Open In Colab\"/></a>"
      ]
    },
    {
      "cell_type": "markdown",
      "metadata": {
        "id": "r8RYkV2s7EhQ"
      },
      "source": [
        "1)one can change the following version into non-dp version by setting **disable_dp **"
      ]
    },
    {
      "cell_type": "code",
      "metadata": {
        "id": "0bnl1-df91Nt",
        "colab": {
          "base_uri": "https://localhost:8080/"
        },
        "outputId": "5c6492ff-fced-4098-dd49-0225191a85f3"
      },
      "source": [
        "!git clone https://github.com/JavierAntoran/Bayesian-Neural-Networks.git\n",
        "!git clone https://github.com/knamdar/data.git"
      ],
      "execution_count": null,
      "outputs": [
        {
          "output_type": "stream",
          "text": [
            "fatal: destination path 'Bayesian-Neural-Networks' already exists and is not an empty directory.\n",
            "fatal: destination path 'data' already exists and is not an empty directory.\n"
          ],
          "name": "stdout"
        }
      ]
    },
    {
      "cell_type": "code",
      "metadata": {
        "colab": {
          "base_uri": "https://localhost:8080/"
        },
        "id": "lMqotW1ycZfh",
        "outputId": "b18965f2-41fa-49d8-cb20-c5050a70e809"
      },
      "source": [
        "!pip install opacus==0.13"
      ],
      "execution_count": null,
      "outputs": [
        {
          "output_type": "stream",
          "text": [
            "Requirement already satisfied: opacus==0.13 in /usr/local/lib/python3.7/dist-packages (0.13.0)\n",
            "Requirement already satisfied: torch>=1.3 in /usr/local/lib/python3.7/dist-packages (from opacus==0.13) (1.9.0+cu102)\n",
            "Requirement already satisfied: tqdm>=4.40 in /usr/local/lib/python3.7/dist-packages (from opacus==0.13) (4.41.1)\n",
            "Requirement already satisfied: scipy>=1.2 in /usr/local/lib/python3.7/dist-packages (from opacus==0.13) (1.4.1)\n",
            "Requirement already satisfied: requests>=2.25.1 in /usr/local/lib/python3.7/dist-packages (from opacus==0.13) (2.25.1)\n",
            "Requirement already satisfied: torchvision>=0.9 in /usr/local/lib/python3.7/dist-packages (from opacus==0.13) (0.10.0+cu102)\n",
            "Requirement already satisfied: numpy>=1.15 in /usr/local/lib/python3.7/dist-packages (from opacus==0.13) (1.19.5)\n",
            "Requirement already satisfied: typing-extensions in /usr/local/lib/python3.7/dist-packages (from torch>=1.3->opacus==0.13) (3.7.4.3)\n",
            "Requirement already satisfied: certifi>=2017.4.17 in /usr/local/lib/python3.7/dist-packages (from requests>=2.25.1->opacus==0.13) (2021.5.30)\n",
            "Requirement already satisfied: idna<3,>=2.5 in /usr/local/lib/python3.7/dist-packages (from requests>=2.25.1->opacus==0.13) (2.10)\n",
            "Requirement already satisfied: urllib3<1.27,>=1.21.1 in /usr/local/lib/python3.7/dist-packages (from requests>=2.25.1->opacus==0.13) (1.24.3)\n",
            "Requirement already satisfied: chardet<5,>=3.0.2 in /usr/local/lib/python3.7/dist-packages (from requests>=2.25.1->opacus==0.13) (3.0.4)\n",
            "Requirement already satisfied: pillow>=5.3.0 in /usr/local/lib/python3.7/dist-packages (from torchvision>=0.9->opacus==0.13) (7.1.2)\n"
          ],
          "name": "stdout"
        }
      ]
    },
    {
      "cell_type": "code",
      "metadata": {
        "id": "eUvqeQMX_nwC"
      },
      "source": [
        "import sys;sys.path.append(\"/content/Bayesian-Neural-Networks\")"
      ],
      "execution_count": null,
      "outputs": []
    },
    {
      "cell_type": "markdown",
      "metadata": {
        "id": "B-3A5mIC_jZu"
      },
      "source": [
        "# Import base pacage"
      ]
    },
    {
      "cell_type": "code",
      "metadata": {
        "id": "806Ee5LILLdc"
      },
      "source": [
        "import opacus\n",
        "import numpy as np\n",
        "import torch\n",
        "\n",
        "import torch.optim as optim\n",
        "import opacus\n",
        "from opacus import PrivacyEngine\n",
        "from opacus.utils.uniform_sampler import UniformWithReplacementSampler\n",
        "from torchvision import datasets, transforms\n",
        "from tqdm import tqdm"
      ],
      "execution_count": null,
      "outputs": []
    },
    {
      "cell_type": "markdown",
      "metadata": {
        "id": "IS1YRMRH_r1W"
      },
      "source": [
        "# Define MC dropout"
      ]
    },
    {
      "cell_type": "markdown",
      "metadata": {
        "id": "p2o4NVdn66NK"
      },
      "source": [
        "## Linear Layers"
      ]
    },
    {
      "cell_type": "code",
      "metadata": {
        "id": "jIpxLlo8w9Y1"
      },
      "source": [
        "from src.priors import *\n",
        "from src.base_net import *\n",
        "\n",
        "import torch.nn.functional as F\n",
        "import torch.nn as nn\n",
        "\n",
        "\n",
        "def MC_dropout(act_vec, p=0, mask=True):\n",
        "    return F.dropout(act_vec, p=p, training=mask, inplace=True)\n",
        "\n",
        "\n",
        "class Linear_2L(nn.Module):\n",
        "    def __init__(self, input_dim, output_dim, n_hid):\n",
        "        super(Linear_2L, self).__init__()  # what \n",
        "\n",
        "        self.pdrop = 0.5  # what \n",
        "\n",
        "        self.input_dim = input_dim\n",
        "        self.output_dim = output_dim\n",
        "\n",
        "        self.fc1 = nn.Linear(input_dim, n_hid)\n",
        "        self.fc2 = nn.Linear(n_hid, n_hid)\n",
        "        self.fc3 = nn.Linear(n_hid, output_dim)\n",
        "\n",
        "        # choose your non linearity\n",
        "        # self.act = nn.Tanh()\n",
        "        # self.act = nn.Sigmoid()\n",
        "        self.act = nn.ReLU(inplace=True)\n",
        "        # self.act = nn.ELU(inplace=True)\n",
        "        # self.act = nn.SELU(inplace=True)\n",
        "\n",
        "    def forward(self, x, sample=True):\n",
        "        mask = self.training or sample  # if training or sampling, mc dropout will apply random binary mask\n",
        "        # Otherwise, for regular test set evaluation, we can just scale activations\n",
        "\n",
        "        x = x.view(-1, self.input_dim)  # view(batch_size, input_dim)\n",
        "        # -----------------\n",
        "        x = self.fc1(x)\n",
        "        x = MC_dropout(x, p=self.pdrop, mask=mask)\n",
        "        # -----------------\n",
        "        x = self.act(x)\n",
        "        # -----------------\n",
        "        x = self.fc2(x)\n",
        "        x = MC_dropout(x, p=self.pdrop, mask=mask)\n",
        "        # -----------------\n",
        "        x = self.act(x)\n",
        "        # -----------------\n",
        "        y = self.fc3(x)\n",
        "\n",
        "        return y\n",
        "\n",
        "    def sample_predict(self, x, Nsamples):\n",
        "        # Just copies type from x, initializes new vector\n",
        "        predictions = x.data.new(Nsamples, x.shape[0], self.output_dim)\n",
        "\n",
        "        for i in range(Nsamples):\n",
        "            y = self.forward(x, sample=True)\n",
        "            predictions[i] = y\n",
        "\n",
        "        return predictions\n",
        "\n",
        "\n",
        "class MC_drop_net2(BaseNet):\n",
        "    eps = 1e-6\n",
        "    # what\n",
        "    def __init__(self, lr=1e-3, channels_in=3, side_in=28, cuda=True, classes=10, batch_size=128, weight_decay=0, n_hid=1200,sr=0.004,sigma=1,max_grad_norm=1.0,secure_rng=False):\n",
        "        super(MC_drop_net2, self).__init__()\n",
        "        cprint('y', ' Creating Net!! ')\n",
        "        self.lr = lr\n",
        "        self.schedule = None  # [] #[50,200,400,600]\n",
        "        self.cuda = cuda\n",
        "        self.channels_in = channels_in\n",
        "        self.weight_decay = weight_decay\n",
        "        self.sr = sr\n",
        "        self.disable_dp = disable_dp      \n",
        "        self.sigma = sigma\n",
        "        self.max_grad_norm = max_grad_norm\n",
        "        self.secure_rng = secure_rng\n",
        "        self.classes = classes\n",
        "        self.n_hid = n_hid\n",
        "        self.batch_size = batch_size\n",
        "        self.side_in = side_in\n",
        "        self.create_net()\n",
        "        self.create_opt()\n",
        "        self.epoch = 0\n",
        "        self.test = False\n",
        "\n",
        "    # main net and use GPU \n",
        "    def create_net(self):\n",
        "        torch.manual_seed(42)\n",
        "        if self.cuda:\n",
        "            torch.cuda.manual_seed(42)\n",
        "        # what \n",
        "        self.model = Linear_2L(input_dim=self.channels_in * self.side_in * self.side_in, output_dim=self.classes,\n",
        "                               n_hid=self.n_hid)\n",
        "        if self.cuda:\n",
        "            self.model.cuda()\n",
        "        #             cudnn.benchmark = True\n",
        "\n",
        "        print('    Total params: %.2fM' % (self.get_nb_parameters() / 1000000.0))\n",
        "    \n",
        "    # optimizer \n",
        "    def create_opt(self):\n",
        "        #         self.optimizer = torch.optim.Adam(self.model.parameters(), lr=self.lr, betas=(0.9, 0.999), eps=1e-08,\n",
        "        #                                           weight_decay=0)\n",
        "        self.optimizer = torch.optim.SGD(self.model.parameters(), lr=self.lr, momentum=0.5,\n",
        "                                         weight_decay=self.weight_decay)\n",
        "\n",
        "        if not disable_dp:\n",
        "            privacy_engine = PrivacyEngine(\n",
        "                self.model,\n",
        "                sample_rate=self.sr,\n",
        "                alphas=[1 + x / 10.0 for x in range(1, 100)] + list(range(12, 64)),\n",
        "                noise_multiplier=self.sigma,\n",
        "                max_grad_norm=self.max_grad_norm,\n",
        "                secure_rng=self.secure_rng,\n",
        "            )\n",
        "            privacy_engine.attach(self.optimizer) # make optimizer private \n",
        "    #         self.optimizer = torch.optim.SGD(self.model.parameters(), lr=self.lr, momentum=0.9)\n",
        "    #         self.sched = torch.optim.lr_scheduler.StepLR(self.optimizer, step_size=1, gamma=10, last_epoch=-1)\n",
        "   \n",
        "    # train \n",
        "    def fit(self, x, y):\n",
        "        x, y = to_variable(var=(x, y.long()), cuda=self.cuda)\n",
        "\n",
        "        self.optimizer.zero_grad()\n",
        "\n",
        "        out = self.model(x)\n",
        "        loss = F.cross_entropy(out, y, reduction='sum')\n",
        "\n",
        "        loss.backward()\n",
        "        self.optimizer.step()\n",
        "\n",
        "        # out: (batch_size, out_channels, out_caps_dims)\n",
        "        pred = out.data.max(dim=1, keepdim=False)[1]  # get the index of the max log-probability\n",
        "        err = pred.ne(y.data).sum()\n",
        "        return loss.data, err\n",
        "    # test \n",
        "    def eval(self, x, y, train=False):\n",
        "        x, y = to_variable(var=(x, y.long()), cuda=self.cuda)\n",
        "\n",
        "        out = self.model(x)\n",
        "\n",
        "        loss = F.cross_entropy(out, y, reduction='sum')\n",
        "\n",
        "        probs = F.softmax(out, dim=1).data.cpu()\n",
        "\n",
        "        pred = out.data.max(dim=1, keepdim=False)[1]  # get the index of the max log-probability\n",
        "        err = pred.ne(y.data).sum()\n",
        "\n",
        "        return loss.data, err, probs\n",
        "\n",
        "    def sample_eval(self, x, y, Nsamples, logits=True, train=False):\n",
        "        x, y = to_variable(var=(x, y.long()), cuda=self.cuda)\n",
        "\n",
        "        out = self.model.sample_predict(x, Nsamples)\n",
        "\n",
        "        if logits:\n",
        "            mean_out = out.mean(dim=0, keepdim=False)\n",
        "            loss = F.cross_entropy(mean_out, y, reduction='sum')\n",
        "            probs = F.softmax(mean_out, dim=1).data.cpu()\n",
        "\n",
        "        else:\n",
        "            mean_out = F.softmax(out, dim=2).mean(dim=0, keepdim=False)\n",
        "            probs = mean_out.data.cpu()\n",
        "\n",
        "            log_mean_probs_out = torch.log(mean_out)\n",
        "            loss = F.nll_loss(log_mean_probs_out, y, reduction='sum')\n",
        "\n",
        "        pred = mean_out.data.max(dim=1, keepdim=False)[1]  # get the index of the max log-probability\n",
        "        err = pred.ne(y.data).sum()\n",
        "\n",
        "        return loss.data, err, probs\n",
        "\n",
        "    def all_sample_eval(self, x, y, Nsamples):\n",
        "        x, y = to_variable(var=(x, y.long()), cuda=self.cuda)\n",
        "\n",
        "        out = self.model.sample_predict(x, Nsamples)\n",
        "\n",
        "        prob_out = F.softmax(out, dim=2)\n",
        "        prob_out = prob_out.data\n",
        "\n",
        "        return prob_out\n",
        "\n",
        "    def get_weight_samples(self):\n",
        "        weight_vec = []\n",
        "\n",
        "        state_dict = self.model.state_dict()\n",
        "\n",
        "        for key in state_dict.keys():\n",
        "\n",
        "            if 'weight' in key:\n",
        "                weight_mtx = state_dict[key].cpu().data\n",
        "                for weight in weight_mtx.view(-1):\n",
        "                    weight_vec.append(weight)\n",
        "\n",
        "        return np.array(weight_vec)"
      ],
      "execution_count": null,
      "outputs": []
    },
    {
      "cell_type": "markdown",
      "metadata": {
        "id": "U6pwnw9I6x8L"
      },
      "source": [
        "## Convolutional Layers"
      ]
    },
    {
      "cell_type": "code",
      "metadata": {
        "id": "BxzeUion6fte"
      },
      "source": [
        "# from src.priors import *\n",
        "# from src.base_net import *\n",
        "\n",
        "# import torch.nn.functional as F\n",
        "# import torch.nn as nn\n",
        "\n",
        "\n",
        "# def MC_dropout(act_vec, p=0, mask=True):\n",
        "#     return F.dropout(act_vec, p=p, training=mask, inplace=True)\n",
        "\n",
        "\n",
        "# class SampleConvNet(nn.Module):\n",
        "#     def __init__(self):\n",
        "#         super().__init__()\n",
        "#         self.conv1 = nn.Conv2d(1, 16, 8, 2, padding=3)\n",
        "#         self.conv2 = nn.Conv2d(16, 32, 4, 2)\n",
        "#         self.fc1 = nn.Linear(32 * 4 * 4, 32)\n",
        "#         self.fc2 = nn.Linear(32, 10)\n",
        "\n",
        "#     def forward(self, x):\n",
        "#         # x of shape [B, 1, 28, 28]\n",
        "#         x = F.relu(self.conv1(x))  # -> [B, 16, 14, 14]\n",
        "#         x = F.max_pool2d(x, 2, 1)  # -> [B, 16, 13, 13]\n",
        "#         x = F.relu(self.conv2(x))  # -> [B, 32, 5, 5]\n",
        "#         x = F.max_pool2d(x, 2, 1)  # -> [B, 32, 4, 4]\n",
        "#         x = x.view(-1, 32 * 4 * 4)  # -> [B, 512]\n",
        "#         x = F.relu(self.fc1(x))  # -> [B, 32]\n",
        "#         x = self.fc2(x)  # -> [B, 10]\n",
        "#         return x\n",
        "\n",
        "#     def name(self):\n",
        "#         return \"SampleConvNet\"\n",
        "\n",
        "\n",
        "#     def sample_predict(self, x, Nsamples):\n",
        "#         # Just copies type from x, initializes new vector\n",
        "#         predictions = x.data.new(Nsamples, x.shape[0], self.output_dim)\n",
        "\n",
        "#         for i in range(Nsamples):\n",
        "#             y = self.forward(x, sample=True)\n",
        "#             predictions[i] = y\n",
        "\n",
        "#         return predictions\n",
        "\n",
        "\n",
        "# class MC_drop_net2(BaseNet):\n",
        "#     eps = 1e-6\n",
        "#     # what\n",
        "#     def __init__(self, lr=1e-3, channels_in=3, side_in=28, cuda=True, classes=10, batch_size=128, weight_decay=0, n_hid=1200,sr=0.004,sigma=1,max_grad_norm=1.0,secure_rng=False):\n",
        "#         super(MC_drop_net2, self).__init__()\n",
        "#         cprint('y', ' Creating Net!! ')\n",
        "#         self.lr = lr\n",
        "#         self.schedule = None  # [] #[50,200,400,600]\n",
        "#         self.cuda = cuda\n",
        "#         self.channels_in = channels_in\n",
        "#         self.weight_decay = weight_decay\n",
        "#         self.sr = sr\n",
        "#         self.disable_dp = disable_dp      \n",
        "#         self.sigma = sigma\n",
        "#         self.max_grad_norm = max_grad_norm\n",
        "#         self.secure_rng = secure_rng\n",
        "#         self.classes = classes\n",
        "#         self.n_hid = n_hid\n",
        "#         self.batch_size = batch_size\n",
        "#         self.side_in = side_in\n",
        "#         self.create_net()\n",
        "#         self.create_opt()\n",
        "#         self.epoch = 0\n",
        "#         self.test = False\n",
        "\n",
        "#     # main net and use GPU \n",
        "#     def create_net(self):\n",
        "#         torch.manual_seed(42)\n",
        "#         if self.cuda:\n",
        "#             torch.cuda.manual_seed(42)\n",
        "#         # what \n",
        "#         self.model = SampleConvNet(input_dim=self.channels_in * self.side_in * self.side_in, output_dim=self.classes,\n",
        "#                                n_hid=self.n_hid)\n",
        "#         if self.cuda:\n",
        "#             self.model.cuda()\n",
        "#         #             cudnn.benchmark = True\n",
        "\n",
        "#         print('    Total params: %.2fM' % (self.get_nb_parameters() / 1000000.0))\n",
        "    \n",
        "#     # optimizer \n",
        "#     def create_opt(self):\n",
        "#         #         self.optimizer = torch.optim.Adam(self.model.parameters(), lr=self.lr, betas=(0.9, 0.999), eps=1e-08,\n",
        "#         #                                           weight_decay=0)\n",
        "#         self.optimizer = torch.optim.SGD(self.model.parameters(), lr=self.lr, momentum=0.5,\n",
        "#                                          weight_decay=self.weight_decay)\n",
        "\n",
        "#         if not disable_dp:\n",
        "#             privacy_engine = PrivacyEngine(\n",
        "#                 self.model,\n",
        "#                 sample_rate=self.sr,\n",
        "#                 alphas=[1 + x / 10.0 for x in range(1, 100)] + list(range(12, 64)),\n",
        "#                 noise_multiplier=self.sigma,\n",
        "#                 max_grad_norm=self.max_grad_norm,\n",
        "#                 secure_rng=self.secure_rng,\n",
        "#             )\n",
        "#             privacy_engine.attach(self.optimizer) # make optimizer private \n",
        "#     #         self.optimizer = torch.optim.SGD(self.model.parameters(), lr=self.lr, momentum=0.9)\n",
        "#     #         self.sched = torch.optim.lr_scheduler.StepLR(self.optimizer, step_size=1, gamma=10, last_epoch=-1)\n",
        "   \n",
        "#     # train \n",
        "#     def fit(self, x, y):\n",
        "#         x, y = to_variable(var=(x, y.long()), cuda=self.cuda)\n",
        "\n",
        "#         self.optimizer.zero_grad()\n",
        "\n",
        "#         out = self.model(x)\n",
        "#         loss = F.cross_entropy(out, y, reduction='sum')\n",
        "\n",
        "#         loss.backward()\n",
        "#         self.optimizer.step()\n",
        "\n",
        "#         # out: (batch_size, out_channels, out_caps_dims)\n",
        "#         pred = out.data.max(dim=1, keepdim=False)[1]  # get the index of the max log-probability\n",
        "#         err = pred.ne(y.data).sum()\n",
        "#         return loss.data, err\n",
        "#     # test \n",
        "#     def eval(self, x, y, train=False):\n",
        "#         x, y = to_variable(var=(x, y.long()), cuda=self.cuda)\n",
        "\n",
        "#         out = self.model(x)\n",
        "\n",
        "#         loss = F.cross_entropy(out, y, reduction='sum')\n",
        "\n",
        "#         probs = F.softmax(out, dim=1).data.cpu()\n",
        "\n",
        "#         pred = out.data.max(dim=1, keepdim=False)[1]  # get the index of the max log-probability\n",
        "#         err = pred.ne(y.data).sum()\n",
        "\n",
        "#         return loss.data, err, probs\n",
        "\n",
        "#     def sample_eval(self, x, y, Nsamples, logits=True, train=False):\n",
        "#         x, y = to_variable(var=(x, y.long()), cuda=self.cuda)\n",
        "\n",
        "#         out = self.model.sample_predict(x, Nsamples)\n",
        "\n",
        "#         if logits:\n",
        "#             mean_out = out.mean(dim=0, keepdim=False)\n",
        "#             loss = F.cross_entropy(mean_out, y, reduction='sum')\n",
        "#             probs = F.softmax(mean_out, dim=1).data.cpu()\n",
        "\n",
        "#         else:\n",
        "#             mean_out = F.softmax(out, dim=2).mean(dim=0, keepdim=False)\n",
        "#             probs = mean_out.data.cpu()\n",
        "\n",
        "#             log_mean_probs_out = torch.log(mean_out)\n",
        "#             loss = F.nll_loss(log_mean_probs_out, y, reduction='sum')\n",
        "\n",
        "#         pred = mean_out.data.max(dim=1, keepdim=False)[1]  # get the index of the max log-probability\n",
        "#         err = pred.ne(y.data).sum()\n",
        "\n",
        "#         return loss.data, err, probs\n",
        "\n",
        "#     def all_sample_eval(self, x, y, Nsamples):\n",
        "#         x, y = to_variable(var=(x, y.long()), cuda=self.cuda)\n",
        "\n",
        "#         out = self.model.sample_predict(x, Nsamples)\n",
        "\n",
        "#         prob_out = F.softmax(out, dim=2)\n",
        "#         prob_out = prob_out.data\n",
        "\n",
        "#         return prob_out\n",
        "\n",
        "#     def get_weight_samples(self):\n",
        "#         weight_vec = []\n",
        "\n",
        "        # state_dict = self.model.state_dict()\n",
        "\n",
        "        # for key in state_dict.keys():\n",
        "\n",
        "        #     if 'weight' in key:\n",
        "        #         weight_mtx = state_dict[key].cpu().data\n",
        "        #         for weight in weight_mtx.view(-1):\n",
        "        #             weight_vec.append(weight)\n",
        "\n",
        "        # return np.array(weight_vec)"
      ],
      "execution_count": null,
      "outputs": []
    },
    {
      "cell_type": "markdown",
      "metadata": {
        "id": "x_L4TPgb_1WQ"
      },
      "source": [
        "# Global Parameters"
      ]
    },
    {
      "cell_type": "code",
      "metadata": {
        "colab": {
          "base_uri": "https://localhost:8080/"
        },
        "id": "-b99LQYDpWa4",
        "outputId": "c8753827-9702-4704-cf39-1fc7c8602efb"
      },
      "source": [
        "#from __future__ import division, print_function\n",
        "import time\n",
        "import torch.utils.data\n",
        "from torchvision import transforms, datasets\n",
        "from src.MC_dropout.model import *\n",
        "\n",
        "#matplotlib.use('Agg')\n",
        "import matplotlib.pyplot as plt\n",
        "import seaborn as sns\n",
        "sns.set()\n",
        "## global \n",
        "weight_decay  = 0\n",
        "\n",
        "models_dir    = 'MCdrop_models'\n",
        "results_dir   = 'MCdrop_results'\n",
        "\n",
        "batch_size = 256\n",
        "sr      = batch_size/60000\n",
        "test_batch_size  = 1024 \n",
        "sigma            = 1.3\n",
        "delta            = 1e-5\n",
        "max_per_sample_grad_norm = 200\n",
        "epochs           = 15\n",
        "n_runs           = 1\n",
        "lr               = 0.0002\n",
        "device           = \"cuda\"\n",
        "save_model       = False\n",
        "secure_rng       = False\n",
        "data_root        = \"/content/data/\"\n",
        "disable_dp       = True\n",
        "\n",
        "\n",
        "\n",
        "\n",
        "# Where to save models weights\n",
        "models_dir = models_dir\n",
        "# Where to save plots and error, accuracy vectors\n",
        "results_dir = results_dir\n",
        "\n",
        "mkdir(models_dir)\n",
        "mkdir(results_dir)\n",
        "# ------------------------------------------------------------------------------------------------------\n",
        "# train config\n",
        "NTrainPointsMNIST = 60000\n",
        "nb_epochs = epochs\n",
        "log_interval = 1\n",
        "\n",
        "\n",
        "# ------------------------------------------------------------------------------------------------------\n",
        "# dataset\n",
        "cprint('c', '\\nData:')\n",
        "\n",
        "# load data\n",
        "\n",
        "# data augmentation\n",
        "transform_train = transforms.Compose([\n",
        "    transforms.ToTensor(),\n",
        "    transforms.Normalize(mean=(0.1307,), std=(0.3081,))\n",
        "])\n",
        "\n",
        "transform_test = transforms.Compose([\n",
        "    transforms.ToTensor(),\n",
        "    transforms.Normalize(mean=(0.1307,), std=(0.3081,))\n",
        "])\n",
        "\n",
        "use_cuda = torch.cuda.is_available()\n",
        "\n",
        "\n",
        "trainset = datasets.MNIST(root=data_root, train=True, download=False, transform=transform_train)\n",
        "valset = datasets.MNIST(root=data_root, train=False, download=False, transform=transform_test)\n",
        "\n",
        "if use_cuda:\n",
        "    trainloader = torch.utils.data.DataLoader(trainset, batch_size=batch_size, shuffle=True, pin_memory=True,\n",
        "                                              num_workers=2)\n",
        "    valloader = torch.utils.data.DataLoader(valset, batch_size=batch_size, shuffle=False, pin_memory=True,\n",
        "                                            num_workers=2)\n",
        "\n",
        "else:\n",
        "    trainloader = torch.utils.data.DataLoader(trainset, batch_size=batch_size, shuffle=True, pin_memory=False,\n",
        "                                              num_workers=2)\n",
        "    valloader = torch.utils.data.DataLoader(valset, batch_size=batch_size, shuffle=False, pin_memory=False,\n",
        "                                            num_workers=2)\n",
        "\n",
        "## ---------------------------------------------------------------------------------------------------------------------\n",
        "# net dims\n",
        "cprint('c', '\\nNetwork:')"
      ],
      "execution_count": null,
      "outputs": [
        {
          "output_type": "stream",
          "text": [
            "\u001b[36m\n",
            "Data:\u001b[0m\n",
            "\u001b[36m\n",
            "Network:\u001b[0m\n"
          ],
          "name": "stdout"
        }
      ]
    },
    {
      "cell_type": "markdown",
      "metadata": {
        "id": "UGOSdtwk5NFz"
      },
      "source": [
        "# Training on MNIST"
      ]
    },
    {
      "cell_type": "code",
      "metadata": {
        "id": "w7GPCBwqIH28",
        "colab": {
          "base_uri": "https://localhost:8080/"
        },
        "outputId": "7c3c24c2-0b0e-42c3-a5d8-ffb98dbd0c4e"
      },
      "source": [
        "\n",
        "########################################################################################\n",
        "\n",
        "net = MC_drop_net2(lr=lr, channels_in=1, side_in=28, cuda=use_cuda, classes=10, batch_size=batch_size,\n",
        "                  weight_decay=weight_decay, n_hid=1200,sr=sr,sigma=sigma,max_grad_norm=max_per_sample_grad_norm,secure_rng=secure_rng)\n",
        "\n",
        "## ---------------------------------------------------------------------------------------------------------------------\n",
        "# train\n",
        "cprint('c', '\\nTrain:')\n",
        "\n",
        "print('  init cost variables:')\n",
        "kl_cost_train = np.zeros(nb_epochs)\n",
        "pred_cost_train = np.zeros(nb_epochs)\n",
        "err_train = np.zeros(nb_epochs)\n",
        "\n",
        "cost_dev = np.zeros(nb_epochs)\n",
        "err_dev = np.zeros(nb_epochs)\n",
        "best_err = np.inf\n",
        "\n",
        "nb_its_dev = 1\n",
        "\n",
        "tic0 = time.time()\n",
        "for i in range(0, nb_epochs):\n",
        "\n",
        "    net.set_mode_train(True)\n",
        "    tic = time.time()\n",
        "    nb_samples = 0\n",
        "   \n",
        "    for x, y in trainloader:\n",
        "\n",
        "        cost_pred, err = net.fit(x, y)\n",
        "\n",
        "        err_train[i] += err\n",
        "        pred_cost_train[i] += cost_pred\n",
        "        nb_samples += len(x)\n",
        "\n",
        "    pred_cost_train[i] /= nb_samples\n",
        "    err_train[i] /= nb_samples\n",
        "\n",
        "    toc = time.time()\n",
        "    net.epoch = i\n",
        "    # ---- print\n",
        "    print(\"it %d/%d, Jtr_pred = %f, err = %f, \" % (i+1, nb_epochs, pred_cost_train[i], err_train[i]), end=\"\")\n",
        "    cprint('r', '   time: %f seconds\\n' % (toc - tic))\n",
        "    \n",
        "    if not disable_dp:\n",
        "        epsilon, best_alpha = net.optimizer.privacy_engine.get_privacy_spent(delta)\n",
        "        print(\n",
        "            f\"(ε = {epsilon:.2f}, δ = {delta}) for α = {best_alpha}\"\n",
        "        )\n",
        "\n",
        "    # ---- dev\n",
        "    if i % nb_its_dev == 0:\n",
        "        net.set_mode_train(False)\n",
        "        nb_samples = 0\n",
        "        for j, (x, y) in enumerate(valloader):\n",
        "            cost, err, probs = net.eval(x, y)\n",
        "\n",
        "            cost_dev[i] += cost\n",
        "            err_dev[i] += err\n",
        "            nb_samples += len(x)\n",
        "\n",
        "        cost_dev[i] /= nb_samples\n",
        "        err_dev[i] /= nb_samples\n",
        "\n",
        "        cprint('g', '    Jdev = %f, err = %f\\n' % (cost_dev[i], err_dev[i]))\n",
        "\n",
        "        if err_dev[i] < best_err:\n",
        "            best_err = err_dev[i]\n",
        "            cprint('b', 'best test error')\n",
        "            net.save(models_dir+'/theta_best.dat')\n",
        "\n",
        "toc0 = time.time()\n",
        "runtime_per_it = (toc0 - tic0) / float(nb_epochs)\n",
        "cprint('r', '   average time: %f seconds\\n' % runtime_per_it)\n",
        "\n",
        "net.save(models_dir+'/theta_last.dat')\n",
        "\n",
        "## ---------------------------------------------------------------------------------------------------------------------\n",
        "# results\n",
        "cprint('c', '\\nRESULTS:')\n",
        "nb_parameters = net.get_nb_parameters()\n",
        "best_cost_dev = np.min(cost_dev)\n",
        "best_cost_train = np.min(pred_cost_train)\n",
        "err_dev_min = err_dev[::nb_its_dev].min()\n",
        "\n",
        "print('  cost_dev: %f (cost_train %f)' % (best_cost_dev, best_cost_train))\n",
        "print('  err_dev: %f' % (err_dev_min))\n",
        "print('  nb_parameters: %d (%s)' % (nb_parameters, humansize(nb_parameters)))\n",
        "print('  time_per_it: %fs\\n' % (runtime_per_it))\n",
        "\n",
        "## Save results for plots\n",
        "# np.save('results/test_predictions.npy', test_predictions)\n",
        "np.save(results_dir + '/cost_train.npy', pred_cost_train)\n",
        "np.save(results_dir + '/cost_dev.npy', cost_dev)\n",
        "np.save(results_dir + '/err_train.npy', err_train)\n",
        "np.save(results_dir + '/err_dev.npy', err_dev)\n",
        "\n"
      ],
      "execution_count": null,
      "outputs": [
        {
          "output_type": "stream",
          "text": [
            "\u001b[36m\n",
            "Net:\u001b[0m\n",
            "\u001b[33m Creating Net!! \u001b[0m\n",
            "    Total params: 2.40M\n",
            "\u001b[36m\n",
            "Train:\u001b[0m\n",
            "  init cost variables:\n",
            "it 1/15, Jtr_pred = 0.537704, err = 0.157533, \u001b[31m   time: 7.639049 seconds\n",
            "\u001b[0m\n",
            "\u001b[32m    Jdev = 0.269703, err = 0.082300\n",
            "\u001b[0m\n",
            "\u001b[34mbest test error\u001b[0m\n",
            "\u001b[36mWritting MCdrop_models/theta_best.dat\n",
            "\u001b[0m\n",
            "it 2/15, Jtr_pred = 0.239564, err = 0.071367, \u001b[31m   time: 7.747497 seconds\n",
            "\u001b[0m\n",
            "\u001b[32m    Jdev = 0.191328, err = 0.057800\n",
            "\u001b[0m\n",
            "\u001b[34mbest test error\u001b[0m\n",
            "\u001b[36mWritting MCdrop_models/theta_best.dat\n",
            "\u001b[0m\n",
            "it 3/15, Jtr_pred = 0.177665, err = 0.052500, \u001b[31m   time: 7.542337 seconds\n",
            "\u001b[0m\n",
            "\u001b[32m    Jdev = 0.159575, err = 0.050100\n",
            "\u001b[0m\n",
            "\u001b[34mbest test error\u001b[0m\n",
            "\u001b[36mWritting MCdrop_models/theta_best.dat\n",
            "\u001b[0m\n",
            "it 4/15, Jtr_pred = 0.146215, err = 0.044233, \u001b[31m   time: 7.621296 seconds\n",
            "\u001b[0m\n",
            "\u001b[32m    Jdev = 0.137449, err = 0.044700\n",
            "\u001b[0m\n",
            "\u001b[34mbest test error\u001b[0m\n",
            "\u001b[36mWritting MCdrop_models/theta_best.dat\n",
            "\u001b[0m\n",
            "it 5/15, Jtr_pred = 0.122192, err = 0.037850, \u001b[31m   time: 7.487250 seconds\n",
            "\u001b[0m\n",
            "\u001b[32m    Jdev = 0.123069, err = 0.037600\n",
            "\u001b[0m\n",
            "\u001b[34mbest test error\u001b[0m\n",
            "\u001b[36mWritting MCdrop_models/theta_best.dat\n",
            "\u001b[0m\n",
            "it 6/15, Jtr_pred = 0.107547, err = 0.032450, \u001b[31m   time: 7.506015 seconds\n",
            "\u001b[0m\n",
            "\u001b[32m    Jdev = 0.109180, err = 0.034500\n",
            "\u001b[0m\n",
            "\u001b[34mbest test error\u001b[0m\n",
            "\u001b[36mWritting MCdrop_models/theta_best.dat\n",
            "\u001b[0m\n",
            "it 7/15, Jtr_pred = 0.095537, err = 0.029167, \u001b[31m   time: 7.637729 seconds\n",
            "\u001b[0m\n",
            "\u001b[32m    Jdev = 0.102863, err = 0.031200\n",
            "\u001b[0m\n",
            "\u001b[34mbest test error\u001b[0m\n",
            "\u001b[36mWritting MCdrop_models/theta_best.dat\n",
            "\u001b[0m\n",
            "it 8/15, Jtr_pred = 0.084046, err = 0.025533, \u001b[31m   time: 7.454003 seconds\n",
            "\u001b[0m\n",
            "\u001b[32m    Jdev = 0.097042, err = 0.028700\n",
            "\u001b[0m\n",
            "\u001b[34mbest test error\u001b[0m\n",
            "\u001b[36mWritting MCdrop_models/theta_best.dat\n",
            "\u001b[0m\n",
            "it 9/15, Jtr_pred = 0.077047, err = 0.023133, \u001b[31m   time: 7.522522 seconds\n",
            "\u001b[0m\n",
            "\u001b[32m    Jdev = 0.097663, err = 0.028000\n",
            "\u001b[0m\n",
            "\u001b[34mbest test error\u001b[0m\n",
            "\u001b[36mWritting MCdrop_models/theta_best.dat\n",
            "\u001b[0m\n",
            "it 10/15, Jtr_pred = 0.069219, err = 0.022000, \u001b[31m   time: 7.610564 seconds\n",
            "\u001b[0m\n",
            "\u001b[32m    Jdev = 0.093110, err = 0.030000\n",
            "\u001b[0m\n",
            "it 11/15, Jtr_pred = 0.063118, err = 0.019083, \u001b[31m   time: 7.723478 seconds\n",
            "\u001b[0m\n",
            "\u001b[32m    Jdev = 0.089142, err = 0.027700\n",
            "\u001b[0m\n",
            "\u001b[34mbest test error\u001b[0m\n",
            "\u001b[36mWritting MCdrop_models/theta_best.dat\n",
            "\u001b[0m\n",
            "it 12/15, Jtr_pred = 0.058005, err = 0.017283, \u001b[31m   time: 7.500436 seconds\n",
            "\u001b[0m\n",
            "\u001b[32m    Jdev = 0.084884, err = 0.026600\n",
            "\u001b[0m\n",
            "\u001b[34mbest test error\u001b[0m\n",
            "\u001b[36mWritting MCdrop_models/theta_best.dat\n",
            "\u001b[0m\n",
            "it 13/15, Jtr_pred = 0.054199, err = 0.016817, \u001b[31m   time: 7.539878 seconds\n",
            "\u001b[0m\n",
            "\u001b[32m    Jdev = 0.084230, err = 0.027300\n",
            "\u001b[0m\n",
            "it 14/15, Jtr_pred = 0.050283, err = 0.015367, \u001b[31m   time: 7.602710 seconds\n",
            "\u001b[0m\n",
            "\u001b[32m    Jdev = 0.083051, err = 0.024400\n",
            "\u001b[0m\n",
            "\u001b[34mbest test error\u001b[0m\n",
            "\u001b[36mWritting MCdrop_models/theta_best.dat\n",
            "\u001b[0m\n",
            "it 15/15, Jtr_pred = 0.046023, err = 0.014283, \u001b[31m   time: 7.460563 seconds\n",
            "\u001b[0m\n",
            "\u001b[32m    Jdev = 0.079884, err = 0.024900\n",
            "\u001b[0m\n",
            "\u001b[31m   average time: 8.967740 seconds\n",
            "\u001b[0m\n",
            "\u001b[36mWritting MCdrop_models/theta_last.dat\n",
            "\u001b[0m\n",
            "\u001b[36m\n",
            "RESULTS:\u001b[0m\n",
            "  cost_dev: 0.079884 (cost_train 0.046023)\n",
            "  err_dev: 0.024400\n",
            "  nb_parameters: 2395210 (2.28MB)\n",
            "  time_per_it: 8.967740s\n",
            "\n"
          ],
          "name": "stdout"
        }
      ]
    },
    {
      "cell_type": "markdown",
      "metadata": {
        "id": "1ThPr2sN5UA0"
      },
      "source": [
        "#Calibration"
      ]
    },
    {
      "cell_type": "code",
      "metadata": {
        "id": "n_gxWmkS5Zq6"
      },
      "source": [
        "# if necessary, one should load the local model to produce the following graphs\n",
        "#model_local = MC_drop_net2(lr=lr, channels_in=1, side_in=28, cuda=use_cuda, classes=10, batch_size=batch_size,\n",
        "#                  weight_decay=weight_decay, n_hid=1200,sr=sr,sigma=sigma,max_grad_norm=max_per_sample_grad_norm,secure_rng=secure_rng)\n",
        "#model_local.load('/content/theta_best.dat')\n"
      ],
      "execution_count": null,
      "outputs": []
    },
    {
      "cell_type": "code",
      "metadata": {
        "colab": {
          "base_uri": "https://localhost:8080/"
        },
        "id": "KUY3CKJZcruo",
        "outputId": "b42ce264-8a63-4fd0-de7f-2e75243b2a7a"
      },
      "source": [
        "#model_local.to(device)\n",
        "#model_local.eval()\n",
        "y_local_te=np.empty((0,10))\n",
        "targets_te=np.array([])\n",
        "prob_local=np.array([])\n",
        "acc = 0 \n",
        "with torch.no_grad():\n",
        "        for data, target in tqdm(valloader):\n",
        "            data, target = data.to(device), target.to(device)\n",
        "            cost, err, prob = net.eval(data,target)\n",
        "            acc += err\n",
        "            y_local_te=np.append(y_local_te,prob.detach().numpy(),axis=0)\n",
        "            #y_local_te_single=np.append(y_local_te_single,y_local_te[-1].argmax())\n",
        "            prob_local=np.append(prob,np.array([prob.detach().numpy()[i,j] for i,j in enumerate(target.cpu().detach().numpy())]))\n",
        "            targets_te=np.append(targets_te,target.cpu().detach().numpy())\n",
        "\n",
        "y_local_te_single= np.argmax(y_local_te,axis=1)\n"
      ],
      "execution_count": null,
      "outputs": [
        {
          "output_type": "stream",
          "text": [
            "100%|██████████| 40/40 [00:01<00:00, 25.59it/s]\n"
          ],
          "name": "stderr"
        }
      ]
    },
    {
      "cell_type": "code",
      "metadata": {
        "colab": {
          "base_uri": "https://localhost:8080/"
        },
        "id": "Z5cyZ5GtUAhp",
        "outputId": "f6ba0a4c-9ea5-44a2-9154-06b98f9c1f2e"
      },
      "source": [
        "sum(y_local_te_single==targets_te)/10000 - np.mean(np.max(y_local_te,axis=1))"
      ],
      "execution_count": null,
      "outputs": [
        {
          "output_type": "execute_result",
          "data": {
            "text/plain": [
              "-0.002523571318387985"
            ]
          },
          "metadata": {
            "tags": []
          },
          "execution_count": 52
        }
      ]
    },
    {
      "cell_type": "code",
      "metadata": {
        "colab": {
          "base_uri": "https://localhost:8080/",
          "height": 304
        },
        "id": "myLcPpouZay_",
        "outputId": "1cda4e56-c42e-46c5-d8ad-f9a0b7ed34ec"
      },
      "source": [
        "import matplotlib.pyplot as plt\n",
        "import seaborn as sns\n",
        "\n",
        "\n",
        "#local_acc = np.mean(y_local_te_single == targets_te)\n",
        "\n",
        "\n",
        "print(\"######## ECE: ##############\")\n",
        "#print(f\"Local accuracy: {local_acc}, predicted confidence {np.mean(np.max(y_local_te,axis=1))}, ECE {np.abs(local_acc - np.mean(np.max(y_local_te,axis=1)))}\")\n",
        "#print(f\"NonDP accuracy: {nondp_acc}, predicted confidence {np.mean(np.max(y_nondp_te,axis=1))}, ECE {np.abs(nondp_acc - np.mean(np.max(y_nondp_te,axis=1)))}\")\n",
        "\n",
        "\n",
        "plt.plot(0,0,linestyle='dashed',color='black')\n",
        "plt.plot(0,0,color='black')\n",
        "plt.plot(0,0,color='#1f77b4')\n",
        "plt.plot(0,0,color='#ff7f0e')\n",
        "#plt.plot([0.2338]*20,np.linspace(0,1500,20),linestyle='dashed',color='#1f77b4')\n",
        "plt.plot([sum(y_local_te_single==targets_te)/10000]*20,np.linspace(0,1500,20),linestyle='dashed',color='#ff7f0e',label='local Accu')\n",
        "#plt.plot([np.mean(np.max(y_global_te,axis=1))]*20,np.linspace(0,1500,20),color='#1f77b4')\n",
        "plt.plot([np.mean(np.max(y_local_te,axis=1))]*20,np.linspace(0,1500,20),color='#ff7f0e')\n",
        "\n",
        "#print('non DP accuracy:', np.mean(targets_te==y_noDP_te_single),' confidence:',np.mean(np.max(y_noDP_te,axis=1)),' difference:',np.mean(np.max(y_noDP_te,axis=1))-np.mean(targets_te==y_noDP_te_single))\n",
        "#print('DP local accuracy:', np.mean(targets_te==y_local_te_single),' confidence:',np.mean(np.max(y_local_te,axis=1)),' difference:',np.mean(np.max(y_local_te,axis=1))-np.mean(targets_te==y_local_te_single))\n",
        "#print('DP global accuracy:', np.mean(targets_te==y_global_te_single),' confidence:',np.mean(np.max(y_global_te,axis=1)),' difference:',np.mean(np.max(y_global_te,axis=1))-np.mean(targets_te==y_global_te_single))\n",
        "\n",
        "plt.hist(np.max(y_local_te,axis=1),bins=30)\n",
        "plt.ylim(0,1500)\n",
        "plt.xlim(0,1)\n",
        "plt.xlabel('Confidence', fontsize=15)\n",
        "plt.ylabel('Number of Samples', fontsize=15)\n",
        "plt.legend(('Accuracy','Avg Confidence'),fontsize=13,loc='upper left',frameon=False)\n",
        "plt.savefig('Confidence_DPMCD.pdf',format='pdf')\n",
        "plt.show()\n",
        "\n"
      ],
      "execution_count": null,
      "outputs": [
        {
          "output_type": "stream",
          "text": [
            "######## ECE: ##############\n"
          ],
          "name": "stdout"
        },
        {
          "output_type": "display_data",
          "data": {
            "image/png": "[encoded data removed]",
            "text/plain": [
              "<Figure size 432x288 with 1 Axes>"
            ]
          },
          "metadata": {
            "tags": []
          }
        }
      ]
    },
    {
      "cell_type": "code",
      "metadata": {
        "colab": {
          "base_uri": "https://localhost:8080/",
          "height": 375
        },
        "id": "hkLDVoh3PUTn",
        "outputId": "d242884a-4ab4-4840-8777-1b52df54d366"
      },
      "source": [
        "#%%\n",
        "store_local = []\n",
        "templ=np.max(y_local_te,axis=1)\n",
        "dr=0.05\n",
        "for ratio in np.arange(0,1,dr):\n",
        "    index=(templ>ratio)*(templ<ratio+dr)\n",
        "    store_local.append(np.mean(y_local_te_single[index]==targets_te[index]))\n",
        "store_local=np.array(store_local)\n",
        "store_local[np.isnan(store_local)]=0\n",
        "\n",
        "#%%\n",
        "xaxis=np.arange(0,1,dr)+dr/2\n",
        "plt.bar(xaxis[store_local!=0],store_local[store_local!=0],width=dr, edgecolor=\"black\")\n",
        "plt.bar(xaxis[store_local!=0],xaxis[store_local!=0]-store_local[store_local!=0],bottom=store_local[store_local!=0],width=dr, edgecolor=\"black\",color='yellow',alpha=0.5)\n",
        "plt.bar(10,10,bottom=store_local,width=dr, edgecolor=\"black\",color='green',alpha=0.5)\n",
        "plt.plot([0,1],[0,1],color='black',linewidth=2,linestyle='dashed')\n",
        "plt.xlim(0,1)\n",
        "plt.ylim(0,1)\n",
        "plt.xlabel('Confidence', fontsize=15)\n",
        "plt.ylabel('Accuracy', fontsize=15)\n",
        "plt.legend(('Perfect calibration','Accuracy','Over-confidence','Under-confidence'),fontsize=13,frameon=0)\n",
        "plt.savefig('Confidence_MNIST_detail_LOCAL.pdf',format='pdf')\n",
        "plt.show()\n",
        "\n",
        "max(abs((xaxis[store_local!=0]-store_local[store_local!=0])))\n"
      ],
      "execution_count": null,
      "outputs": [
        {
          "output_type": "stream",
          "text": [
            "/usr/local/lib/python3.7/dist-packages/numpy/core/fromnumeric.py:3373: RuntimeWarning: Mean of empty slice.\n",
            "  out=out, **kwargs)\n",
            "/usr/local/lib/python3.7/dist-packages/numpy/core/_methods.py:170: RuntimeWarning: invalid value encountered in double_scalars\n",
            "  ret = ret.dtype.type(ret / rcount)\n"
          ],
          "name": "stderr"
        },
        {
          "output_type": "display_data",
          "data": {
            "image/png": "[encoded data removed]",
            "text/plain": [
              "<Figure size 432x288 with 1 Axes>"
            ]
          },
          "metadata": {
            "tags": []
          }
        },
        {
          "output_type": "execute_result",
          "data": {
            "text/plain": [
              "0.16346153846153855"
            ]
          },
          "metadata": {
            "tags": []
          },
          "execution_count": 55
        }
      ]
    },
    {
      "cell_type": "markdown",
      "metadata": {
        "id": "rV-PuFB7wf96"
      },
      "source": [
        "# Prediction Uncertainty "
      ]
    },
    {
      "cell_type": "code",
      "metadata": {
        "colab": {
          "base_uri": "https://localhost:8080/",
          "height": 355
        },
        "id": "_uGJhx1UjCv8",
        "outputId": "d9ae5143-1a31-4299-da64-06c19c6a4b80"
      },
      "source": [
        "# set batch_size = 1 and find which index of the graph in the testloader is not predicted well by the current method \n",
        "# condition I err.cpu().detach().numpy()==1 : prediction is wrong \n",
        "# condition II np.max(probs.cpu().detach().numpy())<0.2 : unconfident prediction \n",
        "valloader_plot = torch.utils.data.DataLoader(valset, batch_size=1, shuffle=False)\n",
        "import torchvision\n",
        "\n",
        "for j, (x, y) in enumerate(valloader_plot):\n",
        "    cost, err, probs = net.eval(x, y)\n",
        "    if err.cpu().detach().numpy()==1 and np.max(probs.cpu().detach().numpy())<0.2:\n",
        "      img=torchvision.utils.make_grid(x*0.3081+0.1307)\n",
        "      plt.imshow(np.transpose(img, (1, 2, 0)))\n",
        "      plt.show()\n",
        "      print(j,y,probs.data.max(dim=1, keepdim=False)[1],probs)\n"
      ],
      "execution_count": null,
      "outputs": [
        {
          "output_type": "stream",
          "text": [
            "/usr/local/lib/python3.7/dist-packages/torch/nn/modules/module.py:795: UserWarning: Using a non-full backward hook when the forward contains multiple autograd Nodes is deprecated and will be removed in future versions. This hook will be missing some grad_input. Please use register_full_backward_hook to get the documented behavior.\n",
            "  warnings.warn(\"Using a non-full backward hook when the forward contains multiple autograd Nodes \"\n"
          ],
          "name": "stderr"
        },
        {
          "output_type": "display_data",
          "data": {
            "image/png": "[encoded data removed]",
            "text/plain": [
              "<Figure size 432x288 with 1 Axes>"
            ]
          },
          "metadata": {
            "tags": []
          }
        },
        {
          "output_type": "stream",
          "text": [
            "7531 tensor([5]) tensor([1]) tensor([[0.0137, 0.1875, 0.0583, 0.0682, 0.1357, 0.1573, 0.0673, 0.1235, 0.0927,\n",
            "         0.0959]])\n"
          ],
          "name": "stdout"
        }
      ]
    },
    {
      "cell_type": "code",
      "metadata": {
        "colab": {
          "base_uri": "https://localhost:8080/",
          "height": 942
        },
        "id": "AsEQYftwndET",
        "outputId": "037610fa-ef97-47b9-feda-a80ef3856932"
      },
      "source": [
        "import matplotlib.pyplot as plt\n",
        "import seaborn as sns\n",
        "sns.set()\n",
        "\n",
        "hist_prob = []\n",
        "err_rate = 0\n",
        "for j, (x, y) in enumerate(valloader_plot):\n",
        "  if j==195:\n",
        "    for i in range(100):\n",
        "      cost, err, probs = net.sample_eval(x, y,1,logits=False)\n",
        "      hist_prob.append(np.array(probs.cpu().detach().numpy())[0])\n",
        "      err_rate += err.cpu().detach().numpy()\n",
        "    img=torchvision.utils.make_grid(x*0.3081+0.1307)\n",
        "    plt.imshow(np.transpose(img, (1, 2, 0)))\n",
        "    plt.show()\n",
        "    plt.savefig('uncertain_number',bbox_inches = 'tight')\n",
        "    print(j,y,probs.data.max(dim=1, keepdim=False)[1],probs)\n",
        "    break\n",
        "\n",
        "\n",
        "prob_list = [[],[],[],[],[],[],[],[],[],[]]\n",
        "\n",
        "k = 0\n",
        "for l in hist_prob:\n",
        "    for k in range(10):\n",
        "      prob_list[k].append(l[k])\n",
        "\n",
        "fig, ax = plt.subplots(nrows=1, ncols=1)\n",
        "\n",
        "plt.hist(prob_list,bins=5)\n",
        "plt.xlim([0,1])\n",
        "plt.legend(['0','1','2','3','4','5','6','7','8','9'],loc='upper right')\n",
        "plt.savefig('dp_mcb_hist3.pdf',bbox_inches = 'tight')\n",
        "\n",
        "plt.show()\n",
        "\n",
        "import matplotlib.pyplot as plt\n",
        "import seaborn as sns\n",
        "sns.set()\n",
        "\n",
        "hist_prob = []\n",
        "err_rate = 0\n",
        "for j, (x, y) in enumerate(valloader_plot):\n",
        "  if j==404:\n",
        "    for i in range(100):\n",
        "      cost, err, probs = net.sample_eval(x, y,1,logits=False)\n",
        "      hist_prob.append(np.array(probs.cpu().detach().numpy())[0])\n",
        "      err_rate += err.cpu().detach().numpy()\n",
        "    img=torchvision.utils.make_grid(x*0.3081+0.1307)\n",
        "    #plt.imshow(np.transpose(img, (1, 2, 0)))\n",
        "    #plt.show()\n",
        "    #plt.savefig('uncertain_number',bbox_inches = 'tight')\n",
        "    print(j,y,probs.data.max(dim=1, keepdim=False)[1],probs)\n",
        "    break\n",
        "\n",
        "\n",
        "prob_list = [[],[],[],[],[],[],[],[],[],[]]\n",
        "\n",
        "k = 0\n",
        "for l in hist_prob:\n",
        "    for k in range(10):\n",
        "      prob_list[k].append(l[k])\n",
        "\n",
        "fig, ax = plt.subplots(nrows=1, ncols=1)\n",
        "\n",
        "plt.hist(prob_list,bins=5)\n",
        "plt.xlim([0,1])\n",
        "plt.legend(['0','1','2','3','4','5','6','7','8','9'],loc='upper right',bbox_to_anchor=(1.02,1))\n",
        "plt.savefig('dp_mcb_hist2.pdf',bbox_inches = 'tight')\n",
        "plt.show()\n",
        "\n",
        "\n"
      ],
      "execution_count": null,
      "outputs": [
        {
          "output_type": "stream",
          "text": [
            "/usr/local/lib/python3.7/dist-packages/torch/nn/modules/module.py:795: UserWarning: Using a non-full backward hook when the forward contains multiple autograd Nodes is deprecated and will be removed in future versions. This hook will be missing some grad_input. Please use register_full_backward_hook to get the documented behavior.\n",
            "  warnings.warn(\"Using a non-full backward hook when the forward contains multiple autograd Nodes \"\n"
          ],
          "name": "stderr"
        },
        {
          "output_type": "display_data",
          "data": {
            "image/png": "[encoded data removed]",
            "text/plain": [
              "<Figure size 432x288 with 1 Axes>"
            ]
          },
          "metadata": {
            "tags": []
          }
        },
        {
          "output_type": "stream",
          "text": [
            "195 tensor([3]) tensor([3]) tensor([[0.0066, 0.1409, 0.0386, 0.2575, 0.1242, 0.1673, 0.0307, 0.0648, 0.0522,\n",
            "         0.1173]])\n"
          ],
          "name": "stdout"
        },
        {
          "output_type": "display_data",
          "data": {
            "text/plain": [
              "<Figure size 432x288 with 0 Axes>"
            ]
          },
          "metadata": {
            "tags": []
          }
        },
        {
          "output_type": "display_data",
          "data": {
            "image/png": "[encoded data removed]",
            "text/plain": [
              "<Figure size 432x288 with 1 Axes>"
            ]
          },
          "metadata": {
            "tags": []
          }
        },
        {
          "output_type": "stream",
          "text": [
            "/usr/local/lib/python3.7/dist-packages/torch/nn/modules/module.py:795: UserWarning: Using a non-full backward hook when the forward contains multiple autograd Nodes is deprecated and will be removed in future versions. This hook will be missing some grad_input. Please use register_full_backward_hook to get the documented behavior.\n",
            "  warnings.warn(\"Using a non-full backward hook when the forward contains multiple autograd Nodes \"\n"
          ],
          "name": "stderr"
        },
        {
          "output_type": "stream",
          "text": [
            "404 tensor([2]) tensor([2]) tensor([[0.0700, 0.0657, 0.5335, 0.0755, 0.0006, 0.0607, 0.0103, 0.0079, 0.1746,\n",
            "         0.0013]])\n"
          ],
          "name": "stdout"
        },
        {
          "output_type": "display_data",
          "data": {
            "image/png": "[encoded data removed]",
            "text/plain": [
              "<Figure size 432x288 with 1 Axes>"
            ]
          },
          "metadata": {
            "tags": []
          }
        }
      ]
    },
    {
      "cell_type": "markdown",
      "metadata": {
        "id": "LQQgjJVp9NM4"
      },
      "source": [
        "# Hetero Regression "
      ]
    },
    {
      "cell_type": "code",
      "metadata": {
        "id": "xAYPKSFrG8AF",
        "colab": {
          "base_uri": "https://localhost:8080/"
        },
        "outputId": "e65d17f2-099f-4e06-e6a5-8587c8a2c2c6"
      },
      "source": [
        "!pip3 install http://download.pytorch.org/whl/cu92/torch-0.4.1-cp36-cp36m-linux_x86_64.whl\n",
        "!pip3 install torchvision\n",
        "!pip3 install GPy\n",
        "\n",
        "import pandas as pd\n",
        "import zipfile\n",
        "import urllib.request\n",
        "import os\n",
        "import GPy\n",
        "import time\n",
        "import copy\n",
        "import math\n",
        "import matplotlib.pyplot as plt\n",
        "import numpy as np\n",
        "import seaborn as sns\n",
        "import torch\n",
        "import torch.nn as nn\n",
        "import torch.nn.functional as F\n",
        "from torch.autograd import Variable\n",
        "from torch.optim import Optimizer\n",
        "from torch.optim.sgd import SGD\n",
        "from sklearn.model_selection import KFold\n",
        "\n",
        "from torchvision import datasets, transforms\n",
        "from torchvision.utils import make_grid\n",
        "from tqdm import tqdm, trange\n",
        "from google.colab import files\n",
        "%config InlineBackend.figure_format = 'svg'"
      ],
      "execution_count": null,
      "outputs": [
        {
          "output_type": "stream",
          "text": [
            "\u001b[31mERROR: torch-0.4.1-cp36-cp36m-linux_x86_64.whl is not a supported wheel on this platform.\u001b[0m\n",
            "Requirement already satisfied: torchvision in /usr/local/lib/python3.7/dist-packages (0.10.0+cu102)\n",
            "Requirement already satisfied: numpy in /usr/local/lib/python3.7/dist-packages (from torchvision) (1.19.5)\n",
            "Requirement already satisfied: pillow>=5.3.0 in /usr/local/lib/python3.7/dist-packages (from torchvision) (7.1.2)\n",
            "Requirement already satisfied: torch==1.9.0 in /usr/local/lib/python3.7/dist-packages (from torchvision) (1.9.0+cu102)\n",
            "Requirement already satisfied: typing-extensions in /usr/local/lib/python3.7/dist-packages (from torch==1.9.0->torchvision) (3.7.4.3)\n",
            "Collecting GPy\n",
            "\u001b[?25l  Downloading https://files.pythonhosted.org/packages/ce/4a/43d6f07b8b493bc216ecf1d5c447809e8c9d0b1b18b0b9db496dfadd87ea/GPy-1.10.0.tar.gz (959kB)\n",
            "\u001b[K     |████████████████████████████████| 962kB 4.3MB/s \n",
            "\u001b[?25hRequirement already satisfied: numpy>=1.7 in /usr/local/lib/python3.7/dist-packages (from GPy) (1.19.5)\n",
            "Requirement already satisfied: six in /usr/local/lib/python3.7/dist-packages (from GPy) (1.15.0)\n",
            "Collecting paramz>=0.9.0\n",
            "\u001b[?25l  Downloading https://files.pythonhosted.org/packages/d8/37/4abbeb78d30f20d3402887f46e6e9f3ef32034a9dea65d243654c82c8553/paramz-0.9.5.tar.gz (71kB)\n",
            "\u001b[K     |████████████████████████████████| 71kB 11.3MB/s \n",
            "\u001b[?25hRequirement already satisfied: cython>=0.29 in /usr/local/lib/python3.7/dist-packages (from GPy) (0.29.23)\n",
            "Requirement already satisfied: scipy>=1.3.0 in /usr/local/lib/python3.7/dist-packages (from GPy) (1.4.1)\n",
            "Requirement already satisfied: decorator>=4.0.10 in /usr/local/lib/python3.7/dist-packages (from paramz>=0.9.0->GPy) (4.4.2)\n",
            "Building wheels for collected packages: GPy, paramz\n",
            "  Building wheel for GPy (setup.py) ... \u001b[?25l\u001b[?25hdone\n",
            "  Created wheel for GPy: filename=GPy-1.10.0-cp37-cp37m-linux_x86_64.whl size=2565026 sha256=a1228882a82c85d4819d30c68f1b75ec7829f0a98e1dc65efe780da3b76fbbbe\n",
            "  Stored in directory: /root/.cache/pip/wheels/23/99/8d/d0c3dee7db4af58190cde6abdb45e6a7ded2f9f01ff528dd0f\n",
            "  Building wheel for paramz (setup.py) ... \u001b[?25l\u001b[?25hdone\n",
            "  Created wheel for paramz: filename=paramz-0.9.5-cp37-none-any.whl size=102566 sha256=0aac6dd0daca92cc01a494cdd6a772e0971cd81dd8f48252d8044603ce2b9b3a\n",
            "  Stored in directory: /root/.cache/pip/wheels/c8/4a/0e/6e0dc85541825f991c431619e25b870d4b812c911214690cf8\n",
            "Successfully built GPy paramz\n",
            "Installing collected packages: paramz, GPy\n",
            "Successfully installed GPy-1.10.0 paramz-0.9.5\n"
          ],
          "name": "stdout"
        }
      ]
    },
    {
      "cell_type": "code",
      "metadata": {
        "id": "_1S5kt0omQ-N"
      },
      "source": [
        "def to_variable(var=(), cuda=True, volatile=False):\n",
        "    out = []\n",
        "    for v in var:\n",
        "        \n",
        "        if isinstance(v, np.ndarray):\n",
        "            v = torch.from_numpy(v).type(torch.FloatTensor)\n",
        "\n",
        "        if not v.is_cuda and cuda:\n",
        "            v = v.cuda()\n",
        "\n",
        "        if not isinstance(v, Variable):\n",
        "            v = Variable(v, volatile=volatile)\n",
        "\n",
        "        out.append(v)\n",
        "    return out\n",
        "    def log_gaussian_loss(output, target, sigma, no_dim):\n",
        "    exponent = -0.5*(target - output)**2/sigma**2\n",
        "    log_coeff = -no_dim*torch.log(sigma) - 0.5*no_dim*np.log(2*np.pi)\n",
        "    \n",
        "    return - (log_coeff + exponent).sum()\n",
        "\n",
        "\n",
        "def get_kl_divergence(weights, prior, varpost):\n",
        "    prior_loglik = prior.loglik(weights)\n",
        "    \n",
        "    varpost_loglik = varpost.loglik(weights)\n",
        "    varpost_lik = varpost_loglik.exp()\n",
        "    \n",
        "    return (varpost_lik*(varpost_loglik - prior_loglik)).sum()\n",
        "\n",
        "\n",
        "class gaussian:\n",
        "    def __init__(self, mu, sigma):\n",
        "        self.mu = mu\n",
        "        self.sigma = sigma\n",
        "        \n",
        "    def loglik(self, weights):\n",
        "        exponent = -0.5*(weights - self.mu)**2/self.sigma**2\n",
        "        log_coeff = -0.5*(np.log(2*np.pi) + 2*np.log(self.sigma))\n",
        "        \n",
        "        return (exponent + log_coeff).sum()\n",
        "class MC_Dropout_Model(nn.Module):\n",
        "    def __init__(self, input_dim, output_dim, num_units, drop_prob):\n",
        "        super(MC_Dropout_Model, self).__init__()\n",
        "        \n",
        "        self.input_dim = input_dim\n",
        "        self.output_dim = output_dim\n",
        "        self.drop_prob = drop_prob\n",
        "        \n",
        "        # network with two hidden and one output layer\n",
        "        self.layer1 = nn.Linear(input_dim, num_units)\n",
        "        self.layer2 = nn.Linear(num_units, 2*output_dim)\n",
        "        \n",
        "        self.activation = nn.ReLU(inplace = True)\n",
        "\n",
        "    \n",
        "    def forward(self, x):\n",
        "        \n",
        "        x = x.view(-1, self.input_dim)\n",
        "        \n",
        "        x = self.layer1(x)\n",
        "        x = self.activation(x)\n",
        "        \n",
        "        x = F.dropout(x, p=self.drop_prob, training=True)\n",
        "        \n",
        "        x = self.layer2(x)\n",
        "        \n",
        "        return x\n",
        "class MC_Dropout_Wrapper:\n",
        "    def __init__(self, network, learn_rate, batch_size, weight_decay):\n",
        "        \n",
        "        self.learn_rate = learn_rate\n",
        "        self.batch_size = batch_size\n",
        "        \n",
        "        self.network = network\n",
        "        self.network.cuda()\n",
        "        \n",
        "        self.optimizer = torch.optim.SGD(self.network.parameters(), lr=learn_rate, weight_decay=weight_decay)\n",
        "        self.loss_func = log_gaussian_loss\n",
        "    \n",
        "    def fit(self, x, y):\n",
        "        x, y = to_variable(var=(x, y), cuda=True)\n",
        "        \n",
        "        # reset gradient and total loss\n",
        "        self.optimizer.zero_grad()\n",
        "        \n",
        "        output = self.network(x)\n",
        "        loss = self.loss_func(output[:, :1], y, output[:, 1:].exp(), 1)\n",
        "        \n",
        "        loss.backward()\n",
        "        self.optimizer.step()\n",
        "\n",
        "        return loss, output[:, :1]\n",
        "    \n",
        "    def get_loss_and_rmse(self, x, y, num_samples):\n",
        "        x, y = to_variable(var=(x, y), cuda=True)\n",
        "        \n",
        "        means, stds = [], []\n",
        "        for i in range(num_samples):\n",
        "            output = self.network(x)\n",
        "            means.append(output[:, :1])\n",
        "            stds.append(output[:, 1:].exp())\n",
        "        \n",
        "        means, stds = torch.cat(means, dim=1), torch.cat(stds, dim=1)\n",
        "        mean = means.mean(dim=-1)[:, None]\n",
        "        std = ((means.var(dim=-1) + stds.mean(dim=-1)**2)**0.5)[:, None]\n",
        "        loss = self.loss_func(mean, y, std, 1)\n",
        "        \n",
        "        rmse = ((mean - y)**2).mean()**0.5\n",
        "\n",
        "        return loss.detach().cpu(), rmse.detach().cpu()"
      ],
      "execution_count": null,
      "outputs": []
    },
    {
      "cell_type": "markdown",
      "metadata": {
        "id": "kCkmUYwu8yFg"
      },
      "source": [
        "## Train on the regression model "
      ]
    },
    {
      "cell_type": "code",
      "metadata": {
        "id": "ym6HBK-s8GnO",
        "colab": {
          "base_uri": "https://localhost:8080/"
        },
        "outputId": "a7f78fdd-73db-4d3c-b626-0ddc20bac517"
      },
      "source": [
        "np.random.seed(5)\n",
        "no_points = 400\n",
        "lengthscale = 1\n",
        "variance = 1.0\n",
        "sig_noise = 0.3\n",
        "x = np.random.uniform(-3, 3, no_points)[:, None]\n",
        "x.sort(axis = 0)\n",
        "\n",
        "\n",
        "k = GPy.kern.RBF(input_dim=1, variance=variance, lengthscale=lengthscale)\n",
        "C = k.K(x, x) + np.eye(no_points)*(x + 2)**2*sig_noise**2\n",
        "\n",
        "y = np.random.multivariate_normal(np.zeros((no_points)), C)[:, None]\n",
        "y = (y - y.mean())\n",
        "x_train = x[75:325]\n",
        "y_train = y[75:325]\n",
        "\n",
        "print(x_train.shape, y_train.shape)\n",
        "num_epochs, batch_size = 2000, len(x_train)\n",
        "\n",
        "net = MC_Dropout_Wrapper(network=MC_Dropout_Model(input_dim=1, output_dim=1, num_units=200, drop_prob=0.5),\n",
        "                         learn_rate=1e-4, batch_size=batch_size, weight_decay=1e-2)\n",
        "\n",
        "fit_loss_train = np.zeros(num_epochs)\n",
        "best_net, best_loss = None, float('inf')\n",
        "nets, losses = [], []\n",
        "\n",
        "for i in range(num_epochs):\n",
        "    \n",
        "    loss = net.fit(x_train, y_train)[0]\n",
        "    y_hat = net.fit(x_train, y_train)[1] \n",
        "    if i % 200 == 0:\n",
        "        print('Epoch: %4d, Train loss = %7.3f' % (i, loss.cpu().data.numpy()/batch_size))\n",
        "np.power((y_hat.cpu().data.numpy()-y_train),2).sum()/250"
      ],
      "execution_count": null,
      "outputs": [
        {
          "output_type": "stream",
          "text": [
            "(250, 1) (250, 1)\n",
            "Epoch:    0, Train loss =   2.090\n",
            "Epoch:  200, Train loss =   0.958\n",
            "Epoch:  400, Train loss =   0.914\n",
            "Epoch:  600, Train loss =   0.926\n",
            "Epoch:  800, Train loss =   1.065\n",
            "Epoch: 1000, Train loss =   0.886\n",
            "Epoch: 1200, Train loss =   0.854\n",
            "Epoch: 1400, Train loss =   0.901\n",
            "Epoch: 1600, Train loss =   0.887\n",
            "Epoch: 1800, Train loss =   0.899\n"
          ],
          "name": "stdout"
        }
      ]
    },
    {
      "cell_type": "markdown",
      "metadata": {
        "id": "CUTu7TJZ9BHg"
      },
      "source": [
        "## Prediction Uncertainty of Regression model"
      ]
    },
    {
      "cell_type": "code",
      "metadata": {
        "id": "tvP-HbNH_Uen",
        "colab": {
          "base_uri": "https://localhost:8080/",
          "height": 456
        },
        "outputId": "d4258839-5231-40bb-acc6-78c767d4da39"
      },
      "source": [
        "samples = []\n",
        "noises = []\n",
        "for i in range(1000):\n",
        "    preds = net.network.forward(torch.linspace(-5, 5, 200).cuda()).cpu().data.numpy()\n",
        "    samples.append(preds[:, 0])\n",
        "    noises.append(np.exp(preds[:, 1]))\n",
        "    \n",
        "samples = np.array(samples)\n",
        "noises = np.array(noises)\n",
        "means = (samples.mean(axis = 0)).reshape(-1)\n",
        "\n",
        "aleatoric = (noises**2).mean(axis = 0)**0.5\n",
        "epistemic = (samples.var(axis = 0)**0.5).reshape(-1)\n",
        "total_unc = (aleatoric**2 + epistemic**2)**0.5\n",
        "\n",
        "\n",
        "c = ['#1f77b4', '#ff7f0e', '#2ca02c', '#d62728', '#9467bd',\n",
        "     '#8c564b', '#e377c2', '#7f7f7f', '#bcbd22', '#17becf']\n",
        "\n",
        "plt.figure(figsize = (6, 5))\n",
        "plt.style.use('default')\n",
        "plt.scatter(x_train, y_train, s = 10, marker = 'x', color = 'black', alpha = 0.5)\n",
        "plt.fill_between(np.linspace(-5, 5, 200), means + aleatoric, means + total_unc, color = c[0], alpha = 0.3, label = 'Epistemic + Aleatoric')\n",
        "plt.fill_between(np.linspace(-5, 5, 200), means - total_unc, means - aleatoric, color = c[0], alpha = 0.3)\n",
        "plt.fill_between(np.linspace(-5, 5, 200), means - aleatoric, means + aleatoric, color = c[1], alpha = 0.4, label = 'Aleatoric')\n",
        "plt.plot(np.linspace(-5, 5, 200), means, color = 'black', linewidth = 1)\n",
        "plt.xlim([-5, 5])\n",
        "plt.ylim([-5, 7])\n",
        "plt.xlabel('$x$', fontsize=16)\n",
        "plt.ylabel('$y$', fontsize=16)\n",
        "#plt.tick_params(labelsize=30)\n",
        "plt.xticks(np.arange(-4, 5, 2),fontsize=14)\n",
        "plt.yticks(np.arange(-4, 7, 2),fontsize=14)\n",
        "#plt.gca().set_yticklabels([])\n",
        "plt.gca().yaxis.grid(alpha=0.3)\n",
        "plt.gca().xaxis.grid(alpha=0.3)\n",
        "plt.savefig('mcd_hetero.pdf', bbox_inches = 'tight')\n",
        "\n",
        "files.download(\"mcd_hetero.pdf\")\n",
        "\n",
        "plt.show()"
      ],
      "execution_count": null,
      "outputs": [
        {
          "output_type": "display_data",
          "data": {
            "application/javascript": [
              "\n",
              "    async function download(id, filename, size) {\n",
              "      if (!google.colab.kernel.accessAllowed) {\n",
              "        return;\n",
              "      }\n",
              "      const div = document.createElement('div');\n",
              "      const label = document.createElement('label');\n",
              "      label.textContent = `Downloading \"${filename}\": `;\n",
              "      div.appendChild(label);\n",
              "      const progress = document.createElement('progress');\n",
              "      progress.max = size;\n",
              "      div.appendChild(progress);\n",
              "      document.body.appendChild(div);\n",
              "\n",
              "      const buffers = [];\n",
              "      let downloaded = 0;\n",
              "\n",
              "      const channel = await google.colab.kernel.comms.open(id);\n",
              "      // Send a message to notify the kernel that we're ready.\n",
              "      channel.send({})\n",
              "\n",
              "      for await (const message of channel.messages) {\n",
              "        // Send a message to notify the kernel that we're ready.\n",
              "        channel.send({})\n",
              "        if (message.buffers) {\n",
              "          for (const buffer of message.buffers) {\n",
              "            buffers.push(buffer);\n",
              "            downloaded += buffer.byteLength;\n",
              "            progress.value = downloaded;\n",
              "          }\n",
              "        }\n",
              "      }\n",
              "      const blob = new Blob(buffers, {type: 'application/binary'});\n",
              "      const a = document.createElement('a');\n",
              "      a.href = window.URL.createObjectURL(blob);\n",
              "      a.download = filename;\n",
              "      div.appendChild(a);\n",
              "      a.click();\n",
              "      div.remove();\n",
              "    }\n",
              "  "
            ],
            "text/plain": [
              "<IPython.core.display.Javascript object>"
            ]
          },
          "metadata": {
            "tags": []
          }
        },
        {
          "output_type": "display_data",
          "data": {
            "application/javascript": [
              "download(\"download_880d987f-533f-4c3b-b140-a62585398acb\", \"mcd_hetero.pdf\", 21303)"
            ],
            "text/plain": [
              "<IPython.core.display.Javascript object>"
            ]
          },
          "metadata": {
            "tags": []
          }
        },
        {
          "output_type": "display_data",
          "data": {
            "text/plain": [
              "<Figure size 432x360 with 1 Axes>"
            ],
            "image/svg+xml": "<?xml version=\"1.0\" encoding=\"utf-8\" standalone=\"no\"?>\n<!DOCTYPE svg PUBLIC \"-//W3C//DTD SVG 1.1//EN\"\n  \"http://www.w3.org/Graphics/SVG/1.1/DTD/svg11.dtd\">\n<!-- Created with matplotlib (https://matplotlib.org/) -->\n<svg height=\"326.234375pt\" version=\"1.1\" viewBox=\"0 0 396.324063 326.234375\" width=\"396.324063pt\" xmlns=\"http://www.w3.org/2000/svg\" xmlns:xlink=\"http://www.w3.org/1999/xlink\">\n <defs>\n  <style type=\"text/css\">\n*{stroke-linecap:butt;stroke-linejoin:round;}\n  </style>\n </defs>\n <g id=\"figure_1\">\n  <g id=\"patch_1\">\n   <path d=\"M 0 326.234375 \nL 396.324063 326.234375 \nL 396.324063 0 \nL 0 0 \nz\n\" style=\"fill:none;\"/>\n  </g>\n  <g id=\"axes_1\">\n   <g id=\"patch_2\">\n    <path d=\"M 54.324063 279 \nL 389.124063 279 \nL 389.124063 7.2 \nL 54.324063 7.2 \nz\n\" style=\"fill:#ffffff;\"/>\n   </g>\n   <g id=\"PathCollection_1\">\n    <defs>\n     <path d=\"M -1.581139 1.581139 \nL 1.581139 -1.581139 \nM -1.581139 -1.581139 \nL 1.581139 1.581139 \n\" id=\"mbd096a04c1\" style=\"stroke:#000000;stroke-opacity:0.5;stroke-width:1.5;\"/>\n    </defs>\n    <g clip-path=\"url(#pafc659caee)\">\n     <use style=\"fill-opacity:0.5;stroke:#000000;stroke-opacity:0.5;stroke-width:1.5;\" x=\"162.766321\" xlink:href=\"#mbd096a04c1\" y=\"182.981995\"/>\n     <use style=\"fill-opacity:0.5;stroke:#000000;stroke-opacity:0.5;stroke-width:1.5;\" x=\"162.809806\" xlink:href=\"#mbd096a04c1\" y=\"184.939258\"/>\n     <use style=\"fill-opacity:0.5;stroke:#000000;stroke-opacity:0.5;stroke-width:1.5;\" x=\"162.975168\" xlink:href=\"#mbd096a04c1\" y=\"183.35877\"/>\n     <use style=\"fill-opacity:0.5;stroke:#000000;stroke-opacity:0.5;stroke-width:1.5;\" x=\"163.698067\" xlink:href=\"#mbd096a04c1\" y=\"183.11616\"/>\n     <use style=\"fill-opacity:0.5;stroke:#000000;stroke-opacity:0.5;stroke-width:1.5;\" x=\"164.080535\" xlink:href=\"#mbd096a04c1\" y=\"182.47427\"/>\n     <use style=\"fill-opacity:0.5;stroke:#000000;stroke-opacity:0.5;stroke-width:1.5;\" x=\"165.175897\" xlink:href=\"#mbd096a04c1\" y=\"181.832427\"/>\n     <use style=\"fill-opacity:0.5;stroke:#000000;stroke-opacity:0.5;stroke-width:1.5;\" x=\"165.212848\" xlink:href=\"#mbd096a04c1\" y=\"187.656221\"/>\n     <use style=\"fill-opacity:0.5;stroke:#000000;stroke-opacity:0.5;stroke-width:1.5;\" x=\"165.532307\" xlink:href=\"#mbd096a04c1\" y=\"180.82756\"/>\n     <use style=\"fill-opacity:0.5;stroke:#000000;stroke-opacity:0.5;stroke-width:1.5;\" x=\"165.775519\" xlink:href=\"#mbd096a04c1\" y=\"183.358604\"/>\n     <use style=\"fill-opacity:0.5;stroke:#000000;stroke-opacity:0.5;stroke-width:1.5;\" x=\"165.878051\" xlink:href=\"#mbd096a04c1\" y=\"181.458186\"/>\n     <use style=\"fill-opacity:0.5;stroke:#000000;stroke-opacity:0.5;stroke-width:1.5;\" x=\"166.218523\" xlink:href=\"#mbd096a04c1\" y=\"183.101432\"/>\n     <use style=\"fill-opacity:0.5;stroke:#000000;stroke-opacity:0.5;stroke-width:1.5;\" x=\"167.693946\" xlink:href=\"#mbd096a04c1\" y=\"182.133742\"/>\n     <use style=\"fill-opacity:0.5;stroke:#000000;stroke-opacity:0.5;stroke-width:1.5;\" x=\"168.624174\" xlink:href=\"#mbd096a04c1\" y=\"172.99376\"/>\n     <use style=\"fill-opacity:0.5;stroke:#000000;stroke-opacity:0.5;stroke-width:1.5;\" x=\"169.423034\" xlink:href=\"#mbd096a04c1\" y=\"179.241081\"/>\n     <use style=\"fill-opacity:0.5;stroke:#000000;stroke-opacity:0.5;stroke-width:1.5;\" x=\"169.868709\" xlink:href=\"#mbd096a04c1\" y=\"180.339707\"/>\n     <use style=\"fill-opacity:0.5;stroke:#000000;stroke-opacity:0.5;stroke-width:1.5;\" x=\"169.918652\" xlink:href=\"#mbd096a04c1\" y=\"184.527282\"/>\n     <use style=\"fill-opacity:0.5;stroke:#000000;stroke-opacity:0.5;stroke-width:1.5;\" x=\"170.357212\" xlink:href=\"#mbd096a04c1\" y=\"182.229025\"/>\n     <use style=\"fill-opacity:0.5;stroke:#000000;stroke-opacity:0.5;stroke-width:1.5;\" x=\"170.626417\" xlink:href=\"#mbd096a04c1\" y=\"185.731591\"/>\n     <use style=\"fill-opacity:0.5;stroke:#000000;stroke-opacity:0.5;stroke-width:1.5;\" x=\"171.754181\" xlink:href=\"#mbd096a04c1\" y=\"173.258293\"/>\n     <use style=\"fill-opacity:0.5;stroke:#000000;stroke-opacity:0.5;stroke-width:1.5;\" x=\"172.224861\" xlink:href=\"#mbd096a04c1\" y=\"172.307695\"/>\n     <use style=\"fill-opacity:0.5;stroke:#000000;stroke-opacity:0.5;stroke-width:1.5;\" x=\"172.988034\" xlink:href=\"#mbd096a04c1\" y=\"178.13945\"/>\n     <use style=\"fill-opacity:0.5;stroke:#000000;stroke-opacity:0.5;stroke-width:1.5;\" x=\"173.148543\" xlink:href=\"#mbd096a04c1\" y=\"175.894009\"/>\n     <use style=\"fill-opacity:0.5;stroke:#000000;stroke-opacity:0.5;stroke-width:1.5;\" x=\"173.331588\" xlink:href=\"#mbd096a04c1\" y=\"175.405804\"/>\n     <use style=\"fill-opacity:0.5;stroke:#000000;stroke-opacity:0.5;stroke-width:1.5;\" x=\"174.364267\" xlink:href=\"#mbd096a04c1\" y=\"176.977891\"/>\n     <use style=\"fill-opacity:0.5;stroke:#000000;stroke-opacity:0.5;stroke-width:1.5;\" x=\"174.539895\" xlink:href=\"#mbd096a04c1\" y=\"173.75447\"/>\n     <use style=\"fill-opacity:0.5;stroke:#000000;stroke-opacity:0.5;stroke-width:1.5;\" x=\"174.563514\" xlink:href=\"#mbd096a04c1\" y=\"178.379985\"/>\n     <use style=\"fill-opacity:0.5;stroke:#000000;stroke-opacity:0.5;stroke-width:1.5;\" x=\"174.681807\" xlink:href=\"#mbd096a04c1\" y=\"177.320142\"/>\n     <use style=\"fill-opacity:0.5;stroke:#000000;stroke-opacity:0.5;stroke-width:1.5;\" x=\"176.342551\" xlink:href=\"#mbd096a04c1\" y=\"178.483545\"/>\n     <use style=\"fill-opacity:0.5;stroke:#000000;stroke-opacity:0.5;stroke-width:1.5;\" x=\"176.492798\" xlink:href=\"#mbd096a04c1\" y=\"173.066397\"/>\n     <use style=\"fill-opacity:0.5;stroke:#000000;stroke-opacity:0.5;stroke-width:1.5;\" x=\"177.160026\" xlink:href=\"#mbd096a04c1\" y=\"169.836743\"/>\n     <use style=\"fill-opacity:0.5;stroke:#000000;stroke-opacity:0.5;stroke-width:1.5;\" x=\"177.325097\" xlink:href=\"#mbd096a04c1\" y=\"173.05263\"/>\n     <use style=\"fill-opacity:0.5;stroke:#000000;stroke-opacity:0.5;stroke-width:1.5;\" x=\"178.471762\" xlink:href=\"#mbd096a04c1\" y=\"170.627474\"/>\n     <use style=\"fill-opacity:0.5;stroke:#000000;stroke-opacity:0.5;stroke-width:1.5;\" x=\"178.571235\" xlink:href=\"#mbd096a04c1\" y=\"172.106727\"/>\n     <use style=\"fill-opacity:0.5;stroke:#000000;stroke-opacity:0.5;stroke-width:1.5;\" x=\"180.037537\" xlink:href=\"#mbd096a04c1\" y=\"168.694049\"/>\n     <use style=\"fill-opacity:0.5;stroke:#000000;stroke-opacity:0.5;stroke-width:1.5;\" x=\"180.513635\" xlink:href=\"#mbd096a04c1\" y=\"174.991911\"/>\n     <use style=\"fill-opacity:0.5;stroke:#000000;stroke-opacity:0.5;stroke-width:1.5;\" x=\"180.582127\" xlink:href=\"#mbd096a04c1\" y=\"181.395268\"/>\n     <use style=\"fill-opacity:0.5;stroke:#000000;stroke-opacity:0.5;stroke-width:1.5;\" x=\"180.744026\" xlink:href=\"#mbd096a04c1\" y=\"172.419315\"/>\n     <use style=\"fill-opacity:0.5;stroke:#000000;stroke-opacity:0.5;stroke-width:1.5;\" x=\"180.760599\" xlink:href=\"#mbd096a04c1\" y=\"167.366809\"/>\n     <use style=\"fill-opacity:0.5;stroke:#000000;stroke-opacity:0.5;stroke-width:1.5;\" x=\"180.905347\" xlink:href=\"#mbd096a04c1\" y=\"171.1388\"/>\n     <use style=\"fill-opacity:0.5;stroke:#000000;stroke-opacity:0.5;stroke-width:1.5;\" x=\"181.34374\" xlink:href=\"#mbd096a04c1\" y=\"173.138293\"/>\n     <use style=\"fill-opacity:0.5;stroke:#000000;stroke-opacity:0.5;stroke-width:1.5;\" x=\"181.647673\" xlink:href=\"#mbd096a04c1\" y=\"175.264443\"/>\n     <use style=\"fill-opacity:0.5;stroke:#000000;stroke-opacity:0.5;stroke-width:1.5;\" x=\"181.926942\" xlink:href=\"#mbd096a04c1\" y=\"163.366883\"/>\n     <use style=\"fill-opacity:0.5;stroke:#000000;stroke-opacity:0.5;stroke-width:1.5;\" x=\"182.053901\" xlink:href=\"#mbd096a04c1\" y=\"164.579735\"/>\n     <use style=\"fill-opacity:0.5;stroke:#000000;stroke-opacity:0.5;stroke-width:1.5;\" x=\"182.662651\" xlink:href=\"#mbd096a04c1\" y=\"167.369134\"/>\n     <use style=\"fill-opacity:0.5;stroke:#000000;stroke-opacity:0.5;stroke-width:1.5;\" x=\"183.40234\" xlink:href=\"#mbd096a04c1\" y=\"168.129137\"/>\n     <use style=\"fill-opacity:0.5;stroke:#000000;stroke-opacity:0.5;stroke-width:1.5;\" x=\"185.103679\" xlink:href=\"#mbd096a04c1\" y=\"161.491378\"/>\n     <use style=\"fill-opacity:0.5;stroke:#000000;stroke-opacity:0.5;stroke-width:1.5;\" x=\"185.293759\" xlink:href=\"#mbd096a04c1\" y=\"174.732323\"/>\n     <use style=\"fill-opacity:0.5;stroke:#000000;stroke-opacity:0.5;stroke-width:1.5;\" x=\"185.775328\" xlink:href=\"#mbd096a04c1\" y=\"169.471783\"/>\n     <use style=\"fill-opacity:0.5;stroke:#000000;stroke-opacity:0.5;stroke-width:1.5;\" x=\"187.085108\" xlink:href=\"#mbd096a04c1\" y=\"158.341717\"/>\n     <use style=\"fill-opacity:0.5;stroke:#000000;stroke-opacity:0.5;stroke-width:1.5;\" x=\"187.625336\" xlink:href=\"#mbd096a04c1\" y=\"158.403654\"/>\n     <use style=\"fill-opacity:0.5;stroke:#000000;stroke-opacity:0.5;stroke-width:1.5;\" x=\"187.715963\" xlink:href=\"#mbd096a04c1\" y=\"161.108364\"/>\n     <use style=\"fill-opacity:0.5;stroke:#000000;stroke-opacity:0.5;stroke-width:1.5;\" x=\"187.985895\" xlink:href=\"#mbd096a04c1\" y=\"178.620435\"/>\n     <use style=\"fill-opacity:0.5;stroke:#000000;stroke-opacity:0.5;stroke-width:1.5;\" x=\"189.24953\" xlink:href=\"#mbd096a04c1\" y=\"155.179841\"/>\n     <use style=\"fill-opacity:0.5;stroke:#000000;stroke-opacity:0.5;stroke-width:1.5;\" x=\"189.716591\" xlink:href=\"#mbd096a04c1\" y=\"168.364416\"/>\n     <use style=\"fill-opacity:0.5;stroke:#000000;stroke-opacity:0.5;stroke-width:1.5;\" x=\"190.147341\" xlink:href=\"#mbd096a04c1\" y=\"153.687672\"/>\n     <use style=\"fill-opacity:0.5;stroke:#000000;stroke-opacity:0.5;stroke-width:1.5;\" x=\"190.410675\" xlink:href=\"#mbd096a04c1\" y=\"147.479265\"/>\n     <use style=\"fill-opacity:0.5;stroke:#000000;stroke-opacity:0.5;stroke-width:1.5;\" x=\"190.794198\" xlink:href=\"#mbd096a04c1\" y=\"148.224161\"/>\n     <use style=\"fill-opacity:0.5;stroke:#000000;stroke-opacity:0.5;stroke-width:1.5;\" x=\"191.135898\" xlink:href=\"#mbd096a04c1\" y=\"166.328724\"/>\n     <use style=\"fill-opacity:0.5;stroke:#000000;stroke-opacity:0.5;stroke-width:1.5;\" x=\"191.256994\" xlink:href=\"#mbd096a04c1\" y=\"159.086438\"/>\n     <use style=\"fill-opacity:0.5;stroke:#000000;stroke-opacity:0.5;stroke-width:1.5;\" x=\"191.356545\" xlink:href=\"#mbd096a04c1\" y=\"151.280846\"/>\n     <use style=\"fill-opacity:0.5;stroke:#000000;stroke-opacity:0.5;stroke-width:1.5;\" x=\"191.628136\" xlink:href=\"#mbd096a04c1\" y=\"151.99507\"/>\n     <use style=\"fill-opacity:0.5;stroke:#000000;stroke-opacity:0.5;stroke-width:1.5;\" x=\"192.012893\" xlink:href=\"#mbd096a04c1\" y=\"155.219062\"/>\n     <use style=\"fill-opacity:0.5;stroke:#000000;stroke-opacity:0.5;stroke-width:1.5;\" x=\"192.553366\" xlink:href=\"#mbd096a04c1\" y=\"144.85238\"/>\n     <use style=\"fill-opacity:0.5;stroke:#000000;stroke-opacity:0.5;stroke-width:1.5;\" x=\"192.761501\" xlink:href=\"#mbd096a04c1\" y=\"148.298572\"/>\n     <use style=\"fill-opacity:0.5;stroke:#000000;stroke-opacity:0.5;stroke-width:1.5;\" x=\"193.597487\" xlink:href=\"#mbd096a04c1\" y=\"146.740846\"/>\n     <use style=\"fill-opacity:0.5;stroke:#000000;stroke-opacity:0.5;stroke-width:1.5;\" x=\"193.811469\" xlink:href=\"#mbd096a04c1\" y=\"155.094772\"/>\n     <use style=\"fill-opacity:0.5;stroke:#000000;stroke-opacity:0.5;stroke-width:1.5;\" x=\"194.110635\" xlink:href=\"#mbd096a04c1\" y=\"165.803933\"/>\n     <use style=\"fill-opacity:0.5;stroke:#000000;stroke-opacity:0.5;stroke-width:1.5;\" x=\"194.32399\" xlink:href=\"#mbd096a04c1\" y=\"139.839957\"/>\n     <use style=\"fill-opacity:0.5;stroke:#000000;stroke-opacity:0.5;stroke-width:1.5;\" x=\"194.547043\" xlink:href=\"#mbd096a04c1\" y=\"146.410896\"/>\n     <use style=\"fill-opacity:0.5;stroke:#000000;stroke-opacity:0.5;stroke-width:1.5;\" x=\"194.662806\" xlink:href=\"#mbd096a04c1\" y=\"144.350087\"/>\n     <use style=\"fill-opacity:0.5;stroke:#000000;stroke-opacity:0.5;stroke-width:1.5;\" x=\"194.672159\" xlink:href=\"#mbd096a04c1\" y=\"160.123691\"/>\n     <use style=\"fill-opacity:0.5;stroke:#000000;stroke-opacity:0.5;stroke-width:1.5;\" x=\"194.701237\" xlink:href=\"#mbd096a04c1\" y=\"145.679587\"/>\n     <use style=\"fill-opacity:0.5;stroke:#000000;stroke-opacity:0.5;stroke-width:1.5;\" x=\"195.256596\" xlink:href=\"#mbd096a04c1\" y=\"149.940373\"/>\n     <use style=\"fill-opacity:0.5;stroke:#000000;stroke-opacity:0.5;stroke-width:1.5;\" x=\"195.782975\" xlink:href=\"#mbd096a04c1\" y=\"144.331148\"/>\n     <use style=\"fill-opacity:0.5;stroke:#000000;stroke-opacity:0.5;stroke-width:1.5;\" x=\"195.891888\" xlink:href=\"#mbd096a04c1\" y=\"158.124551\"/>\n     <use style=\"fill-opacity:0.5;stroke:#000000;stroke-opacity:0.5;stroke-width:1.5;\" x=\"195.913517\" xlink:href=\"#mbd096a04c1\" y=\"130.359232\"/>\n     <use style=\"fill-opacity:0.5;stroke:#000000;stroke-opacity:0.5;stroke-width:1.5;\" x=\"196.098294\" xlink:href=\"#mbd096a04c1\" y=\"151.801347\"/>\n     <use style=\"fill-opacity:0.5;stroke:#000000;stroke-opacity:0.5;stroke-width:1.5;\" x=\"196.355835\" xlink:href=\"#mbd096a04c1\" y=\"150.527921\"/>\n     <use style=\"fill-opacity:0.5;stroke:#000000;stroke-opacity:0.5;stroke-width:1.5;\" x=\"196.821374\" xlink:href=\"#mbd096a04c1\" y=\"141.939875\"/>\n     <use style=\"fill-opacity:0.5;stroke:#000000;stroke-opacity:0.5;stroke-width:1.5;\" x=\"197.432175\" xlink:href=\"#mbd096a04c1\" y=\"146.981498\"/>\n     <use style=\"fill-opacity:0.5;stroke:#000000;stroke-opacity:0.5;stroke-width:1.5;\" x=\"197.573945\" xlink:href=\"#mbd096a04c1\" y=\"138.380094\"/>\n     <use style=\"fill-opacity:0.5;stroke:#000000;stroke-opacity:0.5;stroke-width:1.5;\" x=\"197.75447\" xlink:href=\"#mbd096a04c1\" y=\"148.65501\"/>\n     <use style=\"fill-opacity:0.5;stroke:#000000;stroke-opacity:0.5;stroke-width:1.5;\" x=\"198.303276\" xlink:href=\"#mbd096a04c1\" y=\"138.715735\"/>\n     <use style=\"fill-opacity:0.5;stroke:#000000;stroke-opacity:0.5;stroke-width:1.5;\" x=\"199.28439\" xlink:href=\"#mbd096a04c1\" y=\"153.675774\"/>\n     <use style=\"fill-opacity:0.5;stroke:#000000;stroke-opacity:0.5;stroke-width:1.5;\" x=\"201.424095\" xlink:href=\"#mbd096a04c1\" y=\"157.580467\"/>\n     <use style=\"fill-opacity:0.5;stroke:#000000;stroke-opacity:0.5;stroke-width:1.5;\" x=\"203.058083\" xlink:href=\"#mbd096a04c1\" y=\"135.761617\"/>\n     <use style=\"fill-opacity:0.5;stroke:#000000;stroke-opacity:0.5;stroke-width:1.5;\" x=\"203.179972\" xlink:href=\"#mbd096a04c1\" y=\"145.317916\"/>\n     <use style=\"fill-opacity:0.5;stroke:#000000;stroke-opacity:0.5;stroke-width:1.5;\" x=\"203.922803\" xlink:href=\"#mbd096a04c1\" y=\"141.304222\"/>\n     <use style=\"fill-opacity:0.5;stroke:#000000;stroke-opacity:0.5;stroke-width:1.5;\" x=\"204.495593\" xlink:href=\"#mbd096a04c1\" y=\"136.428545\"/>\n     <use style=\"fill-opacity:0.5;stroke:#000000;stroke-opacity:0.5;stroke-width:1.5;\" x=\"205.383298\" xlink:href=\"#mbd096a04c1\" y=\"132.587101\"/>\n     <use style=\"fill-opacity:0.5;stroke:#000000;stroke-opacity:0.5;stroke-width:1.5;\" x=\"205.966156\" xlink:href=\"#mbd096a04c1\" y=\"129.836881\"/>\n     <use style=\"fill-opacity:0.5;stroke:#000000;stroke-opacity:0.5;stroke-width:1.5;\" x=\"206.426971\" xlink:href=\"#mbd096a04c1\" y=\"150.56744\"/>\n     <use style=\"fill-opacity:0.5;stroke:#000000;stroke-opacity:0.5;stroke-width:1.5;\" x=\"206.78609\" xlink:href=\"#mbd096a04c1\" y=\"146.31018\"/>\n     <use style=\"fill-opacity:0.5;stroke:#000000;stroke-opacity:0.5;stroke-width:1.5;\" x=\"206.787432\" xlink:href=\"#mbd096a04c1\" y=\"155.813831\"/>\n     <use style=\"fill-opacity:0.5;stroke:#000000;stroke-opacity:0.5;stroke-width:1.5;\" x=\"208.251159\" xlink:href=\"#mbd096a04c1\" y=\"115.872575\"/>\n     <use style=\"fill-opacity:0.5;stroke:#000000;stroke-opacity:0.5;stroke-width:1.5;\" x=\"208.343022\" xlink:href=\"#mbd096a04c1\" y=\"145.200361\"/>\n     <use style=\"fill-opacity:0.5;stroke:#000000;stroke-opacity:0.5;stroke-width:1.5;\" x=\"208.975324\" xlink:href=\"#mbd096a04c1\" y=\"137.256122\"/>\n     <use style=\"fill-opacity:0.5;stroke:#000000;stroke-opacity:0.5;stroke-width:1.5;\" x=\"209.30343\" xlink:href=\"#mbd096a04c1\" y=\"141.930027\"/>\n     <use style=\"fill-opacity:0.5;stroke:#000000;stroke-opacity:0.5;stroke-width:1.5;\" x=\"209.92443\" xlink:href=\"#mbd096a04c1\" y=\"115.77846\"/>\n     <use style=\"fill-opacity:0.5;stroke:#000000;stroke-opacity:0.5;stroke-width:1.5;\" x=\"209.934259\" xlink:href=\"#mbd096a04c1\" y=\"140.897913\"/>\n     <use style=\"fill-opacity:0.5;stroke:#000000;stroke-opacity:0.5;stroke-width:1.5;\" x=\"210.375291\" xlink:href=\"#mbd096a04c1\" y=\"138.703206\"/>\n     <use style=\"fill-opacity:0.5;stroke:#000000;stroke-opacity:0.5;stroke-width:1.5;\" x=\"210.834852\" xlink:href=\"#mbd096a04c1\" y=\"126.257849\"/>\n     <use style=\"fill-opacity:0.5;stroke:#000000;stroke-opacity:0.5;stroke-width:1.5;\" x=\"210.998643\" xlink:href=\"#mbd096a04c1\" y=\"123.399238\"/>\n     <use style=\"fill-opacity:0.5;stroke:#000000;stroke-opacity:0.5;stroke-width:1.5;\" x=\"211.139726\" xlink:href=\"#mbd096a04c1\" y=\"145.553118\"/>\n     <use style=\"fill-opacity:0.5;stroke:#000000;stroke-opacity:0.5;stroke-width:1.5;\" x=\"211.510147\" xlink:href=\"#mbd096a04c1\" y=\"155.814803\"/>\n     <use style=\"fill-opacity:0.5;stroke:#000000;stroke-opacity:0.5;stroke-width:1.5;\" x=\"211.628548\" xlink:href=\"#mbd096a04c1\" y=\"131.554042\"/>\n     <use style=\"fill-opacity:0.5;stroke:#000000;stroke-opacity:0.5;stroke-width:1.5;\" x=\"212.16596\" xlink:href=\"#mbd096a04c1\" y=\"135.045408\"/>\n     <use style=\"fill-opacity:0.5;stroke:#000000;stroke-opacity:0.5;stroke-width:1.5;\" x=\"213.557406\" xlink:href=\"#mbd096a04c1\" y=\"113.664173\"/>\n     <use style=\"fill-opacity:0.5;stroke:#000000;stroke-opacity:0.5;stroke-width:1.5;\" x=\"214.022633\" xlink:href=\"#mbd096a04c1\" y=\"147.262676\"/>\n     <use style=\"fill-opacity:0.5;stroke:#000000;stroke-opacity:0.5;stroke-width:1.5;\" x=\"215.411108\" xlink:href=\"#mbd096a04c1\" y=\"144.878737\"/>\n     <use style=\"fill-opacity:0.5;stroke:#000000;stroke-opacity:0.5;stroke-width:1.5;\" x=\"215.594887\" xlink:href=\"#mbd096a04c1\" y=\"143.082209\"/>\n     <use style=\"fill-opacity:0.5;stroke:#000000;stroke-opacity:0.5;stroke-width:1.5;\" x=\"215.630666\" xlink:href=\"#mbd096a04c1\" y=\"136.081336\"/>\n     <use style=\"fill-opacity:0.5;stroke:#000000;stroke-opacity:0.5;stroke-width:1.5;\" x=\"216.255883\" xlink:href=\"#mbd096a04c1\" y=\"140.246371\"/>\n     <use style=\"fill-opacity:0.5;stroke:#000000;stroke-opacity:0.5;stroke-width:1.5;\" x=\"216.265782\" xlink:href=\"#mbd096a04c1\" y=\"121.474793\"/>\n     <use style=\"fill-opacity:0.5;stroke:#000000;stroke-opacity:0.5;stroke-width:1.5;\" x=\"217.292913\" xlink:href=\"#mbd096a04c1\" y=\"124.663893\"/>\n     <use style=\"fill-opacity:0.5;stroke:#000000;stroke-opacity:0.5;stroke-width:1.5;\" x=\"217.37281\" xlink:href=\"#mbd096a04c1\" y=\"133.936721\"/>\n     <use style=\"fill-opacity:0.5;stroke:#000000;stroke-opacity:0.5;stroke-width:1.5;\" x=\"218.63465\" xlink:href=\"#mbd096a04c1\" y=\"129.239002\"/>\n     <use style=\"fill-opacity:0.5;stroke:#000000;stroke-opacity:0.5;stroke-width:1.5;\" x=\"218.697017\" xlink:href=\"#mbd096a04c1\" y=\"146.325422\"/>\n     <use style=\"fill-opacity:0.5;stroke:#000000;stroke-opacity:0.5;stroke-width:1.5;\" x=\"218.790546\" xlink:href=\"#mbd096a04c1\" y=\"137.423498\"/>\n     <use style=\"fill-opacity:0.5;stroke:#000000;stroke-opacity:0.5;stroke-width:1.5;\" x=\"219.396102\" xlink:href=\"#mbd096a04c1\" y=\"139.704294\"/>\n     <use style=\"fill-opacity:0.5;stroke:#000000;stroke-opacity:0.5;stroke-width:1.5;\" x=\"220.401278\" xlink:href=\"#mbd096a04c1\" y=\"145.799094\"/>\n     <use style=\"fill-opacity:0.5;stroke:#000000;stroke-opacity:0.5;stroke-width:1.5;\" x=\"221.060256\" xlink:href=\"#mbd096a04c1\" y=\"131.53233\"/>\n     <use style=\"fill-opacity:0.5;stroke:#000000;stroke-opacity:0.5;stroke-width:1.5;\" x=\"221.123502\" xlink:href=\"#mbd096a04c1\" y=\"126.852701\"/>\n     <use style=\"fill-opacity:0.5;stroke:#000000;stroke-opacity:0.5;stroke-width:1.5;\" x=\"221.275702\" xlink:href=\"#mbd096a04c1\" y=\"128.808277\"/>\n     <use style=\"fill-opacity:0.5;stroke:#000000;stroke-opacity:0.5;stroke-width:1.5;\" x=\"222.592349\" xlink:href=\"#mbd096a04c1\" y=\"145.649819\"/>\n     <use style=\"fill-opacity:0.5;stroke:#000000;stroke-opacity:0.5;stroke-width:1.5;\" x=\"223.627419\" xlink:href=\"#mbd096a04c1\" y=\"157.99532\"/>\n     <use style=\"fill-opacity:0.5;stroke:#000000;stroke-opacity:0.5;stroke-width:1.5;\" x=\"223.804134\" xlink:href=\"#mbd096a04c1\" y=\"114.858734\"/>\n     <use style=\"fill-opacity:0.5;stroke:#000000;stroke-opacity:0.5;stroke-width:1.5;\" x=\"224.650085\" xlink:href=\"#mbd096a04c1\" y=\"117.716208\"/>\n     <use style=\"fill-opacity:0.5;stroke:#000000;stroke-opacity:0.5;stroke-width:1.5;\" x=\"224.684625\" xlink:href=\"#mbd096a04c1\" y=\"131.161216\"/>\n     <use style=\"fill-opacity:0.5;stroke:#000000;stroke-opacity:0.5;stroke-width:1.5;\" x=\"224.832201\" xlink:href=\"#mbd096a04c1\" y=\"110.472123\"/>\n     <use style=\"fill-opacity:0.5;stroke:#000000;stroke-opacity:0.5;stroke-width:1.5;\" x=\"225.423868\" xlink:href=\"#mbd096a04c1\" y=\"120.729823\"/>\n     <use style=\"fill-opacity:0.5;stroke:#000000;stroke-opacity:0.5;stroke-width:1.5;\" x=\"225.694755\" xlink:href=\"#mbd096a04c1\" y=\"133.704563\"/>\n     <use style=\"fill-opacity:0.5;stroke:#000000;stroke-opacity:0.5;stroke-width:1.5;\" x=\"226.836354\" xlink:href=\"#mbd096a04c1\" y=\"144.277104\"/>\n     <use style=\"fill-opacity:0.5;stroke:#000000;stroke-opacity:0.5;stroke-width:1.5;\" x=\"227.091087\" xlink:href=\"#mbd096a04c1\" y=\"133.22957\"/>\n     <use style=\"fill-opacity:0.5;stroke:#000000;stroke-opacity:0.5;stroke-width:1.5;\" x=\"227.183746\" xlink:href=\"#mbd096a04c1\" y=\"158.652201\"/>\n     <use style=\"fill-opacity:0.5;stroke:#000000;stroke-opacity:0.5;stroke-width:1.5;\" x=\"230.179184\" xlink:href=\"#mbd096a04c1\" y=\"159.620193\"/>\n     <use style=\"fill-opacity:0.5;stroke:#000000;stroke-opacity:0.5;stroke-width:1.5;\" x=\"230.609458\" xlink:href=\"#mbd096a04c1\" y=\"146.805497\"/>\n     <use style=\"fill-opacity:0.5;stroke:#000000;stroke-opacity:0.5;stroke-width:1.5;\" x=\"230.624037\" xlink:href=\"#mbd096a04c1\" y=\"152.095539\"/>\n     <use style=\"fill-opacity:0.5;stroke:#000000;stroke-opacity:0.5;stroke-width:1.5;\" x=\"231.036528\" xlink:href=\"#mbd096a04c1\" y=\"126.235677\"/>\n     <use style=\"fill-opacity:0.5;stroke:#000000;stroke-opacity:0.5;stroke-width:1.5;\" x=\"231.056244\" xlink:href=\"#mbd096a04c1\" y=\"126.41293\"/>\n     <use style=\"fill-opacity:0.5;stroke:#000000;stroke-opacity:0.5;stroke-width:1.5;\" x=\"231.512181\" xlink:href=\"#mbd096a04c1\" y=\"140.558868\"/>\n     <use style=\"fill-opacity:0.5;stroke:#000000;stroke-opacity:0.5;stroke-width:1.5;\" x=\"231.660282\" xlink:href=\"#mbd096a04c1\" y=\"122.431908\"/>\n     <use style=\"fill-opacity:0.5;stroke:#000000;stroke-opacity:0.5;stroke-width:1.5;\" x=\"233.960585\" xlink:href=\"#mbd096a04c1\" y=\"157.236028\"/>\n     <use style=\"fill-opacity:0.5;stroke:#000000;stroke-opacity:0.5;stroke-width:1.5;\" x=\"234.998614\" xlink:href=\"#mbd096a04c1\" y=\"129.473424\"/>\n     <use style=\"fill-opacity:0.5;stroke:#000000;stroke-opacity:0.5;stroke-width:1.5;\" x=\"235.981564\" xlink:href=\"#mbd096a04c1\" y=\"161.708509\"/>\n     <use style=\"fill-opacity:0.5;stroke:#000000;stroke-opacity:0.5;stroke-width:1.5;\" x=\"236.02242\" xlink:href=\"#mbd096a04c1\" y=\"149.607004\"/>\n     <use style=\"fill-opacity:0.5;stroke:#000000;stroke-opacity:0.5;stroke-width:1.5;\" x=\"236.311697\" xlink:href=\"#mbd096a04c1\" y=\"144.959313\"/>\n     <use style=\"fill-opacity:0.5;stroke:#000000;stroke-opacity:0.5;stroke-width:1.5;\" x=\"236.865325\" xlink:href=\"#mbd096a04c1\" y=\"169.118227\"/>\n     <use style=\"fill-opacity:0.5;stroke:#000000;stroke-opacity:0.5;stroke-width:1.5;\" x=\"237.324977\" xlink:href=\"#mbd096a04c1\" y=\"147.974723\"/>\n     <use style=\"fill-opacity:0.5;stroke:#000000;stroke-opacity:0.5;stroke-width:1.5;\" x=\"237.761882\" xlink:href=\"#mbd096a04c1\" y=\"113.735638\"/>\n     <use style=\"fill-opacity:0.5;stroke:#000000;stroke-opacity:0.5;stroke-width:1.5;\" x=\"237.978976\" xlink:href=\"#mbd096a04c1\" y=\"160.96816\"/>\n     <use style=\"fill-opacity:0.5;stroke:#000000;stroke-opacity:0.5;stroke-width:1.5;\" x=\"238.379187\" xlink:href=\"#mbd096a04c1\" y=\"171.115037\"/>\n     <use style=\"fill-opacity:0.5;stroke:#000000;stroke-opacity:0.5;stroke-width:1.5;\" x=\"238.419727\" xlink:href=\"#mbd096a04c1\" y=\"123.659086\"/>\n     <use style=\"fill-opacity:0.5;stroke:#000000;stroke-opacity:0.5;stroke-width:1.5;\" x=\"238.497491\" xlink:href=\"#mbd096a04c1\" y=\"145.707685\"/>\n     <use style=\"fill-opacity:0.5;stroke:#000000;stroke-opacity:0.5;stroke-width:1.5;\" x=\"239.004383\" xlink:href=\"#mbd096a04c1\" y=\"140.706789\"/>\n     <use style=\"fill-opacity:0.5;stroke:#000000;stroke-opacity:0.5;stroke-width:1.5;\" x=\"239.216209\" xlink:href=\"#mbd096a04c1\" y=\"122.929856\"/>\n     <use style=\"fill-opacity:0.5;stroke:#000000;stroke-opacity:0.5;stroke-width:1.5;\" x=\"239.441601\" xlink:href=\"#mbd096a04c1\" y=\"126.007619\"/>\n     <use style=\"fill-opacity:0.5;stroke:#000000;stroke-opacity:0.5;stroke-width:1.5;\" x=\"239.455453\" xlink:href=\"#mbd096a04c1\" y=\"148.665899\"/>\n     <use style=\"fill-opacity:0.5;stroke:#000000;stroke-opacity:0.5;stroke-width:1.5;\" x=\"239.501956\" xlink:href=\"#mbd096a04c1\" y=\"139.401384\"/>\n     <use style=\"fill-opacity:0.5;stroke:#000000;stroke-opacity:0.5;stroke-width:1.5;\" x=\"239.677487\" xlink:href=\"#mbd096a04c1\" y=\"129.207316\"/>\n     <use style=\"fill-opacity:0.5;stroke:#000000;stroke-opacity:0.5;stroke-width:1.5;\" x=\"240.0488\" xlink:href=\"#mbd096a04c1\" y=\"153.773068\"/>\n     <use style=\"fill-opacity:0.5;stroke:#000000;stroke-opacity:0.5;stroke-width:1.5;\" x=\"240.864939\" xlink:href=\"#mbd096a04c1\" y=\"143.014683\"/>\n     <use style=\"fill-opacity:0.5;stroke:#000000;stroke-opacity:0.5;stroke-width:1.5;\" x=\"241.79784\" xlink:href=\"#mbd096a04c1\" y=\"133.854449\"/>\n     <use style=\"fill-opacity:0.5;stroke:#000000;stroke-opacity:0.5;stroke-width:1.5;\" x=\"241.81069\" xlink:href=\"#mbd096a04c1\" y=\"139.140356\"/>\n     <use style=\"fill-opacity:0.5;stroke:#000000;stroke-opacity:0.5;stroke-width:1.5;\" x=\"242.081474\" xlink:href=\"#mbd096a04c1\" y=\"130.559294\"/>\n     <use style=\"fill-opacity:0.5;stroke:#000000;stroke-opacity:0.5;stroke-width:1.5;\" x=\"242.612397\" xlink:href=\"#mbd096a04c1\" y=\"136.062784\"/>\n     <use style=\"fill-opacity:0.5;stroke:#000000;stroke-opacity:0.5;stroke-width:1.5;\" x=\"242.736776\" xlink:href=\"#mbd096a04c1\" y=\"188.395495\"/>\n     <use style=\"fill-opacity:0.5;stroke:#000000;stroke-opacity:0.5;stroke-width:1.5;\" x=\"242.817329\" xlink:href=\"#mbd096a04c1\" y=\"153.927163\"/>\n     <use style=\"fill-opacity:0.5;stroke:#000000;stroke-opacity:0.5;stroke-width:1.5;\" x=\"244.17117\" xlink:href=\"#mbd096a04c1\" y=\"170.258576\"/>\n     <use style=\"fill-opacity:0.5;stroke:#000000;stroke-opacity:0.5;stroke-width:1.5;\" x=\"244.988686\" xlink:href=\"#mbd096a04c1\" y=\"137.708768\"/>\n     <use style=\"fill-opacity:0.5;stroke:#000000;stroke-opacity:0.5;stroke-width:1.5;\" x=\"246.671051\" xlink:href=\"#mbd096a04c1\" y=\"164.014055\"/>\n     <use style=\"fill-opacity:0.5;stroke:#000000;stroke-opacity:0.5;stroke-width:1.5;\" x=\"246.78474\" xlink:href=\"#mbd096a04c1\" y=\"132.366731\"/>\n     <use style=\"fill-opacity:0.5;stroke:#000000;stroke-opacity:0.5;stroke-width:1.5;\" x=\"247.594978\" xlink:href=\"#mbd096a04c1\" y=\"140.780846\"/>\n     <use style=\"fill-opacity:0.5;stroke:#000000;stroke-opacity:0.5;stroke-width:1.5;\" x=\"248.193227\" xlink:href=\"#mbd096a04c1\" y=\"136.03939\"/>\n     <use style=\"fill-opacity:0.5;stroke:#000000;stroke-opacity:0.5;stroke-width:1.5;\" x=\"248.422128\" xlink:href=\"#mbd096a04c1\" y=\"141.998813\"/>\n     <use style=\"fill-opacity:0.5;stroke:#000000;stroke-opacity:0.5;stroke-width:1.5;\" x=\"248.585028\" xlink:href=\"#mbd096a04c1\" y=\"163.535857\"/>\n     <use style=\"fill-opacity:0.5;stroke:#000000;stroke-opacity:0.5;stroke-width:1.5;\" x=\"248.685026\" xlink:href=\"#mbd096a04c1\" y=\"116.770394\"/>\n     <use style=\"fill-opacity:0.5;stroke:#000000;stroke-opacity:0.5;stroke-width:1.5;\" x=\"248.914417\" xlink:href=\"#mbd096a04c1\" y=\"132.342996\"/>\n     <use style=\"fill-opacity:0.5;stroke:#000000;stroke-opacity:0.5;stroke-width:1.5;\" x=\"249.472596\" xlink:href=\"#mbd096a04c1\" y=\"142.010455\"/>\n     <use style=\"fill-opacity:0.5;stroke:#000000;stroke-opacity:0.5;stroke-width:1.5;\" x=\"249.621811\" xlink:href=\"#mbd096a04c1\" y=\"169.805813\"/>\n     <use style=\"fill-opacity:0.5;stroke:#000000;stroke-opacity:0.5;stroke-width:1.5;\" x=\"249.806117\" xlink:href=\"#mbd096a04c1\" y=\"136.876188\"/>\n     <use style=\"fill-opacity:0.5;stroke:#000000;stroke-opacity:0.5;stroke-width:1.5;\" x=\"250.141506\" xlink:href=\"#mbd096a04c1\" y=\"130.633125\"/>\n     <use style=\"fill-opacity:0.5;stroke:#000000;stroke-opacity:0.5;stroke-width:1.5;\" x=\"250.319238\" xlink:href=\"#mbd096a04c1\" y=\"150.396804\"/>\n     <use style=\"fill-opacity:0.5;stroke:#000000;stroke-opacity:0.5;stroke-width:1.5;\" x=\"250.57851\" xlink:href=\"#mbd096a04c1\" y=\"150.459373\"/>\n     <use style=\"fill-opacity:0.5;stroke:#000000;stroke-opacity:0.5;stroke-width:1.5;\" x=\"252.312218\" xlink:href=\"#mbd096a04c1\" y=\"173.863704\"/>\n     <use style=\"fill-opacity:0.5;stroke:#000000;stroke-opacity:0.5;stroke-width:1.5;\" x=\"252.424529\" xlink:href=\"#mbd096a04c1\" y=\"138.381614\"/>\n     <use style=\"fill-opacity:0.5;stroke:#000000;stroke-opacity:0.5;stroke-width:1.5;\" x=\"252.491662\" xlink:href=\"#mbd096a04c1\" y=\"153.244506\"/>\n     <use style=\"fill-opacity:0.5;stroke:#000000;stroke-opacity:0.5;stroke-width:1.5;\" x=\"253.091413\" xlink:href=\"#mbd096a04c1\" y=\"170.979831\"/>\n     <use style=\"fill-opacity:0.5;stroke:#000000;stroke-opacity:0.5;stroke-width:1.5;\" x=\"253.103784\" xlink:href=\"#mbd096a04c1\" y=\"136.968273\"/>\n     <use style=\"fill-opacity:0.5;stroke:#000000;stroke-opacity:0.5;stroke-width:1.5;\" x=\"253.33178\" xlink:href=\"#mbd096a04c1\" y=\"161.909719\"/>\n     <use style=\"fill-opacity:0.5;stroke:#000000;stroke-opacity:0.5;stroke-width:1.5;\" x=\"253.747806\" xlink:href=\"#mbd096a04c1\" y=\"156.432559\"/>\n     <use style=\"fill-opacity:0.5;stroke:#000000;stroke-opacity:0.5;stroke-width:1.5;\" x=\"254.034484\" xlink:href=\"#mbd096a04c1\" y=\"122.071406\"/>\n     <use style=\"fill-opacity:0.5;stroke:#000000;stroke-opacity:0.5;stroke-width:1.5;\" x=\"255.655394\" xlink:href=\"#mbd096a04c1\" y=\"137.038602\"/>\n     <use style=\"fill-opacity:0.5;stroke:#000000;stroke-opacity:0.5;stroke-width:1.5;\" x=\"257.718279\" xlink:href=\"#mbd096a04c1\" y=\"131.92541\"/>\n     <use style=\"fill-opacity:0.5;stroke:#000000;stroke-opacity:0.5;stroke-width:1.5;\" x=\"261.868648\" xlink:href=\"#mbd096a04c1\" y=\"181.119405\"/>\n     <use style=\"fill-opacity:0.5;stroke:#000000;stroke-opacity:0.5;stroke-width:1.5;\" x=\"262.211996\" xlink:href=\"#mbd096a04c1\" y=\"162.172684\"/>\n     <use style=\"fill-opacity:0.5;stroke:#000000;stroke-opacity:0.5;stroke-width:1.5;\" x=\"262.491067\" xlink:href=\"#mbd096a04c1\" y=\"164.631248\"/>\n     <use style=\"fill-opacity:0.5;stroke:#000000;stroke-opacity:0.5;stroke-width:1.5;\" x=\"263.411931\" xlink:href=\"#mbd096a04c1\" y=\"187.274048\"/>\n     <use style=\"fill-opacity:0.5;stroke:#000000;stroke-opacity:0.5;stroke-width:1.5;\" x=\"263.918715\" xlink:href=\"#mbd096a04c1\" y=\"184.142212\"/>\n     <use style=\"fill-opacity:0.5;stroke:#000000;stroke-opacity:0.5;stroke-width:1.5;\" x=\"264.704158\" xlink:href=\"#mbd096a04c1\" y=\"165.722655\"/>\n     <use style=\"fill-opacity:0.5;stroke:#000000;stroke-opacity:0.5;stroke-width:1.5;\" x=\"264.77618\" xlink:href=\"#mbd096a04c1\" y=\"201.229745\"/>\n     <use style=\"fill-opacity:0.5;stroke:#000000;stroke-opacity:0.5;stroke-width:1.5;\" x=\"265.797111\" xlink:href=\"#mbd096a04c1\" y=\"168.305509\"/>\n     <use style=\"fill-opacity:0.5;stroke:#000000;stroke-opacity:0.5;stroke-width:1.5;\" x=\"266.216718\" xlink:href=\"#mbd096a04c1\" y=\"137.705234\"/>\n     <use style=\"fill-opacity:0.5;stroke:#000000;stroke-opacity:0.5;stroke-width:1.5;\" x=\"267.281511\" xlink:href=\"#mbd096a04c1\" y=\"178.761933\"/>\n     <use style=\"fill-opacity:0.5;stroke:#000000;stroke-opacity:0.5;stroke-width:1.5;\" x=\"268.045236\" xlink:href=\"#mbd096a04c1\" y=\"178.682774\"/>\n     <use style=\"fill-opacity:0.5;stroke:#000000;stroke-opacity:0.5;stroke-width:1.5;\" x=\"268.164304\" xlink:href=\"#mbd096a04c1\" y=\"199.343164\"/>\n     <use style=\"fill-opacity:0.5;stroke:#000000;stroke-opacity:0.5;stroke-width:1.5;\" x=\"269.621949\" xlink:href=\"#mbd096a04c1\" y=\"211.380683\"/>\n     <use style=\"fill-opacity:0.5;stroke:#000000;stroke-opacity:0.5;stroke-width:1.5;\" x=\"269.78475\" xlink:href=\"#mbd096a04c1\" y=\"191.210686\"/>\n     <use style=\"fill-opacity:0.5;stroke:#000000;stroke-opacity:0.5;stroke-width:1.5;\" x=\"270.487831\" xlink:href=\"#mbd096a04c1\" y=\"220.458207\"/>\n     <use style=\"fill-opacity:0.5;stroke:#000000;stroke-opacity:0.5;stroke-width:1.5;\" x=\"271.657971\" xlink:href=\"#mbd096a04c1\" y=\"171.897653\"/>\n     <use style=\"fill-opacity:0.5;stroke:#000000;stroke-opacity:0.5;stroke-width:1.5;\" x=\"271.726132\" xlink:href=\"#mbd096a04c1\" y=\"195.509217\"/>\n     <use style=\"fill-opacity:0.5;stroke:#000000;stroke-opacity:0.5;stroke-width:1.5;\" x=\"271.780277\" xlink:href=\"#mbd096a04c1\" y=\"153.118856\"/>\n     <use style=\"fill-opacity:0.5;stroke:#000000;stroke-opacity:0.5;stroke-width:1.5;\" x=\"273.121989\" xlink:href=\"#mbd096a04c1\" y=\"185.010402\"/>\n     <use style=\"fill-opacity:0.5;stroke:#000000;stroke-opacity:0.5;stroke-width:1.5;\" x=\"273.300002\" xlink:href=\"#mbd096a04c1\" y=\"144.525201\"/>\n     <use style=\"fill-opacity:0.5;stroke:#000000;stroke-opacity:0.5;stroke-width:1.5;\" x=\"273.316386\" xlink:href=\"#mbd096a04c1\" y=\"180.322467\"/>\n     <use style=\"fill-opacity:0.5;stroke:#000000;stroke-opacity:0.5;stroke-width:1.5;\" x=\"273.594411\" xlink:href=\"#mbd096a04c1\" y=\"199.588646\"/>\n     <use style=\"fill-opacity:0.5;stroke:#000000;stroke-opacity:0.5;stroke-width:1.5;\" x=\"273.771893\" xlink:href=\"#mbd096a04c1\" y=\"143.585598\"/>\n     <use style=\"fill-opacity:0.5;stroke:#000000;stroke-opacity:0.5;stroke-width:1.5;\" x=\"274.059638\" xlink:href=\"#mbd096a04c1\" y=\"183.046527\"/>\n     <use style=\"fill-opacity:0.5;stroke:#000000;stroke-opacity:0.5;stroke-width:1.5;\" x=\"274.763346\" xlink:href=\"#mbd096a04c1\" y=\"166.171585\"/>\n     <use style=\"fill-opacity:0.5;stroke:#000000;stroke-opacity:0.5;stroke-width:1.5;\" x=\"274.877443\" xlink:href=\"#mbd096a04c1\" y=\"191.756229\"/>\n     <use style=\"fill-opacity:0.5;stroke:#000000;stroke-opacity:0.5;stroke-width:1.5;\" x=\"275.139633\" xlink:href=\"#mbd096a04c1\" y=\"203.286953\"/>\n     <use style=\"fill-opacity:0.5;stroke:#000000;stroke-opacity:0.5;stroke-width:1.5;\" x=\"275.353625\" xlink:href=\"#mbd096a04c1\" y=\"137.595157\"/>\n     <use style=\"fill-opacity:0.5;stroke:#000000;stroke-opacity:0.5;stroke-width:1.5;\" x=\"275.42559\" xlink:href=\"#mbd096a04c1\" y=\"155.350571\"/>\n     <use style=\"fill-opacity:0.5;stroke:#000000;stroke-opacity:0.5;stroke-width:1.5;\" x=\"275.948139\" xlink:href=\"#mbd096a04c1\" y=\"152.836369\"/>\n     <use style=\"fill-opacity:0.5;stroke:#000000;stroke-opacity:0.5;stroke-width:1.5;\" x=\"276.013892\" xlink:href=\"#mbd096a04c1\" y=\"230.84379\"/>\n     <use style=\"fill-opacity:0.5;stroke:#000000;stroke-opacity:0.5;stroke-width:1.5;\" x=\"276.027825\" xlink:href=\"#mbd096a04c1\" y=\"184.211394\"/>\n     <use style=\"fill-opacity:0.5;stroke:#000000;stroke-opacity:0.5;stroke-width:1.5;\" x=\"276.133232\" xlink:href=\"#mbd096a04c1\" y=\"187.903806\"/>\n     <use style=\"fill-opacity:0.5;stroke:#000000;stroke-opacity:0.5;stroke-width:1.5;\" x=\"276.9687\" xlink:href=\"#mbd096a04c1\" y=\"220.690582\"/>\n     <use style=\"fill-opacity:0.5;stroke:#000000;stroke-opacity:0.5;stroke-width:1.5;\" x=\"277.394799\" xlink:href=\"#mbd096a04c1\" y=\"193.370106\"/>\n     <use style=\"fill-opacity:0.5;stroke:#000000;stroke-opacity:0.5;stroke-width:1.5;\" x=\"277.444558\" xlink:href=\"#mbd096a04c1\" y=\"168.426318\"/>\n     <use style=\"fill-opacity:0.5;stroke:#000000;stroke-opacity:0.5;stroke-width:1.5;\" x=\"277.872952\" xlink:href=\"#mbd096a04c1\" y=\"170.795863\"/>\n     <use style=\"fill-opacity:0.5;stroke:#000000;stroke-opacity:0.5;stroke-width:1.5;\" x=\"279.20133\" xlink:href=\"#mbd096a04c1\" y=\"148.308517\"/>\n     <use style=\"fill-opacity:0.5;stroke:#000000;stroke-opacity:0.5;stroke-width:1.5;\" x=\"279.780414\" xlink:href=\"#mbd096a04c1\" y=\"214.497424\"/>\n     <use style=\"fill-opacity:0.5;stroke:#000000;stroke-opacity:0.5;stroke-width:1.5;\" x=\"281.001234\" xlink:href=\"#mbd096a04c1\" y=\"168.615414\"/>\n     <use style=\"fill-opacity:0.5;stroke:#000000;stroke-opacity:0.5;stroke-width:1.5;\" x=\"281.213212\" xlink:href=\"#mbd096a04c1\" y=\"194.876822\"/>\n     <use style=\"fill-opacity:0.5;stroke:#000000;stroke-opacity:0.5;stroke-width:1.5;\" x=\"281.744249\" xlink:href=\"#mbd096a04c1\" y=\"189.078684\"/>\n     <use style=\"fill-opacity:0.5;stroke:#000000;stroke-opacity:0.5;stroke-width:1.5;\" x=\"282.083766\" xlink:href=\"#mbd096a04c1\" y=\"200.393484\"/>\n     <use style=\"fill-opacity:0.5;stroke:#000000;stroke-opacity:0.5;stroke-width:1.5;\" x=\"282.269602\" xlink:href=\"#mbd096a04c1\" y=\"154.583804\"/>\n     <use style=\"fill-opacity:0.5;stroke:#000000;stroke-opacity:0.5;stroke-width:1.5;\" x=\"282.489637\" xlink:href=\"#mbd096a04c1\" y=\"190.743143\"/>\n     <use style=\"fill-opacity:0.5;stroke:#000000;stroke-opacity:0.5;stroke-width:1.5;\" x=\"282.833998\" xlink:href=\"#mbd096a04c1\" y=\"189.493825\"/>\n     <use style=\"fill-opacity:0.5;stroke:#000000;stroke-opacity:0.5;stroke-width:1.5;\" x=\"283.131996\" xlink:href=\"#mbd096a04c1\" y=\"179.523246\"/>\n     <use style=\"fill-opacity:0.5;stroke:#000000;stroke-opacity:0.5;stroke-width:1.5;\" x=\"283.31983\" xlink:href=\"#mbd096a04c1\" y=\"173.246341\"/>\n     <use style=\"fill-opacity:0.5;stroke:#000000;stroke-opacity:0.5;stroke-width:1.5;\" x=\"283.550394\" xlink:href=\"#mbd096a04c1\" y=\"151.062059\"/>\n     <use style=\"fill-opacity:0.5;stroke:#000000;stroke-opacity:0.5;stroke-width:1.5;\" x=\"283.746578\" xlink:href=\"#mbd096a04c1\" y=\"167.123474\"/>\n     <use style=\"fill-opacity:0.5;stroke:#000000;stroke-opacity:0.5;stroke-width:1.5;\" x=\"284.05422\" xlink:href=\"#mbd096a04c1\" y=\"177.714365\"/>\n     <use style=\"fill-opacity:0.5;stroke:#000000;stroke-opacity:0.5;stroke-width:1.5;\" x=\"284.059985\" xlink:href=\"#mbd096a04c1\" y=\"220.221115\"/>\n     <use style=\"fill-opacity:0.5;stroke:#000000;stroke-opacity:0.5;stroke-width:1.5;\" x=\"284.241129\" xlink:href=\"#mbd096a04c1\" y=\"184.645266\"/>\n     <use style=\"fill-opacity:0.5;stroke:#000000;stroke-opacity:0.5;stroke-width:1.5;\" x=\"284.364524\" xlink:href=\"#mbd096a04c1\" y=\"206.086884\"/>\n     <use style=\"fill-opacity:0.5;stroke:#000000;stroke-opacity:0.5;stroke-width:1.5;\" x=\"284.379015\" xlink:href=\"#mbd096a04c1\" y=\"143.626846\"/>\n     <use style=\"fill-opacity:0.5;stroke:#000000;stroke-opacity:0.5;stroke-width:1.5;\" x=\"284.387412\" xlink:href=\"#mbd096a04c1\" y=\"159.205299\"/>\n    </g>\n   </g>\n   <g id=\"PolyCollection_1\">\n    <defs>\n     <path d=\"M 54.324062 -57.101218 \nL 54.324062 -38.795815 \nL 56.006475 -42.263487 \nL 57.688887 -41.733286 \nL 59.371299 -44.485553 \nL 61.053711 -45.030356 \nL 62.736123 -46.551457 \nL 64.418535 -49.878617 \nL 66.100947 -49.462576 \nL 67.783359 -51.847469 \nL 69.465771 -54.959485 \nL 71.148183 -55.753722 \nL 72.830595 -55.804008 \nL 74.513007 -60.117565 \nL 76.195419 -60.507328 \nL 77.877831 -61.330834 \nL 79.560243 -63.314191 \nL 81.242655 -64.122479 \nL 82.925068 -65.50296 \nL 84.60748 -67.144604 \nL 86.289892 -69.922387 \nL 87.972304 -70.89085 \nL 89.654716 -72.434529 \nL 91.337128 -75.324247 \nL 93.01954 -74.634342 \nL 94.701952 -79.00636 \nL 96.384364 -79.358198 \nL 98.066776 -80.411655 \nL 99.749188 -82.473428 \nL 101.4316 -84.410154 \nL 103.114012 -83.992185 \nL 104.796424 -86.939734 \nL 106.478836 -87.951058 \nL 108.161248 -88.442761 \nL 109.84366 -90.690748 \nL 111.526073 -92.370015 \nL 113.208485 -94.668078 \nL 114.890897 -96.655291 \nL 116.573309 -98.289045 \nL 118.255721 -99.063825 \nL 119.938133 -100.716427 \nL 121.620545 -102.619353 \nL 123.302957 -103.768598 \nL 124.985369 -105.949148 \nL 126.667781 -107.271987 \nL 128.350193 -109.088791 \nL 130.032605 -110.020474 \nL 131.715017 -111.769792 \nL 133.397429 -114.304189 \nL 135.079841 -115.082495 \nL 136.762253 -116.919134 \nL 138.444666 -118.680698 \nL 140.127078 -120.329319 \nL 141.80949 -121.033419 \nL 143.491902 -123.34707 \nL 145.174314 -124.711566 \nL 146.856726 -127.019465 \nL 148.539138 -128.250331 \nL 150.22155 -129.617627 \nL 151.903962 -131.220417 \nL 153.586374 -133.246047 \nL 155.268786 -134.783135 \nL 156.951198 -136.199165 \nL 158.63361 -138.563648 \nL 160.316022 -139.706045 \nL 161.998434 -140.9748 \nL 163.680846 -142.57669 \nL 165.363258 -144.594759 \nL 167.045671 -146.056701 \nL 168.728083 -148.241447 \nL 170.410495 -149.608779 \nL 172.092907 -151.198323 \nL 173.775319 -153.00242 \nL 175.457731 -155.004346 \nL 177.140143 -156.792845 \nL 178.822555 -158.931833 \nL 180.504967 -161.030813 \nL 182.187379 -163.304018 \nL 183.869791 -165.672726 \nL 185.552203 -168.08438 \nL 187.234615 -170.535696 \nL 188.917027 -172.753729 \nL 190.599439 -175.057424 \nL 192.281851 -177.605588 \nL 193.964264 -179.882672 \nL 195.646676 -182.18597 \nL 197.329088 -184.259486 \nL 199.0115 -185.984609 \nL 200.693912 -187.414407 \nL 202.376324 -188.960743 \nL 204.058736 -190.253293 \nL 205.741148 -191.640942 \nL 207.42356 -192.743608 \nL 209.105972 -193.693602 \nL 210.788384 -194.644828 \nL 212.470796 -195.277033 \nL 214.153208 -195.955879 \nL 215.83562 -196.654522 \nL 217.518032 -197.238243 \nL 219.200444 -197.798507 \nL 220.882856 -198.374565 \nL 222.565269 -198.910555 \nL 224.247681 -199.293382 \nL 225.930093 -199.527277 \nL 227.612505 -199.616305 \nL 229.294917 -199.579319 \nL 230.977329 -199.698393 \nL 232.659741 -199.466671 \nL 234.342153 -199.017079 \nL 236.024565 -198.872975 \nL 237.706977 -198.382428 \nL 239.389389 -198.125018 \nL 241.071801 -197.629697 \nL 242.754213 -196.679503 \nL 244.436625 -195.977819 \nL 246.119037 -195.092684 \nL 247.801449 -194.340571 \nL 249.483861 -193.17545 \nL 251.166274 -192.229748 \nL 252.848686 -190.537966 \nL 254.531098 -189.347793 \nL 256.21351 -187.752386 \nL 257.895922 -186.154164 \nL 259.578334 -184.514218 \nL 261.260746 -182.913628 \nL 262.943158 -180.98096 \nL 264.62557 -179.587979 \nL 266.307982 -178.225125 \nL 267.990394 -176.661442 \nL 269.672806 -175.661532 \nL 271.355218 -174.189756 \nL 273.03763 -172.336057 \nL 274.720042 -171.259786 \nL 276.402454 -169.192892 \nL 278.084867 -167.819955 \nL 279.767279 -166.767734 \nL 281.449691 -165.295052 \nL 283.132103 -163.97843 \nL 284.814515 -162.32062 \nL 286.496927 -161.145927 \nL 288.179339 -160.018966 \nL 289.861751 -158.795841 \nL 291.544163 -156.565623 \nL 293.226575 -155.918063 \nL 294.908987 -154.568717 \nL 296.591399 -153.825374 \nL 298.273811 -152.415525 \nL 299.956223 -151.579633 \nL 301.638635 -149.759138 \nL 303.321047 -148.466537 \nL 305.003459 -147.352447 \nL 306.685872 -147.142019 \nL 308.368284 -144.644559 \nL 310.050696 -144.252403 \nL 311.733108 -143.598571 \nL 313.41552 -142.713406 \nL 315.097932 -140.869123 \nL 316.780344 -140.223712 \nL 318.462756 -140.004519 \nL 320.145168 -137.712952 \nL 321.82758 -138.43353 \nL 323.509992 -136.010394 \nL 325.192404 -136.123279 \nL 326.874816 -135.360752 \nL 328.557228 -135.003962 \nL 330.23964 -134.732965 \nL 331.922052 -133.713 \nL 333.604465 -132.612141 \nL 335.286877 -131.163602 \nL 336.969289 -131.262074 \nL 338.651701 -130.653074 \nL 340.334113 -130.755256 \nL 342.016525 -129.841632 \nL 343.698937 -129.045349 \nL 345.381349 -129.965691 \nL 347.063761 -128.756331 \nL 348.746173 -128.616148 \nL 350.428585 -128.206916 \nL 352.110997 -127.694347 \nL 353.793409 -129.567206 \nL 355.475821 -127.443077 \nL 357.158233 -128.379771 \nL 358.840645 -128.085099 \nL 360.523057 -128.672018 \nL 362.20547 -129.838851 \nL 363.887882 -128.996574 \nL 365.570294 -130.399849 \nL 367.252706 -129.45323 \nL 368.935118 -130.727273 \nL 370.61753 -130.116393 \nL 372.299942 -129.553209 \nL 373.982354 -130.893199 \nL 375.664766 -131.992081 \nL 377.347178 -134.96136 \nL 379.02959 -133.223247 \nL 380.712002 -136.28947 \nL 382.394414 -136.273053 \nL 384.076826 -140.710565 \nL 385.759238 -141.364808 \nL 387.44165 -137.526381 \nL 389.124063 -142.909011 \nL 389.124063 -147.147073 \nL 389.124063 -147.147073 \nL 387.44165 -142.190096 \nL 385.759238 -145.686605 \nL 384.076826 -145.235139 \nL 382.394414 -140.762126 \nL 380.712002 -140.613384 \nL 379.02959 -137.826232 \nL 377.347178 -139.346642 \nL 375.664766 -136.279371 \nL 373.982354 -135.534611 \nL 372.299942 -133.87911 \nL 370.61753 -134.113964 \nL 368.935118 -135.343736 \nL 367.252706 -133.832744 \nL 365.570294 -134.677116 \nL 363.887882 -133.880849 \nL 362.20547 -134.434065 \nL 360.523057 -133.475673 \nL 358.840645 -132.444741 \nL 357.158233 -132.584503 \nL 355.475821 -131.614706 \nL 353.793409 -134.046013 \nL 352.110997 -131.995986 \nL 350.428585 -132.843841 \nL 348.746173 -132.652054 \nL 347.063761 -132.974239 \nL 345.381349 -134.311265 \nL 343.698937 -133.141272 \nL 342.016525 -133.864907 \nL 340.334113 -135.001851 \nL 338.651701 -134.755295 \nL 336.969289 -135.44257 \nL 335.286877 -135.185538 \nL 333.604465 -136.321936 \nL 331.922052 -137.504861 \nL 330.23964 -138.691438 \nL 328.557228 -138.868213 \nL 326.874816 -139.223993 \nL 325.192404 -139.901575 \nL 323.509992 -139.669038 \nL 321.82758 -141.950328 \nL 320.145168 -141.121827 \nL 318.462756 -143.772592 \nL 316.780344 -143.480701 \nL 315.097932 -144.264122 \nL 313.41552 -145.892895 \nL 311.733108 -146.788007 \nL 310.050696 -147.402515 \nL 308.368284 -147.636146 \nL 306.685872 -150.061767 \nL 305.003459 -150.146542 \nL 303.321047 -151.248813 \nL 301.638635 -152.586605 \nL 299.956223 -154.319753 \nL 298.273811 -154.985598 \nL 296.591399 -156.276411 \nL 294.908987 -156.88557 \nL 293.226575 -158.288575 \nL 291.544163 -158.803002 \nL 289.861751 -161.034743 \nL 288.179339 -162.250358 \nL 286.496927 -163.093437 \nL 284.814515 -164.354868 \nL 283.132103 -165.907617 \nL 281.449691 -166.933923 \nL 279.767279 -168.290944 \nL 278.084867 -169.422626 \nL 276.402454 -170.652161 \nL 274.720042 -172.763459 \nL 273.03763 -173.63132 \nL 271.355218 -175.40879 \nL 269.672806 -176.815148 \nL 267.990394 -177.699602 \nL 266.307982 -179.124738 \nL 264.62557 -180.50702 \nL 262.943158 -181.878082 \nL 261.260746 -183.699558 \nL 259.578334 -185.280631 \nL 257.895922 -186.768778 \nL 256.21351 -188.36991 \nL 254.531098 -189.886523 \nL 252.848686 -191.001836 \nL 251.166274 -192.698203 \nL 249.483861 -193.573384 \nL 247.801449 -194.68378 \nL 246.119037 -195.422951 \nL 244.436625 -196.267021 \nL 242.754213 -196.93167 \nL 241.071801 -197.863087 \nL 239.389389 -198.327741 \nL 237.706977 -198.558253 \nL 236.024565 -199.036104 \nL 234.342153 -199.148357 \nL 232.659741 -199.597833 \nL 230.977329 -199.808621 \nL 229.294917 -199.689655 \nL 227.612505 -199.7049 \nL 225.930093 -199.619974 \nL 224.247681 -199.380449 \nL 222.565269 -198.985677 \nL 220.882856 -198.450541 \nL 219.200444 -197.872489 \nL 217.518032 -197.308505 \nL 215.83562 -196.729816 \nL 214.153208 -196.023297 \nL 212.470796 -195.345318 \nL 210.788384 -194.724581 \nL 209.105972 -193.771894 \nL 207.42356 -192.827832 \nL 205.741148 -191.726109 \nL 204.058736 -190.344173 \nL 202.376324 -189.056915 \nL 200.693912 -187.532315 \nL 199.0115 -186.110204 \nL 197.329088 -184.420992 \nL 195.646676 -182.387965 \nL 193.964264 -180.11842 \nL 192.281851 -177.889009 \nL 190.599439 -175.39931 \nL 188.917027 -173.180756 \nL 187.234615 -170.993389 \nL 185.552203 -168.638939 \nL 183.869791 -166.392956 \nL 182.187379 -164.133118 \nL 180.504967 -161.892341 \nL 178.822555 -159.990605 \nL 177.140143 -157.954998 \nL 175.457731 -156.414439 \nL 173.775319 -154.445005 \nL 172.092907 -152.922039 \nL 170.410495 -151.32979 \nL 168.728083 -150.134644 \nL 167.045671 -148.271453 \nL 165.363258 -146.905385 \nL 163.680846 -145.159299 \nL 161.998434 -143.706148 \nL 160.316022 -142.656358 \nL 158.63361 -141.606607 \nL 156.951198 -139.614817 \nL 155.268786 -138.505779 \nL 153.586374 -136.983628 \nL 151.903962 -135.441463 \nL 150.22155 -133.696287 \nL 148.539138 -132.528881 \nL 146.856726 -131.965926 \nL 145.174314 -129.532653 \nL 143.491902 -128.13072 \nL 141.80949 -126.731252 \nL 140.127078 -126.166223 \nL 138.444666 -124.641847 \nL 136.762253 -123.118936 \nL 135.079841 -121.609678 \nL 133.397429 -120.443741 \nL 131.715017 -118.508397 \nL 130.032605 -117.000202 \nL 128.350193 -116.415157 \nL 126.667781 -114.618382 \nL 124.985369 -113.210015 \nL 123.302957 -111.879497 \nL 121.620545 -111.079012 \nL 119.938133 -109.241957 \nL 118.255721 -107.909111 \nL 116.573309 -107.769095 \nL 114.890897 -106.056147 \nL 113.208485 -104.426637 \nL 111.526073 -102.567587 \nL 109.84366 -100.748288 \nL 108.161248 -98.773425 \nL 106.478836 -98.287814 \nL 104.796424 -98.263011 \nL 103.114012 -94.506553 \nL 101.4316 -95.74381 \nL 99.749188 -94.0529 \nL 98.066776 -91.941106 \nL 96.384364 -91.518245 \nL 94.701952 -91.437571 \nL 93.01954 -87.670502 \nL 91.337128 -88.490477 \nL 89.654716 -86.014596 \nL 87.972304 -83.994497 \nL 86.289892 -83.555354 \nL 84.60748 -81.385226 \nL 82.925068 -79.682296 \nL 81.242655 -78.079549 \nL 79.560243 -78.136813 \nL 77.877831 -76.246036 \nL 76.195419 -75.418696 \nL 74.513007 -74.984878 \nL 72.830595 -71.98241 \nL 71.148183 -71.978344 \nL 69.465771 -71.064023 \nL 67.783359 -67.650763 \nL 66.100947 -66.027436 \nL 64.418535 -67.507021 \nL 62.736123 -63.461206 \nL 61.053711 -62.08241 \nL 59.371299 -62.015178 \nL 57.688887 -60.023558 \nL 56.006475 -60.567443 \nL 54.324062 -57.101218 \nz\n\" id=\"m991e1cbe6e\" style=\"stroke:#1f77b4;stroke-opacity:0.3;\"/>\n    </defs>\n    <g clip-path=\"url(#pafc659caee)\">\n     <use style=\"fill:#1f77b4;fill-opacity:0.3;stroke:#1f77b4;stroke-opacity:0.3;\" x=\"0\" xlink:href=\"#m991e1cbe6e\" y=\"326.234375\"/>\n    </g>\n   </g>\n   <g id=\"PolyCollection_2\">\n    <defs>\n     <path d=\"M 54.324062 -18.393219 \nL 54.324062 -0.087816 \nL 56.006475 -2.268884 \nL 57.688887 -3.574324 \nL 59.371299 -6.329593 \nL 61.053711 -6.588251 \nL 62.736123 -9.693873 \nL 64.418535 -11.500968 \nL 66.100947 -13.358263 \nL 67.783359 -16.135997 \nL 69.465771 -18.620772 \nL 71.148183 -19.469648 \nL 72.830595 -21.060973 \nL 74.513007 -25.821589 \nL 76.195419 -25.961011 \nL 77.877831 -27.476723 \nL 79.560243 -29.549982 \nL 81.242655 -31.267693 \nL 82.925068 -32.864602 \nL 84.60748 -34.06571 \nL 86.289892 -37.762015 \nL 87.972304 -39.382156 \nL 89.654716 -40.852863 \nL 91.337128 -43.765623 \nL 93.01954 -44.716044 \nL 94.701952 -48.435116 \nL 96.384364 -49.458925 \nL 98.066776 -50.885534 \nL 99.749188 -53.450048 \nL 101.4316 -55.474781 \nL 103.114012 -56.40979 \nL 104.796424 -58.568285 \nL 106.478836 -60.988592 \nL 108.161248 -61.553862 \nL 109.84366 -64.040699 \nL 111.526073 -65.377233 \nL 113.208485 -68.358522 \nL 114.890897 -70.990796 \nL 116.573309 -72.178372 \nL 118.255721 -74.105254 \nL 119.938133 -76.151841 \nL 121.620545 -77.917625 \nL 123.302957 -79.511385 \nL 124.985369 -82.566268 \nL 126.667781 -84.086397 \nL 128.350193 -85.957317 \nL 130.032605 -87.294326 \nL 131.715017 -89.40787 \nL 133.397429 -92.377197 \nL 135.079841 -93.018172 \nL 136.762253 -95.145028 \nL 138.444666 -97.216942 \nL 140.127078 -99.137986 \nL 141.80949 -100.078606 \nL 143.491902 -103.19883 \nL 145.174314 -104.908544 \nL 146.856726 -106.866876 \nL 148.539138 -108.864095 \nL 150.22155 -110.398729 \nL 151.903962 -111.776256 \nL 153.586374 -114.42349 \nL 155.268786 -115.922121 \nL 156.951198 -117.743361 \nL 158.63361 -120.417102 \nL 160.316022 -121.846691 \nL 161.998434 -123.352418 \nL 163.680846 -125.1065 \nL 165.363258 -127.444063 \nL 167.045671 -129.022935 \nL 168.728083 -131.412766 \nL 170.410495 -133.076497 \nL 172.092907 -134.672915 \nL 173.775319 -136.772934 \nL 175.457731 -138.681985 \nL 177.140143 -140.633718 \nL 178.822555 -142.737398 \nL 180.504967 -144.802614 \nL 182.187379 -146.856433 \nL 183.869791 -149.054633 \nL 185.552203 -151.380189 \nL 187.234615 -153.545661 \nL 188.917027 -155.460798 \nL 190.599439 -157.614471 \nL 192.281851 -159.795587 \nL 193.964264 -161.861962 \nL 195.646676 -163.769008 \nL 197.329088 -165.385684 \nL 199.0115 -166.699048 \nL 200.693912 -167.61791 \nL 202.376324 -168.598502 \nL 204.058736 -169.392479 \nL 205.741148 -170.175795 \nL 207.42356 -170.717305 \nL 209.105972 -171.181714 \nL 210.788384 -171.584649 \nL 212.470796 -171.800995 \nL 214.153208 -172.021896 \nL 215.83562 -172.192465 \nL 217.518032 -172.386224 \nL 219.200444 -172.467518 \nL 220.882856 -172.53402 \nL 222.565269 -172.638917 \nL 224.247681 -172.604587 \nL 225.930093 -172.328907 \nL 227.612505 -171.967577 \nL 229.294917 -171.456437 \nL 230.977329 -170.998403 \nL 232.659741 -170.193039 \nL 234.342153 -169.127331 \nL 236.024565 -168.282506 \nL 237.706977 -167.375856 \nL 239.389389 -166.500899 \nL 241.071801 -165.385192 \nL 242.754213 -163.870552 \nL 244.436625 -162.573385 \nL 246.119037 -161.204252 \nL 247.801449 -159.720729 \nL 249.483861 -157.844282 \nL 251.166274 -156.233073 \nL 252.848686 -153.651256 \nL 254.531098 -151.538433 \nL 256.21351 -148.930753 \nL 257.895922 -146.334673 \nL 259.578334 -143.87286 \nL 261.260746 -140.929702 \nL 262.943158 -137.849593 \nL 264.62557 -135.863328 \nL 266.307982 -133.134217 \nL 267.990394 -130.260038 \nL 269.672806 -128.132216 \nL 271.355218 -125.625058 \nL 273.03763 -122.759398 \nL 274.720042 -120.311053 \nL 276.402454 -117.245187 \nL 278.084867 -114.171879 \nL 279.767279 -111.79803 \nL 281.449691 -109.571033 \nL 283.132103 -107.09228 \nL 284.814515 -103.965796 \nL 286.496927 -101.432771 \nL 288.179339 -99.065013 \nL 289.861751 -96.223649 \nL 291.544163 -92.543123 \nL 293.226575 -90.808904 \nL 294.908987 -87.085247 \nL 296.591399 -85.235113 \nL 298.273811 -81.631766 \nL 299.956223 -79.105681 \nL 301.638635 -75.843534 \nL 303.321047 -72.922625 \nL 305.003459 -69.844014 \nL 306.685872 -67.650536 \nL 308.368284 -63.943539 \nL 310.050696 -60.882587 \nL 311.733108 -57.664662 \nL 313.41552 -55.844088 \nL 315.097932 -51.314633 \nL 316.780344 -48.181524 \nL 318.462756 -46.012141 \nL 320.145168 -41.531158 \nL 321.82758 -40.098662 \nL 323.509992 -35.312957 \nL 325.192404 -32.947052 \nL 326.874816 -28.681719 \nL 328.557228 -28.15599 \nL 330.23964 -22.4908 \nL 331.922052 -20.805912 \nL 333.604465 -15.481906 \nL 335.286877 -11.66481 \nL 336.969289 -9.128982 \nL 338.651701 -5.508193 \nL 340.334113 -3.177151 \nL 342.016525 0.591624 \nL 343.698937 5.911051 \nL 345.381349 7.452813 \nL 347.063761 11.706115 \nL 348.746173 17.900662 \nL 350.428585 20.73472 \nL 352.110997 23.946316 \nL 353.793409 29.979268 \nL 355.475821 31.649652 \nL 357.158233 35.942018 \nL 358.840645 38.644225 \nL 360.523057 44.679791 \nL 362.20547 50.165662 \nL 363.887882 53.544145 \nL 365.570294 55.60183 \nL 367.252706 60.240196 \nL 368.935118 63.789066 \nL 370.61753 71.020297 \nL 372.299942 74.376358 \nL 373.982354 80.898178 \nL 375.664766 81.911079 \nL 377.347178 90.152792 \nL 379.02959 94.111059 \nL 380.712002 100.671696 \nL 382.394414 106.29013 \nL 384.076826 109.636817 \nL 385.759238 114.3364 \nL 387.44165 120.615536 \nL 389.124063 130.098296 \nL 389.124063 125.860234 \nL 389.124063 125.860234 \nL 387.44165 115.951831 \nL 385.759238 110.014613 \nL 384.076826 105.112243 \nL 382.394414 101.801046 \nL 380.712002 96.347771 \nL 379.02959 89.508075 \nL 377.347178 85.767499 \nL 375.664766 77.623767 \nL 373.982354 76.256766 \nL 372.299942 70.050467 \nL 370.61753 67.022716 \nL 368.935118 59.172602 \nL 367.252706 55.860671 \nL 365.570294 51.324541 \nL 363.887882 48.659854 \nL 362.20547 45.570454 \nL 360.523057 39.876136 \nL 358.840645 34.284595 \nL 357.158233 31.737264 \nL 355.475821 27.478034 \nL 353.793409 25.500444 \nL 352.110997 19.644683 \nL 350.428585 16.097779 \nL 348.746173 13.86475 \nL 347.063761 7.488206 \nL 345.381349 3.107234 \nL 343.698937 1.815122 \nL 342.016525 -3.431651 \nL 340.334113 -7.423745 \nL 338.651701 -9.610408 \nL 336.969289 -13.309478 \nL 335.286877 -15.686756 \nL 333.604465 -19.1917 \nL 331.922052 -24.597767 \nL 330.23964 -26.449273 \nL 328.557228 -32.020251 \nL 326.874816 -32.544954 \nL 325.192404 -36.725342 \nL 323.509992 -38.971602 \nL 321.82758 -43.615455 \nL 320.145168 -44.940033 \nL 318.462756 -49.780215 \nL 316.780344 -51.438502 \nL 315.097932 -54.709629 \nL 313.41552 -59.023575 \nL 311.733108 -60.854095 \nL 310.050696 -64.032696 \nL 308.368284 -66.93512 \nL 306.685872 -70.570284 \nL 305.003459 -72.638105 \nL 303.321047 -75.7049 \nL 301.638635 -78.670998 \nL 299.956223 -81.845803 \nL 298.273811 -84.201842 \nL 296.591399 -87.686152 \nL 294.908987 -89.402097 \nL 293.226575 -93.179416 \nL 291.544163 -94.780505 \nL 289.861751 -98.462553 \nL 288.179339 -101.296406 \nL 286.496927 -103.380282 \nL 284.814515 -106.000044 \nL 283.132103 -109.021462 \nL 281.449691 -111.209901 \nL 279.767279 -113.321237 \nL 278.084867 -115.77455 \nL 276.402454 -118.704456 \nL 274.720042 -121.814728 \nL 273.03763 -124.054661 \nL 271.355218 -126.844092 \nL 269.672806 -129.285832 \nL 267.990394 -131.298201 \nL 266.307982 -134.03383 \nL 264.62557 -136.782368 \nL 262.943158 -138.746715 \nL 261.260746 -141.715632 \nL 259.578334 -144.639272 \nL 257.895922 -146.949286 \nL 256.21351 -149.548278 \nL 254.531098 -152.077165 \nL 252.848686 -154.115126 \nL 251.166274 -156.701527 \nL 249.483861 -158.242219 \nL 247.801449 -160.063937 \nL 246.119037 -161.534518 \nL 244.436625 -162.862589 \nL 242.754213 -164.122718 \nL 241.071801 -165.618583 \nL 239.389389 -166.70362 \nL 237.706977 -167.551679 \nL 236.024565 -168.445636 \nL 234.342153 -169.25861 \nL 232.659741 -170.3242 \nL 230.977329 -171.108631 \nL 229.294917 -171.566772 \nL 227.612505 -172.056174 \nL 225.930093 -172.421606 \nL 224.247681 -172.691654 \nL 222.565269 -172.71404 \nL 220.882856 -172.609994 \nL 219.200444 -172.541499 \nL 217.518032 -172.456484 \nL 215.83562 -172.267757 \nL 214.153208 -172.089315 \nL 212.470796 -171.869279 \nL 210.788384 -171.6644 \nL 209.105972 -171.260006 \nL 207.42356 -170.801528 \nL 205.741148 -170.260962 \nL 204.058736 -169.483358 \nL 202.376324 -168.694676 \nL 200.693912 -167.735819 \nL 199.0115 -166.824643 \nL 197.329088 -165.547189 \nL 195.646676 -163.971003 \nL 193.964264 -162.097711 \nL 192.281851 -160.079008 \nL 190.599439 -157.956357 \nL 188.917027 -155.887825 \nL 187.234615 -154.003355 \nL 185.552203 -151.934749 \nL 183.869791 -149.774863 \nL 182.187379 -147.685533 \nL 180.504967 -145.66414 \nL 178.822555 -143.796169 \nL 177.140143 -141.795872 \nL 175.457731 -140.092077 \nL 173.775319 -138.215518 \nL 172.092907 -136.396631 \nL 170.410495 -134.797508 \nL 168.728083 -133.305964 \nL 167.045671 -131.237687 \nL 165.363258 -129.754689 \nL 163.680846 -127.689109 \nL 161.998434 -126.083765 \nL 160.316022 -124.797005 \nL 158.63361 -123.46006 \nL 156.951198 -121.159014 \nL 155.268786 -119.644765 \nL 153.586374 -118.161073 \nL 151.903962 -115.997302 \nL 150.22155 -114.477389 \nL 148.539138 -113.142648 \nL 146.856726 -111.813339 \nL 145.174314 -109.729631 \nL 143.491902 -107.982478 \nL 141.80949 -105.776439 \nL 140.127078 -104.974896 \nL 138.444666 -103.178088 \nL 136.762253 -101.344829 \nL 135.079841 -99.545354 \nL 133.397429 -98.516749 \nL 131.715017 -96.146475 \nL 130.032605 -94.274054 \nL 128.350193 -93.283682 \nL 126.667781 -91.432792 \nL 124.985369 -89.827135 \nL 123.302957 -87.622284 \nL 121.620545 -86.377283 \nL 119.938133 -84.677371 \nL 118.255721 -82.950539 \nL 116.573309 -81.658422 \nL 114.890897 -80.391653 \nL 113.208485 -78.117086 \nL 111.526073 -75.574805 \nL 109.84366 -74.098239 \nL 108.161248 -71.884521 \nL 106.478836 -71.325348 \nL 104.796424 -69.891568 \nL 103.114012 -66.924158 \nL 101.4316 -66.808432 \nL 99.749188 -65.029515 \nL 98.066776 -62.414974 \nL 96.384364 -61.618977 \nL 94.701952 -60.866321 \nL 93.01954 -57.75221 \nL 91.337128 -56.931858 \nL 89.654716 -54.432924 \nL 87.972304 -52.485802 \nL 86.289892 -51.394977 \nL 84.60748 -48.306332 \nL 82.925068 -47.043932 \nL 81.242655 -45.224763 \nL 79.560243 -44.372603 \nL 77.877831 -42.391925 \nL 76.195419 -40.872379 \nL 74.513007 -40.688902 \nL 72.830595 -37.239375 \nL 71.148183 -35.694275 \nL 69.465771 -34.72531 \nL 67.783359 -31.939292 \nL 66.100947 -29.923123 \nL 64.418535 -29.129372 \nL 62.736123 -26.603621 \nL 61.053711 -23.640305 \nL 59.371299 -23.859217 \nL 57.688887 -21.864596 \nL 56.006475 -20.57284 \nL 54.324062 -18.393219 \nz\n\" id=\"mf1466277d3\" style=\"stroke:#1f77b4;stroke-opacity:0.3;\"/>\n    </defs>\n    <g clip-path=\"url(#pafc659caee)\">\n     <use style=\"fill:#1f77b4;fill-opacity:0.3;stroke:#1f77b4;stroke-opacity:0.3;\" x=\"0\" xlink:href=\"#mf1466277d3\" y=\"326.234375\"/>\n    </g>\n   </g>\n   <g id=\"PolyCollection_3\">\n    <defs>\n     <path d=\"M 54.324062 -38.795815 \nL 54.324062 -18.393219 \nL 56.006475 -20.57284 \nL 57.688887 -21.864596 \nL 59.371299 -23.859217 \nL 61.053711 -23.640305 \nL 62.736123 -26.603621 \nL 64.418535 -29.129372 \nL 66.100947 -29.923123 \nL 67.783359 -31.939292 \nL 69.465771 -34.72531 \nL 71.148183 -35.694275 \nL 72.830595 -37.239375 \nL 74.513007 -40.688902 \nL 76.195419 -40.872379 \nL 77.877831 -42.391925 \nL 79.560243 -44.372603 \nL 81.242655 -45.224763 \nL 82.925068 -47.043932 \nL 84.60748 -48.306332 \nL 86.289892 -51.394977 \nL 87.972304 -52.485802 \nL 89.654716 -54.432924 \nL 91.337128 -56.931858 \nL 93.01954 -57.75221 \nL 94.701952 -60.866321 \nL 96.384364 -61.618977 \nL 98.066776 -62.414974 \nL 99.749188 -65.029515 \nL 101.4316 -66.808432 \nL 103.114012 -66.924158 \nL 104.796424 -69.891568 \nL 106.478836 -71.325348 \nL 108.161248 -71.884521 \nL 109.84366 -74.098239 \nL 111.526073 -75.574805 \nL 113.208485 -78.117086 \nL 114.890897 -80.391653 \nL 116.573309 -81.658422 \nL 118.255721 -82.950539 \nL 119.938133 -84.677371 \nL 121.620545 -86.377283 \nL 123.302957 -87.622284 \nL 124.985369 -89.827135 \nL 126.667781 -91.432792 \nL 128.350193 -93.283682 \nL 130.032605 -94.274054 \nL 131.715017 -96.146475 \nL 133.397429 -98.516749 \nL 135.079841 -99.545354 \nL 136.762253 -101.344829 \nL 138.444666 -103.178088 \nL 140.127078 -104.974896 \nL 141.80949 -105.776439 \nL 143.491902 -107.982478 \nL 145.174314 -109.729631 \nL 146.856726 -111.813339 \nL 148.539138 -113.142648 \nL 150.22155 -114.477389 \nL 151.903962 -115.997302 \nL 153.586374 -118.161073 \nL 155.268786 -119.644765 \nL 156.951198 -121.159014 \nL 158.63361 -123.46006 \nL 160.316022 -124.797005 \nL 161.998434 -126.083765 \nL 163.680846 -127.689109 \nL 165.363258 -129.754689 \nL 167.045671 -131.237687 \nL 168.728083 -133.305964 \nL 170.410495 -134.797508 \nL 172.092907 -136.396631 \nL 173.775319 -138.215518 \nL 175.457731 -140.092077 \nL 177.140143 -141.795872 \nL 178.822555 -143.796169 \nL 180.504967 -145.66414 \nL 182.187379 -147.685533 \nL 183.869791 -149.774863 \nL 185.552203 -151.934749 \nL 187.234615 -154.003355 \nL 188.917027 -155.887825 \nL 190.599439 -157.956357 \nL 192.281851 -160.079008 \nL 193.964264 -162.097711 \nL 195.646676 -163.971003 \nL 197.329088 -165.547189 \nL 199.0115 -166.824643 \nL 200.693912 -167.735819 \nL 202.376324 -168.694676 \nL 204.058736 -169.483358 \nL 205.741148 -170.260962 \nL 207.42356 -170.801528 \nL 209.105972 -171.260006 \nL 210.788384 -171.6644 \nL 212.470796 -171.869279 \nL 214.153208 -172.089315 \nL 215.83562 -172.267757 \nL 217.518032 -172.456484 \nL 219.200444 -172.541499 \nL 220.882856 -172.609994 \nL 222.565269 -172.71404 \nL 224.247681 -172.691654 \nL 225.930093 -172.421606 \nL 227.612505 -172.056174 \nL 229.294917 -171.566772 \nL 230.977329 -171.108631 \nL 232.659741 -170.3242 \nL 234.342153 -169.25861 \nL 236.024565 -168.445636 \nL 237.706977 -167.551679 \nL 239.389389 -166.70362 \nL 241.071801 -165.618583 \nL 242.754213 -164.122718 \nL 244.436625 -162.862589 \nL 246.119037 -161.534518 \nL 247.801449 -160.063937 \nL 249.483861 -158.242219 \nL 251.166274 -156.701527 \nL 252.848686 -154.115126 \nL 254.531098 -152.077165 \nL 256.21351 -149.548278 \nL 257.895922 -146.949286 \nL 259.578334 -144.639272 \nL 261.260746 -141.715632 \nL 262.943158 -138.746715 \nL 264.62557 -136.782368 \nL 266.307982 -134.03383 \nL 267.990394 -131.298201 \nL 269.672806 -129.285832 \nL 271.355218 -126.844092 \nL 273.03763 -124.054661 \nL 274.720042 -121.814728 \nL 276.402454 -118.704456 \nL 278.084867 -115.77455 \nL 279.767279 -113.321237 \nL 281.449691 -111.209901 \nL 283.132103 -109.021462 \nL 284.814515 -106.000044 \nL 286.496927 -103.380282 \nL 288.179339 -101.296406 \nL 289.861751 -98.462553 \nL 291.544163 -94.780505 \nL 293.226575 -93.179416 \nL 294.908987 -89.402097 \nL 296.591399 -87.686152 \nL 298.273811 -84.201842 \nL 299.956223 -81.845803 \nL 301.638635 -78.670998 \nL 303.321047 -75.7049 \nL 305.003459 -72.638105 \nL 306.685872 -70.570284 \nL 308.368284 -66.93512 \nL 310.050696 -64.032696 \nL 311.733108 -60.854095 \nL 313.41552 -59.023575 \nL 315.097932 -54.709629 \nL 316.780344 -51.438502 \nL 318.462756 -49.780215 \nL 320.145168 -44.940033 \nL 321.82758 -43.615455 \nL 323.509992 -38.971602 \nL 325.192404 -36.725342 \nL 326.874816 -32.544954 \nL 328.557228 -32.020251 \nL 330.23964 -26.449273 \nL 331.922052 -24.597767 \nL 333.604465 -19.1917 \nL 335.286877 -15.686756 \nL 336.969289 -13.309478 \nL 338.651701 -9.610408 \nL 340.334113 -7.423745 \nL 342.016525 -3.431651 \nL 343.698937 1.815122 \nL 345.381349 3.107234 \nL 347.063761 7.488206 \nL 348.746173 13.86475 \nL 350.428585 16.097779 \nL 352.110997 19.644683 \nL 353.793409 25.500444 \nL 355.475821 27.478034 \nL 357.158233 31.737264 \nL 358.840645 34.284595 \nL 360.523057 39.876136 \nL 362.20547 45.570454 \nL 363.887882 48.659854 \nL 365.570294 51.324541 \nL 367.252706 55.860671 \nL 368.935118 59.172602 \nL 370.61753 67.022716 \nL 372.299942 70.050467 \nL 373.982354 76.256766 \nL 375.664766 77.623767 \nL 377.347178 85.767499 \nL 379.02959 89.508075 \nL 380.712002 96.347771 \nL 382.394414 101.801046 \nL 384.076826 105.112243 \nL 385.759238 110.014613 \nL 387.44165 115.951831 \nL 389.124063 125.860234 \nL 389.124063 -142.909011 \nL 389.124063 -142.909011 \nL 387.44165 -137.526381 \nL 385.759238 -141.364808 \nL 384.076826 -140.710565 \nL 382.394414 -136.273053 \nL 380.712002 -136.28947 \nL 379.02959 -133.223247 \nL 377.347178 -134.96136 \nL 375.664766 -131.992081 \nL 373.982354 -130.893199 \nL 372.299942 -129.553209 \nL 370.61753 -130.116393 \nL 368.935118 -130.727273 \nL 367.252706 -129.45323 \nL 365.570294 -130.399849 \nL 363.887882 -128.996574 \nL 362.20547 -129.838851 \nL 360.523057 -128.672018 \nL 358.840645 -128.085099 \nL 357.158233 -128.379771 \nL 355.475821 -127.443077 \nL 353.793409 -129.567206 \nL 352.110997 -127.694347 \nL 350.428585 -128.206916 \nL 348.746173 -128.616148 \nL 347.063761 -128.756331 \nL 345.381349 -129.965691 \nL 343.698937 -129.045349 \nL 342.016525 -129.841632 \nL 340.334113 -130.755256 \nL 338.651701 -130.653074 \nL 336.969289 -131.262074 \nL 335.286877 -131.163602 \nL 333.604465 -132.612141 \nL 331.922052 -133.713 \nL 330.23964 -134.732965 \nL 328.557228 -135.003962 \nL 326.874816 -135.360752 \nL 325.192404 -136.123279 \nL 323.509992 -136.010394 \nL 321.82758 -138.43353 \nL 320.145168 -137.712952 \nL 318.462756 -140.004519 \nL 316.780344 -140.223712 \nL 315.097932 -140.869123 \nL 313.41552 -142.713406 \nL 311.733108 -143.598571 \nL 310.050696 -144.252403 \nL 308.368284 -144.644559 \nL 306.685872 -147.142019 \nL 305.003459 -147.352447 \nL 303.321047 -148.466537 \nL 301.638635 -149.759138 \nL 299.956223 -151.579633 \nL 298.273811 -152.415525 \nL 296.591399 -153.825374 \nL 294.908987 -154.568717 \nL 293.226575 -155.918063 \nL 291.544163 -156.565623 \nL 289.861751 -158.795841 \nL 288.179339 -160.018966 \nL 286.496927 -161.145927 \nL 284.814515 -162.32062 \nL 283.132103 -163.97843 \nL 281.449691 -165.295052 \nL 279.767279 -166.767734 \nL 278.084867 -167.819955 \nL 276.402454 -169.192892 \nL 274.720042 -171.259786 \nL 273.03763 -172.336057 \nL 271.355218 -174.189756 \nL 269.672806 -175.661532 \nL 267.990394 -176.661442 \nL 266.307982 -178.225125 \nL 264.62557 -179.587979 \nL 262.943158 -180.98096 \nL 261.260746 -182.913628 \nL 259.578334 -184.514218 \nL 257.895922 -186.154164 \nL 256.21351 -187.752386 \nL 254.531098 -189.347793 \nL 252.848686 -190.537966 \nL 251.166274 -192.229748 \nL 249.483861 -193.17545 \nL 247.801449 -194.340571 \nL 246.119037 -195.092684 \nL 244.436625 -195.977819 \nL 242.754213 -196.679503 \nL 241.071801 -197.629697 \nL 239.389389 -198.125018 \nL 237.706977 -198.382428 \nL 236.024565 -198.872975 \nL 234.342153 -199.017079 \nL 232.659741 -199.466671 \nL 230.977329 -199.698393 \nL 229.294917 -199.579319 \nL 227.612505 -199.616305 \nL 225.930093 -199.527277 \nL 224.247681 -199.293382 \nL 222.565269 -198.910555 \nL 220.882856 -198.374565 \nL 219.200444 -197.798507 \nL 217.518032 -197.238243 \nL 215.83562 -196.654522 \nL 214.153208 -195.955879 \nL 212.470796 -195.277033 \nL 210.788384 -194.644828 \nL 209.105972 -193.693602 \nL 207.42356 -192.743608 \nL 205.741148 -191.640942 \nL 204.058736 -190.253293 \nL 202.376324 -188.960743 \nL 200.693912 -187.414407 \nL 199.0115 -185.984609 \nL 197.329088 -184.259486 \nL 195.646676 -182.18597 \nL 193.964264 -179.882672 \nL 192.281851 -177.605588 \nL 190.599439 -175.057424 \nL 188.917027 -172.753729 \nL 187.234615 -170.535696 \nL 185.552203 -168.08438 \nL 183.869791 -165.672726 \nL 182.187379 -163.304018 \nL 180.504967 -161.030813 \nL 178.822555 -158.931833 \nL 177.140143 -156.792845 \nL 175.457731 -155.004346 \nL 173.775319 -153.00242 \nL 172.092907 -151.198323 \nL 170.410495 -149.608779 \nL 168.728083 -148.241447 \nL 167.045671 -146.056701 \nL 165.363258 -144.594759 \nL 163.680846 -142.57669 \nL 161.998434 -140.9748 \nL 160.316022 -139.706045 \nL 158.63361 -138.563648 \nL 156.951198 -136.199165 \nL 155.268786 -134.783135 \nL 153.586374 -133.246047 \nL 151.903962 -131.220417 \nL 150.22155 -129.617627 \nL 148.539138 -128.250331 \nL 146.856726 -127.019465 \nL 145.174314 -124.711566 \nL 143.491902 -123.34707 \nL 141.80949 -121.033419 \nL 140.127078 -120.329319 \nL 138.444666 -118.680698 \nL 136.762253 -116.919134 \nL 135.079841 -115.082495 \nL 133.397429 -114.304189 \nL 131.715017 -111.769792 \nL 130.032605 -110.020474 \nL 128.350193 -109.088791 \nL 126.667781 -107.271987 \nL 124.985369 -105.949148 \nL 123.302957 -103.768598 \nL 121.620545 -102.619353 \nL 119.938133 -100.716427 \nL 118.255721 -99.063825 \nL 116.573309 -98.289045 \nL 114.890897 -96.655291 \nL 113.208485 -94.668078 \nL 111.526073 -92.370015 \nL 109.84366 -90.690748 \nL 108.161248 -88.442761 \nL 106.478836 -87.951058 \nL 104.796424 -86.939734 \nL 103.114012 -83.992185 \nL 101.4316 -84.410154 \nL 99.749188 -82.473428 \nL 98.066776 -80.411655 \nL 96.384364 -79.358198 \nL 94.701952 -79.00636 \nL 93.01954 -74.634342 \nL 91.337128 -75.324247 \nL 89.654716 -72.434529 \nL 87.972304 -70.89085 \nL 86.289892 -69.922387 \nL 84.60748 -67.144604 \nL 82.925068 -65.50296 \nL 81.242655 -64.122479 \nL 79.560243 -63.314191 \nL 77.877831 -61.330834 \nL 76.195419 -60.507328 \nL 74.513007 -60.117565 \nL 72.830595 -55.804008 \nL 71.148183 -55.753722 \nL 69.465771 -54.959485 \nL 67.783359 -51.847469 \nL 66.100947 -49.462576 \nL 64.418535 -49.878617 \nL 62.736123 -46.551457 \nL 61.053711 -45.030356 \nL 59.371299 -44.485553 \nL 57.688887 -41.733286 \nL 56.006475 -42.263487 \nL 54.324062 -38.795815 \nz\n\" id=\"m0151c53c69\" style=\"stroke:#ff7f0e;stroke-opacity:0.4;\"/>\n    </defs>\n    <g clip-path=\"url(#pafc659caee)\">\n     <use style=\"fill:#ff7f0e;fill-opacity:0.4;stroke:#ff7f0e;stroke-opacity:0.4;\" x=\"0\" xlink:href=\"#m0151c53c69\" y=\"326.234375\"/>\n    </g>\n   </g>\n   <g id=\"matplotlib.axis_1\">\n    <g id=\"xtick_1\">\n     <g id=\"line2d_1\">\n      <path clip-path=\"url(#pafc659caee)\" d=\"M 87.804062 279 \nL 87.804062 7.2 \n\" style=\"fill:none;stroke:#b0b0b0;stroke-linecap:square;stroke-opacity:0.3;stroke-width:0.8;\"/>\n     </g>\n     <g id=\"line2d_2\">\n      <defs>\n       <path d=\"M 0 0 \nL 0 3.5 \n\" id=\"mded8e2748b\" style=\"stroke:#000000;stroke-width:0.8;\"/>\n      </defs>\n      <g>\n       <use style=\"stroke:#000000;stroke-width:0.8;\" x=\"87.804062\" xlink:href=\"#mded8e2748b\" y=\"279\"/>\n      </g>\n     </g>\n     <g id=\"text_1\">\n      <!-- −4 -->\n      <defs>\n       <path d=\"M 10.59375 35.5 \nL 73.1875 35.5 \nL 73.1875 27.203125 \nL 10.59375 27.203125 \nz\n\" id=\"DejaVuSans-8722\"/>\n       <path d=\"M 37.796875 64.3125 \nL 12.890625 25.390625 \nL 37.796875 25.390625 \nz\nM 35.203125 72.90625 \nL 47.609375 72.90625 \nL 47.609375 25.390625 \nL 58.015625 25.390625 \nL 58.015625 17.1875 \nL 47.609375 17.1875 \nL 47.609375 0 \nL 37.796875 0 \nL 37.796875 17.1875 \nL 4.890625 17.1875 \nL 4.890625 26.703125 \nz\n\" id=\"DejaVuSans-52\"/>\n      </defs>\n      <g transform=\"translate(77.484531 296.637812)scale(0.14 -0.14)\">\n       <use xlink:href=\"#DejaVuSans-8722\"/>\n       <use x=\"83.789062\" xlink:href=\"#DejaVuSans-52\"/>\n      </g>\n     </g>\n    </g>\n    <g id=\"xtick_2\">\n     <g id=\"line2d_3\">\n      <path clip-path=\"url(#pafc659caee)\" d=\"M 154.764062 279 \nL 154.764062 7.2 \n\" style=\"fill:none;stroke:#b0b0b0;stroke-linecap:square;stroke-opacity:0.3;stroke-width:0.8;\"/>\n     </g>\n     <g id=\"line2d_4\">\n      <g>\n       <use style=\"stroke:#000000;stroke-width:0.8;\" x=\"154.764062\" xlink:href=\"#mded8e2748b\" y=\"279\"/>\n      </g>\n     </g>\n     <g id=\"text_2\">\n      <!-- −2 -->\n      <defs>\n       <path d=\"M 19.1875 8.296875 \nL 53.609375 8.296875 \nL 53.609375 0 \nL 7.328125 0 \nL 7.328125 8.296875 \nQ 12.9375 14.109375 22.625 23.890625 \nQ 32.328125 33.6875 34.8125 36.53125 \nQ 39.546875 41.84375 41.421875 45.53125 \nQ 43.3125 49.21875 43.3125 52.78125 \nQ 43.3125 58.59375 39.234375 62.25 \nQ 35.15625 65.921875 28.609375 65.921875 \nQ 23.96875 65.921875 18.8125 64.3125 \nQ 13.671875 62.703125 7.8125 59.421875 \nL 7.8125 69.390625 \nQ 13.765625 71.78125 18.9375 73 \nQ 24.125 74.21875 28.421875 74.21875 \nQ 39.75 74.21875 46.484375 68.546875 \nQ 53.21875 62.890625 53.21875 53.421875 \nQ 53.21875 48.921875 51.53125 44.890625 \nQ 49.859375 40.875 45.40625 35.40625 \nQ 44.1875 33.984375 37.640625 27.21875 \nQ 31.109375 20.453125 19.1875 8.296875 \nz\n\" id=\"DejaVuSans-50\"/>\n      </defs>\n      <g transform=\"translate(144.444531 296.637812)scale(0.14 -0.14)\">\n       <use xlink:href=\"#DejaVuSans-8722\"/>\n       <use x=\"83.789062\" xlink:href=\"#DejaVuSans-50\"/>\n      </g>\n     </g>\n    </g>\n    <g id=\"xtick_3\">\n     <g id=\"line2d_5\">\n      <path clip-path=\"url(#pafc659caee)\" d=\"M 221.724063 279 \nL 221.724063 7.2 \n\" style=\"fill:none;stroke:#b0b0b0;stroke-linecap:square;stroke-opacity:0.3;stroke-width:0.8;\"/>\n     </g>\n     <g id=\"line2d_6\">\n      <g>\n       <use style=\"stroke:#000000;stroke-width:0.8;\" x=\"221.724063\" xlink:href=\"#mded8e2748b\" y=\"279\"/>\n      </g>\n     </g>\n     <g id=\"text_3\">\n      <!-- 0 -->\n      <defs>\n       <path d=\"M 31.78125 66.40625 \nQ 24.171875 66.40625 20.328125 58.90625 \nQ 16.5 51.421875 16.5 36.375 \nQ 16.5 21.390625 20.328125 13.890625 \nQ 24.171875 6.390625 31.78125 6.390625 \nQ 39.453125 6.390625 43.28125 13.890625 \nQ 47.125 21.390625 47.125 36.375 \nQ 47.125 51.421875 43.28125 58.90625 \nQ 39.453125 66.40625 31.78125 66.40625 \nz\nM 31.78125 74.21875 \nQ 44.046875 74.21875 50.515625 64.515625 \nQ 56.984375 54.828125 56.984375 36.375 \nQ 56.984375 17.96875 50.515625 8.265625 \nQ 44.046875 -1.421875 31.78125 -1.421875 \nQ 19.53125 -1.421875 13.0625 8.265625 \nQ 6.59375 17.96875 6.59375 36.375 \nQ 6.59375 54.828125 13.0625 64.515625 \nQ 19.53125 74.21875 31.78125 74.21875 \nz\n\" id=\"DejaVuSans-48\"/>\n      </defs>\n      <g transform=\"translate(217.270312 296.637812)scale(0.14 -0.14)\">\n       <use xlink:href=\"#DejaVuSans-48\"/>\n      </g>\n     </g>\n    </g>\n    <g id=\"xtick_4\">\n     <g id=\"line2d_7\">\n      <path clip-path=\"url(#pafc659caee)\" d=\"M 288.684062 279 \nL 288.684062 7.2 \n\" style=\"fill:none;stroke:#b0b0b0;stroke-linecap:square;stroke-opacity:0.3;stroke-width:0.8;\"/>\n     </g>\n     <g id=\"line2d_8\">\n      <g>\n       <use style=\"stroke:#000000;stroke-width:0.8;\" x=\"288.684062\" xlink:href=\"#mded8e2748b\" y=\"279\"/>\n      </g>\n     </g>\n     <g id=\"text_4\">\n      <!-- 2 -->\n      <g transform=\"translate(284.230312 296.637812)scale(0.14 -0.14)\">\n       <use xlink:href=\"#DejaVuSans-50\"/>\n      </g>\n     </g>\n    </g>\n    <g id=\"xtick_5\">\n     <g id=\"line2d_9\">\n      <path clip-path=\"url(#pafc659caee)\" d=\"M 355.644063 279 \nL 355.644063 7.2 \n\" style=\"fill:none;stroke:#b0b0b0;stroke-linecap:square;stroke-opacity:0.3;stroke-width:0.8;\"/>\n     </g>\n     <g id=\"line2d_10\">\n      <g>\n       <use style=\"stroke:#000000;stroke-width:0.8;\" x=\"355.644063\" xlink:href=\"#mded8e2748b\" y=\"279\"/>\n      </g>\n     </g>\n     <g id=\"text_5\">\n      <!-- 4 -->\n      <g transform=\"translate(351.190313 296.637812)scale(0.14 -0.14)\">\n       <use xlink:href=\"#DejaVuSans-52\"/>\n      </g>\n     </g>\n    </g>\n    <g id=\"text_6\">\n     <!-- $x$ -->\n     <defs>\n      <path d=\"M 60.015625 54.6875 \nL 34.90625 27.875 \nL 50.296875 0 \nL 39.984375 0 \nL 28.421875 21.6875 \nL 8.296875 0 \nL -2.59375 0 \nL 24.3125 28.8125 \nL 10.015625 54.6875 \nL 20.3125 54.6875 \nL 30.8125 34.90625 \nL 49.125 54.6875 \nz\n\" id=\"DejaVuSans-Oblique-120\"/>\n     </defs>\n     <g transform=\"translate(216.924062 315.706875)scale(0.16 -0.16)\">\n      <use transform=\"translate(0 0.3125)\" xlink:href=\"#DejaVuSans-Oblique-120\"/>\n     </g>\n    </g>\n   </g>\n   <g id=\"matplotlib.axis_2\">\n    <g id=\"ytick_1\">\n     <g id=\"line2d_11\">\n      <path clip-path=\"url(#pafc659caee)\" d=\"M 54.324063 256.35 \nL 389.124063 256.35 \n\" style=\"fill:none;stroke:#b0b0b0;stroke-linecap:square;stroke-opacity:0.3;stroke-width:0.8;\"/>\n     </g>\n     <g id=\"line2d_12\">\n      <defs>\n       <path d=\"M 0 0 \nL -3.5 0 \n\" id=\"m80a52e3293\" style=\"stroke:#000000;stroke-width:0.8;\"/>\n      </defs>\n      <g>\n       <use style=\"stroke:#000000;stroke-width:0.8;\" x=\"54.324063\" xlink:href=\"#m80a52e3293\" y=\"256.35\"/>\n      </g>\n     </g>\n     <g id=\"text_7\">\n      <!-- −4 -->\n      <g transform=\"translate(26.685 261.668906)scale(0.14 -0.14)\">\n       <use xlink:href=\"#DejaVuSans-8722\"/>\n       <use x=\"83.789062\" xlink:href=\"#DejaVuSans-52\"/>\n      </g>\n     </g>\n    </g>\n    <g id=\"ytick_2\">\n     <g id=\"line2d_13\">\n      <path clip-path=\"url(#pafc659caee)\" d=\"M 54.324063 211.05 \nL 389.124063 211.05 \n\" style=\"fill:none;stroke:#b0b0b0;stroke-linecap:square;stroke-opacity:0.3;stroke-width:0.8;\"/>\n     </g>\n     <g id=\"line2d_14\">\n      <g>\n       <use style=\"stroke:#000000;stroke-width:0.8;\" x=\"54.324063\" xlink:href=\"#m80a52e3293\" y=\"211.05\"/>\n      </g>\n     </g>\n     <g id=\"text_8\">\n      <!-- −2 -->\n      <g transform=\"translate(26.685 216.368906)scale(0.14 -0.14)\">\n       <use xlink:href=\"#DejaVuSans-8722\"/>\n       <use x=\"83.789062\" xlink:href=\"#DejaVuSans-50\"/>\n      </g>\n     </g>\n    </g>\n    <g id=\"ytick_3\">\n     <g id=\"line2d_15\">\n      <path clip-path=\"url(#pafc659caee)\" d=\"M 54.324063 165.75 \nL 389.124063 165.75 \n\" style=\"fill:none;stroke:#b0b0b0;stroke-linecap:square;stroke-opacity:0.3;stroke-width:0.8;\"/>\n     </g>\n     <g id=\"line2d_16\">\n      <g>\n       <use style=\"stroke:#000000;stroke-width:0.8;\" x=\"54.324063\" xlink:href=\"#m80a52e3293\" y=\"165.75\"/>\n      </g>\n     </g>\n     <g id=\"text_9\">\n      <!-- 0 -->\n      <g transform=\"translate(38.416563 171.068906)scale(0.14 -0.14)\">\n       <use xlink:href=\"#DejaVuSans-48\"/>\n      </g>\n     </g>\n    </g>\n    <g id=\"ytick_4\">\n     <g id=\"line2d_17\">\n      <path clip-path=\"url(#pafc659caee)\" d=\"M 54.324063 120.45 \nL 389.124063 120.45 \n\" style=\"fill:none;stroke:#b0b0b0;stroke-linecap:square;stroke-opacity:0.3;stroke-width:0.8;\"/>\n     </g>\n     <g id=\"line2d_18\">\n      <g>\n       <use style=\"stroke:#000000;stroke-width:0.8;\" x=\"54.324063\" xlink:href=\"#m80a52e3293\" y=\"120.45\"/>\n      </g>\n     </g>\n     <g id=\"text_10\">\n      <!-- 2 -->\n      <g transform=\"translate(38.416563 125.768906)scale(0.14 -0.14)\">\n       <use xlink:href=\"#DejaVuSans-50\"/>\n      </g>\n     </g>\n    </g>\n    <g id=\"ytick_5\">\n     <g id=\"line2d_19\">\n      <path clip-path=\"url(#pafc659caee)\" d=\"M 54.324063 75.15 \nL 389.124063 75.15 \n\" style=\"fill:none;stroke:#b0b0b0;stroke-linecap:square;stroke-opacity:0.3;stroke-width:0.8;\"/>\n     </g>\n     <g id=\"line2d_20\">\n      <g>\n       <use style=\"stroke:#000000;stroke-width:0.8;\" x=\"54.324063\" xlink:href=\"#m80a52e3293\" y=\"75.15\"/>\n      </g>\n     </g>\n     <g id=\"text_11\">\n      <!-- 4 -->\n      <g transform=\"translate(38.416563 80.468906)scale(0.14 -0.14)\">\n       <use xlink:href=\"#DejaVuSans-52\"/>\n      </g>\n     </g>\n    </g>\n    <g id=\"ytick_6\">\n     <g id=\"line2d_21\">\n      <path clip-path=\"url(#pafc659caee)\" d=\"M 54.324063 29.85 \nL 389.124063 29.85 \n\" style=\"fill:none;stroke:#b0b0b0;stroke-linecap:square;stroke-opacity:0.3;stroke-width:0.8;\"/>\n     </g>\n     <g id=\"line2d_22\">\n      <g>\n       <use style=\"stroke:#000000;stroke-width:0.8;\" x=\"54.324063\" xlink:href=\"#m80a52e3293\" y=\"29.85\"/>\n      </g>\n     </g>\n     <g id=\"text_12\">\n      <!-- 6 -->\n      <defs>\n       <path d=\"M 33.015625 40.375 \nQ 26.375 40.375 22.484375 35.828125 \nQ 18.609375 31.296875 18.609375 23.390625 \nQ 18.609375 15.53125 22.484375 10.953125 \nQ 26.375 6.390625 33.015625 6.390625 \nQ 39.65625 6.390625 43.53125 10.953125 \nQ 47.40625 15.53125 47.40625 23.390625 \nQ 47.40625 31.296875 43.53125 35.828125 \nQ 39.65625 40.375 33.015625 40.375 \nz\nM 52.59375 71.296875 \nL 52.59375 62.3125 \nQ 48.875 64.0625 45.09375 64.984375 \nQ 41.3125 65.921875 37.59375 65.921875 \nQ 27.828125 65.921875 22.671875 59.328125 \nQ 17.53125 52.734375 16.796875 39.40625 \nQ 19.671875 43.65625 24.015625 45.921875 \nQ 28.375 48.1875 33.59375 48.1875 \nQ 44.578125 48.1875 50.953125 41.515625 \nQ 57.328125 34.859375 57.328125 23.390625 \nQ 57.328125 12.15625 50.6875 5.359375 \nQ 44.046875 -1.421875 33.015625 -1.421875 \nQ 20.359375 -1.421875 13.671875 8.265625 \nQ 6.984375 17.96875 6.984375 36.375 \nQ 6.984375 53.65625 15.1875 63.9375 \nQ 23.390625 74.21875 37.203125 74.21875 \nQ 40.921875 74.21875 44.703125 73.484375 \nQ 48.484375 72.75 52.59375 71.296875 \nz\n\" id=\"DejaVuSans-54\"/>\n      </defs>\n      <g transform=\"translate(38.416563 35.168906)scale(0.14 -0.14)\">\n       <use xlink:href=\"#DejaVuSans-54\"/>\n      </g>\n     </g>\n    </g>\n    <g id=\"text_13\">\n     <!-- $y$ -->\n     <defs>\n      <path d=\"M 24.8125 -5.078125 \nQ 18.5625 -15.578125 14.625 -18.1875 \nQ 10.6875 -20.796875 4.59375 -20.796875 \nL -2.484375 -20.796875 \nL -0.984375 -13.28125 \nL 4.203125 -13.28125 \nQ 7.953125 -13.28125 10.59375 -11.234375 \nQ 13.234375 -9.1875 16.5 -3.21875 \nL 19.28125 2 \nL 7.171875 54.6875 \nL 16.703125 54.6875 \nL 25.78125 12.796875 \nL 50.875 54.6875 \nL 60.296875 54.6875 \nz\n\" id=\"DejaVuSans-Oblique-121\"/>\n     </defs>\n     <g transform=\"translate(19.325 147.9)rotate(-90)scale(0.16 -0.16)\">\n      <use transform=\"translate(0 0.3125)\" xlink:href=\"#DejaVuSans-Oblique-121\"/>\n     </g>\n    </g>\n   </g>\n   <g id=\"line2d_23\">\n    <path clip-path=\"url(#pafc659caee)\" d=\"M 54.324062 297.639858 \nL 56.006475 294.816212 \nL 57.688887 294.435434 \nL 59.371299 292.06199 \nL 61.053711 291.899045 \nL 62.736123 289.656836 \nL 64.418535 286.73038 \nL 66.100947 286.541525 \nL 67.783359 284.340995 \nL 69.465771 281.391978 \nL 72.830595 279.712683 \nL 74.513007 275.831141 \nL 76.195419 275.544521 \nL 77.877831 274.372995 \nL 79.560243 272.390978 \nL 81.242655 271.560754 \nL 84.60748 268.508907 \nL 86.289892 265.575691 \nL 87.972304 264.546049 \nL 89.654716 262.800646 \nL 91.337128 260.106323 \nL 93.01954 260.041099 \nL 94.701952 256.298034 \nL 96.384364 255.74579 \nL 98.066776 254.821058 \nL 99.749188 252.482904 \nL 101.4316 250.625079 \nL 103.114012 250.776203 \nL 104.796424 247.818724 \nL 106.478836 246.596172 \nL 108.161248 246.070734 \nL 109.84366 243.839882 \nL 111.526073 242.261965 \nL 113.208485 239.841793 \nL 114.890897 237.710903 \nL 116.573309 236.260642 \nL 118.255721 235.227193 \nL 121.620545 231.736057 \nL 123.302957 230.538934 \nL 124.985369 228.346234 \nL 126.667781 226.881986 \nL 128.350193 225.048138 \nL 130.032605 224.087111 \nL 131.715017 222.276241 \nL 133.397429 219.823906 \nL 135.079841 218.92045 \nL 140.127078 213.582269 \nL 141.80949 212.829446 \nL 143.491902 210.5696 \nL 145.174314 209.013775 \nL 146.856726 206.817973 \nL 150.22155 204.186867 \nL 151.903962 202.625515 \nL 153.586374 200.530815 \nL 156.951198 197.555286 \nL 158.63361 195.222521 \nL 161.998434 192.705092 \nL 163.680846 191.101476 \nL 165.363258 189.059651 \nL 167.045671 187.587181 \nL 168.728083 185.460669 \nL 170.410495 184.031232 \nL 172.092907 182.436899 \nL 177.140143 176.940016 \nL 183.869791 168.510581 \nL 187.234615 163.96485 \nL 190.599439 159.727485 \nL 193.964264 155.244184 \nL 195.646676 153.155889 \nL 197.329088 151.331037 \nL 199.0115 149.829749 \nL 204.058736 146.36605 \nL 205.741148 145.283423 \nL 209.105972 143.757571 \nL 210.788384 143.07976 \nL 219.200444 141.064372 \nL 222.565269 140.422077 \nL 224.247681 140.241857 \nL 225.930093 140.259934 \nL 227.612505 140.398136 \nL 230.977329 140.830863 \nL 232.659741 141.338939 \nL 234.342153 142.09653 \nL 236.024565 142.57507 \nL 237.706977 143.267321 \nL 239.389389 143.820056 \nL 241.071801 144.610235 \nL 242.754213 145.833264 \nL 246.119037 147.920774 \nL 247.801449 149.03212 \nL 249.483861 150.525542 \nL 251.166274 151.768737 \nL 252.848686 153.907829 \nL 254.531098 155.521896 \nL 261.260746 163.919745 \nL 262.943158 166.370538 \nL 264.62557 168.049202 \nL 267.990394 172.254554 \nL 269.672806 173.760693 \nL 271.355218 175.717451 \nL 273.03763 178.039016 \nL 274.720042 179.697119 \nL 276.402454 182.285701 \nL 278.084867 184.437122 \nL 283.132103 189.734428 \nL 284.814515 192.074043 \nL 286.496927 193.971269 \nL 288.179339 195.576689 \nL 289.861751 197.605178 \nL 291.544163 200.561313 \nL 293.226575 201.685636 \nL 294.908987 204.248966 \nL 296.591399 205.478612 \nL 298.273811 207.925693 \nL 299.956223 209.521657 \nL 301.638635 212.019305 \nL 305.003459 216.239099 \nL 306.685872 217.378223 \nL 308.368284 220.444533 \nL 310.050696 222.091825 \nL 311.733108 224.008042 \nL 313.41552 225.365885 \nL 315.097932 228.444998 \nL 316.780344 230.403265 \nL 318.462756 231.342011 \nL 320.145168 234.90788 \nL 321.82758 235.20988 \nL 323.509992 238.743375 \nL 325.192404 239.810062 \nL 326.874816 242.281519 \nL 328.557228 242.722271 \nL 330.23964 245.643256 \nL 331.922052 247.078991 \nL 333.604465 250.332454 \nL 335.286877 252.809199 \nL 336.969289 253.948599 \nL 338.651701 256.102634 \nL 340.334113 257.144874 \nL 342.016525 259.597734 \nL 343.698937 262.619264 \nL 345.381349 262.805149 \nL 347.063761 265.600315 \nL 348.746173 268.858676 \nL 350.428585 270.179809 \nL 355.475821 276.251848 \nL 357.158233 277.913127 \nL 358.840645 279.33412 \nL 360.523057 281.836434 \nL 362.20547 284.100179 \nL 363.887882 286.066018 \nL 365.570294 286.696727 \nL 367.252706 289.438096 \nL 368.935118 290.457045 \nL 370.61753 294.687536 \nL 372.299942 296.482999 \nL 373.982354 298.916158 \nL 375.664766 299.050223 \nL 379.02959 304.376789 \nL 380.712002 306.263526 \nL 382.394414 308.998372 \nL 384.076826 308.435208 \nL 385.759238 310.559272 \nL 387.44165 315.447095 \nL 389.124063 317.709987 \nL 389.124063 317.709987 \n\" style=\"fill:none;stroke:#000000;stroke-linecap:square;\"/>\n   </g>\n   <g id=\"patch_3\">\n    <path d=\"M 54.324063 279 \nL 54.324063 7.2 \n\" style=\"fill:none;stroke:#000000;stroke-linecap:square;stroke-linejoin:miter;stroke-width:0.8;\"/>\n   </g>\n   <g id=\"patch_4\">\n    <path d=\"M 389.124063 279 \nL 389.124063 7.2 \n\" style=\"fill:none;stroke:#000000;stroke-linecap:square;stroke-linejoin:miter;stroke-width:0.8;\"/>\n   </g>\n   <g id=\"patch_5\">\n    <path d=\"M 54.324062 279 \nL 389.124063 279 \n\" style=\"fill:none;stroke:#000000;stroke-linecap:square;stroke-linejoin:miter;stroke-width:0.8;\"/>\n   </g>\n   <g id=\"patch_6\">\n    <path d=\"M 54.324062 7.2 \nL 389.124063 7.2 \n\" style=\"fill:none;stroke:#000000;stroke-linecap:square;stroke-linejoin:miter;stroke-width:0.8;\"/>\n   </g>\n  </g>\n </g>\n <defs>\n  <clipPath id=\"pafc659caee\">\n   <rect height=\"271.8\" width=\"334.8\" x=\"54.324063\" y=\"7.2\"/>\n  </clipPath>\n </defs>\n</svg>\n"
          },
          "metadata": {
            "tags": [],
            "needs_background": "light"
          }
        }
      ]
    }
  ]
}